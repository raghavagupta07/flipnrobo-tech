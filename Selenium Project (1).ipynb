{
 "cells": [
  {
   "cell_type": "markdown",
   "id": "d98783e9",
   "metadata": {},
   "source": [
    "#                                   WEB SCRAPING ASSIGNMENT-2"
   ]
  },
  {
   "cell_type": "markdown",
   "id": "5cfda053",
   "metadata": {},
   "source": [
    "# Q1: Write a python program to scrape data for “Data Analyst” Job position in“Bangalore” location. You have to scrape the job-title, job-location, company_name,experience_required. You have to scrape first 10 jobs data."
   ]
  },
  {
   "cell_type": "markdown",
   "id": "2e3d8e88",
   "metadata": {},
   "source": [
    "### now i will do dowload the webdriver for the web browser"
   ]
  },
  {
   "cell_type": "code",
   "execution_count": 44,
   "id": "d0d6abf8",
   "metadata": {},
   "outputs": [],
   "source": [
    "#lets now import all required libraries \n",
    "import selenium\n",
    "import pandas as pd\n",
    "from selenium import webdriver"
   ]
  },
  {
   "cell_type": "code",
   "execution_count": 45,
   "id": "320f3af2",
   "metadata": {},
   "outputs": [],
   "source": [
    "#lets first connect to the webdriver\n",
    "driver = webdriver.Chrome('chromedriver.exe')"
   ]
  },
  {
   "cell_type": "code",
   "execution_count": 47,
   "id": "2134ef8c",
   "metadata": {},
   "outputs": [],
   "source": [
    "url = 'https://www.naukri.com/'\n",
    "driver.get(url)"
   ]
  },
  {
   "cell_type": "code",
   "execution_count": 59,
   "id": "53f449f5",
   "metadata": {},
   "outputs": [],
   "source": [
    "#finding job title\n",
    "search_job = driver.find_element_by_id(\"qsb-keyword-sugg\")"
   ]
  },
  {
   "cell_type": "code",
   "execution_count": 60,
   "id": "4d973194",
   "metadata": {},
   "outputs": [
    {
     "data": {
      "text/plain": [
       "<selenium.webdriver.remote.webelement.WebElement (session=\"b13f5f90c877def812a67a6b77a0c503\", element=\"b9e56d41-eaab-4a1b-a4af-fbe231b5ddba\")>"
      ]
     },
     "execution_count": 60,
     "metadata": {},
     "output_type": "execute_result"
    }
   ],
   "source": [
    "search_job"
   ]
  },
  {
   "cell_type": "code",
   "execution_count": 61,
   "id": "849efd01",
   "metadata": {},
   "outputs": [],
   "source": [
    "#write on search for\n",
    "search_job.send_keys('Data Analyst')"
   ]
  },
  {
   "cell_type": "code",
   "execution_count": 62,
   "id": "6bb1dbee",
   "metadata": {},
   "outputs": [],
   "source": [
    "#finding element for job location\n",
    "search_loc = driver.find_element_by_name('location')\n",
    "search_loc.send_keys('Bangalore')"
   ]
  },
  {
   "cell_type": "code",
   "execution_count": 63,
   "id": "3bf36ec4",
   "metadata": {},
   "outputs": [
    {
     "data": {
      "text/plain": [
       "<selenium.webdriver.remote.webelement.WebElement (session=\"b13f5f90c877def812a67a6b77a0c503\", element=\"61003923-36dc-4f60-b5e7-2f648c0bfdc5\")>"
      ]
     },
     "execution_count": 63,
     "metadata": {},
     "output_type": "execute_result"
    }
   ],
   "source": [
    "#using xpath function\n",
    "search_btn = driver.find_element_by_xpath('//button[@class=\"btn\"]')\n",
    "search_btn"
   ]
  },
  {
   "cell_type": "code",
   "execution_count": 64,
   "id": "098564b1",
   "metadata": {},
   "outputs": [],
   "source": [
    "search_btn.click()"
   ]
  },
  {
   "cell_type": "code",
   "execution_count": 65,
   "id": "2a7ea4cc",
   "metadata": {},
   "outputs": [
    {
     "data": {
      "text/plain": [
       "[<selenium.webdriver.remote.webelement.WebElement (session=\"b13f5f90c877def812a67a6b77a0c503\", element=\"d6368d50-a36f-4d40-9d8e-7547adf4db70\")>,\n",
       " <selenium.webdriver.remote.webelement.WebElement (session=\"b13f5f90c877def812a67a6b77a0c503\", element=\"2b488ec6-f11c-41ed-9bee-23ef9c954b87\")>,\n",
       " <selenium.webdriver.remote.webelement.WebElement (session=\"b13f5f90c877def812a67a6b77a0c503\", element=\"0e647f10-85d3-4733-b8b8-f98c4ef6e345\")>,\n",
       " <selenium.webdriver.remote.webelement.WebElement (session=\"b13f5f90c877def812a67a6b77a0c503\", element=\"1c6f9b7b-b618-4e7c-9d3d-515b44055f33\")>,\n",
       " <selenium.webdriver.remote.webelement.WebElement (session=\"b13f5f90c877def812a67a6b77a0c503\", element=\"2dccd95c-278c-49ac-b5d9-c7ecb19d7321\")>,\n",
       " <selenium.webdriver.remote.webelement.WebElement (session=\"b13f5f90c877def812a67a6b77a0c503\", element=\"9b4ee6d9-6370-4e9e-b9c0-26f1c327f9ce\")>,\n",
       " <selenium.webdriver.remote.webelement.WebElement (session=\"b13f5f90c877def812a67a6b77a0c503\", element=\"869e8636-dfd8-4848-80e0-c8a1bba8a3ae\")>,\n",
       " <selenium.webdriver.remote.webelement.WebElement (session=\"b13f5f90c877def812a67a6b77a0c503\", element=\"91ffb8c2-f13b-4c44-bf8e-db94a9fdffdc\")>,\n",
       " <selenium.webdriver.remote.webelement.WebElement (session=\"b13f5f90c877def812a67a6b77a0c503\", element=\"6d262b9f-dd95-4c2f-9fab-143318c276f2\")>,\n",
       " <selenium.webdriver.remote.webelement.WebElement (session=\"b13f5f90c877def812a67a6b77a0c503\", element=\"ae81339d-2e9b-478c-ac68-524dec166712\")>,\n",
       " <selenium.webdriver.remote.webelement.WebElement (session=\"b13f5f90c877def812a67a6b77a0c503\", element=\"e37e7d74-37b8-4b5b-88a7-ad4ca4934e17\")>,\n",
       " <selenium.webdriver.remote.webelement.WebElement (session=\"b13f5f90c877def812a67a6b77a0c503\", element=\"04b505c5-ac25-4e4b-a4a8-4816b122bcf5\")>,\n",
       " <selenium.webdriver.remote.webelement.WebElement (session=\"b13f5f90c877def812a67a6b77a0c503\", element=\"b7c3b6d4-c319-43a5-b713-32bc72014788\")>,\n",
       " <selenium.webdriver.remote.webelement.WebElement (session=\"b13f5f90c877def812a67a6b77a0c503\", element=\"bb78edfc-1e33-4f33-acf6-a1a6ae1d0f4d\")>,\n",
       " <selenium.webdriver.remote.webelement.WebElement (session=\"b13f5f90c877def812a67a6b77a0c503\", element=\"e4fd5146-4a0b-46b1-90f9-33467cea853d\")>,\n",
       " <selenium.webdriver.remote.webelement.WebElement (session=\"b13f5f90c877def812a67a6b77a0c503\", element=\"252897c9-b2b2-4f15-ab02-0098a3996be5\")>,\n",
       " <selenium.webdriver.remote.webelement.WebElement (session=\"b13f5f90c877def812a67a6b77a0c503\", element=\"83798f2d-8193-4ad3-b7c0-0bd79163468a\")>,\n",
       " <selenium.webdriver.remote.webelement.WebElement (session=\"b13f5f90c877def812a67a6b77a0c503\", element=\"2b85e921-fb73-416e-a52c-7b977a6c43e6\")>,\n",
       " <selenium.webdriver.remote.webelement.WebElement (session=\"b13f5f90c877def812a67a6b77a0c503\", element=\"a0f18a99-2823-48ef-92a2-5d0b8b2b1861\")>,\n",
       " <selenium.webdriver.remote.webelement.WebElement (session=\"b13f5f90c877def812a67a6b77a0c503\", element=\"35c6fc71-240f-4c64-a36a-149abcbc6567\")>]"
      ]
     },
     "execution_count": 65,
     "metadata": {},
     "output_type": "execute_result"
    }
   ],
   "source": [
    "#now extract all the tags having the job titles\n",
    "title_tags=driver.find_elements_by_xpath('//a[@class=\"title fw500 ellipsis\"]')\n",
    "title_tags"
   ]
  },
  {
   "cell_type": "code",
   "execution_count": 66,
   "id": "d4d50974",
   "metadata": {},
   "outputs": [
    {
     "data": {
      "text/plain": [
       "['Senior Data Analyst - SQL/Tableau/Redshift',\n",
       " 'Hiring Business data analyst with Strong SQL Skills',\n",
       " 'Senior Data Analyst',\n",
       " 'Senior Data Analyst',\n",
       " 'Data Analyst - Work from Home',\n",
       " 'Data Analyst',\n",
       " 'Sr. Data Analyst DW BI- Immediate Joiners',\n",
       " 'Data Analyst- Azure',\n",
       " 'Senior Data Analyst',\n",
       " 'Business Data Analyst',\n",
       " 'Data Analyst/Scientist',\n",
       " 'Hot Vacancies - Senior Data Analyst, Bengaluru',\n",
       " 'Data Analyst',\n",
       " 'Data Analyst',\n",
       " 'Data Analyst - Python SQL',\n",
       " 'Associate System and Data Analyst',\n",
       " 'Data Analyst',\n",
       " 'Data Analyst I',\n",
       " 'Marketing Data Analyst',\n",
       " 'Data Analyst']"
      ]
     },
     "execution_count": 66,
     "metadata": {},
     "output_type": "execute_result"
    }
   ],
   "source": [
    "job_titles = []\n",
    "for i in title_tags:\n",
    "    job_titles.append(i.text)\n",
    "job_titles"
   ]
  },
  {
   "cell_type": "code",
   "execution_count": 69,
   "id": "543b21c3",
   "metadata": {},
   "outputs": [
    {
     "data": {
      "text/plain": [
       "[<selenium.webdriver.remote.webelement.WebElement (session=\"b13f5f90c877def812a67a6b77a0c503\", element=\"2bef34c9-00f6-4dc8-9fc8-e1daf798f0d2\")>,\n",
       " <selenium.webdriver.remote.webelement.WebElement (session=\"b13f5f90c877def812a67a6b77a0c503\", element=\"a0ea92d1-65eb-4501-834c-9e81d1d1a8b2\")>,\n",
       " <selenium.webdriver.remote.webelement.WebElement (session=\"b13f5f90c877def812a67a6b77a0c503\", element=\"ededb713-8f3e-4143-a08b-228a206401d5\")>,\n",
       " <selenium.webdriver.remote.webelement.WebElement (session=\"b13f5f90c877def812a67a6b77a0c503\", element=\"7b20fa3e-f65a-4f73-9e4c-c4e4e6befd85\")>,\n",
       " <selenium.webdriver.remote.webelement.WebElement (session=\"b13f5f90c877def812a67a6b77a0c503\", element=\"d625fde1-2610-46fa-80d9-a59b2f6e31aa\")>,\n",
       " <selenium.webdriver.remote.webelement.WebElement (session=\"b13f5f90c877def812a67a6b77a0c503\", element=\"46ef08a9-fa5f-4066-8da4-9d5e7a7fbd13\")>,\n",
       " <selenium.webdriver.remote.webelement.WebElement (session=\"b13f5f90c877def812a67a6b77a0c503\", element=\"a5abdb29-0ca6-466d-a105-20c751d0a553\")>,\n",
       " <selenium.webdriver.remote.webelement.WebElement (session=\"b13f5f90c877def812a67a6b77a0c503\", element=\"786fdd71-1118-49f8-a0c0-438803e968d2\")>,\n",
       " <selenium.webdriver.remote.webelement.WebElement (session=\"b13f5f90c877def812a67a6b77a0c503\", element=\"a4762c39-6888-4176-b11c-29cd7eea992b\")>,\n",
       " <selenium.webdriver.remote.webelement.WebElement (session=\"b13f5f90c877def812a67a6b77a0c503\", element=\"d495f954-3711-4816-9c9d-80c6b5e2cee6\")>,\n",
       " <selenium.webdriver.remote.webelement.WebElement (session=\"b13f5f90c877def812a67a6b77a0c503\", element=\"458e0d40-605c-45c0-a74a-972796ba5820\")>,\n",
       " <selenium.webdriver.remote.webelement.WebElement (session=\"b13f5f90c877def812a67a6b77a0c503\", element=\"f39e49dc-86c4-4786-8576-8a80419abb21\")>,\n",
       " <selenium.webdriver.remote.webelement.WebElement (session=\"b13f5f90c877def812a67a6b77a0c503\", element=\"984dbe71-a206-4008-aa30-4019614204c6\")>,\n",
       " <selenium.webdriver.remote.webelement.WebElement (session=\"b13f5f90c877def812a67a6b77a0c503\", element=\"8c72beb1-24f8-4ddb-95cd-920777f1c69c\")>,\n",
       " <selenium.webdriver.remote.webelement.WebElement (session=\"b13f5f90c877def812a67a6b77a0c503\", element=\"66c6acdd-ddf0-4012-9dea-adc06f87cb01\")>,\n",
       " <selenium.webdriver.remote.webelement.WebElement (session=\"b13f5f90c877def812a67a6b77a0c503\", element=\"6749d196-7898-4e18-a98a-022618c2d563\")>,\n",
       " <selenium.webdriver.remote.webelement.WebElement (session=\"b13f5f90c877def812a67a6b77a0c503\", element=\"65171ff1-b2b6-4a1b-8aaa-1b85b8e85863\")>,\n",
       " <selenium.webdriver.remote.webelement.WebElement (session=\"b13f5f90c877def812a67a6b77a0c503\", element=\"ac7afa5d-9656-4e85-b22b-a121669705e1\")>,\n",
       " <selenium.webdriver.remote.webelement.WebElement (session=\"b13f5f90c877def812a67a6b77a0c503\", element=\"b28dde46-7466-4cd9-a4bb-459088aa92f0\")>,\n",
       " <selenium.webdriver.remote.webelement.WebElement (session=\"b13f5f90c877def812a67a6b77a0c503\", element=\"944d881d-9cb6-4d71-9307-da5170c8711c\")>]"
      ]
     },
     "execution_count": 69,
     "metadata": {},
     "output_type": "execute_result"
    }
   ],
   "source": [
    "#now extract all the tags having the company names\n",
    "company_tags=driver.find_elements_by_xpath('//a[@class=\"subTitle ellipsis fleft\"]')\n",
    "company_tags"
   ]
  },
  {
   "cell_type": "code",
   "execution_count": 70,
   "id": "5b5ec55e",
   "metadata": {},
   "outputs": [
    {
     "data": {
      "text/plain": [
       "['Pronto Consulting Services',\n",
       " 'Hexaware Technologies Ltd.',\n",
       " 'Publicis Groupe',\n",
       " 'Publicis Groupe',\n",
       " 'POWER STORES E COMMERCE PRIVATE LIMITED',\n",
       " 'Innovsource Services Private Limited',\n",
       " 'Kelly Outsourcing and Consulting Group India Priv ate Limited',\n",
       " 'Larsen & Toubro Infotech Limited',\n",
       " 'Liventus, Inc.',\n",
       " 'NetApp',\n",
       " 'TRH Consultancy Services',\n",
       " 'WSP CONSULTANTS INDIA PRIVATE LIMITED',\n",
       " 'Rapido -bike taxi',\n",
       " 'Rapido -bike taxi',\n",
       " 'NU10 TECHNOLOGIES INDIA PRIVATE LIMITED',\n",
       " 'Boeing',\n",
       " 'Quinbay Technology',\n",
       " 'Cerner Corporation',\n",
       " 'Qlik',\n",
       " 'ENCORA INNOVATION LABS INDIA PRIVATE LIMITED']"
      ]
     },
     "execution_count": 70,
     "metadata": {},
     "output_type": "execute_result"
    }
   ],
   "source": [
    "company_title = []\n",
    "for i in company_tags:\n",
    "    company_title.append(i.text)\n",
    "company_title    "
   ]
  },
  {
   "cell_type": "code",
   "execution_count": 75,
   "id": "5efeb06c",
   "metadata": {},
   "outputs": [
    {
     "data": {
      "text/plain": [
       "[<selenium.webdriver.remote.webelement.WebElement (session=\"b13f5f90c877def812a67a6b77a0c503\", element=\"418bab33-d46d-442a-b800-499685986f4c\")>,\n",
       " <selenium.webdriver.remote.webelement.WebElement (session=\"b13f5f90c877def812a67a6b77a0c503\", element=\"bc5610c4-98fb-47ac-8084-d27f52574f36\")>,\n",
       " <selenium.webdriver.remote.webelement.WebElement (session=\"b13f5f90c877def812a67a6b77a0c503\", element=\"305e1846-b761-4734-97f0-c12dca14dfdf\")>,\n",
       " <selenium.webdriver.remote.webelement.WebElement (session=\"b13f5f90c877def812a67a6b77a0c503\", element=\"73d22390-9d8d-4f77-bae4-4ba29d2998e6\")>,\n",
       " <selenium.webdriver.remote.webelement.WebElement (session=\"b13f5f90c877def812a67a6b77a0c503\", element=\"38b70a83-3799-4f6e-9ae4-a9988d403531\")>,\n",
       " <selenium.webdriver.remote.webelement.WebElement (session=\"b13f5f90c877def812a67a6b77a0c503\", element=\"da9bf060-7d5a-43a9-8100-638c98128369\")>,\n",
       " <selenium.webdriver.remote.webelement.WebElement (session=\"b13f5f90c877def812a67a6b77a0c503\", element=\"795b4527-a846-4568-821f-da4ee23260da\")>,\n",
       " <selenium.webdriver.remote.webelement.WebElement (session=\"b13f5f90c877def812a67a6b77a0c503\", element=\"1ee529fc-38b3-4519-b35d-da87acdf2a1b\")>,\n",
       " <selenium.webdriver.remote.webelement.WebElement (session=\"b13f5f90c877def812a67a6b77a0c503\", element=\"1e84b30b-dea2-4ad6-8646-65ac9a200dca\")>,\n",
       " <selenium.webdriver.remote.webelement.WebElement (session=\"b13f5f90c877def812a67a6b77a0c503\", element=\"e626b3f2-8cf8-4ca9-ac06-3935407bc14d\")>,\n",
       " <selenium.webdriver.remote.webelement.WebElement (session=\"b13f5f90c877def812a67a6b77a0c503\", element=\"0b048df4-2e85-4b13-bd13-37c002226d6b\")>,\n",
       " <selenium.webdriver.remote.webelement.WebElement (session=\"b13f5f90c877def812a67a6b77a0c503\", element=\"f9494d4b-a033-416c-8249-cbc5a0f25730\")>,\n",
       " <selenium.webdriver.remote.webelement.WebElement (session=\"b13f5f90c877def812a67a6b77a0c503\", element=\"ee1dae1b-70b2-404b-a55c-4f7489185bdf\")>,\n",
       " <selenium.webdriver.remote.webelement.WebElement (session=\"b13f5f90c877def812a67a6b77a0c503\", element=\"ee6391f7-456d-43ad-961b-cab1e434e677\")>,\n",
       " <selenium.webdriver.remote.webelement.WebElement (session=\"b13f5f90c877def812a67a6b77a0c503\", element=\"5a9cae32-b690-4695-9a3c-d42b3fbbbec3\")>,\n",
       " <selenium.webdriver.remote.webelement.WebElement (session=\"b13f5f90c877def812a67a6b77a0c503\", element=\"e7a135df-1c86-4ffc-9bb5-9d1a201da728\")>,\n",
       " <selenium.webdriver.remote.webelement.WebElement (session=\"b13f5f90c877def812a67a6b77a0c503\", element=\"84862092-200b-4d6f-9970-f14f2dbf89e2\")>,\n",
       " <selenium.webdriver.remote.webelement.WebElement (session=\"b13f5f90c877def812a67a6b77a0c503\", element=\"68e3d015-5ef9-479c-bbe6-5a7a37b337f6\")>,\n",
       " <selenium.webdriver.remote.webelement.WebElement (session=\"b13f5f90c877def812a67a6b77a0c503\", element=\"0db6d246-379f-48df-918c-74cffb63ab64\")>,\n",
       " <selenium.webdriver.remote.webelement.WebElement (session=\"b13f5f90c877def812a67a6b77a0c503\", element=\"e40be5d5-b4d1-40fc-8f42-f743e031d66f\")>]"
      ]
     },
     "execution_count": 75,
     "metadata": {},
     "output_type": "execute_result"
    }
   ],
   "source": [
    "#now extract all the tags having the experience\n",
    "job_exp = driver.find_elements_by_xpath('//li[@class=\"fleft grey-text br2 placeHolderLi experience\"]')\n",
    "job_exp"
   ]
  },
  {
   "cell_type": "code",
   "execution_count": 76,
   "id": "0bcb4973",
   "metadata": {},
   "outputs": [
    {
     "data": {
      "text/plain": [
       "['6-10 Yrs',\n",
       " '9-13 Yrs',\n",
       " '1-3 Yrs',\n",
       " '1-5 Yrs',\n",
       " '2-5 Yrs',\n",
       " '1-6 Yrs',\n",
       " '5-10 Yrs',\n",
       " '5-10 Yrs',\n",
       " '5-8 Yrs',\n",
       " '3-6 Yrs',\n",
       " '5-10 Yrs',\n",
       " '5-10 Yrs',\n",
       " '2-4 Yrs',\n",
       " '2-4 Yrs',\n",
       " '2-7 Yrs',\n",
       " '4-8 Yrs',\n",
       " '3-4 Yrs',\n",
       " '1-4 Yrs',\n",
       " '2-4 Yrs',\n",
       " '4-8 Yrs']"
      ]
     },
     "execution_count": 76,
     "metadata": {},
     "output_type": "execute_result"
    }
   ],
   "source": [
    "job_exper = []\n",
    "for i in job_exp:\n",
    "    job_exper.append(i.text)\n",
    "job_exper"
   ]
  },
  {
   "cell_type": "code",
   "execution_count": 80,
   "id": "68a624ad",
   "metadata": {},
   "outputs": [
    {
     "data": {
      "text/plain": [
       "[<selenium.webdriver.remote.webelement.WebElement (session=\"b13f5f90c877def812a67a6b77a0c503\", element=\"9d126f62-b127-4a56-a191-b776395fbee4\")>,\n",
       " <selenium.webdriver.remote.webelement.WebElement (session=\"b13f5f90c877def812a67a6b77a0c503\", element=\"947bca29-0998-4574-9c2f-c75435dfcdb5\")>,\n",
       " <selenium.webdriver.remote.webelement.WebElement (session=\"b13f5f90c877def812a67a6b77a0c503\", element=\"71813ec5-176d-41c3-b239-3ba256735e62\")>,\n",
       " <selenium.webdriver.remote.webelement.WebElement (session=\"b13f5f90c877def812a67a6b77a0c503\", element=\"78098145-ae3a-4d3c-80f3-0ce7d3999cf5\")>,\n",
       " <selenium.webdriver.remote.webelement.WebElement (session=\"b13f5f90c877def812a67a6b77a0c503\", element=\"33e632d7-3d37-414c-b991-584be5d3e64a\")>,\n",
       " <selenium.webdriver.remote.webelement.WebElement (session=\"b13f5f90c877def812a67a6b77a0c503\", element=\"2255ba23-6729-46c2-a171-4761dfd59c06\")>,\n",
       " <selenium.webdriver.remote.webelement.WebElement (session=\"b13f5f90c877def812a67a6b77a0c503\", element=\"567d642c-269f-47f1-b5d1-581223967d9f\")>,\n",
       " <selenium.webdriver.remote.webelement.WebElement (session=\"b13f5f90c877def812a67a6b77a0c503\", element=\"68020bf1-0eb1-4f85-a583-f037a14ff2bb\")>,\n",
       " <selenium.webdriver.remote.webelement.WebElement (session=\"b13f5f90c877def812a67a6b77a0c503\", element=\"9f6d2876-0c38-441f-b3ae-28bb57d341c1\")>,\n",
       " <selenium.webdriver.remote.webelement.WebElement (session=\"b13f5f90c877def812a67a6b77a0c503\", element=\"f9998286-9486-4c8b-a2b8-172bbb0cd7c6\")>,\n",
       " <selenium.webdriver.remote.webelement.WebElement (session=\"b13f5f90c877def812a67a6b77a0c503\", element=\"b5d314b8-b3f7-4e47-bca3-c2f8532c8b87\")>,\n",
       " <selenium.webdriver.remote.webelement.WebElement (session=\"b13f5f90c877def812a67a6b77a0c503\", element=\"5840b2a8-9903-473c-8d51-5d1018d069d1\")>,\n",
       " <selenium.webdriver.remote.webelement.WebElement (session=\"b13f5f90c877def812a67a6b77a0c503\", element=\"d95afd1e-235c-4b5d-b41b-666dc49a59b4\")>,\n",
       " <selenium.webdriver.remote.webelement.WebElement (session=\"b13f5f90c877def812a67a6b77a0c503\", element=\"b1b2b277-ef83-4af4-a92f-cc9a6450c44e\")>,\n",
       " <selenium.webdriver.remote.webelement.WebElement (session=\"b13f5f90c877def812a67a6b77a0c503\", element=\"d8439d85-a59e-4e4c-9898-4348ffd4b89c\")>,\n",
       " <selenium.webdriver.remote.webelement.WebElement (session=\"b13f5f90c877def812a67a6b77a0c503\", element=\"3cc089bf-e950-444a-a6b1-0c8d3ab3c437\")>,\n",
       " <selenium.webdriver.remote.webelement.WebElement (session=\"b13f5f90c877def812a67a6b77a0c503\", element=\"6c16c75d-c494-4257-b42b-dd27ea6b8bf7\")>,\n",
       " <selenium.webdriver.remote.webelement.WebElement (session=\"b13f5f90c877def812a67a6b77a0c503\", element=\"de539155-dd27-49e3-b63c-2da82c4471a0\")>,\n",
       " <selenium.webdriver.remote.webelement.WebElement (session=\"b13f5f90c877def812a67a6b77a0c503\", element=\"55b1624f-005b-4d26-9665-b4156917b2b2\")>,\n",
       " <selenium.webdriver.remote.webelement.WebElement (session=\"b13f5f90c877def812a67a6b77a0c503\", element=\"91dbf031-c298-4cf7-bd16-75a919ac0936\")>]"
      ]
     },
     "execution_count": 80,
     "metadata": {},
     "output_type": "execute_result"
    }
   ],
   "source": [
    "#now extract all the tags having the location\n",
    "job_loc = driver.find_elements_by_xpath('//li[@class=\"fleft grey-text br2 placeHolderLi location\"]//span[1]')\n",
    "job_loc"
   ]
  },
  {
   "cell_type": "code",
   "execution_count": 81,
   "id": "d107e318",
   "metadata": {},
   "outputs": [
    {
     "data": {
      "text/plain": [
       "['Noida, Mumbai, Indore, Hyderabad/Secunderabad, Pune, Chennai, Bangalore/Bengaluru',\n",
       " 'Bangalore/Bengaluru',\n",
       " 'Bangalore/Bengaluru',\n",
       " 'Bangalore/Bengaluru',\n",
       " 'Pune, Bangalore/Bengaluru, Mumbai (All Areas)',\n",
       " 'Bangalore/Bengaluru',\n",
       " 'Remote',\n",
       " 'Chennai, Bangalore/Bengaluru',\n",
       " 'Bangalore/Bengaluru(2nd Phase JP Nagar)',\n",
       " 'Bangalore/Bengaluru',\n",
       " 'Mumbai, Hyderabad/Secunderabad, Pune, Chennai, Bangalore/Bengaluru',\n",
       " 'Bangalore/Bengaluru',\n",
       " 'Bangalore/Bengaluru',\n",
       " 'Bangalore/Bengaluru',\n",
       " 'Bangalore/Bengaluru',\n",
       " 'Bangalore/Bengaluru',\n",
       " 'Bangalore/Bengaluru',\n",
       " 'Bangalore/Bengaluru',\n",
       " 'Bangalore/Bengaluru',\n",
       " 'Bangalore/Bengaluru']"
      ]
     },
     "execution_count": 81,
     "metadata": {},
     "output_type": "execute_result"
    }
   ],
   "source": [
    "job_locs = []\n",
    "for i in job_loc:\n",
    "    job_locs.append(i.text)\n",
    "job_locs"
   ]
  },
  {
   "cell_type": "markdown",
   "id": "8f270434",
   "metadata": {},
   "source": [
    "so now we have extracted the data required from the webpage and stored them in the 4 lists mentioned above.company name,company title,job location,job experience.now we creating a dataframe from these lists using with pandas library,before first we check length of the each lists"
   ]
  },
  {
   "cell_type": "code",
   "execution_count": 82,
   "id": "78c03ffd",
   "metadata": {},
   "outputs": [
    {
     "name": "stdout",
     "output_type": "stream",
     "text": [
      "20 20 20 20\n"
     ]
    }
   ],
   "source": [
    "#check the length of each list\n",
    "print(len(job_titles),len(job_locs),len(company_title),len(job_exper))"
   ]
  },
  {
   "cell_type": "code",
   "execution_count": 84,
   "id": "97db45a0",
   "metadata": {},
   "outputs": [],
   "source": [
    "#now create the dataframe using with pandas\n",
    "jobs = pd.DataFrame({})\n",
    "jobs['job_title'] = job_titles\n",
    "jobs['company_name'] = company_title\n",
    "jobs['experience_required'] = job_exper\n",
    "jobs['job_lacation'] = job_locs"
   ]
  },
  {
   "cell_type": "code",
   "execution_count": 86,
   "id": "1186921b",
   "metadata": {},
   "outputs": [
    {
     "data": {
      "text/html": [
       "<div>\n",
       "<style scoped>\n",
       "    .dataframe tbody tr th:only-of-type {\n",
       "        vertical-align: middle;\n",
       "    }\n",
       "\n",
       "    .dataframe tbody tr th {\n",
       "        vertical-align: top;\n",
       "    }\n",
       "\n",
       "    .dataframe thead th {\n",
       "        text-align: right;\n",
       "    }\n",
       "</style>\n",
       "<table border=\"1\" class=\"dataframe\">\n",
       "  <thead>\n",
       "    <tr style=\"text-align: right;\">\n",
       "      <th></th>\n",
       "      <th>job_title</th>\n",
       "      <th>company_name</th>\n",
       "      <th>experience_required</th>\n",
       "      <th>job_lacation</th>\n",
       "    </tr>\n",
       "  </thead>\n",
       "  <tbody>\n",
       "    <tr>\n",
       "      <th>0</th>\n",
       "      <td>Senior Data Analyst - SQL/Tableau/Redshift</td>\n",
       "      <td>Pronto Consulting Services</td>\n",
       "      <td>6-10 Yrs</td>\n",
       "      <td>Noida, Mumbai, Indore, Hyderabad/Secunderabad,...</td>\n",
       "    </tr>\n",
       "    <tr>\n",
       "      <th>1</th>\n",
       "      <td>Hiring Business data analyst with Strong SQL S...</td>\n",
       "      <td>Hexaware Technologies Ltd.</td>\n",
       "      <td>9-13 Yrs</td>\n",
       "      <td>Bangalore/Bengaluru</td>\n",
       "    </tr>\n",
       "    <tr>\n",
       "      <th>2</th>\n",
       "      <td>Senior Data Analyst</td>\n",
       "      <td>Publicis Groupe</td>\n",
       "      <td>1-3 Yrs</td>\n",
       "      <td>Bangalore/Bengaluru</td>\n",
       "    </tr>\n",
       "    <tr>\n",
       "      <th>3</th>\n",
       "      <td>Senior Data Analyst</td>\n",
       "      <td>Publicis Groupe</td>\n",
       "      <td>1-5 Yrs</td>\n",
       "      <td>Bangalore/Bengaluru</td>\n",
       "    </tr>\n",
       "    <tr>\n",
       "      <th>4</th>\n",
       "      <td>Data Analyst - Work from Home</td>\n",
       "      <td>POWER STORES E COMMERCE PRIVATE LIMITED</td>\n",
       "      <td>2-5 Yrs</td>\n",
       "      <td>Pune, Bangalore/Bengaluru, Mumbai (All Areas)</td>\n",
       "    </tr>\n",
       "    <tr>\n",
       "      <th>5</th>\n",
       "      <td>Data Analyst</td>\n",
       "      <td>Innovsource Services Private Limited</td>\n",
       "      <td>1-6 Yrs</td>\n",
       "      <td>Bangalore/Bengaluru</td>\n",
       "    </tr>\n",
       "    <tr>\n",
       "      <th>6</th>\n",
       "      <td>Sr. Data Analyst DW BI- Immediate Joiners</td>\n",
       "      <td>Kelly Outsourcing and Consulting Group India P...</td>\n",
       "      <td>5-10 Yrs</td>\n",
       "      <td>Remote</td>\n",
       "    </tr>\n",
       "    <tr>\n",
       "      <th>7</th>\n",
       "      <td>Data Analyst- Azure</td>\n",
       "      <td>Larsen &amp; Toubro Infotech Limited</td>\n",
       "      <td>5-10 Yrs</td>\n",
       "      <td>Chennai, Bangalore/Bengaluru</td>\n",
       "    </tr>\n",
       "    <tr>\n",
       "      <th>8</th>\n",
       "      <td>Senior Data Analyst</td>\n",
       "      <td>Liventus, Inc.</td>\n",
       "      <td>5-8 Yrs</td>\n",
       "      <td>Bangalore/Bengaluru(2nd Phase JP Nagar)</td>\n",
       "    </tr>\n",
       "    <tr>\n",
       "      <th>9</th>\n",
       "      <td>Business Data Analyst</td>\n",
       "      <td>NetApp</td>\n",
       "      <td>3-6 Yrs</td>\n",
       "      <td>Bangalore/Bengaluru</td>\n",
       "    </tr>\n",
       "  </tbody>\n",
       "</table>\n",
       "</div>"
      ],
      "text/plain": [
       "                                           job_title  \\\n",
       "0         Senior Data Analyst - SQL/Tableau/Redshift   \n",
       "1  Hiring Business data analyst with Strong SQL S...   \n",
       "2                                Senior Data Analyst   \n",
       "3                                Senior Data Analyst   \n",
       "4                      Data Analyst - Work from Home   \n",
       "5                                       Data Analyst   \n",
       "6          Sr. Data Analyst DW BI- Immediate Joiners   \n",
       "7                                Data Analyst- Azure   \n",
       "8                                Senior Data Analyst   \n",
       "9                              Business Data Analyst   \n",
       "\n",
       "                                        company_name experience_required  \\\n",
       "0                         Pronto Consulting Services            6-10 Yrs   \n",
       "1                         Hexaware Technologies Ltd.            9-13 Yrs   \n",
       "2                                    Publicis Groupe             1-3 Yrs   \n",
       "3                                    Publicis Groupe             1-5 Yrs   \n",
       "4            POWER STORES E COMMERCE PRIVATE LIMITED             2-5 Yrs   \n",
       "5               Innovsource Services Private Limited             1-6 Yrs   \n",
       "6  Kelly Outsourcing and Consulting Group India P...            5-10 Yrs   \n",
       "7                   Larsen & Toubro Infotech Limited            5-10 Yrs   \n",
       "8                                     Liventus, Inc.             5-8 Yrs   \n",
       "9                                             NetApp             3-6 Yrs   \n",
       "\n",
       "                                        job_lacation  \n",
       "0  Noida, Mumbai, Indore, Hyderabad/Secunderabad,...  \n",
       "1                                Bangalore/Bengaluru  \n",
       "2                                Bangalore/Bengaluru  \n",
       "3                                Bangalore/Bengaluru  \n",
       "4      Pune, Bangalore/Bengaluru, Mumbai (All Areas)  \n",
       "5                                Bangalore/Bengaluru  \n",
       "6                                             Remote  \n",
       "7                       Chennai, Bangalore/Bengaluru  \n",
       "8            Bangalore/Bengaluru(2nd Phase JP Nagar)  \n",
       "9                                Bangalore/Bengaluru  "
      ]
     },
     "execution_count": 86,
     "metadata": {},
     "output_type": "execute_result"
    }
   ],
   "source": [
    "jobs.head(10)"
   ]
  },
  {
   "cell_type": "code",
   "execution_count": null,
   "id": "b72dba79",
   "metadata": {},
   "outputs": [],
   "source": []
  },
  {
   "cell_type": "markdown",
   "id": "dfbf048b",
   "metadata": {},
   "source": [
    "# Q2: Write a python program to scrape data for “Data Scientist” Job position in “Bangalore” location. You have to scrape the job-title, job-location,company_name, full job-description. You have to scrape first 10 jobs data.\n"
   ]
  },
  {
   "cell_type": "code",
   "execution_count": null,
   "id": "e05febaf",
   "metadata": {},
   "outputs": [],
   "source": []
  },
  {
   "cell_type": "code",
   "execution_count": 87,
   "id": "64ac21fe",
   "metadata": {},
   "outputs": [],
   "source": [
    "#lets now import all required libraries \n",
    "import selenium\n",
    "import pandas as pd\n",
    "from selenium import webdriver"
   ]
  },
  {
   "cell_type": "code",
   "execution_count": 88,
   "id": "80d93fec",
   "metadata": {},
   "outputs": [],
   "source": [
    "#lets first connect to the webdriver\n",
    "driver = webdriver.Chrome('chromedriver.exe')"
   ]
  },
  {
   "cell_type": "code",
   "execution_count": 89,
   "id": "eadee690",
   "metadata": {},
   "outputs": [],
   "source": [
    "url = 'https://www.naukri.com/'\n",
    "driver.get(url)"
   ]
  },
  {
   "cell_type": "code",
   "execution_count": 92,
   "id": "1c13c8a9",
   "metadata": {},
   "outputs": [
    {
     "data": {
      "text/plain": [
       "<selenium.webdriver.remote.webelement.WebElement (session=\"b2dc4e1cb1e4c48839917e8a6f6ca771\", element=\"9bf37a75-36d9-4834-ac87-a7a9c93b09cc\")>"
      ]
     },
     "execution_count": 92,
     "metadata": {},
     "output_type": "execute_result"
    }
   ],
   "source": [
    "#finding job title\n",
    "search_job = driver.find_element_by_id(\"qsb-keyword-sugg\")\n",
    "search_job"
   ]
  },
  {
   "cell_type": "code",
   "execution_count": 93,
   "id": "6be3b5e8",
   "metadata": {},
   "outputs": [],
   "source": [
    "#write on search for\n",
    "search_job.send_keys('Data Scientist')"
   ]
  },
  {
   "cell_type": "code",
   "execution_count": 94,
   "id": "17209233",
   "metadata": {},
   "outputs": [],
   "source": [
    "#finding element for job location\n",
    "search_loc = driver.find_element_by_name('location')\n",
    "search_loc.send_keys('Bangalore')"
   ]
  },
  {
   "cell_type": "code",
   "execution_count": 95,
   "id": "32e167ba",
   "metadata": {},
   "outputs": [
    {
     "data": {
      "text/plain": [
       "<selenium.webdriver.remote.webelement.WebElement (session=\"b2dc4e1cb1e4c48839917e8a6f6ca771\", element=\"5a42fdd1-4ae9-4937-ad7b-d078b039dc17\")>"
      ]
     },
     "execution_count": 95,
     "metadata": {},
     "output_type": "execute_result"
    }
   ],
   "source": [
    "#using xpath function\n",
    "search_btn = driver.find_element_by_xpath('//button[@class=\"btn\"]')\n",
    "search_btn"
   ]
  },
  {
   "cell_type": "code",
   "execution_count": 96,
   "id": "d2da4c09",
   "metadata": {},
   "outputs": [],
   "source": [
    "search_btn.click()"
   ]
  },
  {
   "cell_type": "code",
   "execution_count": 97,
   "id": "843e8c1b",
   "metadata": {},
   "outputs": [
    {
     "data": {
      "text/plain": [
       "[<selenium.webdriver.remote.webelement.WebElement (session=\"b2dc4e1cb1e4c48839917e8a6f6ca771\", element=\"f357c394-840d-47bc-ad81-627eebb8628d\")>,\n",
       " <selenium.webdriver.remote.webelement.WebElement (session=\"b2dc4e1cb1e4c48839917e8a6f6ca771\", element=\"5ad92025-ef13-4b72-8ce5-7c73e96154b0\")>,\n",
       " <selenium.webdriver.remote.webelement.WebElement (session=\"b2dc4e1cb1e4c48839917e8a6f6ca771\", element=\"bbde178f-9d49-433a-aa24-f4d0dc6f1e68\")>,\n",
       " <selenium.webdriver.remote.webelement.WebElement (session=\"b2dc4e1cb1e4c48839917e8a6f6ca771\", element=\"905535c6-0099-4dbb-a4fa-3288e95c182a\")>,\n",
       " <selenium.webdriver.remote.webelement.WebElement (session=\"b2dc4e1cb1e4c48839917e8a6f6ca771\", element=\"defacb91-21d7-4a0d-8783-5af05d897000\")>,\n",
       " <selenium.webdriver.remote.webelement.WebElement (session=\"b2dc4e1cb1e4c48839917e8a6f6ca771\", element=\"64fc347d-fba8-4d70-a000-38791579888a\")>,\n",
       " <selenium.webdriver.remote.webelement.WebElement (session=\"b2dc4e1cb1e4c48839917e8a6f6ca771\", element=\"ed1bafa7-f5eb-4714-8a29-9becfdfde9c2\")>,\n",
       " <selenium.webdriver.remote.webelement.WebElement (session=\"b2dc4e1cb1e4c48839917e8a6f6ca771\", element=\"d1a00267-c269-45ad-b5ec-c3ec351d0cc6\")>,\n",
       " <selenium.webdriver.remote.webelement.WebElement (session=\"b2dc4e1cb1e4c48839917e8a6f6ca771\", element=\"fc587e1c-e190-4d5f-a0e4-2f39b0184ed7\")>,\n",
       " <selenium.webdriver.remote.webelement.WebElement (session=\"b2dc4e1cb1e4c48839917e8a6f6ca771\", element=\"8647f2e5-9e11-4493-8ee0-b85146e1a0bd\")>,\n",
       " <selenium.webdriver.remote.webelement.WebElement (session=\"b2dc4e1cb1e4c48839917e8a6f6ca771\", element=\"89eaff96-a57a-4ac9-a314-e4a128b342fa\")>,\n",
       " <selenium.webdriver.remote.webelement.WebElement (session=\"b2dc4e1cb1e4c48839917e8a6f6ca771\", element=\"86b87690-dc88-458d-b3ea-e2bf7ede5156\")>,\n",
       " <selenium.webdriver.remote.webelement.WebElement (session=\"b2dc4e1cb1e4c48839917e8a6f6ca771\", element=\"34451aed-dc49-46ed-baea-80decaf3e4d3\")>,\n",
       " <selenium.webdriver.remote.webelement.WebElement (session=\"b2dc4e1cb1e4c48839917e8a6f6ca771\", element=\"73e8bf09-eec7-4f5f-8be8-16cbf8c63783\")>,\n",
       " <selenium.webdriver.remote.webelement.WebElement (session=\"b2dc4e1cb1e4c48839917e8a6f6ca771\", element=\"443971c2-4f2c-4338-a260-e32a18b45f5e\")>,\n",
       " <selenium.webdriver.remote.webelement.WebElement (session=\"b2dc4e1cb1e4c48839917e8a6f6ca771\", element=\"c920c049-01df-4dc3-9ced-69c53c2bf1c0\")>,\n",
       " <selenium.webdriver.remote.webelement.WebElement (session=\"b2dc4e1cb1e4c48839917e8a6f6ca771\", element=\"278ff959-8a5f-47d0-85de-df72276d852e\")>,\n",
       " <selenium.webdriver.remote.webelement.WebElement (session=\"b2dc4e1cb1e4c48839917e8a6f6ca771\", element=\"303dbdbd-7c7d-4d84-a978-eb55c07c84a8\")>,\n",
       " <selenium.webdriver.remote.webelement.WebElement (session=\"b2dc4e1cb1e4c48839917e8a6f6ca771\", element=\"bb331ec6-7ba4-4a63-899a-82242f098d9e\")>,\n",
       " <selenium.webdriver.remote.webelement.WebElement (session=\"b2dc4e1cb1e4c48839917e8a6f6ca771\", element=\"ff908ec1-1bb9-4f48-abbb-d9ddf5984ed0\")>]"
      ]
     },
     "execution_count": 97,
     "metadata": {},
     "output_type": "execute_result"
    }
   ],
   "source": [
    "#now extract all the tags having the job titles\n",
    "job_tags=driver.find_elements_by_xpath('//a[@class=\"title fw500 ellipsis\"]')\n",
    "job_tags"
   ]
  },
  {
   "cell_type": "code",
   "execution_count": 98,
   "id": "c06bbc9d",
   "metadata": {},
   "outputs": [
    {
     "data": {
      "text/plain": [
       "['Data Engineers , Data Scientist and SAP',\n",
       " 'Senior Software Engineer - Data Scientist',\n",
       " 'Senior Associate - Data Scientist',\n",
       " 'Sr . Data Scientist',\n",
       " 'Senior Data Scientist',\n",
       " 'Senior Data Scientist',\n",
       " 'Senior Data Scientist',\n",
       " 'Senior Data Scientist',\n",
       " 'Sr. Data Scientist',\n",
       " 'Data Scientist',\n",
       " 'Lead Data Scientist',\n",
       " 'Lead Data Scientist',\n",
       " 'Senior Data Scientist',\n",
       " 'Senior Data Scientist',\n",
       " 'Senior Analyst/Data Scientist',\n",
       " 'Senior Data Scientist',\n",
       " 'Associate Data Scientist',\n",
       " 'Data Scientist - Senior / Lead',\n",
       " 'Lead Data Scientist - Tensorflow/Machine Learning',\n",
       " 'Data Scientist']"
      ]
     },
     "execution_count": 98,
     "metadata": {},
     "output_type": "execute_result"
    }
   ],
   "source": [
    "job_titles = []\n",
    "for i in job_tags:\n",
    "    job_titles.append(i.text)\n",
    "job_titles"
   ]
  },
  {
   "cell_type": "code",
   "execution_count": 99,
   "id": "d4eb2e7a",
   "metadata": {},
   "outputs": [
    {
     "data": {
      "text/plain": [
       "[<selenium.webdriver.remote.webelement.WebElement (session=\"b2dc4e1cb1e4c48839917e8a6f6ca771\", element=\"ee051f43-37f3-489d-bb86-88ab9980ddf2\")>,\n",
       " <selenium.webdriver.remote.webelement.WebElement (session=\"b2dc4e1cb1e4c48839917e8a6f6ca771\", element=\"11458da0-79ac-41bf-a252-431b262516ad\")>,\n",
       " <selenium.webdriver.remote.webelement.WebElement (session=\"b2dc4e1cb1e4c48839917e8a6f6ca771\", element=\"9b5c0724-a9cf-452c-8280-e3a092e60e2a\")>,\n",
       " <selenium.webdriver.remote.webelement.WebElement (session=\"b2dc4e1cb1e4c48839917e8a6f6ca771\", element=\"bf25d7ac-2326-4c1b-a15e-57ad2e83ea1e\")>,\n",
       " <selenium.webdriver.remote.webelement.WebElement (session=\"b2dc4e1cb1e4c48839917e8a6f6ca771\", element=\"44db1a3f-2a16-4fb7-bc0c-954537b52fcf\")>,\n",
       " <selenium.webdriver.remote.webelement.WebElement (session=\"b2dc4e1cb1e4c48839917e8a6f6ca771\", element=\"95b0fc57-22d6-4969-96f2-b2929eb1f6a0\")>,\n",
       " <selenium.webdriver.remote.webelement.WebElement (session=\"b2dc4e1cb1e4c48839917e8a6f6ca771\", element=\"ec517626-48ac-41f2-8105-4b90a7cd5364\")>,\n",
       " <selenium.webdriver.remote.webelement.WebElement (session=\"b2dc4e1cb1e4c48839917e8a6f6ca771\", element=\"b9bfec45-e9dc-4472-915d-7ef145568c24\")>,\n",
       " <selenium.webdriver.remote.webelement.WebElement (session=\"b2dc4e1cb1e4c48839917e8a6f6ca771\", element=\"7a2c17ab-42ca-4817-a8a5-6219d0ae798c\")>,\n",
       " <selenium.webdriver.remote.webelement.WebElement (session=\"b2dc4e1cb1e4c48839917e8a6f6ca771\", element=\"c2543953-2d60-4336-b19d-92090575e639\")>,\n",
       " <selenium.webdriver.remote.webelement.WebElement (session=\"b2dc4e1cb1e4c48839917e8a6f6ca771\", element=\"dad5c1a9-113e-4a2a-a52b-1ef31d727a7a\")>,\n",
       " <selenium.webdriver.remote.webelement.WebElement (session=\"b2dc4e1cb1e4c48839917e8a6f6ca771\", element=\"0f7eb587-583b-4e99-8055-217fbe945f9b\")>,\n",
       " <selenium.webdriver.remote.webelement.WebElement (session=\"b2dc4e1cb1e4c48839917e8a6f6ca771\", element=\"6a2b0e0b-d703-4dac-9a97-39192994f8f4\")>,\n",
       " <selenium.webdriver.remote.webelement.WebElement (session=\"b2dc4e1cb1e4c48839917e8a6f6ca771\", element=\"fcdc681a-496f-46ff-bdbe-5ecd85d94a17\")>,\n",
       " <selenium.webdriver.remote.webelement.WebElement (session=\"b2dc4e1cb1e4c48839917e8a6f6ca771\", element=\"d07c22c7-9e8b-4655-86dc-6578519776c6\")>,\n",
       " <selenium.webdriver.remote.webelement.WebElement (session=\"b2dc4e1cb1e4c48839917e8a6f6ca771\", element=\"8a5f00a0-bdad-4de4-81fe-f90aa02400fc\")>,\n",
       " <selenium.webdriver.remote.webelement.WebElement (session=\"b2dc4e1cb1e4c48839917e8a6f6ca771\", element=\"d38bbf3a-30fc-4ef4-abaa-7de8da9d8495\")>,\n",
       " <selenium.webdriver.remote.webelement.WebElement (session=\"b2dc4e1cb1e4c48839917e8a6f6ca771\", element=\"2ee176d7-2294-48e8-8b77-1bbe91afa29c\")>,\n",
       " <selenium.webdriver.remote.webelement.WebElement (session=\"b2dc4e1cb1e4c48839917e8a6f6ca771\", element=\"d649bd61-bf22-4df6-87c5-e6cae62024fb\")>,\n",
       " <selenium.webdriver.remote.webelement.WebElement (session=\"b2dc4e1cb1e4c48839917e8a6f6ca771\", element=\"c2e8a091-5289-4f86-bf64-e1d774b694b3\")>]"
      ]
     },
     "execution_count": 99,
     "metadata": {},
     "output_type": "execute_result"
    }
   ],
   "source": [
    "#now extract all the tags having the company names\n",
    "company_tags=driver.find_elements_by_xpath('//a[@class=\"subTitle ellipsis fleft\"]')\n",
    "company_tags"
   ]
  },
  {
   "cell_type": "code",
   "execution_count": 100,
   "id": "8e9ada8d",
   "metadata": {},
   "outputs": [
    {
     "data": {
      "text/plain": [
       "['Teamware Solutions',\n",
       " 'Ara Resources',\n",
       " 'Novotree Minds Consulting Pvt Limited',\n",
       " 'Perform Group',\n",
       " 'Gojek Tech',\n",
       " 'GO-JEK India',\n",
       " 'Kaleidofin',\n",
       " 'Nineleaps',\n",
       " 'Eagleview',\n",
       " 'Visa Inc.',\n",
       " 'Publicis Groupe',\n",
       " 'Kaleidofin',\n",
       " 'IBM India Pvt. Limited',\n",
       " 'L A Consultancy',\n",
       " 'Naukri Premium - Employer Services',\n",
       " 'RANDSTAD INDIA PVT LTD',\n",
       " 'ExecBoardinAsia',\n",
       " 'Superior Group',\n",
       " 'Getinz Techno Services',\n",
       " 'CropIn Technology Solutions Pvt. Ltd.']"
      ]
     },
     "execution_count": 100,
     "metadata": {},
     "output_type": "execute_result"
    }
   ],
   "source": [
    "company_title = []\n",
    "for i in company_tags:\n",
    "    company_title.append(i.text)\n",
    "company_title    "
   ]
  },
  {
   "cell_type": "code",
   "execution_count": 101,
   "id": "a8dab41a",
   "metadata": {},
   "outputs": [
    {
     "data": {
      "text/plain": [
       "[<selenium.webdriver.remote.webelement.WebElement (session=\"b2dc4e1cb1e4c48839917e8a6f6ca771\", element=\"8dcff972-eb09-47c0-aab9-2ce959028b3f\")>,\n",
       " <selenium.webdriver.remote.webelement.WebElement (session=\"b2dc4e1cb1e4c48839917e8a6f6ca771\", element=\"793f29e9-6c81-451d-ab0a-2419e9f65d3b\")>,\n",
       " <selenium.webdriver.remote.webelement.WebElement (session=\"b2dc4e1cb1e4c48839917e8a6f6ca771\", element=\"22d9b9b5-71f6-4f13-a303-e59e6e578a23\")>,\n",
       " <selenium.webdriver.remote.webelement.WebElement (session=\"b2dc4e1cb1e4c48839917e8a6f6ca771\", element=\"45241246-2e75-41d8-9ebf-5f6089725377\")>,\n",
       " <selenium.webdriver.remote.webelement.WebElement (session=\"b2dc4e1cb1e4c48839917e8a6f6ca771\", element=\"9798d704-b710-4678-a05d-76c8f3325a84\")>,\n",
       " <selenium.webdriver.remote.webelement.WebElement (session=\"b2dc4e1cb1e4c48839917e8a6f6ca771\", element=\"0b03c504-9775-41f4-a68f-560dd2456e7b\")>,\n",
       " <selenium.webdriver.remote.webelement.WebElement (session=\"b2dc4e1cb1e4c48839917e8a6f6ca771\", element=\"e80ff1ea-fca5-4e8e-bf9a-b31279c3b3fe\")>,\n",
       " <selenium.webdriver.remote.webelement.WebElement (session=\"b2dc4e1cb1e4c48839917e8a6f6ca771\", element=\"915a6c59-ac18-4ab8-aa6e-98adcbc14307\")>,\n",
       " <selenium.webdriver.remote.webelement.WebElement (session=\"b2dc4e1cb1e4c48839917e8a6f6ca771\", element=\"d1971da4-b71a-41c0-a327-7bd31590b860\")>,\n",
       " <selenium.webdriver.remote.webelement.WebElement (session=\"b2dc4e1cb1e4c48839917e8a6f6ca771\", element=\"a42cbb49-c116-4e41-8c7f-8f719059e630\")>,\n",
       " <selenium.webdriver.remote.webelement.WebElement (session=\"b2dc4e1cb1e4c48839917e8a6f6ca771\", element=\"be78a018-0e1e-46cf-8b5f-696a6882bd29\")>,\n",
       " <selenium.webdriver.remote.webelement.WebElement (session=\"b2dc4e1cb1e4c48839917e8a6f6ca771\", element=\"03712124-1c95-4fc0-8938-e063d87ba227\")>,\n",
       " <selenium.webdriver.remote.webelement.WebElement (session=\"b2dc4e1cb1e4c48839917e8a6f6ca771\", element=\"08c7bea3-33ed-4dce-b557-86c7aed9096f\")>,\n",
       " <selenium.webdriver.remote.webelement.WebElement (session=\"b2dc4e1cb1e4c48839917e8a6f6ca771\", element=\"2996d1ed-0c71-484a-8be8-d0100ddd1d15\")>,\n",
       " <selenium.webdriver.remote.webelement.WebElement (session=\"b2dc4e1cb1e4c48839917e8a6f6ca771\", element=\"26b1b5cd-48c1-4b1d-bd03-083cab42582b\")>,\n",
       " <selenium.webdriver.remote.webelement.WebElement (session=\"b2dc4e1cb1e4c48839917e8a6f6ca771\", element=\"3940b406-7931-420b-997e-1243825b6de4\")>,\n",
       " <selenium.webdriver.remote.webelement.WebElement (session=\"b2dc4e1cb1e4c48839917e8a6f6ca771\", element=\"64ac8fe6-ff3e-470a-a8a5-debc30a9764b\")>,\n",
       " <selenium.webdriver.remote.webelement.WebElement (session=\"b2dc4e1cb1e4c48839917e8a6f6ca771\", element=\"a60b387b-f81e-40d2-b78a-1431328f1a98\")>,\n",
       " <selenium.webdriver.remote.webelement.WebElement (session=\"b2dc4e1cb1e4c48839917e8a6f6ca771\", element=\"489e7882-17a8-448d-a65d-b5d112b343fd\")>,\n",
       " <selenium.webdriver.remote.webelement.WebElement (session=\"b2dc4e1cb1e4c48839917e8a6f6ca771\", element=\"2de1637a-5d2c-4303-a416-9a2779deb0fd\")>]"
      ]
     },
     "execution_count": 101,
     "metadata": {},
     "output_type": "execute_result"
    }
   ],
   "source": [
    "#now extract all the tags having the location\n",
    "job_loc = driver.find_elements_by_xpath('//li[@class=\"fleft grey-text br2 placeHolderLi location\"]//span[1]')\n",
    "job_loc"
   ]
  },
  {
   "cell_type": "code",
   "execution_count": 102,
   "id": "c4ac53cb",
   "metadata": {},
   "outputs": [
    {
     "data": {
      "text/plain": [
       "['Bangalore/Bengaluru',\n",
       " 'Bangalore/Bengaluru',\n",
       " 'Bangalore/Bengaluru',\n",
       " 'Bangalore/Bengaluru',\n",
       " 'Bangalore/Bengaluru',\n",
       " 'Bangalore/Bengaluru',\n",
       " 'Chennai, Bangalore/Bengaluru',\n",
       " 'Bangalore/Bengaluru',\n",
       " 'Bangalore/Bengaluru',\n",
       " 'Bangalore/Bengaluru',\n",
       " 'Bangalore/Bengaluru',\n",
       " 'Chennai, Bangalore/Bengaluru',\n",
       " 'Bangalore/Bengaluru',\n",
       " 'Kochi/Cochin, Hyderabad/Secunderabad, Pune, Chennai, Delhi / NCR, Bangalore/Bengaluru',\n",
       " 'Bangalore/Bengaluru',\n",
       " 'Bangalore/Bengaluru',\n",
       " 'Bangalore/Bengaluru',\n",
       " 'Bangalore/Bengaluru',\n",
       " 'Mumbai, Hyderabad/Secunderabad, Chennai, Bangalore/Bengaluru',\n",
       " 'Bangalore/Bengaluru']"
      ]
     },
     "execution_count": 102,
     "metadata": {},
     "output_type": "execute_result"
    }
   ],
   "source": [
    "job_locs = []\n",
    "for i in job_loc:\n",
    "    job_locs.append(i.text)\n",
    "job_locs"
   ]
  },
  {
   "cell_type": "code",
   "execution_count": 103,
   "id": "1e0f28cb",
   "metadata": {},
   "outputs": [
    {
     "data": {
      "text/plain": [
       "[<selenium.webdriver.remote.webelement.WebElement (session=\"b2dc4e1cb1e4c48839917e8a6f6ca771\", element=\"f939ccf2-2f63-47fb-a782-705c4975c2eb\")>,\n",
       " <selenium.webdriver.remote.webelement.WebElement (session=\"b2dc4e1cb1e4c48839917e8a6f6ca771\", element=\"cd2e062b-c9fc-47c5-8e08-0cd554b9bf5f\")>,\n",
       " <selenium.webdriver.remote.webelement.WebElement (session=\"b2dc4e1cb1e4c48839917e8a6f6ca771\", element=\"a42be84b-2abc-400a-b11c-a7e58b49791a\")>,\n",
       " <selenium.webdriver.remote.webelement.WebElement (session=\"b2dc4e1cb1e4c48839917e8a6f6ca771\", element=\"28d57ead-1054-43a1-a38a-22c32b982134\")>,\n",
       " <selenium.webdriver.remote.webelement.WebElement (session=\"b2dc4e1cb1e4c48839917e8a6f6ca771\", element=\"84a204f4-8d8a-4a6d-854a-1b39a80f4c1b\")>,\n",
       " <selenium.webdriver.remote.webelement.WebElement (session=\"b2dc4e1cb1e4c48839917e8a6f6ca771\", element=\"53d5a293-1384-490a-89fc-1314d92d00f4\")>,\n",
       " <selenium.webdriver.remote.webelement.WebElement (session=\"b2dc4e1cb1e4c48839917e8a6f6ca771\", element=\"bc287c5b-3bac-422e-8610-b96cbaaaa71b\")>,\n",
       " <selenium.webdriver.remote.webelement.WebElement (session=\"b2dc4e1cb1e4c48839917e8a6f6ca771\", element=\"2606902a-0b39-41a6-84f8-9bff34c20729\")>,\n",
       " <selenium.webdriver.remote.webelement.WebElement (session=\"b2dc4e1cb1e4c48839917e8a6f6ca771\", element=\"bc0490e0-0500-469f-9008-3aff066b6ff7\")>,\n",
       " <selenium.webdriver.remote.webelement.WebElement (session=\"b2dc4e1cb1e4c48839917e8a6f6ca771\", element=\"3784bcfe-3adc-4026-a9ca-883c0f24263b\")>,\n",
       " <selenium.webdriver.remote.webelement.WebElement (session=\"b2dc4e1cb1e4c48839917e8a6f6ca771\", element=\"cb98ab21-0cae-420b-943d-b444bc554a4d\")>,\n",
       " <selenium.webdriver.remote.webelement.WebElement (session=\"b2dc4e1cb1e4c48839917e8a6f6ca771\", element=\"9b13297b-79bf-4431-b2ae-2a2ecdf0448e\")>,\n",
       " <selenium.webdriver.remote.webelement.WebElement (session=\"b2dc4e1cb1e4c48839917e8a6f6ca771\", element=\"66c29fc9-6b51-4256-8a50-1efece054345\")>,\n",
       " <selenium.webdriver.remote.webelement.WebElement (session=\"b2dc4e1cb1e4c48839917e8a6f6ca771\", element=\"6d40fc2e-6040-4310-86aa-e51eec12ab24\")>,\n",
       " <selenium.webdriver.remote.webelement.WebElement (session=\"b2dc4e1cb1e4c48839917e8a6f6ca771\", element=\"14d99876-aa57-4559-b69b-b08083988616\")>,\n",
       " <selenium.webdriver.remote.webelement.WebElement (session=\"b2dc4e1cb1e4c48839917e8a6f6ca771\", element=\"fc2f719b-f3f8-451e-a37b-07211c66e045\")>,\n",
       " <selenium.webdriver.remote.webelement.WebElement (session=\"b2dc4e1cb1e4c48839917e8a6f6ca771\", element=\"cbce765b-c34e-4686-ab6f-0f7949b7f7d9\")>,\n",
       " <selenium.webdriver.remote.webelement.WebElement (session=\"b2dc4e1cb1e4c48839917e8a6f6ca771\", element=\"fd82126c-db99-4df5-8d7f-839188821803\")>,\n",
       " <selenium.webdriver.remote.webelement.WebElement (session=\"b2dc4e1cb1e4c48839917e8a6f6ca771\", element=\"e302502d-82e2-44eb-95a0-e4a900a2f152\")>,\n",
       " <selenium.webdriver.remote.webelement.WebElement (session=\"b2dc4e1cb1e4c48839917e8a6f6ca771\", element=\"fd44c988-8879-481b-b5b2-4bfec82ab53b\")>]"
      ]
     },
     "execution_count": 103,
     "metadata": {},
     "output_type": "execute_result"
    }
   ],
   "source": [
    "#now extract all the tags having the full job-description.\n",
    "job_desc = driver.find_elements_by_xpath('//div[@class=\"job-description fs12 grey-text\"]')\n",
    "job_desc"
   ]
  },
  {
   "cell_type": "code",
   "execution_count": 104,
   "id": "4fb2df49",
   "metadata": {},
   "outputs": [
    {
     "data": {
      "text/plain": [
       "['Dynamic recruiting professional with 7 - 10 years of high-performance tech recruiting e...',\n",
       " 'Masters (With 5 years of experience) or PhD degree (2 years of experience) in computer ...',\n",
       " 'Experience or certifications with visualization tools (Tableau / Qlik/PowerBI etc.)Well...',\n",
       " 'Understanding of deep learning fundamentals including network architectures, training a...',\n",
       " 'What You Will Do Build models (or ML models) that generate or lead to the answer to som...',\n",
       " 'What You Will Do Build models (or ML models) that generate or lead to the answer to som...',\n",
       " 'Key Responsibilities: You will work with the founding team of kaleidofin (a fintech pla...',\n",
       " 'Experience using business intelligence tools (e.g',\n",
       " 'Understanding of deep learning fundamentals including network architectures, training a...',\n",
       " 'Bachelor s degree in computer science economics, statistics, mathematics, operations re...',\n",
       " 'Bachelor s or Master s degree in a quantitative discipline (e.g., data science, statist...',\n",
       " 'Experience in risk and credit score domains preferred 10 years of professional experien...',\n",
       " 'Experience in end-to-end ML engineering / MLOpsDemonstrated experience in understanding...',\n",
       " 'The ideal candidate should constantly stays on top of the industry s trends, in order t...',\n",
       " 'Required Good Communication skills Expert level experience with Analytical Techniques: ...',\n",
       " 'Candidate should be well versed in executing statistical models on Regression, Ancova, ...',\n",
       " 'Should work in inter-disciplinary teams that will include product formulators, process ...',\n",
       " '3 years of experience performing predictive analytics at a large scale enterprise 3 yea...',\n",
       " 'Experience in applied machine learning or artificial intelligence Experience with one o...',\n",
       " 'To discover, develop and deliver innovative data enabled solution and to be preferred p...']"
      ]
     },
     "execution_count": 104,
     "metadata": {},
     "output_type": "execute_result"
    }
   ],
   "source": [
    "job_descrp = []\n",
    "for i in job_desc:\n",
    "    job_descrp.append(i.text)\n",
    "job_descrp"
   ]
  },
  {
   "cell_type": "markdown",
   "id": "8263140c",
   "metadata": {},
   "source": [
    "so now we have extracted the data required from the webpage and stored them in the 4 lists mentioned above.company name,company title,job location,job experience.now we creating a dataframe from these lists using with pandas library,before first we check length of the each lists"
   ]
  },
  {
   "cell_type": "code",
   "execution_count": 106,
   "id": "f7b3cda1",
   "metadata": {},
   "outputs": [
    {
     "name": "stdout",
     "output_type": "stream",
     "text": [
      "20 20 20 20\n"
     ]
    }
   ],
   "source": [
    "#check the length of each list\n",
    "print(len(job_titles),len(job_locs),len(company_title),len(job_descrp))"
   ]
  },
  {
   "cell_type": "code",
   "execution_count": 109,
   "id": "e9c3f98a",
   "metadata": {},
   "outputs": [],
   "source": [
    "#now create the dataframe using with pandas\n",
    "jobs = pd.DataFrame({})\n",
    "jobs['job_title'] = job_titles\n",
    "jobs['company_name'] = company_title\n",
    "jobs['full_job_description'] = job_descrp\n",
    "jobs['job_lacation'] = job_locs"
   ]
  },
  {
   "cell_type": "code",
   "execution_count": 110,
   "id": "b34aa550",
   "metadata": {},
   "outputs": [
    {
     "data": {
      "text/html": [
       "<div>\n",
       "<style scoped>\n",
       "    .dataframe tbody tr th:only-of-type {\n",
       "        vertical-align: middle;\n",
       "    }\n",
       "\n",
       "    .dataframe tbody tr th {\n",
       "        vertical-align: top;\n",
       "    }\n",
       "\n",
       "    .dataframe thead th {\n",
       "        text-align: right;\n",
       "    }\n",
       "</style>\n",
       "<table border=\"1\" class=\"dataframe\">\n",
       "  <thead>\n",
       "    <tr style=\"text-align: right;\">\n",
       "      <th></th>\n",
       "      <th>job_title</th>\n",
       "      <th>company_name</th>\n",
       "      <th>full_job_description</th>\n",
       "      <th>job_lacation</th>\n",
       "    </tr>\n",
       "  </thead>\n",
       "  <tbody>\n",
       "    <tr>\n",
       "      <th>0</th>\n",
       "      <td>Data Engineers , Data Scientist and SAP</td>\n",
       "      <td>Teamware Solutions</td>\n",
       "      <td>Dynamic recruiting professional with 7 - 10 ye...</td>\n",
       "      <td>Bangalore/Bengaluru</td>\n",
       "    </tr>\n",
       "    <tr>\n",
       "      <th>1</th>\n",
       "      <td>Senior Software Engineer - Data Scientist</td>\n",
       "      <td>Ara Resources</td>\n",
       "      <td>Masters (With 5 years of experience) or PhD de...</td>\n",
       "      <td>Bangalore/Bengaluru</td>\n",
       "    </tr>\n",
       "    <tr>\n",
       "      <th>2</th>\n",
       "      <td>Senior Associate - Data Scientist</td>\n",
       "      <td>Novotree Minds Consulting Pvt Limited</td>\n",
       "      <td>Experience or certifications with visualizatio...</td>\n",
       "      <td>Bangalore/Bengaluru</td>\n",
       "    </tr>\n",
       "    <tr>\n",
       "      <th>3</th>\n",
       "      <td>Sr . Data Scientist</td>\n",
       "      <td>Perform Group</td>\n",
       "      <td>Understanding of deep learning fundamentals in...</td>\n",
       "      <td>Bangalore/Bengaluru</td>\n",
       "    </tr>\n",
       "    <tr>\n",
       "      <th>4</th>\n",
       "      <td>Senior Data Scientist</td>\n",
       "      <td>Gojek Tech</td>\n",
       "      <td>What You Will Do Build models (or ML models) t...</td>\n",
       "      <td>Bangalore/Bengaluru</td>\n",
       "    </tr>\n",
       "    <tr>\n",
       "      <th>5</th>\n",
       "      <td>Senior Data Scientist</td>\n",
       "      <td>GO-JEK India</td>\n",
       "      <td>What You Will Do Build models (or ML models) t...</td>\n",
       "      <td>Bangalore/Bengaluru</td>\n",
       "    </tr>\n",
       "    <tr>\n",
       "      <th>6</th>\n",
       "      <td>Senior Data Scientist</td>\n",
       "      <td>Kaleidofin</td>\n",
       "      <td>Key Responsibilities: You will work with the f...</td>\n",
       "      <td>Chennai, Bangalore/Bengaluru</td>\n",
       "    </tr>\n",
       "    <tr>\n",
       "      <th>7</th>\n",
       "      <td>Senior Data Scientist</td>\n",
       "      <td>Nineleaps</td>\n",
       "      <td>Experience using business intelligence tools (e.g</td>\n",
       "      <td>Bangalore/Bengaluru</td>\n",
       "    </tr>\n",
       "    <tr>\n",
       "      <th>8</th>\n",
       "      <td>Sr. Data Scientist</td>\n",
       "      <td>Eagleview</td>\n",
       "      <td>Understanding of deep learning fundamentals in...</td>\n",
       "      <td>Bangalore/Bengaluru</td>\n",
       "    </tr>\n",
       "    <tr>\n",
       "      <th>9</th>\n",
       "      <td>Data Scientist</td>\n",
       "      <td>Visa Inc.</td>\n",
       "      <td>Bachelor s degree in computer science economic...</td>\n",
       "      <td>Bangalore/Bengaluru</td>\n",
       "    </tr>\n",
       "    <tr>\n",
       "      <th>10</th>\n",
       "      <td>Lead Data Scientist</td>\n",
       "      <td>Publicis Groupe</td>\n",
       "      <td>Bachelor s or Master s degree in a quantitativ...</td>\n",
       "      <td>Bangalore/Bengaluru</td>\n",
       "    </tr>\n",
       "    <tr>\n",
       "      <th>11</th>\n",
       "      <td>Lead Data Scientist</td>\n",
       "      <td>Kaleidofin</td>\n",
       "      <td>Experience in risk and credit score domains pr...</td>\n",
       "      <td>Chennai, Bangalore/Bengaluru</td>\n",
       "    </tr>\n",
       "    <tr>\n",
       "      <th>12</th>\n",
       "      <td>Senior Data Scientist</td>\n",
       "      <td>IBM India Pvt. Limited</td>\n",
       "      <td>Experience in end-to-end ML engineering / MLOp...</td>\n",
       "      <td>Bangalore/Bengaluru</td>\n",
       "    </tr>\n",
       "    <tr>\n",
       "      <th>13</th>\n",
       "      <td>Senior Data Scientist</td>\n",
       "      <td>L A Consultancy</td>\n",
       "      <td>The ideal candidate should constantly stays on...</td>\n",
       "      <td>Kochi/Cochin, Hyderabad/Secunderabad, Pune, Ch...</td>\n",
       "    </tr>\n",
       "    <tr>\n",
       "      <th>14</th>\n",
       "      <td>Senior Analyst/Data Scientist</td>\n",
       "      <td>Naukri Premium - Employer Services</td>\n",
       "      <td>Required Good Communication skills Expert leve...</td>\n",
       "      <td>Bangalore/Bengaluru</td>\n",
       "    </tr>\n",
       "    <tr>\n",
       "      <th>15</th>\n",
       "      <td>Senior Data Scientist</td>\n",
       "      <td>RANDSTAD INDIA PVT LTD</td>\n",
       "      <td>Candidate should be well versed in executing s...</td>\n",
       "      <td>Bangalore/Bengaluru</td>\n",
       "    </tr>\n",
       "    <tr>\n",
       "      <th>16</th>\n",
       "      <td>Associate Data Scientist</td>\n",
       "      <td>ExecBoardinAsia</td>\n",
       "      <td>Should work in inter-disciplinary teams that w...</td>\n",
       "      <td>Bangalore/Bengaluru</td>\n",
       "    </tr>\n",
       "    <tr>\n",
       "      <th>17</th>\n",
       "      <td>Data Scientist - Senior / Lead</td>\n",
       "      <td>Superior Group</td>\n",
       "      <td>3 years of experience performing predictive an...</td>\n",
       "      <td>Bangalore/Bengaluru</td>\n",
       "    </tr>\n",
       "    <tr>\n",
       "      <th>18</th>\n",
       "      <td>Lead Data Scientist - Tensorflow/Machine Learning</td>\n",
       "      <td>Getinz Techno Services</td>\n",
       "      <td>Experience in applied machine learning or arti...</td>\n",
       "      <td>Mumbai, Hyderabad/Secunderabad, Chennai, Banga...</td>\n",
       "    </tr>\n",
       "    <tr>\n",
       "      <th>19</th>\n",
       "      <td>Data Scientist</td>\n",
       "      <td>CropIn Technology Solutions Pvt. Ltd.</td>\n",
       "      <td>To discover, develop and deliver innovative da...</td>\n",
       "      <td>Bangalore/Bengaluru</td>\n",
       "    </tr>\n",
       "  </tbody>\n",
       "</table>\n",
       "</div>"
      ],
      "text/plain": [
       "                                            job_title  \\\n",
       "0             Data Engineers , Data Scientist and SAP   \n",
       "1           Senior Software Engineer - Data Scientist   \n",
       "2                   Senior Associate - Data Scientist   \n",
       "3                                 Sr . Data Scientist   \n",
       "4                               Senior Data Scientist   \n",
       "5                               Senior Data Scientist   \n",
       "6                               Senior Data Scientist   \n",
       "7                               Senior Data Scientist   \n",
       "8                                  Sr. Data Scientist   \n",
       "9                                      Data Scientist   \n",
       "10                                Lead Data Scientist   \n",
       "11                                Lead Data Scientist   \n",
       "12                              Senior Data Scientist   \n",
       "13                              Senior Data Scientist   \n",
       "14                      Senior Analyst/Data Scientist   \n",
       "15                              Senior Data Scientist   \n",
       "16                           Associate Data Scientist   \n",
       "17                     Data Scientist - Senior / Lead   \n",
       "18  Lead Data Scientist - Tensorflow/Machine Learning   \n",
       "19                                     Data Scientist   \n",
       "\n",
       "                             company_name  \\\n",
       "0                      Teamware Solutions   \n",
       "1                           Ara Resources   \n",
       "2   Novotree Minds Consulting Pvt Limited   \n",
       "3                           Perform Group   \n",
       "4                              Gojek Tech   \n",
       "5                            GO-JEK India   \n",
       "6                              Kaleidofin   \n",
       "7                               Nineleaps   \n",
       "8                               Eagleview   \n",
       "9                               Visa Inc.   \n",
       "10                        Publicis Groupe   \n",
       "11                             Kaleidofin   \n",
       "12                 IBM India Pvt. Limited   \n",
       "13                        L A Consultancy   \n",
       "14     Naukri Premium - Employer Services   \n",
       "15                 RANDSTAD INDIA PVT LTD   \n",
       "16                        ExecBoardinAsia   \n",
       "17                         Superior Group   \n",
       "18                 Getinz Techno Services   \n",
       "19  CropIn Technology Solutions Pvt. Ltd.   \n",
       "\n",
       "                                 full_job_description  \\\n",
       "0   Dynamic recruiting professional with 7 - 10 ye...   \n",
       "1   Masters (With 5 years of experience) or PhD de...   \n",
       "2   Experience or certifications with visualizatio...   \n",
       "3   Understanding of deep learning fundamentals in...   \n",
       "4   What You Will Do Build models (or ML models) t...   \n",
       "5   What You Will Do Build models (or ML models) t...   \n",
       "6   Key Responsibilities: You will work with the f...   \n",
       "7   Experience using business intelligence tools (e.g   \n",
       "8   Understanding of deep learning fundamentals in...   \n",
       "9   Bachelor s degree in computer science economic...   \n",
       "10  Bachelor s or Master s degree in a quantitativ...   \n",
       "11  Experience in risk and credit score domains pr...   \n",
       "12  Experience in end-to-end ML engineering / MLOp...   \n",
       "13  The ideal candidate should constantly stays on...   \n",
       "14  Required Good Communication skills Expert leve...   \n",
       "15  Candidate should be well versed in executing s...   \n",
       "16  Should work in inter-disciplinary teams that w...   \n",
       "17  3 years of experience performing predictive an...   \n",
       "18  Experience in applied machine learning or arti...   \n",
       "19  To discover, develop and deliver innovative da...   \n",
       "\n",
       "                                         job_lacation  \n",
       "0                                 Bangalore/Bengaluru  \n",
       "1                                 Bangalore/Bengaluru  \n",
       "2                                 Bangalore/Bengaluru  \n",
       "3                                 Bangalore/Bengaluru  \n",
       "4                                 Bangalore/Bengaluru  \n",
       "5                                 Bangalore/Bengaluru  \n",
       "6                        Chennai, Bangalore/Bengaluru  \n",
       "7                                 Bangalore/Bengaluru  \n",
       "8                                 Bangalore/Bengaluru  \n",
       "9                                 Bangalore/Bengaluru  \n",
       "10                                Bangalore/Bengaluru  \n",
       "11                       Chennai, Bangalore/Bengaluru  \n",
       "12                                Bangalore/Bengaluru  \n",
       "13  Kochi/Cochin, Hyderabad/Secunderabad, Pune, Ch...  \n",
       "14                                Bangalore/Bengaluru  \n",
       "15                                Bangalore/Bengaluru  \n",
       "16                                Bangalore/Bengaluru  \n",
       "17                                Bangalore/Bengaluru  \n",
       "18  Mumbai, Hyderabad/Secunderabad, Chennai, Banga...  \n",
       "19                                Bangalore/Bengaluru  "
      ]
     },
     "execution_count": 110,
     "metadata": {},
     "output_type": "execute_result"
    }
   ],
   "source": [
    "jobs"
   ]
  },
  {
   "cell_type": "code",
   "execution_count": 112,
   "id": "0865f56d",
   "metadata": {},
   "outputs": [
    {
     "data": {
      "text/html": [
       "<div>\n",
       "<style scoped>\n",
       "    .dataframe tbody tr th:only-of-type {\n",
       "        vertical-align: middle;\n",
       "    }\n",
       "\n",
       "    .dataframe tbody tr th {\n",
       "        vertical-align: top;\n",
       "    }\n",
       "\n",
       "    .dataframe thead th {\n",
       "        text-align: right;\n",
       "    }\n",
       "</style>\n",
       "<table border=\"1\" class=\"dataframe\">\n",
       "  <thead>\n",
       "    <tr style=\"text-align: right;\">\n",
       "      <th></th>\n",
       "      <th>job_title</th>\n",
       "      <th>company_name</th>\n",
       "      <th>full_job_description</th>\n",
       "      <th>job_lacation</th>\n",
       "    </tr>\n",
       "  </thead>\n",
       "  <tbody>\n",
       "    <tr>\n",
       "      <th>0</th>\n",
       "      <td>Data Engineers , Data Scientist and SAP</td>\n",
       "      <td>Teamware Solutions</td>\n",
       "      <td>Dynamic recruiting professional with 7 - 10 ye...</td>\n",
       "      <td>Bangalore/Bengaluru</td>\n",
       "    </tr>\n",
       "    <tr>\n",
       "      <th>1</th>\n",
       "      <td>Senior Software Engineer - Data Scientist</td>\n",
       "      <td>Ara Resources</td>\n",
       "      <td>Masters (With 5 years of experience) or PhD de...</td>\n",
       "      <td>Bangalore/Bengaluru</td>\n",
       "    </tr>\n",
       "    <tr>\n",
       "      <th>2</th>\n",
       "      <td>Senior Associate - Data Scientist</td>\n",
       "      <td>Novotree Minds Consulting Pvt Limited</td>\n",
       "      <td>Experience or certifications with visualizatio...</td>\n",
       "      <td>Bangalore/Bengaluru</td>\n",
       "    </tr>\n",
       "    <tr>\n",
       "      <th>3</th>\n",
       "      <td>Sr . Data Scientist</td>\n",
       "      <td>Perform Group</td>\n",
       "      <td>Understanding of deep learning fundamentals in...</td>\n",
       "      <td>Bangalore/Bengaluru</td>\n",
       "    </tr>\n",
       "    <tr>\n",
       "      <th>4</th>\n",
       "      <td>Senior Data Scientist</td>\n",
       "      <td>Gojek Tech</td>\n",
       "      <td>What You Will Do Build models (or ML models) t...</td>\n",
       "      <td>Bangalore/Bengaluru</td>\n",
       "    </tr>\n",
       "    <tr>\n",
       "      <th>5</th>\n",
       "      <td>Senior Data Scientist</td>\n",
       "      <td>GO-JEK India</td>\n",
       "      <td>What You Will Do Build models (or ML models) t...</td>\n",
       "      <td>Bangalore/Bengaluru</td>\n",
       "    </tr>\n",
       "    <tr>\n",
       "      <th>6</th>\n",
       "      <td>Senior Data Scientist</td>\n",
       "      <td>Kaleidofin</td>\n",
       "      <td>Key Responsibilities: You will work with the f...</td>\n",
       "      <td>Chennai, Bangalore/Bengaluru</td>\n",
       "    </tr>\n",
       "    <tr>\n",
       "      <th>7</th>\n",
       "      <td>Senior Data Scientist</td>\n",
       "      <td>Nineleaps</td>\n",
       "      <td>Experience using business intelligence tools (e.g</td>\n",
       "      <td>Bangalore/Bengaluru</td>\n",
       "    </tr>\n",
       "    <tr>\n",
       "      <th>8</th>\n",
       "      <td>Sr. Data Scientist</td>\n",
       "      <td>Eagleview</td>\n",
       "      <td>Understanding of deep learning fundamentals in...</td>\n",
       "      <td>Bangalore/Bengaluru</td>\n",
       "    </tr>\n",
       "    <tr>\n",
       "      <th>9</th>\n",
       "      <td>Data Scientist</td>\n",
       "      <td>Visa Inc.</td>\n",
       "      <td>Bachelor s degree in computer science economic...</td>\n",
       "      <td>Bangalore/Bengaluru</td>\n",
       "    </tr>\n",
       "  </tbody>\n",
       "</table>\n",
       "</div>"
      ],
      "text/plain": [
       "                                   job_title  \\\n",
       "0    Data Engineers , Data Scientist and SAP   \n",
       "1  Senior Software Engineer - Data Scientist   \n",
       "2          Senior Associate - Data Scientist   \n",
       "3                        Sr . Data Scientist   \n",
       "4                      Senior Data Scientist   \n",
       "5                      Senior Data Scientist   \n",
       "6                      Senior Data Scientist   \n",
       "7                      Senior Data Scientist   \n",
       "8                         Sr. Data Scientist   \n",
       "9                             Data Scientist   \n",
       "\n",
       "                            company_name  \\\n",
       "0                     Teamware Solutions   \n",
       "1                          Ara Resources   \n",
       "2  Novotree Minds Consulting Pvt Limited   \n",
       "3                          Perform Group   \n",
       "4                             Gojek Tech   \n",
       "5                           GO-JEK India   \n",
       "6                             Kaleidofin   \n",
       "7                              Nineleaps   \n",
       "8                              Eagleview   \n",
       "9                              Visa Inc.   \n",
       "\n",
       "                                full_job_description  \\\n",
       "0  Dynamic recruiting professional with 7 - 10 ye...   \n",
       "1  Masters (With 5 years of experience) or PhD de...   \n",
       "2  Experience or certifications with visualizatio...   \n",
       "3  Understanding of deep learning fundamentals in...   \n",
       "4  What You Will Do Build models (or ML models) t...   \n",
       "5  What You Will Do Build models (or ML models) t...   \n",
       "6  Key Responsibilities: You will work with the f...   \n",
       "7  Experience using business intelligence tools (e.g   \n",
       "8  Understanding of deep learning fundamentals in...   \n",
       "9  Bachelor s degree in computer science economic...   \n",
       "\n",
       "                   job_lacation  \n",
       "0           Bangalore/Bengaluru  \n",
       "1           Bangalore/Bengaluru  \n",
       "2           Bangalore/Bengaluru  \n",
       "3           Bangalore/Bengaluru  \n",
       "4           Bangalore/Bengaluru  \n",
       "5           Bangalore/Bengaluru  \n",
       "6  Chennai, Bangalore/Bengaluru  \n",
       "7           Bangalore/Bengaluru  \n",
       "8           Bangalore/Bengaluru  \n",
       "9           Bangalore/Bengaluru  "
      ]
     },
     "execution_count": 112,
     "metadata": {},
     "output_type": "execute_result"
    }
   ],
   "source": [
    "jobs.head(10)"
   ]
  },
  {
   "cell_type": "code",
   "execution_count": null,
   "id": "863255ed",
   "metadata": {},
   "outputs": [],
   "source": []
  },
  {
   "cell_type": "code",
   "execution_count": null,
   "id": "7f95547f",
   "metadata": {},
   "outputs": [],
   "source": []
  },
  {
   "cell_type": "markdown",
   "id": "03b52c61",
   "metadata": {},
   "source": [
    "# 2.Please note that you have to scrape full job description. For that you may have to open each job separately as shown below."
   ]
  },
  {
   "cell_type": "code",
   "execution_count": 4,
   "id": "253f2979",
   "metadata": {},
   "outputs": [],
   "source": [
    "#lets now import all required libraries \n",
    "import selenium\n",
    "import pandas as pd\n",
    "from selenium import webdriver"
   ]
  },
  {
   "cell_type": "code",
   "execution_count": 5,
   "id": "3746a6dd",
   "metadata": {},
   "outputs": [],
   "source": [
    "#lets first connect to the webdriver\n",
    "driver = webdriver.Chrome('chromedriver.exe')"
   ]
  },
  {
   "cell_type": "code",
   "execution_count": 6,
   "id": "4d306bf4",
   "metadata": {},
   "outputs": [],
   "source": [
    "url = 'https://www.naukri.com/'\n",
    "driver.get(url)"
   ]
  },
  {
   "cell_type": "code",
   "execution_count": 7,
   "id": "6a129729",
   "metadata": {},
   "outputs": [
    {
     "data": {
      "text/plain": [
       "<selenium.webdriver.remote.webelement.WebElement (session=\"7aa2d52c63a029c67243b1f5e8bd9e01\", element=\"5adee68e-ecb4-4df1-b432-3a3b6c141277\")>"
      ]
     },
     "execution_count": 7,
     "metadata": {},
     "output_type": "execute_result"
    }
   ],
   "source": [
    "#finding job title\n",
    "search_job = driver.find_element_by_id(\"qsb-keyword-sugg\")\n",
    "search_job"
   ]
  },
  {
   "cell_type": "code",
   "execution_count": 8,
   "id": "372c2531",
   "metadata": {},
   "outputs": [],
   "source": [
    "#write on search for\n",
    "search_job.send_keys('machine learning data science')"
   ]
  },
  {
   "cell_type": "code",
   "execution_count": 9,
   "id": "57df1f75",
   "metadata": {},
   "outputs": [],
   "source": [
    "#finding element for job location\n",
    "search_loc = driver.find_element_by_name('location')\n",
    "search_loc.send_keys('Bangalore')"
   ]
  },
  {
   "cell_type": "code",
   "execution_count": 10,
   "id": "af0dfedc",
   "metadata": {},
   "outputs": [
    {
     "data": {
      "text/plain": [
       "<selenium.webdriver.remote.webelement.WebElement (session=\"7aa2d52c63a029c67243b1f5e8bd9e01\", element=\"f8523179-2fbd-490e-82ec-55c4caa4adca\")>"
      ]
     },
     "execution_count": 10,
     "metadata": {},
     "output_type": "execute_result"
    }
   ],
   "source": [
    "#using xpath function\n",
    "search_btn = driver.find_element_by_xpath('//button[@class=\"btn\"]')\n",
    "search_btn"
   ]
  },
  {
   "cell_type": "code",
   "execution_count": 11,
   "id": "b1f145df",
   "metadata": {},
   "outputs": [],
   "source": [
    "search_btn.click()"
   ]
  },
  {
   "cell_type": "code",
   "execution_count": 12,
   "id": "aa76f8f2",
   "metadata": {},
   "outputs": [],
   "source": [
    "url = 'https://www.naukri.com/job-listings-software-developer-nlp-machine-learning-data-science-cunesoft-bangalore-bengaluru-3-to-5-years-260919903903?src=jobsearchDesk&sid=16277592010254541&xp=1&px=1'\n",
    "driver.get(url)"
   ]
  },
  {
   "cell_type": "code",
   "execution_count": 13,
   "id": "e313b218",
   "metadata": {},
   "outputs": [
    {
     "data": {
      "text/plain": [
       "[<selenium.webdriver.remote.webelement.WebElement (session=\"7aa2d52c63a029c67243b1f5e8bd9e01\", element=\"2717fd7d-43a9-4452-8655-61db672c7466\")>]"
      ]
     },
     "execution_count": 13,
     "metadata": {},
     "output_type": "execute_result"
    }
   ],
   "source": [
    "#now extract all the tags having the full job description\n",
    "job_descr=driver.find_elements_by_xpath('//section[@class=\"job-desc\"]')\n",
    "job_descr"
   ]
  },
  {
   "cell_type": "code",
   "execution_count": 14,
   "id": "440783bc",
   "metadata": {},
   "outputs": [
    {
     "data": {
      "text/plain": [
       "['Job descriptionJob Description :- The individual should be self-motivated, creative and proactive, to work successfully in a fast-paced environment including diverse technologies, lab as well as cloud environments.- The individual will work closely with developers, project managers, engineers and other stakeholders throughout the organization.- The individual should have several years of experience developing with Microsoft .NET and NLP technology such as OpenNLP, the Standford NLP library, R Studio (or similar platforms), Python or Neural Networks. Knowledge in the area of text mining is a definite plus.- Develop and improve the existing data mining and NLP related processes within our Regulatory Data Management platform- Develop new ways of improving and transforming the regulatory processes Cunesoft customers are facing with the help of data mining and NLP integration- Interact with product management, project management and development teams to develop additional modules and functions within the Cunesoft Cloud Platform- Design and create solutions for pre specified modules and functions- Use existing tools and techniques to develop and test new and existing work- Define, create and execute automated test cases, i.e. unit tests- Participate in troubleshooting and triaging of issues with different teams to drive towards root cause identification and resolutionSupport production deployment of applications and perform - validation testing- during the off-hours maintenance windows- Support and fix existing and new identified issues by either customers or internal test teams.The individual should have several years of experience developing with Microsoft .NET (#.NET technologies. Skills: C#, #ASP.Net, #Java Script, #JQuery, #Entity Framework, #MVC, #LINQ, #Kendo, #Bootstrap, #Web Api, #Windows Azure Cloud, #SQL Server), Machine Learning, AI, NLP technology such as OpenNLP, the Standford NLP library, R Studio (or similar platforms), Python or Neural Networks. Knowledge in the area of text mining / data mining technologies libraries such as scikit learn, pandas, numpy, etc.RoleSoftware DeveloperIndustry TypeIT Services & ConsultingFunctional AreaIT Software - DBA, DatawarehousingEmployment TypeFull Time, PermanentRole CategoryProgramming & DesignEducationUG :B.Sc in Any Specialization, BCA in Computers, B.Tech/B.E. in Any SpecializationPG :Any PostgraduateDoctorate :Doctorate Not RequiredKey SkillsC#Data ScienceSoftware DeveloperNLPArtificial IntelligenceData Mining.NetEntity FrameworkMVCMachine LearningPython']"
      ]
     },
     "execution_count": 14,
     "metadata": {},
     "output_type": "execute_result"
    }
   ],
   "source": [
    "job_descreption = []\n",
    "for i in job_descr:\n",
    "    job_descreption.append(i.text.replace('\\n',''))\n",
    "job_descreption"
   ]
  },
  {
   "cell_type": "code",
   "execution_count": 15,
   "id": "a96732f3",
   "metadata": {},
   "outputs": [],
   "source": [
    "url = 'https://www.naukri.com/job-listings-data-science-product-manager-artificial-intelligence-machine-learning-catalyst-bangalore-bengaluru-4-to-9-years-150121904945?src=sortby&sid=16277617463896027_1&xp=5&px=1'\n",
    "driver.get(url)"
   ]
  },
  {
   "cell_type": "code",
   "execution_count": 16,
   "id": "e9b7acce",
   "metadata": {},
   "outputs": [
    {
     "data": {
      "text/plain": [
       "[<selenium.webdriver.remote.webelement.WebElement (session=\"7aa2d52c63a029c67243b1f5e8bd9e01\", element=\"f414f683-79af-400f-aa54-6e3e31b7b9ae\")>]"
      ]
     },
     "execution_count": 16,
     "metadata": {},
     "output_type": "execute_result"
    }
   ],
   "source": [
    "#now extract all the tags having the full job description\n",
    "job_descr2=driver.find_elements_by_xpath('//section[@class=\"job-desc\"]')\n",
    "job_descr2"
   ]
  },
  {
   "cell_type": "code",
   "execution_count": 17,
   "id": "4e20b403",
   "metadata": {},
   "outputs": [
    {
     "data": {
      "text/plain": [
       "['Job descriptionRoles and Responsibilities- Should have managed a team directly at-least for a year- Solid understanding of Statistics, Machine Learning, Deep Learning and Artificial Intelligence Technologies- Hands on experience in YOLO and other object detection algorithms using Tensorflow/Keras libraries- Thorough knowledge in CNN, VGG, Resnet and InceptionNet backend networks and transfer learning- Expertise in productionalizing deep neural network based solution using Docker/ Kubernetes- Hands On experience in Python, R and equivalent programming languages- Expertise in building, productionizing and scaling analytics solutions for big data problems- Experience in building and scaling models for time series (such as sensors etc.) data is a priority- Experience with SQL and NoSQL databases- Familiarity with agile execution of data science projects.RoleProduct ManagerIndustry TypeIT Services & ConsultingFunctional AreaIT Software - Application Programming, MaintenanceEmployment TypeFull Time, PermanentRole CategoryProgramming & DesignEducationUG :BCA in Computers, B.Sc in Any Specialization, B.Tech/B.E. in Any SpecializationPG :Any PostgraduateDoctorate :Doctorate Not RequiredKey SkillsTensorflowalgorithmsProduct ManagementArtificial IntelligenceMachine LearningDeep LearningSQLData ScienceRNoSQLDockerPythonKubernetes']"
      ]
     },
     "execution_count": 17,
     "metadata": {},
     "output_type": "execute_result"
    }
   ],
   "source": [
    "job_descreption2 = []\n",
    "for i in job_descr2:\n",
    "    job_descreption2.append(i.text.replace('\\n',''))\n",
    "job_descreption2"
   ]
  },
  {
   "cell_type": "code",
   "execution_count": 18,
   "id": "179f4150",
   "metadata": {},
   "outputs": [],
   "source": [
    "url = 'https://www.naukri.com/job-listings-head-of-data-science-machine-learning-r-python-tensorflow-beiing-in-bangalore-bengaluru-8-to-13-years-270121903281?src=jobsearchDesk&sid=16277622817499672&xp=6&px=1'\n",
    "driver.get(url)"
   ]
  },
  {
   "cell_type": "code",
   "execution_count": 19,
   "id": "aab1bdf3",
   "metadata": {},
   "outputs": [
    {
     "data": {
      "text/plain": [
       "[<selenium.webdriver.remote.webelement.WebElement (session=\"7aa2d52c63a029c67243b1f5e8bd9e01\", element=\"53a32b60-9675-4331-b221-f346b4126c9a\")>]"
      ]
     },
     "execution_count": 19,
     "metadata": {},
     "output_type": "execute_result"
    }
   ],
   "source": [
    "#now extract all the tags having the full job description\n",
    "job_descr3=driver.find_elements_by_xpath('//section[@class=\"job-desc\"]')\n",
    "job_descr3"
   ]
  },
  {
   "cell_type": "code",
   "execution_count": 20,
   "id": "76a173b7",
   "metadata": {},
   "outputs": [
    {
     "data": {
      "text/plain": [
       "['Job descriptionRoles and ResponsibilitiesAbout the role :We are looking for a highly-skilled, experienced, and passionate Data Science leader who can come on-board and help create the next generation of data-powered education tech product. The ideal candidate would be someone who has worked in a Data Science role before wherein he/she is comfortable working with unknowns, evaluating the data and the feasibility of applying scientific techniques to business problems and products, have built platforms from scratch and have a track record of developing and deploying data-science models into live applications.What you will do :- Leading the data science function, building the roadmap and setting up the best practices- Collaborate with and influence leadership to ensure Data Science directly impacts strategy- Drive an organizational effort toward a better understanding of user needs and pain points, and propose solutions that data science can provide to further this goal- Build and deploy Machine Learning models in production systems- Building platforms from scratch to solve image recognition and context understanding problems, and also improving search- Work with large, complex data sets. Solve difficult, non-routine analysis problems, applying advanced analytical methods as needed.- Conduct analysis that includes data gathering and requirements specification, processing, analysis, ongoing deliverables, and presentations- Develop comprehensive knowledge of data structures and metrics, advocating for changes, where needed for product development.- Interact cross-functionally, making business recommendations (e.g., cost-benefit, forecasting, experiment analysis) with effective presentations of findings at multiple levels of stakeholders through visual displays of quantitative information- Research and develop analysis, forecasting, and optimization methods to improve the product quality- Build and prototype analysis pipelines iteratively to provide insights at scale.- Building/maintaining of reports, dashboards, and metrics to monitor the performance of our products- Develop deep partnerships with engineering and product teams to deliver on major cross-functional measurements, testing, and modellingWhat you need :- Experience in OCR, Elastic Search, NLP and Python libraries - Pandas, NumPy, SciPy, TensorFlow, Scikit-learn- BS/BE/MS/PhD in a quantitative field such as Computer Science, Engineering, Math, Statistics or equivalent years of experience- 10+ years of experience in data science, algorithmic engineering, and machine learning.- Preferably solved problems from scratch to scale- Experience in hiring, managing and mentoring data science, data engineering, and analytics teams- Experience designing a data science roadmap and executing the vision behind it- Experience in handling data (structured+unstructured), building and deploying data science models (Regression, Decision Trees, K-Means, etc.) in production systems- Experience doing quantitative analysis including experience with SQL or other programming languages (Python, R). Experience with large data sets and analytical tools, e.g. Hive, Spark - Experience communicating the results of the analysis to an executive audience- Experience instilling a culture of ownership, collaboration, and results- Track record of recruiting talent in analytics and data science- Track record of delivering data-driven products and insightsRoleHead/VP/GM - Analytics & BIIndustry TypeIT Services & ConsultingFunctional AreaAnalytics & Business IntelligenceEmployment TypeFull Time, PermanentRole CategorySenior ManagementEducationUG :B.Sc in Maths, Statistics, Computers, B.Tech/B.E. in ComputersPG :MS/M.Sc(Science) in Maths, Computers, StatisticsDoctorate :Ph.D/Doctorate in Statistics, Computers, MathsKey SkillsData ScienceTensorflowRegression AlgorithmsRNLPElasticsearchPandasData ModelingMachine LearningData StructurePython']"
      ]
     },
     "execution_count": 20,
     "metadata": {},
     "output_type": "execute_result"
    }
   ],
   "source": [
    "job_descreption3 = []\n",
    "for i in job_descr3:\n",
    "    job_descreption3.append(i.text.replace('\\n',''))\n",
    "job_descreption3"
   ]
  },
  {
   "cell_type": "code",
   "execution_count": 21,
   "id": "8aaf1616",
   "metadata": {},
   "outputs": [],
   "source": [
    "url = 'https://www.naukri.com/job-listings-machine-learning-automation-expert-data-science-genpact-india-private-limited-gurgaon-gurugram-bangalore-bengaluru-6-to-11-years-130521002558?src=jobsearchDesk&sid=16277630538758822&xp=7&px=1'\n",
    "driver.get(url)"
   ]
  },
  {
   "cell_type": "code",
   "execution_count": 22,
   "id": "809532a0",
   "metadata": {},
   "outputs": [
    {
     "data": {
      "text/plain": [
       "[<selenium.webdriver.remote.webelement.WebElement (session=\"7aa2d52c63a029c67243b1f5e8bd9e01\", element=\"26036a8e-d680-4ade-85f4-d5928642229b\")>]"
      ]
     },
     "execution_count": 22,
     "metadata": {},
     "output_type": "execute_result"
    }
   ],
   "source": [
    "#now extract all the tags having the full job description\n",
    "job_descr4=driver.find_elements_by_xpath('//body[@id=\"top\"]')\n",
    "job_descr4"
   ]
  },
  {
   "cell_type": "code",
   "execution_count": 23,
   "id": "16f940ae",
   "metadata": {},
   "outputs": [
    {
     "data": {
      "text/plain": [
       "[\"HomeAbout UsJobsPeopleEventsMACHINE LEARNING & AUTOMATION EXPERT – DATA SCIENCEfrom 6 to 11 year(s) of Experience₹ Not Disclosed by RecruiterGurgaon/Gurugram, Bangalore/BengaluruLogin to Apply Apply without RegistrationPosted: 20 days agoJob Applicants: 1900+Job Views: 6092+Job DescriptionGenpact inviting applications for the role of a Machine Learning & Automation Expert - Data Science.Location: Bangalore / Gurgaon, IndiaWe are a global professional services firm that makes business transformation real. We drive digital-led innovation and digitally-enabled intelligent operations for our clients, guided by our experience running thousands of processes for hundreds of Global Fortune 500 companies.From New York to New Delhi and more than 20 countries in between, Genpact has the end-to-end expertise to connect every dot, reimagine every process, and reinvent companies ways of working.Our focus is to make sure we have the right set of people delivering what we promise. People who think with design, dream in digital, and solve problems with data and analytics. People who obsess over operations, focus on the details, and lead change by being curious, incisive and courageous in everything they doon a foundation of unyielding integrity.We are Genpact. Transformation happens here. Come, be a part of our exciting journey!The candidate should be MS in Mathematics, Computer Science, Information systems, or Computer engineering, Systems Engineering with relevant years of experience. Or PhD in Quantitative Marketing, Computational Science or Applied Engineering with industry experience in Applied Machine Learning / Predictive Analytics.Exposure to Machine Learning & Quantitative Methods in Marketing / Consumer Behavior is a must. Full cycle Real-world Analytics project experience is highly desirable: from creating a Business use case, PA assessment/roadmap, Technology & Analytic Solutioning, Implementation and Change Management.ResponsibilitiesFocus of the Function:There are 3 areas that this role will focus on in order of importance:Consultant - Providing thought leadership and best practices related to Process automations, Predictive Analytics / Machine Learning Solutions to Genpact's customers. Identify specific capability, practices, tools, and people that the organization would need to develop.Solutioning - Conceptualize and develop relevant Predictive analytics solutions for our Analytic Customers. Envisioning opportunistic areas with our clients by demonstrating relevant and credible Predictive Analytics solutions and paradigms. The role may entail carrying out high level assessment of customer Analytics readiness and creating the associated analytic benchmarking which may ultimately converge into a client specific Predictive Analytics roadmapPre-Sales Lead / Collaborate in response to Automations/ Predictive Analytics / Machine learning based RFI/RFP.Key Roles and ResponsibilitiesThe Automation & Machine Learning Competency Leader is expected to play a pivotal bridging role between statistical, technology specialists, AND the business /functional resources. At a broad level, the PA leader shall leverage his/her solutioning expertise to translate the customers business need into a techno-analytic problem and appropriately work with the statistical & technology specialist to bring large scale analytic solutions to fruition. The right candidate should have prior experience in Consulting and pre-sales.The key responsibilities of the Predictive Analytics Leader are:Provide Strategic Onsite Consulting & Solutioning to customers/Genpact during their Analytics adoption journeyCreation of IPIE Solution Roadmap and Commitment / Responsibility for implementing the same in conjunction with technology specialistsWork in conjunction with Presales / BD teams, your program manager, and other stakeholders towards spotting and converting short cycle mining opportunities that may arise from time to time.Participate in SME reviews of automation / Predictive Analytics opportunities/ engagementsActively collaborate with competency leaders in AI/ML, BI areas to stich big ticket solutions with end-to-end span.Jump-start Automation. Machine Learning projects with customer with focus on providing disruptive insights in reasonable timeframes.Jump start AI/ NLP projects on semi structured data (Raw text / Machine logs / sensor data etc)Required and Preferred SkillsSpecific Competencies EssentialTechnologyExposure to Statistical Toolkits such as R, Weka, MATLAB etc.Proficient in Python/R programming skills. Java programming skill is a plus.Direct involvement in working with large volumes of data and building, deploying, and measuring predictive analytics models (i.e. LSTM, RNN, SVM, decision tree, clustering, logistic regression, linear and non-linear regression).Deep learning frameworks such as Tensor Flow, Keras, Torch, TheanoMethodologyRelevant analytic Solutioning & Consulting experience in verticals such as Hi-tech, Manufacturing, Services with experience in delivering analytics on large structured and unstructured data corpusesSolid knowledge of concepts in Automations, Machine Learning, Statistics, esp., in their application to learning from large data sources.Proven expertise in deriving insights from large distributed databases.Demonstrated ability to Conduct look-ahead client research with focus on supplementing and strengthening the clients analytics agenda with newer tools and techniquesSpecific Competencies DesirableTechnologyUnderstanding of Graph DB and tools such as Neo4j etc.Understanding of NLP, NLU and Machine learning/Deep learning methodsSQL/NoSQL, MS Access, databasesUI development paradigms that would enable Text Mining Insights Visualization, e.g., Adobe Flex Builder, HTML5, CSS3Linux, GPU ExperienceSpark, Scala for distributed computingMethodologyPrevious experience with Auto ML, IBM Watson etc.Ability to Prioritize, Consultative mindset & Time management skillsUnderstanding/experience with the Google Cloud Platform/AWS/Azure and other Big Data solutions such as Cloudera is preferredRole:Technical ArchitectSalary: Not Disclosed by RecruiterIndustry:BPO / Call CentreFunctional Area:IT Software - Application Programming, MaintenanceRole Category:Programming & DesignEmployment Type:Full Time, PermanentKey SkillsData ScienceMachine LearningEducation-PG:MS/M.Sc(Science) in Any SpecializationDoctorate:Any DoctorateCompany ProfileGENPACT India Private LimitedGenpact (NYSE: G) is a global professional services firm focused on delivering digital transformation for our clients, putting digital and data to work to create competitive advantage. We do this by integrating lean principles, design thinking, analytics and digital technologies with our domain and industry expertise to deliver disruptive business outcomes – an approach we call Lean DigitalSM. We deliver value to our clients in two ways – through digital-led, domain-enabled solutions that drive innovation, and through intelligent operations enabled by digital that design, transform and run clients’ operations. Our approach is continually refined in one of the world’s largest digital process sandboxes, where we test and improve thousands of processes. For two decades, first as a General Electric division and since 2005 as an independent company, we have been passionately serving our clients. We generate impact for clients from the Fortune Global 500 and beyond, and employ over 77,000 people in more than 20 countries, with key offices in New York City, Palo Alto, London, and Delhi. For additional information, visit www.genpact.com. Follow Genpact on LinkedIn, Twitter, YouTube, and Facebook.Company InfoView Contact Details+Content Provided By Genpact, Info Edge India Limited Disclaims All Warranties Against Infringement.Visit Security Guidelines And Terms And Conditions For More Comprehensive Information In This Regard.Powered By\"]"
      ]
     },
     "execution_count": 23,
     "metadata": {},
     "output_type": "execute_result"
    }
   ],
   "source": [
    "job_descreption4 = []\n",
    "for i in job_descr4:\n",
    "    job_descreption4.append(i.text.replace('\\n',''))\n",
    "job_descreption4"
   ]
  },
  {
   "cell_type": "code",
   "execution_count": 24,
   "id": "fbd4ee0d",
   "metadata": {},
   "outputs": [],
   "source": [
    "url = 'https://www.naukri.com/job-listings-data-science-manager-machine-learning-artificial-intelligence-savantys-solutions-hyderabad-secunderabad-bangalore-bengaluru-8-to-13-years-170621906439?src=jobsearchDesk&sid=16277643301971035&xp=9&px=1'\n",
    "driver.get(url)"
   ]
  },
  {
   "cell_type": "code",
   "execution_count": 25,
   "id": "cb3a079f",
   "metadata": {},
   "outputs": [
    {
     "data": {
      "text/plain": [
       "[<selenium.webdriver.remote.webelement.WebElement (session=\"7aa2d52c63a029c67243b1f5e8bd9e01\", element=\"242cc10c-440e-44ae-9766-f86c3af8c01a\")>]"
      ]
     },
     "execution_count": 25,
     "metadata": {},
     "output_type": "execute_result"
    }
   ],
   "source": [
    "#now extract all the tags having the full job description\n",
    "job_descr5=driver.find_elements_by_xpath('//section[@class=\"job-desc\"]')\n",
    "job_descr5"
   ]
  },
  {
   "cell_type": "code",
   "execution_count": 26,
   "id": "a5a3037a",
   "metadata": {},
   "outputs": [
    {
     "data": {
      "text/plain": [
       "['Job descriptionJob Requirements :- 8+ years of IT Industry experience in Consulting & Program Management roles- Experience in Business Consulting roles with the ability to define and drive Solutions- Skills & Experience in leading Data Science engagements- Exposure to Data Application Open-Source Tool Stack like Python and JS stack- Exposure to Data Science methodologies like Machine Learning and Artificial Intelligence- Exposure to BI tools like Tableau and Power BI- Experience in working with Global Clients with responsibilities of Growth & Delivery- Strong Program Management skills to manage account delivery and operations- You must have a flair for taking a leadership role in customer Analytics practice to conceive strategic growth plans, map closely with clients and scale practice growth by mentoring a team of highly qualified people.- Understanding business problems, making sense of the data landscape & footprint, performing a combination of exploratory, Machine Learning & Advanced Analytics- You will be contributing to the development of our proprietary analytics product, repository of solutions and leverage analytics for better consumption of data.- You will have the opportunity to guide a team of analysts to offer exceptional solutions to clients, across domains.RoleAnalytics ManagerIndustry TypeIT Services & ConsultingFunctional AreaAnalytics & Business IntelligenceEmployment TypeFull Time, PermanentRole CategoryAnalytics & BIEducationUG :B.Tech/B.E. in Any Specialization, BCA in Any Specialization, B.Sc in Any SpecializationPG :Any PostgraduateDoctorate :Doctorate Not RequiredKey SkillsData ScienceOpen SourcePower BIData Science ManagerData ScientistArtificial IntelligenceTableauMachine LearningPython']"
      ]
     },
     "execution_count": 26,
     "metadata": {},
     "output_type": "execute_result"
    }
   ],
   "source": [
    "job_descreption5 = []\n",
    "for i in job_descr5:\n",
    "    job_descreption5.append(i.text.replace('\\n',''))\n",
    "job_descreption5"
   ]
  },
  {
   "cell_type": "code",
   "execution_count": 27,
   "id": "0e7e4f9b",
   "metadata": {},
   "outputs": [],
   "source": [
    "url = 'https://www.naukri.com/job-listings-data-scientist-geoconnectin-of-tiger-technology-bangalore-bengaluru-mumbai-all-areas-0-to-3-years-300721010252?src=jobsearchDesk&sid=16277644269297181&xp=10&px=1'\n",
    "driver.get(url)"
   ]
  },
  {
   "cell_type": "code",
   "execution_count": 28,
   "id": "b01308fc",
   "metadata": {},
   "outputs": [
    {
     "data": {
      "text/plain": [
       "[<selenium.webdriver.remote.webelement.WebElement (session=\"7aa2d52c63a029c67243b1f5e8bd9e01\", element=\"ed8eec63-3d5d-42c0-b9dd-d6ea104c0e99\")>]"
      ]
     },
     "execution_count": 28,
     "metadata": {},
     "output_type": "execute_result"
    }
   ],
   "source": [
    "#now extract all the tags having the full job description\n",
    "job_descr6=driver.find_elements_by_xpath('//section[@class=\"job-desc\"]')\n",
    "job_descr6"
   ]
  },
  {
   "cell_type": "code",
   "execution_count": 29,
   "id": "8ecf274d",
   "metadata": {},
   "outputs": [
    {
     "data": {
      "text/plain": [
       "['Job descriptionWe are hiring data Scientist:Analyze raw data: assessing quality, cleansing, structuring for downstream processingDesign accurate and scalable prediction algorithms Collaborate with engineering team to bring analytical prototypes to production.RoleData AnalystIndustry TypeSoftware ProductFunctional AreaAnalytics & Business IntelligenceEmployment TypeFull Time, PermanentRole CategoryAnalytics & BIEducationUG :B.Tech/B.E. in Any Specialization, Any GraduatePG :Any PostgraduateKey SkillsData SciencePattern RecognitionOpencvArtificial IntelligenceNatural Language ProcessingBig DataComputer VisionMachine LearningDeep Learning']"
      ]
     },
     "execution_count": 29,
     "metadata": {},
     "output_type": "execute_result"
    }
   ],
   "source": [
    "job_descreption6 = []\n",
    "for i in job_descr6:\n",
    "    job_descreption6.append(i.text.replace('\\n',''))\n",
    "job_descreption6"
   ]
  },
  {
   "cell_type": "code",
   "execution_count": 30,
   "id": "431de358",
   "metadata": {},
   "outputs": [],
   "source": [
    "url = 'https://www.naukri.com/job-listings-senior-data-analyst-publicis-groupe-bangalore-bengaluru-1-to-3-years-300721501294?src=jobsearchDesk&sid=16277648664775462&xp=11&px=1'\n",
    "driver.get(url)"
   ]
  },
  {
   "cell_type": "code",
   "execution_count": 31,
   "id": "69685b0a",
   "metadata": {},
   "outputs": [
    {
     "data": {
      "text/plain": [
       "[<selenium.webdriver.remote.webelement.WebElement (session=\"7aa2d52c63a029c67243b1f5e8bd9e01\", element=\"7a3439a0-5817-49e3-9c79-e892268830a4\")>]"
      ]
     },
     "execution_count": 31,
     "metadata": {},
     "output_type": "execute_result"
    }
   ],
   "source": [
    "#now extract all the tags having the full job description\n",
    "job_descr7=driver.find_elements_by_xpath('//section[@class=\"job-desc\"]')\n",
    "job_descr7"
   ]
  },
  {
   "cell_type": "code",
   "execution_count": 32,
   "id": "61db4411",
   "metadata": {},
   "outputs": [
    {
     "data": {
      "text/plain": [
       "['Job descriptionPeopleCloud Customer is a world-class cloud-based Customer Data Platform (CDP) fully enabled with a complete Marketing Automated Operating System (MAOS). The PeopleCloud Customer platform provides out-of-the-box SaaS and PaaS products that are fully integrated, including Customer Identity services, Deterministic and Probabilistic Customer Record stitching services and Marketing Machine Learning algorithms and models trained to deliver personalized activation at scale.Epsilon India team is looking for a talented team player in Data Visualization Expertise. You are an expert in at least one visualization tool or framework (Tableau or PowerBI or Google Data Studio), and also have exposure to other tools. You are not restricted to just making visualizations, but can also connect to various data storage or premise and on cloud effectively and efficiently. Some knowledge of data analysis and machine learning are required to generate best insights out of data, and to generate reports along with insights. Last but not the least, an aptitude to learn and deploy new and upcoming visualization tools (D3.js, Altair, Plotly, etc) is highly desirable.You will work with a distributed team (onshore and offshore) and work closely with a broadly talented team of delivery management, business analysts, visual designers, analytics, developers, and QA. Please note- this position is not just for an expert in one dashboard or a tool, but more of a visualization engineer who can work across data, tools, technologies and insights and convey the results to the stakeholders in an effective manner.Provide dashboard reporting solutions to clients using the required tool (Tableau / PowerBI), in a notebook environment, or in a cloud environmentOwn the end to end pipeline of connecting to data sources, initial data wrangling to get the data in the desired format, building dashboards and conveying the result/solution to stakeholdersAnswer key questions about data and analysis, generate relevant and actionable insights from data analysis linked to clear client business impact and convey them using visualization toolsOnboard new tools and technologies in the MML team (opensource visualizations, other tools)Understanding and contributing to the machine learning modeling pipelines, some knowledge of machine learning algorithms will be requiredProvide trainings on usage on novel visualization techniques to the team members to enable them to build better analysis and modelingPerform basic analysis of large volumes of web analytics, transaction, customer data, second and third-party data. Work with complex data structure, manipulate, cleanse data and prepare data for ingesting in the tools.QualificationsStrong passion for understanding key business problems, bringing together a team to understand data/ visualization needs and/or mine through data to unearth deep insightsExcellent communication & interpersonal skills with an ability to communicate ideas.Ability to interpret data and express the right insights using the right set of visualizationsExpertise in atleast one visualization tool (Tableau or Power BI)Good knowledge of Python and SQL to dive into the data and develop datasets for ingestion in the toolsGood understanding of cloud environment (Azure or AWS or GCP) to build the pipelines for connecting to the datasets and importing to the visualization toolsUnderstanding of basics of Data Modeling framework and basic machine learning algorithmsExperience with large scale databases and computing systems like Hadoop, HDInsight or DataBricks4+ years of overall experience with 2+ years in a data science role with demonstrable visualization tool experience  RoleDatabase Architect/DesignerIndustry TypeAdvertising & MarketingFunctional AreaIT Software - Application Programming, MaintenanceEmployment TypeFull Time, PermanentRole CategoryProgramming & DesignEducationUG :Any GraduatePG :Post Graduation Not RequiredKey SkillsData SciencePower BiHadoopData AnalysisData VisualizationData AnalystTableauData ModelingMachine LearningPython']"
      ]
     },
     "execution_count": 32,
     "metadata": {},
     "output_type": "execute_result"
    }
   ],
   "source": [
    "job_descreption7 = []\n",
    "for i in job_descr7:\n",
    "    job_descreption7.append(i.text.replace('\\n',''))\n",
    "job_descreption7"
   ]
  },
  {
   "cell_type": "code",
   "execution_count": 33,
   "id": "97abc309",
   "metadata": {},
   "outputs": [],
   "source": [
    "url = 'https://www.naukri.com/job-listings-data-science-advanced-application-engineer-accenture-solutions-pvt-ltd-bangalore-bengaluru-6-to-8-years-290721901229?src=jobsearchDesk&sid=16277649664734703&xp=12&px=1'\n",
    "driver.get(url)"
   ]
  },
  {
   "cell_type": "code",
   "execution_count": 34,
   "id": "9744d611",
   "metadata": {},
   "outputs": [
    {
     "data": {
      "text/plain": [
       "[<selenium.webdriver.remote.webelement.WebElement (session=\"7aa2d52c63a029c67243b1f5e8bd9e01\", element=\"7a541310-1cb8-409f-80d7-de38164a6216\")>]"
      ]
     },
     "execution_count": 34,
     "metadata": {},
     "output_type": "execute_result"
    }
   ],
   "source": [
    "#now extract all the tags having the full job description\n",
    "job_descr8=driver.find_elements_by_xpath('//div[@class=\"nConfig_textblock \"]')\n",
    "job_descr8"
   ]
  },
  {
   "cell_type": "code",
   "execution_count": 35,
   "id": "d2105ce0",
   "metadata": {},
   "outputs": [
    {
     "data": {
      "text/plain": [
       "['Job DescriptionProject Role : Advanced Application EngineerProject Role Description : Utilize modular architectures, next-generation integration techniques and a cloud-first, mobile-first mindset to provide vision to Application Development Teams. Work with an Agile mindset to create value across projects of multiple scopes and scale.Management Level : 9Work Experience : 6-8 yearsWork location : BengaluruMust Have Skills : Data ScienceGood To Have Skills : No Technology SpecializationJob Requirements :Key Responsibilities : 1 Should have knowledge of Data Extraction using Machine Learning, Deep Learning 2 Should have knowledge of transformation and Loading Data Wrangling and Data Exploration 3 Thoroughly aware about Machine Learning Algorithms 4 Well versed in Advanced Machine Learning, Deep Learning, Big Data Processing FrameworksTechnical Experience : 1 Programming Skills: Must have the knowledge on Statistics Machine Learning Multivariable Calculus Linear Algebra 2 Minimum 7 plus years of technical experience with ML / deep learning tools and packages 4 Must be good in Data VisualizationProfessional Attributes : 1 Be a self-starter and fast learner 2 Possess strong problem solving skills with the ability to methodically analyze and resolve tech challenges 3 Possess strong written,verbal, communication , analyitical , technical , inter personal and presentation skills 4 Excellent exp in interaction and handlingEducational Qualification : Bachelors or Master degree in Computer Science or equivalent']"
      ]
     },
     "execution_count": 35,
     "metadata": {},
     "output_type": "execute_result"
    }
   ],
   "source": [
    "job_descreption8 = []\n",
    "for i in job_descr8:\n",
    "    job_descreption8.append(i.text.replace('\\n',''))\n",
    "job_descreption8"
   ]
  },
  {
   "cell_type": "code",
   "execution_count": 36,
   "id": "0968173a",
   "metadata": {},
   "outputs": [],
   "source": [
    "url = 'https://www.naukri.com/job-listings-data-science-superior-group-bangalore-bengaluru-5-to-10-years-290721501855?src=jobsearchDesk&sid=16277651049937851&xp=13&px=1'\n",
    "driver.get(url)"
   ]
  },
  {
   "cell_type": "code",
   "execution_count": 37,
   "id": "a2b6621b",
   "metadata": {},
   "outputs": [
    {
     "data": {
      "text/plain": [
       "[]"
      ]
     },
     "execution_count": 37,
     "metadata": {},
     "output_type": "execute_result"
    }
   ],
   "source": [
    "#now extract all the tags having the full job description\n",
    "job_descr9=driver.find_elements_by_xpath('//section[@class=\"job-desc\"]')\n",
    "job_descr9"
   ]
  },
  {
   "cell_type": "code",
   "execution_count": 38,
   "id": "c53f35be",
   "metadata": {},
   "outputs": [
    {
     "data": {
      "text/plain": [
       "[]"
      ]
     },
     "execution_count": 38,
     "metadata": {},
     "output_type": "execute_result"
    }
   ],
   "source": [
    "job_descreption9 = []\n",
    "for i in job_descr9:\n",
    "    job_descreption9.append(i.text.replace('\\n',''))\n",
    "job_descreption9"
   ]
  },
  {
   "cell_type": "code",
   "execution_count": 39,
   "id": "35b35513",
   "metadata": {},
   "outputs": [],
   "source": [
    "url = 'https://www.naukri.com/job-listings-junior-data-scientist-bangalore-globussoft-bangalore-bengaluru-1-to-2-years-300721009807?src=jobsearchDesk&sid=16277651551139632&xp=14&px=1'\n",
    "driver.get(url)"
   ]
  },
  {
   "cell_type": "code",
   "execution_count": 40,
   "id": "16f516ff",
   "metadata": {},
   "outputs": [
    {
     "data": {
      "text/plain": [
       "[<selenium.webdriver.remote.webelement.WebElement (session=\"7aa2d52c63a029c67243b1f5e8bd9e01\", element=\"05508f04-d79a-44ad-9390-373ac972e1d7\")>]"
      ]
     },
     "execution_count": 40,
     "metadata": {},
     "output_type": "execute_result"
    }
   ],
   "source": [
    "#now extract all the tags having the full job description\n",
    "job_descr10=driver.find_elements_by_xpath('//section[@class=\"job-desc\"]')\n",
    "job_descr10"
   ]
  },
  {
   "cell_type": "code",
   "execution_count": 41,
   "id": "1200f234",
   "metadata": {},
   "outputs": [
    {
     "data": {
      "text/plain": [
       "['Job descriptionMust have skills: Python, ML/DL, NLP, Web/Data ScrapingSelecting features, building and optimizing classifiers using ML techniqueData mining using state-of-the-art methodsUse predictive modeling to increase & optimize customer experienceSQL/NoSQLRequired Candidate profileIf you have done 6 month of internship in DS/ML/Python/NLP, you can applyRoleDatabase Architect/DesignerIndustry TypeIT Services & ConsultingFunctional AreaIT Software - Application Programming, MaintenanceEmployment TypeFull Time, PermanentRole CategoryProgramming & DesignEducationUG :Any GraduateKey SkillsNatural Language ProcessingMachine LearningPythonPredictive ModelingData MiningDeep LearningSQLData ScienceNLPNoSQLData ScrapingData ModelingWeb ScrapingSkills highlighted with ‘‘ are preferred keyskills']"
      ]
     },
     "execution_count": 41,
     "metadata": {},
     "output_type": "execute_result"
    }
   ],
   "source": [
    "job_descreption10 = []\n",
    "for i in job_descr10:\n",
    "    job_descreption10.append(i.text.replace('\\n',''))\n",
    "job_descreption10"
   ]
  },
  {
   "cell_type": "code",
   "execution_count": null,
   "id": "49956a84",
   "metadata": {},
   "outputs": [],
   "source": []
  },
  {
   "cell_type": "markdown",
   "id": "994be61c",
   "metadata": {},
   "source": [
    "# Q3: In this question you have to scrape data using the filters available on thewebpage as shown below:"
   ]
  },
  {
   "cell_type": "code",
   "execution_count": 229,
   "id": "4fad4932",
   "metadata": {},
   "outputs": [],
   "source": [
    "#lets now import all required libraries \n",
    "import selenium\n",
    "import pandas as pd\n",
    "from selenium import webdriver"
   ]
  },
  {
   "cell_type": "code",
   "execution_count": 230,
   "id": "04c895f3",
   "metadata": {},
   "outputs": [],
   "source": [
    "#lets first connect to the webdriver\n",
    "driver = webdriver.Chrome('chromedriver.exe')"
   ]
  },
  {
   "cell_type": "code",
   "execution_count": 247,
   "id": "d9639ea0",
   "metadata": {},
   "outputs": [],
   "source": [
    "url = 'https://www.naukri.com/'\n",
    "driver.get(url)"
   ]
  },
  {
   "cell_type": "code",
   "execution_count": 248,
   "id": "fa309101",
   "metadata": {},
   "outputs": [
    {
     "data": {
      "text/plain": [
       "<selenium.webdriver.remote.webelement.WebElement (session=\"87e7a3658c5a88692eb7f337f5223db7\", element=\"187933ae-c2b9-4528-8bfc-6f87fa96763c\")>"
      ]
     },
     "execution_count": 248,
     "metadata": {},
     "output_type": "execute_result"
    }
   ],
   "source": [
    "#finding job title\n",
    "search_job = driver.find_element_by_id(\"qsb-keyword-sugg\")\n",
    "search_job"
   ]
  },
  {
   "cell_type": "code",
   "execution_count": 249,
   "id": "03822066",
   "metadata": {},
   "outputs": [],
   "source": [
    "#write on search for\n",
    "search_job.send_keys('Data Scientist')"
   ]
  },
  {
   "cell_type": "code",
   "execution_count": 250,
   "id": "c712e80c",
   "metadata": {},
   "outputs": [
    {
     "data": {
      "text/plain": [
       "<selenium.webdriver.remote.webelement.WebElement (session=\"87e7a3658c5a88692eb7f337f5223db7\", element=\"46171c26-40e1-4510-9ef7-789b8db765bd\")>"
      ]
     },
     "execution_count": 250,
     "metadata": {},
     "output_type": "execute_result"
    }
   ],
   "source": [
    "#using xpath function\n",
    "search_btn = driver.find_element_by_xpath('//button[@class=\"btn\"]')\n",
    "search_btn"
   ]
  },
  {
   "cell_type": "code",
   "execution_count": 251,
   "id": "f4f0d67a",
   "metadata": {},
   "outputs": [],
   "source": [
    "search_btn.click()"
   ]
  },
  {
   "cell_type": "code",
   "execution_count": 264,
   "id": "552d4df7",
   "metadata": {},
   "outputs": [
    {
     "data": {
      "text/plain": [
       "<selenium.webdriver.remote.webelement.WebElement (session=\"87e7a3658c5a88692eb7f337f5223db7\", element=\"1fd1f729-439d-490c-a5c6-fb7a141f5927\")>"
      ]
     },
     "execution_count": 264,
     "metadata": {},
     "output_type": "execute_result"
    }
   ],
   "source": [
    "#finding element for job location\n",
    "#using xpath function\n",
    "search_location = driver.find_element_by_xpath('//div[@class=\"filters\"]')\n",
    "search_location"
   ]
  },
  {
   "cell_type": "code",
   "execution_count": 263,
   "id": "728d5bf4",
   "metadata": {},
   "outputs": [],
   "source": [
    "search_location.click()"
   ]
  },
  {
   "cell_type": "code",
   "execution_count": 267,
   "id": "240a91ab",
   "metadata": {},
   "outputs": [
    {
     "data": {
      "text/plain": [
       "<selenium.webdriver.remote.webelement.WebElement (session=\"87e7a3658c5a88692eb7f337f5223db7\", element=\"8d57024b-b789-41bf-8ad6-84042073b3d1\")>"
      ]
     },
     "execution_count": 267,
     "metadata": {},
     "output_type": "execute_result"
    }
   ],
   "source": [
    "#finding element for job salary\n",
    "#using xpath function\n",
    "search_salary = driver.find_element_by_xpath('//div[@class=\"mt-8 chckBoxCont\"]')\n",
    "search_salary"
   ]
  },
  {
   "cell_type": "code",
   "execution_count": 268,
   "id": "812bc1ad",
   "metadata": {},
   "outputs": [],
   "source": [
    "search_salary.click()"
   ]
  },
  {
   "cell_type": "code",
   "execution_count": 285,
   "id": "11e1d80d",
   "metadata": {},
   "outputs": [
    {
     "data": {
      "text/plain": [
       "[<selenium.webdriver.remote.webelement.WebElement (session=\"87e7a3658c5a88692eb7f337f5223db7\", element=\"20b778b0-340c-4d5e-b8c3-9f3c6faa68ac\")>,\n",
       " <selenium.webdriver.remote.webelement.WebElement (session=\"87e7a3658c5a88692eb7f337f5223db7\", element=\"836445c7-afde-4fc8-8be0-cf51e4636840\")>,\n",
       " <selenium.webdriver.remote.webelement.WebElement (session=\"87e7a3658c5a88692eb7f337f5223db7\", element=\"72f37a27-af4a-4578-9fdb-0e98eb82c064\")>,\n",
       " <selenium.webdriver.remote.webelement.WebElement (session=\"87e7a3658c5a88692eb7f337f5223db7\", element=\"be94a717-39cf-4343-b2ec-02ef275c932f\")>,\n",
       " <selenium.webdriver.remote.webelement.WebElement (session=\"87e7a3658c5a88692eb7f337f5223db7\", element=\"cb8d88bb-9d6e-458a-bd70-494d241440b4\")>,\n",
       " <selenium.webdriver.remote.webelement.WebElement (session=\"87e7a3658c5a88692eb7f337f5223db7\", element=\"fb6d8c02-caf3-45ab-a4a5-9fc1b8d9df9a\")>,\n",
       " <selenium.webdriver.remote.webelement.WebElement (session=\"87e7a3658c5a88692eb7f337f5223db7\", element=\"596a9e2e-d9d9-4283-b29e-9c53c22a3b7b\")>,\n",
       " <selenium.webdriver.remote.webelement.WebElement (session=\"87e7a3658c5a88692eb7f337f5223db7\", element=\"d009fccc-e0cd-4059-8dcc-f89af1b22b0f\")>,\n",
       " <selenium.webdriver.remote.webelement.WebElement (session=\"87e7a3658c5a88692eb7f337f5223db7\", element=\"bd511498-f3c5-4a89-9486-a6b67d5c99ae\")>,\n",
       " <selenium.webdriver.remote.webelement.WebElement (session=\"87e7a3658c5a88692eb7f337f5223db7\", element=\"87664edd-cfea-44fc-8b88-77c82e68f8ec\")>,\n",
       " <selenium.webdriver.remote.webelement.WebElement (session=\"87e7a3658c5a88692eb7f337f5223db7\", element=\"b1eb197e-7587-43d8-84a8-f0263b424731\")>,\n",
       " <selenium.webdriver.remote.webelement.WebElement (session=\"87e7a3658c5a88692eb7f337f5223db7\", element=\"8b99b37e-950a-4410-bc09-db32db85c1e7\")>,\n",
       " <selenium.webdriver.remote.webelement.WebElement (session=\"87e7a3658c5a88692eb7f337f5223db7\", element=\"876677fa-842b-4c88-91ac-a5e6b9b79341\")>,\n",
       " <selenium.webdriver.remote.webelement.WebElement (session=\"87e7a3658c5a88692eb7f337f5223db7\", element=\"768e55d6-b34f-463b-b2c1-dc4b7369c6c5\")>,\n",
       " <selenium.webdriver.remote.webelement.WebElement (session=\"87e7a3658c5a88692eb7f337f5223db7\", element=\"d1f1128d-0010-4d55-bbb4-3cf27dd9d908\")>,\n",
       " <selenium.webdriver.remote.webelement.WebElement (session=\"87e7a3658c5a88692eb7f337f5223db7\", element=\"e645d91d-4fa3-460c-b49f-23aceb88a89d\")>,\n",
       " <selenium.webdriver.remote.webelement.WebElement (session=\"87e7a3658c5a88692eb7f337f5223db7\", element=\"07f251a8-5bb8-4218-bc0a-8e7f210fbf62\")>,\n",
       " <selenium.webdriver.remote.webelement.WebElement (session=\"87e7a3658c5a88692eb7f337f5223db7\", element=\"6b464b12-0aad-4354-abcc-ac18f512b29e\")>,\n",
       " <selenium.webdriver.remote.webelement.WebElement (session=\"87e7a3658c5a88692eb7f337f5223db7\", element=\"c0df080b-482d-4f57-a6a4-fab406d3b56a\")>,\n",
       " <selenium.webdriver.remote.webelement.WebElement (session=\"87e7a3658c5a88692eb7f337f5223db7\", element=\"92e17391-e985-4512-bc6c-a80e374f6c6f\")>]"
      ]
     },
     "execution_count": 285,
     "metadata": {},
     "output_type": "execute_result"
    }
   ],
   "source": [
    "#now extract all the tags having the job titles\n",
    "job_tags=driver.find_elements_by_xpath('//a[@class=\"title fw500 ellipsis\"]')\n",
    "job_tags"
   ]
  },
  {
   "cell_type": "code",
   "execution_count": 288,
   "id": "c4654b30",
   "metadata": {},
   "outputs": [
    {
     "data": {
      "text/plain": [
       "['Only Fresher / Data Scientist / Data Analyst / Analytics - MNC Jobs',\n",
       " 'Data Scientist / Data Analyst',\n",
       " 'Data Scientist - Machine Learning/NLP',\n",
       " 'Data Scientist - Machine Learning/NLP',\n",
       " 'Data Scientist',\n",
       " 'Data Scientist',\n",
       " 'Machine Learning Developer - Data Scientist',\n",
       " 'Data Scientist / Data Analyst - ( BFSI Industry ) - New Delhi',\n",
       " 'Associate Data Scientist',\n",
       " 'Data Scientist ( Hadoop / Redshift / BigQuery)',\n",
       " 'Data Scientist - Machine Learning/ NLP',\n",
       " 'Data Scientist (Hadoop/ Redshift/ BigQuery)',\n",
       " 'Data Scientist',\n",
       " 'Data Scientist / Data Analyst - ( BFSI Industry ) - New Delhi',\n",
       " 'Data Scientist Intern',\n",
       " 'Data Analyst',\n",
       " 'Senior Marketing Data Analyst',\n",
       " 'Hiring For GCP Data Engineer in Tata Consultancy Services - Pan India',\n",
       " 'Developers, Data Scientists, Web Designers, Android Developers',\n",
       " 'Job | Genpact Hiring GCP Data Engineers!!']"
      ]
     },
     "execution_count": 288,
     "metadata": {},
     "output_type": "execute_result"
    }
   ],
   "source": [
    "job_titles = []\n",
    "for i in job_tags:\n",
    "    job_titles.append(i.text)\n",
    "job_titles"
   ]
  },
  {
   "cell_type": "code",
   "execution_count": 289,
   "id": "4dbbeadc",
   "metadata": {},
   "outputs": [
    {
     "data": {
      "text/plain": [
       "[<selenium.webdriver.remote.webelement.WebElement (session=\"87e7a3658c5a88692eb7f337f5223db7\", element=\"3a54e2e4-f692-42df-b980-c5bd64905b89\")>,\n",
       " <selenium.webdriver.remote.webelement.WebElement (session=\"87e7a3658c5a88692eb7f337f5223db7\", element=\"eca9878c-09bd-4bcc-bfc0-2becf053cc21\")>,\n",
       " <selenium.webdriver.remote.webelement.WebElement (session=\"87e7a3658c5a88692eb7f337f5223db7\", element=\"5fbf667c-275f-4b42-bea8-f41e15fa5fe8\")>,\n",
       " <selenium.webdriver.remote.webelement.WebElement (session=\"87e7a3658c5a88692eb7f337f5223db7\", element=\"28971875-22b1-4c1c-b154-10a78d4f31ad\")>,\n",
       " <selenium.webdriver.remote.webelement.WebElement (session=\"87e7a3658c5a88692eb7f337f5223db7\", element=\"a46cfa01-6627-44cc-b733-ea471a9d1a12\")>,\n",
       " <selenium.webdriver.remote.webelement.WebElement (session=\"87e7a3658c5a88692eb7f337f5223db7\", element=\"3778fc65-37a4-4f06-bdfd-218f3bbeab16\")>,\n",
       " <selenium.webdriver.remote.webelement.WebElement (session=\"87e7a3658c5a88692eb7f337f5223db7\", element=\"2987b24a-3cf0-4b80-a576-eca2209e0b9f\")>,\n",
       " <selenium.webdriver.remote.webelement.WebElement (session=\"87e7a3658c5a88692eb7f337f5223db7\", element=\"d9b8bbdd-61f0-4957-88c6-2dbda6ec27c2\")>,\n",
       " <selenium.webdriver.remote.webelement.WebElement (session=\"87e7a3658c5a88692eb7f337f5223db7\", element=\"3566a8b8-2871-4680-bac3-728c36ada8db\")>,\n",
       " <selenium.webdriver.remote.webelement.WebElement (session=\"87e7a3658c5a88692eb7f337f5223db7\", element=\"4af07436-c962-433a-b045-c4db7cd5d5fa\")>,\n",
       " <selenium.webdriver.remote.webelement.WebElement (session=\"87e7a3658c5a88692eb7f337f5223db7\", element=\"445b3f3d-d9ba-48b3-a1a2-0f43d877856f\")>,\n",
       " <selenium.webdriver.remote.webelement.WebElement (session=\"87e7a3658c5a88692eb7f337f5223db7\", element=\"fd12a8e0-df6b-4a33-b133-04743a4b9939\")>,\n",
       " <selenium.webdriver.remote.webelement.WebElement (session=\"87e7a3658c5a88692eb7f337f5223db7\", element=\"10aedc84-a677-40d5-9d3c-11cc3f085249\")>,\n",
       " <selenium.webdriver.remote.webelement.WebElement (session=\"87e7a3658c5a88692eb7f337f5223db7\", element=\"d696c2a3-0685-425b-913d-d08158ca7e10\")>,\n",
       " <selenium.webdriver.remote.webelement.WebElement (session=\"87e7a3658c5a88692eb7f337f5223db7\", element=\"856c97fe-881d-4657-9e83-941af5dc03d0\")>,\n",
       " <selenium.webdriver.remote.webelement.WebElement (session=\"87e7a3658c5a88692eb7f337f5223db7\", element=\"a104cbd7-f53c-4716-97bb-0d103d720696\")>,\n",
       " <selenium.webdriver.remote.webelement.WebElement (session=\"87e7a3658c5a88692eb7f337f5223db7\", element=\"1d37cb7b-9d5f-4d64-a8d0-9d4adc6aad33\")>,\n",
       " <selenium.webdriver.remote.webelement.WebElement (session=\"87e7a3658c5a88692eb7f337f5223db7\", element=\"a1b0c141-7e61-4083-b9d1-6ac8094ca214\")>,\n",
       " <selenium.webdriver.remote.webelement.WebElement (session=\"87e7a3658c5a88692eb7f337f5223db7\", element=\"f0cc9de4-2bb9-40dc-ae1c-d9e35109b681\")>,\n",
       " <selenium.webdriver.remote.webelement.WebElement (session=\"87e7a3658c5a88692eb7f337f5223db7\", element=\"01ecc6ac-c390-4cc7-80e2-ad2903372e10\")>]"
      ]
     },
     "execution_count": 289,
     "metadata": {},
     "output_type": "execute_result"
    }
   ],
   "source": [
    "#now extract all the tags having the company names\n",
    "company_tags=driver.find_elements_by_xpath('//a[@class=\"subTitle ellipsis fleft\"]')\n",
    "company_tags"
   ]
  },
  {
   "cell_type": "code",
   "execution_count": 290,
   "id": "dc3612f8",
   "metadata": {},
   "outputs": [
    {
     "data": {
      "text/plain": [
       "['GABA Consultancy services',\n",
       " 'CARS24',\n",
       " 'TalPro',\n",
       " 'TalPro',\n",
       " 'Replicon Software',\n",
       " 'AlgoScale Technologies Private Limited',\n",
       " 'Compass Systems Private Limited',\n",
       " 'Reckon HR consulting',\n",
       " 'Liberin Technologies Private Limited',\n",
       " 'Jubna',\n",
       " 'TalPro',\n",
       " 'Jubna',\n",
       " 'Gauge Data Solutions Pvt Ltd',\n",
       " 'Reckon HR consulting',\n",
       " 'Salasar New Age Technologies',\n",
       " 'AG Technologies pvt Ltd',\n",
       " 'Tide Software',\n",
       " 'Tata Consultancy Services Ltd.',\n",
       " 'Cogmac Technologies',\n",
       " 'GENPACT India Private Limited']"
      ]
     },
     "execution_count": 290,
     "metadata": {},
     "output_type": "execute_result"
    }
   ],
   "source": [
    "company_title = []\n",
    "for i in company_tags:\n",
    "    company_title.append(i.text)\n",
    "company_title "
   ]
  },
  {
   "cell_type": "code",
   "execution_count": 291,
   "id": "b67945a3",
   "metadata": {},
   "outputs": [
    {
     "data": {
      "text/plain": [
       "[<selenium.webdriver.remote.webelement.WebElement (session=\"87e7a3658c5a88692eb7f337f5223db7\", element=\"048d0e6c-93b9-4daf-abbb-e1333e3f2f67\")>,\n",
       " <selenium.webdriver.remote.webelement.WebElement (session=\"87e7a3658c5a88692eb7f337f5223db7\", element=\"4935fec5-0d35-48d1-be18-f9f6c70acb08\")>,\n",
       " <selenium.webdriver.remote.webelement.WebElement (session=\"87e7a3658c5a88692eb7f337f5223db7\", element=\"d36726cd-aac9-4887-a825-c4ec814ab404\")>,\n",
       " <selenium.webdriver.remote.webelement.WebElement (session=\"87e7a3658c5a88692eb7f337f5223db7\", element=\"d2346b77-dda6-472d-8234-be44aeb47658\")>,\n",
       " <selenium.webdriver.remote.webelement.WebElement (session=\"87e7a3658c5a88692eb7f337f5223db7\", element=\"8a130c78-bb56-4ba8-aa90-871a8e023779\")>,\n",
       " <selenium.webdriver.remote.webelement.WebElement (session=\"87e7a3658c5a88692eb7f337f5223db7\", element=\"05e4eeff-cd47-4fdc-9832-24767e197efe\")>,\n",
       " <selenium.webdriver.remote.webelement.WebElement (session=\"87e7a3658c5a88692eb7f337f5223db7\", element=\"7509f9b5-ed71-407b-a208-68fa6f4f268e\")>,\n",
       " <selenium.webdriver.remote.webelement.WebElement (session=\"87e7a3658c5a88692eb7f337f5223db7\", element=\"91f3f1f3-cbda-4e7d-9eb1-8f5096d1e0d8\")>,\n",
       " <selenium.webdriver.remote.webelement.WebElement (session=\"87e7a3658c5a88692eb7f337f5223db7\", element=\"33b8dcca-08aa-41e2-9ba7-e4dfc3629a3f\")>,\n",
       " <selenium.webdriver.remote.webelement.WebElement (session=\"87e7a3658c5a88692eb7f337f5223db7\", element=\"e6339ce0-ed35-403c-a10d-3b31df366270\")>,\n",
       " <selenium.webdriver.remote.webelement.WebElement (session=\"87e7a3658c5a88692eb7f337f5223db7\", element=\"50bbcea6-f3be-4856-b10a-51a037fc110d\")>,\n",
       " <selenium.webdriver.remote.webelement.WebElement (session=\"87e7a3658c5a88692eb7f337f5223db7\", element=\"1ca31499-7262-4710-a079-a34509d8a0f3\")>,\n",
       " <selenium.webdriver.remote.webelement.WebElement (session=\"87e7a3658c5a88692eb7f337f5223db7\", element=\"fc4d8af5-1e6e-454e-99e7-ef2d1f70292c\")>,\n",
       " <selenium.webdriver.remote.webelement.WebElement (session=\"87e7a3658c5a88692eb7f337f5223db7\", element=\"ed14d6ac-e1a8-4188-8a25-65af452108ca\")>,\n",
       " <selenium.webdriver.remote.webelement.WebElement (session=\"87e7a3658c5a88692eb7f337f5223db7\", element=\"54d785f6-2c1e-4603-bdf1-dac0fd1c0000\")>,\n",
       " <selenium.webdriver.remote.webelement.WebElement (session=\"87e7a3658c5a88692eb7f337f5223db7\", element=\"c4d90aa9-95cf-4ba3-8641-ff36f4889e9d\")>,\n",
       " <selenium.webdriver.remote.webelement.WebElement (session=\"87e7a3658c5a88692eb7f337f5223db7\", element=\"1839a85e-74c8-4ed6-b995-bf26267ca835\")>,\n",
       " <selenium.webdriver.remote.webelement.WebElement (session=\"87e7a3658c5a88692eb7f337f5223db7\", element=\"bd6a1ad6-81f1-4bc6-9c80-225ff076a266\")>,\n",
       " <selenium.webdriver.remote.webelement.WebElement (session=\"87e7a3658c5a88692eb7f337f5223db7\", element=\"07b91ce0-7697-437e-a862-938561cfc0f5\")>,\n",
       " <selenium.webdriver.remote.webelement.WebElement (session=\"87e7a3658c5a88692eb7f337f5223db7\", element=\"5384f47b-11f4-4611-9a38-22dfd80f9cec\")>]"
      ]
     },
     "execution_count": 291,
     "metadata": {},
     "output_type": "execute_result"
    }
   ],
   "source": [
    "#now extract all the tags having the location\n",
    "job_loc = driver.find_elements_by_xpath('//li[@class=\"fleft grey-text br2 placeHolderLi location\"]//span[1]')\n",
    "job_loc"
   ]
  },
  {
   "cell_type": "code",
   "execution_count": 292,
   "id": "ec49732e",
   "metadata": {},
   "outputs": [
    {
     "data": {
      "text/plain": [
       "['Noida, Gurgaon/Gurugram, Delhi / NCR',\n",
       " 'Gurgaon/Gurugram',\n",
       " 'Gurgaon/Gurugram',\n",
       " 'Gurgaon/Gurugram',\n",
       " 'Kolkata, Hyderabad/Secunderabad, Pune, Ahmedabad, Chennai, Bangalore/Bengaluru, Delhi / NCR, Mumbai (All Areas)',\n",
       " 'Noida(Sector-62 Noida)',\n",
       " 'Noida',\n",
       " 'New Delhi',\n",
       " 'Noida',\n",
       " 'Noida',\n",
       " 'Gurgaon/Gurugram',\n",
       " 'Noida',\n",
       " 'Noida',\n",
       " 'New Delhi',\n",
       " 'Noida',\n",
       " 'Noida, Kolkata, Hyderabad/Secunderabad, Pune, Ahmedabad, Chennai, Bangalore/Bengaluru, Delhi / NCR, Mumbai (All Areas)',\n",
       " 'Gurgaon/Gurugram',\n",
       " 'Kolkata, Hyderabad/Secunderabad, Chennai, Gurgaon/Gurugram, Delhi / NCR, Bangalore/Bengaluru',\n",
       " 'Noida',\n",
       " 'Kolkata, Hyderabad/Secunderabad, Pune, Bangalore/Bengaluru, Delhi / NCR, Mumbai (All Areas)']"
      ]
     },
     "execution_count": 292,
     "metadata": {},
     "output_type": "execute_result"
    }
   ],
   "source": [
    "job_locs = []\n",
    "for i in job_loc:\n",
    "    job_locs.append(i.text)\n",
    "job_locs"
   ]
  },
  {
   "cell_type": "code",
   "execution_count": 293,
   "id": "37918cc2",
   "metadata": {},
   "outputs": [
    {
     "data": {
      "text/plain": [
       "[<selenium.webdriver.remote.webelement.WebElement (session=\"87e7a3658c5a88692eb7f337f5223db7\", element=\"4624e9f0-cfa5-4e00-9f69-a7318a21a10b\")>,\n",
       " <selenium.webdriver.remote.webelement.WebElement (session=\"87e7a3658c5a88692eb7f337f5223db7\", element=\"96009d6f-315d-4c2e-b097-a44576144c88\")>,\n",
       " <selenium.webdriver.remote.webelement.WebElement (session=\"87e7a3658c5a88692eb7f337f5223db7\", element=\"8fd1c754-68f1-4be6-8ace-1e55b60ca3cb\")>,\n",
       " <selenium.webdriver.remote.webelement.WebElement (session=\"87e7a3658c5a88692eb7f337f5223db7\", element=\"34d01c7f-97cb-4904-b79a-ce06c6cc796b\")>,\n",
       " <selenium.webdriver.remote.webelement.WebElement (session=\"87e7a3658c5a88692eb7f337f5223db7\", element=\"acb0ef83-235b-4f00-8d0a-b87ee6fc6553\")>,\n",
       " <selenium.webdriver.remote.webelement.WebElement (session=\"87e7a3658c5a88692eb7f337f5223db7\", element=\"28dd8bd7-68b5-498d-b96a-a5ab864da0e3\")>,\n",
       " <selenium.webdriver.remote.webelement.WebElement (session=\"87e7a3658c5a88692eb7f337f5223db7\", element=\"ee189a30-f1a5-40ac-80d6-c95491c4e151\")>,\n",
       " <selenium.webdriver.remote.webelement.WebElement (session=\"87e7a3658c5a88692eb7f337f5223db7\", element=\"279234de-e141-41f5-897f-a71606715c5a\")>,\n",
       " <selenium.webdriver.remote.webelement.WebElement (session=\"87e7a3658c5a88692eb7f337f5223db7\", element=\"c067e441-e84d-4122-918f-1fe88357d168\")>,\n",
       " <selenium.webdriver.remote.webelement.WebElement (session=\"87e7a3658c5a88692eb7f337f5223db7\", element=\"3abc5da8-a6eb-41fb-b7de-1717a9817e7d\")>,\n",
       " <selenium.webdriver.remote.webelement.WebElement (session=\"87e7a3658c5a88692eb7f337f5223db7\", element=\"3d4a8625-8545-4dec-99cb-fef7a44187cf\")>,\n",
       " <selenium.webdriver.remote.webelement.WebElement (session=\"87e7a3658c5a88692eb7f337f5223db7\", element=\"37fd5087-7d2b-4dd3-a564-9b79f3a1ee67\")>,\n",
       " <selenium.webdriver.remote.webelement.WebElement (session=\"87e7a3658c5a88692eb7f337f5223db7\", element=\"03d10acc-eaf8-4aad-a02f-ec0306cd5027\")>,\n",
       " <selenium.webdriver.remote.webelement.WebElement (session=\"87e7a3658c5a88692eb7f337f5223db7\", element=\"0a973ed8-3cf3-4264-bc4f-46a7ec0c00c6\")>,\n",
       " <selenium.webdriver.remote.webelement.WebElement (session=\"87e7a3658c5a88692eb7f337f5223db7\", element=\"7a2bd447-c93d-4d35-a7c5-9ebf43ad7f97\")>,\n",
       " <selenium.webdriver.remote.webelement.WebElement (session=\"87e7a3658c5a88692eb7f337f5223db7\", element=\"0d7a8b86-249f-42b9-b6f5-2647a5df31cc\")>,\n",
       " <selenium.webdriver.remote.webelement.WebElement (session=\"87e7a3658c5a88692eb7f337f5223db7\", element=\"e4ea1e8c-64ad-4054-8b01-ae84315173da\")>,\n",
       " <selenium.webdriver.remote.webelement.WebElement (session=\"87e7a3658c5a88692eb7f337f5223db7\", element=\"6988777d-22d1-4f45-a54b-9e869358b072\")>,\n",
       " <selenium.webdriver.remote.webelement.WebElement (session=\"87e7a3658c5a88692eb7f337f5223db7\", element=\"abc5be94-e41d-4209-a8ad-1ad9d9844a4b\")>,\n",
       " <selenium.webdriver.remote.webelement.WebElement (session=\"87e7a3658c5a88692eb7f337f5223db7\", element=\"c06167e3-8416-4269-b094-a1770f2089ee\")>]"
      ]
     },
     "execution_count": 293,
     "metadata": {},
     "output_type": "execute_result"
    }
   ],
   "source": [
    "#now extract all the tags having the experience\n",
    "job_exp = driver.find_elements_by_xpath('//li[@class=\"fleft grey-text br2 placeHolderLi experience\"]')\n",
    "job_exp"
   ]
  },
  {
   "cell_type": "code",
   "execution_count": 294,
   "id": "66940f22",
   "metadata": {},
   "outputs": [
    {
     "data": {
      "text/plain": [
       "['0-0 Yrs',\n",
       " '1-5 Yrs',\n",
       " '2-6 Yrs',\n",
       " '2-4 Yrs',\n",
       " '5-10 Yrs',\n",
       " '2-6 Yrs',\n",
       " '3-8 Yrs',\n",
       " '2-5 Yrs',\n",
       " '1-5 Yrs',\n",
       " '3-5 Yrs',\n",
       " '2-6 Yrs',\n",
       " '3-5 Yrs',\n",
       " '2-7 Yrs',\n",
       " '2-5 Yrs',\n",
       " '0-2 Yrs',\n",
       " '0-2 Yrs',\n",
       " '0-4 Yrs',\n",
       " '4-9 Yrs',\n",
       " '1-5 Yrs',\n",
       " '1-6 Yrs']"
      ]
     },
     "execution_count": 294,
     "metadata": {},
     "output_type": "execute_result"
    }
   ],
   "source": [
    "job_exper = []\n",
    "for i in job_exp:\n",
    "    job_exper.append(i.text)\n",
    "job_exper"
   ]
  },
  {
   "cell_type": "code",
   "execution_count": 295,
   "id": "7fa5c67c",
   "metadata": {},
   "outputs": [
    {
     "name": "stdout",
     "output_type": "stream",
     "text": [
      "20 20 20 20\n"
     ]
    }
   ],
   "source": [
    "#check the length of each list\n",
    "print(len(job_titles),len(job_locs),len(company_title),len(job_exper))"
   ]
  },
  {
   "cell_type": "code",
   "execution_count": 296,
   "id": "4e70010f",
   "metadata": {},
   "outputs": [],
   "source": [
    "#now create the dataframe using with pandas\n",
    "jobs = pd.DataFrame({})\n",
    "jobs['job_title'] = job_titles\n",
    "jobs['job_lacation'] = job_locs\n",
    "jobs['company_name'] = company_title\n",
    "jobs['experience_required'] = job_exper"
   ]
  },
  {
   "cell_type": "code",
   "execution_count": 297,
   "id": "7f196c61",
   "metadata": {},
   "outputs": [
    {
     "data": {
      "text/html": [
       "<div>\n",
       "<style scoped>\n",
       "    .dataframe tbody tr th:only-of-type {\n",
       "        vertical-align: middle;\n",
       "    }\n",
       "\n",
       "    .dataframe tbody tr th {\n",
       "        vertical-align: top;\n",
       "    }\n",
       "\n",
       "    .dataframe thead th {\n",
       "        text-align: right;\n",
       "    }\n",
       "</style>\n",
       "<table border=\"1\" class=\"dataframe\">\n",
       "  <thead>\n",
       "    <tr style=\"text-align: right;\">\n",
       "      <th></th>\n",
       "      <th>job_title</th>\n",
       "      <th>job_lacation</th>\n",
       "      <th>company_name</th>\n",
       "      <th>experience_required</th>\n",
       "    </tr>\n",
       "  </thead>\n",
       "  <tbody>\n",
       "    <tr>\n",
       "      <th>0</th>\n",
       "      <td>Only Fresher / Data Scientist / Data Analyst /...</td>\n",
       "      <td>Noida, Gurgaon/Gurugram, Delhi / NCR</td>\n",
       "      <td>GABA Consultancy services</td>\n",
       "      <td>0-0 Yrs</td>\n",
       "    </tr>\n",
       "    <tr>\n",
       "      <th>1</th>\n",
       "      <td>Data Scientist / Data Analyst</td>\n",
       "      <td>Gurgaon/Gurugram</td>\n",
       "      <td>CARS24</td>\n",
       "      <td>1-5 Yrs</td>\n",
       "    </tr>\n",
       "    <tr>\n",
       "      <th>2</th>\n",
       "      <td>Data Scientist - Machine Learning/NLP</td>\n",
       "      <td>Gurgaon/Gurugram</td>\n",
       "      <td>TalPro</td>\n",
       "      <td>2-6 Yrs</td>\n",
       "    </tr>\n",
       "    <tr>\n",
       "      <th>3</th>\n",
       "      <td>Data Scientist - Machine Learning/NLP</td>\n",
       "      <td>Gurgaon/Gurugram</td>\n",
       "      <td>TalPro</td>\n",
       "      <td>2-4 Yrs</td>\n",
       "    </tr>\n",
       "    <tr>\n",
       "      <th>4</th>\n",
       "      <td>Data Scientist</td>\n",
       "      <td>Kolkata, Hyderabad/Secunderabad, Pune, Ahmedab...</td>\n",
       "      <td>Replicon Software</td>\n",
       "      <td>5-10 Yrs</td>\n",
       "    </tr>\n",
       "    <tr>\n",
       "      <th>5</th>\n",
       "      <td>Data Scientist</td>\n",
       "      <td>Noida(Sector-62 Noida)</td>\n",
       "      <td>AlgoScale Technologies Private Limited</td>\n",
       "      <td>2-6 Yrs</td>\n",
       "    </tr>\n",
       "    <tr>\n",
       "      <th>6</th>\n",
       "      <td>Machine Learning Developer - Data Scientist</td>\n",
       "      <td>Noida</td>\n",
       "      <td>Compass Systems Private Limited</td>\n",
       "      <td>3-8 Yrs</td>\n",
       "    </tr>\n",
       "    <tr>\n",
       "      <th>7</th>\n",
       "      <td>Data Scientist / Data Analyst - ( BFSI Industr...</td>\n",
       "      <td>New Delhi</td>\n",
       "      <td>Reckon HR consulting</td>\n",
       "      <td>2-5 Yrs</td>\n",
       "    </tr>\n",
       "    <tr>\n",
       "      <th>8</th>\n",
       "      <td>Associate Data Scientist</td>\n",
       "      <td>Noida</td>\n",
       "      <td>Liberin Technologies Private Limited</td>\n",
       "      <td>1-5 Yrs</td>\n",
       "    </tr>\n",
       "    <tr>\n",
       "      <th>9</th>\n",
       "      <td>Data Scientist ( Hadoop / Redshift / BigQuery)</td>\n",
       "      <td>Noida</td>\n",
       "      <td>Jubna</td>\n",
       "      <td>3-5 Yrs</td>\n",
       "    </tr>\n",
       "    <tr>\n",
       "      <th>10</th>\n",
       "      <td>Data Scientist - Machine Learning/ NLP</td>\n",
       "      <td>Gurgaon/Gurugram</td>\n",
       "      <td>TalPro</td>\n",
       "      <td>2-6 Yrs</td>\n",
       "    </tr>\n",
       "    <tr>\n",
       "      <th>11</th>\n",
       "      <td>Data Scientist (Hadoop/ Redshift/ BigQuery)</td>\n",
       "      <td>Noida</td>\n",
       "      <td>Jubna</td>\n",
       "      <td>3-5 Yrs</td>\n",
       "    </tr>\n",
       "    <tr>\n",
       "      <th>12</th>\n",
       "      <td>Data Scientist</td>\n",
       "      <td>Noida</td>\n",
       "      <td>Gauge Data Solutions Pvt Ltd</td>\n",
       "      <td>2-7 Yrs</td>\n",
       "    </tr>\n",
       "    <tr>\n",
       "      <th>13</th>\n",
       "      <td>Data Scientist / Data Analyst - ( BFSI Industr...</td>\n",
       "      <td>New Delhi</td>\n",
       "      <td>Reckon HR consulting</td>\n",
       "      <td>2-5 Yrs</td>\n",
       "    </tr>\n",
       "    <tr>\n",
       "      <th>14</th>\n",
       "      <td>Data Scientist Intern</td>\n",
       "      <td>Noida</td>\n",
       "      <td>Salasar New Age Technologies</td>\n",
       "      <td>0-2 Yrs</td>\n",
       "    </tr>\n",
       "    <tr>\n",
       "      <th>15</th>\n",
       "      <td>Data Analyst</td>\n",
       "      <td>Noida, Kolkata, Hyderabad/Secunderabad, Pune, ...</td>\n",
       "      <td>AG Technologies pvt Ltd</td>\n",
       "      <td>0-2 Yrs</td>\n",
       "    </tr>\n",
       "    <tr>\n",
       "      <th>16</th>\n",
       "      <td>Senior Marketing Data Analyst</td>\n",
       "      <td>Gurgaon/Gurugram</td>\n",
       "      <td>Tide Software</td>\n",
       "      <td>0-4 Yrs</td>\n",
       "    </tr>\n",
       "    <tr>\n",
       "      <th>17</th>\n",
       "      <td>Hiring For GCP Data Engineer in Tata Consultan...</td>\n",
       "      <td>Kolkata, Hyderabad/Secunderabad, Chennai, Gurg...</td>\n",
       "      <td>Tata Consultancy Services Ltd.</td>\n",
       "      <td>4-9 Yrs</td>\n",
       "    </tr>\n",
       "    <tr>\n",
       "      <th>18</th>\n",
       "      <td>Developers, Data Scientists, Web Designers, An...</td>\n",
       "      <td>Noida</td>\n",
       "      <td>Cogmac Technologies</td>\n",
       "      <td>1-5 Yrs</td>\n",
       "    </tr>\n",
       "    <tr>\n",
       "      <th>19</th>\n",
       "      <td>Job | Genpact Hiring GCP Data Engineers!!</td>\n",
       "      <td>Kolkata, Hyderabad/Secunderabad, Pune, Bangalo...</td>\n",
       "      <td>GENPACT India Private Limited</td>\n",
       "      <td>1-6 Yrs</td>\n",
       "    </tr>\n",
       "  </tbody>\n",
       "</table>\n",
       "</div>"
      ],
      "text/plain": [
       "                                            job_title  \\\n",
       "0   Only Fresher / Data Scientist / Data Analyst /...   \n",
       "1                       Data Scientist / Data Analyst   \n",
       "2               Data Scientist - Machine Learning/NLP   \n",
       "3               Data Scientist - Machine Learning/NLP   \n",
       "4                                      Data Scientist   \n",
       "5                                      Data Scientist   \n",
       "6         Machine Learning Developer - Data Scientist   \n",
       "7   Data Scientist / Data Analyst - ( BFSI Industr...   \n",
       "8                            Associate Data Scientist   \n",
       "9      Data Scientist ( Hadoop / Redshift / BigQuery)   \n",
       "10             Data Scientist - Machine Learning/ NLP   \n",
       "11        Data Scientist (Hadoop/ Redshift/ BigQuery)   \n",
       "12                                     Data Scientist   \n",
       "13  Data Scientist / Data Analyst - ( BFSI Industr...   \n",
       "14                              Data Scientist Intern   \n",
       "15                                       Data Analyst   \n",
       "16                      Senior Marketing Data Analyst   \n",
       "17  Hiring For GCP Data Engineer in Tata Consultan...   \n",
       "18  Developers, Data Scientists, Web Designers, An...   \n",
       "19          Job | Genpact Hiring GCP Data Engineers!!   \n",
       "\n",
       "                                         job_lacation  \\\n",
       "0                Noida, Gurgaon/Gurugram, Delhi / NCR   \n",
       "1                                    Gurgaon/Gurugram   \n",
       "2                                    Gurgaon/Gurugram   \n",
       "3                                    Gurgaon/Gurugram   \n",
       "4   Kolkata, Hyderabad/Secunderabad, Pune, Ahmedab...   \n",
       "5                              Noida(Sector-62 Noida)   \n",
       "6                                               Noida   \n",
       "7                                           New Delhi   \n",
       "8                                               Noida   \n",
       "9                                               Noida   \n",
       "10                                   Gurgaon/Gurugram   \n",
       "11                                              Noida   \n",
       "12                                              Noida   \n",
       "13                                          New Delhi   \n",
       "14                                              Noida   \n",
       "15  Noida, Kolkata, Hyderabad/Secunderabad, Pune, ...   \n",
       "16                                   Gurgaon/Gurugram   \n",
       "17  Kolkata, Hyderabad/Secunderabad, Chennai, Gurg...   \n",
       "18                                              Noida   \n",
       "19  Kolkata, Hyderabad/Secunderabad, Pune, Bangalo...   \n",
       "\n",
       "                              company_name experience_required  \n",
       "0                GABA Consultancy services             0-0 Yrs  \n",
       "1                                   CARS24             1-5 Yrs  \n",
       "2                                   TalPro             2-6 Yrs  \n",
       "3                                   TalPro             2-4 Yrs  \n",
       "4                        Replicon Software            5-10 Yrs  \n",
       "5   AlgoScale Technologies Private Limited             2-6 Yrs  \n",
       "6          Compass Systems Private Limited             3-8 Yrs  \n",
       "7                     Reckon HR consulting             2-5 Yrs  \n",
       "8     Liberin Technologies Private Limited             1-5 Yrs  \n",
       "9                                    Jubna             3-5 Yrs  \n",
       "10                                  TalPro             2-6 Yrs  \n",
       "11                                   Jubna             3-5 Yrs  \n",
       "12            Gauge Data Solutions Pvt Ltd             2-7 Yrs  \n",
       "13                    Reckon HR consulting             2-5 Yrs  \n",
       "14            Salasar New Age Technologies             0-2 Yrs  \n",
       "15                 AG Technologies pvt Ltd             0-2 Yrs  \n",
       "16                           Tide Software             0-4 Yrs  \n",
       "17          Tata Consultancy Services Ltd.             4-9 Yrs  \n",
       "18                     Cogmac Technologies             1-5 Yrs  \n",
       "19           GENPACT India Private Limited             1-6 Yrs  "
      ]
     },
     "execution_count": 297,
     "metadata": {},
     "output_type": "execute_result"
    }
   ],
   "source": [
    "jobs"
   ]
  },
  {
   "cell_type": "code",
   "execution_count": 299,
   "id": "5a3777c0",
   "metadata": {},
   "outputs": [
    {
     "data": {
      "text/html": [
       "<div>\n",
       "<style scoped>\n",
       "    .dataframe tbody tr th:only-of-type {\n",
       "        vertical-align: middle;\n",
       "    }\n",
       "\n",
       "    .dataframe tbody tr th {\n",
       "        vertical-align: top;\n",
       "    }\n",
       "\n",
       "    .dataframe thead th {\n",
       "        text-align: right;\n",
       "    }\n",
       "</style>\n",
       "<table border=\"1\" class=\"dataframe\">\n",
       "  <thead>\n",
       "    <tr style=\"text-align: right;\">\n",
       "      <th></th>\n",
       "      <th>job_title</th>\n",
       "      <th>job_lacation</th>\n",
       "      <th>company_name</th>\n",
       "      <th>experience_required</th>\n",
       "    </tr>\n",
       "  </thead>\n",
       "  <tbody>\n",
       "    <tr>\n",
       "      <th>0</th>\n",
       "      <td>Only Fresher / Data Scientist / Data Analyst /...</td>\n",
       "      <td>Noida, Gurgaon/Gurugram, Delhi / NCR</td>\n",
       "      <td>GABA Consultancy services</td>\n",
       "      <td>0-0 Yrs</td>\n",
       "    </tr>\n",
       "    <tr>\n",
       "      <th>1</th>\n",
       "      <td>Data Scientist / Data Analyst</td>\n",
       "      <td>Gurgaon/Gurugram</td>\n",
       "      <td>CARS24</td>\n",
       "      <td>1-5 Yrs</td>\n",
       "    </tr>\n",
       "    <tr>\n",
       "      <th>2</th>\n",
       "      <td>Data Scientist - Machine Learning/NLP</td>\n",
       "      <td>Gurgaon/Gurugram</td>\n",
       "      <td>TalPro</td>\n",
       "      <td>2-6 Yrs</td>\n",
       "    </tr>\n",
       "    <tr>\n",
       "      <th>3</th>\n",
       "      <td>Data Scientist - Machine Learning/NLP</td>\n",
       "      <td>Gurgaon/Gurugram</td>\n",
       "      <td>TalPro</td>\n",
       "      <td>2-4 Yrs</td>\n",
       "    </tr>\n",
       "    <tr>\n",
       "      <th>4</th>\n",
       "      <td>Data Scientist</td>\n",
       "      <td>Kolkata, Hyderabad/Secunderabad, Pune, Ahmedab...</td>\n",
       "      <td>Replicon Software</td>\n",
       "      <td>5-10 Yrs</td>\n",
       "    </tr>\n",
       "    <tr>\n",
       "      <th>5</th>\n",
       "      <td>Data Scientist</td>\n",
       "      <td>Noida(Sector-62 Noida)</td>\n",
       "      <td>AlgoScale Technologies Private Limited</td>\n",
       "      <td>2-6 Yrs</td>\n",
       "    </tr>\n",
       "    <tr>\n",
       "      <th>6</th>\n",
       "      <td>Machine Learning Developer - Data Scientist</td>\n",
       "      <td>Noida</td>\n",
       "      <td>Compass Systems Private Limited</td>\n",
       "      <td>3-8 Yrs</td>\n",
       "    </tr>\n",
       "    <tr>\n",
       "      <th>7</th>\n",
       "      <td>Data Scientist / Data Analyst - ( BFSI Industr...</td>\n",
       "      <td>New Delhi</td>\n",
       "      <td>Reckon HR consulting</td>\n",
       "      <td>2-5 Yrs</td>\n",
       "    </tr>\n",
       "    <tr>\n",
       "      <th>8</th>\n",
       "      <td>Associate Data Scientist</td>\n",
       "      <td>Noida</td>\n",
       "      <td>Liberin Technologies Private Limited</td>\n",
       "      <td>1-5 Yrs</td>\n",
       "    </tr>\n",
       "    <tr>\n",
       "      <th>9</th>\n",
       "      <td>Data Scientist ( Hadoop / Redshift / BigQuery)</td>\n",
       "      <td>Noida</td>\n",
       "      <td>Jubna</td>\n",
       "      <td>3-5 Yrs</td>\n",
       "    </tr>\n",
       "  </tbody>\n",
       "</table>\n",
       "</div>"
      ],
      "text/plain": [
       "                                           job_title  \\\n",
       "0  Only Fresher / Data Scientist / Data Analyst /...   \n",
       "1                      Data Scientist / Data Analyst   \n",
       "2              Data Scientist - Machine Learning/NLP   \n",
       "3              Data Scientist - Machine Learning/NLP   \n",
       "4                                     Data Scientist   \n",
       "5                                     Data Scientist   \n",
       "6        Machine Learning Developer - Data Scientist   \n",
       "7  Data Scientist / Data Analyst - ( BFSI Industr...   \n",
       "8                           Associate Data Scientist   \n",
       "9     Data Scientist ( Hadoop / Redshift / BigQuery)   \n",
       "\n",
       "                                        job_lacation  \\\n",
       "0               Noida, Gurgaon/Gurugram, Delhi / NCR   \n",
       "1                                   Gurgaon/Gurugram   \n",
       "2                                   Gurgaon/Gurugram   \n",
       "3                                   Gurgaon/Gurugram   \n",
       "4  Kolkata, Hyderabad/Secunderabad, Pune, Ahmedab...   \n",
       "5                             Noida(Sector-62 Noida)   \n",
       "6                                              Noida   \n",
       "7                                          New Delhi   \n",
       "8                                              Noida   \n",
       "9                                              Noida   \n",
       "\n",
       "                             company_name experience_required  \n",
       "0               GABA Consultancy services             0-0 Yrs  \n",
       "1                                  CARS24             1-5 Yrs  \n",
       "2                                  TalPro             2-6 Yrs  \n",
       "3                                  TalPro             2-4 Yrs  \n",
       "4                       Replicon Software            5-10 Yrs  \n",
       "5  AlgoScale Technologies Private Limited             2-6 Yrs  \n",
       "6         Compass Systems Private Limited             3-8 Yrs  \n",
       "7                    Reckon HR consulting             2-5 Yrs  \n",
       "8    Liberin Technologies Private Limited             1-5 Yrs  \n",
       "9                                   Jubna             3-5 Yrs  "
      ]
     },
     "execution_count": 299,
     "metadata": {},
     "output_type": "execute_result"
    }
   ],
   "source": [
    "jobs.head(10)"
   ]
  },
  {
   "cell_type": "code",
   "execution_count": null,
   "id": "d33f4cfc",
   "metadata": {},
   "outputs": [],
   "source": []
  },
  {
   "cell_type": "code",
   "execution_count": null,
   "id": "58f2d438",
   "metadata": {},
   "outputs": [],
   "source": []
  },
  {
   "cell_type": "markdown",
   "id": "5d39511d",
   "metadata": {},
   "source": [
    "# Q4: Write a python program to scrape data for first 10 job results for Data scientist Designation in Noida location. You have to scrape company_name, No. of days ago when job was posted, Rating of the company."
   ]
  },
  {
   "cell_type": "code",
   "execution_count": 300,
   "id": "9e818e51",
   "metadata": {},
   "outputs": [],
   "source": [
    "#lets now import all required libraries \n",
    "import selenium\n",
    "import pandas as pd\n",
    "from selenium import webdriver"
   ]
  },
  {
   "cell_type": "code",
   "execution_count": 301,
   "id": "4a29c178",
   "metadata": {},
   "outputs": [],
   "source": [
    "#lets first connect to the webdriver\n",
    "driver = webdriver.Chrome('chromedriver.exe')"
   ]
  },
  {
   "cell_type": "code",
   "execution_count": 316,
   "id": "8809aaf1",
   "metadata": {},
   "outputs": [],
   "source": [
    "url = 'https://www.glassdoor.co.in/Job/index.htm'\n",
    "driver.get(url)"
   ]
  },
  {
   "cell_type": "code",
   "execution_count": 317,
   "id": "2ac1b082",
   "metadata": {},
   "outputs": [],
   "source": [
    "#finding job title\n",
    "search_job = driver.find_element_by_id(\"KeywordSearch\")\n",
    "search_job.send_keys('Data Scientist')"
   ]
  },
  {
   "cell_type": "code",
   "execution_count": 318,
   "id": "1ac4c0cd",
   "metadata": {},
   "outputs": [],
   "source": [
    "#finding element for job location\n",
    "search_loc = driver.find_element_by_type('location')\n",
    "search_loc.send_keys('Noida')"
   ]
  },
  {
   "cell_type": "code",
   "execution_count": 321,
   "id": "aa81b0d5",
   "metadata": {},
   "outputs": [],
   "source": [
    "search_btn = driver.find_element_by_id(\"HeroSearchButton\")\n",
    "search_btn.click()"
   ]
  },
  {
   "cell_type": "code",
   "execution_count": 332,
   "id": "e7622dbb",
   "metadata": {},
   "outputs": [
    {
     "data": {
      "text/plain": [
       "[<selenium.webdriver.remote.webelement.WebElement (session=\"6a89ec3181cddf991f477234413369f8\", element=\"bb28da07-c778-491f-b53e-9b7f2f2b2234\")>,\n",
       " <selenium.webdriver.remote.webelement.WebElement (session=\"6a89ec3181cddf991f477234413369f8\", element=\"d8474bcc-0588-4cee-8a92-d768d9448711\")>,\n",
       " <selenium.webdriver.remote.webelement.WebElement (session=\"6a89ec3181cddf991f477234413369f8\", element=\"85a9ec02-390f-4d75-9ad5-a881e70c8609\")>,\n",
       " <selenium.webdriver.remote.webelement.WebElement (session=\"6a89ec3181cddf991f477234413369f8\", element=\"0813adb6-1328-4c18-9eb0-bb80c04225f7\")>,\n",
       " <selenium.webdriver.remote.webelement.WebElement (session=\"6a89ec3181cddf991f477234413369f8\", element=\"2fb5fb77-740f-4aa4-8f02-13e8c88b6491\")>,\n",
       " <selenium.webdriver.remote.webelement.WebElement (session=\"6a89ec3181cddf991f477234413369f8\", element=\"17789f2f-b423-46ce-9fb2-1c0b7c4ea6ec\")>,\n",
       " <selenium.webdriver.remote.webelement.WebElement (session=\"6a89ec3181cddf991f477234413369f8\", element=\"f8c00181-84b8-4f6d-83e3-c667e4e6e2ce\")>,\n",
       " <selenium.webdriver.remote.webelement.WebElement (session=\"6a89ec3181cddf991f477234413369f8\", element=\"08c5c7bb-c834-48b7-ac9b-87573a3a571c\")>,\n",
       " <selenium.webdriver.remote.webelement.WebElement (session=\"6a89ec3181cddf991f477234413369f8\", element=\"57ad5e4f-85af-4d23-910c-792e634522e5\")>,\n",
       " <selenium.webdriver.remote.webelement.WebElement (session=\"6a89ec3181cddf991f477234413369f8\", element=\"6b783dc3-d981-4cfe-9703-d06ab6271cd3\")>,\n",
       " <selenium.webdriver.remote.webelement.WebElement (session=\"6a89ec3181cddf991f477234413369f8\", element=\"9ae2ef7f-6254-4c34-a3c6-e59829f6eeb1\")>,\n",
       " <selenium.webdriver.remote.webelement.WebElement (session=\"6a89ec3181cddf991f477234413369f8\", element=\"e081f31d-a840-4144-9216-f038bc545413\")>,\n",
       " <selenium.webdriver.remote.webelement.WebElement (session=\"6a89ec3181cddf991f477234413369f8\", element=\"65af7ea1-fe09-4ff9-bd45-279325e7409c\")>,\n",
       " <selenium.webdriver.remote.webelement.WebElement (session=\"6a89ec3181cddf991f477234413369f8\", element=\"7b748a31-f082-43ad-9560-6de31bd834e5\")>,\n",
       " <selenium.webdriver.remote.webelement.WebElement (session=\"6a89ec3181cddf991f477234413369f8\", element=\"0f711174-26c0-46f5-b630-d4720e74600a\")>,\n",
       " <selenium.webdriver.remote.webelement.WebElement (session=\"6a89ec3181cddf991f477234413369f8\", element=\"3e0dd75c-42d7-42b1-ba84-64adfad4449a\")>,\n",
       " <selenium.webdriver.remote.webelement.WebElement (session=\"6a89ec3181cddf991f477234413369f8\", element=\"157d4457-05c3-49b1-bf86-66294e1b583c\")>,\n",
       " <selenium.webdriver.remote.webelement.WebElement (session=\"6a89ec3181cddf991f477234413369f8\", element=\"d25350b7-e6cd-4a25-91f2-6afb3ecf4ea7\")>,\n",
       " <selenium.webdriver.remote.webelement.WebElement (session=\"6a89ec3181cddf991f477234413369f8\", element=\"c08d0951-6d2b-4540-843d-eb0488a6f9c6\")>,\n",
       " <selenium.webdriver.remote.webelement.WebElement (session=\"6a89ec3181cddf991f477234413369f8\", element=\"f3a3f0e1-2d4e-4c3f-bd88-db741852fce4\")>,\n",
       " <selenium.webdriver.remote.webelement.WebElement (session=\"6a89ec3181cddf991f477234413369f8\", element=\"1f72f767-1968-4271-84a0-b91b44d8f205\")>,\n",
       " <selenium.webdriver.remote.webelement.WebElement (session=\"6a89ec3181cddf991f477234413369f8\", element=\"a4a12153-1cea-4263-af77-46ce604f4945\")>,\n",
       " <selenium.webdriver.remote.webelement.WebElement (session=\"6a89ec3181cddf991f477234413369f8\", element=\"1691fe74-3ee4-45d3-9b20-65f6265a7847\")>,\n",
       " <selenium.webdriver.remote.webelement.WebElement (session=\"6a89ec3181cddf991f477234413369f8\", element=\"d3ade0ba-d08f-4f98-bda1-a41e1d8199e2\")>,\n",
       " <selenium.webdriver.remote.webelement.WebElement (session=\"6a89ec3181cddf991f477234413369f8\", element=\"1fe88d60-11dd-49c3-8878-b603bf1b83d2\")>,\n",
       " <selenium.webdriver.remote.webelement.WebElement (session=\"6a89ec3181cddf991f477234413369f8\", element=\"5f10b266-a83c-4d85-b905-cd6f78914592\")>,\n",
       " <selenium.webdriver.remote.webelement.WebElement (session=\"6a89ec3181cddf991f477234413369f8\", element=\"faa1228e-9429-4880-affc-bdec864c26f9\")>,\n",
       " <selenium.webdriver.remote.webelement.WebElement (session=\"6a89ec3181cddf991f477234413369f8\", element=\"d0cf0848-68b1-46b5-9f6f-0e0a6c436d5a\")>,\n",
       " <selenium.webdriver.remote.webelement.WebElement (session=\"6a89ec3181cddf991f477234413369f8\", element=\"fee733ba-e42b-4484-9e55-ecdf915241d5\")>,\n",
       " <selenium.webdriver.remote.webelement.WebElement (session=\"6a89ec3181cddf991f477234413369f8\", element=\"ee8a36b8-1bd0-4182-b112-58e437ad5757\")>]"
      ]
     },
     "execution_count": 332,
     "metadata": {},
     "output_type": "execute_result"
    }
   ],
   "source": [
    "#now extract all the tags having the company names\n",
    "company_tags=driver.find_elements_by_xpath('//div[@class=\"d-flex justify-content-between align-items-start\"]')\n",
    "company_tags"
   ]
  },
  {
   "cell_type": "code",
   "execution_count": 333,
   "id": "010a44b8",
   "metadata": {},
   "outputs": [
    {
     "data": {
      "text/plain": [
       "['MasterCard',\n",
       " 'United Airlines',\n",
       " 'Microsoft',\n",
       " 'Ericsson',\n",
       " 'dunnhumby',\n",
       " 'DarioHealth',\n",
       " 'Biz2Credit Inc',\n",
       " 'Techlive',\n",
       " 'KVCH',\n",
       " 'Accenture',\n",
       " 'Siemens',\n",
       " 'Microsoft',\n",
       " 'Innefu Labs Pvt. Ltd.',\n",
       " 'Aedifico Tech',\n",
       " 'ESRI, Inc.',\n",
       " 'WinZO',\n",
       " 'Macquarie Group Limited',\n",
       " 'Innefu Labs Pvt. Ltd.',\n",
       " 'Team Computers',\n",
       " 'iGloble Solutions',\n",
       " 'Axslogic',\n",
       " 'ADCI - Haryana',\n",
       " 'MobiKwik',\n",
       " 'Valiance Solutions',\n",
       " 'Innefu Labs Pvt. Ltd.',\n",
       " 'McKinsey & Company',\n",
       " 'Mahajan Imaging',\n",
       " 'Maruti Suzuki India Ltd',\n",
       " 'ZS Associates',\n",
       " 'Amex']"
      ]
     },
     "execution_count": 333,
     "metadata": {},
     "output_type": "execute_result"
    }
   ],
   "source": [
    "company_title = []\n",
    "for i in company_tags:\n",
    "    company_title.append(i.text)\n",
    "company_title "
   ]
  },
  {
   "cell_type": "code",
   "execution_count": 335,
   "id": "1dddd2b7",
   "metadata": {},
   "outputs": [
    {
     "data": {
      "text/plain": [
       "[<selenium.webdriver.remote.webelement.WebElement (session=\"6a89ec3181cddf991f477234413369f8\", element=\"43540f17-ba12-4f9e-825a-677519ed5b50\")>,\n",
       " <selenium.webdriver.remote.webelement.WebElement (session=\"6a89ec3181cddf991f477234413369f8\", element=\"cebe6215-b1d8-499e-9491-1b29ae09d546\")>,\n",
       " <selenium.webdriver.remote.webelement.WebElement (session=\"6a89ec3181cddf991f477234413369f8\", element=\"5927d2db-1b8b-4d4d-884b-18500d1e6f99\")>,\n",
       " <selenium.webdriver.remote.webelement.WebElement (session=\"6a89ec3181cddf991f477234413369f8\", element=\"bb8ce5ea-c4e7-47be-bef2-ef25ae904293\")>,\n",
       " <selenium.webdriver.remote.webelement.WebElement (session=\"6a89ec3181cddf991f477234413369f8\", element=\"1edd0906-04d7-46cf-af66-dc781468af1b\")>,\n",
       " <selenium.webdriver.remote.webelement.WebElement (session=\"6a89ec3181cddf991f477234413369f8\", element=\"acc31cc5-ef3a-424e-9a45-42c4d0d719fe\")>,\n",
       " <selenium.webdriver.remote.webelement.WebElement (session=\"6a89ec3181cddf991f477234413369f8\", element=\"20c7722d-4724-44bf-8b9b-32a742f2189e\")>,\n",
       " <selenium.webdriver.remote.webelement.WebElement (session=\"6a89ec3181cddf991f477234413369f8\", element=\"93cd611f-7808-41b2-942d-00b1c626e744\")>,\n",
       " <selenium.webdriver.remote.webelement.WebElement (session=\"6a89ec3181cddf991f477234413369f8\", element=\"ee64b8e5-85fa-4730-bc1b-bdf4c43ed4d8\")>,\n",
       " <selenium.webdriver.remote.webelement.WebElement (session=\"6a89ec3181cddf991f477234413369f8\", element=\"6ecfe77e-ca60-49b8-b659-c9cb6ce6d9c2\")>,\n",
       " <selenium.webdriver.remote.webelement.WebElement (session=\"6a89ec3181cddf991f477234413369f8\", element=\"dffb798c-4b50-4e3d-84a7-92ff7208d096\")>,\n",
       " <selenium.webdriver.remote.webelement.WebElement (session=\"6a89ec3181cddf991f477234413369f8\", element=\"8873c421-b7f9-434f-b18b-bf149b6476c5\")>,\n",
       " <selenium.webdriver.remote.webelement.WebElement (session=\"6a89ec3181cddf991f477234413369f8\", element=\"227cf74f-443a-494a-89d9-68342c2b6c7f\")>,\n",
       " <selenium.webdriver.remote.webelement.WebElement (session=\"6a89ec3181cddf991f477234413369f8\", element=\"de8d9f40-70f6-4c00-ab62-ca4c7d12795b\")>,\n",
       " <selenium.webdriver.remote.webelement.WebElement (session=\"6a89ec3181cddf991f477234413369f8\", element=\"80086639-9b26-4612-8537-4bb8e75f1fa1\")>,\n",
       " <selenium.webdriver.remote.webelement.WebElement (session=\"6a89ec3181cddf991f477234413369f8\", element=\"9f4b0359-5a4c-47b2-8011-a9299b6cff4e\")>,\n",
       " <selenium.webdriver.remote.webelement.WebElement (session=\"6a89ec3181cddf991f477234413369f8\", element=\"6c09d78b-3686-47ff-b44a-6ce0884a32bb\")>,\n",
       " <selenium.webdriver.remote.webelement.WebElement (session=\"6a89ec3181cddf991f477234413369f8\", element=\"52027e6f-ca09-4fcb-94ed-582a5b87d5d0\")>,\n",
       " <selenium.webdriver.remote.webelement.WebElement (session=\"6a89ec3181cddf991f477234413369f8\", element=\"ea8c5dc8-4244-46e4-8187-e0c4ecffbcc1\")>,\n",
       " <selenium.webdriver.remote.webelement.WebElement (session=\"6a89ec3181cddf991f477234413369f8\", element=\"3921bd31-cc27-4c76-995c-36222764e863\")>,\n",
       " <selenium.webdriver.remote.webelement.WebElement (session=\"6a89ec3181cddf991f477234413369f8\", element=\"c76b5b35-3da8-43c9-a261-6fd8376113ba\")>,\n",
       " <selenium.webdriver.remote.webelement.WebElement (session=\"6a89ec3181cddf991f477234413369f8\", element=\"45075a27-e657-4010-869e-327d181ca1f0\")>,\n",
       " <selenium.webdriver.remote.webelement.WebElement (session=\"6a89ec3181cddf991f477234413369f8\", element=\"85e5ef80-7b49-4454-a8bc-9ffe50f3a3ff\")>,\n",
       " <selenium.webdriver.remote.webelement.WebElement (session=\"6a89ec3181cddf991f477234413369f8\", element=\"e0f5aba0-f64d-4a0b-b319-c18ae1055f34\")>,\n",
       " <selenium.webdriver.remote.webelement.WebElement (session=\"6a89ec3181cddf991f477234413369f8\", element=\"db208fe2-3733-4d50-8402-16a022a3a162\")>,\n",
       " <selenium.webdriver.remote.webelement.WebElement (session=\"6a89ec3181cddf991f477234413369f8\", element=\"00ae50f2-5640-4459-a313-7e7629f6e092\")>,\n",
       " <selenium.webdriver.remote.webelement.WebElement (session=\"6a89ec3181cddf991f477234413369f8\", element=\"b5038583-e8bc-4bca-a1b6-aeaccb7d246f\")>,\n",
       " <selenium.webdriver.remote.webelement.WebElement (session=\"6a89ec3181cddf991f477234413369f8\", element=\"6915687e-a447-4eb7-a00b-7050590ff39a\")>,\n",
       " <selenium.webdriver.remote.webelement.WebElement (session=\"6a89ec3181cddf991f477234413369f8\", element=\"2cf8e824-f4b9-4a98-b47d-4a00001b3aa4\")>,\n",
       " <selenium.webdriver.remote.webelement.WebElement (session=\"6a89ec3181cddf991f477234413369f8\", element=\"1cb15dd3-7c74-4859-bfa7-c426bf52370f\")>]"
      ]
     },
     "execution_count": 335,
     "metadata": {},
     "output_type": "execute_result"
    }
   ],
   "source": [
    "days_ago=driver.find_elements_by_xpath('//div[@data-test=\"job-age\"]')\n",
    "days_ago"
   ]
  },
  {
   "cell_type": "code",
   "execution_count": 336,
   "id": "040993bd",
   "metadata": {},
   "outputs": [
    {
     "data": {
      "text/plain": [
       "['2d',\n",
       " '26d',\n",
       " '1d',\n",
       " '24h',\n",
       " '1d',\n",
       " '3d',\n",
       " '30d+',\n",
       " '30d+',\n",
       " '5d',\n",
       " '1d',\n",
       " '16d',\n",
       " '2d',\n",
       " '30d+',\n",
       " '19d',\n",
       " '10d',\n",
       " '22d',\n",
       " '4d',\n",
       " '30d+',\n",
       " '30d+',\n",
       " '30d+',\n",
       " '30d+',\n",
       " '30d+',\n",
       " '30d+',\n",
       " '30d+',\n",
       " '30d+',\n",
       " '30d+',\n",
       " '30d+',\n",
       " '30d+',\n",
       " '30d+',\n",
       " '16d']"
      ]
     },
     "execution_count": 336,
     "metadata": {},
     "output_type": "execute_result"
    }
   ],
   "source": [
    "days = []\n",
    "for i in days_ago:\n",
    "    days.append(i.text)\n",
    "days "
   ]
  },
  {
   "cell_type": "code",
   "execution_count": 337,
   "id": "e48c356b",
   "metadata": {},
   "outputs": [
    {
     "data": {
      "text/plain": [
       "[<selenium.webdriver.remote.webelement.WebElement (session=\"6a89ec3181cddf991f477234413369f8\", element=\"1da17cc8-abcb-44f8-962c-3b762697505f\")>,\n",
       " <selenium.webdriver.remote.webelement.WebElement (session=\"6a89ec3181cddf991f477234413369f8\", element=\"e731b20d-e93c-4be8-a951-01cbeca6ba72\")>,\n",
       " <selenium.webdriver.remote.webelement.WebElement (session=\"6a89ec3181cddf991f477234413369f8\", element=\"55d3790b-6c05-44b4-a530-64a72899ed78\")>,\n",
       " <selenium.webdriver.remote.webelement.WebElement (session=\"6a89ec3181cddf991f477234413369f8\", element=\"5dc2bc06-e82b-4408-a4c8-d174bc6eb866\")>,\n",
       " <selenium.webdriver.remote.webelement.WebElement (session=\"6a89ec3181cddf991f477234413369f8\", element=\"01635de5-6c99-408a-a186-f001a9558a94\")>,\n",
       " <selenium.webdriver.remote.webelement.WebElement (session=\"6a89ec3181cddf991f477234413369f8\", element=\"92e22439-fee6-4789-9346-bfaa134e86cb\")>,\n",
       " <selenium.webdriver.remote.webelement.WebElement (session=\"6a89ec3181cddf991f477234413369f8\", element=\"54607f52-4bcb-401f-a380-e479f397e492\")>,\n",
       " <selenium.webdriver.remote.webelement.WebElement (session=\"6a89ec3181cddf991f477234413369f8\", element=\"4d07544f-9d89-44fe-a7be-a806924b6c9d\")>,\n",
       " <selenium.webdriver.remote.webelement.WebElement (session=\"6a89ec3181cddf991f477234413369f8\", element=\"cf97c204-8496-4985-a2b4-adda4a11897c\")>,\n",
       " <selenium.webdriver.remote.webelement.WebElement (session=\"6a89ec3181cddf991f477234413369f8\", element=\"057be203-1eb0-4ff2-9f7c-4f032352bf11\")>,\n",
       " <selenium.webdriver.remote.webelement.WebElement (session=\"6a89ec3181cddf991f477234413369f8\", element=\"b1fd8f72-6925-4f94-bf0c-09cd83b6895e\")>,\n",
       " <selenium.webdriver.remote.webelement.WebElement (session=\"6a89ec3181cddf991f477234413369f8\", element=\"be913b82-260d-4ba1-bde4-23f6db0d7f2b\")>,\n",
       " <selenium.webdriver.remote.webelement.WebElement (session=\"6a89ec3181cddf991f477234413369f8\", element=\"9bb20400-4ea3-4d73-a741-cb1ee925e2d5\")>,\n",
       " <selenium.webdriver.remote.webelement.WebElement (session=\"6a89ec3181cddf991f477234413369f8\", element=\"04d2630c-56c1-4980-a500-582385af765a\")>,\n",
       " <selenium.webdriver.remote.webelement.WebElement (session=\"6a89ec3181cddf991f477234413369f8\", element=\"e91e6ab9-c501-42a4-b6a3-bb16db6b421f\")>,\n",
       " <selenium.webdriver.remote.webelement.WebElement (session=\"6a89ec3181cddf991f477234413369f8\", element=\"bb3cd325-eedc-47f6-bfd6-ddcb2194362c\")>,\n",
       " <selenium.webdriver.remote.webelement.WebElement (session=\"6a89ec3181cddf991f477234413369f8\", element=\"85538806-4289-4635-ad77-6f0ab6d5914f\")>,\n",
       " <selenium.webdriver.remote.webelement.WebElement (session=\"6a89ec3181cddf991f477234413369f8\", element=\"d651605e-6ca9-4b6e-b1b1-f6837aed85ca\")>,\n",
       " <selenium.webdriver.remote.webelement.WebElement (session=\"6a89ec3181cddf991f477234413369f8\", element=\"e8582e49-4237-47aa-932a-f8409db42a86\")>,\n",
       " <selenium.webdriver.remote.webelement.WebElement (session=\"6a89ec3181cddf991f477234413369f8\", element=\"296e1c99-c82d-4247-bae8-ddf1fd6e9ce1\")>,\n",
       " <selenium.webdriver.remote.webelement.WebElement (session=\"6a89ec3181cddf991f477234413369f8\", element=\"508d3697-f22d-4f1f-aa1f-59bd0c591161\")>,\n",
       " <selenium.webdriver.remote.webelement.WebElement (session=\"6a89ec3181cddf991f477234413369f8\", element=\"354f95d6-c05f-4e31-a7f6-a2f26902f7f8\")>,\n",
       " <selenium.webdriver.remote.webelement.WebElement (session=\"6a89ec3181cddf991f477234413369f8\", element=\"1a731197-96ad-4837-ae1b-3d5f452d9b9e\")>,\n",
       " <selenium.webdriver.remote.webelement.WebElement (session=\"6a89ec3181cddf991f477234413369f8\", element=\"f768241b-d1f8-4e83-b5e3-361df181c27a\")>,\n",
       " <selenium.webdriver.remote.webelement.WebElement (session=\"6a89ec3181cddf991f477234413369f8\", element=\"de073f50-f8f8-4040-9de9-93123f99cac9\")>,\n",
       " <selenium.webdriver.remote.webelement.WebElement (session=\"6a89ec3181cddf991f477234413369f8\", element=\"d4e78bbd-405c-429e-a00a-152efd717ac1\")>,\n",
       " <selenium.webdriver.remote.webelement.WebElement (session=\"6a89ec3181cddf991f477234413369f8\", element=\"52eae245-fc8c-47a1-96f9-da97e816cf6a\")>,\n",
       " <selenium.webdriver.remote.webelement.WebElement (session=\"6a89ec3181cddf991f477234413369f8\", element=\"bdab2617-e56c-4a18-b417-dc9856103ed1\")>,\n",
       " <selenium.webdriver.remote.webelement.WebElement (session=\"6a89ec3181cddf991f477234413369f8\", element=\"45bc09c3-a830-43b2-88f5-69aa43d94a31\")>,\n",
       " <selenium.webdriver.remote.webelement.WebElement (session=\"6a89ec3181cddf991f477234413369f8\", element=\"3fca6aff-3f94-4e46-b4f7-e95fcc409a29\")>]"
      ]
     },
     "execution_count": 337,
     "metadata": {},
     "output_type": "execute_result"
    }
   ],
   "source": [
    "ratings=driver.find_elements_by_xpath('//span[@class=\"css-19pjha7 e1cjmv6j1\"]')\n",
    "ratings"
   ]
  },
  {
   "cell_type": "code",
   "execution_count": 338,
   "id": "b5d761c2",
   "metadata": {},
   "outputs": [
    {
     "data": {
      "text/plain": [
       "['4.3',\n",
       " '4.1',\n",
       " '4.4',\n",
       " '4.1',\n",
       " '4.1',\n",
       " '4.7',\n",
       " '4.0',\n",
       " '5.0',\n",
       " '4.6',\n",
       " '4.0',\n",
       " '4.1',\n",
       " '4.4',\n",
       " '4.0',\n",
       " '4.0',\n",
       " '4.0',\n",
       " '4.5',\n",
       " '4.2',\n",
       " '4.0',\n",
       " '4.1',\n",
       " '4.0',\n",
       " '4.3',\n",
       " '4.3',\n",
       " '4.1',\n",
       " '4.2',\n",
       " '4.0',\n",
       " '4.4',\n",
       " '4.0',\n",
       " '4.0',\n",
       " '4.0',\n",
       " '4.2']"
      ]
     },
     "execution_count": 338,
     "metadata": {},
     "output_type": "execute_result"
    }
   ],
   "source": [
    "rating = []\n",
    "for i in ratings:\n",
    "    rating.append(i.text)\n",
    "rating "
   ]
  },
  {
   "cell_type": "code",
   "execution_count": 339,
   "id": "f9bc841b",
   "metadata": {},
   "outputs": [
    {
     "name": "stdout",
     "output_type": "stream",
     "text": [
      "30 30 30\n"
     ]
    }
   ],
   "source": [
    "#check the length of each list\n",
    "print(len(company_title),len(days),len(rating))"
   ]
  },
  {
   "cell_type": "code",
   "execution_count": 340,
   "id": "27ef3e90",
   "metadata": {},
   "outputs": [],
   "source": [
    "#now create the dataframe using with pandas\n",
    "company = pd.DataFrame({})\n",
    "company['company_name'] = company_title\n",
    "company['job_was_posted'] = days\n",
    "company['Rating_of_the_company.'] = rating"
   ]
  },
  {
   "cell_type": "code",
   "execution_count": 341,
   "id": "d4216881",
   "metadata": {},
   "outputs": [
    {
     "data": {
      "text/html": [
       "<div>\n",
       "<style scoped>\n",
       "    .dataframe tbody tr th:only-of-type {\n",
       "        vertical-align: middle;\n",
       "    }\n",
       "\n",
       "    .dataframe tbody tr th {\n",
       "        vertical-align: top;\n",
       "    }\n",
       "\n",
       "    .dataframe thead th {\n",
       "        text-align: right;\n",
       "    }\n",
       "</style>\n",
       "<table border=\"1\" class=\"dataframe\">\n",
       "  <thead>\n",
       "    <tr style=\"text-align: right;\">\n",
       "      <th></th>\n",
       "      <th>company_name</th>\n",
       "      <th>job_was_posted</th>\n",
       "      <th>Rating_of_the_company.</th>\n",
       "    </tr>\n",
       "  </thead>\n",
       "  <tbody>\n",
       "    <tr>\n",
       "      <th>0</th>\n",
       "      <td>MasterCard</td>\n",
       "      <td>2d</td>\n",
       "      <td>4.3</td>\n",
       "    </tr>\n",
       "    <tr>\n",
       "      <th>1</th>\n",
       "      <td>United Airlines</td>\n",
       "      <td>26d</td>\n",
       "      <td>4.1</td>\n",
       "    </tr>\n",
       "    <tr>\n",
       "      <th>2</th>\n",
       "      <td>Microsoft</td>\n",
       "      <td>1d</td>\n",
       "      <td>4.4</td>\n",
       "    </tr>\n",
       "    <tr>\n",
       "      <th>3</th>\n",
       "      <td>Ericsson</td>\n",
       "      <td>24h</td>\n",
       "      <td>4.1</td>\n",
       "    </tr>\n",
       "    <tr>\n",
       "      <th>4</th>\n",
       "      <td>dunnhumby</td>\n",
       "      <td>1d</td>\n",
       "      <td>4.1</td>\n",
       "    </tr>\n",
       "    <tr>\n",
       "      <th>5</th>\n",
       "      <td>DarioHealth</td>\n",
       "      <td>3d</td>\n",
       "      <td>4.7</td>\n",
       "    </tr>\n",
       "    <tr>\n",
       "      <th>6</th>\n",
       "      <td>Biz2Credit Inc</td>\n",
       "      <td>30d+</td>\n",
       "      <td>4.0</td>\n",
       "    </tr>\n",
       "    <tr>\n",
       "      <th>7</th>\n",
       "      <td>Techlive</td>\n",
       "      <td>30d+</td>\n",
       "      <td>5.0</td>\n",
       "    </tr>\n",
       "    <tr>\n",
       "      <th>8</th>\n",
       "      <td>KVCH</td>\n",
       "      <td>5d</td>\n",
       "      <td>4.6</td>\n",
       "    </tr>\n",
       "    <tr>\n",
       "      <th>9</th>\n",
       "      <td>Accenture</td>\n",
       "      <td>1d</td>\n",
       "      <td>4.0</td>\n",
       "    </tr>\n",
       "    <tr>\n",
       "      <th>10</th>\n",
       "      <td>Siemens</td>\n",
       "      <td>16d</td>\n",
       "      <td>4.1</td>\n",
       "    </tr>\n",
       "    <tr>\n",
       "      <th>11</th>\n",
       "      <td>Microsoft</td>\n",
       "      <td>2d</td>\n",
       "      <td>4.4</td>\n",
       "    </tr>\n",
       "    <tr>\n",
       "      <th>12</th>\n",
       "      <td>Innefu Labs Pvt. Ltd.</td>\n",
       "      <td>30d+</td>\n",
       "      <td>4.0</td>\n",
       "    </tr>\n",
       "    <tr>\n",
       "      <th>13</th>\n",
       "      <td>Aedifico Tech</td>\n",
       "      <td>19d</td>\n",
       "      <td>4.0</td>\n",
       "    </tr>\n",
       "    <tr>\n",
       "      <th>14</th>\n",
       "      <td>ESRI, Inc.</td>\n",
       "      <td>10d</td>\n",
       "      <td>4.0</td>\n",
       "    </tr>\n",
       "    <tr>\n",
       "      <th>15</th>\n",
       "      <td>WinZO</td>\n",
       "      <td>22d</td>\n",
       "      <td>4.5</td>\n",
       "    </tr>\n",
       "    <tr>\n",
       "      <th>16</th>\n",
       "      <td>Macquarie Group Limited</td>\n",
       "      <td>4d</td>\n",
       "      <td>4.2</td>\n",
       "    </tr>\n",
       "    <tr>\n",
       "      <th>17</th>\n",
       "      <td>Innefu Labs Pvt. Ltd.</td>\n",
       "      <td>30d+</td>\n",
       "      <td>4.0</td>\n",
       "    </tr>\n",
       "    <tr>\n",
       "      <th>18</th>\n",
       "      <td>Team Computers</td>\n",
       "      <td>30d+</td>\n",
       "      <td>4.1</td>\n",
       "    </tr>\n",
       "    <tr>\n",
       "      <th>19</th>\n",
       "      <td>iGloble Solutions</td>\n",
       "      <td>30d+</td>\n",
       "      <td>4.0</td>\n",
       "    </tr>\n",
       "    <tr>\n",
       "      <th>20</th>\n",
       "      <td>Axslogic</td>\n",
       "      <td>30d+</td>\n",
       "      <td>4.3</td>\n",
       "    </tr>\n",
       "    <tr>\n",
       "      <th>21</th>\n",
       "      <td>ADCI - Haryana</td>\n",
       "      <td>30d+</td>\n",
       "      <td>4.3</td>\n",
       "    </tr>\n",
       "    <tr>\n",
       "      <th>22</th>\n",
       "      <td>MobiKwik</td>\n",
       "      <td>30d+</td>\n",
       "      <td>4.1</td>\n",
       "    </tr>\n",
       "    <tr>\n",
       "      <th>23</th>\n",
       "      <td>Valiance Solutions</td>\n",
       "      <td>30d+</td>\n",
       "      <td>4.2</td>\n",
       "    </tr>\n",
       "    <tr>\n",
       "      <th>24</th>\n",
       "      <td>Innefu Labs Pvt. Ltd.</td>\n",
       "      <td>30d+</td>\n",
       "      <td>4.0</td>\n",
       "    </tr>\n",
       "    <tr>\n",
       "      <th>25</th>\n",
       "      <td>McKinsey &amp; Company</td>\n",
       "      <td>30d+</td>\n",
       "      <td>4.4</td>\n",
       "    </tr>\n",
       "    <tr>\n",
       "      <th>26</th>\n",
       "      <td>Mahajan Imaging</td>\n",
       "      <td>30d+</td>\n",
       "      <td>4.0</td>\n",
       "    </tr>\n",
       "    <tr>\n",
       "      <th>27</th>\n",
       "      <td>Maruti Suzuki India Ltd</td>\n",
       "      <td>30d+</td>\n",
       "      <td>4.0</td>\n",
       "    </tr>\n",
       "    <tr>\n",
       "      <th>28</th>\n",
       "      <td>ZS Associates</td>\n",
       "      <td>30d+</td>\n",
       "      <td>4.0</td>\n",
       "    </tr>\n",
       "    <tr>\n",
       "      <th>29</th>\n",
       "      <td>Amex</td>\n",
       "      <td>16d</td>\n",
       "      <td>4.2</td>\n",
       "    </tr>\n",
       "  </tbody>\n",
       "</table>\n",
       "</div>"
      ],
      "text/plain": [
       "               company_name job_was_posted Rating_of_the_company.\n",
       "0                MasterCard             2d                    4.3\n",
       "1           United Airlines            26d                    4.1\n",
       "2                 Microsoft             1d                    4.4\n",
       "3                  Ericsson            24h                    4.1\n",
       "4                 dunnhumby             1d                    4.1\n",
       "5               DarioHealth             3d                    4.7\n",
       "6            Biz2Credit Inc           30d+                    4.0\n",
       "7                  Techlive           30d+                    5.0\n",
       "8                      KVCH             5d                    4.6\n",
       "9                 Accenture             1d                    4.0\n",
       "10                  Siemens            16d                    4.1\n",
       "11                Microsoft             2d                    4.4\n",
       "12    Innefu Labs Pvt. Ltd.           30d+                    4.0\n",
       "13            Aedifico Tech            19d                    4.0\n",
       "14               ESRI, Inc.            10d                    4.0\n",
       "15                    WinZO            22d                    4.5\n",
       "16  Macquarie Group Limited             4d                    4.2\n",
       "17    Innefu Labs Pvt. Ltd.           30d+                    4.0\n",
       "18           Team Computers           30d+                    4.1\n",
       "19        iGloble Solutions           30d+                    4.0\n",
       "20                 Axslogic           30d+                    4.3\n",
       "21           ADCI - Haryana           30d+                    4.3\n",
       "22                 MobiKwik           30d+                    4.1\n",
       "23       Valiance Solutions           30d+                    4.2\n",
       "24    Innefu Labs Pvt. Ltd.           30d+                    4.0\n",
       "25       McKinsey & Company           30d+                    4.4\n",
       "26          Mahajan Imaging           30d+                    4.0\n",
       "27  Maruti Suzuki India Ltd           30d+                    4.0\n",
       "28            ZS Associates           30d+                    4.0\n",
       "29                     Amex            16d                    4.2"
      ]
     },
     "execution_count": 341,
     "metadata": {},
     "output_type": "execute_result"
    }
   ],
   "source": [
    "company"
   ]
  },
  {
   "cell_type": "code",
   "execution_count": 342,
   "id": "3f391f68",
   "metadata": {},
   "outputs": [
    {
     "data": {
      "text/html": [
       "<div>\n",
       "<style scoped>\n",
       "    .dataframe tbody tr th:only-of-type {\n",
       "        vertical-align: middle;\n",
       "    }\n",
       "\n",
       "    .dataframe tbody tr th {\n",
       "        vertical-align: top;\n",
       "    }\n",
       "\n",
       "    .dataframe thead th {\n",
       "        text-align: right;\n",
       "    }\n",
       "</style>\n",
       "<table border=\"1\" class=\"dataframe\">\n",
       "  <thead>\n",
       "    <tr style=\"text-align: right;\">\n",
       "      <th></th>\n",
       "      <th>company_name</th>\n",
       "      <th>job_was_posted</th>\n",
       "      <th>Rating_of_the_company.</th>\n",
       "    </tr>\n",
       "  </thead>\n",
       "  <tbody>\n",
       "    <tr>\n",
       "      <th>0</th>\n",
       "      <td>MasterCard</td>\n",
       "      <td>2d</td>\n",
       "      <td>4.3</td>\n",
       "    </tr>\n",
       "    <tr>\n",
       "      <th>1</th>\n",
       "      <td>United Airlines</td>\n",
       "      <td>26d</td>\n",
       "      <td>4.1</td>\n",
       "    </tr>\n",
       "    <tr>\n",
       "      <th>2</th>\n",
       "      <td>Microsoft</td>\n",
       "      <td>1d</td>\n",
       "      <td>4.4</td>\n",
       "    </tr>\n",
       "    <tr>\n",
       "      <th>3</th>\n",
       "      <td>Ericsson</td>\n",
       "      <td>24h</td>\n",
       "      <td>4.1</td>\n",
       "    </tr>\n",
       "    <tr>\n",
       "      <th>4</th>\n",
       "      <td>dunnhumby</td>\n",
       "      <td>1d</td>\n",
       "      <td>4.1</td>\n",
       "    </tr>\n",
       "    <tr>\n",
       "      <th>5</th>\n",
       "      <td>DarioHealth</td>\n",
       "      <td>3d</td>\n",
       "      <td>4.7</td>\n",
       "    </tr>\n",
       "    <tr>\n",
       "      <th>6</th>\n",
       "      <td>Biz2Credit Inc</td>\n",
       "      <td>30d+</td>\n",
       "      <td>4.0</td>\n",
       "    </tr>\n",
       "    <tr>\n",
       "      <th>7</th>\n",
       "      <td>Techlive</td>\n",
       "      <td>30d+</td>\n",
       "      <td>5.0</td>\n",
       "    </tr>\n",
       "    <tr>\n",
       "      <th>8</th>\n",
       "      <td>KVCH</td>\n",
       "      <td>5d</td>\n",
       "      <td>4.6</td>\n",
       "    </tr>\n",
       "    <tr>\n",
       "      <th>9</th>\n",
       "      <td>Accenture</td>\n",
       "      <td>1d</td>\n",
       "      <td>4.0</td>\n",
       "    </tr>\n",
       "  </tbody>\n",
       "</table>\n",
       "</div>"
      ],
      "text/plain": [
       "      company_name job_was_posted Rating_of_the_company.\n",
       "0       MasterCard             2d                    4.3\n",
       "1  United Airlines            26d                    4.1\n",
       "2        Microsoft             1d                    4.4\n",
       "3         Ericsson            24h                    4.1\n",
       "4        dunnhumby             1d                    4.1\n",
       "5      DarioHealth             3d                    4.7\n",
       "6   Biz2Credit Inc           30d+                    4.0\n",
       "7         Techlive           30d+                    5.0\n",
       "8             KVCH             5d                    4.6\n",
       "9        Accenture             1d                    4.0"
      ]
     },
     "execution_count": 342,
     "metadata": {},
     "output_type": "execute_result"
    }
   ],
   "source": [
    "company.head(10)"
   ]
  },
  {
   "cell_type": "code",
   "execution_count": null,
   "id": "ac29c813",
   "metadata": {},
   "outputs": [],
   "source": []
  },
  {
   "cell_type": "code",
   "execution_count": null,
   "id": "76f8aed6",
   "metadata": {},
   "outputs": [],
   "source": []
  },
  {
   "cell_type": "markdown",
   "id": "8acee7e3",
   "metadata": {},
   "source": [
    "# Q5: Write a python program to scrape the salary data for Data Scientist designation in Noida location You have to scrape Company name, Number of salaries, Average salary, Min salary, Max Salary."
   ]
  },
  {
   "cell_type": "code",
   "execution_count": 1013,
   "id": "4ba682b5",
   "metadata": {},
   "outputs": [],
   "source": [
    "#lets now import all required libraries \n",
    "import selenium\n",
    "import pandas as pd\n",
    "from selenium import webdriver"
   ]
  },
  {
   "cell_type": "code",
   "execution_count": 1014,
   "id": "2912ed5d",
   "metadata": {},
   "outputs": [],
   "source": [
    "#lets first connect to the webdriver\n",
    "driver = webdriver.Chrome('chromedriver.exe')"
   ]
  },
  {
   "cell_type": "code",
   "execution_count": 1015,
   "id": "9c2cf2d8",
   "metadata": {},
   "outputs": [],
   "source": [
    "url = 'https://www.glassdoor.co.in/Salaries/index.htm'\n",
    "driver.get(url)"
   ]
  },
  {
   "cell_type": "code",
   "execution_count": 1016,
   "id": "f7b14281",
   "metadata": {},
   "outputs": [],
   "source": [
    "#finding job title\n",
    "search_job = driver.find_element_by_id(\"KeywordSearch\")\n",
    "search_job.send_keys('Data Scientist')"
   ]
  },
  {
   "cell_type": "code",
   "execution_count": 1017,
   "id": "ca9365a2",
   "metadata": {
    "scrolled": true
   },
   "outputs": [],
   "source": [
    "#finding element for job location\n",
    "search_loc = driver.find_element_by_id('LocationSearch')\n",
    "search_loc.send_keys('Noida')"
   ]
  },
  {
   "cell_type": "code",
   "execution_count": 1019,
   "id": "52dea4c6",
   "metadata": {},
   "outputs": [],
   "source": [
    "search_btn = driver.find_element_by_id(\"HeroSearchButton\")\n",
    "search_btn.click()"
   ]
  },
  {
   "cell_type": "code",
   "execution_count": 1077,
   "id": "e0a227e6",
   "metadata": {
    "scrolled": true
   },
   "outputs": [
    {
     "data": {
      "text/plain": [
       "[<selenium.webdriver.remote.webelement.WebElement (session=\"c641b92a7a292ec4044d3b08dcbd770e\", element=\"3f268a2f-3290-4622-8224-709b6f1d68d3\")>,\n",
       " <selenium.webdriver.remote.webelement.WebElement (session=\"c641b92a7a292ec4044d3b08dcbd770e\", element=\"7f5fcc8a-8d35-4199-b580-a7305e5085f3\")>,\n",
       " <selenium.webdriver.remote.webelement.WebElement (session=\"c641b92a7a292ec4044d3b08dcbd770e\", element=\"b6b148ea-e2ab-4afd-ad5d-c3f1d7f8a3f9\")>,\n",
       " <selenium.webdriver.remote.webelement.WebElement (session=\"c641b92a7a292ec4044d3b08dcbd770e\", element=\"c21eaa97-58bb-4fb6-b7bd-8dbcf0772b6f\")>,\n",
       " <selenium.webdriver.remote.webelement.WebElement (session=\"c641b92a7a292ec4044d3b08dcbd770e\", element=\"2ab49d8b-dcbf-41cb-9ede-66aaac01bff8\")>,\n",
       " <selenium.webdriver.remote.webelement.WebElement (session=\"c641b92a7a292ec4044d3b08dcbd770e\", element=\"7a3c6b6e-a760-4c02-9c11-b8b6619c28bc\")>,\n",
       " <selenium.webdriver.remote.webelement.WebElement (session=\"c641b92a7a292ec4044d3b08dcbd770e\", element=\"15d86abd-0d15-48bd-9b07-a69254631a03\")>,\n",
       " <selenium.webdriver.remote.webelement.WebElement (session=\"c641b92a7a292ec4044d3b08dcbd770e\", element=\"9866f082-47b2-4460-b932-b83289041ac9\")>,\n",
       " <selenium.webdriver.remote.webelement.WebElement (session=\"c641b92a7a292ec4044d3b08dcbd770e\", element=\"dcb4c8bf-108b-4488-a73e-6b23dcaacf8c\")>,\n",
       " <selenium.webdriver.remote.webelement.WebElement (session=\"c641b92a7a292ec4044d3b08dcbd770e\", element=\"0a5b95ed-9fd9-43c6-9ce9-f058977a2ebf\")>,\n",
       " <selenium.webdriver.remote.webelement.WebElement (session=\"c641b92a7a292ec4044d3b08dcbd770e\", element=\"945de5c0-ac89-4739-b7ab-f12ec27eb4e3\")>,\n",
       " <selenium.webdriver.remote.webelement.WebElement (session=\"c641b92a7a292ec4044d3b08dcbd770e\", element=\"cfa0461d-d170-4184-a17f-25aa13848b8c\")>,\n",
       " <selenium.webdriver.remote.webelement.WebElement (session=\"c641b92a7a292ec4044d3b08dcbd770e\", element=\"fbcdf336-e09e-4c76-85b3-430ebbd441c3\")>,\n",
       " <selenium.webdriver.remote.webelement.WebElement (session=\"c641b92a7a292ec4044d3b08dcbd770e\", element=\"f3a80127-c937-403f-b80a-063cd3996011\")>,\n",
       " <selenium.webdriver.remote.webelement.WebElement (session=\"c641b92a7a292ec4044d3b08dcbd770e\", element=\"22a19f87-5464-463b-a931-fad5384f5dc6\")>,\n",
       " <selenium.webdriver.remote.webelement.WebElement (session=\"c641b92a7a292ec4044d3b08dcbd770e\", element=\"fd043a70-5b1c-4d78-ad99-5bab62c4072c\")>,\n",
       " <selenium.webdriver.remote.webelement.WebElement (session=\"c641b92a7a292ec4044d3b08dcbd770e\", element=\"4a823ab7-0cbe-4a2c-b344-2c9b86c0c680\")>,\n",
       " <selenium.webdriver.remote.webelement.WebElement (session=\"c641b92a7a292ec4044d3b08dcbd770e\", element=\"47217a37-ad96-4545-98c9-364349c98c08\")>,\n",
       " <selenium.webdriver.remote.webelement.WebElement (session=\"c641b92a7a292ec4044d3b08dcbd770e\", element=\"28370da4-3313-4925-8b78-620b03215d66\")>,\n",
       " <selenium.webdriver.remote.webelement.WebElement (session=\"c641b92a7a292ec4044d3b08dcbd770e\", element=\"4fc01378-1d4d-4f40-b3a2-e7e9ae13f950\")>]"
      ]
     },
     "execution_count": 1077,
     "metadata": {},
     "output_type": "execute_result"
    }
   ],
   "source": [
    "salary=driver.find_elements_by_xpath('//div[@class=\"d-flex mt-xxsm css-79elbk epuxyqn0\"]')\n",
    "salary"
   ]
  },
  {
   "cell_type": "code",
   "execution_count": 1079,
   "id": "fca88bee",
   "metadata": {},
   "outputs": [
    {
     "data": {
      "text/plain": [
       "['₹3L',\n",
       " '₹6L',\n",
       " '₹6L',\n",
       " '₹5L',\n",
       " '₹4L',\n",
       " '₹8L',\n",
       " '₹5L',\n",
       " '₹6L',\n",
       " '₹8L',\n",
       " '₹4L',\n",
       " '₹2L',\n",
       " '₹6L',\n",
       " '₹10',\n",
       " '₹4L',\n",
       " '₹8L',\n",
       " '₹9L',\n",
       " '₹8L',\n",
       " '₹12',\n",
       " '₹4L',\n",
       " '₹25']"
      ]
     },
     "execution_count": 1079,
     "metadata": {},
     "output_type": "execute_result"
    }
   ],
   "source": [
    "min_salary = []\n",
    "for i in salary:\n",
    "    min_salary.append(i.text[:3])\n",
    "min_salary"
   ]
  },
  {
   "cell_type": "code",
   "execution_count": 1080,
   "id": "742259ac",
   "metadata": {},
   "outputs": [
    {
     "data": {
      "text/plain": [
       "['₹13L',\n",
       " '₹27L',\n",
       " '₹22L',\n",
       " '₹1Cr',\n",
       " '₹16L',\n",
       " '₹15L',\n",
       " '₹15L',\n",
       " '₹15L',\n",
       " '₹20L',\n",
       " '₹22L',\n",
       " '₹18L',\n",
       " '₹17L',\n",
       " '₹21L',\n",
       " '₹16L',\n",
       " '₹13L',\n",
       " '₹15L',\n",
       " '₹20L',\n",
       " '₹63T',\n",
       " '₹17L',\n",
       " '₹1L']"
      ]
     },
     "execution_count": 1080,
     "metadata": {},
     "output_type": "execute_result"
    }
   ],
   "source": [
    "max_salary = []\n",
    "for i in salary:\n",
    "    max_salary.append(i.text[4:].replace('\\n',''))\n",
    "max_salary"
   ]
  },
  {
   "cell_type": "code",
   "execution_count": 1045,
   "id": "562d3ea4",
   "metadata": {},
   "outputs": [
    {
     "data": {
      "text/plain": [
       "[<selenium.webdriver.remote.webelement.WebElement (session=\"c641b92a7a292ec4044d3b08dcbd770e\", element=\"49a1acd9-11b7-40a4-95ac-b63405079577\")>,\n",
       " <selenium.webdriver.remote.webelement.WebElement (session=\"c641b92a7a292ec4044d3b08dcbd770e\", element=\"89c54a07-0f2e-4655-8935-1e2db9017c84\")>,\n",
       " <selenium.webdriver.remote.webelement.WebElement (session=\"c641b92a7a292ec4044d3b08dcbd770e\", element=\"4124d413-8006-4ea5-baa5-e1953b23874a\")>,\n",
       " <selenium.webdriver.remote.webelement.WebElement (session=\"c641b92a7a292ec4044d3b08dcbd770e\", element=\"f64707a8-63d4-430f-aa0e-165a8b4cfaff\")>,\n",
       " <selenium.webdriver.remote.webelement.WebElement (session=\"c641b92a7a292ec4044d3b08dcbd770e\", element=\"58b0a0b8-deb0-4fb1-9e31-53dc31227c77\")>,\n",
       " <selenium.webdriver.remote.webelement.WebElement (session=\"c641b92a7a292ec4044d3b08dcbd770e\", element=\"c9fc0ada-bab7-4cdc-adaa-854d9257424c\")>,\n",
       " <selenium.webdriver.remote.webelement.WebElement (session=\"c641b92a7a292ec4044d3b08dcbd770e\", element=\"1915c678-5587-41bd-b750-4c2ae067baab\")>,\n",
       " <selenium.webdriver.remote.webelement.WebElement (session=\"c641b92a7a292ec4044d3b08dcbd770e\", element=\"53e04d20-5e1a-4e73-8586-972d3aa3b78f\")>,\n",
       " <selenium.webdriver.remote.webelement.WebElement (session=\"c641b92a7a292ec4044d3b08dcbd770e\", element=\"650cab06-164e-4056-b4b0-6931795eeded\")>,\n",
       " <selenium.webdriver.remote.webelement.WebElement (session=\"c641b92a7a292ec4044d3b08dcbd770e\", element=\"677daa50-4c45-4ba5-999e-4f60097868bf\")>,\n",
       " <selenium.webdriver.remote.webelement.WebElement (session=\"c641b92a7a292ec4044d3b08dcbd770e\", element=\"9fdf51ea-d760-4e6d-9a5b-784d37968370\")>,\n",
       " <selenium.webdriver.remote.webelement.WebElement (session=\"c641b92a7a292ec4044d3b08dcbd770e\", element=\"dd44b2e3-2041-4f34-983e-d7defd7ce69f\")>,\n",
       " <selenium.webdriver.remote.webelement.WebElement (session=\"c641b92a7a292ec4044d3b08dcbd770e\", element=\"2f7ec2d5-fc7b-466b-9e28-7e2c01720af7\")>,\n",
       " <selenium.webdriver.remote.webelement.WebElement (session=\"c641b92a7a292ec4044d3b08dcbd770e\", element=\"5f7ffe61-60e2-4ed4-b108-d8e54e204ce4\")>,\n",
       " <selenium.webdriver.remote.webelement.WebElement (session=\"c641b92a7a292ec4044d3b08dcbd770e\", element=\"d5b38c57-038f-4eb4-aeac-145f63a0f6ae\")>,\n",
       " <selenium.webdriver.remote.webelement.WebElement (session=\"c641b92a7a292ec4044d3b08dcbd770e\", element=\"5126dab9-350a-4be6-9996-7a36b3d3100e\")>,\n",
       " <selenium.webdriver.remote.webelement.WebElement (session=\"c641b92a7a292ec4044d3b08dcbd770e\", element=\"391be2d1-7255-4dec-bcc5-006ab221cd6c\")>,\n",
       " <selenium.webdriver.remote.webelement.WebElement (session=\"c641b92a7a292ec4044d3b08dcbd770e\", element=\"c1614276-74ff-4aa4-a2f4-2ee71898bae1\")>,\n",
       " <selenium.webdriver.remote.webelement.WebElement (session=\"c641b92a7a292ec4044d3b08dcbd770e\", element=\"cfc369a5-3916-42bc-9fb4-0fbc229eaa02\")>,\n",
       " <selenium.webdriver.remote.webelement.WebElement (session=\"c641b92a7a292ec4044d3b08dcbd770e\", element=\"ea5d61d5-8c4b-4c43-807f-efb211c1c3a8\")>]"
      ]
     },
     "execution_count": 1045,
     "metadata": {},
     "output_type": "execute_result"
    }
   ],
   "source": [
    "comp=driver.find_elements_by_xpath('//a[@class=\"css-f3vw95 e1aj7ssy3\"]')\n",
    "comp"
   ]
  },
  {
   "cell_type": "code",
   "execution_count": 1046,
   "id": "cb3752f7",
   "metadata": {},
   "outputs": [
    {
     "data": {
      "text/plain": [
       "['Tata Consultancy Services',\n",
       " 'IBM',\n",
       " 'Accenture',\n",
       " 'Delhivery',\n",
       " 'Ericsson-Worldwide',\n",
       " 'UnitedHealth Group',\n",
       " 'Valiance Solutions',\n",
       " 'EXL Service',\n",
       " 'Optum',\n",
       " 'Optum Global Solutions',\n",
       " 'ZS Associates',\n",
       " 'Innovaccer',\n",
       " 'OYO',\n",
       " 'Nagarro',\n",
       " 'Cognizant Technology Solutions',\n",
       " 'CARS24.com',\n",
       " 'dunnhumby',\n",
       " 'Vidooly Media Tech',\n",
       " 'Tech Mahindra',\n",
       " 'Fresher']"
      ]
     },
     "execution_count": 1046,
     "metadata": {},
     "output_type": "execute_result"
    }
   ],
   "source": [
    "company = []\n",
    "for i in comp:\n",
    "    company.append(i.text)\n",
    "company"
   ]
  },
  {
   "cell_type": "code",
   "execution_count": 1052,
   "id": "23117142",
   "metadata": {},
   "outputs": [
    {
     "data": {
      "text/plain": [
       "[<selenium.webdriver.remote.webelement.WebElement (session=\"c641b92a7a292ec4044d3b08dcbd770e\", element=\"217027ea-ef5d-453b-8873-f07d0750066e\")>,\n",
       " <selenium.webdriver.remote.webelement.WebElement (session=\"c641b92a7a292ec4044d3b08dcbd770e\", element=\"7d8af0a2-af75-4796-b3fb-bdb5e8f0212e\")>,\n",
       " <selenium.webdriver.remote.webelement.WebElement (session=\"c641b92a7a292ec4044d3b08dcbd770e\", element=\"eb6413ab-5987-40e1-bf4c-306d7c6d189f\")>,\n",
       " <selenium.webdriver.remote.webelement.WebElement (session=\"c641b92a7a292ec4044d3b08dcbd770e\", element=\"6752143b-522a-446b-8fe4-2d85d4f0f037\")>,\n",
       " <selenium.webdriver.remote.webelement.WebElement (session=\"c641b92a7a292ec4044d3b08dcbd770e\", element=\"b37a3d22-77ec-44c5-8b4f-682f09ffdffa\")>,\n",
       " <selenium.webdriver.remote.webelement.WebElement (session=\"c641b92a7a292ec4044d3b08dcbd770e\", element=\"f9286c80-7e91-4b6f-b087-d09d717cac7f\")>,\n",
       " <selenium.webdriver.remote.webelement.WebElement (session=\"c641b92a7a292ec4044d3b08dcbd770e\", element=\"dff1998e-a345-4c96-bcb5-c505b69797ff\")>,\n",
       " <selenium.webdriver.remote.webelement.WebElement (session=\"c641b92a7a292ec4044d3b08dcbd770e\", element=\"b115da3c-ff1e-4711-9b1c-a63bf61e0160\")>,\n",
       " <selenium.webdriver.remote.webelement.WebElement (session=\"c641b92a7a292ec4044d3b08dcbd770e\", element=\"2d3c94e6-9c23-4502-8a18-6ffde2f5302b\")>,\n",
       " <selenium.webdriver.remote.webelement.WebElement (session=\"c641b92a7a292ec4044d3b08dcbd770e\", element=\"3566c108-4b1b-4056-a0d7-ee8adc6408ca\")>,\n",
       " <selenium.webdriver.remote.webelement.WebElement (session=\"c641b92a7a292ec4044d3b08dcbd770e\", element=\"fe7dc661-7c93-4cea-a628-70fe8a066bac\")>,\n",
       " <selenium.webdriver.remote.webelement.WebElement (session=\"c641b92a7a292ec4044d3b08dcbd770e\", element=\"d9f744b4-0fb5-4d59-afee-4f981d800ee2\")>,\n",
       " <selenium.webdriver.remote.webelement.WebElement (session=\"c641b92a7a292ec4044d3b08dcbd770e\", element=\"a9d4f641-b3b3-4cae-924e-b8c3a4ea46ee\")>,\n",
       " <selenium.webdriver.remote.webelement.WebElement (session=\"c641b92a7a292ec4044d3b08dcbd770e\", element=\"c0071d69-bb95-4a63-a001-4ff6b44744e5\")>,\n",
       " <selenium.webdriver.remote.webelement.WebElement (session=\"c641b92a7a292ec4044d3b08dcbd770e\", element=\"bc82c7e6-193d-489e-a9dd-06be9243ac53\")>,\n",
       " <selenium.webdriver.remote.webelement.WebElement (session=\"c641b92a7a292ec4044d3b08dcbd770e\", element=\"bcb93a92-00b0-4b8f-ba9c-1749fb7054b7\")>,\n",
       " <selenium.webdriver.remote.webelement.WebElement (session=\"c641b92a7a292ec4044d3b08dcbd770e\", element=\"199899dd-754a-4fff-9bf0-39db46dd80ba\")>,\n",
       " <selenium.webdriver.remote.webelement.WebElement (session=\"c641b92a7a292ec4044d3b08dcbd770e\", element=\"bb038461-d9b1-466d-b73b-22914315c13a\")>,\n",
       " <selenium.webdriver.remote.webelement.WebElement (session=\"c641b92a7a292ec4044d3b08dcbd770e\", element=\"5f3313fd-5718-4a16-9b09-86a1948af862\")>,\n",
       " <selenium.webdriver.remote.webelement.WebElement (session=\"c641b92a7a292ec4044d3b08dcbd770e\", element=\"c5a4e881-a7d6-43de-b551-0580817099dc\")>]"
      ]
     },
     "execution_count": 1052,
     "metadata": {},
     "output_type": "execute_result"
    }
   ],
   "source": [
    "avrgsal=driver.find_elements_by_xpath('//div[@class=\"col-12 col-lg-4 px-lg-0 d-flex align-items-baseline\"]')\n",
    "avrgsal"
   ]
  },
  {
   "cell_type": "code",
   "execution_count": 1054,
   "id": "d2ffb470",
   "metadata": {},
   "outputs": [
    {
     "data": {
      "text/plain": [
       "['₹6,12,205 /yr',\n",
       " '₹9,00,000 /yr',\n",
       " '₹11,63,336 /yr',\n",
       " '₹12,18,244 /yr',\n",
       " '₹7,39,238 /yr',\n",
       " '₹12,80,000 /yr',\n",
       " '₹8,63,750 /yr',\n",
       " '₹11,10,000 /yr',\n",
       " '₹14,23,677 /yr',\n",
       " '₹13,28,697 /yr',\n",
       " '₹11,42,356 /yr',\n",
       " '₹12,09,040 /yr',\n",
       " '₹14,15,338 /yr',\n",
       " '₹10,22,074 /yr',\n",
       " '₹10,09,021 /yr',\n",
       " '₹10,00,000 /yr',\n",
       " '₹10,55,478 /yr',\n",
       " '₹34,157 /mo',\n",
       " '₹10,54,402 /yr',\n",
       " '₹80,000 /mo']"
      ]
     },
     "execution_count": 1054,
     "metadata": {},
     "output_type": "execute_result"
    }
   ],
   "source": [
    "average_sal = []\n",
    "for i in avrgsal:\n",
    "    average_sal.append(i.text.replace('\\n',''))\n",
    "average_sal"
   ]
  },
  {
   "cell_type": "code",
   "execution_count": 1055,
   "id": "f7c64615",
   "metadata": {},
   "outputs": [
    {
     "data": {
      "text/plain": [
       "[<selenium.webdriver.remote.webelement.WebElement (session=\"c641b92a7a292ec4044d3b08dcbd770e\", element=\"6c995f6d-a614-49f5-9812-51fa3e7d1fb5\")>,\n",
       " <selenium.webdriver.remote.webelement.WebElement (session=\"c641b92a7a292ec4044d3b08dcbd770e\", element=\"eb294ae1-8405-4f6a-b66b-fa2e3661158a\")>,\n",
       " <selenium.webdriver.remote.webelement.WebElement (session=\"c641b92a7a292ec4044d3b08dcbd770e\", element=\"cf301ef8-2af0-4da9-a909-7331173cd5b8\")>,\n",
       " <selenium.webdriver.remote.webelement.WebElement (session=\"c641b92a7a292ec4044d3b08dcbd770e\", element=\"1c017535-4f4a-4ccb-b286-23207b6694b6\")>,\n",
       " <selenium.webdriver.remote.webelement.WebElement (session=\"c641b92a7a292ec4044d3b08dcbd770e\", element=\"c30e18ac-b106-4154-989e-cdcf24b65a1d\")>,\n",
       " <selenium.webdriver.remote.webelement.WebElement (session=\"c641b92a7a292ec4044d3b08dcbd770e\", element=\"0ce4516b-32ed-474b-a68d-94de0481c2b3\")>,\n",
       " <selenium.webdriver.remote.webelement.WebElement (session=\"c641b92a7a292ec4044d3b08dcbd770e\", element=\"23c01e2f-a2a6-4cba-b467-400b2fe46dfe\")>,\n",
       " <selenium.webdriver.remote.webelement.WebElement (session=\"c641b92a7a292ec4044d3b08dcbd770e\", element=\"07a08fec-f845-4b43-9263-395ab139b31c\")>,\n",
       " <selenium.webdriver.remote.webelement.WebElement (session=\"c641b92a7a292ec4044d3b08dcbd770e\", element=\"9a3ce36b-8962-474a-a047-abd33ff46a6d\")>,\n",
       " <selenium.webdriver.remote.webelement.WebElement (session=\"c641b92a7a292ec4044d3b08dcbd770e\", element=\"1bdbcfe0-2f0f-43e3-a131-0af1c81ea046\")>,\n",
       " <selenium.webdriver.remote.webelement.WebElement (session=\"c641b92a7a292ec4044d3b08dcbd770e\", element=\"c576faf4-5948-4a75-8063-2cca0b5986ea\")>,\n",
       " <selenium.webdriver.remote.webelement.WebElement (session=\"c641b92a7a292ec4044d3b08dcbd770e\", element=\"53b68ac1-2b5b-4be3-aefd-1a741f9989dd\")>,\n",
       " <selenium.webdriver.remote.webelement.WebElement (session=\"c641b92a7a292ec4044d3b08dcbd770e\", element=\"982f8421-25ac-4842-be05-a857af6394a9\")>,\n",
       " <selenium.webdriver.remote.webelement.WebElement (session=\"c641b92a7a292ec4044d3b08dcbd770e\", element=\"13eaf022-e06b-46eb-be32-d8213361c7a9\")>,\n",
       " <selenium.webdriver.remote.webelement.WebElement (session=\"c641b92a7a292ec4044d3b08dcbd770e\", element=\"be57f080-f971-4ff4-8b92-b56d3f428d99\")>,\n",
       " <selenium.webdriver.remote.webelement.WebElement (session=\"c641b92a7a292ec4044d3b08dcbd770e\", element=\"82e7ffc9-6fe9-43c9-8855-12e43d2643ab\")>,\n",
       " <selenium.webdriver.remote.webelement.WebElement (session=\"c641b92a7a292ec4044d3b08dcbd770e\", element=\"8d5452ea-e2aa-42dc-8641-c2cc67481d95\")>,\n",
       " <selenium.webdriver.remote.webelement.WebElement (session=\"c641b92a7a292ec4044d3b08dcbd770e\", element=\"542793eb-8893-4691-ba46-52e7ede78e8a\")>,\n",
       " <selenium.webdriver.remote.webelement.WebElement (session=\"c641b92a7a292ec4044d3b08dcbd770e\", element=\"c6cc1e66-f16a-4296-90ce-45943441db6d\")>,\n",
       " <selenium.webdriver.remote.webelement.WebElement (session=\"c641b92a7a292ec4044d3b08dcbd770e\", element=\"1bd72521-03e1-45e8-8b6b-9577c809c80d\")>]"
      ]
     },
     "execution_count": 1055,
     "metadata": {},
     "output_type": "execute_result"
    }
   ],
   "source": [
    "rating=driver.find_elements_by_xpath('//span[@class=\"m-0 css-kyx745\"]')\n",
    "rating"
   ]
  },
  {
   "cell_type": "code",
   "execution_count": 1056,
   "id": "51103078",
   "metadata": {},
   "outputs": [
    {
     "data": {
      "text/plain": [
       "['3.9',\n",
       " '3.9',\n",
       " '4.1',\n",
       " '3.9',\n",
       " '4',\n",
       " '3.6',\n",
       " '4.2',\n",
       " '3.6',\n",
       " '3.7',\n",
       " '3.9',\n",
       " '4',\n",
       " '3.8',\n",
       " '3.3',\n",
       " '4',\n",
       " '3.8',\n",
       " '4.1',\n",
       " '4.1',\n",
       " '3.7',\n",
       " '3.6',\n",
       " '4.2']"
      ]
     },
     "execution_count": 1056,
     "metadata": {},
     "output_type": "execute_result"
    }
   ],
   "source": [
    "ratings = []\n",
    "for i in rating:\n",
    "    ratings.append(i.text.replace('\\n',''))\n",
    "ratings"
   ]
  },
  {
   "cell_type": "code",
   "execution_count": 1060,
   "id": "265af039",
   "metadata": {},
   "outputs": [
    {
     "data": {
      "text/plain": [
       "[<selenium.webdriver.remote.webelement.WebElement (session=\"c641b92a7a292ec4044d3b08dcbd770e\", element=\"6c55613b-623d-4d3c-97fc-cee5db530e69\")>,\n",
       " <selenium.webdriver.remote.webelement.WebElement (session=\"c641b92a7a292ec4044d3b08dcbd770e\", element=\"fcd824bd-3d44-4509-a8de-e6326b5e2423\")>,\n",
       " <selenium.webdriver.remote.webelement.WebElement (session=\"c641b92a7a292ec4044d3b08dcbd770e\", element=\"69411610-dfbf-46c9-a860-850c1884901c\")>,\n",
       " <selenium.webdriver.remote.webelement.WebElement (session=\"c641b92a7a292ec4044d3b08dcbd770e\", element=\"12cde3d3-95cb-469d-810e-1856fafd063d\")>,\n",
       " <selenium.webdriver.remote.webelement.WebElement (session=\"c641b92a7a292ec4044d3b08dcbd770e\", element=\"66d38476-fc3c-4db6-baed-a94e96dfeca3\")>,\n",
       " <selenium.webdriver.remote.webelement.WebElement (session=\"c641b92a7a292ec4044d3b08dcbd770e\", element=\"4025868a-79ba-4f31-aa7c-63b7759a338d\")>,\n",
       " <selenium.webdriver.remote.webelement.WebElement (session=\"c641b92a7a292ec4044d3b08dcbd770e\", element=\"69d99c79-a114-41ad-ba92-e06d0c894cff\")>,\n",
       " <selenium.webdriver.remote.webelement.WebElement (session=\"c641b92a7a292ec4044d3b08dcbd770e\", element=\"f0017d05-47e2-45dd-bfbf-9859e60cf4e4\")>,\n",
       " <selenium.webdriver.remote.webelement.WebElement (session=\"c641b92a7a292ec4044d3b08dcbd770e\", element=\"ced1ce26-05bd-4808-8ea9-754483a7eff9\")>,\n",
       " <selenium.webdriver.remote.webelement.WebElement (session=\"c641b92a7a292ec4044d3b08dcbd770e\", element=\"b80f0353-f6f0-48b6-8293-ef26a8b35c0d\")>,\n",
       " <selenium.webdriver.remote.webelement.WebElement (session=\"c641b92a7a292ec4044d3b08dcbd770e\", element=\"51767abc-67ff-4b75-a45a-00a02ae2852c\")>,\n",
       " <selenium.webdriver.remote.webelement.WebElement (session=\"c641b92a7a292ec4044d3b08dcbd770e\", element=\"40214768-82e7-4a93-9215-cc74d7322cca\")>,\n",
       " <selenium.webdriver.remote.webelement.WebElement (session=\"c641b92a7a292ec4044d3b08dcbd770e\", element=\"73fcdb91-974e-4741-a2da-e14fa5d664b5\")>,\n",
       " <selenium.webdriver.remote.webelement.WebElement (session=\"c641b92a7a292ec4044d3b08dcbd770e\", element=\"7dd7a181-8af3-441d-b9a0-5c447a98693c\")>,\n",
       " <selenium.webdriver.remote.webelement.WebElement (session=\"c641b92a7a292ec4044d3b08dcbd770e\", element=\"2e5af9ee-7e04-4c7e-b467-31a70fe379f0\")>,\n",
       " <selenium.webdriver.remote.webelement.WebElement (session=\"c641b92a7a292ec4044d3b08dcbd770e\", element=\"7f919ab4-7247-42b5-8056-19268ab8f0a1\")>,\n",
       " <selenium.webdriver.remote.webelement.WebElement (session=\"c641b92a7a292ec4044d3b08dcbd770e\", element=\"f45fa290-0713-4a17-8f81-fc86225713e3\")>,\n",
       " <selenium.webdriver.remote.webelement.WebElement (session=\"c641b92a7a292ec4044d3b08dcbd770e\", element=\"20c87372-4b49-4e7a-87a7-9a637286d25c\")>,\n",
       " <selenium.webdriver.remote.webelement.WebElement (session=\"c641b92a7a292ec4044d3b08dcbd770e\", element=\"39ad5c43-4b8a-43c2-a98e-f1275234691d\")>,\n",
       " <selenium.webdriver.remote.webelement.WebElement (session=\"c641b92a7a292ec4044d3b08dcbd770e\", element=\"842d1576-11eb-4840-8cbc-838bdc31d6d1\")>]"
      ]
     },
     "execution_count": 1060,
     "metadata": {},
     "output_type": "execute_result"
    }
   ],
   "source": [
    "salary=driver.find_elements_by_xpath('//div[@class=\"col-12 col-lg-auto\"]')\n",
    "salary"
   ]
  },
  {
   "cell_type": "code",
   "execution_count": 1061,
   "id": "6897ee5a",
   "metadata": {},
   "outputs": [
    {
     "data": {
      "text/plain": [
       "['18 salaries',\n",
       " '18 salaries',\n",
       " '15 salaries',\n",
       " '15 salaries',\n",
       " '14 salaries',\n",
       " '14 salaries',\n",
       " '10 salaries',\n",
       " '9 salaries',\n",
       " '9 salaries',\n",
       " '9 salaries',\n",
       " '8 salaries',\n",
       " '8 salaries',\n",
       " '7 salaries',\n",
       " '7 salaries',\n",
       " '6 salaries',\n",
       " '6 salaries',\n",
       " '6 salaries',\n",
       " '6 salaries',\n",
       " '5 salaries',\n",
       " '5 salaries']"
      ]
     },
     "execution_count": 1061,
     "metadata": {},
     "output_type": "execute_result"
    }
   ],
   "source": [
    "salaries = []\n",
    "for i in salary:\n",
    "    salaries.append(i.text.replace('\\n',''))\n",
    "salaries"
   ]
  },
  {
   "cell_type": "code",
   "execution_count": null,
   "id": "4cb3a922",
   "metadata": {},
   "outputs": [],
   "source": []
  },
  {
   "cell_type": "code",
   "execution_count": 1081,
   "id": "45ebce84",
   "metadata": {},
   "outputs": [
    {
     "data": {
      "text/plain": [
       "(20, 20, 20, 20, 20, 20)"
      ]
     },
     "execution_count": 1081,
     "metadata": {},
     "output_type": "execute_result"
    }
   ],
   "source": [
    "len(min_salary),len(max_salary),len(company),len(average_sal),len(ratings),len(salaries)"
   ]
  },
  {
   "cell_type": "code",
   "execution_count": 1082,
   "id": "bb435212",
   "metadata": {},
   "outputs": [],
   "source": [
    "#now create the dataframe using with pandas\n",
    "jobs = pd.DataFrame({})\n",
    "jobs['Company_Name'] = company\n",
    "jobs['Average_Salary'] = average_sal\n",
    "jobs['Min_Salary'] = min_salary\n",
    "jobs['Max_Salary'] = max_salary\n",
    "jobs['Ratings'] = ratings\n",
    "jobs['No.Of_Salaries'] = salaries"
   ]
  },
  {
   "cell_type": "code",
   "execution_count": 1083,
   "id": "95e03359",
   "metadata": {},
   "outputs": [
    {
     "data": {
      "text/html": [
       "<div>\n",
       "<style scoped>\n",
       "    .dataframe tbody tr th:only-of-type {\n",
       "        vertical-align: middle;\n",
       "    }\n",
       "\n",
       "    .dataframe tbody tr th {\n",
       "        vertical-align: top;\n",
       "    }\n",
       "\n",
       "    .dataframe thead th {\n",
       "        text-align: right;\n",
       "    }\n",
       "</style>\n",
       "<table border=\"1\" class=\"dataframe\">\n",
       "  <thead>\n",
       "    <tr style=\"text-align: right;\">\n",
       "      <th></th>\n",
       "      <th>Company_Name</th>\n",
       "      <th>Average_Salary</th>\n",
       "      <th>Min_Salary</th>\n",
       "      <th>Max_Salary</th>\n",
       "      <th>Ratings</th>\n",
       "      <th>No.Of_Salaries</th>\n",
       "    </tr>\n",
       "  </thead>\n",
       "  <tbody>\n",
       "    <tr>\n",
       "      <th>0</th>\n",
       "      <td>Tata Consultancy Services</td>\n",
       "      <td>₹6,12,205 /yr</td>\n",
       "      <td>₹3L</td>\n",
       "      <td>₹13L</td>\n",
       "      <td>3.9</td>\n",
       "      <td>18 salaries</td>\n",
       "    </tr>\n",
       "    <tr>\n",
       "      <th>1</th>\n",
       "      <td>IBM</td>\n",
       "      <td>₹9,00,000 /yr</td>\n",
       "      <td>₹6L</td>\n",
       "      <td>₹27L</td>\n",
       "      <td>3.9</td>\n",
       "      <td>18 salaries</td>\n",
       "    </tr>\n",
       "    <tr>\n",
       "      <th>2</th>\n",
       "      <td>Accenture</td>\n",
       "      <td>₹11,63,336 /yr</td>\n",
       "      <td>₹6L</td>\n",
       "      <td>₹22L</td>\n",
       "      <td>4.1</td>\n",
       "      <td>15 salaries</td>\n",
       "    </tr>\n",
       "    <tr>\n",
       "      <th>3</th>\n",
       "      <td>Delhivery</td>\n",
       "      <td>₹12,18,244 /yr</td>\n",
       "      <td>₹5L</td>\n",
       "      <td>₹1Cr</td>\n",
       "      <td>3.9</td>\n",
       "      <td>15 salaries</td>\n",
       "    </tr>\n",
       "    <tr>\n",
       "      <th>4</th>\n",
       "      <td>Ericsson-Worldwide</td>\n",
       "      <td>₹7,39,238 /yr</td>\n",
       "      <td>₹4L</td>\n",
       "      <td>₹16L</td>\n",
       "      <td>4</td>\n",
       "      <td>14 salaries</td>\n",
       "    </tr>\n",
       "    <tr>\n",
       "      <th>5</th>\n",
       "      <td>UnitedHealth Group</td>\n",
       "      <td>₹12,80,000 /yr</td>\n",
       "      <td>₹8L</td>\n",
       "      <td>₹15L</td>\n",
       "      <td>3.6</td>\n",
       "      <td>14 salaries</td>\n",
       "    </tr>\n",
       "    <tr>\n",
       "      <th>6</th>\n",
       "      <td>Valiance Solutions</td>\n",
       "      <td>₹8,63,750 /yr</td>\n",
       "      <td>₹5L</td>\n",
       "      <td>₹15L</td>\n",
       "      <td>4.2</td>\n",
       "      <td>10 salaries</td>\n",
       "    </tr>\n",
       "    <tr>\n",
       "      <th>7</th>\n",
       "      <td>EXL Service</td>\n",
       "      <td>₹11,10,000 /yr</td>\n",
       "      <td>₹6L</td>\n",
       "      <td>₹15L</td>\n",
       "      <td>3.6</td>\n",
       "      <td>9 salaries</td>\n",
       "    </tr>\n",
       "    <tr>\n",
       "      <th>8</th>\n",
       "      <td>Optum</td>\n",
       "      <td>₹14,23,677 /yr</td>\n",
       "      <td>₹8L</td>\n",
       "      <td>₹20L</td>\n",
       "      <td>3.7</td>\n",
       "      <td>9 salaries</td>\n",
       "    </tr>\n",
       "    <tr>\n",
       "      <th>9</th>\n",
       "      <td>Optum Global Solutions</td>\n",
       "      <td>₹13,28,697 /yr</td>\n",
       "      <td>₹4L</td>\n",
       "      <td>₹22L</td>\n",
       "      <td>3.9</td>\n",
       "      <td>9 salaries</td>\n",
       "    </tr>\n",
       "  </tbody>\n",
       "</table>\n",
       "</div>"
      ],
      "text/plain": [
       "                Company_Name  Average_Salary Min_Salary Max_Salary Ratings  \\\n",
       "0  Tata Consultancy Services   ₹6,12,205 /yr        ₹3L       ₹13L     3.9   \n",
       "1                        IBM   ₹9,00,000 /yr        ₹6L       ₹27L     3.9   \n",
       "2                  Accenture  ₹11,63,336 /yr        ₹6L       ₹22L     4.1   \n",
       "3                  Delhivery  ₹12,18,244 /yr        ₹5L       ₹1Cr     3.9   \n",
       "4         Ericsson-Worldwide   ₹7,39,238 /yr        ₹4L       ₹16L       4   \n",
       "5         UnitedHealth Group  ₹12,80,000 /yr        ₹8L       ₹15L     3.6   \n",
       "6         Valiance Solutions   ₹8,63,750 /yr        ₹5L       ₹15L     4.2   \n",
       "7                EXL Service  ₹11,10,000 /yr        ₹6L       ₹15L     3.6   \n",
       "8                      Optum  ₹14,23,677 /yr        ₹8L       ₹20L     3.7   \n",
       "9     Optum Global Solutions  ₹13,28,697 /yr        ₹4L       ₹22L     3.9   \n",
       "\n",
       "  No.Of_Salaries  \n",
       "0    18 salaries  \n",
       "1    18 salaries  \n",
       "2    15 salaries  \n",
       "3    15 salaries  \n",
       "4    14 salaries  \n",
       "5    14 salaries  \n",
       "6    10 salaries  \n",
       "7     9 salaries  \n",
       "8     9 salaries  \n",
       "9     9 salaries  "
      ]
     },
     "execution_count": 1083,
     "metadata": {},
     "output_type": "execute_result"
    }
   ],
   "source": [
    "jobs.head(10)"
   ]
  },
  {
   "cell_type": "code",
   "execution_count": null,
   "id": "6fcfb580",
   "metadata": {},
   "outputs": [],
   "source": []
  },
  {
   "cell_type": "code",
   "execution_count": null,
   "id": "0f577a82",
   "metadata": {},
   "outputs": [],
   "source": []
  },
  {
   "cell_type": "markdown",
   "id": "9b7a1b9b",
   "metadata": {},
   "source": [
    "# Q6 : Scrape data of first 100 sunglasses listings on flipkart.com. You have to scrape four attributes:\n"
   ]
  },
  {
   "cell_type": "code",
   "execution_count": 516,
   "id": "50ae8d68",
   "metadata": {},
   "outputs": [],
   "source": [
    "#lets now import all required libraries \n",
    "import selenium\n",
    "import pandas as pd\n",
    "from selenium import webdriver"
   ]
  },
  {
   "cell_type": "code",
   "execution_count": 517,
   "id": "e93152db",
   "metadata": {},
   "outputs": [],
   "source": [
    "#lets first connect to the webdriver\n",
    "driver = webdriver.Chrome('chromedriver.exe')"
   ]
  },
  {
   "cell_type": "code",
   "execution_count": 518,
   "id": "75ba1b3d",
   "metadata": {},
   "outputs": [],
   "source": [
    "url = ' https://www.flipkart.com/'\n",
    "driver.get(url)"
   ]
  },
  {
   "cell_type": "code",
   "execution_count": 540,
   "id": "a6f3f586",
   "metadata": {},
   "outputs": [],
   "source": [
    "#finding sunglasses title\n",
    "sunglasses = driver.find_element_by_name(\"q\")\n",
    "sunglasses.send_keys('sunglasses')"
   ]
  },
  {
   "cell_type": "code",
   "execution_count": 541,
   "id": "accc58ce",
   "metadata": {},
   "outputs": [
    {
     "data": {
      "text/plain": [
       "[<selenium.webdriver.remote.webelement.WebElement (session=\"3964bb417d612638343ab83595c9ab00\", element=\"f18e15a5-f784-41eb-94dc-f716be23ea3c\")>,\n",
       " <selenium.webdriver.remote.webelement.WebElement (session=\"3964bb417d612638343ab83595c9ab00\", element=\"b0f833c1-343b-4e15-8555-6be322ef20a5\")>,\n",
       " <selenium.webdriver.remote.webelement.WebElement (session=\"3964bb417d612638343ab83595c9ab00\", element=\"caee2ac6-f3ab-4713-b5d0-eebcbe49a103\")>,\n",
       " <selenium.webdriver.remote.webelement.WebElement (session=\"3964bb417d612638343ab83595c9ab00\", element=\"9f390436-1bcb-4c93-bfe5-c16f6a978436\")>,\n",
       " <selenium.webdriver.remote.webelement.WebElement (session=\"3964bb417d612638343ab83595c9ab00\", element=\"8d587a93-26cf-4ba8-9bdb-5bc8808ed822\")>,\n",
       " <selenium.webdriver.remote.webelement.WebElement (session=\"3964bb417d612638343ab83595c9ab00\", element=\"987f5217-86c4-4a6c-a8be-013a22edbd7f\")>,\n",
       " <selenium.webdriver.remote.webelement.WebElement (session=\"3964bb417d612638343ab83595c9ab00\", element=\"0c88b4f4-edd6-4916-91db-1b037c077428\")>,\n",
       " <selenium.webdriver.remote.webelement.WebElement (session=\"3964bb417d612638343ab83595c9ab00\", element=\"d4f3f49e-5051-4854-ba67-8a99cc2f6566\")>,\n",
       " <selenium.webdriver.remote.webelement.WebElement (session=\"3964bb417d612638343ab83595c9ab00\", element=\"cf813b7d-9288-4bbb-b6a1-d7103b6c7f2b\")>,\n",
       " <selenium.webdriver.remote.webelement.WebElement (session=\"3964bb417d612638343ab83595c9ab00\", element=\"0844fd2b-bf75-4a44-acc1-f37f44619027\")>,\n",
       " <selenium.webdriver.remote.webelement.WebElement (session=\"3964bb417d612638343ab83595c9ab00\", element=\"c1546c9a-a503-4ec0-bb3f-671da2184c6b\")>,\n",
       " <selenium.webdriver.remote.webelement.WebElement (session=\"3964bb417d612638343ab83595c9ab00\", element=\"231aad57-c23b-4b8d-af47-e3801bc90685\")>,\n",
       " <selenium.webdriver.remote.webelement.WebElement (session=\"3964bb417d612638343ab83595c9ab00\", element=\"94525b29-8303-4e38-b29e-92ab9158283f\")>,\n",
       " <selenium.webdriver.remote.webelement.WebElement (session=\"3964bb417d612638343ab83595c9ab00\", element=\"0f4e1c91-87d9-492a-88ae-821ee8bf095a\")>,\n",
       " <selenium.webdriver.remote.webelement.WebElement (session=\"3964bb417d612638343ab83595c9ab00\", element=\"9b16cbdb-cc19-4ef0-a1ac-95bb05dcab20\")>,\n",
       " <selenium.webdriver.remote.webelement.WebElement (session=\"3964bb417d612638343ab83595c9ab00\", element=\"0391afba-9683-478c-822e-fe5c19f08d26\")>,\n",
       " <selenium.webdriver.remote.webelement.WebElement (session=\"3964bb417d612638343ab83595c9ab00\", element=\"2eff39e3-444e-4dcf-baee-708f95c89a67\")>,\n",
       " <selenium.webdriver.remote.webelement.WebElement (session=\"3964bb417d612638343ab83595c9ab00\", element=\"ef826174-c054-4315-aeb9-9c2bbc52c086\")>,\n",
       " <selenium.webdriver.remote.webelement.WebElement (session=\"3964bb417d612638343ab83595c9ab00\", element=\"67422cb9-fc5f-4bac-9d88-13349606319a\")>,\n",
       " <selenium.webdriver.remote.webelement.WebElement (session=\"3964bb417d612638343ab83595c9ab00\", element=\"ebeda1ea-1efc-4502-862b-6f0a6ec7b68f\")>,\n",
       " <selenium.webdriver.remote.webelement.WebElement (session=\"3964bb417d612638343ab83595c9ab00\", element=\"2e9e6ddc-0b42-4755-9c85-8fc8656df12a\")>,\n",
       " <selenium.webdriver.remote.webelement.WebElement (session=\"3964bb417d612638343ab83595c9ab00\", element=\"d0bff03c-3c92-458c-9ff8-223c5f482cee\")>,\n",
       " <selenium.webdriver.remote.webelement.WebElement (session=\"3964bb417d612638343ab83595c9ab00\", element=\"016533fb-4cff-4c58-b749-283eb293efb4\")>,\n",
       " <selenium.webdriver.remote.webelement.WebElement (session=\"3964bb417d612638343ab83595c9ab00\", element=\"5bcd09de-115f-444a-9a5d-0b2d0bc994d1\")>,\n",
       " <selenium.webdriver.remote.webelement.WebElement (session=\"3964bb417d612638343ab83595c9ab00\", element=\"6d755b25-ff1a-4aea-a4f1-897b20153018\")>,\n",
       " <selenium.webdriver.remote.webelement.WebElement (session=\"3964bb417d612638343ab83595c9ab00\", element=\"b283d63a-5522-4900-bb52-7ed9d45d8edd\")>,\n",
       " <selenium.webdriver.remote.webelement.WebElement (session=\"3964bb417d612638343ab83595c9ab00\", element=\"29633fdb-d777-43b3-a49b-0f51c4ce1476\")>,\n",
       " <selenium.webdriver.remote.webelement.WebElement (session=\"3964bb417d612638343ab83595c9ab00\", element=\"13ed6783-b329-4724-a43c-8de5f5e513c2\")>,\n",
       " <selenium.webdriver.remote.webelement.WebElement (session=\"3964bb417d612638343ab83595c9ab00\", element=\"1cc00b5a-83ce-46e4-8690-e3866695b635\")>,\n",
       " <selenium.webdriver.remote.webelement.WebElement (session=\"3964bb417d612638343ab83595c9ab00\", element=\"25c861b2-9df9-4336-b56f-f751706b10b5\")>,\n",
       " <selenium.webdriver.remote.webelement.WebElement (session=\"3964bb417d612638343ab83595c9ab00\", element=\"2a74f34d-9124-4913-8f79-5c06d0a90b26\")>,\n",
       " <selenium.webdriver.remote.webelement.WebElement (session=\"3964bb417d612638343ab83595c9ab00\", element=\"b670b78c-c363-4667-904e-152b5b5eaf41\")>,\n",
       " <selenium.webdriver.remote.webelement.WebElement (session=\"3964bb417d612638343ab83595c9ab00\", element=\"b094c312-a069-416c-9f49-d0f5d63f42c9\")>,\n",
       " <selenium.webdriver.remote.webelement.WebElement (session=\"3964bb417d612638343ab83595c9ab00\", element=\"011b779b-c92a-4163-a67f-9d39d4627c11\")>,\n",
       " <selenium.webdriver.remote.webelement.WebElement (session=\"3964bb417d612638343ab83595c9ab00\", element=\"368b16ae-415c-4355-8a24-60c4f414f799\")>,\n",
       " <selenium.webdriver.remote.webelement.WebElement (session=\"3964bb417d612638343ab83595c9ab00\", element=\"f46ae055-7cb5-40f9-a04d-ba5c0c9ec401\")>,\n",
       " <selenium.webdriver.remote.webelement.WebElement (session=\"3964bb417d612638343ab83595c9ab00\", element=\"16a25ad3-4d3e-47a3-b315-49703aad6209\")>,\n",
       " <selenium.webdriver.remote.webelement.WebElement (session=\"3964bb417d612638343ab83595c9ab00\", element=\"d261d930-ea14-4c33-8251-3bbb79c8f398\")>,\n",
       " <selenium.webdriver.remote.webelement.WebElement (session=\"3964bb417d612638343ab83595c9ab00\", element=\"2a8a7742-a7a0-42e3-9bbb-2f55ef8c44a5\")>,\n",
       " <selenium.webdriver.remote.webelement.WebElement (session=\"3964bb417d612638343ab83595c9ab00\", element=\"fbc75096-3635-4faf-b686-db759bc32363\")>]"
      ]
     },
     "execution_count": 541,
     "metadata": {},
     "output_type": "execute_result"
    }
   ],
   "source": [
    "#now extract all the tags having the brand names\n",
    "brand_tags=driver.find_elements_by_xpath('//div[@class=\"_2WkVRV\"]')\n",
    "brand_tags"
   ]
  },
  {
   "cell_type": "code",
   "execution_count": 542,
   "id": "964840b3",
   "metadata": {},
   "outputs": [
    {
     "data": {
      "text/plain": [
       "['Wrogn',\n",
       " 'ROZZETTA CRAFT',\n",
       " 'Fastrack',\n",
       " 'Fastrack',\n",
       " 'Fastrack',\n",
       " 'kingsunglasses',\n",
       " 'Elligator',\n",
       " 'PIRASO',\n",
       " 'PIRASO',\n",
       " 'Fastrack',\n",
       " 'kingsunglasses',\n",
       " 'Billion',\n",
       " 'PIRASO',\n",
       " 'kingsunglasses',\n",
       " 'ROZZETTA CRAFT',\n",
       " 'Billion',\n",
       " 'Fastrack',\n",
       " 'Silver Kartz',\n",
       " 'Singco India',\n",
       " 'AISLIN',\n",
       " 'Fastrack',\n",
       " 'hipe',\n",
       " 'PHENOMENAL',\n",
       " 'NuVew',\n",
       " 'kingsunglasses',\n",
       " 'Fastrack',\n",
       " 'PIRASO',\n",
       " 'ROYAL SON',\n",
       " 'NuVew',\n",
       " 'HIPPON',\n",
       " 'GANSTA',\n",
       " 'NuVew',\n",
       " 'Fastrack',\n",
       " 'Elligator',\n",
       " 'PHENOMENAL',\n",
       " 'AISLIN',\n",
       " 'ROZZETTA CRAFT',\n",
       " 'Fastrack',\n",
       " 'Fastrack',\n",
       " 'Elligator']"
      ]
     },
     "execution_count": 542,
     "metadata": {},
     "output_type": "execute_result"
    }
   ],
   "source": [
    "#using for loop for fetch all elements\n",
    "glasses = []\n",
    "for i in brand_tags:\n",
    "    glasses.append(i.text)\n",
    "glasses"
   ]
  },
  {
   "cell_type": "code",
   "execution_count": 543,
   "id": "b869e8a5",
   "metadata": {},
   "outputs": [
    {
     "data": {
      "text/plain": [
       "['Wrogn',\n",
       " 'ROZZETTA CRAFT',\n",
       " 'Fastrack',\n",
       " 'Fastrack',\n",
       " 'Fastrack',\n",
       " 'kingsunglasses',\n",
       " 'Elligator',\n",
       " 'PIRASO',\n",
       " 'PIRASO',\n",
       " 'Fastrack',\n",
       " 'kingsunglasses',\n",
       " 'Billion',\n",
       " 'PIRASO',\n",
       " 'kingsunglasses',\n",
       " 'ROZZETTA CRAFT',\n",
       " 'Billion',\n",
       " 'Fastrack',\n",
       " 'Silver Kartz',\n",
       " 'Singco India',\n",
       " 'AISLIN',\n",
       " 'Fastrack',\n",
       " 'hipe',\n",
       " 'PHENOMENAL',\n",
       " 'NuVew',\n",
       " 'kingsunglasses',\n",
       " 'Fastrack',\n",
       " 'PIRASO',\n",
       " 'ROYAL SON',\n",
       " 'NuVew',\n",
       " 'HIPPON',\n",
       " 'GANSTA',\n",
       " 'NuVew',\n",
       " 'Fastrack',\n",
       " 'Elligator',\n",
       " 'PHENOMENAL',\n",
       " 'AISLIN',\n",
       " 'ROZZETTA CRAFT',\n",
       " 'Fastrack',\n",
       " 'Fastrack',\n",
       " 'Elligator',\n",
       " 'ROZZETTA CRAFT',\n",
       " 'hipe',\n",
       " 'Fastrack',\n",
       " 'Fastrack',\n",
       " 'Fastrack',\n",
       " 'PHENOMENAL',\n",
       " 'ROYAL SON',\n",
       " 'PIRASO',\n",
       " 'Fastrack',\n",
       " 'DEIXELS',\n",
       " 'hipe',\n",
       " 'kingsunglasses',\n",
       " 'Elligator',\n",
       " 'Fastrack',\n",
       " 'Singco',\n",
       " 'kingsunglasses',\n",
       " 'GANSTA',\n",
       " 'GANSTA',\n",
       " 'Fastrack',\n",
       " 'Fravy',\n",
       " 'kingsunglasses',\n",
       " 'Singco India',\n",
       " 'Elligator',\n",
       " 'hipe',\n",
       " 'ROYAL SON',\n",
       " 'PHENOMENAL',\n",
       " 'AISLIN',\n",
       " 'SRPM',\n",
       " 'Fravy',\n",
       " 'Singco India',\n",
       " 'Badfella',\n",
       " 'Fastrack',\n",
       " 'Fastrack',\n",
       " 'IRUS by IDEE',\n",
       " 'hipe',\n",
       " 'Elligator',\n",
       " 'kingsunglasses',\n",
       " 'Fastrack',\n",
       " 'NuVew',\n",
       " 'hipe']"
      ]
     },
     "execution_count": 543,
     "metadata": {},
     "output_type": "execute_result"
    }
   ],
   "source": [
    "#nested loop\n",
    "brand=driver.find_elements_by_xpath('//div[@class=\"_2WkVRV\"]')\n",
    "for i in brand:\n",
    "    glasses.append(i.text)\n",
    "glasses"
   ]
  },
  {
   "cell_type": "code",
   "execution_count": 544,
   "id": "0b0e709d",
   "metadata": {},
   "outputs": [
    {
     "data": {
      "text/plain": [
       "['Wrogn',\n",
       " 'ROZZETTA CRAFT',\n",
       " 'Fastrack',\n",
       " 'Fastrack',\n",
       " 'Fastrack',\n",
       " 'kingsunglasses',\n",
       " 'Elligator',\n",
       " 'PIRASO',\n",
       " 'PIRASO',\n",
       " 'Fastrack',\n",
       " 'kingsunglasses',\n",
       " 'Billion',\n",
       " 'PIRASO',\n",
       " 'kingsunglasses',\n",
       " 'ROZZETTA CRAFT',\n",
       " 'Billion',\n",
       " 'Fastrack',\n",
       " 'Silver Kartz',\n",
       " 'Singco India',\n",
       " 'AISLIN',\n",
       " 'Fastrack',\n",
       " 'hipe',\n",
       " 'PHENOMENAL',\n",
       " 'NuVew',\n",
       " 'kingsunglasses',\n",
       " 'Fastrack',\n",
       " 'PIRASO',\n",
       " 'ROYAL SON',\n",
       " 'NuVew',\n",
       " 'HIPPON',\n",
       " 'GANSTA',\n",
       " 'NuVew',\n",
       " 'Fastrack',\n",
       " 'Elligator',\n",
       " 'PHENOMENAL',\n",
       " 'AISLIN',\n",
       " 'ROZZETTA CRAFT',\n",
       " 'Fastrack',\n",
       " 'Fastrack',\n",
       " 'Elligator',\n",
       " 'ROZZETTA CRAFT',\n",
       " 'hipe',\n",
       " 'Fastrack',\n",
       " 'Fastrack',\n",
       " 'Fastrack',\n",
       " 'PHENOMENAL',\n",
       " 'ROYAL SON',\n",
       " 'PIRASO',\n",
       " 'Fastrack',\n",
       " 'DEIXELS',\n",
       " 'hipe',\n",
       " 'kingsunglasses',\n",
       " 'Elligator',\n",
       " 'Fastrack',\n",
       " 'Singco',\n",
       " 'kingsunglasses',\n",
       " 'GANSTA',\n",
       " 'GANSTA',\n",
       " 'Fastrack',\n",
       " 'Fravy',\n",
       " 'kingsunglasses',\n",
       " 'Singco India',\n",
       " 'Elligator',\n",
       " 'hipe',\n",
       " 'ROYAL SON',\n",
       " 'PHENOMENAL',\n",
       " 'AISLIN',\n",
       " 'SRPM',\n",
       " 'Fravy',\n",
       " 'Singco India',\n",
       " 'Badfella',\n",
       " 'Fastrack',\n",
       " 'Fastrack',\n",
       " 'IRUS by IDEE',\n",
       " 'hipe',\n",
       " 'Elligator',\n",
       " 'kingsunglasses',\n",
       " 'Fastrack',\n",
       " 'NuVew',\n",
       " 'hipe',\n",
       " 'Fastrack',\n",
       " 'ROZZETTA CRAFT',\n",
       " 'kingsunglasses',\n",
       " 'PHENOMENAL',\n",
       " 'Fastrack',\n",
       " 'NuVew',\n",
       " 'ROYAL SON',\n",
       " 'Fastrack',\n",
       " 'ROYAL SON',\n",
       " 'PHENOMENAL',\n",
       " 'NuVew',\n",
       " 'Elligator',\n",
       " 'kingsunglasses',\n",
       " 'ROYAL SON',\n",
       " 'Villain',\n",
       " 'Singco India',\n",
       " 'PIRASO',\n",
       " 'Fastrack',\n",
       " 'PIRASO',\n",
       " 'hipe',\n",
       " 'DEIXELS',\n",
       " 'ROYAL SON',\n",
       " 'Fastrack',\n",
       " 'elegante',\n",
       " 'GANSTA',\n",
       " 'NuVew',\n",
       " 'Flizz',\n",
       " 'Fastrack',\n",
       " 'Singco India',\n",
       " 'Singco India',\n",
       " 'Fastrack',\n",
       " 'Fastrack',\n",
       " 'ROZZETTA CRAFT',\n",
       " 'Ray-Ban',\n",
       " 'ROZZETTA CRAFT',\n",
       " 'Fastrack',\n",
       " 'NuVew',\n",
       " 'Singco',\n",
       " 'Fravy',\n",
       " 'elegante']"
      ]
     },
     "execution_count": 544,
     "metadata": {},
     "output_type": "execute_result"
    }
   ],
   "source": [
    "sun = driver.find_elements_by_xpath('//div[@class=\"_2WkVRV\"]')\n",
    "for i in sun:\n",
    "    glasses.append(i.text)\n",
    "glasses"
   ]
  },
  {
   "cell_type": "code",
   "execution_count": 545,
   "id": "d788235c",
   "metadata": {},
   "outputs": [
    {
     "data": {
      "text/plain": [
       "120"
      ]
     },
     "execution_count": 545,
     "metadata": {},
     "output_type": "execute_result"
    }
   ],
   "source": [
    "len(glasses)"
   ]
  },
  {
   "cell_type": "code",
   "execution_count": null,
   "id": "75455dc3",
   "metadata": {},
   "outputs": [],
   "source": []
  },
  {
   "cell_type": "code",
   "execution_count": 546,
   "id": "882e8506",
   "metadata": {},
   "outputs": [
    {
     "data": {
      "text/plain": [
       "[<selenium.webdriver.remote.webelement.WebElement (session=\"3964bb417d612638343ab83595c9ab00\", element=\"7c8f0971-f3f0-466e-a008-695457eedea7\")>,\n",
       " <selenium.webdriver.remote.webelement.WebElement (session=\"3964bb417d612638343ab83595c9ab00\", element=\"641d7dca-aa78-479b-b6a9-3c909daeb72f\")>,\n",
       " <selenium.webdriver.remote.webelement.WebElement (session=\"3964bb417d612638343ab83595c9ab00\", element=\"488b7070-48c0-45a1-98cb-a9799182e5d9\")>,\n",
       " <selenium.webdriver.remote.webelement.WebElement (session=\"3964bb417d612638343ab83595c9ab00\", element=\"dcccae13-1262-480c-b7c0-95eb335d5b81\")>,\n",
       " <selenium.webdriver.remote.webelement.WebElement (session=\"3964bb417d612638343ab83595c9ab00\", element=\"50eb30de-ab02-4c3e-8295-cf3dd2150bfe\")>,\n",
       " <selenium.webdriver.remote.webelement.WebElement (session=\"3964bb417d612638343ab83595c9ab00\", element=\"1160e766-864d-4a62-86e7-c4bcd1302757\")>,\n",
       " <selenium.webdriver.remote.webelement.WebElement (session=\"3964bb417d612638343ab83595c9ab00\", element=\"32246777-5bc5-4783-94db-ed44b77d03b9\")>,\n",
       " <selenium.webdriver.remote.webelement.WebElement (session=\"3964bb417d612638343ab83595c9ab00\", element=\"33e46508-f582-4754-90f8-bca7b1787e5c\")>,\n",
       " <selenium.webdriver.remote.webelement.WebElement (session=\"3964bb417d612638343ab83595c9ab00\", element=\"6d6fdede-2465-4290-8594-52ad9d75a5ad\")>,\n",
       " <selenium.webdriver.remote.webelement.WebElement (session=\"3964bb417d612638343ab83595c9ab00\", element=\"fc07ebc3-ed24-45ee-80b0-4034f57b0df3\")>,\n",
       " <selenium.webdriver.remote.webelement.WebElement (session=\"3964bb417d612638343ab83595c9ab00\", element=\"d42ca79a-b0c5-4f4c-bee2-3b3ace93fb12\")>,\n",
       " <selenium.webdriver.remote.webelement.WebElement (session=\"3964bb417d612638343ab83595c9ab00\", element=\"4d813446-4538-4ec1-a797-e2df48faf4fd\")>,\n",
       " <selenium.webdriver.remote.webelement.WebElement (session=\"3964bb417d612638343ab83595c9ab00\", element=\"8be2bb2e-e02c-47e3-ae51-e0902279a17f\")>,\n",
       " <selenium.webdriver.remote.webelement.WebElement (session=\"3964bb417d612638343ab83595c9ab00\", element=\"084989a9-c61d-4597-a21b-e5d04b36edb4\")>,\n",
       " <selenium.webdriver.remote.webelement.WebElement (session=\"3964bb417d612638343ab83595c9ab00\", element=\"abea3a71-8a51-4f25-88a0-f8048ac282af\")>,\n",
       " <selenium.webdriver.remote.webelement.WebElement (session=\"3964bb417d612638343ab83595c9ab00\", element=\"f7818ee7-a700-4768-977c-435dc76b742f\")>,\n",
       " <selenium.webdriver.remote.webelement.WebElement (session=\"3964bb417d612638343ab83595c9ab00\", element=\"619a05bc-707d-4d95-b71f-ac38fa344f95\")>,\n",
       " <selenium.webdriver.remote.webelement.WebElement (session=\"3964bb417d612638343ab83595c9ab00\", element=\"f095ff27-835f-4f8d-9936-171124e93483\")>,\n",
       " <selenium.webdriver.remote.webelement.WebElement (session=\"3964bb417d612638343ab83595c9ab00\", element=\"4c7dc646-2c86-4d87-a342-6c1dc67d48d3\")>,\n",
       " <selenium.webdriver.remote.webelement.WebElement (session=\"3964bb417d612638343ab83595c9ab00\", element=\"6425e572-f716-4a58-bd61-2c0bc67f8b42\")>,\n",
       " <selenium.webdriver.remote.webelement.WebElement (session=\"3964bb417d612638343ab83595c9ab00\", element=\"c0ee953c-fe1a-422d-99f6-08c814acbaf4\")>,\n",
       " <selenium.webdriver.remote.webelement.WebElement (session=\"3964bb417d612638343ab83595c9ab00\", element=\"9c723820-8084-4b06-831b-34b063961544\")>,\n",
       " <selenium.webdriver.remote.webelement.WebElement (session=\"3964bb417d612638343ab83595c9ab00\", element=\"7943474c-4960-42c2-90c8-23eef69f01bf\")>,\n",
       " <selenium.webdriver.remote.webelement.WebElement (session=\"3964bb417d612638343ab83595c9ab00\", element=\"04249c24-c788-4832-8d97-784757afdc90\")>,\n",
       " <selenium.webdriver.remote.webelement.WebElement (session=\"3964bb417d612638343ab83595c9ab00\", element=\"603883fa-507a-461b-a486-d399d2b57324\")>,\n",
       " <selenium.webdriver.remote.webelement.WebElement (session=\"3964bb417d612638343ab83595c9ab00\", element=\"cf01f915-4d4c-4eee-95d2-fc60c34899b3\")>,\n",
       " <selenium.webdriver.remote.webelement.WebElement (session=\"3964bb417d612638343ab83595c9ab00\", element=\"4c2a2942-cbbe-49ca-b290-dd0f4e780f82\")>,\n",
       " <selenium.webdriver.remote.webelement.WebElement (session=\"3964bb417d612638343ab83595c9ab00\", element=\"1dfa3661-7128-4829-938c-9c9ae6b30297\")>,\n",
       " <selenium.webdriver.remote.webelement.WebElement (session=\"3964bb417d612638343ab83595c9ab00\", element=\"41fff182-21de-464c-a99d-5d0f9277fd0f\")>,\n",
       " <selenium.webdriver.remote.webelement.WebElement (session=\"3964bb417d612638343ab83595c9ab00\", element=\"467bbecf-a452-409a-a01a-8bb97eba980d\")>,\n",
       " <selenium.webdriver.remote.webelement.WebElement (session=\"3964bb417d612638343ab83595c9ab00\", element=\"6fcee8ff-ba19-4a8c-b000-05aa135fd92d\")>,\n",
       " <selenium.webdriver.remote.webelement.WebElement (session=\"3964bb417d612638343ab83595c9ab00\", element=\"00b09123-22ce-44e3-9602-c02e6e83c406\")>,\n",
       " <selenium.webdriver.remote.webelement.WebElement (session=\"3964bb417d612638343ab83595c9ab00\", element=\"af57ef22-cb3b-42f8-98af-3acd1946f510\")>,\n",
       " <selenium.webdriver.remote.webelement.WebElement (session=\"3964bb417d612638343ab83595c9ab00\", element=\"1d083661-020c-45ff-a2f8-0bbb17972858\")>,\n",
       " <selenium.webdriver.remote.webelement.WebElement (session=\"3964bb417d612638343ab83595c9ab00\", element=\"2e271a97-8918-4694-b648-1f6b5ac74ef2\")>,\n",
       " <selenium.webdriver.remote.webelement.WebElement (session=\"3964bb417d612638343ab83595c9ab00\", element=\"13993a09-9856-443f-a7ff-f03c1a2778ec\")>,\n",
       " <selenium.webdriver.remote.webelement.WebElement (session=\"3964bb417d612638343ab83595c9ab00\", element=\"0e9b0d2d-f6e2-43d9-babd-795a54b0df53\")>]"
      ]
     },
     "execution_count": 546,
     "metadata": {},
     "output_type": "execute_result"
    }
   ],
   "source": [
    "#now extract all the tags having the product desription names\n",
    "product_desc=driver.find_elements_by_xpath('//a[@class=\"IRpwTa\"]')\n",
    "product_desc"
   ]
  },
  {
   "cell_type": "code",
   "execution_count": 547,
   "id": "9c3ef146",
   "metadata": {},
   "outputs": [
    {
     "data": {
      "text/plain": [
       "['Mirrored Wayfarer Sunglasses (51)',\n",
       " 'UV Protection Wayfarer Sunglasses (Free Size)',\n",
       " 'Gradient, UV Protection Wayfarer Sunglasses (Free Size)',\n",
       " 'UV Protection Rectangular Sunglasses (Free Size)',\n",
       " 'Mirrored, UV Protection Wayfarer Sunglasses (Free Size)',\n",
       " 'UV Protection Round Sunglasses (54)',\n",
       " 'Others Wayfarer Sunglasses (Free Size)',\n",
       " 'UV Protection Aviator Sunglasses (54)',\n",
       " 'UV Protection Wayfarer Sunglasses (56)',\n",
       " 'UV Protection Rectangular Sunglasses (Free Size)',\n",
       " 'Others Retro Square Sunglasses (Free Size)',\n",
       " 'UV Protection Aviator Sunglasses (54)',\n",
       " 'Mirrored, UV Protection Wayfarer Sunglasses (Free Size)',\n",
       " 'UV Protection Retro Square Sunglasses (Free Size)',\n",
       " 'Polarized Retro Square Sunglasses (54)',\n",
       " 'UV Protection Aviator Sunglasses (58)',\n",
       " 'UV Protection Wayfarer Sunglasses (Free Size)',\n",
       " 'UV Protection, Riding Glasses, Others Aviator, Wayfarer...',\n",
       " 'Mirrored Wayfarer Sunglasses (56)',\n",
       " 'UV Protection Wayfarer Sunglasses (Free Size)',\n",
       " 'Mirrored, UV Protection, Gradient Round Sunglasses (55)',\n",
       " 'UV Protection Retro Square Sunglasses (Free Size)',\n",
       " 'UV Protection Round Sunglasses (54)',\n",
       " 'UV Protection Shield Sunglasses (Free Size)',\n",
       " 'UV Protection Aviator Sunglasses (54)',\n",
       " 'UV Protection, Riding Glasses Rectangular, Retro Square...',\n",
       " 'UV Protection Aviator Sunglasses (58)',\n",
       " 'UV Protection Wayfarer Sunglasses (55)',\n",
       " 'UV Protection Aviator Sunglasses (57)',\n",
       " 'UV Protection Aviator Sunglasses (60)',\n",
       " 'UV Protection Aviator Sunglasses (58)',\n",
       " 'UV Protection Round Sunglasses (54)',\n",
       " 'UV Protection, Mirrored Retro Square Sunglasses (53)',\n",
       " 'UV Protection, Gradient Retro Square Sunglasses (Free S...',\n",
       " 'UV Protection, Gradient Rectangular Sunglasses (Free Si...',\n",
       " 'Gradient, UV Protection Wayfarer Sunglasses (Free Size)',\n",
       " 'Mirrored, UV Protection Wayfarer Sunglasses (Free Size)']"
      ]
     },
     "execution_count": 547,
     "metadata": {},
     "output_type": "execute_result"
    }
   ],
   "source": [
    "#for loop extract all tags\n",
    "desc = []\n",
    "for i in product_desc:\n",
    "    desc.append(i.text)\n",
    "desc"
   ]
  },
  {
   "cell_type": "code",
   "execution_count": 549,
   "id": "acf5597a",
   "metadata": {},
   "outputs": [
    {
     "data": {
      "text/plain": [
       "['Mirrored Wayfarer Sunglasses (51)',\n",
       " 'UV Protection Wayfarer Sunglasses (Free Size)',\n",
       " 'Gradient, UV Protection Wayfarer Sunglasses (Free Size)',\n",
       " 'UV Protection Rectangular Sunglasses (Free Size)',\n",
       " 'Mirrored, UV Protection Wayfarer Sunglasses (Free Size)',\n",
       " 'UV Protection Round Sunglasses (54)',\n",
       " 'Others Wayfarer Sunglasses (Free Size)',\n",
       " 'UV Protection Aviator Sunglasses (54)',\n",
       " 'UV Protection Wayfarer Sunglasses (56)',\n",
       " 'UV Protection Rectangular Sunglasses (Free Size)',\n",
       " 'Others Retro Square Sunglasses (Free Size)',\n",
       " 'UV Protection Aviator Sunglasses (54)',\n",
       " 'Mirrored, UV Protection Wayfarer Sunglasses (Free Size)',\n",
       " 'UV Protection Retro Square Sunglasses (Free Size)',\n",
       " 'Polarized Retro Square Sunglasses (54)',\n",
       " 'UV Protection Aviator Sunglasses (58)',\n",
       " 'UV Protection Wayfarer Sunglasses (Free Size)',\n",
       " 'UV Protection, Riding Glasses, Others Aviator, Wayfarer...',\n",
       " 'Mirrored Wayfarer Sunglasses (56)',\n",
       " 'UV Protection Wayfarer Sunglasses (Free Size)',\n",
       " 'Mirrored, UV Protection, Gradient Round Sunglasses (55)',\n",
       " 'UV Protection Retro Square Sunglasses (Free Size)',\n",
       " 'UV Protection Round Sunglasses (54)',\n",
       " 'UV Protection Shield Sunglasses (Free Size)',\n",
       " 'UV Protection Aviator Sunglasses (54)',\n",
       " 'UV Protection, Riding Glasses Rectangular, Retro Square...',\n",
       " 'UV Protection Aviator Sunglasses (58)',\n",
       " 'UV Protection Wayfarer Sunglasses (55)',\n",
       " 'UV Protection Aviator Sunglasses (57)',\n",
       " 'UV Protection Aviator Sunglasses (60)',\n",
       " 'UV Protection Aviator Sunglasses (58)',\n",
       " 'UV Protection Round Sunglasses (54)',\n",
       " 'UV Protection, Mirrored Retro Square Sunglasses (53)',\n",
       " 'UV Protection, Gradient Retro Square Sunglasses (Free S...',\n",
       " 'UV Protection, Gradient Rectangular Sunglasses (Free Si...',\n",
       " 'Gradient, UV Protection Wayfarer Sunglasses (Free Size)',\n",
       " 'Mirrored, UV Protection Wayfarer Sunglasses (Free Size)',\n",
       " 'UV Protection, Gradient Rectangular Sunglasses (Free Si...',\n",
       " 'UV Protection Sports Sunglasses (Free Size)',\n",
       " 'UV Protection Wayfarer Sunglasses (Free Size)',\n",
       " 'UV Protection Wayfarer Sunglasses (32)',\n",
       " 'UV Protection Aviator Sunglasses (58)',\n",
       " 'Gradient, UV Protection Wayfarer Sunglasses (Free Size)',\n",
       " 'UV Protection, Mirrored Retro Square Sunglasses (Free S...',\n",
       " 'UV Protection, Mirrored Wayfarer Sunglasses (61)',\n",
       " 'Mirrored Aviator Sunglasses (55)',\n",
       " 'UV Protection Aviator Sunglasses (Free Size)',\n",
       " 'UV Protection Wayfarer Sunglasses (Free Size)',\n",
       " 'UV Protection Cat-eye Sunglasses (60)',\n",
       " 'UV Protection Aviator, Wayfarer Sunglasses (Free Size)',\n",
       " 'UV Protection, Night Vision, Gradient, Mirrored Round, ...',\n",
       " 'Mirrored, UV Protection Wayfarer, Wayfarer, Wayfarer, W...',\n",
       " 'UV Protection Wayfarer Sunglasses (53)',\n",
       " 'Mirrored Round Sunglasses (53)',\n",
       " 'UV Protection Aviator Sunglasses (Free Size)',\n",
       " 'Mirrored Aviator Sunglasses (53)',\n",
       " 'Mirrored, Gradient, UV Protection Round Sunglasses (54)',\n",
       " 'UV Protection, Others Round, Aviator Sunglasses (54)',\n",
       " 'UV Protection, Night Vision, Riding Glasses Aviator Sun...',\n",
       " 'UV Protection, Mirrored Wayfarer Sunglasses (53)',\n",
       " 'Gradient, UV Protection Retro Square, Aviator Sunglasse...',\n",
       " 'UV Protection Rectangular Sunglasses (59)',\n",
       " 'UV Protection Retro Square Sunglasses (Free Size)',\n",
       " 'UV Protection Rectangular Sunglasses (55)',\n",
       " 'UV Protection Aviator Sunglasses (50)',\n",
       " 'Mirrored, Riding Glasses, Others Sports Sunglasses (50)',\n",
       " 'UV Protection Aviator Sunglasses (55)',\n",
       " 'UV Protection, Night Vision, Riding Glasses, Gradient, ...',\n",
       " 'UV Protection, Gradient Wayfarer Sunglasses (55)',\n",
       " 'UV Protection Round Sunglasses (53)',\n",
       " 'UV Protection, Gradient Butterfly, Retro Square Sunglas...',\n",
       " 'UV Protection Aviator Sunglasses (58)',\n",
       " 'UV Protection Wayfarer Sunglasses (53)',\n",
       " 'UV Protection Wayfarer Sunglasses (56)',\n",
       " 'UV Protection Aviator Sunglasses (Free Size)',\n",
       " 'Mirrored Aviator Sunglasses (Free Size)']"
      ]
     },
     "execution_count": 549,
     "metadata": {},
     "output_type": "execute_result"
    }
   ],
   "source": [
    "descrption = driver.find_elements_by_xpath('//a[@class=\"IRpwTa\"]')\n",
    "for i in descrption:\n",
    "    desc.append(i.text)\n",
    "desc"
   ]
  },
  {
   "cell_type": "code",
   "execution_count": 550,
   "id": "0c7427dc",
   "metadata": {},
   "outputs": [
    {
     "data": {
      "text/plain": [
       "['Mirrored Wayfarer Sunglasses (51)',\n",
       " 'UV Protection Wayfarer Sunglasses (Free Size)',\n",
       " 'Gradient, UV Protection Wayfarer Sunglasses (Free Size)',\n",
       " 'UV Protection Rectangular Sunglasses (Free Size)',\n",
       " 'Mirrored, UV Protection Wayfarer Sunglasses (Free Size)',\n",
       " 'UV Protection Round Sunglasses (54)',\n",
       " 'Others Wayfarer Sunglasses (Free Size)',\n",
       " 'UV Protection Aviator Sunglasses (54)',\n",
       " 'UV Protection Wayfarer Sunglasses (56)',\n",
       " 'UV Protection Rectangular Sunglasses (Free Size)',\n",
       " 'Others Retro Square Sunglasses (Free Size)',\n",
       " 'UV Protection Aviator Sunglasses (54)',\n",
       " 'Mirrored, UV Protection Wayfarer Sunglasses (Free Size)',\n",
       " 'UV Protection Retro Square Sunglasses (Free Size)',\n",
       " 'Polarized Retro Square Sunglasses (54)',\n",
       " 'UV Protection Aviator Sunglasses (58)',\n",
       " 'UV Protection Wayfarer Sunglasses (Free Size)',\n",
       " 'UV Protection, Riding Glasses, Others Aviator, Wayfarer...',\n",
       " 'Mirrored Wayfarer Sunglasses (56)',\n",
       " 'UV Protection Wayfarer Sunglasses (Free Size)',\n",
       " 'Mirrored, UV Protection, Gradient Round Sunglasses (55)',\n",
       " 'UV Protection Retro Square Sunglasses (Free Size)',\n",
       " 'UV Protection Round Sunglasses (54)',\n",
       " 'UV Protection Shield Sunglasses (Free Size)',\n",
       " 'UV Protection Aviator Sunglasses (54)',\n",
       " 'UV Protection, Riding Glasses Rectangular, Retro Square...',\n",
       " 'UV Protection Aviator Sunglasses (58)',\n",
       " 'UV Protection Wayfarer Sunglasses (55)',\n",
       " 'UV Protection Aviator Sunglasses (57)',\n",
       " 'UV Protection Aviator Sunglasses (60)',\n",
       " 'UV Protection Aviator Sunglasses (58)',\n",
       " 'UV Protection Round Sunglasses (54)',\n",
       " 'UV Protection, Mirrored Retro Square Sunglasses (53)',\n",
       " 'UV Protection, Gradient Retro Square Sunglasses (Free S...',\n",
       " 'UV Protection, Gradient Rectangular Sunglasses (Free Si...',\n",
       " 'Gradient, UV Protection Wayfarer Sunglasses (Free Size)',\n",
       " 'Mirrored, UV Protection Wayfarer Sunglasses (Free Size)',\n",
       " 'UV Protection, Gradient Rectangular Sunglasses (Free Si...',\n",
       " 'UV Protection Sports Sunglasses (Free Size)',\n",
       " 'UV Protection Wayfarer Sunglasses (Free Size)',\n",
       " 'UV Protection Wayfarer Sunglasses (32)',\n",
       " 'UV Protection Aviator Sunglasses (58)',\n",
       " 'Gradient, UV Protection Wayfarer Sunglasses (Free Size)',\n",
       " 'UV Protection, Mirrored Retro Square Sunglasses (Free S...',\n",
       " 'UV Protection, Mirrored Wayfarer Sunglasses (61)',\n",
       " 'Mirrored Aviator Sunglasses (55)',\n",
       " 'UV Protection Aviator Sunglasses (Free Size)',\n",
       " 'UV Protection Wayfarer Sunglasses (Free Size)',\n",
       " 'UV Protection Cat-eye Sunglasses (60)',\n",
       " 'UV Protection Aviator, Wayfarer Sunglasses (Free Size)',\n",
       " 'UV Protection, Night Vision, Gradient, Mirrored Round, ...',\n",
       " 'Mirrored, UV Protection Wayfarer, Wayfarer, Wayfarer, W...',\n",
       " 'UV Protection Wayfarer Sunglasses (53)',\n",
       " 'Mirrored Round Sunglasses (53)',\n",
       " 'UV Protection Aviator Sunglasses (Free Size)',\n",
       " 'Mirrored Aviator Sunglasses (53)',\n",
       " 'Mirrored, Gradient, UV Protection Round Sunglasses (54)',\n",
       " 'UV Protection, Others Round, Aviator Sunglasses (54)',\n",
       " 'UV Protection, Night Vision, Riding Glasses Aviator Sun...',\n",
       " 'UV Protection, Mirrored Wayfarer Sunglasses (53)',\n",
       " 'Gradient, UV Protection Retro Square, Aviator Sunglasse...',\n",
       " 'UV Protection Rectangular Sunglasses (59)',\n",
       " 'UV Protection Retro Square Sunglasses (Free Size)',\n",
       " 'UV Protection Rectangular Sunglasses (55)',\n",
       " 'UV Protection Aviator Sunglasses (50)',\n",
       " 'Mirrored, Riding Glasses, Others Sports Sunglasses (50)',\n",
       " 'UV Protection Aviator Sunglasses (55)',\n",
       " 'UV Protection, Night Vision, Riding Glasses, Gradient, ...',\n",
       " 'UV Protection, Gradient Wayfarer Sunglasses (55)',\n",
       " 'UV Protection Round Sunglasses (53)',\n",
       " 'UV Protection, Gradient Butterfly, Retro Square Sunglas...',\n",
       " 'UV Protection Aviator Sunglasses (58)',\n",
       " 'UV Protection Wayfarer Sunglasses (53)',\n",
       " 'UV Protection Wayfarer Sunglasses (56)',\n",
       " 'UV Protection Aviator Sunglasses (Free Size)',\n",
       " 'Mirrored Aviator Sunglasses (Free Size)',\n",
       " 'UV Protection Wayfarer Sunglasses (53)',\n",
       " 'UV Protection Aviator Sunglasses (Free Size)',\n",
       " 'UV Protection Round Sunglasses (53)',\n",
       " 'UV Protection, Polarized Wrap-around Sunglasses (52)',\n",
       " 'UV Protection Wayfarer Sunglasses (Free Size)',\n",
       " 'UV Protection Wayfarer Sunglasses (Free Size)',\n",
       " 'Gradient Rectangular Sunglasses (56)',\n",
       " 'UV Protection, Gradient Wayfarer Sunglasses (57)',\n",
       " 'UV Protection, Gradient, Riding Glasses Wayfarer Sungla...',\n",
       " 'UV Protection Sports Sunglasses (Free Size)',\n",
       " 'UV Protection, Mirrored Round Sunglasses (54)',\n",
       " 'Polarized, UV Protection, Riding Glasses, Mirrored Wayf...',\n",
       " 'UV Protection, Mirrored, Gradient Retro Square Sunglass...',\n",
       " 'UV Protection Rectangular Sunglasses (Free Size)',\n",
       " 'UV Protection Aviator Sunglasses (57)',\n",
       " 'Gradient, UV Protection Cat-eye, Over-sized Sunglasses ...',\n",
       " 'UV Protection Clubmaster Sunglasses (Free Size)',\n",
       " 'UV Protection Aviator Sunglasses (Free Size)',\n",
       " 'Polarized Rectangular Sunglasses (65)',\n",
       " 'Polarized, UV Protection, Mirrored Wayfarer Sunglasses ...',\n",
       " 'UV Protection Wayfarer Sunglasses (Free Size)',\n",
       " 'UV Protection, Gradient, Mirrored, Riding Glasses Recta...',\n",
       " 'UV Protection Retro Square Sunglasses (Free Size)',\n",
       " 'Mirrored, UV Protection Wayfarer Sunglasses (53)',\n",
       " 'UV Protection Wayfarer Sunglasses (55)',\n",
       " 'UV Protection, Mirrored, Night Vision, Riding Glasses S...',\n",
       " 'UV Protection Round Sunglasses (Free Size)',\n",
       " 'Polarized, UV Protection Wayfarer, Rectangular Sunglass...',\n",
       " 'UV Protection, Riding Glasses Wayfarer Sunglasses (56)',\n",
       " 'UV Protection, Riding Glasses Rectangular, Retro Square...',\n",
       " 'Mirrored, UV Protection, Riding Glasses, Others Wrap-ar...',\n",
       " 'Toughened Glass Lens, UV Protection Aviator Sunglasses ...',\n",
       " 'Mirrored Wayfarer Sunglasses (52)',\n",
       " 'UV Protection Wayfarer Sunglasses (32)',\n",
       " 'UV Protection Shield Sunglasses (Free Size)',\n",
       " 'UV Protection Aviator Sunglasses (56)',\n",
       " 'UV Protection Rectangular Sunglasses (58)',\n",
       " 'Others Retro Square Sunglasses (Free Size)',\n",
       " 'UV Protection Aviator Sunglasses (Free Size)',\n",
       " 'UV Protection Aviator Sunglasses (54)']"
      ]
     },
     "execution_count": 550,
     "metadata": {},
     "output_type": "execute_result"
    }
   ],
   "source": [
    "#nested loop for exrract remaining all tags\n",
    "descrptions = driver.find_elements_by_xpath('//a[@class=\"IRpwTa\"]')\n",
    "for i in descrptions:\n",
    "    desc.append(i.text)\n",
    "desc"
   ]
  },
  {
   "cell_type": "code",
   "execution_count": 551,
   "id": "c96645cf",
   "metadata": {},
   "outputs": [
    {
     "data": {
      "text/plain": [
       "116"
      ]
     },
     "execution_count": 551,
     "metadata": {},
     "output_type": "execute_result"
    }
   ],
   "source": [
    "len(desc)"
   ]
  },
  {
   "cell_type": "code",
   "execution_count": null,
   "id": "6b36825b",
   "metadata": {},
   "outputs": [],
   "source": []
  },
  {
   "cell_type": "code",
   "execution_count": 552,
   "id": "005c7ef1",
   "metadata": {},
   "outputs": [
    {
     "data": {
      "text/plain": [
       "[<selenium.webdriver.remote.webelement.WebElement (session=\"3964bb417d612638343ab83595c9ab00\", element=\"799ba374-c3d4-4715-8f9d-6da2958e92c7\")>,\n",
       " <selenium.webdriver.remote.webelement.WebElement (session=\"3964bb417d612638343ab83595c9ab00\", element=\"1cc48d5f-a865-40bf-905e-36421e9b85cb\")>,\n",
       " <selenium.webdriver.remote.webelement.WebElement (session=\"3964bb417d612638343ab83595c9ab00\", element=\"0af497d5-edb6-4ce8-80e6-35d15966e283\")>,\n",
       " <selenium.webdriver.remote.webelement.WebElement (session=\"3964bb417d612638343ab83595c9ab00\", element=\"faa832f0-e3c1-4163-b99a-60622dfd1b3e\")>,\n",
       " <selenium.webdriver.remote.webelement.WebElement (session=\"3964bb417d612638343ab83595c9ab00\", element=\"3cc22917-243a-41ee-95e2-c6ffc48dd22d\")>,\n",
       " <selenium.webdriver.remote.webelement.WebElement (session=\"3964bb417d612638343ab83595c9ab00\", element=\"d7b434e5-71f8-4125-a893-6efff0378962\")>,\n",
       " <selenium.webdriver.remote.webelement.WebElement (session=\"3964bb417d612638343ab83595c9ab00\", element=\"dd2a3c2e-5d43-4610-99e3-90e3c7c9f849\")>,\n",
       " <selenium.webdriver.remote.webelement.WebElement (session=\"3964bb417d612638343ab83595c9ab00\", element=\"1a338a08-e791-4f28-85fa-e47fd276c2f4\")>,\n",
       " <selenium.webdriver.remote.webelement.WebElement (session=\"3964bb417d612638343ab83595c9ab00\", element=\"06f61166-5706-428d-95d3-df8e9287a6f3\")>,\n",
       " <selenium.webdriver.remote.webelement.WebElement (session=\"3964bb417d612638343ab83595c9ab00\", element=\"fe760287-e154-4860-a9af-873786db328d\")>,\n",
       " <selenium.webdriver.remote.webelement.WebElement (session=\"3964bb417d612638343ab83595c9ab00\", element=\"3fc88f41-a490-4c10-8423-ffe950ba818b\")>,\n",
       " <selenium.webdriver.remote.webelement.WebElement (session=\"3964bb417d612638343ab83595c9ab00\", element=\"66ebda1b-42de-47e7-96b5-31672f2ed3f6\")>,\n",
       " <selenium.webdriver.remote.webelement.WebElement (session=\"3964bb417d612638343ab83595c9ab00\", element=\"6a4f6cea-1db9-412c-ac7e-b6de1b8dbb58\")>,\n",
       " <selenium.webdriver.remote.webelement.WebElement (session=\"3964bb417d612638343ab83595c9ab00\", element=\"2fd8e677-c492-4b3a-a18d-a965164426dd\")>,\n",
       " <selenium.webdriver.remote.webelement.WebElement (session=\"3964bb417d612638343ab83595c9ab00\", element=\"7d963ec2-d46c-4ddb-bd47-d1d947dcde7b\")>,\n",
       " <selenium.webdriver.remote.webelement.WebElement (session=\"3964bb417d612638343ab83595c9ab00\", element=\"75fe83b0-abc0-409e-af33-b0f4b3a60394\")>,\n",
       " <selenium.webdriver.remote.webelement.WebElement (session=\"3964bb417d612638343ab83595c9ab00\", element=\"59af378e-5a60-427a-bb3a-aac335c16d78\")>,\n",
       " <selenium.webdriver.remote.webelement.WebElement (session=\"3964bb417d612638343ab83595c9ab00\", element=\"f1f55751-1dd4-4795-a0ff-d696e3701373\")>,\n",
       " <selenium.webdriver.remote.webelement.WebElement (session=\"3964bb417d612638343ab83595c9ab00\", element=\"46033948-7433-456b-b161-ae534ced3260\")>,\n",
       " <selenium.webdriver.remote.webelement.WebElement (session=\"3964bb417d612638343ab83595c9ab00\", element=\"e00940ba-da67-4c0f-a6e0-f9380f69db00\")>,\n",
       " <selenium.webdriver.remote.webelement.WebElement (session=\"3964bb417d612638343ab83595c9ab00\", element=\"4b82eb57-eb20-4288-95f8-066d978e6e13\")>,\n",
       " <selenium.webdriver.remote.webelement.WebElement (session=\"3964bb417d612638343ab83595c9ab00\", element=\"4623f750-4f39-4822-923a-f8a9954395b5\")>,\n",
       " <selenium.webdriver.remote.webelement.WebElement (session=\"3964bb417d612638343ab83595c9ab00\", element=\"44d7569a-312a-4aab-831f-56cb89a192cd\")>,\n",
       " <selenium.webdriver.remote.webelement.WebElement (session=\"3964bb417d612638343ab83595c9ab00\", element=\"d07b9a1f-9364-4df9-bad8-cf31fa7fa8cb\")>,\n",
       " <selenium.webdriver.remote.webelement.WebElement (session=\"3964bb417d612638343ab83595c9ab00\", element=\"f64b9dbc-40a1-4c99-be16-ade901f98c0b\")>,\n",
       " <selenium.webdriver.remote.webelement.WebElement (session=\"3964bb417d612638343ab83595c9ab00\", element=\"fec1517e-4687-4fdb-a921-5e7e19912af9\")>,\n",
       " <selenium.webdriver.remote.webelement.WebElement (session=\"3964bb417d612638343ab83595c9ab00\", element=\"7f9ac915-582f-4570-96fb-8d86d5ea5d4a\")>,\n",
       " <selenium.webdriver.remote.webelement.WebElement (session=\"3964bb417d612638343ab83595c9ab00\", element=\"5c3dc2b5-c79b-4b8b-b8dd-d5a45853a397\")>,\n",
       " <selenium.webdriver.remote.webelement.WebElement (session=\"3964bb417d612638343ab83595c9ab00\", element=\"a3ff3a05-9e38-4291-a994-2cc79da38687\")>,\n",
       " <selenium.webdriver.remote.webelement.WebElement (session=\"3964bb417d612638343ab83595c9ab00\", element=\"520bcd29-089d-4efd-b475-4a0ae6ad4038\")>,\n",
       " <selenium.webdriver.remote.webelement.WebElement (session=\"3964bb417d612638343ab83595c9ab00\", element=\"9d4cc3f4-d0ae-4665-bc0e-13c645bc0e2c\")>,\n",
       " <selenium.webdriver.remote.webelement.WebElement (session=\"3964bb417d612638343ab83595c9ab00\", element=\"d0cf6d51-d80b-474d-a135-678d38fce9f9\")>,\n",
       " <selenium.webdriver.remote.webelement.WebElement (session=\"3964bb417d612638343ab83595c9ab00\", element=\"8d8b3640-c798-4805-baa7-f549d84aa15f\")>,\n",
       " <selenium.webdriver.remote.webelement.WebElement (session=\"3964bb417d612638343ab83595c9ab00\", element=\"aabfdebb-86b3-41ce-bbc1-0b816359fe39\")>,\n",
       " <selenium.webdriver.remote.webelement.WebElement (session=\"3964bb417d612638343ab83595c9ab00\", element=\"a683d03a-427e-44af-a0df-f104143701cb\")>,\n",
       " <selenium.webdriver.remote.webelement.WebElement (session=\"3964bb417d612638343ab83595c9ab00\", element=\"fd3bf343-c7c7-4f80-b901-7fe7f1b13b22\")>,\n",
       " <selenium.webdriver.remote.webelement.WebElement (session=\"3964bb417d612638343ab83595c9ab00\", element=\"9d020178-c88d-495b-8f74-3e8c3605b3f2\")>,\n",
       " <selenium.webdriver.remote.webelement.WebElement (session=\"3964bb417d612638343ab83595c9ab00\", element=\"a0e04602-620f-4705-8b0c-85c74ca6bba1\")>,\n",
       " <selenium.webdriver.remote.webelement.WebElement (session=\"3964bb417d612638343ab83595c9ab00\", element=\"0c8860a6-1203-4d95-85a1-750b8c6638d3\")>,\n",
       " <selenium.webdriver.remote.webelement.WebElement (session=\"3964bb417d612638343ab83595c9ab00\", element=\"b8869de9-6321-4d85-aea6-1248c7e6d2a3\")>]"
      ]
     },
     "execution_count": 552,
     "metadata": {},
     "output_type": "execute_result"
    }
   ],
   "source": [
    "#now extract all the tags having the price\n",
    "price=driver.find_elements_by_xpath('//div[@class=\"_30jeq3\"]')\n",
    "price"
   ]
  },
  {
   "cell_type": "code",
   "execution_count": 553,
   "id": "caf1a295",
   "metadata": {},
   "outputs": [
    {
     "data": {
      "text/plain": [
       "['₹663',\n",
       " '₹799',\n",
       " '₹758',\n",
       " '₹509',\n",
       " '₹513',\n",
       " '₹295',\n",
       " '₹237',\n",
       " '₹549',\n",
       " '₹299',\n",
       " '₹655',\n",
       " '₹210',\n",
       " '₹369',\n",
       " '₹499',\n",
       " '₹1,085',\n",
       " '₹246',\n",
       " '₹799',\n",
       " '₹399',\n",
       " '₹733',\n",
       " '₹210',\n",
       " '₹676',\n",
       " '₹214',\n",
       " '₹225',\n",
       " '₹759',\n",
       " '₹279',\n",
       " '₹284',\n",
       " '₹257',\n",
       " '₹237',\n",
       " '₹1,007',\n",
       " '₹331',\n",
       " '₹1,010',\n",
       " '₹404',\n",
       " '₹331',\n",
       " '₹558',\n",
       " '₹399',\n",
       " '₹237',\n",
       " '₹599',\n",
       " '₹499',\n",
       " '₹738',\n",
       " '₹828',\n",
       " '₹284']"
      ]
     },
     "execution_count": 553,
     "metadata": {},
     "output_type": "execute_result"
    }
   ],
   "source": [
    "#for loop\n",
    "prices = []\n",
    "for i in price :\n",
    "    prices.append(i.text)\n",
    "prices"
   ]
  },
  {
   "cell_type": "code",
   "execution_count": 554,
   "id": "ed179126",
   "metadata": {},
   "outputs": [
    {
     "data": {
      "text/plain": [
       "['₹663',\n",
       " '₹799',\n",
       " '₹758',\n",
       " '₹509',\n",
       " '₹513',\n",
       " '₹295',\n",
       " '₹237',\n",
       " '₹549',\n",
       " '₹299',\n",
       " '₹655',\n",
       " '₹210',\n",
       " '₹369',\n",
       " '₹499',\n",
       " '₹1,085',\n",
       " '₹246',\n",
       " '₹799',\n",
       " '₹399',\n",
       " '₹733',\n",
       " '₹210',\n",
       " '₹676',\n",
       " '₹214',\n",
       " '₹225',\n",
       " '₹759',\n",
       " '₹279',\n",
       " '₹284',\n",
       " '₹257',\n",
       " '₹237',\n",
       " '₹1,007',\n",
       " '₹331',\n",
       " '₹1,010',\n",
       " '₹404',\n",
       " '₹331',\n",
       " '₹558',\n",
       " '₹399',\n",
       " '₹237',\n",
       " '₹599',\n",
       " '₹499',\n",
       " '₹738',\n",
       " '₹828',\n",
       " '₹284',\n",
       " '₹319',\n",
       " '₹299',\n",
       " '₹331',\n",
       " '₹549',\n",
       " '₹379',\n",
       " '₹225',\n",
       " '₹399',\n",
       " '₹599',\n",
       " '₹1,115',\n",
       " '₹652',\n",
       " '₹213',\n",
       " '₹676',\n",
       " '₹758',\n",
       " '₹445',\n",
       " '₹252',\n",
       " '₹799',\n",
       " '₹1,740',\n",
       " '₹312',\n",
       " '₹210',\n",
       " '₹279',\n",
       " '₹299',\n",
       " '₹211',\n",
       " '₹1,021',\n",
       " '₹398',\n",
       " '₹647',\n",
       " '₹295',\n",
       " '₹349',\n",
       " '₹1,007',\n",
       " '₹210',\n",
       " '₹217',\n",
       " '₹215',\n",
       " '₹331',\n",
       " '₹328',\n",
       " '₹252',\n",
       " '₹269',\n",
       " '₹698',\n",
       " '₹545',\n",
       " '₹449',\n",
       " '₹169',\n",
       " '₹237']"
      ]
     },
     "execution_count": 554,
     "metadata": {},
     "output_type": "execute_result"
    }
   ],
   "source": [
    "#nested loop\n",
    "cost =driver.find_elements_by_xpath('//div[@class=\"_30jeq3\"]')\n",
    "for i in cost :\n",
    "    prices.append(i.text)\n",
    "prices"
   ]
  },
  {
   "cell_type": "code",
   "execution_count": 555,
   "id": "39dddd75",
   "metadata": {},
   "outputs": [
    {
     "data": {
      "text/plain": [
       "['₹663',\n",
       " '₹799',\n",
       " '₹758',\n",
       " '₹509',\n",
       " '₹513',\n",
       " '₹295',\n",
       " '₹237',\n",
       " '₹549',\n",
       " '₹299',\n",
       " '₹655',\n",
       " '₹210',\n",
       " '₹369',\n",
       " '₹499',\n",
       " '₹1,085',\n",
       " '₹246',\n",
       " '₹799',\n",
       " '₹399',\n",
       " '₹733',\n",
       " '₹210',\n",
       " '₹676',\n",
       " '₹214',\n",
       " '₹225',\n",
       " '₹759',\n",
       " '₹279',\n",
       " '₹284',\n",
       " '₹257',\n",
       " '₹237',\n",
       " '₹1,007',\n",
       " '₹331',\n",
       " '₹1,010',\n",
       " '₹404',\n",
       " '₹331',\n",
       " '₹558',\n",
       " '₹399',\n",
       " '₹237',\n",
       " '₹599',\n",
       " '₹499',\n",
       " '₹738',\n",
       " '₹828',\n",
       " '₹284',\n",
       " '₹319',\n",
       " '₹299',\n",
       " '₹331',\n",
       " '₹549',\n",
       " '₹379',\n",
       " '₹225',\n",
       " '₹399',\n",
       " '₹599',\n",
       " '₹1,115',\n",
       " '₹652',\n",
       " '₹213',\n",
       " '₹676',\n",
       " '₹758',\n",
       " '₹445',\n",
       " '₹252',\n",
       " '₹799',\n",
       " '₹1,740',\n",
       " '₹312',\n",
       " '₹210',\n",
       " '₹279',\n",
       " '₹299',\n",
       " '₹211',\n",
       " '₹1,021',\n",
       " '₹398',\n",
       " '₹647',\n",
       " '₹295',\n",
       " '₹349',\n",
       " '₹1,007',\n",
       " '₹210',\n",
       " '₹217',\n",
       " '₹215',\n",
       " '₹331',\n",
       " '₹328',\n",
       " '₹252',\n",
       " '₹269',\n",
       " '₹698',\n",
       " '₹545',\n",
       " '₹449',\n",
       " '₹169',\n",
       " '₹237',\n",
       " '₹246',\n",
       " '₹352',\n",
       " '₹295',\n",
       " '₹539',\n",
       " '₹684',\n",
       " '₹606',\n",
       " '₹259',\n",
       " '₹771',\n",
       " '₹249',\n",
       " '₹259',\n",
       " '₹210',\n",
       " '₹185',\n",
       " '₹319',\n",
       " '₹737',\n",
       " '₹699',\n",
       " '₹655',\n",
       " '₹299',\n",
       " '₹499',\n",
       " '₹265',\n",
       " '₹345',\n",
       " '₹199',\n",
       " '₹235',\n",
       " '₹398',\n",
       " '₹349',\n",
       " '₹695',\n",
       " '₹237',\n",
       " '₹853',\n",
       " '₹474',\n",
       " '₹599',\n",
       " '₹759',\n",
       " '₹299',\n",
       " '₹249',\n",
       " '₹569',\n",
       " '₹219',\n",
       " '₹245',\n",
       " '₹399',\n",
       " '₹1,093',\n",
       " '₹209',\n",
       " '₹185',\n",
       " '₹237']"
      ]
     },
     "execution_count": 555,
     "metadata": {},
     "output_type": "execute_result"
    }
   ],
   "source": [
    "costs =driver.find_elements_by_xpath('//div[@class=\"_30jeq3\"]')\n",
    "for i in costs:\n",
    "    prices.append(i.text)\n",
    "prices"
   ]
  },
  {
   "cell_type": "code",
   "execution_count": null,
   "id": "096b5e0f",
   "metadata": {},
   "outputs": [],
   "source": []
  },
  {
   "cell_type": "code",
   "execution_count": 557,
   "id": "fc085977",
   "metadata": {},
   "outputs": [
    {
     "data": {
      "text/plain": [
       "[<selenium.webdriver.remote.webelement.WebElement (session=\"3964bb417d612638343ab83595c9ab00\", element=\"d92dce01-299c-4f42-8954-5dfcb5ef9b22\")>,\n",
       " <selenium.webdriver.remote.webelement.WebElement (session=\"3964bb417d612638343ab83595c9ab00\", element=\"71eb9585-0759-4ba6-ba1c-d33e4b879eaa\")>,\n",
       " <selenium.webdriver.remote.webelement.WebElement (session=\"3964bb417d612638343ab83595c9ab00\", element=\"2d4db946-f9f0-4d22-a99f-213e97e93d3a\")>,\n",
       " <selenium.webdriver.remote.webelement.WebElement (session=\"3964bb417d612638343ab83595c9ab00\", element=\"d934c2f7-4e7a-41db-8fa1-55d2aa83caa8\")>,\n",
       " <selenium.webdriver.remote.webelement.WebElement (session=\"3964bb417d612638343ab83595c9ab00\", element=\"8bb32430-6edf-4910-9d1f-e2b6fa27b5b6\")>,\n",
       " <selenium.webdriver.remote.webelement.WebElement (session=\"3964bb417d612638343ab83595c9ab00\", element=\"62f7322f-2e00-4fd4-9596-7ced0e46bb46\")>,\n",
       " <selenium.webdriver.remote.webelement.WebElement (session=\"3964bb417d612638343ab83595c9ab00\", element=\"a82d854d-2fe9-4428-916d-b124978778d8\")>,\n",
       " <selenium.webdriver.remote.webelement.WebElement (session=\"3964bb417d612638343ab83595c9ab00\", element=\"52c57ac1-1df7-47f6-b964-9494dc49d53d\")>,\n",
       " <selenium.webdriver.remote.webelement.WebElement (session=\"3964bb417d612638343ab83595c9ab00\", element=\"b88bb057-7163-4a98-86d8-4da8b10cc9e9\")>,\n",
       " <selenium.webdriver.remote.webelement.WebElement (session=\"3964bb417d612638343ab83595c9ab00\", element=\"6bf3a6d3-ca79-4097-ac46-4c39f043c649\")>,\n",
       " <selenium.webdriver.remote.webelement.WebElement (session=\"3964bb417d612638343ab83595c9ab00\", element=\"9ba6cc8b-d6b5-4eb9-a1cb-f63cbf5da741\")>,\n",
       " <selenium.webdriver.remote.webelement.WebElement (session=\"3964bb417d612638343ab83595c9ab00\", element=\"2db4f87f-2274-4598-bdc2-32eab11a27e6\")>,\n",
       " <selenium.webdriver.remote.webelement.WebElement (session=\"3964bb417d612638343ab83595c9ab00\", element=\"d803e778-9528-4211-83f7-5bbc11ff01af\")>,\n",
       " <selenium.webdriver.remote.webelement.WebElement (session=\"3964bb417d612638343ab83595c9ab00\", element=\"7df93e43-9e4d-443d-a149-a453530d4483\")>,\n",
       " <selenium.webdriver.remote.webelement.WebElement (session=\"3964bb417d612638343ab83595c9ab00\", element=\"8b0e8230-1f16-4e8c-aacf-d1943f652a46\")>,\n",
       " <selenium.webdriver.remote.webelement.WebElement (session=\"3964bb417d612638343ab83595c9ab00\", element=\"73f65263-6b51-40ac-8955-8f6f816f520e\")>,\n",
       " <selenium.webdriver.remote.webelement.WebElement (session=\"3964bb417d612638343ab83595c9ab00\", element=\"cb1ff972-0149-4d6e-a952-a5ef622a0e2f\")>,\n",
       " <selenium.webdriver.remote.webelement.WebElement (session=\"3964bb417d612638343ab83595c9ab00\", element=\"f38547e1-c8c2-4edb-b26d-9b46f5236c55\")>,\n",
       " <selenium.webdriver.remote.webelement.WebElement (session=\"3964bb417d612638343ab83595c9ab00\", element=\"f157380c-a51a-4517-831a-2bde8feefcc8\")>,\n",
       " <selenium.webdriver.remote.webelement.WebElement (session=\"3964bb417d612638343ab83595c9ab00\", element=\"586add3d-a0da-4e25-b3b6-efec55ab4615\")>,\n",
       " <selenium.webdriver.remote.webelement.WebElement (session=\"3964bb417d612638343ab83595c9ab00\", element=\"3f340ffb-c087-4dfd-92e7-73dec02d314a\")>,\n",
       " <selenium.webdriver.remote.webelement.WebElement (session=\"3964bb417d612638343ab83595c9ab00\", element=\"751ab93b-87d0-41f5-ac70-5f303cdb9db7\")>,\n",
       " <selenium.webdriver.remote.webelement.WebElement (session=\"3964bb417d612638343ab83595c9ab00\", element=\"e3e639a9-b7ba-4ef0-8178-f63ece32d78d\")>,\n",
       " <selenium.webdriver.remote.webelement.WebElement (session=\"3964bb417d612638343ab83595c9ab00\", element=\"2105a84e-fefe-4e60-8d99-15de3cb9f48a\")>,\n",
       " <selenium.webdriver.remote.webelement.WebElement (session=\"3964bb417d612638343ab83595c9ab00\", element=\"41e51fe9-0d03-42ca-9f51-ff78a6e9faf3\")>,\n",
       " <selenium.webdriver.remote.webelement.WebElement (session=\"3964bb417d612638343ab83595c9ab00\", element=\"8ed5a095-1f99-4f0d-9762-d6325a418794\")>,\n",
       " <selenium.webdriver.remote.webelement.WebElement (session=\"3964bb417d612638343ab83595c9ab00\", element=\"9f80c14c-7bb0-4671-a456-55ac335d2d53\")>,\n",
       " <selenium.webdriver.remote.webelement.WebElement (session=\"3964bb417d612638343ab83595c9ab00\", element=\"385eff40-07bf-4777-978b-f3911f5b9695\")>,\n",
       " <selenium.webdriver.remote.webelement.WebElement (session=\"3964bb417d612638343ab83595c9ab00\", element=\"2ffbe7fb-b963-44f1-91b5-8ed53a9b67fa\")>,\n",
       " <selenium.webdriver.remote.webelement.WebElement (session=\"3964bb417d612638343ab83595c9ab00\", element=\"53fc6c97-2913-49dc-86a5-4001c9c2a92f\")>,\n",
       " <selenium.webdriver.remote.webelement.WebElement (session=\"3964bb417d612638343ab83595c9ab00\", element=\"01a8dff2-09fd-49ee-938e-218c58a78969\")>,\n",
       " <selenium.webdriver.remote.webelement.WebElement (session=\"3964bb417d612638343ab83595c9ab00\", element=\"d65b894b-dc48-4cf6-b31d-0b7caa1b4d36\")>,\n",
       " <selenium.webdriver.remote.webelement.WebElement (session=\"3964bb417d612638343ab83595c9ab00\", element=\"f2122e7f-194c-45f4-afff-25a74e0c6cf0\")>,\n",
       " <selenium.webdriver.remote.webelement.WebElement (session=\"3964bb417d612638343ab83595c9ab00\", element=\"57b40b73-e354-42bc-a563-cb7991d126aa\")>,\n",
       " <selenium.webdriver.remote.webelement.WebElement (session=\"3964bb417d612638343ab83595c9ab00\", element=\"52c60ffc-6e8b-4857-a664-8eb703c6c086\")>,\n",
       " <selenium.webdriver.remote.webelement.WebElement (session=\"3964bb417d612638343ab83595c9ab00\", element=\"61cf72a8-be47-4fa6-8eee-603eaa532392\")>,\n",
       " <selenium.webdriver.remote.webelement.WebElement (session=\"3964bb417d612638343ab83595c9ab00\", element=\"48cbf1f5-ecd2-4db8-9e18-50acbfe0c5a2\")>,\n",
       " <selenium.webdriver.remote.webelement.WebElement (session=\"3964bb417d612638343ab83595c9ab00\", element=\"eae716be-fcc1-45fe-bb87-82dab67426c7\")>,\n",
       " <selenium.webdriver.remote.webelement.WebElement (session=\"3964bb417d612638343ab83595c9ab00\", element=\"f823b0a5-abcc-49b2-9854-e27247ff17e3\")>,\n",
       " <selenium.webdriver.remote.webelement.WebElement (session=\"3964bb417d612638343ab83595c9ab00\", element=\"5d840e5a-c043-412e-9496-ed5cb07825a3\")>]"
      ]
     },
     "execution_count": 557,
     "metadata": {},
     "output_type": "execute_result"
    }
   ],
   "source": [
    "#now extract all the tags having the brand names\n",
    "discount_tags=driver.find_elements_by_xpath('//div[@class=\"_3Ay6Sb\"]')\n",
    "discount_tags"
   ]
  },
  {
   "cell_type": "code",
   "execution_count": 558,
   "id": "2a60c081",
   "metadata": {},
   "outputs": [
    {
     "data": {
      "text/plain": [
       "['73% off',\n",
       " '60% off',\n",
       " '15% off',\n",
       " '36% off',\n",
       " '35% off',\n",
       " '88% off',\n",
       " '85% off',\n",
       " '45% off',\n",
       " '88% off',\n",
       " '27% off',\n",
       " '82% off',\n",
       " '60% off',\n",
       " '77% off',\n",
       " '16% off',\n",
       " '83% off',\n",
       " '73% off',\n",
       " '80% off',\n",
       " '18% off',\n",
       " '85% off',\n",
       " '65% off',\n",
       " '69% off',\n",
       " '79% off',\n",
       " '15% off',\n",
       " '69% off',\n",
       " '85% off',\n",
       " '78% off',\n",
       " '85% off',\n",
       " '70% off',\n",
       " '74% off',\n",
       " '22% off',\n",
       " '79% off',\n",
       " '77% off',\n",
       " '30% off',\n",
       " '80% off',\n",
       " '85% off',\n",
       " '79% off',\n",
       " '77% off',\n",
       " '26% off',\n",
       " '7% off',\n",
       " '85% off']"
      ]
     },
     "execution_count": 558,
     "metadata": {},
     "output_type": "execute_result"
    }
   ],
   "source": [
    "discounts = []\n",
    "for i in discount_tags :\n",
    "    discounts.append(i.text)\n",
    "discounts"
   ]
  },
  {
   "cell_type": "code",
   "execution_count": 559,
   "id": "8abfe7ee",
   "metadata": {},
   "outputs": [
    {
     "data": {
      "text/plain": [
       "['73% off',\n",
       " '60% off',\n",
       " '15% off',\n",
       " '36% off',\n",
       " '35% off',\n",
       " '88% off',\n",
       " '85% off',\n",
       " '45% off',\n",
       " '88% off',\n",
       " '27% off',\n",
       " '82% off',\n",
       " '60% off',\n",
       " '77% off',\n",
       " '16% off',\n",
       " '83% off',\n",
       " '73% off',\n",
       " '80% off',\n",
       " '18% off',\n",
       " '85% off',\n",
       " '65% off',\n",
       " '69% off',\n",
       " '79% off',\n",
       " '15% off',\n",
       " '69% off',\n",
       " '85% off',\n",
       " '78% off',\n",
       " '85% off',\n",
       " '70% off',\n",
       " '74% off',\n",
       " '22% off',\n",
       " '79% off',\n",
       " '77% off',\n",
       " '30% off',\n",
       " '80% off',\n",
       " '85% off',\n",
       " '79% off',\n",
       " '77% off',\n",
       " '26% off',\n",
       " '7% off',\n",
       " '85% off',\n",
       " '83% off',\n",
       " '88% off',\n",
       " '79% off',\n",
       " '20% off',\n",
       " '74% off',\n",
       " '77% off',\n",
       " '80% off',\n",
       " '72% off',\n",
       " '14% off',\n",
       " '18% off',\n",
       " '82% off',\n",
       " '79% off',\n",
       " '15% off',\n",
       " '73% off',\n",
       " '74% off',\n",
       " '78% off',\n",
       " '12% off',\n",
       " '87% off',\n",
       " '78% off',\n",
       " '72% off',\n",
       " '80% off',\n",
       " '78% off',\n",
       " '21% off',\n",
       " '75% off',\n",
       " '28% off',\n",
       " '85% off',\n",
       " '76% off',\n",
       " '66% off',\n",
       " '83% off',\n",
       " '78% off',\n",
       " '72% off',\n",
       " '84% off',\n",
       " '86% off',\n",
       " '83% off',\n",
       " '73% off',\n",
       " '80% off',\n",
       " '64% off',\n",
       " '79% off',\n",
       " '81% off',\n",
       " '73% off']"
      ]
     },
     "execution_count": 559,
     "metadata": {},
     "output_type": "execute_result"
    }
   ],
   "source": [
    "discount = driver.find_elements_by_xpath('//div[@class=\"_3Ay6Sb\"]')\n",
    "for i in discount :\n",
    "    discounts.append(i.text)\n",
    "discounts"
   ]
  },
  {
   "cell_type": "code",
   "execution_count": 560,
   "id": "8c074f70",
   "metadata": {},
   "outputs": [
    {
     "data": {
      "text/plain": [
       "['73% off',\n",
       " '60% off',\n",
       " '15% off',\n",
       " '36% off',\n",
       " '35% off',\n",
       " '88% off',\n",
       " '85% off',\n",
       " '45% off',\n",
       " '88% off',\n",
       " '27% off',\n",
       " '82% off',\n",
       " '60% off',\n",
       " '77% off',\n",
       " '16% off',\n",
       " '83% off',\n",
       " '73% off',\n",
       " '80% off',\n",
       " '18% off',\n",
       " '85% off',\n",
       " '65% off',\n",
       " '69% off',\n",
       " '79% off',\n",
       " '15% off',\n",
       " '69% off',\n",
       " '85% off',\n",
       " '78% off',\n",
       " '85% off',\n",
       " '70% off',\n",
       " '74% off',\n",
       " '22% off',\n",
       " '79% off',\n",
       " '77% off',\n",
       " '30% off',\n",
       " '80% off',\n",
       " '85% off',\n",
       " '79% off',\n",
       " '77% off',\n",
       " '26% off',\n",
       " '7% off',\n",
       " '85% off',\n",
       " '83% off',\n",
       " '88% off',\n",
       " '79% off',\n",
       " '20% off',\n",
       " '74% off',\n",
       " '77% off',\n",
       " '80% off',\n",
       " '72% off',\n",
       " '14% off',\n",
       " '18% off',\n",
       " '82% off',\n",
       " '79% off',\n",
       " '15% off',\n",
       " '73% off',\n",
       " '74% off',\n",
       " '78% off',\n",
       " '12% off',\n",
       " '87% off',\n",
       " '78% off',\n",
       " '72% off',\n",
       " '80% off',\n",
       " '78% off',\n",
       " '21% off',\n",
       " '75% off',\n",
       " '28% off',\n",
       " '85% off',\n",
       " '76% off',\n",
       " '66% off',\n",
       " '83% off',\n",
       " '78% off',\n",
       " '72% off',\n",
       " '84% off',\n",
       " '86% off',\n",
       " '83% off',\n",
       " '73% off',\n",
       " '80% off',\n",
       " '64% off',\n",
       " '79% off',\n",
       " '81% off',\n",
       " '73% off',\n",
       " '75% off',\n",
       " '70% off',\n",
       " '87% off',\n",
       " '73% off',\n",
       " '32% off',\n",
       " '14% off',\n",
       " '52% off',\n",
       " '60% off',\n",
       " '74% off',\n",
       " '14% off',\n",
       " '79% off',\n",
       " '73% off',\n",
       " '87% off',\n",
       " '83% off',\n",
       " '75% off',\n",
       " '60% off',\n",
       " '84% off',\n",
       " '7% off',\n",
       " '65% off',\n",
       " '65% off',\n",
       " '18% off',\n",
       " '76% off',\n",
       " '77% off',\n",
       " '69% off',\n",
       " '79% off',\n",
       " '62% off',\n",
       " '80% off',\n",
       " '77% off',\n",
       " '75% off',\n",
       " '73% off',\n",
       " '82% off',\n",
       " '77% off',\n",
       " '73% off',\n",
       " '85% off',\n",
       " '5% off',\n",
       " '74% off',\n",
       " '68% off',\n",
       " '20% off',\n",
       " '15% off',\n",
       " '79% off']"
      ]
     },
     "execution_count": 560,
     "metadata": {},
     "output_type": "execute_result"
    }
   ],
   "source": [
    "disc = driver.find_elements_by_xpath('//div[@class=\"_3Ay6Sb\"]')\n",
    "for i in disc:\n",
    "    discounts.append(i.text)\n",
    "discounts"
   ]
  },
  {
   "cell_type": "code",
   "execution_count": 561,
   "id": "4ef5939a",
   "metadata": {},
   "outputs": [
    {
     "data": {
      "text/plain": [
       "120"
      ]
     },
     "execution_count": 561,
     "metadata": {},
     "output_type": "execute_result"
    }
   ],
   "source": [
    "len(discounts)"
   ]
  },
  {
   "cell_type": "code",
   "execution_count": null,
   "id": "57ced616",
   "metadata": {},
   "outputs": [],
   "source": []
  },
  {
   "cell_type": "code",
   "execution_count": 564,
   "id": "8ef7e689",
   "metadata": {},
   "outputs": [
    {
     "name": "stdout",
     "output_type": "stream",
     "text": [
      "100 100 100 100\n"
     ]
    }
   ],
   "source": [
    "#check the length of each list\n",
    "print(len(glasses[:100]),len(desc[:100]),len(prices[:100]),len(discounts[:100]))"
   ]
  },
  {
   "cell_type": "code",
   "execution_count": 565,
   "id": "0544dbe4",
   "metadata": {},
   "outputs": [],
   "source": [
    "#now create the dataframe using with pandas\n",
    "import pandas as pd\n",
    "sunglasses = pd.DataFrame({})\n",
    "sunglasses['Brand'] = glasses[:100]\n",
    "sunglasses['Product_Description'] = desc[:100]\n",
    "sunglasses['Price'] = prices[:100]\n",
    "sunglasses['Discoiunt%'] = discounts[:100]"
   ]
  },
  {
   "cell_type": "code",
   "execution_count": 566,
   "id": "b7ddca1b",
   "metadata": {},
   "outputs": [
    {
     "data": {
      "text/html": [
       "<div>\n",
       "<style scoped>\n",
       "    .dataframe tbody tr th:only-of-type {\n",
       "        vertical-align: middle;\n",
       "    }\n",
       "\n",
       "    .dataframe tbody tr th {\n",
       "        vertical-align: top;\n",
       "    }\n",
       "\n",
       "    .dataframe thead th {\n",
       "        text-align: right;\n",
       "    }\n",
       "</style>\n",
       "<table border=\"1\" class=\"dataframe\">\n",
       "  <thead>\n",
       "    <tr style=\"text-align: right;\">\n",
       "      <th></th>\n",
       "      <th>Brand</th>\n",
       "      <th>Product_Description</th>\n",
       "      <th>Price</th>\n",
       "      <th>Discoiunt%</th>\n",
       "    </tr>\n",
       "  </thead>\n",
       "  <tbody>\n",
       "    <tr>\n",
       "      <th>0</th>\n",
       "      <td>Wrogn</td>\n",
       "      <td>Mirrored Wayfarer Sunglasses (51)</td>\n",
       "      <td>₹663</td>\n",
       "      <td>73% off</td>\n",
       "    </tr>\n",
       "    <tr>\n",
       "      <th>1</th>\n",
       "      <td>ROZZETTA CRAFT</td>\n",
       "      <td>UV Protection Wayfarer Sunglasses (Free Size)</td>\n",
       "      <td>₹799</td>\n",
       "      <td>60% off</td>\n",
       "    </tr>\n",
       "    <tr>\n",
       "      <th>2</th>\n",
       "      <td>Fastrack</td>\n",
       "      <td>Gradient, UV Protection Wayfarer Sunglasses (F...</td>\n",
       "      <td>₹758</td>\n",
       "      <td>15% off</td>\n",
       "    </tr>\n",
       "    <tr>\n",
       "      <th>3</th>\n",
       "      <td>Fastrack</td>\n",
       "      <td>UV Protection Rectangular Sunglasses (Free Size)</td>\n",
       "      <td>₹509</td>\n",
       "      <td>36% off</td>\n",
       "    </tr>\n",
       "    <tr>\n",
       "      <th>4</th>\n",
       "      <td>Fastrack</td>\n",
       "      <td>Mirrored, UV Protection Wayfarer Sunglasses (F...</td>\n",
       "      <td>₹513</td>\n",
       "      <td>35% off</td>\n",
       "    </tr>\n",
       "    <tr>\n",
       "      <th>...</th>\n",
       "      <td>...</td>\n",
       "      <td>...</td>\n",
       "      <td>...</td>\n",
       "      <td>...</td>\n",
       "    </tr>\n",
       "    <tr>\n",
       "      <th>95</th>\n",
       "      <td>Singco India</td>\n",
       "      <td>Polarized, UV Protection, Mirrored Wayfarer Su...</td>\n",
       "      <td>₹655</td>\n",
       "      <td>60% off</td>\n",
       "    </tr>\n",
       "    <tr>\n",
       "      <th>96</th>\n",
       "      <td>PIRASO</td>\n",
       "      <td>UV Protection Wayfarer Sunglasses (Free Size)</td>\n",
       "      <td>₹299</td>\n",
       "      <td>84% off</td>\n",
       "    </tr>\n",
       "    <tr>\n",
       "      <th>97</th>\n",
       "      <td>Fastrack</td>\n",
       "      <td>UV Protection, Gradient, Mirrored, Riding Glas...</td>\n",
       "      <td>₹499</td>\n",
       "      <td>7% off</td>\n",
       "    </tr>\n",
       "    <tr>\n",
       "      <th>98</th>\n",
       "      <td>PIRASO</td>\n",
       "      <td>UV Protection Retro Square Sunglasses (Free Size)</td>\n",
       "      <td>₹265</td>\n",
       "      <td>65% off</td>\n",
       "    </tr>\n",
       "    <tr>\n",
       "      <th>99</th>\n",
       "      <td>hipe</td>\n",
       "      <td>Mirrored, UV Protection Wayfarer Sunglasses (53)</td>\n",
       "      <td>₹345</td>\n",
       "      <td>65% off</td>\n",
       "    </tr>\n",
       "  </tbody>\n",
       "</table>\n",
       "<p>100 rows × 4 columns</p>\n",
       "</div>"
      ],
      "text/plain": [
       "             Brand                                Product_Description Price  \\\n",
       "0            Wrogn                  Mirrored Wayfarer Sunglasses (51)  ₹663   \n",
       "1   ROZZETTA CRAFT      UV Protection Wayfarer Sunglasses (Free Size)  ₹799   \n",
       "2         Fastrack  Gradient, UV Protection Wayfarer Sunglasses (F...  ₹758   \n",
       "3         Fastrack   UV Protection Rectangular Sunglasses (Free Size)  ₹509   \n",
       "4         Fastrack  Mirrored, UV Protection Wayfarer Sunglasses (F...  ₹513   \n",
       "..             ...                                                ...   ...   \n",
       "95    Singco India  Polarized, UV Protection, Mirrored Wayfarer Su...  ₹655   \n",
       "96          PIRASO      UV Protection Wayfarer Sunglasses (Free Size)  ₹299   \n",
       "97        Fastrack  UV Protection, Gradient, Mirrored, Riding Glas...  ₹499   \n",
       "98          PIRASO  UV Protection Retro Square Sunglasses (Free Size)  ₹265   \n",
       "99            hipe   Mirrored, UV Protection Wayfarer Sunglasses (53)  ₹345   \n",
       "\n",
       "   Discoiunt%  \n",
       "0     73% off  \n",
       "1     60% off  \n",
       "2     15% off  \n",
       "3     36% off  \n",
       "4     35% off  \n",
       "..        ...  \n",
       "95    60% off  \n",
       "96    84% off  \n",
       "97     7% off  \n",
       "98    65% off  \n",
       "99    65% off  \n",
       "\n",
       "[100 rows x 4 columns]"
      ]
     },
     "execution_count": 566,
     "metadata": {},
     "output_type": "execute_result"
    }
   ],
   "source": [
    "sunglasses"
   ]
  },
  {
   "cell_type": "code",
   "execution_count": null,
   "id": "4a135453",
   "metadata": {},
   "outputs": [],
   "source": []
  },
  {
   "cell_type": "code",
   "execution_count": null,
   "id": "53335261",
   "metadata": {},
   "outputs": [],
   "source": []
  },
  {
   "cell_type": "code",
   "execution_count": null,
   "id": "96177674",
   "metadata": {},
   "outputs": [],
   "source": []
  },
  {
   "cell_type": "markdown",
   "id": "f33dc75d",
   "metadata": {},
   "source": [
    "# Q7: Scrape 100 reviews data from flipkart.com for iphone11 phone."
   ]
  },
  {
   "cell_type": "code",
   "execution_count": 572,
   "id": "7c89ea09",
   "metadata": {},
   "outputs": [],
   "source": [
    "#lets now import all required libraries \n",
    "import selenium\n",
    "import pandas as pd\n",
    "from selenium import webdriver"
   ]
  },
  {
   "cell_type": "code",
   "execution_count": 573,
   "id": "f34b3024",
   "metadata": {},
   "outputs": [],
   "source": [
    "#lets first connect to the webdriver\n",
    "driver = webdriver.Chrome('chromedriver.exe')"
   ]
  },
  {
   "cell_type": "code",
   "execution_count": 574,
   "id": "54a24b66",
   "metadata": {},
   "outputs": [],
   "source": [
    "url = 'https://www.flipkart.com/apple-iphone-11-black-64-gb-includes-earpods-power-adapter/p/itm0f37c2240b217?pid=MOBFKCTSVZAXUHGR&lid=LSTMOBFKCTSVZAXUHGREPBFGI&marketplace'\n",
    "driver.get(url)"
   ]
  },
  {
   "cell_type": "code",
   "execution_count": 577,
   "id": "4395d87d",
   "metadata": {},
   "outputs": [
    {
     "data": {
      "text/plain": [
       "[<selenium.webdriver.remote.webelement.WebElement (session=\"99c3df40b36da1e026b813cb93b8e83f\", element=\"9b61578e-6423-407a-aaa0-d015c912300d\")>,\n",
       " <selenium.webdriver.remote.webelement.WebElement (session=\"99c3df40b36da1e026b813cb93b8e83f\", element=\"9d0bd18e-ee66-43a9-87a3-5174e3f459e8\")>,\n",
       " <selenium.webdriver.remote.webelement.WebElement (session=\"99c3df40b36da1e026b813cb93b8e83f\", element=\"d638631e-6ee9-4424-ba8b-2f5047a616ce\")>,\n",
       " <selenium.webdriver.remote.webelement.WebElement (session=\"99c3df40b36da1e026b813cb93b8e83f\", element=\"2a7ba9cb-076f-4aba-9613-d209a99279cd\")>,\n",
       " <selenium.webdriver.remote.webelement.WebElement (session=\"99c3df40b36da1e026b813cb93b8e83f\", element=\"cd3cf49d-c62a-40e2-9299-4c6de2f5d85e\")>,\n",
       " <selenium.webdriver.remote.webelement.WebElement (session=\"99c3df40b36da1e026b813cb93b8e83f\", element=\"af749902-e3b4-40fd-9bb0-86794950f3c1\")>,\n",
       " <selenium.webdriver.remote.webelement.WebElement (session=\"99c3df40b36da1e026b813cb93b8e83f\", element=\"15ef98e9-2e2f-48c2-9e1f-fb1a91d40685\")>,\n",
       " <selenium.webdriver.remote.webelement.WebElement (session=\"99c3df40b36da1e026b813cb93b8e83f\", element=\"93739853-f192-4331-b9e2-a38e402bef35\")>,\n",
       " <selenium.webdriver.remote.webelement.WebElement (session=\"99c3df40b36da1e026b813cb93b8e83f\", element=\"ec2027c6-2f53-4aaa-843e-f285b05e7737\")>,\n",
       " <selenium.webdriver.remote.webelement.WebElement (session=\"99c3df40b36da1e026b813cb93b8e83f\", element=\"82e17311-258f-4926-823f-57c40d51b2b9\")>]"
      ]
     },
     "execution_count": 577,
     "metadata": {},
     "output_type": "execute_result"
    }
   ],
   "source": [
    "phone_search=driver.find_elements_by_xpath('//div[@class=\"_3LWZlK _1BLPMq\"]')\n",
    "phone_search"
   ]
  },
  {
   "cell_type": "code",
   "execution_count": 578,
   "id": "858be074",
   "metadata": {},
   "outputs": [
    {
     "data": {
      "text/plain": [
       "['5', '5', '5', '5', '5', '5', '5', '4', '5', '5']"
      ]
     },
     "execution_count": 578,
     "metadata": {},
     "output_type": "execute_result"
    }
   ],
   "source": [
    "rating = []\n",
    "for i in phone_search:\n",
    "    rating.append(i.text)\n",
    "rating"
   ]
  },
  {
   "cell_type": "code",
   "execution_count": 580,
   "id": "8567ec6c",
   "metadata": {},
   "outputs": [
    {
     "data": {
      "text/plain": [
       "['5',\n",
       " '5',\n",
       " '5',\n",
       " '5',\n",
       " '5',\n",
       " '5',\n",
       " '5',\n",
       " '4',\n",
       " '5',\n",
       " '5',\n",
       " '5',\n",
       " '5',\n",
       " '5',\n",
       " '5',\n",
       " '5',\n",
       " '5',\n",
       " '5',\n",
       " '5',\n",
       " '5',\n",
       " '5']"
      ]
     },
     "execution_count": 580,
     "metadata": {},
     "output_type": "execute_result"
    }
   ],
   "source": [
    "rating2 = driver.find_elements_by_xpath('//div[@class=\"_3LWZlK _1BLPMq\"]')\n",
    "for i in rating2:\n",
    "    rating.append(i.text)\n",
    "rating"
   ]
  },
  {
   "cell_type": "code",
   "execution_count": 581,
   "id": "18423796",
   "metadata": {},
   "outputs": [
    {
     "data": {
      "text/plain": [
       "['5',\n",
       " '5',\n",
       " '5',\n",
       " '5',\n",
       " '5',\n",
       " '5',\n",
       " '5',\n",
       " '4',\n",
       " '5',\n",
       " '5',\n",
       " '5',\n",
       " '5',\n",
       " '5',\n",
       " '5',\n",
       " '5',\n",
       " '5',\n",
       " '5',\n",
       " '5',\n",
       " '5',\n",
       " '5',\n",
       " '4',\n",
       " '5',\n",
       " '5',\n",
       " '5',\n",
       " '5',\n",
       " '4',\n",
       " '5',\n",
       " '5',\n",
       " '5',\n",
       " '5']"
      ]
     },
     "execution_count": 581,
     "metadata": {},
     "output_type": "execute_result"
    }
   ],
   "source": [
    "rating3 = driver.find_elements_by_xpath('//div[@class=\"_3LWZlK _1BLPMq\"]')\n",
    "for i in rating3:\n",
    "    rating.append(i.text)\n",
    "rating"
   ]
  },
  {
   "cell_type": "code",
   "execution_count": 582,
   "id": "15e19a9c",
   "metadata": {},
   "outputs": [
    {
     "data": {
      "text/plain": [
       "['5',\n",
       " '5',\n",
       " '5',\n",
       " '5',\n",
       " '5',\n",
       " '5',\n",
       " '5',\n",
       " '4',\n",
       " '5',\n",
       " '5',\n",
       " '5',\n",
       " '5',\n",
       " '5',\n",
       " '5',\n",
       " '5',\n",
       " '5',\n",
       " '5',\n",
       " '5',\n",
       " '5',\n",
       " '5',\n",
       " '4',\n",
       " '5',\n",
       " '5',\n",
       " '5',\n",
       " '5',\n",
       " '4',\n",
       " '5',\n",
       " '5',\n",
       " '5',\n",
       " '5',\n",
       " '5',\n",
       " '5',\n",
       " '5',\n",
       " '5',\n",
       " '4',\n",
       " '5',\n",
       " '5',\n",
       " '5',\n",
       " '5']"
      ]
     },
     "execution_count": 582,
     "metadata": {},
     "output_type": "execute_result"
    }
   ],
   "source": [
    "rating4 =  driver.find_elements_by_xpath('//div[@class=\"_3LWZlK _1BLPMq\"]')\n",
    "for i in rating4:\n",
    "    rating.append(i.text)\n",
    "rating"
   ]
  },
  {
   "cell_type": "code",
   "execution_count": 584,
   "id": "e18d9f51",
   "metadata": {},
   "outputs": [
    {
     "data": {
      "text/plain": [
       "['5',\n",
       " '5',\n",
       " '5',\n",
       " '5',\n",
       " '5',\n",
       " '5',\n",
       " '5',\n",
       " '4',\n",
       " '5',\n",
       " '5',\n",
       " '5',\n",
       " '5',\n",
       " '5',\n",
       " '5',\n",
       " '5',\n",
       " '5',\n",
       " '5',\n",
       " '5',\n",
       " '5',\n",
       " '5',\n",
       " '4',\n",
       " '5',\n",
       " '5',\n",
       " '5',\n",
       " '5',\n",
       " '4',\n",
       " '5',\n",
       " '5',\n",
       " '5',\n",
       " '5',\n",
       " '5',\n",
       " '5',\n",
       " '5',\n",
       " '5',\n",
       " '4',\n",
       " '5',\n",
       " '5',\n",
       " '5',\n",
       " '5',\n",
       " '5',\n",
       " '5',\n",
       " '5',\n",
       " '5',\n",
       " '4',\n",
       " '5',\n",
       " '5',\n",
       " '5',\n",
       " '5',\n",
       " '5']"
      ]
     },
     "execution_count": 584,
     "metadata": {},
     "output_type": "execute_result"
    }
   ],
   "source": [
    "rating5= driver.find_elements_by_xpath('//div[@class=\"_3LWZlK _1BLPMq\"]')\n",
    "for i in rating5:\n",
    "    rating.append(i.text)\n",
    "rating"
   ]
  },
  {
   "cell_type": "code",
   "execution_count": 585,
   "id": "271f71e4",
   "metadata": {},
   "outputs": [
    {
     "data": {
      "text/plain": [
       "['5',\n",
       " '5',\n",
       " '5',\n",
       " '5',\n",
       " '5',\n",
       " '5',\n",
       " '5',\n",
       " '4',\n",
       " '5',\n",
       " '5',\n",
       " '5',\n",
       " '5',\n",
       " '5',\n",
       " '5',\n",
       " '5',\n",
       " '5',\n",
       " '5',\n",
       " '5',\n",
       " '5',\n",
       " '5',\n",
       " '4',\n",
       " '5',\n",
       " '5',\n",
       " '5',\n",
       " '5',\n",
       " '4',\n",
       " '5',\n",
       " '5',\n",
       " '5',\n",
       " '5',\n",
       " '5',\n",
       " '5',\n",
       " '5',\n",
       " '5',\n",
       " '4',\n",
       " '5',\n",
       " '5',\n",
       " '5',\n",
       " '5',\n",
       " '5',\n",
       " '5',\n",
       " '5',\n",
       " '5',\n",
       " '4',\n",
       " '5',\n",
       " '5',\n",
       " '5',\n",
       " '5',\n",
       " '5',\n",
       " '5',\n",
       " '5',\n",
       " '5',\n",
       " '5',\n",
       " '5',\n",
       " '5',\n",
       " '5',\n",
       " '5',\n",
       " '5']"
      ]
     },
     "execution_count": 585,
     "metadata": {},
     "output_type": "execute_result"
    }
   ],
   "source": [
    "rating6 = rating5= driver.find_elements_by_xpath('//div[@class=\"_3LWZlK _1BLPMq\"]')\n",
    "for i in rating6:\n",
    "    rating.append(i.text)\n",
    "rating"
   ]
  },
  {
   "cell_type": "code",
   "execution_count": 586,
   "id": "6191ed5f",
   "metadata": {},
   "outputs": [
    {
     "data": {
      "text/plain": [
       "['5',\n",
       " '5',\n",
       " '5',\n",
       " '5',\n",
       " '5',\n",
       " '5',\n",
       " '5',\n",
       " '4',\n",
       " '5',\n",
       " '5',\n",
       " '5',\n",
       " '5',\n",
       " '5',\n",
       " '5',\n",
       " '5',\n",
       " '5',\n",
       " '5',\n",
       " '5',\n",
       " '5',\n",
       " '5',\n",
       " '4',\n",
       " '5',\n",
       " '5',\n",
       " '5',\n",
       " '5',\n",
       " '4',\n",
       " '5',\n",
       " '5',\n",
       " '5',\n",
       " '5',\n",
       " '5',\n",
       " '5',\n",
       " '5',\n",
       " '5',\n",
       " '4',\n",
       " '5',\n",
       " '5',\n",
       " '5',\n",
       " '5',\n",
       " '5',\n",
       " '5',\n",
       " '5',\n",
       " '5',\n",
       " '4',\n",
       " '5',\n",
       " '5',\n",
       " '5',\n",
       " '5',\n",
       " '5',\n",
       " '5',\n",
       " '5',\n",
       " '5',\n",
       " '5',\n",
       " '5',\n",
       " '5',\n",
       " '5',\n",
       " '5',\n",
       " '5',\n",
       " '5',\n",
       " '5',\n",
       " '5',\n",
       " '4',\n",
       " '5',\n",
       " '5',\n",
       " '4',\n",
       " '5',\n",
       " '4',\n",
       " '5']"
      ]
     },
     "execution_count": 586,
     "metadata": {},
     "output_type": "execute_result"
    }
   ],
   "source": [
    "rating7 = rating6 = rating5= driver.find_elements_by_xpath('//div[@class=\"_3LWZlK _1BLPMq\"]')\n",
    "for i in rating7:\n",
    "    rating.append(i.text)\n",
    "rating"
   ]
  },
  {
   "cell_type": "code",
   "execution_count": 587,
   "id": "69edaecd",
   "metadata": {},
   "outputs": [
    {
     "data": {
      "text/plain": [
       "['5',\n",
       " '5',\n",
       " '5',\n",
       " '5',\n",
       " '5',\n",
       " '5',\n",
       " '5',\n",
       " '4',\n",
       " '5',\n",
       " '5',\n",
       " '5',\n",
       " '5',\n",
       " '5',\n",
       " '5',\n",
       " '5',\n",
       " '5',\n",
       " '5',\n",
       " '5',\n",
       " '5',\n",
       " '5',\n",
       " '4',\n",
       " '5',\n",
       " '5',\n",
       " '5',\n",
       " '5',\n",
       " '4',\n",
       " '5',\n",
       " '5',\n",
       " '5',\n",
       " '5',\n",
       " '5',\n",
       " '5',\n",
       " '5',\n",
       " '5',\n",
       " '4',\n",
       " '5',\n",
       " '5',\n",
       " '5',\n",
       " '5',\n",
       " '5',\n",
       " '5',\n",
       " '5',\n",
       " '5',\n",
       " '4',\n",
       " '5',\n",
       " '5',\n",
       " '5',\n",
       " '5',\n",
       " '5',\n",
       " '5',\n",
       " '5',\n",
       " '5',\n",
       " '5',\n",
       " '5',\n",
       " '5',\n",
       " '5',\n",
       " '5',\n",
       " '5',\n",
       " '5',\n",
       " '5',\n",
       " '5',\n",
       " '4',\n",
       " '5',\n",
       " '5',\n",
       " '4',\n",
       " '5',\n",
       " '4',\n",
       " '5',\n",
       " '5',\n",
       " '5',\n",
       " '5',\n",
       " '5',\n",
       " '5',\n",
       " '5',\n",
       " '5',\n",
       " '5',\n",
       " '4',\n",
       " '5']"
      ]
     },
     "execution_count": 587,
     "metadata": {},
     "output_type": "execute_result"
    }
   ],
   "source": [
    "rating8 = rating7 = rating6 = rating5= driver.find_elements_by_xpath('//div[@class=\"_3LWZlK _1BLPMq\"]')\n",
    "for i in rating8:\n",
    "    rating.append(i.text)\n",
    "rating"
   ]
  },
  {
   "cell_type": "code",
   "execution_count": 588,
   "id": "fa5b7823",
   "metadata": {},
   "outputs": [
    {
     "data": {
      "text/plain": [
       "['5',\n",
       " '5',\n",
       " '5',\n",
       " '5',\n",
       " '5',\n",
       " '5',\n",
       " '5',\n",
       " '4',\n",
       " '5',\n",
       " '5',\n",
       " '5',\n",
       " '5',\n",
       " '5',\n",
       " '5',\n",
       " '5',\n",
       " '5',\n",
       " '5',\n",
       " '5',\n",
       " '5',\n",
       " '5',\n",
       " '4',\n",
       " '5',\n",
       " '5',\n",
       " '5',\n",
       " '5',\n",
       " '4',\n",
       " '5',\n",
       " '5',\n",
       " '5',\n",
       " '5',\n",
       " '5',\n",
       " '5',\n",
       " '5',\n",
       " '5',\n",
       " '4',\n",
       " '5',\n",
       " '5',\n",
       " '5',\n",
       " '5',\n",
       " '5',\n",
       " '5',\n",
       " '5',\n",
       " '5',\n",
       " '4',\n",
       " '5',\n",
       " '5',\n",
       " '5',\n",
       " '5',\n",
       " '5',\n",
       " '5',\n",
       " '5',\n",
       " '5',\n",
       " '5',\n",
       " '5',\n",
       " '5',\n",
       " '5',\n",
       " '5',\n",
       " '5',\n",
       " '5',\n",
       " '5',\n",
       " '5',\n",
       " '4',\n",
       " '5',\n",
       " '5',\n",
       " '4',\n",
       " '5',\n",
       " '4',\n",
       " '5',\n",
       " '5',\n",
       " '5',\n",
       " '5',\n",
       " '5',\n",
       " '5',\n",
       " '5',\n",
       " '5',\n",
       " '5',\n",
       " '4',\n",
       " '5',\n",
       " '5',\n",
       " '4',\n",
       " '5',\n",
       " '5',\n",
       " '5',\n",
       " '5',\n",
       " '3',\n",
       " '5',\n",
       " '5',\n",
       " '5']"
      ]
     },
     "execution_count": 588,
     "metadata": {},
     "output_type": "execute_result"
    }
   ],
   "source": [
    "rating9 = rating7 = rating6 = rating5= driver.find_elements_by_xpath('//div[@class=\"_3LWZlK _1BLPMq\"]')\n",
    "for i in rating9:\n",
    "    rating.append(i.text)\n",
    "rating"
   ]
  },
  {
   "cell_type": "code",
   "execution_count": 589,
   "id": "61250349",
   "metadata": {},
   "outputs": [
    {
     "data": {
      "text/plain": [
       "['5',\n",
       " '5',\n",
       " '5',\n",
       " '5',\n",
       " '5',\n",
       " '5',\n",
       " '5',\n",
       " '4',\n",
       " '5',\n",
       " '5',\n",
       " '5',\n",
       " '5',\n",
       " '5',\n",
       " '5',\n",
       " '5',\n",
       " '5',\n",
       " '5',\n",
       " '5',\n",
       " '5',\n",
       " '5',\n",
       " '4',\n",
       " '5',\n",
       " '5',\n",
       " '5',\n",
       " '5',\n",
       " '4',\n",
       " '5',\n",
       " '5',\n",
       " '5',\n",
       " '5',\n",
       " '5',\n",
       " '5',\n",
       " '5',\n",
       " '5',\n",
       " '4',\n",
       " '5',\n",
       " '5',\n",
       " '5',\n",
       " '5',\n",
       " '5',\n",
       " '5',\n",
       " '5',\n",
       " '5',\n",
       " '4',\n",
       " '5',\n",
       " '5',\n",
       " '5',\n",
       " '5',\n",
       " '5',\n",
       " '5',\n",
       " '5',\n",
       " '5',\n",
       " '5',\n",
       " '5',\n",
       " '5',\n",
       " '5',\n",
       " '5',\n",
       " '5',\n",
       " '5',\n",
       " '5',\n",
       " '5',\n",
       " '4',\n",
       " '5',\n",
       " '5',\n",
       " '4',\n",
       " '5',\n",
       " '4',\n",
       " '5',\n",
       " '5',\n",
       " '5',\n",
       " '5',\n",
       " '5',\n",
       " '5',\n",
       " '5',\n",
       " '5',\n",
       " '5',\n",
       " '4',\n",
       " '5',\n",
       " '5',\n",
       " '4',\n",
       " '5',\n",
       " '5',\n",
       " '5',\n",
       " '5',\n",
       " '3',\n",
       " '5',\n",
       " '5',\n",
       " '5',\n",
       " '5',\n",
       " '3',\n",
       " '5',\n",
       " '4',\n",
       " '5',\n",
       " '5',\n",
       " '5',\n",
       " '5',\n",
       " '5',\n",
       " '5']"
      ]
     },
     "execution_count": 589,
     "metadata": {},
     "output_type": "execute_result"
    }
   ],
   "source": [
    "rating10= driver.find_elements_by_xpath('//div[@class=\"_3LWZlK _1BLPMq\"]')\n",
    "for i in rating10:\n",
    "    rating.append(i.text)\n",
    "rating"
   ]
  },
  {
   "cell_type": "code",
   "execution_count": 592,
   "id": "2a055ba8",
   "metadata": {},
   "outputs": [
    {
     "data": {
      "text/plain": [
       "['5',\n",
       " '5',\n",
       " '5',\n",
       " '5',\n",
       " '5',\n",
       " '5',\n",
       " '5',\n",
       " '4',\n",
       " '5',\n",
       " '5',\n",
       " '5',\n",
       " '5',\n",
       " '5',\n",
       " '5',\n",
       " '5',\n",
       " '5',\n",
       " '5',\n",
       " '5',\n",
       " '5',\n",
       " '5',\n",
       " '4',\n",
       " '5',\n",
       " '5',\n",
       " '5',\n",
       " '5',\n",
       " '4',\n",
       " '5',\n",
       " '5',\n",
       " '5',\n",
       " '5',\n",
       " '5',\n",
       " '5',\n",
       " '5',\n",
       " '5',\n",
       " '4',\n",
       " '5',\n",
       " '5',\n",
       " '5',\n",
       " '5',\n",
       " '5',\n",
       " '5',\n",
       " '5',\n",
       " '5',\n",
       " '4',\n",
       " '5',\n",
       " '5',\n",
       " '5',\n",
       " '5',\n",
       " '5',\n",
       " '5',\n",
       " '5',\n",
       " '5',\n",
       " '5',\n",
       " '5',\n",
       " '5',\n",
       " '5',\n",
       " '5',\n",
       " '5',\n",
       " '5',\n",
       " '5',\n",
       " '5',\n",
       " '4',\n",
       " '5',\n",
       " '5',\n",
       " '4',\n",
       " '5',\n",
       " '4',\n",
       " '5',\n",
       " '5',\n",
       " '5',\n",
       " '5',\n",
       " '5',\n",
       " '5',\n",
       " '5',\n",
       " '5',\n",
       " '5',\n",
       " '4',\n",
       " '5',\n",
       " '5',\n",
       " '4',\n",
       " '5',\n",
       " '5',\n",
       " '5',\n",
       " '5',\n",
       " '3',\n",
       " '5',\n",
       " '5',\n",
       " '5',\n",
       " '5',\n",
       " '3',\n",
       " '5',\n",
       " '4',\n",
       " '5',\n",
       " '5',\n",
       " '5',\n",
       " '5',\n",
       " '5',\n",
       " '5',\n",
       " '4',\n",
       " '5',\n",
       " '4',\n",
       " '5',\n",
       " '5',\n",
       " '4',\n",
       " '5',\n",
       " '5',\n",
       " '5',\n",
       " '5']"
      ]
     },
     "execution_count": 592,
     "metadata": {},
     "output_type": "execute_result"
    }
   ],
   "source": [
    "rating11= driver.find_elements_by_xpath('//div[@class=\"_3LWZlK _1BLPMq\"]')\n",
    "for i in rating11:\n",
    "    rating.append(i.text)\n",
    "rating"
   ]
  },
  {
   "cell_type": "code",
   "execution_count": 593,
   "id": "5295120d",
   "metadata": {},
   "outputs": [
    {
     "data": {
      "text/plain": [
       "108"
      ]
     },
     "execution_count": 593,
     "metadata": {},
     "output_type": "execute_result"
    }
   ],
   "source": [
    "len(rating)"
   ]
  },
  {
   "cell_type": "code",
   "execution_count": 594,
   "id": "489c216f",
   "metadata": {},
   "outputs": [
    {
     "data": {
      "text/plain": [
       "[<selenium.webdriver.remote.webelement.WebElement (session=\"99c3df40b36da1e026b813cb93b8e83f\", element=\"5e113534-193f-47ec-9d31-6605d672b4c1\")>,\n",
       " <selenium.webdriver.remote.webelement.WebElement (session=\"99c3df40b36da1e026b813cb93b8e83f\", element=\"af223584-38af-435f-8af9-3297206cc75a\")>,\n",
       " <selenium.webdriver.remote.webelement.WebElement (session=\"99c3df40b36da1e026b813cb93b8e83f\", element=\"13b1bd9b-c8e5-4c61-9d6f-b21e0dc64f7a\")>,\n",
       " <selenium.webdriver.remote.webelement.WebElement (session=\"99c3df40b36da1e026b813cb93b8e83f\", element=\"05a4f0b2-a269-46eb-a6df-62efe9b9fb42\")>,\n",
       " <selenium.webdriver.remote.webelement.WebElement (session=\"99c3df40b36da1e026b813cb93b8e83f\", element=\"7a85de96-3d0b-4bb1-894b-7b8b514b38b5\")>,\n",
       " <selenium.webdriver.remote.webelement.WebElement (session=\"99c3df40b36da1e026b813cb93b8e83f\", element=\"2762366a-835c-4d7b-aa53-961044ee7ded\")>,\n",
       " <selenium.webdriver.remote.webelement.WebElement (session=\"99c3df40b36da1e026b813cb93b8e83f\", element=\"4330cbf7-7cb7-4fd5-b837-fa84e1115fc9\")>,\n",
       " <selenium.webdriver.remote.webelement.WebElement (session=\"99c3df40b36da1e026b813cb93b8e83f\", element=\"47b84304-8b18-4863-81fc-5b717edc9055\")>,\n",
       " <selenium.webdriver.remote.webelement.WebElement (session=\"99c3df40b36da1e026b813cb93b8e83f\", element=\"3a5f6f0e-f28f-40b7-8187-b861a35c2dad\")>,\n",
       " <selenium.webdriver.remote.webelement.WebElement (session=\"99c3df40b36da1e026b813cb93b8e83f\", element=\"0e3b2f69-85b2-46eb-b16e-d78fcc259ce4\")>]"
      ]
     },
     "execution_count": 594,
     "metadata": {},
     "output_type": "execute_result"
    }
   ],
   "source": [
    "review = driver.find_elements_by_xpath('//p[@class=\"_2-N8zT\"]')\n",
    "review"
   ]
  },
  {
   "cell_type": "code",
   "execution_count": 595,
   "id": "27f3512c",
   "metadata": {},
   "outputs": [
    {
     "data": {
      "text/plain": [
       "['Simply awesome',\n",
       " 'Brilliant',\n",
       " 'Fabulous!',\n",
       " 'Perfect product!',\n",
       " 'Worth every penny',\n",
       " 'Great product',\n",
       " 'Worth every penny',\n",
       " 'Good choice',\n",
       " 'Highly recommended',\n",
       " 'Perfect product!']"
      ]
     },
     "execution_count": 595,
     "metadata": {},
     "output_type": "execute_result"
    }
   ],
   "source": [
    "reviews = []\n",
    "for i in review:\n",
    "    reviews.append(i.text)\n",
    "reviews"
   ]
  },
  {
   "cell_type": "code",
   "execution_count": 596,
   "id": "cabae411",
   "metadata": {},
   "outputs": [
    {
     "data": {
      "text/plain": [
       "['Simply awesome',\n",
       " 'Brilliant',\n",
       " 'Fabulous!',\n",
       " 'Perfect product!',\n",
       " 'Worth every penny',\n",
       " 'Great product',\n",
       " 'Worth every penny',\n",
       " 'Good choice',\n",
       " 'Highly recommended',\n",
       " 'Perfect product!',\n",
       " 'Perfect product!',\n",
       " 'Best in the market!',\n",
       " 'Classy product',\n",
       " 'Highly recommended',\n",
       " 'Worth every penny',\n",
       " 'Perfect product!',\n",
       " 'Simply awesome',\n",
       " 'Highly recommended',\n",
       " 'Worth every penny',\n",
       " 'Terrific']"
      ]
     },
     "execution_count": 596,
     "metadata": {},
     "output_type": "execute_result"
    }
   ],
   "source": [
    "review2 = driver.find_elements_by_xpath('//p[@class=\"_2-N8zT\"]')\n",
    "for i in review2:\n",
    "    reviews.append(i.text)\n",
    "reviews"
   ]
  },
  {
   "cell_type": "code",
   "execution_count": 597,
   "id": "8e6f3d8d",
   "metadata": {},
   "outputs": [
    {
     "data": {
      "text/plain": [
       "['Simply awesome',\n",
       " 'Brilliant',\n",
       " 'Fabulous!',\n",
       " 'Perfect product!',\n",
       " 'Worth every penny',\n",
       " 'Great product',\n",
       " 'Worth every penny',\n",
       " 'Good choice',\n",
       " 'Highly recommended',\n",
       " 'Perfect product!',\n",
       " 'Perfect product!',\n",
       " 'Best in the market!',\n",
       " 'Classy product',\n",
       " 'Highly recommended',\n",
       " 'Worth every penny',\n",
       " 'Perfect product!',\n",
       " 'Simply awesome',\n",
       " 'Highly recommended',\n",
       " 'Worth every penny',\n",
       " 'Terrific',\n",
       " 'Nice product',\n",
       " 'Wonderful',\n",
       " 'Classy product',\n",
       " 'Brilliant',\n",
       " 'Must buy!',\n",
       " 'Good choice',\n",
       " 'Perfect product!',\n",
       " 'Terrific purchase',\n",
       " 'Wonderful',\n",
       " 'Great product']"
      ]
     },
     "execution_count": 597,
     "metadata": {},
     "output_type": "execute_result"
    }
   ],
   "source": [
    "review3 = driver.find_elements_by_xpath('//p[@class=\"_2-N8zT\"]')\n",
    "for i in review3:\n",
    "    reviews.append(i.text)\n",
    "reviews"
   ]
  },
  {
   "cell_type": "code",
   "execution_count": 598,
   "id": "b443c599",
   "metadata": {},
   "outputs": [
    {
     "data": {
      "text/plain": [
       "['Simply awesome',\n",
       " 'Brilliant',\n",
       " 'Fabulous!',\n",
       " 'Perfect product!',\n",
       " 'Worth every penny',\n",
       " 'Great product',\n",
       " 'Worth every penny',\n",
       " 'Good choice',\n",
       " 'Highly recommended',\n",
       " 'Perfect product!',\n",
       " 'Perfect product!',\n",
       " 'Best in the market!',\n",
       " 'Classy product',\n",
       " 'Highly recommended',\n",
       " 'Worth every penny',\n",
       " 'Perfect product!',\n",
       " 'Simply awesome',\n",
       " 'Highly recommended',\n",
       " 'Worth every penny',\n",
       " 'Terrific',\n",
       " 'Nice product',\n",
       " 'Wonderful',\n",
       " 'Classy product',\n",
       " 'Brilliant',\n",
       " 'Must buy!',\n",
       " 'Good choice',\n",
       " 'Perfect product!',\n",
       " 'Terrific purchase',\n",
       " 'Wonderful',\n",
       " 'Great product',\n",
       " 'Simply awesome',\n",
       " 'Mind-blowing purchase',\n",
       " 'Terrific purchase',\n",
       " 'Simply awesome',\n",
       " 'Good quality product',\n",
       " 'Very poor',\n",
       " 'Perfect product!',\n",
       " 'Must buy!',\n",
       " 'Fabulous!',\n",
       " 'Mind-blowing purchase']"
      ]
     },
     "execution_count": 598,
     "metadata": {},
     "output_type": "execute_result"
    }
   ],
   "source": [
    "review4 = driver.find_elements_by_xpath('//p[@class=\"_2-N8zT\"]')\n",
    "for i in review4:\n",
    "    reviews.append(i.text)\n",
    "reviews"
   ]
  },
  {
   "cell_type": "code",
   "execution_count": 599,
   "id": "e9c764f9",
   "metadata": {},
   "outputs": [
    {
     "data": {
      "text/plain": [
       "['Simply awesome',\n",
       " 'Brilliant',\n",
       " 'Fabulous!',\n",
       " 'Perfect product!',\n",
       " 'Worth every penny',\n",
       " 'Great product',\n",
       " 'Worth every penny',\n",
       " 'Good choice',\n",
       " 'Highly recommended',\n",
       " 'Perfect product!',\n",
       " 'Perfect product!',\n",
       " 'Best in the market!',\n",
       " 'Classy product',\n",
       " 'Highly recommended',\n",
       " 'Worth every penny',\n",
       " 'Perfect product!',\n",
       " 'Simply awesome',\n",
       " 'Highly recommended',\n",
       " 'Worth every penny',\n",
       " 'Terrific',\n",
       " 'Nice product',\n",
       " 'Wonderful',\n",
       " 'Classy product',\n",
       " 'Brilliant',\n",
       " 'Must buy!',\n",
       " 'Good choice',\n",
       " 'Perfect product!',\n",
       " 'Terrific purchase',\n",
       " 'Wonderful',\n",
       " 'Great product',\n",
       " 'Simply awesome',\n",
       " 'Mind-blowing purchase',\n",
       " 'Terrific purchase',\n",
       " 'Simply awesome',\n",
       " 'Good quality product',\n",
       " 'Very poor',\n",
       " 'Perfect product!',\n",
       " 'Must buy!',\n",
       " 'Fabulous!',\n",
       " 'Mind-blowing purchase',\n",
       " 'Mind-blowing purchase',\n",
       " 'Wonderful',\n",
       " 'Worth every penny',\n",
       " 'Great product',\n",
       " 'Very Good',\n",
       " 'Perfect product!',\n",
       " 'Classy product',\n",
       " 'Perfect product!',\n",
       " 'Just wow!',\n",
       " 'Awesome']"
      ]
     },
     "execution_count": 599,
     "metadata": {},
     "output_type": "execute_result"
    }
   ],
   "source": [
    "review5 = driver.find_elements_by_xpath('//p[@class=\"_2-N8zT\"]')\n",
    "for i in review5:\n",
    "    reviews.append(i.text)\n",
    "reviews"
   ]
  },
  {
   "cell_type": "code",
   "execution_count": 600,
   "id": "7414f6f8",
   "metadata": {},
   "outputs": [
    {
     "data": {
      "text/plain": [
       "['Simply awesome',\n",
       " 'Brilliant',\n",
       " 'Fabulous!',\n",
       " 'Perfect product!',\n",
       " 'Worth every penny',\n",
       " 'Great product',\n",
       " 'Worth every penny',\n",
       " 'Good choice',\n",
       " 'Highly recommended',\n",
       " 'Perfect product!',\n",
       " 'Perfect product!',\n",
       " 'Best in the market!',\n",
       " 'Classy product',\n",
       " 'Highly recommended',\n",
       " 'Worth every penny',\n",
       " 'Perfect product!',\n",
       " 'Simply awesome',\n",
       " 'Highly recommended',\n",
       " 'Worth every penny',\n",
       " 'Terrific',\n",
       " 'Nice product',\n",
       " 'Wonderful',\n",
       " 'Classy product',\n",
       " 'Brilliant',\n",
       " 'Must buy!',\n",
       " 'Good choice',\n",
       " 'Perfect product!',\n",
       " 'Terrific purchase',\n",
       " 'Wonderful',\n",
       " 'Great product',\n",
       " 'Simply awesome',\n",
       " 'Mind-blowing purchase',\n",
       " 'Terrific purchase',\n",
       " 'Simply awesome',\n",
       " 'Good quality product',\n",
       " 'Very poor',\n",
       " 'Perfect product!',\n",
       " 'Must buy!',\n",
       " 'Fabulous!',\n",
       " 'Mind-blowing purchase',\n",
       " 'Mind-blowing purchase',\n",
       " 'Wonderful',\n",
       " 'Worth every penny',\n",
       " 'Great product',\n",
       " 'Very Good',\n",
       " 'Perfect product!',\n",
       " 'Classy product',\n",
       " 'Perfect product!',\n",
       " 'Just wow!',\n",
       " 'Awesome',\n",
       " 'Terrific',\n",
       " 'Terrific purchase',\n",
       " 'Awesome',\n",
       " 'Classy product',\n",
       " 'Brilliant',\n",
       " 'Perfect product!',\n",
       " 'Awesome',\n",
       " 'Perfect product!',\n",
       " 'Excellent',\n",
       " 'Very poor']"
      ]
     },
     "execution_count": 600,
     "metadata": {},
     "output_type": "execute_result"
    }
   ],
   "source": [
    "review6 = driver.find_elements_by_xpath('//p[@class=\"_2-N8zT\"]')\n",
    "for i in review6:\n",
    "    reviews.append(i.text)\n",
    "reviews"
   ]
  },
  {
   "cell_type": "code",
   "execution_count": 601,
   "id": "efd2f7fc",
   "metadata": {},
   "outputs": [
    {
     "data": {
      "text/plain": [
       "['Simply awesome',\n",
       " 'Brilliant',\n",
       " 'Fabulous!',\n",
       " 'Perfect product!',\n",
       " 'Worth every penny',\n",
       " 'Great product',\n",
       " 'Worth every penny',\n",
       " 'Good choice',\n",
       " 'Highly recommended',\n",
       " 'Perfect product!',\n",
       " 'Perfect product!',\n",
       " 'Best in the market!',\n",
       " 'Classy product',\n",
       " 'Highly recommended',\n",
       " 'Worth every penny',\n",
       " 'Perfect product!',\n",
       " 'Simply awesome',\n",
       " 'Highly recommended',\n",
       " 'Worth every penny',\n",
       " 'Terrific',\n",
       " 'Nice product',\n",
       " 'Wonderful',\n",
       " 'Classy product',\n",
       " 'Brilliant',\n",
       " 'Must buy!',\n",
       " 'Good choice',\n",
       " 'Perfect product!',\n",
       " 'Terrific purchase',\n",
       " 'Wonderful',\n",
       " 'Great product',\n",
       " 'Simply awesome',\n",
       " 'Mind-blowing purchase',\n",
       " 'Terrific purchase',\n",
       " 'Simply awesome',\n",
       " 'Good quality product',\n",
       " 'Very poor',\n",
       " 'Perfect product!',\n",
       " 'Must buy!',\n",
       " 'Fabulous!',\n",
       " 'Mind-blowing purchase',\n",
       " 'Mind-blowing purchase',\n",
       " 'Wonderful',\n",
       " 'Worth every penny',\n",
       " 'Great product',\n",
       " 'Very Good',\n",
       " 'Perfect product!',\n",
       " 'Classy product',\n",
       " 'Perfect product!',\n",
       " 'Just wow!',\n",
       " 'Awesome',\n",
       " 'Terrific',\n",
       " 'Terrific purchase',\n",
       " 'Awesome',\n",
       " 'Classy product',\n",
       " 'Brilliant',\n",
       " 'Perfect product!',\n",
       " 'Awesome',\n",
       " 'Perfect product!',\n",
       " 'Excellent',\n",
       " 'Very poor',\n",
       " 'Fabulous!',\n",
       " 'Excellent',\n",
       " 'Must buy!',\n",
       " 'Value-for-money',\n",
       " 'Brilliant',\n",
       " 'Terrific purchase',\n",
       " 'Good quality product',\n",
       " 'Perfect product!',\n",
       " 'Value-for-money',\n",
       " 'Just wow!']"
      ]
     },
     "execution_count": 601,
     "metadata": {},
     "output_type": "execute_result"
    }
   ],
   "source": [
    "review7 = driver.find_elements_by_xpath('//p[@class=\"_2-N8zT\"]')\n",
    "for i in review7:\n",
    "    reviews.append(i.text)\n",
    "reviews"
   ]
  },
  {
   "cell_type": "code",
   "execution_count": 602,
   "id": "abf5d095",
   "metadata": {},
   "outputs": [
    {
     "data": {
      "text/plain": [
       "['Simply awesome',\n",
       " 'Brilliant',\n",
       " 'Fabulous!',\n",
       " 'Perfect product!',\n",
       " 'Worth every penny',\n",
       " 'Great product',\n",
       " 'Worth every penny',\n",
       " 'Good choice',\n",
       " 'Highly recommended',\n",
       " 'Perfect product!',\n",
       " 'Perfect product!',\n",
       " 'Best in the market!',\n",
       " 'Classy product',\n",
       " 'Highly recommended',\n",
       " 'Worth every penny',\n",
       " 'Perfect product!',\n",
       " 'Simply awesome',\n",
       " 'Highly recommended',\n",
       " 'Worth every penny',\n",
       " 'Terrific',\n",
       " 'Nice product',\n",
       " 'Wonderful',\n",
       " 'Classy product',\n",
       " 'Brilliant',\n",
       " 'Must buy!',\n",
       " 'Good choice',\n",
       " 'Perfect product!',\n",
       " 'Terrific purchase',\n",
       " 'Wonderful',\n",
       " 'Great product',\n",
       " 'Simply awesome',\n",
       " 'Mind-blowing purchase',\n",
       " 'Terrific purchase',\n",
       " 'Simply awesome',\n",
       " 'Good quality product',\n",
       " 'Very poor',\n",
       " 'Perfect product!',\n",
       " 'Must buy!',\n",
       " 'Fabulous!',\n",
       " 'Mind-blowing purchase',\n",
       " 'Mind-blowing purchase',\n",
       " 'Wonderful',\n",
       " 'Worth every penny',\n",
       " 'Great product',\n",
       " 'Very Good',\n",
       " 'Perfect product!',\n",
       " 'Classy product',\n",
       " 'Perfect product!',\n",
       " 'Just wow!',\n",
       " 'Awesome',\n",
       " 'Terrific',\n",
       " 'Terrific purchase',\n",
       " 'Awesome',\n",
       " 'Classy product',\n",
       " 'Brilliant',\n",
       " 'Perfect product!',\n",
       " 'Awesome',\n",
       " 'Perfect product!',\n",
       " 'Excellent',\n",
       " 'Very poor',\n",
       " 'Fabulous!',\n",
       " 'Excellent',\n",
       " 'Must buy!',\n",
       " 'Value-for-money',\n",
       " 'Brilliant',\n",
       " 'Terrific purchase',\n",
       " 'Good quality product',\n",
       " 'Perfect product!',\n",
       " 'Value-for-money',\n",
       " 'Just wow!',\n",
       " 'Super!',\n",
       " 'Best in the market!',\n",
       " 'Awesome',\n",
       " 'Highly recommended',\n",
       " 'Mind-blowing purchase',\n",
       " 'Must buy!',\n",
       " 'Excellent',\n",
       " 'Excellent',\n",
       " 'Pretty good',\n",
       " 'Worth every penny']"
      ]
     },
     "execution_count": 602,
     "metadata": {},
     "output_type": "execute_result"
    }
   ],
   "source": [
    "review8 = driver.find_elements_by_xpath('//p[@class=\"_2-N8zT\"]')\n",
    "for i in review8:\n",
    "    reviews.append(i.text)\n",
    "reviews"
   ]
  },
  {
   "cell_type": "code",
   "execution_count": 603,
   "id": "818b86ad",
   "metadata": {},
   "outputs": [
    {
     "data": {
      "text/plain": [
       "['Simply awesome',\n",
       " 'Brilliant',\n",
       " 'Fabulous!',\n",
       " 'Perfect product!',\n",
       " 'Worth every penny',\n",
       " 'Great product',\n",
       " 'Worth every penny',\n",
       " 'Good choice',\n",
       " 'Highly recommended',\n",
       " 'Perfect product!',\n",
       " 'Perfect product!',\n",
       " 'Best in the market!',\n",
       " 'Classy product',\n",
       " 'Highly recommended',\n",
       " 'Worth every penny',\n",
       " 'Perfect product!',\n",
       " 'Simply awesome',\n",
       " 'Highly recommended',\n",
       " 'Worth every penny',\n",
       " 'Terrific',\n",
       " 'Nice product',\n",
       " 'Wonderful',\n",
       " 'Classy product',\n",
       " 'Brilliant',\n",
       " 'Must buy!',\n",
       " 'Good choice',\n",
       " 'Perfect product!',\n",
       " 'Terrific purchase',\n",
       " 'Wonderful',\n",
       " 'Great product',\n",
       " 'Simply awesome',\n",
       " 'Mind-blowing purchase',\n",
       " 'Terrific purchase',\n",
       " 'Simply awesome',\n",
       " 'Good quality product',\n",
       " 'Very poor',\n",
       " 'Perfect product!',\n",
       " 'Must buy!',\n",
       " 'Fabulous!',\n",
       " 'Mind-blowing purchase',\n",
       " 'Mind-blowing purchase',\n",
       " 'Wonderful',\n",
       " 'Worth every penny',\n",
       " 'Great product',\n",
       " 'Very Good',\n",
       " 'Perfect product!',\n",
       " 'Classy product',\n",
       " 'Perfect product!',\n",
       " 'Just wow!',\n",
       " 'Awesome',\n",
       " 'Terrific',\n",
       " 'Terrific purchase',\n",
       " 'Awesome',\n",
       " 'Classy product',\n",
       " 'Brilliant',\n",
       " 'Perfect product!',\n",
       " 'Awesome',\n",
       " 'Perfect product!',\n",
       " 'Excellent',\n",
       " 'Very poor',\n",
       " 'Fabulous!',\n",
       " 'Excellent',\n",
       " 'Must buy!',\n",
       " 'Value-for-money',\n",
       " 'Brilliant',\n",
       " 'Terrific purchase',\n",
       " 'Good quality product',\n",
       " 'Perfect product!',\n",
       " 'Value-for-money',\n",
       " 'Just wow!',\n",
       " 'Super!',\n",
       " 'Best in the market!',\n",
       " 'Awesome',\n",
       " 'Highly recommended',\n",
       " 'Mind-blowing purchase',\n",
       " 'Must buy!',\n",
       " 'Excellent',\n",
       " 'Excellent',\n",
       " 'Pretty good',\n",
       " 'Worth every penny',\n",
       " 'Worth every penny',\n",
       " 'Nice product',\n",
       " 'Mind-blowing purchase',\n",
       " 'Fabulous!',\n",
       " 'Classy product',\n",
       " 'Wonderful',\n",
       " 'Does the job',\n",
       " 'Awesome',\n",
       " 'Terrific',\n",
       " 'Terrific purchase']"
      ]
     },
     "execution_count": 603,
     "metadata": {},
     "output_type": "execute_result"
    }
   ],
   "source": [
    "review9= driver.find_elements_by_xpath('//p[@class=\"_2-N8zT\"]')\n",
    "for i in review9:\n",
    "    reviews.append(i.text)\n",
    "reviews"
   ]
  },
  {
   "cell_type": "code",
   "execution_count": 604,
   "id": "3bf2e7d7",
   "metadata": {},
   "outputs": [
    {
     "data": {
      "text/plain": [
       "['Simply awesome',\n",
       " 'Brilliant',\n",
       " 'Fabulous!',\n",
       " 'Perfect product!',\n",
       " 'Worth every penny',\n",
       " 'Great product',\n",
       " 'Worth every penny',\n",
       " 'Good choice',\n",
       " 'Highly recommended',\n",
       " 'Perfect product!',\n",
       " 'Perfect product!',\n",
       " 'Best in the market!',\n",
       " 'Classy product',\n",
       " 'Highly recommended',\n",
       " 'Worth every penny',\n",
       " 'Perfect product!',\n",
       " 'Simply awesome',\n",
       " 'Highly recommended',\n",
       " 'Worth every penny',\n",
       " 'Terrific',\n",
       " 'Nice product',\n",
       " 'Wonderful',\n",
       " 'Classy product',\n",
       " 'Brilliant',\n",
       " 'Must buy!',\n",
       " 'Good choice',\n",
       " 'Perfect product!',\n",
       " 'Terrific purchase',\n",
       " 'Wonderful',\n",
       " 'Great product',\n",
       " 'Simply awesome',\n",
       " 'Mind-blowing purchase',\n",
       " 'Terrific purchase',\n",
       " 'Simply awesome',\n",
       " 'Good quality product',\n",
       " 'Very poor',\n",
       " 'Perfect product!',\n",
       " 'Must buy!',\n",
       " 'Fabulous!',\n",
       " 'Mind-blowing purchase',\n",
       " 'Mind-blowing purchase',\n",
       " 'Wonderful',\n",
       " 'Worth every penny',\n",
       " 'Great product',\n",
       " 'Very Good',\n",
       " 'Perfect product!',\n",
       " 'Classy product',\n",
       " 'Perfect product!',\n",
       " 'Just wow!',\n",
       " 'Awesome',\n",
       " 'Terrific',\n",
       " 'Terrific purchase',\n",
       " 'Awesome',\n",
       " 'Classy product',\n",
       " 'Brilliant',\n",
       " 'Perfect product!',\n",
       " 'Awesome',\n",
       " 'Perfect product!',\n",
       " 'Excellent',\n",
       " 'Very poor',\n",
       " 'Fabulous!',\n",
       " 'Excellent',\n",
       " 'Must buy!',\n",
       " 'Value-for-money',\n",
       " 'Brilliant',\n",
       " 'Terrific purchase',\n",
       " 'Good quality product',\n",
       " 'Perfect product!',\n",
       " 'Value-for-money',\n",
       " 'Just wow!',\n",
       " 'Super!',\n",
       " 'Best in the market!',\n",
       " 'Awesome',\n",
       " 'Highly recommended',\n",
       " 'Mind-blowing purchase',\n",
       " 'Must buy!',\n",
       " 'Excellent',\n",
       " 'Excellent',\n",
       " 'Pretty good',\n",
       " 'Worth every penny',\n",
       " 'Worth every penny',\n",
       " 'Nice product',\n",
       " 'Mind-blowing purchase',\n",
       " 'Fabulous!',\n",
       " 'Classy product',\n",
       " 'Wonderful',\n",
       " 'Does the job',\n",
       " 'Awesome',\n",
       " 'Terrific',\n",
       " 'Terrific purchase',\n",
       " 'Awesome',\n",
       " 'Decent product',\n",
       " 'Super!',\n",
       " 'Pretty good',\n",
       " 'Just wow!',\n",
       " 'Mind-blowing purchase',\n",
       " 'Excellent',\n",
       " 'Fabulous!',\n",
       " 'Excellent',\n",
       " 'Wonderful']"
      ]
     },
     "execution_count": 604,
     "metadata": {},
     "output_type": "execute_result"
    }
   ],
   "source": [
    "review10 = driver.find_elements_by_xpath('//p[@class=\"_2-N8zT\"]')\n",
    "for i in review10:\n",
    "    reviews.append(i.text)\n",
    "reviews"
   ]
  },
  {
   "cell_type": "code",
   "execution_count": 605,
   "id": "d112dbc6",
   "metadata": {},
   "outputs": [
    {
     "data": {
      "text/plain": [
       "['Simply awesome',\n",
       " 'Brilliant',\n",
       " 'Fabulous!',\n",
       " 'Perfect product!',\n",
       " 'Worth every penny',\n",
       " 'Great product',\n",
       " 'Worth every penny',\n",
       " 'Good choice',\n",
       " 'Highly recommended',\n",
       " 'Perfect product!',\n",
       " 'Perfect product!',\n",
       " 'Best in the market!',\n",
       " 'Classy product',\n",
       " 'Highly recommended',\n",
       " 'Worth every penny',\n",
       " 'Perfect product!',\n",
       " 'Simply awesome',\n",
       " 'Highly recommended',\n",
       " 'Worth every penny',\n",
       " 'Terrific',\n",
       " 'Nice product',\n",
       " 'Wonderful',\n",
       " 'Classy product',\n",
       " 'Brilliant',\n",
       " 'Must buy!',\n",
       " 'Good choice',\n",
       " 'Perfect product!',\n",
       " 'Terrific purchase',\n",
       " 'Wonderful',\n",
       " 'Great product',\n",
       " 'Simply awesome',\n",
       " 'Mind-blowing purchase',\n",
       " 'Terrific purchase',\n",
       " 'Simply awesome',\n",
       " 'Good quality product',\n",
       " 'Very poor',\n",
       " 'Perfect product!',\n",
       " 'Must buy!',\n",
       " 'Fabulous!',\n",
       " 'Mind-blowing purchase',\n",
       " 'Mind-blowing purchase',\n",
       " 'Wonderful',\n",
       " 'Worth every penny',\n",
       " 'Great product',\n",
       " 'Very Good',\n",
       " 'Perfect product!',\n",
       " 'Classy product',\n",
       " 'Perfect product!',\n",
       " 'Just wow!',\n",
       " 'Awesome',\n",
       " 'Terrific',\n",
       " 'Terrific purchase',\n",
       " 'Awesome',\n",
       " 'Classy product',\n",
       " 'Brilliant',\n",
       " 'Perfect product!',\n",
       " 'Awesome',\n",
       " 'Perfect product!',\n",
       " 'Excellent',\n",
       " 'Very poor',\n",
       " 'Fabulous!',\n",
       " 'Excellent',\n",
       " 'Must buy!',\n",
       " 'Value-for-money',\n",
       " 'Brilliant',\n",
       " 'Terrific purchase',\n",
       " 'Good quality product',\n",
       " 'Perfect product!',\n",
       " 'Value-for-money',\n",
       " 'Just wow!',\n",
       " 'Super!',\n",
       " 'Best in the market!',\n",
       " 'Awesome',\n",
       " 'Highly recommended',\n",
       " 'Mind-blowing purchase',\n",
       " 'Must buy!',\n",
       " 'Excellent',\n",
       " 'Excellent',\n",
       " 'Pretty good',\n",
       " 'Worth every penny',\n",
       " 'Worth every penny',\n",
       " 'Nice product',\n",
       " 'Mind-blowing purchase',\n",
       " 'Fabulous!',\n",
       " 'Classy product',\n",
       " 'Wonderful',\n",
       " 'Does the job',\n",
       " 'Awesome',\n",
       " 'Terrific',\n",
       " 'Terrific purchase',\n",
       " 'Awesome',\n",
       " 'Decent product',\n",
       " 'Super!',\n",
       " 'Pretty good',\n",
       " 'Just wow!',\n",
       " 'Mind-blowing purchase',\n",
       " 'Excellent',\n",
       " 'Fabulous!',\n",
       " 'Excellent',\n",
       " 'Wonderful',\n",
       " 'Wonderful',\n",
       " 'Mind-blowing purchase',\n",
       " 'Good quality product',\n",
       " 'Super!',\n",
       " 'Super!',\n",
       " 'Good quality product',\n",
       " 'Excellent',\n",
       " 'Mind-blowing purchase',\n",
       " 'Worth every penny',\n",
       " 'Mind-blowing purchase']"
      ]
     },
     "execution_count": 605,
     "metadata": {},
     "output_type": "execute_result"
    }
   ],
   "source": [
    "review11= driver.find_elements_by_xpath('//p[@class=\"_2-N8zT\"]')\n",
    "for i in review11:\n",
    "    reviews.append(i.text)\n",
    "reviews"
   ]
  },
  {
   "cell_type": "code",
   "execution_count": 607,
   "id": "f0c1acd1",
   "metadata": {},
   "outputs": [
    {
     "data": {
      "text/plain": [
       "[<selenium.webdriver.remote.webelement.WebElement (session=\"99c3df40b36da1e026b813cb93b8e83f\", element=\"c3863dd1-4aa1-40d8-9c2d-0c0c440a2a4c\")>,\n",
       " <selenium.webdriver.remote.webelement.WebElement (session=\"99c3df40b36da1e026b813cb93b8e83f\", element=\"6dbde1f6-a702-40bb-a70f-bb0dcbec5867\")>,\n",
       " <selenium.webdriver.remote.webelement.WebElement (session=\"99c3df40b36da1e026b813cb93b8e83f\", element=\"a15dba49-a12e-4373-8670-9b24753317a7\")>,\n",
       " <selenium.webdriver.remote.webelement.WebElement (session=\"99c3df40b36da1e026b813cb93b8e83f\", element=\"da62bfbd-cef9-4639-a591-50aee8956c01\")>,\n",
       " <selenium.webdriver.remote.webelement.WebElement (session=\"99c3df40b36da1e026b813cb93b8e83f\", element=\"732f49ab-9f05-4ca1-9a3a-f83afcd5c270\")>,\n",
       " <selenium.webdriver.remote.webelement.WebElement (session=\"99c3df40b36da1e026b813cb93b8e83f\", element=\"76c44c46-64ba-4862-9a4d-7117f31e53b6\")>,\n",
       " <selenium.webdriver.remote.webelement.WebElement (session=\"99c3df40b36da1e026b813cb93b8e83f\", element=\"3af2ab4d-f383-4738-b2aa-b553ea22ffca\")>,\n",
       " <selenium.webdriver.remote.webelement.WebElement (session=\"99c3df40b36da1e026b813cb93b8e83f\", element=\"b016fe19-0c57-47da-8f67-f72731182cdc\")>,\n",
       " <selenium.webdriver.remote.webelement.WebElement (session=\"99c3df40b36da1e026b813cb93b8e83f\", element=\"8b4abec9-1c5d-46a4-ac51-0c2f0549607a\")>,\n",
       " <selenium.webdriver.remote.webelement.WebElement (session=\"99c3df40b36da1e026b813cb93b8e83f\", element=\"49c16e7a-b46e-411f-8c80-4b62da69bfb5\")>]"
      ]
     },
     "execution_count": 607,
     "metadata": {},
     "output_type": "execute_result"
    }
   ],
   "source": [
    "full_rev= driver.find_elements_by_xpath('//div[@class=\"t-ZTKy\"]')\n",
    "full_rev"
   ]
  },
  {
   "cell_type": "code",
   "execution_count": 609,
   "id": "bc49ce0c",
   "metadata": {},
   "outputs": [
    {
     "data": {
      "text/plain": [
       "['Really satisfied with the Product I received... It’s totally genuine and the packaging was also really good so if ur planning to buy just go for it.',\n",
       " 'The Best Phone for the Money\\n\\nThe iPhone 11 offers superb cameras, a more durable design and excellent battery life for an affordable price.\\n\\nCompelling ultra-wide camera\\nNew Night mode is excellent\\nLong battery life',\n",
       " 'This is my first iOS phone. I am very happy with this product. Very much satisfied with this. I love this phone.',\n",
       " 'Amazing phone with great cameras and better battery which gives you the best performance. I just love the camera .',\n",
       " 'Previously I was using one plus 3t it was a great phone\\nAnd then I decided to upgrade I am stuck between Samsung s10 plus or iPhone 11\\nI have seen the specs and everything were good except the display it’s somewhere between 720-1080 and it’s not even an amoled it’s an LCD display\\nBut I decided to go with iPhone because I have never used an IOS device I have Been an android user from the past 9 years I ordered IPhone 11 (128gb) product red\\nMy experience after using 3 weeks\\n1. The delivery ...\\nREAD MORE',\n",
       " 'Amazing Powerful and Durable Gadget.\\n\\nI’m am very happy with the camera picture quality, Amazing face id unlocked in dark room, Strong battery with perfect screen size as you can carry easily in pocket. This is my third iPhone.\\n\\nI shifted from android Samsung Note series to iPhone because of the strong build quality and peace of mind for next 3-4 years.\\n\\nDon’t think to much just go for it and I suggest you to go for minimum 128gb variant or more 256gb.\\n\\nI’ve attached my puppy pics and no fi...\\nREAD MORE',\n",
       " 'i11 is worthy to buy, too much happy with the product. Thank u flipkart I received the item on time..loved it..',\n",
       " 'So far it’s been an AMAZING experience coming back to iOS after nearly a decade but it’s not as versatile as android though phone is sturdy dropped it accidentally a couple of times and nothing happened fortunately camera is awesome',\n",
       " 'iphone 11 is a very good phone to buy only if you can compromise for the display. The display on this is device is pretty good but you can get other options with better displays in this price segment.\\nIf you can survive with an HD+ LCD panel with thicker bezels and a notch up top then this is a very good phone for you.\\nCameras are awesome, battery backup excellent, great performance and a decent premium look. Good job Apple !',\n",
       " 'It’s a must buy who is looking for an upgrade from previous generation of iPhones. If you are using XR then still you can hold on for sometime and upgrade to 2020 model else this phone is a must buy . Camera quality is amazing and wide angle is something to count upon. Performance wise it’s amazing and feels premium while holding in hand. So a big YES for this device. Go for 128 GB variant as the 4K videos will occupy lots of space and the storage can get over very quickly. Try to buy it with...\\nREAD MORE']"
      ]
     },
     "execution_count": 609,
     "metadata": {},
     "output_type": "execute_result"
    }
   ],
   "source": [
    "f_review = []\n",
    "for i in full_rev:\n",
    "    f_review.append(i.text)\n",
    "f_review"
   ]
  },
  {
   "cell_type": "code",
   "execution_count": 610,
   "id": "92f66530",
   "metadata": {},
   "outputs": [
    {
     "data": {
      "text/plain": [
       "['Really satisfied with the Product I received... It’s totally genuine and the packaging was also really good so if ur planning to buy just go for it.',\n",
       " 'The Best Phone for the Money\\n\\nThe iPhone 11 offers superb cameras, a more durable design and excellent battery life for an affordable price.\\n\\nCompelling ultra-wide camera\\nNew Night mode is excellent\\nLong battery life',\n",
       " 'This is my first iOS phone. I am very happy with this product. Very much satisfied with this. I love this phone.',\n",
       " 'Amazing phone with great cameras and better battery which gives you the best performance. I just love the camera .',\n",
       " 'Previously I was using one plus 3t it was a great phone\\nAnd then I decided to upgrade I am stuck between Samsung s10 plus or iPhone 11\\nI have seen the specs and everything were good except the display it’s somewhere between 720-1080 and it’s not even an amoled it’s an LCD display\\nBut I decided to go with iPhone because I have never used an IOS device I have Been an android user from the past 9 years I ordered IPhone 11 (128gb) product red\\nMy experience after using 3 weeks\\n1. The delivery ...\\nREAD MORE',\n",
       " 'Amazing Powerful and Durable Gadget.\\n\\nI’m am very happy with the camera picture quality, Amazing face id unlocked in dark room, Strong battery with perfect screen size as you can carry easily in pocket. This is my third iPhone.\\n\\nI shifted from android Samsung Note series to iPhone because of the strong build quality and peace of mind for next 3-4 years.\\n\\nDon’t think to much just go for it and I suggest you to go for minimum 128gb variant or more 256gb.\\n\\nI’ve attached my puppy pics and no fi...\\nREAD MORE',\n",
       " 'i11 is worthy to buy, too much happy with the product. Thank u flipkart I received the item on time..loved it..',\n",
       " 'So far it’s been an AMAZING experience coming back to iOS after nearly a decade but it’s not as versatile as android though phone is sturdy dropped it accidentally a couple of times and nothing happened fortunately camera is awesome',\n",
       " 'iphone 11 is a very good phone to buy only if you can compromise for the display. The display on this is device is pretty good but you can get other options with better displays in this price segment.\\nIf you can survive with an HD+ LCD panel with thicker bezels and a notch up top then this is a very good phone for you.\\nCameras are awesome, battery backup excellent, great performance and a decent premium look. Good job Apple !',\n",
       " 'It’s a must buy who is looking for an upgrade from previous generation of iPhones. If you are using XR then still you can hold on for sometime and upgrade to 2020 model else this phone is a must buy . Camera quality is amazing and wide angle is something to count upon. Performance wise it’s amazing and feels premium while holding in hand. So a big YES for this device. Go for 128 GB variant as the 4K videos will occupy lots of space and the storage can get over very quickly. Try to buy it with...\\nREAD MORE',\n",
       " 'Value for money❤️❤️\\nIts awesome mobile phone in the world ...\\nDisplay was very good and bright ..\\nTrust me freinds you r never regret after Buying..\\nJust go for it....\\nI love this phone and i switch to iphone x to 11',\n",
       " 'Great iPhone very snappy experience as apple kind. Upgraded from iPhone 7.\\nPros\\n-Camera top class\\n- Battery top performed\\n-Chipset no need to say as apple kind\\n-Security as you expect from apple\\n- Display super bright industry leading colour\\naccuracy and super responsive\\n-Build quality as expect from apple sturdy\\npremium durable beautiful stylish.\\n-Os most stable os in smartphone industry\\n\\nCons\\n-No 5G\\n-Display is not based on OLED technology\\n-Charger headphones and 1 apple stic...\\nREAD MORE',\n",
       " 'Totally in love with this ❤ the camera quality is amazing just love it 😘😘😘 itsss dammnnnnnn amazing... Must buy iPhone 11 this is my best experience ever ☀👌👌🧡🧡🧡🧡🧡 thanku apple ❤',\n",
       " 'What a camera .....just awesome ..you can feel this iPhone just awesome . Good for gaming also ...try pubg in hd it’s just wow',\n",
       " 'Best budget Iphone till date ❤️ go for it guys without second thought. Let me explain you guys about Camera, Display, battery, and performance.\\n\\nCamera: at this price range there is no comparison of camera, you’ll love the picture quality as well as video quality. I am a Vlogger I wanted an iPhone with 4k video by front camera and I got this phone and I am more than happy 😃\\n\\nBattery: I use this phone roughly as I am active social media person and I have a youtube channel. so the battery ba...\\nREAD MORE',\n",
       " \"Iphone is just awesome.. battery backup is very very nice.. continuously for 10 hours we can use it.camera is just awesome.. display is just fab.i love it alot..i had to wait 15 days for it as i pre ordered it..overalll it's worth the price..these all images are clicked by my iPhone..and i love it.\",\n",
       " 'Excellent camera, good performance, no lag. The lcd display is also good.. but difference come when we watch movie in prime and Netflix, the colours are not vibrant.. as we see in amoled display.. and the charger in box is of 5 watts.. takes more than 3 hours to charge from 0 to 100.. so guys be prepare to buy 18 watts charger . Finally I am an android user, it was my first Iapple phone, I promise u guys the iOS is so smooth.. overall the phone is damn good.... close eyes to buy it.. thanks t...\\nREAD MORE',\n",
       " \"It's my first time to use iOS phone and I am loving my upgradation 😍😍 I love the color, I love the assebility of the phone....I need to learn more about its functionality, but as far as I have seen, it's quite easy and it has a lot of functions to work on, specially if you are a content writer or a blogger you get a lot of content creation platforms and they are really amazing.\\n\\nThis phone not only for good quality photography but a lot of other task too.😍💯\",\n",
       " 'It’s been almost a month since I have been using this phone. I upgraded from an iPhone 8. The main issue with my 8 was battery and this phone is just awesome when it comes to battery. It lasts a day and a half for me with my regular use , internet connected always with 4g\\nCan’t move forward without saying this. Battery of this phone is a life saver when I am traveling or at work when I don’t get the option to charge\\nCamera is superb. Front cam selfies and back cam photos are just awesome.\\n...\\nREAD MORE',\n",
       " 'Really worth of money. i just love it. It is the best phone ever.']"
      ]
     },
     "execution_count": 610,
     "metadata": {},
     "output_type": "execute_result"
    }
   ],
   "source": [
    "f_rev2 = driver.find_elements_by_xpath('//div[@class=\"t-ZTKy\"]')\n",
    "for i in f_rev2:\n",
    "    f_review.append(i.text)\n",
    "f_review"
   ]
  },
  {
   "cell_type": "code",
   "execution_count": 611,
   "id": "d6c73e1e",
   "metadata": {},
   "outputs": [
    {
     "data": {
      "text/plain": [
       "['Really satisfied with the Product I received... It’s totally genuine and the packaging was also really good so if ur planning to buy just go for it.',\n",
       " 'The Best Phone for the Money\\n\\nThe iPhone 11 offers superb cameras, a more durable design and excellent battery life for an affordable price.\\n\\nCompelling ultra-wide camera\\nNew Night mode is excellent\\nLong battery life',\n",
       " 'This is my first iOS phone. I am very happy with this product. Very much satisfied with this. I love this phone.',\n",
       " 'Amazing phone with great cameras and better battery which gives you the best performance. I just love the camera .',\n",
       " 'Previously I was using one plus 3t it was a great phone\\nAnd then I decided to upgrade I am stuck between Samsung s10 plus or iPhone 11\\nI have seen the specs and everything were good except the display it’s somewhere between 720-1080 and it’s not even an amoled it’s an LCD display\\nBut I decided to go with iPhone because I have never used an IOS device I have Been an android user from the past 9 years I ordered IPhone 11 (128gb) product red\\nMy experience after using 3 weeks\\n1. The delivery ...\\nREAD MORE',\n",
       " 'Amazing Powerful and Durable Gadget.\\n\\nI’m am very happy with the camera picture quality, Amazing face id unlocked in dark room, Strong battery with perfect screen size as you can carry easily in pocket. This is my third iPhone.\\n\\nI shifted from android Samsung Note series to iPhone because of the strong build quality and peace of mind for next 3-4 years.\\n\\nDon’t think to much just go for it and I suggest you to go for minimum 128gb variant or more 256gb.\\n\\nI’ve attached my puppy pics and no fi...\\nREAD MORE',\n",
       " 'i11 is worthy to buy, too much happy with the product. Thank u flipkart I received the item on time..loved it..',\n",
       " 'So far it’s been an AMAZING experience coming back to iOS after nearly a decade but it’s not as versatile as android though phone is sturdy dropped it accidentally a couple of times and nothing happened fortunately camera is awesome',\n",
       " 'iphone 11 is a very good phone to buy only if you can compromise for the display. The display on this is device is pretty good but you can get other options with better displays in this price segment.\\nIf you can survive with an HD+ LCD panel with thicker bezels and a notch up top then this is a very good phone for you.\\nCameras are awesome, battery backup excellent, great performance and a decent premium look. Good job Apple !',\n",
       " 'It’s a must buy who is looking for an upgrade from previous generation of iPhones. If you are using XR then still you can hold on for sometime and upgrade to 2020 model else this phone is a must buy . Camera quality is amazing and wide angle is something to count upon. Performance wise it’s amazing and feels premium while holding in hand. So a big YES for this device. Go for 128 GB variant as the 4K videos will occupy lots of space and the storage can get over very quickly. Try to buy it with...\\nREAD MORE',\n",
       " 'Value for money❤️❤️\\nIts awesome mobile phone in the world ...\\nDisplay was very good and bright ..\\nTrust me freinds you r never regret after Buying..\\nJust go for it....\\nI love this phone and i switch to iphone x to 11',\n",
       " 'Great iPhone very snappy experience as apple kind. Upgraded from iPhone 7.\\nPros\\n-Camera top class\\n- Battery top performed\\n-Chipset no need to say as apple kind\\n-Security as you expect from apple\\n- Display super bright industry leading colour\\naccuracy and super responsive\\n-Build quality as expect from apple sturdy\\npremium durable beautiful stylish.\\n-Os most stable os in smartphone industry\\n\\nCons\\n-No 5G\\n-Display is not based on OLED technology\\n-Charger headphones and 1 apple stic...\\nREAD MORE',\n",
       " 'Totally in love with this ❤ the camera quality is amazing just love it 😘😘😘 itsss dammnnnnnn amazing... Must buy iPhone 11 this is my best experience ever ☀👌👌🧡🧡🧡🧡🧡 thanku apple ❤',\n",
       " 'What a camera .....just awesome ..you can feel this iPhone just awesome . Good for gaming also ...try pubg in hd it’s just wow',\n",
       " 'Best budget Iphone till date ❤️ go for it guys without second thought. Let me explain you guys about Camera, Display, battery, and performance.\\n\\nCamera: at this price range there is no comparison of camera, you’ll love the picture quality as well as video quality. I am a Vlogger I wanted an iPhone with 4k video by front camera and I got this phone and I am more than happy 😃\\n\\nBattery: I use this phone roughly as I am active social media person and I have a youtube channel. so the battery ba...\\nREAD MORE',\n",
       " \"Iphone is just awesome.. battery backup is very very nice.. continuously for 10 hours we can use it.camera is just awesome.. display is just fab.i love it alot..i had to wait 15 days for it as i pre ordered it..overalll it's worth the price..these all images are clicked by my iPhone..and i love it.\",\n",
       " 'Excellent camera, good performance, no lag. The lcd display is also good.. but difference come when we watch movie in prime and Netflix, the colours are not vibrant.. as we see in amoled display.. and the charger in box is of 5 watts.. takes more than 3 hours to charge from 0 to 100.. so guys be prepare to buy 18 watts charger . Finally I am an android user, it was my first Iapple phone, I promise u guys the iOS is so smooth.. overall the phone is damn good.... close eyes to buy it.. thanks t...\\nREAD MORE',\n",
       " \"It's my first time to use iOS phone and I am loving my upgradation 😍😍 I love the color, I love the assebility of the phone....I need to learn more about its functionality, but as far as I have seen, it's quite easy and it has a lot of functions to work on, specially if you are a content writer or a blogger you get a lot of content creation platforms and they are really amazing.\\n\\nThis phone not only for good quality photography but a lot of other task too.😍💯\",\n",
       " 'It’s been almost a month since I have been using this phone. I upgraded from an iPhone 8. The main issue with my 8 was battery and this phone is just awesome when it comes to battery. It lasts a day and a half for me with my regular use , internet connected always with 4g\\nCan’t move forward without saying this. Battery of this phone is a life saver when I am traveling or at work when I don’t get the option to charge\\nCamera is superb. Front cam selfies and back cam photos are just awesome.\\n...\\nREAD MORE',\n",
       " 'Really worth of money. i just love it. It is the best phone ever.',\n",
       " 'Awesome Phone. Slightly high price but worth. Better than iPhone XR.\\nCamera is superb and wide angle camera is very clear.\\n12MP selfie camera is also very good.\\nA13 Chip gives a very good and smooth performance.',\n",
       " 'This is my first ever I phone. Before this I was using my google nexus 5. But moving from android to iOS is a great experience. It’s worth at this price. I will highly recommend it if you want to move to iOS. The best part of this phone is it’s camera and it’s battery life. This two things have won my heart. I loved it. Happy to have it in my hand. Still exploring its features. And can’t forget to mention Flipkart service. Very prompt service and fast delivery.',\n",
       " 'Superb Product !!!\\nA big and worthy upgrade from mi 3S to iphone 11 .\\nTotally loved it !',\n",
       " 'I have migrated from OP 7pro... and trust me, iPhone 11 is totally worth it.. following are the reasons:-\\n1)there is ABSOLUTELY NO ISSUE WITH THE DISPLAY... its crisp, sharp and I found it to be much much better than OP7 pro. Netflix, Prime video all run crisply... you won’t miss a thing. True Tone works flawlessly...the display brightness is perfect. OP have not calibrated their screens properly.\\n2) iPhone 11 series have really good cameras... others have spoken in depth about them.\\n3) bat...\\nREAD MORE',\n",
       " 'It’s an amazing product from apple and the camera is simply superb. Phone is faster.Night shot is simply superb and detailing and colour differentiation from camera is an added advantage\\n\\nThis review I have written from iPhone 11 only and I am glad to say outside.\\n\\nCons wise if we see HD+ display only, no battery percentage indicator as in older iPhone 8.\\nNo assistive touch control button in it\\nNo oleophobic coating on back panel glass and finger prints are visible but since I bought mint gr...\\nREAD MORE',\n",
       " 'Looking so good 👍 😍 super 👌 stylish 😎 phone\\nClean box 📦 good 👍 delivery 👌 fast delivery\\nOriginal box Original iphone 📱 👌 😍😍😍',\n",
       " 'After 1 month use I found camera quality best compared to my previous Samsung note 10+.Display not good as note 10 also charging too slow.Apple should add fast charger like 11 plus and pro.Best phone for daily use',\n",
       " 'Upgraded from iphone 6 to 11 best phone for iphone users battery is much better than other iphones camera is awesome love to use it.camera is so clear in night.',\n",
       " 'I just directly switch from iphone 6s to iphone 11 .The best premium smartphone I recommend to everyone. Excellent quality and colors the iphone have in 11 series.\\nCamera quality is just awesome and the major feel when we hold in our hands. The sound quality and volume is also higher then the previous models.\\nI will recommend to buy iphone 11 instead of pro models , there is nothing much difference as this model contains everything which fulfill our needs.\\n\\nOnly one thing that I dislike abo...\\nREAD MORE',\n",
       " 'Well you all know the specifications . One of a kind. Best iPhone till date. Many enhancements to the camera app with many options. Love the glass body with matte finish in the lens area on the back. Lovely colours to choose from. Best battery in an iPhone till date, enough to last more than a day in normal usage. I tested my iPhone 11 battery and lasted for than 24 hours after full charge still with 30% battery charge left. Watched movies for some time. Normal usage on calls, browsing, musi...\\nREAD MORE']"
      ]
     },
     "execution_count": 611,
     "metadata": {},
     "output_type": "execute_result"
    }
   ],
   "source": [
    "f_rev3 = driver.find_elements_by_xpath('//div[@class=\"t-ZTKy\"]')\n",
    "for i in f_rev3:\n",
    "    f_review.append(i.text)\n",
    "f_review"
   ]
  },
  {
   "cell_type": "code",
   "execution_count": 612,
   "id": "6e6856f2",
   "metadata": {},
   "outputs": [
    {
     "data": {
      "text/plain": [
       "['Really satisfied with the Product I received... It’s totally genuine and the packaging was also really good so if ur planning to buy just go for it.',\n",
       " 'The Best Phone for the Money\\n\\nThe iPhone 11 offers superb cameras, a more durable design and excellent battery life for an affordable price.\\n\\nCompelling ultra-wide camera\\nNew Night mode is excellent\\nLong battery life',\n",
       " 'This is my first iOS phone. I am very happy with this product. Very much satisfied with this. I love this phone.',\n",
       " 'Amazing phone with great cameras and better battery which gives you the best performance. I just love the camera .',\n",
       " 'Previously I was using one plus 3t it was a great phone\\nAnd then I decided to upgrade I am stuck between Samsung s10 plus or iPhone 11\\nI have seen the specs and everything were good except the display it’s somewhere between 720-1080 and it’s not even an amoled it’s an LCD display\\nBut I decided to go with iPhone because I have never used an IOS device I have Been an android user from the past 9 years I ordered IPhone 11 (128gb) product red\\nMy experience after using 3 weeks\\n1. The delivery ...\\nREAD MORE',\n",
       " 'Amazing Powerful and Durable Gadget.\\n\\nI’m am very happy with the camera picture quality, Amazing face id unlocked in dark room, Strong battery with perfect screen size as you can carry easily in pocket. This is my third iPhone.\\n\\nI shifted from android Samsung Note series to iPhone because of the strong build quality and peace of mind for next 3-4 years.\\n\\nDon’t think to much just go for it and I suggest you to go for minimum 128gb variant or more 256gb.\\n\\nI’ve attached my puppy pics and no fi...\\nREAD MORE',\n",
       " 'i11 is worthy to buy, too much happy with the product. Thank u flipkart I received the item on time..loved it..',\n",
       " 'So far it’s been an AMAZING experience coming back to iOS after nearly a decade but it’s not as versatile as android though phone is sturdy dropped it accidentally a couple of times and nothing happened fortunately camera is awesome',\n",
       " 'iphone 11 is a very good phone to buy only if you can compromise for the display. The display on this is device is pretty good but you can get other options with better displays in this price segment.\\nIf you can survive with an HD+ LCD panel with thicker bezels and a notch up top then this is a very good phone for you.\\nCameras are awesome, battery backup excellent, great performance and a decent premium look. Good job Apple !',\n",
       " 'It’s a must buy who is looking for an upgrade from previous generation of iPhones. If you are using XR then still you can hold on for sometime and upgrade to 2020 model else this phone is a must buy . Camera quality is amazing and wide angle is something to count upon. Performance wise it’s amazing and feels premium while holding in hand. So a big YES for this device. Go for 128 GB variant as the 4K videos will occupy lots of space and the storage can get over very quickly. Try to buy it with...\\nREAD MORE',\n",
       " 'Value for money❤️❤️\\nIts awesome mobile phone in the world ...\\nDisplay was very good and bright ..\\nTrust me freinds you r never regret after Buying..\\nJust go for it....\\nI love this phone and i switch to iphone x to 11',\n",
       " 'Great iPhone very snappy experience as apple kind. Upgraded from iPhone 7.\\nPros\\n-Camera top class\\n- Battery top performed\\n-Chipset no need to say as apple kind\\n-Security as you expect from apple\\n- Display super bright industry leading colour\\naccuracy and super responsive\\n-Build quality as expect from apple sturdy\\npremium durable beautiful stylish.\\n-Os most stable os in smartphone industry\\n\\nCons\\n-No 5G\\n-Display is not based on OLED technology\\n-Charger headphones and 1 apple stic...\\nREAD MORE',\n",
       " 'Totally in love with this ❤ the camera quality is amazing just love it 😘😘😘 itsss dammnnnnnn amazing... Must buy iPhone 11 this is my best experience ever ☀👌👌🧡🧡🧡🧡🧡 thanku apple ❤',\n",
       " 'What a camera .....just awesome ..you can feel this iPhone just awesome . Good for gaming also ...try pubg in hd it’s just wow',\n",
       " 'Best budget Iphone till date ❤️ go for it guys without second thought. Let me explain you guys about Camera, Display, battery, and performance.\\n\\nCamera: at this price range there is no comparison of camera, you’ll love the picture quality as well as video quality. I am a Vlogger I wanted an iPhone with 4k video by front camera and I got this phone and I am more than happy 😃\\n\\nBattery: I use this phone roughly as I am active social media person and I have a youtube channel. so the battery ba...\\nREAD MORE',\n",
       " \"Iphone is just awesome.. battery backup is very very nice.. continuously for 10 hours we can use it.camera is just awesome.. display is just fab.i love it alot..i had to wait 15 days for it as i pre ordered it..overalll it's worth the price..these all images are clicked by my iPhone..and i love it.\",\n",
       " 'Excellent camera, good performance, no lag. The lcd display is also good.. but difference come when we watch movie in prime and Netflix, the colours are not vibrant.. as we see in amoled display.. and the charger in box is of 5 watts.. takes more than 3 hours to charge from 0 to 100.. so guys be prepare to buy 18 watts charger . Finally I am an android user, it was my first Iapple phone, I promise u guys the iOS is so smooth.. overall the phone is damn good.... close eyes to buy it.. thanks t...\\nREAD MORE',\n",
       " \"It's my first time to use iOS phone and I am loving my upgradation 😍😍 I love the color, I love the assebility of the phone....I need to learn more about its functionality, but as far as I have seen, it's quite easy and it has a lot of functions to work on, specially if you are a content writer or a blogger you get a lot of content creation platforms and they are really amazing.\\n\\nThis phone not only for good quality photography but a lot of other task too.😍💯\",\n",
       " 'It’s been almost a month since I have been using this phone. I upgraded from an iPhone 8. The main issue with my 8 was battery and this phone is just awesome when it comes to battery. It lasts a day and a half for me with my regular use , internet connected always with 4g\\nCan’t move forward without saying this. Battery of this phone is a life saver when I am traveling or at work when I don’t get the option to charge\\nCamera is superb. Front cam selfies and back cam photos are just awesome.\\n...\\nREAD MORE',\n",
       " 'Really worth of money. i just love it. It is the best phone ever.',\n",
       " 'Awesome Phone. Slightly high price but worth. Better than iPhone XR.\\nCamera is superb and wide angle camera is very clear.\\n12MP selfie camera is also very good.\\nA13 Chip gives a very good and smooth performance.',\n",
       " 'This is my first ever I phone. Before this I was using my google nexus 5. But moving from android to iOS is a great experience. It’s worth at this price. I will highly recommend it if you want to move to iOS. The best part of this phone is it’s camera and it’s battery life. This two things have won my heart. I loved it. Happy to have it in my hand. Still exploring its features. And can’t forget to mention Flipkart service. Very prompt service and fast delivery.',\n",
       " 'Superb Product !!!\\nA big and worthy upgrade from mi 3S to iphone 11 .\\nTotally loved it !',\n",
       " 'I have migrated from OP 7pro... and trust me, iPhone 11 is totally worth it.. following are the reasons:-\\n1)there is ABSOLUTELY NO ISSUE WITH THE DISPLAY... its crisp, sharp and I found it to be much much better than OP7 pro. Netflix, Prime video all run crisply... you won’t miss a thing. True Tone works flawlessly...the display brightness is perfect. OP have not calibrated their screens properly.\\n2) iPhone 11 series have really good cameras... others have spoken in depth about them.\\n3) bat...\\nREAD MORE',\n",
       " 'It’s an amazing product from apple and the camera is simply superb. Phone is faster.Night shot is simply superb and detailing and colour differentiation from camera is an added advantage\\n\\nThis review I have written from iPhone 11 only and I am glad to say outside.\\n\\nCons wise if we see HD+ display only, no battery percentage indicator as in older iPhone 8.\\nNo assistive touch control button in it\\nNo oleophobic coating on back panel glass and finger prints are visible but since I bought mint gr...\\nREAD MORE',\n",
       " 'Looking so good 👍 😍 super 👌 stylish 😎 phone\\nClean box 📦 good 👍 delivery 👌 fast delivery\\nOriginal box Original iphone 📱 👌 😍😍😍',\n",
       " 'After 1 month use I found camera quality best compared to my previous Samsung note 10+.Display not good as note 10 also charging too slow.Apple should add fast charger like 11 plus and pro.Best phone for daily use',\n",
       " 'Upgraded from iphone 6 to 11 best phone for iphone users battery is much better than other iphones camera is awesome love to use it.camera is so clear in night.',\n",
       " 'I just directly switch from iphone 6s to iphone 11 .The best premium smartphone I recommend to everyone. Excellent quality and colors the iphone have in 11 series.\\nCamera quality is just awesome and the major feel when we hold in our hands. The sound quality and volume is also higher then the previous models.\\nI will recommend to buy iphone 11 instead of pro models , there is nothing much difference as this model contains everything which fulfill our needs.\\n\\nOnly one thing that I dislike abo...\\nREAD MORE',\n",
       " 'Well you all know the specifications . One of a kind. Best iPhone till date. Many enhancements to the camera app with many options. Love the glass body with matte finish in the lens area on the back. Lovely colours to choose from. Best battery in an iPhone till date, enough to last more than a day in normal usage. I tested my iPhone 11 battery and lasted for than 24 hours after full charge still with 30% battery charge left. Watched movies for some time. Normal usage on calls, browsing, musi...\\nREAD MORE',\n",
       " \"It's very high performances devise i am like the service of flipkart delevary very fast and packing very nice perfect phone\",\n",
       " 'This will help you more. See if you are planning to buy iPhone 11. I will say. Yes. But there are some plans I just want to disclose before you buy. 1) If you are an existing iPhone X/XS/XS Max/ XR user, better you guys do not think it to buy. You guys have more or less better gadget. 2) If you are an android user and planning to buy premium phone. I will suggest them to please buy iPhone instead of buying an Android. I bet you will never go back to android after using IOS. Now I want to shar...\\nREAD MORE',\n",
       " 'The built quality is not very premium.\\nThe battery back is great .\\nThe LCD panel is not so sharp but the brightness level is very High .\\nCamera is super duper awesome.\\nThe red colour which people think is bright is actually very soothing and excellent colour to choose from .\\nThe A13 Bionic chip is really a flagship processor and can beat any phone which even has 12 gb ram .\\nCamera module is very great and looks very stylish.',\n",
       " 'Really good actually this is my first apple product am using its really awesome performance wise excellent. Am really happy with this iphone11',\n",
       " 'it is very good at performance. Camera is best like before and very smooth response even in water. Don’t buy 12 mini buy iPhone 11 , it is far better than 12 mini believe me ! Have a nice day \\uf8ff ☺️',\n",
       " 'Reviewing again after 5 months. At the beginning the battery and performance was good but it degraded soon. Also I was facing heating issues. The mobile will heat up like a stove sometimes. You cannot even play Pubg even in low settings properly, performance is not a problem but heating is. Also if you play that game for 10 mins the brightness will be automatically down due to over heating even when the auto brightness is set to off. This will not be solved even if u manually increase the bri...\\nREAD MORE',\n",
       " 'It is just awesome mobile for this price from Apple,\\n\\nAfter 10 days review\\n\\nBattery enough for 1 day even 24*7 Internet will be on and mostly internet usage\\n\\nCamera is just awesome cool , android 64 MP is equal to this just 12 MP\\n\\nA13 Bionic chip will give more high performance without hanging\\n\\nAudio stereo speakers will give Dolby atoms sound with crystal clear\\n\\nVideo recording is like cinematic shots of every sec can be a 4K 60fps. Just awesome this phone\\niPhone 11 loved one',\n",
       " 'Best Apple iPhone that i have bought at a very reasonable price, camera quality is next level just awesome n of superior quality android phones not even close(RIP) to that and also battery is really good but packaging by Flipkart of iPhone was very poor of such a expensive product, firstly im bit worried about the quality of product if i purchased it through online how was the product but i think now this was mine best decision to bought it through Flipkart online because i got genuine Apple...\\nREAD MORE',\n",
       " \"I can say I'm damn impressed with iPhone 11. As they says iPhone 11 have the toughest glass ever in the smartphone which you'll find on the front and back and it's totally smooth. The fit and finish is full apple quality - there's no sense that any cheaping out has happened in the construction. Without saying it's camera features this review won't complete. The iPhone 11 has a dual camera system, consisting of a wide angle len's that's pretty much same as found on the iPhone XR last year, but...\\nREAD MORE\",\n",
       " 'Best Quality Product OF iPhone Series , Sound Quality & Camera quality is very awesome, Battery Life is very Sufficient for 24 hr Backup With Full Internet Access , I love this this Product too much , It is very fast & making me Very fast in all my daily Routine\\nHighlights;\\n1.Camera: 5 STAR\\n2.Video Recording: 5 star\\n3.Night mODE sHOOTING & Camera:4 star\\n4. Audio Quality: Awesome\\n5. Battery : 5 Star\\n6. Touch:5 Star\\n7. Processor: Very Fast\\nThe M...\\nREAD MORE']"
      ]
     },
     "execution_count": 612,
     "metadata": {},
     "output_type": "execute_result"
    }
   ],
   "source": [
    "f_rev4 = driver.find_elements_by_xpath('//div[@class=\"t-ZTKy\"]')\n",
    "for i in f_rev4:\n",
    "    f_review.append(i.text)\n",
    "f_review"
   ]
  },
  {
   "cell_type": "code",
   "execution_count": 613,
   "id": "5030accb",
   "metadata": {},
   "outputs": [
    {
     "data": {
      "text/plain": [
       "['Really satisfied with the Product I received... It’s totally genuine and the packaging was also really good so if ur planning to buy just go for it.',\n",
       " 'The Best Phone for the Money\\n\\nThe iPhone 11 offers superb cameras, a more durable design and excellent battery life for an affordable price.\\n\\nCompelling ultra-wide camera\\nNew Night mode is excellent\\nLong battery life',\n",
       " 'This is my first iOS phone. I am very happy with this product. Very much satisfied with this. I love this phone.',\n",
       " 'Amazing phone with great cameras and better battery which gives you the best performance. I just love the camera .',\n",
       " 'Previously I was using one plus 3t it was a great phone\\nAnd then I decided to upgrade I am stuck between Samsung s10 plus or iPhone 11\\nI have seen the specs and everything were good except the display it’s somewhere between 720-1080 and it’s not even an amoled it’s an LCD display\\nBut I decided to go with iPhone because I have never used an IOS device I have Been an android user from the past 9 years I ordered IPhone 11 (128gb) product red\\nMy experience after using 3 weeks\\n1. The delivery ...\\nREAD MORE',\n",
       " 'Amazing Powerful and Durable Gadget.\\n\\nI’m am very happy with the camera picture quality, Amazing face id unlocked in dark room, Strong battery with perfect screen size as you can carry easily in pocket. This is my third iPhone.\\n\\nI shifted from android Samsung Note series to iPhone because of the strong build quality and peace of mind for next 3-4 years.\\n\\nDon’t think to much just go for it and I suggest you to go for minimum 128gb variant or more 256gb.\\n\\nI’ve attached my puppy pics and no fi...\\nREAD MORE',\n",
       " 'i11 is worthy to buy, too much happy with the product. Thank u flipkart I received the item on time..loved it..',\n",
       " 'So far it’s been an AMAZING experience coming back to iOS after nearly a decade but it’s not as versatile as android though phone is sturdy dropped it accidentally a couple of times and nothing happened fortunately camera is awesome',\n",
       " 'iphone 11 is a very good phone to buy only if you can compromise for the display. The display on this is device is pretty good but you can get other options with better displays in this price segment.\\nIf you can survive with an HD+ LCD panel with thicker bezels and a notch up top then this is a very good phone for you.\\nCameras are awesome, battery backup excellent, great performance and a decent premium look. Good job Apple !',\n",
       " 'It’s a must buy who is looking for an upgrade from previous generation of iPhones. If you are using XR then still you can hold on for sometime and upgrade to 2020 model else this phone is a must buy . Camera quality is amazing and wide angle is something to count upon. Performance wise it’s amazing and feels premium while holding in hand. So a big YES for this device. Go for 128 GB variant as the 4K videos will occupy lots of space and the storage can get over very quickly. Try to buy it with...\\nREAD MORE',\n",
       " 'Value for money❤️❤️\\nIts awesome mobile phone in the world ...\\nDisplay was very good and bright ..\\nTrust me freinds you r never regret after Buying..\\nJust go for it....\\nI love this phone and i switch to iphone x to 11',\n",
       " 'Great iPhone very snappy experience as apple kind. Upgraded from iPhone 7.\\nPros\\n-Camera top class\\n- Battery top performed\\n-Chipset no need to say as apple kind\\n-Security as you expect from apple\\n- Display super bright industry leading colour\\naccuracy and super responsive\\n-Build quality as expect from apple sturdy\\npremium durable beautiful stylish.\\n-Os most stable os in smartphone industry\\n\\nCons\\n-No 5G\\n-Display is not based on OLED technology\\n-Charger headphones and 1 apple stic...\\nREAD MORE',\n",
       " 'Totally in love with this ❤ the camera quality is amazing just love it 😘😘😘 itsss dammnnnnnn amazing... Must buy iPhone 11 this is my best experience ever ☀👌👌🧡🧡🧡🧡🧡 thanku apple ❤',\n",
       " 'What a camera .....just awesome ..you can feel this iPhone just awesome . Good for gaming also ...try pubg in hd it’s just wow',\n",
       " 'Best budget Iphone till date ❤️ go for it guys without second thought. Let me explain you guys about Camera, Display, battery, and performance.\\n\\nCamera: at this price range there is no comparison of camera, you’ll love the picture quality as well as video quality. I am a Vlogger I wanted an iPhone with 4k video by front camera and I got this phone and I am more than happy 😃\\n\\nBattery: I use this phone roughly as I am active social media person and I have a youtube channel. so the battery ba...\\nREAD MORE',\n",
       " \"Iphone is just awesome.. battery backup is very very nice.. continuously for 10 hours we can use it.camera is just awesome.. display is just fab.i love it alot..i had to wait 15 days for it as i pre ordered it..overalll it's worth the price..these all images are clicked by my iPhone..and i love it.\",\n",
       " 'Excellent camera, good performance, no lag. The lcd display is also good.. but difference come when we watch movie in prime and Netflix, the colours are not vibrant.. as we see in amoled display.. and the charger in box is of 5 watts.. takes more than 3 hours to charge from 0 to 100.. so guys be prepare to buy 18 watts charger . Finally I am an android user, it was my first Iapple phone, I promise u guys the iOS is so smooth.. overall the phone is damn good.... close eyes to buy it.. thanks t...\\nREAD MORE',\n",
       " \"It's my first time to use iOS phone and I am loving my upgradation 😍😍 I love the color, I love the assebility of the phone....I need to learn more about its functionality, but as far as I have seen, it's quite easy and it has a lot of functions to work on, specially if you are a content writer or a blogger you get a lot of content creation platforms and they are really amazing.\\n\\nThis phone not only for good quality photography but a lot of other task too.😍💯\",\n",
       " 'It’s been almost a month since I have been using this phone. I upgraded from an iPhone 8. The main issue with my 8 was battery and this phone is just awesome when it comes to battery. It lasts a day and a half for me with my regular use , internet connected always with 4g\\nCan’t move forward without saying this. Battery of this phone is a life saver when I am traveling or at work when I don’t get the option to charge\\nCamera is superb. Front cam selfies and back cam photos are just awesome.\\n...\\nREAD MORE',\n",
       " 'Really worth of money. i just love it. It is the best phone ever.',\n",
       " 'Awesome Phone. Slightly high price but worth. Better than iPhone XR.\\nCamera is superb and wide angle camera is very clear.\\n12MP selfie camera is also very good.\\nA13 Chip gives a very good and smooth performance.',\n",
       " 'This is my first ever I phone. Before this I was using my google nexus 5. But moving from android to iOS is a great experience. It’s worth at this price. I will highly recommend it if you want to move to iOS. The best part of this phone is it’s camera and it’s battery life. This two things have won my heart. I loved it. Happy to have it in my hand. Still exploring its features. And can’t forget to mention Flipkart service. Very prompt service and fast delivery.',\n",
       " 'Superb Product !!!\\nA big and worthy upgrade from mi 3S to iphone 11 .\\nTotally loved it !',\n",
       " 'I have migrated from OP 7pro... and trust me, iPhone 11 is totally worth it.. following are the reasons:-\\n1)there is ABSOLUTELY NO ISSUE WITH THE DISPLAY... its crisp, sharp and I found it to be much much better than OP7 pro. Netflix, Prime video all run crisply... you won’t miss a thing. True Tone works flawlessly...the display brightness is perfect. OP have not calibrated their screens properly.\\n2) iPhone 11 series have really good cameras... others have spoken in depth about them.\\n3) bat...\\nREAD MORE',\n",
       " 'It’s an amazing product from apple and the camera is simply superb. Phone is faster.Night shot is simply superb and detailing and colour differentiation from camera is an added advantage\\n\\nThis review I have written from iPhone 11 only and I am glad to say outside.\\n\\nCons wise if we see HD+ display only, no battery percentage indicator as in older iPhone 8.\\nNo assistive touch control button in it\\nNo oleophobic coating on back panel glass and finger prints are visible but since I bought mint gr...\\nREAD MORE',\n",
       " 'Looking so good 👍 😍 super 👌 stylish 😎 phone\\nClean box 📦 good 👍 delivery 👌 fast delivery\\nOriginal box Original iphone 📱 👌 😍😍😍',\n",
       " 'After 1 month use I found camera quality best compared to my previous Samsung note 10+.Display not good as note 10 also charging too slow.Apple should add fast charger like 11 plus and pro.Best phone for daily use',\n",
       " 'Upgraded from iphone 6 to 11 best phone for iphone users battery is much better than other iphones camera is awesome love to use it.camera is so clear in night.',\n",
       " 'I just directly switch from iphone 6s to iphone 11 .The best premium smartphone I recommend to everyone. Excellent quality and colors the iphone have in 11 series.\\nCamera quality is just awesome and the major feel when we hold in our hands. The sound quality and volume is also higher then the previous models.\\nI will recommend to buy iphone 11 instead of pro models , there is nothing much difference as this model contains everything which fulfill our needs.\\n\\nOnly one thing that I dislike abo...\\nREAD MORE',\n",
       " 'Well you all know the specifications . One of a kind. Best iPhone till date. Many enhancements to the camera app with many options. Love the glass body with matte finish in the lens area on the back. Lovely colours to choose from. Best battery in an iPhone till date, enough to last more than a day in normal usage. I tested my iPhone 11 battery and lasted for than 24 hours after full charge still with 30% battery charge left. Watched movies for some time. Normal usage on calls, browsing, musi...\\nREAD MORE',\n",
       " \"It's very high performances devise i am like the service of flipkart delevary very fast and packing very nice perfect phone\",\n",
       " 'This will help you more. See if you are planning to buy iPhone 11. I will say. Yes. But there are some plans I just want to disclose before you buy. 1) If you are an existing iPhone X/XS/XS Max/ XR user, better you guys do not think it to buy. You guys have more or less better gadget. 2) If you are an android user and planning to buy premium phone. I will suggest them to please buy iPhone instead of buying an Android. I bet you will never go back to android after using IOS. Now I want to shar...\\nREAD MORE',\n",
       " 'The built quality is not very premium.\\nThe battery back is great .\\nThe LCD panel is not so sharp but the brightness level is very High .\\nCamera is super duper awesome.\\nThe red colour which people think is bright is actually very soothing and excellent colour to choose from .\\nThe A13 Bionic chip is really a flagship processor and can beat any phone which even has 12 gb ram .\\nCamera module is very great and looks very stylish.',\n",
       " 'Really good actually this is my first apple product am using its really awesome performance wise excellent. Am really happy with this iphone11',\n",
       " 'it is very good at performance. Camera is best like before and very smooth response even in water. Don’t buy 12 mini buy iPhone 11 , it is far better than 12 mini believe me ! Have a nice day \\uf8ff ☺️',\n",
       " 'Reviewing again after 5 months. At the beginning the battery and performance was good but it degraded soon. Also I was facing heating issues. The mobile will heat up like a stove sometimes. You cannot even play Pubg even in low settings properly, performance is not a problem but heating is. Also if you play that game for 10 mins the brightness will be automatically down due to over heating even when the auto brightness is set to off. This will not be solved even if u manually increase the bri...\\nREAD MORE',\n",
       " 'It is just awesome mobile for this price from Apple,\\n\\nAfter 10 days review\\n\\nBattery enough for 1 day even 24*7 Internet will be on and mostly internet usage\\n\\nCamera is just awesome cool , android 64 MP is equal to this just 12 MP\\n\\nA13 Bionic chip will give more high performance without hanging\\n\\nAudio stereo speakers will give Dolby atoms sound with crystal clear\\n\\nVideo recording is like cinematic shots of every sec can be a 4K 60fps. Just awesome this phone\\niPhone 11 loved one',\n",
       " 'Best Apple iPhone that i have bought at a very reasonable price, camera quality is next level just awesome n of superior quality android phones not even close(RIP) to that and also battery is really good but packaging by Flipkart of iPhone was very poor of such a expensive product, firstly im bit worried about the quality of product if i purchased it through online how was the product but i think now this was mine best decision to bought it through Flipkart online because i got genuine Apple...\\nREAD MORE',\n",
       " \"I can say I'm damn impressed with iPhone 11. As they says iPhone 11 have the toughest glass ever in the smartphone which you'll find on the front and back and it's totally smooth. The fit and finish is full apple quality - there's no sense that any cheaping out has happened in the construction. Without saying it's camera features this review won't complete. The iPhone 11 has a dual camera system, consisting of a wide angle len's that's pretty much same as found on the iPhone XR last year, but...\\nREAD MORE\",\n",
       " 'Best Quality Product OF iPhone Series , Sound Quality & Camera quality is very awesome, Battery Life is very Sufficient for 24 hr Backup With Full Internet Access , I love this this Product too much , It is very fast & making me Very fast in all my daily Routine\\nHighlights;\\n1.Camera: 5 STAR\\n2.Video Recording: 5 star\\n3.Night mODE sHOOTING & Camera:4 star\\n4. Audio Quality: Awesome\\n5. Battery : 5 Star\\n6. Touch:5 Star\\n7. Processor: Very Fast\\nThe M...\\nREAD MORE',\n",
       " 'First thanks to Flipkart for this amazing deal and phone is outstanding. I upgraded from iPhone 7 and this is like very big upgrade. But the packaging was very basic I expected a good packaging as they only wrapped one layer of bubble wrap which I don’t think is enough to protect this expensive phone. And I recommend this phone and seller as well.\\n\\nAnd I’m posting this review after using it for 4 days.',\n",
       " 'Superfast delivery by Flipkart. Thanks.\\n\\n1. iPhone 11 is a pretty solid phone for the money you are paying.\\n2. All the bad reviews about the display is confusing. It’s not that bad.\\n3. I switched from a Oneplus 7t. I have no complaints about the display quality of iPhone. Yes, it’s not OLED, so, we are missing on the deep blacks. But that’s it. It is a very colour accurate display. Gets adequately bright and I could not find any pixelation.\\n4. Performance is one of the best, if not best, in ...\\nREAD MORE',\n",
       " 'Smooth like butter, camera like fantabulous, sound is crystal clear & its red color is damn attractive, i am just loving it. Must buy if you love photography.\\n\\nLucky to get it in sale, thank you Flipkart.',\n",
       " \"Again back to apple iphone after a gap of 2-3 years. It's pleasure to use iOS and the quality product by Apple. Iphone 11 still works like a beast in 2021 also. It really capable of doing day to day usage as well as hard core gaming. Battery is awesome. I'm really too much satisfied with it. Apart fto the very gorgious IPS LCD (AMOLED will be better) everything is mind boggling. Iphone💕.\",\n",
       " 'impressive super phone and best in class camera ,sound and face unlock is super fast just see and phone is unlock and fast in daily apps use',\n",
       " 'Battery backup is extraordinary, camera is decent & performance offered by A13 bionic is awsome. The display is good in practical usage like the visibility of display is very good in direct sun light compare to pro models. Iam extremely satisfied for the money I spent.',\n",
       " 'Well while switching from android to iOS the first thing you need to be careful about is that you will loose all your whatsapp chat backups as both are different operating systems. Camera clarity is awesome and though being an lcd screen clarity and resolution is good. Battery backup is also good unlike previous gen iPhone. So far the experience is good will Padre after a few months of usage.\\n\\nP.S the black is more of a dark grey shade and not jet black',\n",
       " 'In love with this iphone great performance,camera ,battery everything. Go for it have a uncompareble battery backup, no doubts in iPhone camera here You can see the picture which is shot on my iPhone In love with this iphone great performance,camera ,battery everything. Go for it have a uncompareble battery backup, no doubts in iPhone camera here You can see the picture which is shot on my iPhone In love with this iphone great performance,camera ,battery everything. Go for it have a uncompare...\\nREAD MORE',\n",
       " 'Best in class. Battery backup is good especially when you play games like Pubg COD. But it is sort of heavy when you hold in hands. Portrait mode is best to click pictures. Stage light effect is awesome. Try to click photos outside in nature because photos inside home or room will not give you the quality in any phone even in DSLR.',\n",
       " 'Very excited to have this phone. This phone has the real power unlike the android phones having SD 855 . The battery life is very good and the camera quality is excellent as comapred to redmi and other phones except google pixel. I M enjoying every single bit of it. Would recommed only if you have the budget.']"
      ]
     },
     "execution_count": 613,
     "metadata": {},
     "output_type": "execute_result"
    }
   ],
   "source": [
    "f_rev5 = driver.find_elements_by_xpath('//div[@class=\"t-ZTKy\"]')\n",
    "for i in f_rev5:\n",
    "    f_review.append(i.text)\n",
    "f_review"
   ]
  },
  {
   "cell_type": "code",
   "execution_count": 614,
   "id": "6bcbcdb8",
   "metadata": {},
   "outputs": [
    {
     "data": {
      "text/plain": [
       "['Really satisfied with the Product I received... It’s totally genuine and the packaging was also really good so if ur planning to buy just go for it.',\n",
       " 'The Best Phone for the Money\\n\\nThe iPhone 11 offers superb cameras, a more durable design and excellent battery life for an affordable price.\\n\\nCompelling ultra-wide camera\\nNew Night mode is excellent\\nLong battery life',\n",
       " 'This is my first iOS phone. I am very happy with this product. Very much satisfied with this. I love this phone.',\n",
       " 'Amazing phone with great cameras and better battery which gives you the best performance. I just love the camera .',\n",
       " 'Previously I was using one plus 3t it was a great phone\\nAnd then I decided to upgrade I am stuck between Samsung s10 plus or iPhone 11\\nI have seen the specs and everything were good except the display it’s somewhere between 720-1080 and it’s not even an amoled it’s an LCD display\\nBut I decided to go with iPhone because I have never used an IOS device I have Been an android user from the past 9 years I ordered IPhone 11 (128gb) product red\\nMy experience after using 3 weeks\\n1. The delivery ...\\nREAD MORE',\n",
       " 'Amazing Powerful and Durable Gadget.\\n\\nI’m am very happy with the camera picture quality, Amazing face id unlocked in dark room, Strong battery with perfect screen size as you can carry easily in pocket. This is my third iPhone.\\n\\nI shifted from android Samsung Note series to iPhone because of the strong build quality and peace of mind for next 3-4 years.\\n\\nDon’t think to much just go for it and I suggest you to go for minimum 128gb variant or more 256gb.\\n\\nI’ve attached my puppy pics and no fi...\\nREAD MORE',\n",
       " 'i11 is worthy to buy, too much happy with the product. Thank u flipkart I received the item on time..loved it..',\n",
       " 'So far it’s been an AMAZING experience coming back to iOS after nearly a decade but it’s not as versatile as android though phone is sturdy dropped it accidentally a couple of times and nothing happened fortunately camera is awesome',\n",
       " 'iphone 11 is a very good phone to buy only if you can compromise for the display. The display on this is device is pretty good but you can get other options with better displays in this price segment.\\nIf you can survive with an HD+ LCD panel with thicker bezels and a notch up top then this is a very good phone for you.\\nCameras are awesome, battery backup excellent, great performance and a decent premium look. Good job Apple !',\n",
       " 'It’s a must buy who is looking for an upgrade from previous generation of iPhones. If you are using XR then still you can hold on for sometime and upgrade to 2020 model else this phone is a must buy . Camera quality is amazing and wide angle is something to count upon. Performance wise it’s amazing and feels premium while holding in hand. So a big YES for this device. Go for 128 GB variant as the 4K videos will occupy lots of space and the storage can get over very quickly. Try to buy it with...\\nREAD MORE',\n",
       " 'Value for money❤️❤️\\nIts awesome mobile phone in the world ...\\nDisplay was very good and bright ..\\nTrust me freinds you r never regret after Buying..\\nJust go for it....\\nI love this phone and i switch to iphone x to 11',\n",
       " 'Great iPhone very snappy experience as apple kind. Upgraded from iPhone 7.\\nPros\\n-Camera top class\\n- Battery top performed\\n-Chipset no need to say as apple kind\\n-Security as you expect from apple\\n- Display super bright industry leading colour\\naccuracy and super responsive\\n-Build quality as expect from apple sturdy\\npremium durable beautiful stylish.\\n-Os most stable os in smartphone industry\\n\\nCons\\n-No 5G\\n-Display is not based on OLED technology\\n-Charger headphones and 1 apple stic...\\nREAD MORE',\n",
       " 'Totally in love with this ❤ the camera quality is amazing just love it 😘😘😘 itsss dammnnnnnn amazing... Must buy iPhone 11 this is my best experience ever ☀👌👌🧡🧡🧡🧡🧡 thanku apple ❤',\n",
       " 'What a camera .....just awesome ..you can feel this iPhone just awesome . Good for gaming also ...try pubg in hd it’s just wow',\n",
       " 'Best budget Iphone till date ❤️ go for it guys without second thought. Let me explain you guys about Camera, Display, battery, and performance.\\n\\nCamera: at this price range there is no comparison of camera, you’ll love the picture quality as well as video quality. I am a Vlogger I wanted an iPhone with 4k video by front camera and I got this phone and I am more than happy 😃\\n\\nBattery: I use this phone roughly as I am active social media person and I have a youtube channel. so the battery ba...\\nREAD MORE',\n",
       " \"Iphone is just awesome.. battery backup is very very nice.. continuously for 10 hours we can use it.camera is just awesome.. display is just fab.i love it alot..i had to wait 15 days for it as i pre ordered it..overalll it's worth the price..these all images are clicked by my iPhone..and i love it.\",\n",
       " 'Excellent camera, good performance, no lag. The lcd display is also good.. but difference come when we watch movie in prime and Netflix, the colours are not vibrant.. as we see in amoled display.. and the charger in box is of 5 watts.. takes more than 3 hours to charge from 0 to 100.. so guys be prepare to buy 18 watts charger . Finally I am an android user, it was my first Iapple phone, I promise u guys the iOS is so smooth.. overall the phone is damn good.... close eyes to buy it.. thanks t...\\nREAD MORE',\n",
       " \"It's my first time to use iOS phone and I am loving my upgradation 😍😍 I love the color, I love the assebility of the phone....I need to learn more about its functionality, but as far as I have seen, it's quite easy and it has a lot of functions to work on, specially if you are a content writer or a blogger you get a lot of content creation platforms and they are really amazing.\\n\\nThis phone not only for good quality photography but a lot of other task too.😍💯\",\n",
       " 'It’s been almost a month since I have been using this phone. I upgraded from an iPhone 8. The main issue with my 8 was battery and this phone is just awesome when it comes to battery. It lasts a day and a half for me with my regular use , internet connected always with 4g\\nCan’t move forward without saying this. Battery of this phone is a life saver when I am traveling or at work when I don’t get the option to charge\\nCamera is superb. Front cam selfies and back cam photos are just awesome.\\n...\\nREAD MORE',\n",
       " 'Really worth of money. i just love it. It is the best phone ever.',\n",
       " 'Awesome Phone. Slightly high price but worth. Better than iPhone XR.\\nCamera is superb and wide angle camera is very clear.\\n12MP selfie camera is also very good.\\nA13 Chip gives a very good and smooth performance.',\n",
       " 'This is my first ever I phone. Before this I was using my google nexus 5. But moving from android to iOS is a great experience. It’s worth at this price. I will highly recommend it if you want to move to iOS. The best part of this phone is it’s camera and it’s battery life. This two things have won my heart. I loved it. Happy to have it in my hand. Still exploring its features. And can’t forget to mention Flipkart service. Very prompt service and fast delivery.',\n",
       " 'Superb Product !!!\\nA big and worthy upgrade from mi 3S to iphone 11 .\\nTotally loved it !',\n",
       " 'I have migrated from OP 7pro... and trust me, iPhone 11 is totally worth it.. following are the reasons:-\\n1)there is ABSOLUTELY NO ISSUE WITH THE DISPLAY... its crisp, sharp and I found it to be much much better than OP7 pro. Netflix, Prime video all run crisply... you won’t miss a thing. True Tone works flawlessly...the display brightness is perfect. OP have not calibrated their screens properly.\\n2) iPhone 11 series have really good cameras... others have spoken in depth about them.\\n3) bat...\\nREAD MORE',\n",
       " 'It’s an amazing product from apple and the camera is simply superb. Phone is faster.Night shot is simply superb and detailing and colour differentiation from camera is an added advantage\\n\\nThis review I have written from iPhone 11 only and I am glad to say outside.\\n\\nCons wise if we see HD+ display only, no battery percentage indicator as in older iPhone 8.\\nNo assistive touch control button in it\\nNo oleophobic coating on back panel glass and finger prints are visible but since I bought mint gr...\\nREAD MORE',\n",
       " 'Looking so good 👍 😍 super 👌 stylish 😎 phone\\nClean box 📦 good 👍 delivery 👌 fast delivery\\nOriginal box Original iphone 📱 👌 😍😍😍',\n",
       " 'After 1 month use I found camera quality best compared to my previous Samsung note 10+.Display not good as note 10 also charging too slow.Apple should add fast charger like 11 plus and pro.Best phone for daily use',\n",
       " 'Upgraded from iphone 6 to 11 best phone for iphone users battery is much better than other iphones camera is awesome love to use it.camera is so clear in night.',\n",
       " 'I just directly switch from iphone 6s to iphone 11 .The best premium smartphone I recommend to everyone. Excellent quality and colors the iphone have in 11 series.\\nCamera quality is just awesome and the major feel when we hold in our hands. The sound quality and volume is also higher then the previous models.\\nI will recommend to buy iphone 11 instead of pro models , there is nothing much difference as this model contains everything which fulfill our needs.\\n\\nOnly one thing that I dislike abo...\\nREAD MORE',\n",
       " 'Well you all know the specifications . One of a kind. Best iPhone till date. Many enhancements to the camera app with many options. Love the glass body with matte finish in the lens area on the back. Lovely colours to choose from. Best battery in an iPhone till date, enough to last more than a day in normal usage. I tested my iPhone 11 battery and lasted for than 24 hours after full charge still with 30% battery charge left. Watched movies for some time. Normal usage on calls, browsing, musi...\\nREAD MORE',\n",
       " \"It's very high performances devise i am like the service of flipkart delevary very fast and packing very nice perfect phone\",\n",
       " 'This will help you more. See if you are planning to buy iPhone 11. I will say. Yes. But there are some plans I just want to disclose before you buy. 1) If you are an existing iPhone X/XS/XS Max/ XR user, better you guys do not think it to buy. You guys have more or less better gadget. 2) If you are an android user and planning to buy premium phone. I will suggest them to please buy iPhone instead of buying an Android. I bet you will never go back to android after using IOS. Now I want to shar...\\nREAD MORE',\n",
       " 'The built quality is not very premium.\\nThe battery back is great .\\nThe LCD panel is not so sharp but the brightness level is very High .\\nCamera is super duper awesome.\\nThe red colour which people think is bright is actually very soothing and excellent colour to choose from .\\nThe A13 Bionic chip is really a flagship processor and can beat any phone which even has 12 gb ram .\\nCamera module is very great and looks very stylish.',\n",
       " 'Really good actually this is my first apple product am using its really awesome performance wise excellent. Am really happy with this iphone11',\n",
       " 'it is very good at performance. Camera is best like before and very smooth response even in water. Don’t buy 12 mini buy iPhone 11 , it is far better than 12 mini believe me ! Have a nice day \\uf8ff ☺️',\n",
       " 'Reviewing again after 5 months. At the beginning the battery and performance was good but it degraded soon. Also I was facing heating issues. The mobile will heat up like a stove sometimes. You cannot even play Pubg even in low settings properly, performance is not a problem but heating is. Also if you play that game for 10 mins the brightness will be automatically down due to over heating even when the auto brightness is set to off. This will not be solved even if u manually increase the bri...\\nREAD MORE',\n",
       " 'It is just awesome mobile for this price from Apple,\\n\\nAfter 10 days review\\n\\nBattery enough for 1 day even 24*7 Internet will be on and mostly internet usage\\n\\nCamera is just awesome cool , android 64 MP is equal to this just 12 MP\\n\\nA13 Bionic chip will give more high performance without hanging\\n\\nAudio stereo speakers will give Dolby atoms sound with crystal clear\\n\\nVideo recording is like cinematic shots of every sec can be a 4K 60fps. Just awesome this phone\\niPhone 11 loved one',\n",
       " 'Best Apple iPhone that i have bought at a very reasonable price, camera quality is next level just awesome n of superior quality android phones not even close(RIP) to that and also battery is really good but packaging by Flipkart of iPhone was very poor of such a expensive product, firstly im bit worried about the quality of product if i purchased it through online how was the product but i think now this was mine best decision to bought it through Flipkart online because i got genuine Apple...\\nREAD MORE',\n",
       " \"I can say I'm damn impressed with iPhone 11. As they says iPhone 11 have the toughest glass ever in the smartphone which you'll find on the front and back and it's totally smooth. The fit and finish is full apple quality - there's no sense that any cheaping out has happened in the construction. Without saying it's camera features this review won't complete. The iPhone 11 has a dual camera system, consisting of a wide angle len's that's pretty much same as found on the iPhone XR last year, but...\\nREAD MORE\",\n",
       " 'Best Quality Product OF iPhone Series , Sound Quality & Camera quality is very awesome, Battery Life is very Sufficient for 24 hr Backup With Full Internet Access , I love this this Product too much , It is very fast & making me Very fast in all my daily Routine\\nHighlights;\\n1.Camera: 5 STAR\\n2.Video Recording: 5 star\\n3.Night mODE sHOOTING & Camera:4 star\\n4. Audio Quality: Awesome\\n5. Battery : 5 Star\\n6. Touch:5 Star\\n7. Processor: Very Fast\\nThe M...\\nREAD MORE',\n",
       " 'First thanks to Flipkart for this amazing deal and phone is outstanding. I upgraded from iPhone 7 and this is like very big upgrade. But the packaging was very basic I expected a good packaging as they only wrapped one layer of bubble wrap which I don’t think is enough to protect this expensive phone. And I recommend this phone and seller as well.\\n\\nAnd I’m posting this review after using it for 4 days.',\n",
       " 'Superfast delivery by Flipkart. Thanks.\\n\\n1. iPhone 11 is a pretty solid phone for the money you are paying.\\n2. All the bad reviews about the display is confusing. It’s not that bad.\\n3. I switched from a Oneplus 7t. I have no complaints about the display quality of iPhone. Yes, it’s not OLED, so, we are missing on the deep blacks. But that’s it. It is a very colour accurate display. Gets adequately bright and I could not find any pixelation.\\n4. Performance is one of the best, if not best, in ...\\nREAD MORE',\n",
       " 'Smooth like butter, camera like fantabulous, sound is crystal clear & its red color is damn attractive, i am just loving it. Must buy if you love photography.\\n\\nLucky to get it in sale, thank you Flipkart.',\n",
       " \"Again back to apple iphone after a gap of 2-3 years. It's pleasure to use iOS and the quality product by Apple. Iphone 11 still works like a beast in 2021 also. It really capable of doing day to day usage as well as hard core gaming. Battery is awesome. I'm really too much satisfied with it. Apart fto the very gorgious IPS LCD (AMOLED will be better) everything is mind boggling. Iphone💕.\",\n",
       " 'impressive super phone and best in class camera ,sound and face unlock is super fast just see and phone is unlock and fast in daily apps use',\n",
       " 'Battery backup is extraordinary, camera is decent & performance offered by A13 bionic is awsome. The display is good in practical usage like the visibility of display is very good in direct sun light compare to pro models. Iam extremely satisfied for the money I spent.',\n",
       " 'Well while switching from android to iOS the first thing you need to be careful about is that you will loose all your whatsapp chat backups as both are different operating systems. Camera clarity is awesome and though being an lcd screen clarity and resolution is good. Battery backup is also good unlike previous gen iPhone. So far the experience is good will Padre after a few months of usage.\\n\\nP.S the black is more of a dark grey shade and not jet black',\n",
       " 'In love with this iphone great performance,camera ,battery everything. Go for it have a uncompareble battery backup, no doubts in iPhone camera here You can see the picture which is shot on my iPhone In love with this iphone great performance,camera ,battery everything. Go for it have a uncompareble battery backup, no doubts in iPhone camera here You can see the picture which is shot on my iPhone In love with this iphone great performance,camera ,battery everything. Go for it have a uncompare...\\nREAD MORE',\n",
       " 'Best in class. Battery backup is good especially when you play games like Pubg COD. But it is sort of heavy when you hold in hands. Portrait mode is best to click pictures. Stage light effect is awesome. Try to click photos outside in nature because photos inside home or room will not give you the quality in any phone even in DSLR.',\n",
       " 'Very excited to have this phone. This phone has the real power unlike the android phones having SD 855 . The battery life is very good and the camera quality is excellent as comapred to redmi and other phones except google pixel. I M enjoying every single bit of it. Would recommed only if you have the budget.',\n",
       " \"I upgraded (downgraded?) from my iPhone X since the phone fell down and I didn't want to repair the screen. The box that the phone came in was super slim and I was worried that there'd be no 5W charger with it and my fears were confirmed. However, thankfully I had the 18W USB-C PD charger from Apple which I bought for my iPhone X and it worked perfectly. The charging time is as lethargic as ever though and it takes about 1:30 mins or even 2 hours depending on charge remaining. I'll list some ...\\nREAD MORE\",\n",
       " 'Its Very awesome product working and good camera quality and all about best product and also flipkart is very great deal and offer nice price',\n",
       " 'I am using this phone for 5 days and its one of the best camera out there ❤️ the screen is not oled and i am coming from iphone xs so its little bit not up to the mark i would say\\nBut overall value for money💕😍the battery back up is far better than my iphone xs and its worth in my apple ecosystem💫❤️if u are an apple User and have the eco system then go for it❤️though i will be getting the new iphone but its pretty good💫',\n",
       " 'Best and amazing product.....phone looks so premium.... battary is also good as expected .... Wide angle camera is so addictive ...if you are a IOS lover....then this phone will be the best choice for you all!!💯🔥',\n",
       " 'Excellent camera and display touching very nice and smooth very improvement against iPhone XR and new processor is very fast',\n",
       " 'Awesome purchase. Amazing phone with good battery backup. It’s a top notch device. White colour looks amazing. Phone has a few extra feature than iPhone XR. Overall, this is value for money',\n",
       " 'Always love the apple products, upgraded from old iPhone 6S plus to this after having my first baby. I just love to click baby’s photos with it. Overall I just love this phone. Battery back up is okay, sound quality is good. Haven’t tested yet waterproof yet. Only one thing I hate is apple could have given charger & headphones in box.',\n",
       " 'Value for money\\n5 star rating\\nExcellent camera\\nBattery backup full day in single charge.\\n\\nTougher and water resistant design, glossy back.\\nThe screen has excellent brightness and contrast.\\nApple A13 Bionic is the fastest smartphone chip on the planet.\\nExcellent battery life, fast charging support.\\nStereo speakers with great quality.',\n",
       " 'Amazing camera and feel super machine I am not describe my feeling but this is amazing Phone I am so lucky I have this',\n",
       " 'Please DONT buy from here,\\n\\nI purchased Apple iPhone 11. with an exchange of IPhone 7, the exchange did not go well, iPhone 7 had a small scratch out side screen which i could never identify till date, but the FLIPKART person could, so he reduced 50% from exchange rate. I decided not to trade in, but paid money.\\n\\niPhone 11 Detail Below\\n---------------------------------------------\\nIt came with no charging, then i have put for charging, it took lot of time for charging, the phone also showe...\\nREAD MORE']"
      ]
     },
     "execution_count": 614,
     "metadata": {},
     "output_type": "execute_result"
    }
   ],
   "source": [
    "f_rev6 = driver.find_elements_by_xpath('//div[@class=\"t-ZTKy\"]')\n",
    "for i in f_rev6:\n",
    "    f_review.append(i.text)\n",
    "f_review"
   ]
  },
  {
   "cell_type": "code",
   "execution_count": 615,
   "id": "2328754f",
   "metadata": {},
   "outputs": [
    {
     "data": {
      "text/plain": [
       "['Really satisfied with the Product I received... It’s totally genuine and the packaging was also really good so if ur planning to buy just go for it.',\n",
       " 'The Best Phone for the Money\\n\\nThe iPhone 11 offers superb cameras, a more durable design and excellent battery life for an affordable price.\\n\\nCompelling ultra-wide camera\\nNew Night mode is excellent\\nLong battery life',\n",
       " 'This is my first iOS phone. I am very happy with this product. Very much satisfied with this. I love this phone.',\n",
       " 'Amazing phone with great cameras and better battery which gives you the best performance. I just love the camera .',\n",
       " 'Previously I was using one plus 3t it was a great phone\\nAnd then I decided to upgrade I am stuck between Samsung s10 plus or iPhone 11\\nI have seen the specs and everything were good except the display it’s somewhere between 720-1080 and it’s not even an amoled it’s an LCD display\\nBut I decided to go with iPhone because I have never used an IOS device I have Been an android user from the past 9 years I ordered IPhone 11 (128gb) product red\\nMy experience after using 3 weeks\\n1. The delivery ...\\nREAD MORE',\n",
       " 'Amazing Powerful and Durable Gadget.\\n\\nI’m am very happy with the camera picture quality, Amazing face id unlocked in dark room, Strong battery with perfect screen size as you can carry easily in pocket. This is my third iPhone.\\n\\nI shifted from android Samsung Note series to iPhone because of the strong build quality and peace of mind for next 3-4 years.\\n\\nDon’t think to much just go for it and I suggest you to go for minimum 128gb variant or more 256gb.\\n\\nI’ve attached my puppy pics and no fi...\\nREAD MORE',\n",
       " 'i11 is worthy to buy, too much happy with the product. Thank u flipkart I received the item on time..loved it..',\n",
       " 'So far it’s been an AMAZING experience coming back to iOS after nearly a decade but it’s not as versatile as android though phone is sturdy dropped it accidentally a couple of times and nothing happened fortunately camera is awesome',\n",
       " 'iphone 11 is a very good phone to buy only if you can compromise for the display. The display on this is device is pretty good but you can get other options with better displays in this price segment.\\nIf you can survive with an HD+ LCD panel with thicker bezels and a notch up top then this is a very good phone for you.\\nCameras are awesome, battery backup excellent, great performance and a decent premium look. Good job Apple !',\n",
       " 'It’s a must buy who is looking for an upgrade from previous generation of iPhones. If you are using XR then still you can hold on for sometime and upgrade to 2020 model else this phone is a must buy . Camera quality is amazing and wide angle is something to count upon. Performance wise it’s amazing and feels premium while holding in hand. So a big YES for this device. Go for 128 GB variant as the 4K videos will occupy lots of space and the storage can get over very quickly. Try to buy it with...\\nREAD MORE',\n",
       " 'Value for money❤️❤️\\nIts awesome mobile phone in the world ...\\nDisplay was very good and bright ..\\nTrust me freinds you r never regret after Buying..\\nJust go for it....\\nI love this phone and i switch to iphone x to 11',\n",
       " 'Great iPhone very snappy experience as apple kind. Upgraded from iPhone 7.\\nPros\\n-Camera top class\\n- Battery top performed\\n-Chipset no need to say as apple kind\\n-Security as you expect from apple\\n- Display super bright industry leading colour\\naccuracy and super responsive\\n-Build quality as expect from apple sturdy\\npremium durable beautiful stylish.\\n-Os most stable os in smartphone industry\\n\\nCons\\n-No 5G\\n-Display is not based on OLED technology\\n-Charger headphones and 1 apple stic...\\nREAD MORE',\n",
       " 'Totally in love with this ❤ the camera quality is amazing just love it 😘😘😘 itsss dammnnnnnn amazing... Must buy iPhone 11 this is my best experience ever ☀👌👌🧡🧡🧡🧡🧡 thanku apple ❤',\n",
       " 'What a camera .....just awesome ..you can feel this iPhone just awesome . Good for gaming also ...try pubg in hd it’s just wow',\n",
       " 'Best budget Iphone till date ❤️ go for it guys without second thought. Let me explain you guys about Camera, Display, battery, and performance.\\n\\nCamera: at this price range there is no comparison of camera, you’ll love the picture quality as well as video quality. I am a Vlogger I wanted an iPhone with 4k video by front camera and I got this phone and I am more than happy 😃\\n\\nBattery: I use this phone roughly as I am active social media person and I have a youtube channel. so the battery ba...\\nREAD MORE',\n",
       " \"Iphone is just awesome.. battery backup is very very nice.. continuously for 10 hours we can use it.camera is just awesome.. display is just fab.i love it alot..i had to wait 15 days for it as i pre ordered it..overalll it's worth the price..these all images are clicked by my iPhone..and i love it.\",\n",
       " 'Excellent camera, good performance, no lag. The lcd display is also good.. but difference come when we watch movie in prime and Netflix, the colours are not vibrant.. as we see in amoled display.. and the charger in box is of 5 watts.. takes more than 3 hours to charge from 0 to 100.. so guys be prepare to buy 18 watts charger . Finally I am an android user, it was my first Iapple phone, I promise u guys the iOS is so smooth.. overall the phone is damn good.... close eyes to buy it.. thanks t...\\nREAD MORE',\n",
       " \"It's my first time to use iOS phone and I am loving my upgradation 😍😍 I love the color, I love the assebility of the phone....I need to learn more about its functionality, but as far as I have seen, it's quite easy and it has a lot of functions to work on, specially if you are a content writer or a blogger you get a lot of content creation platforms and they are really amazing.\\n\\nThis phone not only for good quality photography but a lot of other task too.😍💯\",\n",
       " 'It’s been almost a month since I have been using this phone. I upgraded from an iPhone 8. The main issue with my 8 was battery and this phone is just awesome when it comes to battery. It lasts a day and a half for me with my regular use , internet connected always with 4g\\nCan’t move forward without saying this. Battery of this phone is a life saver when I am traveling or at work when I don’t get the option to charge\\nCamera is superb. Front cam selfies and back cam photos are just awesome.\\n...\\nREAD MORE',\n",
       " 'Really worth of money. i just love it. It is the best phone ever.',\n",
       " 'Awesome Phone. Slightly high price but worth. Better than iPhone XR.\\nCamera is superb and wide angle camera is very clear.\\n12MP selfie camera is also very good.\\nA13 Chip gives a very good and smooth performance.',\n",
       " 'This is my first ever I phone. Before this I was using my google nexus 5. But moving from android to iOS is a great experience. It’s worth at this price. I will highly recommend it if you want to move to iOS. The best part of this phone is it’s camera and it’s battery life. This two things have won my heart. I loved it. Happy to have it in my hand. Still exploring its features. And can’t forget to mention Flipkart service. Very prompt service and fast delivery.',\n",
       " 'Superb Product !!!\\nA big and worthy upgrade from mi 3S to iphone 11 .\\nTotally loved it !',\n",
       " 'I have migrated from OP 7pro... and trust me, iPhone 11 is totally worth it.. following are the reasons:-\\n1)there is ABSOLUTELY NO ISSUE WITH THE DISPLAY... its crisp, sharp and I found it to be much much better than OP7 pro. Netflix, Prime video all run crisply... you won’t miss a thing. True Tone works flawlessly...the display brightness is perfect. OP have not calibrated their screens properly.\\n2) iPhone 11 series have really good cameras... others have spoken in depth about them.\\n3) bat...\\nREAD MORE',\n",
       " 'It’s an amazing product from apple and the camera is simply superb. Phone is faster.Night shot is simply superb and detailing and colour differentiation from camera is an added advantage\\n\\nThis review I have written from iPhone 11 only and I am glad to say outside.\\n\\nCons wise if we see HD+ display only, no battery percentage indicator as in older iPhone 8.\\nNo assistive touch control button in it\\nNo oleophobic coating on back panel glass and finger prints are visible but since I bought mint gr...\\nREAD MORE',\n",
       " 'Looking so good 👍 😍 super 👌 stylish 😎 phone\\nClean box 📦 good 👍 delivery 👌 fast delivery\\nOriginal box Original iphone 📱 👌 😍😍😍',\n",
       " 'After 1 month use I found camera quality best compared to my previous Samsung note 10+.Display not good as note 10 also charging too slow.Apple should add fast charger like 11 plus and pro.Best phone for daily use',\n",
       " 'Upgraded from iphone 6 to 11 best phone for iphone users battery is much better than other iphones camera is awesome love to use it.camera is so clear in night.',\n",
       " 'I just directly switch from iphone 6s to iphone 11 .The best premium smartphone I recommend to everyone. Excellent quality and colors the iphone have in 11 series.\\nCamera quality is just awesome and the major feel when we hold in our hands. The sound quality and volume is also higher then the previous models.\\nI will recommend to buy iphone 11 instead of pro models , there is nothing much difference as this model contains everything which fulfill our needs.\\n\\nOnly one thing that I dislike abo...\\nREAD MORE',\n",
       " 'Well you all know the specifications . One of a kind. Best iPhone till date. Many enhancements to the camera app with many options. Love the glass body with matte finish in the lens area on the back. Lovely colours to choose from. Best battery in an iPhone till date, enough to last more than a day in normal usage. I tested my iPhone 11 battery and lasted for than 24 hours after full charge still with 30% battery charge left. Watched movies for some time. Normal usage on calls, browsing, musi...\\nREAD MORE',\n",
       " \"It's very high performances devise i am like the service of flipkart delevary very fast and packing very nice perfect phone\",\n",
       " 'This will help you more. See if you are planning to buy iPhone 11. I will say. Yes. But there are some plans I just want to disclose before you buy. 1) If you are an existing iPhone X/XS/XS Max/ XR user, better you guys do not think it to buy. You guys have more or less better gadget. 2) If you are an android user and planning to buy premium phone. I will suggest them to please buy iPhone instead of buying an Android. I bet you will never go back to android after using IOS. Now I want to shar...\\nREAD MORE',\n",
       " 'The built quality is not very premium.\\nThe battery back is great .\\nThe LCD panel is not so sharp but the brightness level is very High .\\nCamera is super duper awesome.\\nThe red colour which people think is bright is actually very soothing and excellent colour to choose from .\\nThe A13 Bionic chip is really a flagship processor and can beat any phone which even has 12 gb ram .\\nCamera module is very great and looks very stylish.',\n",
       " 'Really good actually this is my first apple product am using its really awesome performance wise excellent. Am really happy with this iphone11',\n",
       " 'it is very good at performance. Camera is best like before and very smooth response even in water. Don’t buy 12 mini buy iPhone 11 , it is far better than 12 mini believe me ! Have a nice day \\uf8ff ☺️',\n",
       " 'Reviewing again after 5 months. At the beginning the battery and performance was good but it degraded soon. Also I was facing heating issues. The mobile will heat up like a stove sometimes. You cannot even play Pubg even in low settings properly, performance is not a problem but heating is. Also if you play that game for 10 mins the brightness will be automatically down due to over heating even when the auto brightness is set to off. This will not be solved even if u manually increase the bri...\\nREAD MORE',\n",
       " 'It is just awesome mobile for this price from Apple,\\n\\nAfter 10 days review\\n\\nBattery enough for 1 day even 24*7 Internet will be on and mostly internet usage\\n\\nCamera is just awesome cool , android 64 MP is equal to this just 12 MP\\n\\nA13 Bionic chip will give more high performance without hanging\\n\\nAudio stereo speakers will give Dolby atoms sound with crystal clear\\n\\nVideo recording is like cinematic shots of every sec can be a 4K 60fps. Just awesome this phone\\niPhone 11 loved one',\n",
       " 'Best Apple iPhone that i have bought at a very reasonable price, camera quality is next level just awesome n of superior quality android phones not even close(RIP) to that and also battery is really good but packaging by Flipkart of iPhone was very poor of such a expensive product, firstly im bit worried about the quality of product if i purchased it through online how was the product but i think now this was mine best decision to bought it through Flipkart online because i got genuine Apple...\\nREAD MORE',\n",
       " \"I can say I'm damn impressed with iPhone 11. As they says iPhone 11 have the toughest glass ever in the smartphone which you'll find on the front and back and it's totally smooth. The fit and finish is full apple quality - there's no sense that any cheaping out has happened in the construction. Without saying it's camera features this review won't complete. The iPhone 11 has a dual camera system, consisting of a wide angle len's that's pretty much same as found on the iPhone XR last year, but...\\nREAD MORE\",\n",
       " 'Best Quality Product OF iPhone Series , Sound Quality & Camera quality is very awesome, Battery Life is very Sufficient for 24 hr Backup With Full Internet Access , I love this this Product too much , It is very fast & making me Very fast in all my daily Routine\\nHighlights;\\n1.Camera: 5 STAR\\n2.Video Recording: 5 star\\n3.Night mODE sHOOTING & Camera:4 star\\n4. Audio Quality: Awesome\\n5. Battery : 5 Star\\n6. Touch:5 Star\\n7. Processor: Very Fast\\nThe M...\\nREAD MORE',\n",
       " 'First thanks to Flipkart for this amazing deal and phone is outstanding. I upgraded from iPhone 7 and this is like very big upgrade. But the packaging was very basic I expected a good packaging as they only wrapped one layer of bubble wrap which I don’t think is enough to protect this expensive phone. And I recommend this phone and seller as well.\\n\\nAnd I’m posting this review after using it for 4 days.',\n",
       " 'Superfast delivery by Flipkart. Thanks.\\n\\n1. iPhone 11 is a pretty solid phone for the money you are paying.\\n2. All the bad reviews about the display is confusing. It’s not that bad.\\n3. I switched from a Oneplus 7t. I have no complaints about the display quality of iPhone. Yes, it’s not OLED, so, we are missing on the deep blacks. But that’s it. It is a very colour accurate display. Gets adequately bright and I could not find any pixelation.\\n4. Performance is one of the best, if not best, in ...\\nREAD MORE',\n",
       " 'Smooth like butter, camera like fantabulous, sound is crystal clear & its red color is damn attractive, i am just loving it. Must buy if you love photography.\\n\\nLucky to get it in sale, thank you Flipkart.',\n",
       " \"Again back to apple iphone after a gap of 2-3 years. It's pleasure to use iOS and the quality product by Apple. Iphone 11 still works like a beast in 2021 also. It really capable of doing day to day usage as well as hard core gaming. Battery is awesome. I'm really too much satisfied with it. Apart fto the very gorgious IPS LCD (AMOLED will be better) everything is mind boggling. Iphone💕.\",\n",
       " 'impressive super phone and best in class camera ,sound and face unlock is super fast just see and phone is unlock and fast in daily apps use',\n",
       " 'Battery backup is extraordinary, camera is decent & performance offered by A13 bionic is awsome. The display is good in practical usage like the visibility of display is very good in direct sun light compare to pro models. Iam extremely satisfied for the money I spent.',\n",
       " 'Well while switching from android to iOS the first thing you need to be careful about is that you will loose all your whatsapp chat backups as both are different operating systems. Camera clarity is awesome and though being an lcd screen clarity and resolution is good. Battery backup is also good unlike previous gen iPhone. So far the experience is good will Padre after a few months of usage.\\n\\nP.S the black is more of a dark grey shade and not jet black',\n",
       " 'In love with this iphone great performance,camera ,battery everything. Go for it have a uncompareble battery backup, no doubts in iPhone camera here You can see the picture which is shot on my iPhone In love with this iphone great performance,camera ,battery everything. Go for it have a uncompareble battery backup, no doubts in iPhone camera here You can see the picture which is shot on my iPhone In love with this iphone great performance,camera ,battery everything. Go for it have a uncompare...\\nREAD MORE',\n",
       " 'Best in class. Battery backup is good especially when you play games like Pubg COD. But it is sort of heavy when you hold in hands. Portrait mode is best to click pictures. Stage light effect is awesome. Try to click photos outside in nature because photos inside home or room will not give you the quality in any phone even in DSLR.',\n",
       " 'Very excited to have this phone. This phone has the real power unlike the android phones having SD 855 . The battery life is very good and the camera quality is excellent as comapred to redmi and other phones except google pixel. I M enjoying every single bit of it. Would recommed only if you have the budget.',\n",
       " \"I upgraded (downgraded?) from my iPhone X since the phone fell down and I didn't want to repair the screen. The box that the phone came in was super slim and I was worried that there'd be no 5W charger with it and my fears were confirmed. However, thankfully I had the 18W USB-C PD charger from Apple which I bought for my iPhone X and it worked perfectly. The charging time is as lethargic as ever though and it takes about 1:30 mins or even 2 hours depending on charge remaining. I'll list some ...\\nREAD MORE\",\n",
       " 'Its Very awesome product working and good camera quality and all about best product and also flipkart is very great deal and offer nice price',\n",
       " 'I am using this phone for 5 days and its one of the best camera out there ❤️ the screen is not oled and i am coming from iphone xs so its little bit not up to the mark i would say\\nBut overall value for money💕😍the battery back up is far better than my iphone xs and its worth in my apple ecosystem💫❤️if u are an apple User and have the eco system then go for it❤️though i will be getting the new iphone but its pretty good💫',\n",
       " 'Best and amazing product.....phone looks so premium.... battary is also good as expected .... Wide angle camera is so addictive ...if you are a IOS lover....then this phone will be the best choice for you all!!💯🔥',\n",
       " 'Excellent camera and display touching very nice and smooth very improvement against iPhone XR and new processor is very fast',\n",
       " 'Awesome purchase. Amazing phone with good battery backup. It’s a top notch device. White colour looks amazing. Phone has a few extra feature than iPhone XR. Overall, this is value for money',\n",
       " 'Always love the apple products, upgraded from old iPhone 6S plus to this after having my first baby. I just love to click baby’s photos with it. Overall I just love this phone. Battery back up is okay, sound quality is good. Haven’t tested yet waterproof yet. Only one thing I hate is apple could have given charger & headphones in box.',\n",
       " 'Value for money\\n5 star rating\\nExcellent camera\\nBattery backup full day in single charge.\\n\\nTougher and water resistant design, glossy back.\\nThe screen has excellent brightness and contrast.\\nApple A13 Bionic is the fastest smartphone chip on the planet.\\nExcellent battery life, fast charging support.\\nStereo speakers with great quality.',\n",
       " 'Amazing camera and feel super machine I am not describe my feeling but this is amazing Phone I am so lucky I have this',\n",
       " 'Please DONT buy from here,\\n\\nI purchased Apple iPhone 11. with an exchange of IPhone 7, the exchange did not go well, iPhone 7 had a small scratch out side screen which i could never identify till date, but the FLIPKART person could, so he reduced 50% from exchange rate. I decided not to trade in, but paid money.\\n\\niPhone 11 Detail Below\\n---------------------------------------------\\nIt came with no charging, then i have put for charging, it took lot of time for charging, the phone also showe...\\nREAD MORE',\n",
       " 'awesome phone to have. it has got many smart features apart from mind blowing looks, camera, display, battery and sound. have fallen in love with this phone. must buy phone if you have got enough money. thanks to flipkart and apple of course..',\n",
       " 'Its a fabulous mobile look awesome performance unbeaten camera like dslr battery good i think this is a beast of mobile',\n",
       " 'Dear friends... I want to share my experience with you about this amazing I phone 11....this is my first iPhone and special things about this mobile is it has great camera, battery backup and awesome display.... I mean everything is perfect.loved it 👍👍👍',\n",
       " \"Just got this iphone 11\\nAnd it is most powerful mobile phone I have used ever\\n\\nSo,go for it if you want a phone with best specification like camera,battery backup,display, A13 bionic chip\\n\\nThat's my review about this phone but yours can be differ from me....\",\n",
       " 'Amazing phone and on great deal I received with super fast delivery by Flipkart...',\n",
       " 'finally an iPhone with very nice battery backup. update from iPhone 7 and happy to have it. camera is not up to the mark in low light but overall a recommended phone if your budget allows 😀',\n",
       " \"I'm switching this phone to oppo reno 10x zoom\\nIt's really impressive\\nRarely I'm missing smooth display touch response like oppo reno but\\nI really loved it.\\nCamera really impressive\",\n",
       " 'Worth the money’ starting first from its performance it beats out all phones , second the smoothness of camera is awesome, contrast ratio is much than expected. Price will not matter if u r a quality person, if not other phones are available with better discount',\n",
       " \"I'm Really happy with the product\\nDelivery was fast as well\\n..it was a gift for my sister and she loved it so much.\",\n",
       " 'Great iphone.\\nI am writing this review after 2 months of usage.\\nCamera is excellent, especially the nightmode\\nDisplay perfect\\nBattery backup awesome\\nSound quality very good\\nOverall Apple gives you a perfect iphone in this range.\\nReally in love with iPhone 11']"
      ]
     },
     "execution_count": 615,
     "metadata": {},
     "output_type": "execute_result"
    }
   ],
   "source": [
    "f_rev7 = driver.find_elements_by_xpath('//div[@class=\"t-ZTKy\"]')\n",
    "for i in f_rev7:\n",
    "    f_review.append(i.text)\n",
    "f_review"
   ]
  },
  {
   "cell_type": "code",
   "execution_count": 616,
   "id": "1ec0b8f0",
   "metadata": {},
   "outputs": [
    {
     "data": {
      "text/plain": [
       "['Really satisfied with the Product I received... It’s totally genuine and the packaging was also really good so if ur planning to buy just go for it.',\n",
       " 'The Best Phone for the Money\\n\\nThe iPhone 11 offers superb cameras, a more durable design and excellent battery life for an affordable price.\\n\\nCompelling ultra-wide camera\\nNew Night mode is excellent\\nLong battery life',\n",
       " 'This is my first iOS phone. I am very happy with this product. Very much satisfied with this. I love this phone.',\n",
       " 'Amazing phone with great cameras and better battery which gives you the best performance. I just love the camera .',\n",
       " 'Previously I was using one plus 3t it was a great phone\\nAnd then I decided to upgrade I am stuck between Samsung s10 plus or iPhone 11\\nI have seen the specs and everything were good except the display it’s somewhere between 720-1080 and it’s not even an amoled it’s an LCD display\\nBut I decided to go with iPhone because I have never used an IOS device I have Been an android user from the past 9 years I ordered IPhone 11 (128gb) product red\\nMy experience after using 3 weeks\\n1. The delivery ...\\nREAD MORE',\n",
       " 'Amazing Powerful and Durable Gadget.\\n\\nI’m am very happy with the camera picture quality, Amazing face id unlocked in dark room, Strong battery with perfect screen size as you can carry easily in pocket. This is my third iPhone.\\n\\nI shifted from android Samsung Note series to iPhone because of the strong build quality and peace of mind for next 3-4 years.\\n\\nDon’t think to much just go for it and I suggest you to go for minimum 128gb variant or more 256gb.\\n\\nI’ve attached my puppy pics and no fi...\\nREAD MORE',\n",
       " 'i11 is worthy to buy, too much happy with the product. Thank u flipkart I received the item on time..loved it..',\n",
       " 'So far it’s been an AMAZING experience coming back to iOS after nearly a decade but it’s not as versatile as android though phone is sturdy dropped it accidentally a couple of times and nothing happened fortunately camera is awesome',\n",
       " 'iphone 11 is a very good phone to buy only if you can compromise for the display. The display on this is device is pretty good but you can get other options with better displays in this price segment.\\nIf you can survive with an HD+ LCD panel with thicker bezels and a notch up top then this is a very good phone for you.\\nCameras are awesome, battery backup excellent, great performance and a decent premium look. Good job Apple !',\n",
       " 'It’s a must buy who is looking for an upgrade from previous generation of iPhones. If you are using XR then still you can hold on for sometime and upgrade to 2020 model else this phone is a must buy . Camera quality is amazing and wide angle is something to count upon. Performance wise it’s amazing and feels premium while holding in hand. So a big YES for this device. Go for 128 GB variant as the 4K videos will occupy lots of space and the storage can get over very quickly. Try to buy it with...\\nREAD MORE',\n",
       " 'Value for money❤️❤️\\nIts awesome mobile phone in the world ...\\nDisplay was very good and bright ..\\nTrust me freinds you r never regret after Buying..\\nJust go for it....\\nI love this phone and i switch to iphone x to 11',\n",
       " 'Great iPhone very snappy experience as apple kind. Upgraded from iPhone 7.\\nPros\\n-Camera top class\\n- Battery top performed\\n-Chipset no need to say as apple kind\\n-Security as you expect from apple\\n- Display super bright industry leading colour\\naccuracy and super responsive\\n-Build quality as expect from apple sturdy\\npremium durable beautiful stylish.\\n-Os most stable os in smartphone industry\\n\\nCons\\n-No 5G\\n-Display is not based on OLED technology\\n-Charger headphones and 1 apple stic...\\nREAD MORE',\n",
       " 'Totally in love with this ❤ the camera quality is amazing just love it 😘😘😘 itsss dammnnnnnn amazing... Must buy iPhone 11 this is my best experience ever ☀👌👌🧡🧡🧡🧡🧡 thanku apple ❤',\n",
       " 'What a camera .....just awesome ..you can feel this iPhone just awesome . Good for gaming also ...try pubg in hd it’s just wow',\n",
       " 'Best budget Iphone till date ❤️ go for it guys without second thought. Let me explain you guys about Camera, Display, battery, and performance.\\n\\nCamera: at this price range there is no comparison of camera, you’ll love the picture quality as well as video quality. I am a Vlogger I wanted an iPhone with 4k video by front camera and I got this phone and I am more than happy 😃\\n\\nBattery: I use this phone roughly as I am active social media person and I have a youtube channel. so the battery ba...\\nREAD MORE',\n",
       " \"Iphone is just awesome.. battery backup is very very nice.. continuously for 10 hours we can use it.camera is just awesome.. display is just fab.i love it alot..i had to wait 15 days for it as i pre ordered it..overalll it's worth the price..these all images are clicked by my iPhone..and i love it.\",\n",
       " 'Excellent camera, good performance, no lag. The lcd display is also good.. but difference come when we watch movie in prime and Netflix, the colours are not vibrant.. as we see in amoled display.. and the charger in box is of 5 watts.. takes more than 3 hours to charge from 0 to 100.. so guys be prepare to buy 18 watts charger . Finally I am an android user, it was my first Iapple phone, I promise u guys the iOS is so smooth.. overall the phone is damn good.... close eyes to buy it.. thanks t...\\nREAD MORE',\n",
       " \"It's my first time to use iOS phone and I am loving my upgradation 😍😍 I love the color, I love the assebility of the phone....I need to learn more about its functionality, but as far as I have seen, it's quite easy and it has a lot of functions to work on, specially if you are a content writer or a blogger you get a lot of content creation platforms and they are really amazing.\\n\\nThis phone not only for good quality photography but a lot of other task too.😍💯\",\n",
       " 'It’s been almost a month since I have been using this phone. I upgraded from an iPhone 8. The main issue with my 8 was battery and this phone is just awesome when it comes to battery. It lasts a day and a half for me with my regular use , internet connected always with 4g\\nCan’t move forward without saying this. Battery of this phone is a life saver when I am traveling or at work when I don’t get the option to charge\\nCamera is superb. Front cam selfies and back cam photos are just awesome.\\n...\\nREAD MORE',\n",
       " 'Really worth of money. i just love it. It is the best phone ever.',\n",
       " 'Awesome Phone. Slightly high price but worth. Better than iPhone XR.\\nCamera is superb and wide angle camera is very clear.\\n12MP selfie camera is also very good.\\nA13 Chip gives a very good and smooth performance.',\n",
       " 'This is my first ever I phone. Before this I was using my google nexus 5. But moving from android to iOS is a great experience. It’s worth at this price. I will highly recommend it if you want to move to iOS. The best part of this phone is it’s camera and it’s battery life. This two things have won my heart. I loved it. Happy to have it in my hand. Still exploring its features. And can’t forget to mention Flipkart service. Very prompt service and fast delivery.',\n",
       " 'Superb Product !!!\\nA big and worthy upgrade from mi 3S to iphone 11 .\\nTotally loved it !',\n",
       " 'I have migrated from OP 7pro... and trust me, iPhone 11 is totally worth it.. following are the reasons:-\\n1)there is ABSOLUTELY NO ISSUE WITH THE DISPLAY... its crisp, sharp and I found it to be much much better than OP7 pro. Netflix, Prime video all run crisply... you won’t miss a thing. True Tone works flawlessly...the display brightness is perfect. OP have not calibrated their screens properly.\\n2) iPhone 11 series have really good cameras... others have spoken in depth about them.\\n3) bat...\\nREAD MORE',\n",
       " 'It’s an amazing product from apple and the camera is simply superb. Phone is faster.Night shot is simply superb and detailing and colour differentiation from camera is an added advantage\\n\\nThis review I have written from iPhone 11 only and I am glad to say outside.\\n\\nCons wise if we see HD+ display only, no battery percentage indicator as in older iPhone 8.\\nNo assistive touch control button in it\\nNo oleophobic coating on back panel glass and finger prints are visible but since I bought mint gr...\\nREAD MORE',\n",
       " 'Looking so good 👍 😍 super 👌 stylish 😎 phone\\nClean box 📦 good 👍 delivery 👌 fast delivery\\nOriginal box Original iphone 📱 👌 😍😍😍',\n",
       " 'After 1 month use I found camera quality best compared to my previous Samsung note 10+.Display not good as note 10 also charging too slow.Apple should add fast charger like 11 plus and pro.Best phone for daily use',\n",
       " 'Upgraded from iphone 6 to 11 best phone for iphone users battery is much better than other iphones camera is awesome love to use it.camera is so clear in night.',\n",
       " 'I just directly switch from iphone 6s to iphone 11 .The best premium smartphone I recommend to everyone. Excellent quality and colors the iphone have in 11 series.\\nCamera quality is just awesome and the major feel when we hold in our hands. The sound quality and volume is also higher then the previous models.\\nI will recommend to buy iphone 11 instead of pro models , there is nothing much difference as this model contains everything which fulfill our needs.\\n\\nOnly one thing that I dislike abo...\\nREAD MORE',\n",
       " 'Well you all know the specifications . One of a kind. Best iPhone till date. Many enhancements to the camera app with many options. Love the glass body with matte finish in the lens area on the back. Lovely colours to choose from. Best battery in an iPhone till date, enough to last more than a day in normal usage. I tested my iPhone 11 battery and lasted for than 24 hours after full charge still with 30% battery charge left. Watched movies for some time. Normal usage on calls, browsing, musi...\\nREAD MORE',\n",
       " \"It's very high performances devise i am like the service of flipkart delevary very fast and packing very nice perfect phone\",\n",
       " 'This will help you more. See if you are planning to buy iPhone 11. I will say. Yes. But there are some plans I just want to disclose before you buy. 1) If you are an existing iPhone X/XS/XS Max/ XR user, better you guys do not think it to buy. You guys have more or less better gadget. 2) If you are an android user and planning to buy premium phone. I will suggest them to please buy iPhone instead of buying an Android. I bet you will never go back to android after using IOS. Now I want to shar...\\nREAD MORE',\n",
       " 'The built quality is not very premium.\\nThe battery back is great .\\nThe LCD panel is not so sharp but the brightness level is very High .\\nCamera is super duper awesome.\\nThe red colour which people think is bright is actually very soothing and excellent colour to choose from .\\nThe A13 Bionic chip is really a flagship processor and can beat any phone which even has 12 gb ram .\\nCamera module is very great and looks very stylish.',\n",
       " 'Really good actually this is my first apple product am using its really awesome performance wise excellent. Am really happy with this iphone11',\n",
       " 'it is very good at performance. Camera is best like before and very smooth response even in water. Don’t buy 12 mini buy iPhone 11 , it is far better than 12 mini believe me ! Have a nice day \\uf8ff ☺️',\n",
       " 'Reviewing again after 5 months. At the beginning the battery and performance was good but it degraded soon. Also I was facing heating issues. The mobile will heat up like a stove sometimes. You cannot even play Pubg even in low settings properly, performance is not a problem but heating is. Also if you play that game for 10 mins the brightness will be automatically down due to over heating even when the auto brightness is set to off. This will not be solved even if u manually increase the bri...\\nREAD MORE',\n",
       " 'It is just awesome mobile for this price from Apple,\\n\\nAfter 10 days review\\n\\nBattery enough for 1 day even 24*7 Internet will be on and mostly internet usage\\n\\nCamera is just awesome cool , android 64 MP is equal to this just 12 MP\\n\\nA13 Bionic chip will give more high performance without hanging\\n\\nAudio stereo speakers will give Dolby atoms sound with crystal clear\\n\\nVideo recording is like cinematic shots of every sec can be a 4K 60fps. Just awesome this phone\\niPhone 11 loved one',\n",
       " 'Best Apple iPhone that i have bought at a very reasonable price, camera quality is next level just awesome n of superior quality android phones not even close(RIP) to that and also battery is really good but packaging by Flipkart of iPhone was very poor of such a expensive product, firstly im bit worried about the quality of product if i purchased it through online how was the product but i think now this was mine best decision to bought it through Flipkart online because i got genuine Apple...\\nREAD MORE',\n",
       " \"I can say I'm damn impressed with iPhone 11. As they says iPhone 11 have the toughest glass ever in the smartphone which you'll find on the front and back and it's totally smooth. The fit and finish is full apple quality - there's no sense that any cheaping out has happened in the construction. Without saying it's camera features this review won't complete. The iPhone 11 has a dual camera system, consisting of a wide angle len's that's pretty much same as found on the iPhone XR last year, but...\\nREAD MORE\",\n",
       " 'Best Quality Product OF iPhone Series , Sound Quality & Camera quality is very awesome, Battery Life is very Sufficient for 24 hr Backup With Full Internet Access , I love this this Product too much , It is very fast & making me Very fast in all my daily Routine\\nHighlights;\\n1.Camera: 5 STAR\\n2.Video Recording: 5 star\\n3.Night mODE sHOOTING & Camera:4 star\\n4. Audio Quality: Awesome\\n5. Battery : 5 Star\\n6. Touch:5 Star\\n7. Processor: Very Fast\\nThe M...\\nREAD MORE',\n",
       " 'First thanks to Flipkart for this amazing deal and phone is outstanding. I upgraded from iPhone 7 and this is like very big upgrade. But the packaging was very basic I expected a good packaging as they only wrapped one layer of bubble wrap which I don’t think is enough to protect this expensive phone. And I recommend this phone and seller as well.\\n\\nAnd I’m posting this review after using it for 4 days.',\n",
       " 'Superfast delivery by Flipkart. Thanks.\\n\\n1. iPhone 11 is a pretty solid phone for the money you are paying.\\n2. All the bad reviews about the display is confusing. It’s not that bad.\\n3. I switched from a Oneplus 7t. I have no complaints about the display quality of iPhone. Yes, it’s not OLED, so, we are missing on the deep blacks. But that’s it. It is a very colour accurate display. Gets adequately bright and I could not find any pixelation.\\n4. Performance is one of the best, if not best, in ...\\nREAD MORE',\n",
       " 'Smooth like butter, camera like fantabulous, sound is crystal clear & its red color is damn attractive, i am just loving it. Must buy if you love photography.\\n\\nLucky to get it in sale, thank you Flipkart.',\n",
       " \"Again back to apple iphone after a gap of 2-3 years. It's pleasure to use iOS and the quality product by Apple. Iphone 11 still works like a beast in 2021 also. It really capable of doing day to day usage as well as hard core gaming. Battery is awesome. I'm really too much satisfied with it. Apart fto the very gorgious IPS LCD (AMOLED will be better) everything is mind boggling. Iphone💕.\",\n",
       " 'impressive super phone and best in class camera ,sound and face unlock is super fast just see and phone is unlock and fast in daily apps use',\n",
       " 'Battery backup is extraordinary, camera is decent & performance offered by A13 bionic is awsome. The display is good in practical usage like the visibility of display is very good in direct sun light compare to pro models. Iam extremely satisfied for the money I spent.',\n",
       " 'Well while switching from android to iOS the first thing you need to be careful about is that you will loose all your whatsapp chat backups as both are different operating systems. Camera clarity is awesome and though being an lcd screen clarity and resolution is good. Battery backup is also good unlike previous gen iPhone. So far the experience is good will Padre after a few months of usage.\\n\\nP.S the black is more of a dark grey shade and not jet black',\n",
       " 'In love with this iphone great performance,camera ,battery everything. Go for it have a uncompareble battery backup, no doubts in iPhone camera here You can see the picture which is shot on my iPhone In love with this iphone great performance,camera ,battery everything. Go for it have a uncompareble battery backup, no doubts in iPhone camera here You can see the picture which is shot on my iPhone In love with this iphone great performance,camera ,battery everything. Go for it have a uncompare...\\nREAD MORE',\n",
       " 'Best in class. Battery backup is good especially when you play games like Pubg COD. But it is sort of heavy when you hold in hands. Portrait mode is best to click pictures. Stage light effect is awesome. Try to click photos outside in nature because photos inside home or room will not give you the quality in any phone even in DSLR.',\n",
       " 'Very excited to have this phone. This phone has the real power unlike the android phones having SD 855 . The battery life is very good and the camera quality is excellent as comapred to redmi and other phones except google pixel. I M enjoying every single bit of it. Would recommed only if you have the budget.',\n",
       " \"I upgraded (downgraded?) from my iPhone X since the phone fell down and I didn't want to repair the screen. The box that the phone came in was super slim and I was worried that there'd be no 5W charger with it and my fears were confirmed. However, thankfully I had the 18W USB-C PD charger from Apple which I bought for my iPhone X and it worked perfectly. The charging time is as lethargic as ever though and it takes about 1:30 mins or even 2 hours depending on charge remaining. I'll list some ...\\nREAD MORE\",\n",
       " 'Its Very awesome product working and good camera quality and all about best product and also flipkart is very great deal and offer nice price',\n",
       " 'I am using this phone for 5 days and its one of the best camera out there ❤️ the screen is not oled and i am coming from iphone xs so its little bit not up to the mark i would say\\nBut overall value for money💕😍the battery back up is far better than my iphone xs and its worth in my apple ecosystem💫❤️if u are an apple User and have the eco system then go for it❤️though i will be getting the new iphone but its pretty good💫',\n",
       " 'Best and amazing product.....phone looks so premium.... battary is also good as expected .... Wide angle camera is so addictive ...if you are a IOS lover....then this phone will be the best choice for you all!!💯🔥',\n",
       " 'Excellent camera and display touching very nice and smooth very improvement against iPhone XR and new processor is very fast',\n",
       " 'Awesome purchase. Amazing phone with good battery backup. It’s a top notch device. White colour looks amazing. Phone has a few extra feature than iPhone XR. Overall, this is value for money',\n",
       " 'Always love the apple products, upgraded from old iPhone 6S plus to this after having my first baby. I just love to click baby’s photos with it. Overall I just love this phone. Battery back up is okay, sound quality is good. Haven’t tested yet waterproof yet. Only one thing I hate is apple could have given charger & headphones in box.',\n",
       " 'Value for money\\n5 star rating\\nExcellent camera\\nBattery backup full day in single charge.\\n\\nTougher and water resistant design, glossy back.\\nThe screen has excellent brightness and contrast.\\nApple A13 Bionic is the fastest smartphone chip on the planet.\\nExcellent battery life, fast charging support.\\nStereo speakers with great quality.',\n",
       " 'Amazing camera and feel super machine I am not describe my feeling but this is amazing Phone I am so lucky I have this',\n",
       " 'Please DONT buy from here,\\n\\nI purchased Apple iPhone 11. with an exchange of IPhone 7, the exchange did not go well, iPhone 7 had a small scratch out side screen which i could never identify till date, but the FLIPKART person could, so he reduced 50% from exchange rate. I decided not to trade in, but paid money.\\n\\niPhone 11 Detail Below\\n---------------------------------------------\\nIt came with no charging, then i have put for charging, it took lot of time for charging, the phone also showe...\\nREAD MORE',\n",
       " 'awesome phone to have. it has got many smart features apart from mind blowing looks, camera, display, battery and sound. have fallen in love with this phone. must buy phone if you have got enough money. thanks to flipkart and apple of course..',\n",
       " 'Its a fabulous mobile look awesome performance unbeaten camera like dslr battery good i think this is a beast of mobile',\n",
       " 'Dear friends... I want to share my experience with you about this amazing I phone 11....this is my first iPhone and special things about this mobile is it has great camera, battery backup and awesome display.... I mean everything is perfect.loved it 👍👍👍',\n",
       " \"Just got this iphone 11\\nAnd it is most powerful mobile phone I have used ever\\n\\nSo,go for it if you want a phone with best specification like camera,battery backup,display, A13 bionic chip\\n\\nThat's my review about this phone but yours can be differ from me....\",\n",
       " 'Amazing phone and on great deal I received with super fast delivery by Flipkart...',\n",
       " 'finally an iPhone with very nice battery backup. update from iPhone 7 and happy to have it. camera is not up to the mark in low light but overall a recommended phone if your budget allows 😀',\n",
       " \"I'm switching this phone to oppo reno 10x zoom\\nIt's really impressive\\nRarely I'm missing smooth display touch response like oppo reno but\\nI really loved it.\\nCamera really impressive\",\n",
       " 'Worth the money’ starting first from its performance it beats out all phones , second the smoothness of camera is awesome, contrast ratio is much than expected. Price will not matter if u r a quality person, if not other phones are available with better discount',\n",
       " \"I'm Really happy with the product\\nDelivery was fast as well\\n..it was a gift for my sister and she loved it so much.\",\n",
       " 'Great iphone.\\nI am writing this review after 2 months of usage.\\nCamera is excellent, especially the nightmode\\nDisplay perfect\\nBattery backup awesome\\nSound quality very good\\nOverall Apple gives you a perfect iphone in this range.\\nReally in love with iPhone 11',\n",
       " 'Did an upgrade from 6s plus to iphone 11.\\nAo far the experience is well and good. Felt smoother than 6s plus. The camera quality is superb. Battery backup is descent. Not a heavy user, and gets power more than a day. Go for it if you need an alrounder iphone in a competitve price.',\n",
       " 'Damn this phone is a blast . Upgraded from android to ios and is a duperb experience. Battery backup is top notch and display also pretty good',\n",
       " 'I dreamt about this day from a long time.... Getting an iPhone with my own money.... Super happy and worth spending every penny',\n",
       " 'Thanks Flipkart For this amazing deal! I had a dream of owning a iphone since i had known about.\\nIm very happy with my purchase & it is totally worth it.\\nAmazing experience all over !!\\n\\nAnyone who’s thinking of buying it in 2021, i would simply say go for it without any second thoughts ❤️',\n",
       " 'awesome Phone Smooth Touch Too good Sexyy looks one word Awesome',\n",
       " 'I rate this product 5* as it has got amazing user experience with the best performing A13 bionic processor. The screen responds and graphics rendering is top notch. With casual gaming and internet browsing, the battery lasts for approx. 1 day. Camera is very good. You will fall in love with the portrait mode. You can call me a loyal Apple customer or whatever but I won’t stop praising the products and overall experience. That user experience matters and is worth every penny you pay.\\n\\nBelow ar...\\nREAD MORE',\n",
       " \"Just go for it.\\nThis phone is really amazing. I ordered it for my wife and we click photos on this thing which are better than dslr. I own OnePlus 6t but it's camera sucks. iPhone is really amazing when it comes to camera. It's worth spending 50k on this. Cons- only display is lcd. While using u don't feel it but if u compare with other phone then u can see difference quite easily.\\nChanging from Android to iphone is bit difficult coz most of things u don't know but I liked it. Some of the a...\\nREAD MORE\",\n",
       " \"It was amazing experience for me. Honestly i am using iPhone first time so I don't have that much past experience about that. But after using 7 days this mobile i want to give some honest feedback.\\n1- Display 9 out of 10\\n2- Camera 9.5 out of 10\\n3- Battery 7 out of 10\\n4- Performance 9.5 out of 10\\n5- Features & Functions 10 out of 10\\n6- Outer looks and colour 10 out of 10\\nRest i think i will understand after using this for few months.\\nI will highly recommend you guys if you have budget then you...\\nREAD MORE\",\n",
       " \"I've used this phone for over a month now and here are my takeaways.\\nI would like to first talk about the best things about this phone and then the cons of it.\\n\\nPros:\\nThis phone is a performance beast. It handles large games and applications effortlessly and you won't find any stutters or lags while playing graphic intensive games like pubg, cod , mortal kombat and asphalt.\\n\\nThis phone has only 4gb ram and yet the ram management is amazing, it can keep 3 heavy games in memory without reload...\\nREAD MORE\",\n",
       " 'Here is the thing\\n\\nThe only reason why you should buy this phone is for the camera, iOS, and if you have headaches looking at AMOLED display.\\n\\nI’m not an avid gamer but watch a lot of movies on smartphone. However, my migraine attacks increased considerably after using AMOLED Smartphone. That’s why I made a calculated decision to buy iPhone 11. It has the best LCD display and the blacks, though not as natural as an AMOLED, is better than some of the other smartphones.\\n\\nAdding to this the ste...\\nREAD MORE']"
      ]
     },
     "execution_count": 616,
     "metadata": {},
     "output_type": "execute_result"
    }
   ],
   "source": [
    "f_rev8 = driver.find_elements_by_xpath('//div[@class=\"t-ZTKy\"]')\n",
    "for i in f_rev8:\n",
    "    f_review.append(i.text)\n",
    "f_review"
   ]
  },
  {
   "cell_type": "code",
   "execution_count": 617,
   "id": "bf06661c",
   "metadata": {},
   "outputs": [
    {
     "data": {
      "text/plain": [
       "['Really satisfied with the Product I received... It’s totally genuine and the packaging was also really good so if ur planning to buy just go for it.',\n",
       " 'The Best Phone for the Money\\n\\nThe iPhone 11 offers superb cameras, a more durable design and excellent battery life for an affordable price.\\n\\nCompelling ultra-wide camera\\nNew Night mode is excellent\\nLong battery life',\n",
       " 'This is my first iOS phone. I am very happy with this product. Very much satisfied with this. I love this phone.',\n",
       " 'Amazing phone with great cameras and better battery which gives you the best performance. I just love the camera .',\n",
       " 'Previously I was using one plus 3t it was a great phone\\nAnd then I decided to upgrade I am stuck between Samsung s10 plus or iPhone 11\\nI have seen the specs and everything were good except the display it’s somewhere between 720-1080 and it’s not even an amoled it’s an LCD display\\nBut I decided to go with iPhone because I have never used an IOS device I have Been an android user from the past 9 years I ordered IPhone 11 (128gb) product red\\nMy experience after using 3 weeks\\n1. The delivery ...\\nREAD MORE',\n",
       " 'Amazing Powerful and Durable Gadget.\\n\\nI’m am very happy with the camera picture quality, Amazing face id unlocked in dark room, Strong battery with perfect screen size as you can carry easily in pocket. This is my third iPhone.\\n\\nI shifted from android Samsung Note series to iPhone because of the strong build quality and peace of mind for next 3-4 years.\\n\\nDon’t think to much just go for it and I suggest you to go for minimum 128gb variant or more 256gb.\\n\\nI’ve attached my puppy pics and no fi...\\nREAD MORE',\n",
       " 'i11 is worthy to buy, too much happy with the product. Thank u flipkart I received the item on time..loved it..',\n",
       " 'So far it’s been an AMAZING experience coming back to iOS after nearly a decade but it’s not as versatile as android though phone is sturdy dropped it accidentally a couple of times and nothing happened fortunately camera is awesome',\n",
       " 'iphone 11 is a very good phone to buy only if you can compromise for the display. The display on this is device is pretty good but you can get other options with better displays in this price segment.\\nIf you can survive with an HD+ LCD panel with thicker bezels and a notch up top then this is a very good phone for you.\\nCameras are awesome, battery backup excellent, great performance and a decent premium look. Good job Apple !',\n",
       " 'It’s a must buy who is looking for an upgrade from previous generation of iPhones. If you are using XR then still you can hold on for sometime and upgrade to 2020 model else this phone is a must buy . Camera quality is amazing and wide angle is something to count upon. Performance wise it’s amazing and feels premium while holding in hand. So a big YES for this device. Go for 128 GB variant as the 4K videos will occupy lots of space and the storage can get over very quickly. Try to buy it with...\\nREAD MORE',\n",
       " 'Value for money❤️❤️\\nIts awesome mobile phone in the world ...\\nDisplay was very good and bright ..\\nTrust me freinds you r never regret after Buying..\\nJust go for it....\\nI love this phone and i switch to iphone x to 11',\n",
       " 'Great iPhone very snappy experience as apple kind. Upgraded from iPhone 7.\\nPros\\n-Camera top class\\n- Battery top performed\\n-Chipset no need to say as apple kind\\n-Security as you expect from apple\\n- Display super bright industry leading colour\\naccuracy and super responsive\\n-Build quality as expect from apple sturdy\\npremium durable beautiful stylish.\\n-Os most stable os in smartphone industry\\n\\nCons\\n-No 5G\\n-Display is not based on OLED technology\\n-Charger headphones and 1 apple stic...\\nREAD MORE',\n",
       " 'Totally in love with this ❤ the camera quality is amazing just love it 😘😘😘 itsss dammnnnnnn amazing... Must buy iPhone 11 this is my best experience ever ☀👌👌🧡🧡🧡🧡🧡 thanku apple ❤',\n",
       " 'What a camera .....just awesome ..you can feel this iPhone just awesome . Good for gaming also ...try pubg in hd it’s just wow',\n",
       " 'Best budget Iphone till date ❤️ go for it guys without second thought. Let me explain you guys about Camera, Display, battery, and performance.\\n\\nCamera: at this price range there is no comparison of camera, you’ll love the picture quality as well as video quality. I am a Vlogger I wanted an iPhone with 4k video by front camera and I got this phone and I am more than happy 😃\\n\\nBattery: I use this phone roughly as I am active social media person and I have a youtube channel. so the battery ba...\\nREAD MORE',\n",
       " \"Iphone is just awesome.. battery backup is very very nice.. continuously for 10 hours we can use it.camera is just awesome.. display is just fab.i love it alot..i had to wait 15 days for it as i pre ordered it..overalll it's worth the price..these all images are clicked by my iPhone..and i love it.\",\n",
       " 'Excellent camera, good performance, no lag. The lcd display is also good.. but difference come when we watch movie in prime and Netflix, the colours are not vibrant.. as we see in amoled display.. and the charger in box is of 5 watts.. takes more than 3 hours to charge from 0 to 100.. so guys be prepare to buy 18 watts charger . Finally I am an android user, it was my first Iapple phone, I promise u guys the iOS is so smooth.. overall the phone is damn good.... close eyes to buy it.. thanks t...\\nREAD MORE',\n",
       " \"It's my first time to use iOS phone and I am loving my upgradation 😍😍 I love the color, I love the assebility of the phone....I need to learn more about its functionality, but as far as I have seen, it's quite easy and it has a lot of functions to work on, specially if you are a content writer or a blogger you get a lot of content creation platforms and they are really amazing.\\n\\nThis phone not only for good quality photography but a lot of other task too.😍💯\",\n",
       " 'It’s been almost a month since I have been using this phone. I upgraded from an iPhone 8. The main issue with my 8 was battery and this phone is just awesome when it comes to battery. It lasts a day and a half for me with my regular use , internet connected always with 4g\\nCan’t move forward without saying this. Battery of this phone is a life saver when I am traveling or at work when I don’t get the option to charge\\nCamera is superb. Front cam selfies and back cam photos are just awesome.\\n...\\nREAD MORE',\n",
       " 'Really worth of money. i just love it. It is the best phone ever.',\n",
       " 'Awesome Phone. Slightly high price but worth. Better than iPhone XR.\\nCamera is superb and wide angle camera is very clear.\\n12MP selfie camera is also very good.\\nA13 Chip gives a very good and smooth performance.',\n",
       " 'This is my first ever I phone. Before this I was using my google nexus 5. But moving from android to iOS is a great experience. It’s worth at this price. I will highly recommend it if you want to move to iOS. The best part of this phone is it’s camera and it’s battery life. This two things have won my heart. I loved it. Happy to have it in my hand. Still exploring its features. And can’t forget to mention Flipkart service. Very prompt service and fast delivery.',\n",
       " 'Superb Product !!!\\nA big and worthy upgrade from mi 3S to iphone 11 .\\nTotally loved it !',\n",
       " 'I have migrated from OP 7pro... and trust me, iPhone 11 is totally worth it.. following are the reasons:-\\n1)there is ABSOLUTELY NO ISSUE WITH THE DISPLAY... its crisp, sharp and I found it to be much much better than OP7 pro. Netflix, Prime video all run crisply... you won’t miss a thing. True Tone works flawlessly...the display brightness is perfect. OP have not calibrated their screens properly.\\n2) iPhone 11 series have really good cameras... others have spoken in depth about them.\\n3) bat...\\nREAD MORE',\n",
       " 'It’s an amazing product from apple and the camera is simply superb. Phone is faster.Night shot is simply superb and detailing and colour differentiation from camera is an added advantage\\n\\nThis review I have written from iPhone 11 only and I am glad to say outside.\\n\\nCons wise if we see HD+ display only, no battery percentage indicator as in older iPhone 8.\\nNo assistive touch control button in it\\nNo oleophobic coating on back panel glass and finger prints are visible but since I bought mint gr...\\nREAD MORE',\n",
       " 'Looking so good 👍 😍 super 👌 stylish 😎 phone\\nClean box 📦 good 👍 delivery 👌 fast delivery\\nOriginal box Original iphone 📱 👌 😍😍😍',\n",
       " 'After 1 month use I found camera quality best compared to my previous Samsung note 10+.Display not good as note 10 also charging too slow.Apple should add fast charger like 11 plus and pro.Best phone for daily use',\n",
       " 'Upgraded from iphone 6 to 11 best phone for iphone users battery is much better than other iphones camera is awesome love to use it.camera is so clear in night.',\n",
       " 'I just directly switch from iphone 6s to iphone 11 .The best premium smartphone I recommend to everyone. Excellent quality and colors the iphone have in 11 series.\\nCamera quality is just awesome and the major feel when we hold in our hands. The sound quality and volume is also higher then the previous models.\\nI will recommend to buy iphone 11 instead of pro models , there is nothing much difference as this model contains everything which fulfill our needs.\\n\\nOnly one thing that I dislike abo...\\nREAD MORE',\n",
       " 'Well you all know the specifications . One of a kind. Best iPhone till date. Many enhancements to the camera app with many options. Love the glass body with matte finish in the lens area on the back. Lovely colours to choose from. Best battery in an iPhone till date, enough to last more than a day in normal usage. I tested my iPhone 11 battery and lasted for than 24 hours after full charge still with 30% battery charge left. Watched movies for some time. Normal usage on calls, browsing, musi...\\nREAD MORE',\n",
       " \"It's very high performances devise i am like the service of flipkart delevary very fast and packing very nice perfect phone\",\n",
       " 'This will help you more. See if you are planning to buy iPhone 11. I will say. Yes. But there are some plans I just want to disclose before you buy. 1) If you are an existing iPhone X/XS/XS Max/ XR user, better you guys do not think it to buy. You guys have more or less better gadget. 2) If you are an android user and planning to buy premium phone. I will suggest them to please buy iPhone instead of buying an Android. I bet you will never go back to android after using IOS. Now I want to shar...\\nREAD MORE',\n",
       " 'The built quality is not very premium.\\nThe battery back is great .\\nThe LCD panel is not so sharp but the brightness level is very High .\\nCamera is super duper awesome.\\nThe red colour which people think is bright is actually very soothing and excellent colour to choose from .\\nThe A13 Bionic chip is really a flagship processor and can beat any phone which even has 12 gb ram .\\nCamera module is very great and looks very stylish.',\n",
       " 'Really good actually this is my first apple product am using its really awesome performance wise excellent. Am really happy with this iphone11',\n",
       " 'it is very good at performance. Camera is best like before and very smooth response even in water. Don’t buy 12 mini buy iPhone 11 , it is far better than 12 mini believe me ! Have a nice day \\uf8ff ☺️',\n",
       " 'Reviewing again after 5 months. At the beginning the battery and performance was good but it degraded soon. Also I was facing heating issues. The mobile will heat up like a stove sometimes. You cannot even play Pubg even in low settings properly, performance is not a problem but heating is. Also if you play that game for 10 mins the brightness will be automatically down due to over heating even when the auto brightness is set to off. This will not be solved even if u manually increase the bri...\\nREAD MORE',\n",
       " 'It is just awesome mobile for this price from Apple,\\n\\nAfter 10 days review\\n\\nBattery enough for 1 day even 24*7 Internet will be on and mostly internet usage\\n\\nCamera is just awesome cool , android 64 MP is equal to this just 12 MP\\n\\nA13 Bionic chip will give more high performance without hanging\\n\\nAudio stereo speakers will give Dolby atoms sound with crystal clear\\n\\nVideo recording is like cinematic shots of every sec can be a 4K 60fps. Just awesome this phone\\niPhone 11 loved one',\n",
       " 'Best Apple iPhone that i have bought at a very reasonable price, camera quality is next level just awesome n of superior quality android phones not even close(RIP) to that and also battery is really good but packaging by Flipkart of iPhone was very poor of such a expensive product, firstly im bit worried about the quality of product if i purchased it through online how was the product but i think now this was mine best decision to bought it through Flipkart online because i got genuine Apple...\\nREAD MORE',\n",
       " \"I can say I'm damn impressed with iPhone 11. As they says iPhone 11 have the toughest glass ever in the smartphone which you'll find on the front and back and it's totally smooth. The fit and finish is full apple quality - there's no sense that any cheaping out has happened in the construction. Without saying it's camera features this review won't complete. The iPhone 11 has a dual camera system, consisting of a wide angle len's that's pretty much same as found on the iPhone XR last year, but...\\nREAD MORE\",\n",
       " 'Best Quality Product OF iPhone Series , Sound Quality & Camera quality is very awesome, Battery Life is very Sufficient for 24 hr Backup With Full Internet Access , I love this this Product too much , It is very fast & making me Very fast in all my daily Routine\\nHighlights;\\n1.Camera: 5 STAR\\n2.Video Recording: 5 star\\n3.Night mODE sHOOTING & Camera:4 star\\n4. Audio Quality: Awesome\\n5. Battery : 5 Star\\n6. Touch:5 Star\\n7. Processor: Very Fast\\nThe M...\\nREAD MORE',\n",
       " 'First thanks to Flipkart for this amazing deal and phone is outstanding. I upgraded from iPhone 7 and this is like very big upgrade. But the packaging was very basic I expected a good packaging as they only wrapped one layer of bubble wrap which I don’t think is enough to protect this expensive phone. And I recommend this phone and seller as well.\\n\\nAnd I’m posting this review after using it for 4 days.',\n",
       " 'Superfast delivery by Flipkart. Thanks.\\n\\n1. iPhone 11 is a pretty solid phone for the money you are paying.\\n2. All the bad reviews about the display is confusing. It’s not that bad.\\n3. I switched from a Oneplus 7t. I have no complaints about the display quality of iPhone. Yes, it’s not OLED, so, we are missing on the deep blacks. But that’s it. It is a very colour accurate display. Gets adequately bright and I could not find any pixelation.\\n4. Performance is one of the best, if not best, in ...\\nREAD MORE',\n",
       " 'Smooth like butter, camera like fantabulous, sound is crystal clear & its red color is damn attractive, i am just loving it. Must buy if you love photography.\\n\\nLucky to get it in sale, thank you Flipkart.',\n",
       " \"Again back to apple iphone after a gap of 2-3 years. It's pleasure to use iOS and the quality product by Apple. Iphone 11 still works like a beast in 2021 also. It really capable of doing day to day usage as well as hard core gaming. Battery is awesome. I'm really too much satisfied with it. Apart fto the very gorgious IPS LCD (AMOLED will be better) everything is mind boggling. Iphone💕.\",\n",
       " 'impressive super phone and best in class camera ,sound and face unlock is super fast just see and phone is unlock and fast in daily apps use',\n",
       " 'Battery backup is extraordinary, camera is decent & performance offered by A13 bionic is awsome. The display is good in practical usage like the visibility of display is very good in direct sun light compare to pro models. Iam extremely satisfied for the money I spent.',\n",
       " 'Well while switching from android to iOS the first thing you need to be careful about is that you will loose all your whatsapp chat backups as both are different operating systems. Camera clarity is awesome and though being an lcd screen clarity and resolution is good. Battery backup is also good unlike previous gen iPhone. So far the experience is good will Padre after a few months of usage.\\n\\nP.S the black is more of a dark grey shade and not jet black',\n",
       " 'In love with this iphone great performance,camera ,battery everything. Go for it have a uncompareble battery backup, no doubts in iPhone camera here You can see the picture which is shot on my iPhone In love with this iphone great performance,camera ,battery everything. Go for it have a uncompareble battery backup, no doubts in iPhone camera here You can see the picture which is shot on my iPhone In love with this iphone great performance,camera ,battery everything. Go for it have a uncompare...\\nREAD MORE',\n",
       " 'Best in class. Battery backup is good especially when you play games like Pubg COD. But it is sort of heavy when you hold in hands. Portrait mode is best to click pictures. Stage light effect is awesome. Try to click photos outside in nature because photos inside home or room will not give you the quality in any phone even in DSLR.',\n",
       " 'Very excited to have this phone. This phone has the real power unlike the android phones having SD 855 . The battery life is very good and the camera quality is excellent as comapred to redmi and other phones except google pixel. I M enjoying every single bit of it. Would recommed only if you have the budget.',\n",
       " \"I upgraded (downgraded?) from my iPhone X since the phone fell down and I didn't want to repair the screen. The box that the phone came in was super slim and I was worried that there'd be no 5W charger with it and my fears were confirmed. However, thankfully I had the 18W USB-C PD charger from Apple which I bought for my iPhone X and it worked perfectly. The charging time is as lethargic as ever though and it takes about 1:30 mins or even 2 hours depending on charge remaining. I'll list some ...\\nREAD MORE\",\n",
       " 'Its Very awesome product working and good camera quality and all about best product and also flipkart is very great deal and offer nice price',\n",
       " 'I am using this phone for 5 days and its one of the best camera out there ❤️ the screen is not oled and i am coming from iphone xs so its little bit not up to the mark i would say\\nBut overall value for money💕😍the battery back up is far better than my iphone xs and its worth in my apple ecosystem💫❤️if u are an apple User and have the eco system then go for it❤️though i will be getting the new iphone but its pretty good💫',\n",
       " 'Best and amazing product.....phone looks so premium.... battary is also good as expected .... Wide angle camera is so addictive ...if you are a IOS lover....then this phone will be the best choice for you all!!💯🔥',\n",
       " 'Excellent camera and display touching very nice and smooth very improvement against iPhone XR and new processor is very fast',\n",
       " 'Awesome purchase. Amazing phone with good battery backup. It’s a top notch device. White colour looks amazing. Phone has a few extra feature than iPhone XR. Overall, this is value for money',\n",
       " 'Always love the apple products, upgraded from old iPhone 6S plus to this after having my first baby. I just love to click baby’s photos with it. Overall I just love this phone. Battery back up is okay, sound quality is good. Haven’t tested yet waterproof yet. Only one thing I hate is apple could have given charger & headphones in box.',\n",
       " 'Value for money\\n5 star rating\\nExcellent camera\\nBattery backup full day in single charge.\\n\\nTougher and water resistant design, glossy back.\\nThe screen has excellent brightness and contrast.\\nApple A13 Bionic is the fastest smartphone chip on the planet.\\nExcellent battery life, fast charging support.\\nStereo speakers with great quality.',\n",
       " 'Amazing camera and feel super machine I am not describe my feeling but this is amazing Phone I am so lucky I have this',\n",
       " 'Please DONT buy from here,\\n\\nI purchased Apple iPhone 11. with an exchange of IPhone 7, the exchange did not go well, iPhone 7 had a small scratch out side screen which i could never identify till date, but the FLIPKART person could, so he reduced 50% from exchange rate. I decided not to trade in, but paid money.\\n\\niPhone 11 Detail Below\\n---------------------------------------------\\nIt came with no charging, then i have put for charging, it took lot of time for charging, the phone also showe...\\nREAD MORE',\n",
       " 'awesome phone to have. it has got many smart features apart from mind blowing looks, camera, display, battery and sound. have fallen in love with this phone. must buy phone if you have got enough money. thanks to flipkart and apple of course..',\n",
       " 'Its a fabulous mobile look awesome performance unbeaten camera like dslr battery good i think this is a beast of mobile',\n",
       " 'Dear friends... I want to share my experience with you about this amazing I phone 11....this is my first iPhone and special things about this mobile is it has great camera, battery backup and awesome display.... I mean everything is perfect.loved it 👍👍👍',\n",
       " \"Just got this iphone 11\\nAnd it is most powerful mobile phone I have used ever\\n\\nSo,go for it if you want a phone with best specification like camera,battery backup,display, A13 bionic chip\\n\\nThat's my review about this phone but yours can be differ from me....\",\n",
       " 'Amazing phone and on great deal I received with super fast delivery by Flipkart...',\n",
       " 'finally an iPhone with very nice battery backup. update from iPhone 7 and happy to have it. camera is not up to the mark in low light but overall a recommended phone if your budget allows 😀',\n",
       " \"I'm switching this phone to oppo reno 10x zoom\\nIt's really impressive\\nRarely I'm missing smooth display touch response like oppo reno but\\nI really loved it.\\nCamera really impressive\",\n",
       " 'Worth the money’ starting first from its performance it beats out all phones , second the smoothness of camera is awesome, contrast ratio is much than expected. Price will not matter if u r a quality person, if not other phones are available with better discount',\n",
       " \"I'm Really happy with the product\\nDelivery was fast as well\\n..it was a gift for my sister and she loved it so much.\",\n",
       " 'Great iphone.\\nI am writing this review after 2 months of usage.\\nCamera is excellent, especially the nightmode\\nDisplay perfect\\nBattery backup awesome\\nSound quality very good\\nOverall Apple gives you a perfect iphone in this range.\\nReally in love with iPhone 11',\n",
       " 'Did an upgrade from 6s plus to iphone 11.\\nAo far the experience is well and good. Felt smoother than 6s plus. The camera quality is superb. Battery backup is descent. Not a heavy user, and gets power more than a day. Go for it if you need an alrounder iphone in a competitve price.',\n",
       " 'Damn this phone is a blast . Upgraded from android to ios and is a duperb experience. Battery backup is top notch and display also pretty good',\n",
       " 'I dreamt about this day from a long time.... Getting an iPhone with my own money.... Super happy and worth spending every penny',\n",
       " 'Thanks Flipkart For this amazing deal! I had a dream of owning a iphone since i had known about.\\nIm very happy with my purchase & it is totally worth it.\\nAmazing experience all over !!\\n\\nAnyone who’s thinking of buying it in 2021, i would simply say go for it without any second thoughts ❤️',\n",
       " 'awesome Phone Smooth Touch Too good Sexyy looks one word Awesome',\n",
       " 'I rate this product 5* as it has got amazing user experience with the best performing A13 bionic processor. The screen responds and graphics rendering is top notch. With casual gaming and internet browsing, the battery lasts for approx. 1 day. Camera is very good. You will fall in love with the portrait mode. You can call me a loyal Apple customer or whatever but I won’t stop praising the products and overall experience. That user experience matters and is worth every penny you pay.\\n\\nBelow ar...\\nREAD MORE',\n",
       " \"Just go for it.\\nThis phone is really amazing. I ordered it for my wife and we click photos on this thing which are better than dslr. I own OnePlus 6t but it's camera sucks. iPhone is really amazing when it comes to camera. It's worth spending 50k on this. Cons- only display is lcd. While using u don't feel it but if u compare with other phone then u can see difference quite easily.\\nChanging from Android to iphone is bit difficult coz most of things u don't know but I liked it. Some of the a...\\nREAD MORE\",\n",
       " \"It was amazing experience for me. Honestly i am using iPhone first time so I don't have that much past experience about that. But after using 7 days this mobile i want to give some honest feedback.\\n1- Display 9 out of 10\\n2- Camera 9.5 out of 10\\n3- Battery 7 out of 10\\n4- Performance 9.5 out of 10\\n5- Features & Functions 10 out of 10\\n6- Outer looks and colour 10 out of 10\\nRest i think i will understand after using this for few months.\\nI will highly recommend you guys if you have budget then you...\\nREAD MORE\",\n",
       " \"I've used this phone for over a month now and here are my takeaways.\\nI would like to first talk about the best things about this phone and then the cons of it.\\n\\nPros:\\nThis phone is a performance beast. It handles large games and applications effortlessly and you won't find any stutters or lags while playing graphic intensive games like pubg, cod , mortal kombat and asphalt.\\n\\nThis phone has only 4gb ram and yet the ram management is amazing, it can keep 3 heavy games in memory without reload...\\nREAD MORE\",\n",
       " 'Here is the thing\\n\\nThe only reason why you should buy this phone is for the camera, iOS, and if you have headaches looking at AMOLED display.\\n\\nI’m not an avid gamer but watch a lot of movies on smartphone. However, my migraine attacks increased considerably after using AMOLED Smartphone. That’s why I made a calculated decision to buy iPhone 11. It has the best LCD display and the blacks, though not as natural as an AMOLED, is better than some of the other smartphones.\\n\\nAdding to this the ste...\\nREAD MORE',\n",
       " 'Undoubtedly Iphone 11 is the most successful model till now and its performance is extraordinary and the security features are very impressive, display is more vibrant sound quality Camera Quality 5*****, but Iphone should add accessories too and act like scrooge.',\n",
       " \"If you are looking for a premium phone under 55k, this is the one for you.Got the iPhone 11 during the Republic day sale. Performance is top notch in this price range. Camera's do a perfect job in taking good quality photos and videos. Battery backup too is satisfactory. Writing this review after using for a week. Any further observations would be updated.\",\n",
       " 'Absolutely powerful gadget. Loved it’s look! Soo glassy and classy. I would definitely recommend this model of Apple. Only disappointed with the 5W charger, one should purchase an 18W adapter for fast charging. Though battery backup is great. Bought it in September 2020, reviewing after so long so I’m gonna put the genuine review here.✅',\n",
       " 'I purchased the iPhone 11 a month back. I must say Apple has impressed me yet again . I have been an Apple user for past 5 years . The phone is power packed with amazing features . What impressed me the most was the battery backup the phone offers . Battery can easily run upto 1.5 days in single charge with moderate to\\nHeavy usage . If you’re looking for a value for money device , I don’t see any other phone in the price range which can match the iPhone 11 .\\nOne thing I didn’t like was that ...\\nREAD MORE',\n",
       " 'We are on apple ecosystem for almost eight years now with couple of iPads and iPhones, including Xr.\\n\\nBought iPhone 11 as a gift to my daughter who loves it. We chose for a purple coloured one. Believe me it is gorgeous and towards the lighter shade. Dazzling and brilliant!\\n\\nThe phone is great and does excellent RAM management like any other Apple device.\\n\\nThe screen, though a LCD and lesser ppi as compared to other flagship phones of competitor brands, is a delight to watch with perfect re...\\nREAD MORE',\n",
       " 'Nice value for money good and best price I phone mind blowing camera processor very fast other android mobile I am happy India top selling phone 2020',\n",
       " \"phone is good but in display is 720p lcd in this price range we can get full hd OLED displays with higher refresh rate processor is very good camera is nice but looks kind of oldish in front of todays phone also there's no charging in box had to buy it seperately\",\n",
       " 'Can’t beat the software and hardware integration of apple.\\nPerforms like a beast. Great quality camera\\n6-7 hours screen on time which is good. Nothing much to complaint about the screen. Good connectivity speeds.\\nGreat buy and Flipkart’s delivery top notch as usual',\n",
       " 'I bought iPhone 11 On March 2021, And I am Writing this review after using the phone for 4 Months. I would Say Everything is fine, Top Performance, Nice Camera as Anyone would Expect from any series of iPhone but when the Question comes to Battery it is complicated. The Battery is fully optimised and it comes 3110 mAh capacity but the problem is with the charger. Honestly Apple Removed charger from in Box items in the name of Environment and they are also forcing us to buy any 20W PD 3rd part...\\nREAD MORE',\n",
       " 'I use a Note10+ and have been using both iOS and Android devices.\\n\\nCamera has really good features and portraits are super good, better than Samsung flagship. Overall camera setup can still be enhanced and hopeful for better upgrades on software in next release\\n\\nOperating system is quite a breeze and user experience of daily usage is very high as compared to Android. I moved to iOS very swiftly in 2 days for all my office work from Note10+\\n\\nBattery holds up quite well with 4 hrs of call and ...\\nREAD MORE']"
      ]
     },
     "execution_count": 617,
     "metadata": {},
     "output_type": "execute_result"
    }
   ],
   "source": [
    "f_rev9 = driver.find_elements_by_xpath('//div[@class=\"t-ZTKy\"]')\n",
    "for i in f_rev9:\n",
    "    f_review.append(i.text)\n",
    "f_review"
   ]
  },
  {
   "cell_type": "code",
   "execution_count": 618,
   "id": "6a8e98dd",
   "metadata": {},
   "outputs": [
    {
     "data": {
      "text/plain": [
       "['Really satisfied with the Product I received... It’s totally genuine and the packaging was also really good so if ur planning to buy just go for it.',\n",
       " 'The Best Phone for the Money\\n\\nThe iPhone 11 offers superb cameras, a more durable design and excellent battery life for an affordable price.\\n\\nCompelling ultra-wide camera\\nNew Night mode is excellent\\nLong battery life',\n",
       " 'This is my first iOS phone. I am very happy with this product. Very much satisfied with this. I love this phone.',\n",
       " 'Amazing phone with great cameras and better battery which gives you the best performance. I just love the camera .',\n",
       " 'Previously I was using one plus 3t it was a great phone\\nAnd then I decided to upgrade I am stuck between Samsung s10 plus or iPhone 11\\nI have seen the specs and everything were good except the display it’s somewhere between 720-1080 and it’s not even an amoled it’s an LCD display\\nBut I decided to go with iPhone because I have never used an IOS device I have Been an android user from the past 9 years I ordered IPhone 11 (128gb) product red\\nMy experience after using 3 weeks\\n1. The delivery ...\\nREAD MORE',\n",
       " 'Amazing Powerful and Durable Gadget.\\n\\nI’m am very happy with the camera picture quality, Amazing face id unlocked in dark room, Strong battery with perfect screen size as you can carry easily in pocket. This is my third iPhone.\\n\\nI shifted from android Samsung Note series to iPhone because of the strong build quality and peace of mind for next 3-4 years.\\n\\nDon’t think to much just go for it and I suggest you to go for minimum 128gb variant or more 256gb.\\n\\nI’ve attached my puppy pics and no fi...\\nREAD MORE',\n",
       " 'i11 is worthy to buy, too much happy with the product. Thank u flipkart I received the item on time..loved it..',\n",
       " 'So far it’s been an AMAZING experience coming back to iOS after nearly a decade but it’s not as versatile as android though phone is sturdy dropped it accidentally a couple of times and nothing happened fortunately camera is awesome',\n",
       " 'iphone 11 is a very good phone to buy only if you can compromise for the display. The display on this is device is pretty good but you can get other options with better displays in this price segment.\\nIf you can survive with an HD+ LCD panel with thicker bezels and a notch up top then this is a very good phone for you.\\nCameras are awesome, battery backup excellent, great performance and a decent premium look. Good job Apple !',\n",
       " 'It’s a must buy who is looking for an upgrade from previous generation of iPhones. If you are using XR then still you can hold on for sometime and upgrade to 2020 model else this phone is a must buy . Camera quality is amazing and wide angle is something to count upon. Performance wise it’s amazing and feels premium while holding in hand. So a big YES for this device. Go for 128 GB variant as the 4K videos will occupy lots of space and the storage can get over very quickly. Try to buy it with...\\nREAD MORE',\n",
       " 'Value for money❤️❤️\\nIts awesome mobile phone in the world ...\\nDisplay was very good and bright ..\\nTrust me freinds you r never regret after Buying..\\nJust go for it....\\nI love this phone and i switch to iphone x to 11',\n",
       " 'Great iPhone very snappy experience as apple kind. Upgraded from iPhone 7.\\nPros\\n-Camera top class\\n- Battery top performed\\n-Chipset no need to say as apple kind\\n-Security as you expect from apple\\n- Display super bright industry leading colour\\naccuracy and super responsive\\n-Build quality as expect from apple sturdy\\npremium durable beautiful stylish.\\n-Os most stable os in smartphone industry\\n\\nCons\\n-No 5G\\n-Display is not based on OLED technology\\n-Charger headphones and 1 apple stic...\\nREAD MORE',\n",
       " 'Totally in love with this ❤ the camera quality is amazing just love it 😘😘😘 itsss dammnnnnnn amazing... Must buy iPhone 11 this is my best experience ever ☀👌👌🧡🧡🧡🧡🧡 thanku apple ❤',\n",
       " 'What a camera .....just awesome ..you can feel this iPhone just awesome . Good for gaming also ...try pubg in hd it’s just wow',\n",
       " 'Best budget Iphone till date ❤️ go for it guys without second thought. Let me explain you guys about Camera, Display, battery, and performance.\\n\\nCamera: at this price range there is no comparison of camera, you’ll love the picture quality as well as video quality. I am a Vlogger I wanted an iPhone with 4k video by front camera and I got this phone and I am more than happy 😃\\n\\nBattery: I use this phone roughly as I am active social media person and I have a youtube channel. so the battery ba...\\nREAD MORE',\n",
       " \"Iphone is just awesome.. battery backup is very very nice.. continuously for 10 hours we can use it.camera is just awesome.. display is just fab.i love it alot..i had to wait 15 days for it as i pre ordered it..overalll it's worth the price..these all images are clicked by my iPhone..and i love it.\",\n",
       " 'Excellent camera, good performance, no lag. The lcd display is also good.. but difference come when we watch movie in prime and Netflix, the colours are not vibrant.. as we see in amoled display.. and the charger in box is of 5 watts.. takes more than 3 hours to charge from 0 to 100.. so guys be prepare to buy 18 watts charger . Finally I am an android user, it was my first Iapple phone, I promise u guys the iOS is so smooth.. overall the phone is damn good.... close eyes to buy it.. thanks t...\\nREAD MORE',\n",
       " \"It's my first time to use iOS phone and I am loving my upgradation 😍😍 I love the color, I love the assebility of the phone....I need to learn more about its functionality, but as far as I have seen, it's quite easy and it has a lot of functions to work on, specially if you are a content writer or a blogger you get a lot of content creation platforms and they are really amazing.\\n\\nThis phone not only for good quality photography but a lot of other task too.😍💯\",\n",
       " 'It’s been almost a month since I have been using this phone. I upgraded from an iPhone 8. The main issue with my 8 was battery and this phone is just awesome when it comes to battery. It lasts a day and a half for me with my regular use , internet connected always with 4g\\nCan’t move forward without saying this. Battery of this phone is a life saver when I am traveling or at work when I don’t get the option to charge\\nCamera is superb. Front cam selfies and back cam photos are just awesome.\\n...\\nREAD MORE',\n",
       " 'Really worth of money. i just love it. It is the best phone ever.',\n",
       " 'Awesome Phone. Slightly high price but worth. Better than iPhone XR.\\nCamera is superb and wide angle camera is very clear.\\n12MP selfie camera is also very good.\\nA13 Chip gives a very good and smooth performance.',\n",
       " 'This is my first ever I phone. Before this I was using my google nexus 5. But moving from android to iOS is a great experience. It’s worth at this price. I will highly recommend it if you want to move to iOS. The best part of this phone is it’s camera and it’s battery life. This two things have won my heart. I loved it. Happy to have it in my hand. Still exploring its features. And can’t forget to mention Flipkart service. Very prompt service and fast delivery.',\n",
       " 'Superb Product !!!\\nA big and worthy upgrade from mi 3S to iphone 11 .\\nTotally loved it !',\n",
       " 'I have migrated from OP 7pro... and trust me, iPhone 11 is totally worth it.. following are the reasons:-\\n1)there is ABSOLUTELY NO ISSUE WITH THE DISPLAY... its crisp, sharp and I found it to be much much better than OP7 pro. Netflix, Prime video all run crisply... you won’t miss a thing. True Tone works flawlessly...the display brightness is perfect. OP have not calibrated their screens properly.\\n2) iPhone 11 series have really good cameras... others have spoken in depth about them.\\n3) bat...\\nREAD MORE',\n",
       " 'It’s an amazing product from apple and the camera is simply superb. Phone is faster.Night shot is simply superb and detailing and colour differentiation from camera is an added advantage\\n\\nThis review I have written from iPhone 11 only and I am glad to say outside.\\n\\nCons wise if we see HD+ display only, no battery percentage indicator as in older iPhone 8.\\nNo assistive touch control button in it\\nNo oleophobic coating on back panel glass and finger prints are visible but since I bought mint gr...\\nREAD MORE',\n",
       " 'Looking so good 👍 😍 super 👌 stylish 😎 phone\\nClean box 📦 good 👍 delivery 👌 fast delivery\\nOriginal box Original iphone 📱 👌 😍😍😍',\n",
       " 'After 1 month use I found camera quality best compared to my previous Samsung note 10+.Display not good as note 10 also charging too slow.Apple should add fast charger like 11 plus and pro.Best phone for daily use',\n",
       " 'Upgraded from iphone 6 to 11 best phone for iphone users battery is much better than other iphones camera is awesome love to use it.camera is so clear in night.',\n",
       " 'I just directly switch from iphone 6s to iphone 11 .The best premium smartphone I recommend to everyone. Excellent quality and colors the iphone have in 11 series.\\nCamera quality is just awesome and the major feel when we hold in our hands. The sound quality and volume is also higher then the previous models.\\nI will recommend to buy iphone 11 instead of pro models , there is nothing much difference as this model contains everything which fulfill our needs.\\n\\nOnly one thing that I dislike abo...\\nREAD MORE',\n",
       " 'Well you all know the specifications . One of a kind. Best iPhone till date. Many enhancements to the camera app with many options. Love the glass body with matte finish in the lens area on the back. Lovely colours to choose from. Best battery in an iPhone till date, enough to last more than a day in normal usage. I tested my iPhone 11 battery and lasted for than 24 hours after full charge still with 30% battery charge left. Watched movies for some time. Normal usage on calls, browsing, musi...\\nREAD MORE',\n",
       " \"It's very high performances devise i am like the service of flipkart delevary very fast and packing very nice perfect phone\",\n",
       " 'This will help you more. See if you are planning to buy iPhone 11. I will say. Yes. But there are some plans I just want to disclose before you buy. 1) If you are an existing iPhone X/XS/XS Max/ XR user, better you guys do not think it to buy. You guys have more or less better gadget. 2) If you are an android user and planning to buy premium phone. I will suggest them to please buy iPhone instead of buying an Android. I bet you will never go back to android after using IOS. Now I want to shar...\\nREAD MORE',\n",
       " 'The built quality is not very premium.\\nThe battery back is great .\\nThe LCD panel is not so sharp but the brightness level is very High .\\nCamera is super duper awesome.\\nThe red colour which people think is bright is actually very soothing and excellent colour to choose from .\\nThe A13 Bionic chip is really a flagship processor and can beat any phone which even has 12 gb ram .\\nCamera module is very great and looks very stylish.',\n",
       " 'Really good actually this is my first apple product am using its really awesome performance wise excellent. Am really happy with this iphone11',\n",
       " 'it is very good at performance. Camera is best like before and very smooth response even in water. Don’t buy 12 mini buy iPhone 11 , it is far better than 12 mini believe me ! Have a nice day \\uf8ff ☺️',\n",
       " 'Reviewing again after 5 months. At the beginning the battery and performance was good but it degraded soon. Also I was facing heating issues. The mobile will heat up like a stove sometimes. You cannot even play Pubg even in low settings properly, performance is not a problem but heating is. Also if you play that game for 10 mins the brightness will be automatically down due to over heating even when the auto brightness is set to off. This will not be solved even if u manually increase the bri...\\nREAD MORE',\n",
       " 'It is just awesome mobile for this price from Apple,\\n\\nAfter 10 days review\\n\\nBattery enough for 1 day even 24*7 Internet will be on and mostly internet usage\\n\\nCamera is just awesome cool , android 64 MP is equal to this just 12 MP\\n\\nA13 Bionic chip will give more high performance without hanging\\n\\nAudio stereo speakers will give Dolby atoms sound with crystal clear\\n\\nVideo recording is like cinematic shots of every sec can be a 4K 60fps. Just awesome this phone\\niPhone 11 loved one',\n",
       " 'Best Apple iPhone that i have bought at a very reasonable price, camera quality is next level just awesome n of superior quality android phones not even close(RIP) to that and also battery is really good but packaging by Flipkart of iPhone was very poor of such a expensive product, firstly im bit worried about the quality of product if i purchased it through online how was the product but i think now this was mine best decision to bought it through Flipkart online because i got genuine Apple...\\nREAD MORE',\n",
       " \"I can say I'm damn impressed with iPhone 11. As they says iPhone 11 have the toughest glass ever in the smartphone which you'll find on the front and back and it's totally smooth. The fit and finish is full apple quality - there's no sense that any cheaping out has happened in the construction. Without saying it's camera features this review won't complete. The iPhone 11 has a dual camera system, consisting of a wide angle len's that's pretty much same as found on the iPhone XR last year, but...\\nREAD MORE\",\n",
       " 'Best Quality Product OF iPhone Series , Sound Quality & Camera quality is very awesome, Battery Life is very Sufficient for 24 hr Backup With Full Internet Access , I love this this Product too much , It is very fast & making me Very fast in all my daily Routine\\nHighlights;\\n1.Camera: 5 STAR\\n2.Video Recording: 5 star\\n3.Night mODE sHOOTING & Camera:4 star\\n4. Audio Quality: Awesome\\n5. Battery : 5 Star\\n6. Touch:5 Star\\n7. Processor: Very Fast\\nThe M...\\nREAD MORE',\n",
       " 'First thanks to Flipkart for this amazing deal and phone is outstanding. I upgraded from iPhone 7 and this is like very big upgrade. But the packaging was very basic I expected a good packaging as they only wrapped one layer of bubble wrap which I don’t think is enough to protect this expensive phone. And I recommend this phone and seller as well.\\n\\nAnd I’m posting this review after using it for 4 days.',\n",
       " 'Superfast delivery by Flipkart. Thanks.\\n\\n1. iPhone 11 is a pretty solid phone for the money you are paying.\\n2. All the bad reviews about the display is confusing. It’s not that bad.\\n3. I switched from a Oneplus 7t. I have no complaints about the display quality of iPhone. Yes, it’s not OLED, so, we are missing on the deep blacks. But that’s it. It is a very colour accurate display. Gets adequately bright and I could not find any pixelation.\\n4. Performance is one of the best, if not best, in ...\\nREAD MORE',\n",
       " 'Smooth like butter, camera like fantabulous, sound is crystal clear & its red color is damn attractive, i am just loving it. Must buy if you love photography.\\n\\nLucky to get it in sale, thank you Flipkart.',\n",
       " \"Again back to apple iphone after a gap of 2-3 years. It's pleasure to use iOS and the quality product by Apple. Iphone 11 still works like a beast in 2021 also. It really capable of doing day to day usage as well as hard core gaming. Battery is awesome. I'm really too much satisfied with it. Apart fto the very gorgious IPS LCD (AMOLED will be better) everything is mind boggling. Iphone💕.\",\n",
       " 'impressive super phone and best in class camera ,sound and face unlock is super fast just see and phone is unlock and fast in daily apps use',\n",
       " 'Battery backup is extraordinary, camera is decent & performance offered by A13 bionic is awsome. The display is good in practical usage like the visibility of display is very good in direct sun light compare to pro models. Iam extremely satisfied for the money I spent.',\n",
       " 'Well while switching from android to iOS the first thing you need to be careful about is that you will loose all your whatsapp chat backups as both are different operating systems. Camera clarity is awesome and though being an lcd screen clarity and resolution is good. Battery backup is also good unlike previous gen iPhone. So far the experience is good will Padre after a few months of usage.\\n\\nP.S the black is more of a dark grey shade and not jet black',\n",
       " 'In love with this iphone great performance,camera ,battery everything. Go for it have a uncompareble battery backup, no doubts in iPhone camera here You can see the picture which is shot on my iPhone In love with this iphone great performance,camera ,battery everything. Go for it have a uncompareble battery backup, no doubts in iPhone camera here You can see the picture which is shot on my iPhone In love with this iphone great performance,camera ,battery everything. Go for it have a uncompare...\\nREAD MORE',\n",
       " 'Best in class. Battery backup is good especially when you play games like Pubg COD. But it is sort of heavy when you hold in hands. Portrait mode is best to click pictures. Stage light effect is awesome. Try to click photos outside in nature because photos inside home or room will not give you the quality in any phone even in DSLR.',\n",
       " 'Very excited to have this phone. This phone has the real power unlike the android phones having SD 855 . The battery life is very good and the camera quality is excellent as comapred to redmi and other phones except google pixel. I M enjoying every single bit of it. Would recommed only if you have the budget.',\n",
       " \"I upgraded (downgraded?) from my iPhone X since the phone fell down and I didn't want to repair the screen. The box that the phone came in was super slim and I was worried that there'd be no 5W charger with it and my fears were confirmed. However, thankfully I had the 18W USB-C PD charger from Apple which I bought for my iPhone X and it worked perfectly. The charging time is as lethargic as ever though and it takes about 1:30 mins or even 2 hours depending on charge remaining. I'll list some ...\\nREAD MORE\",\n",
       " 'Its Very awesome product working and good camera quality and all about best product and also flipkart is very great deal and offer nice price',\n",
       " 'I am using this phone for 5 days and its one of the best camera out there ❤️ the screen is not oled and i am coming from iphone xs so its little bit not up to the mark i would say\\nBut overall value for money💕😍the battery back up is far better than my iphone xs and its worth in my apple ecosystem💫❤️if u are an apple User and have the eco system then go for it❤️though i will be getting the new iphone but its pretty good💫',\n",
       " 'Best and amazing product.....phone looks so premium.... battary is also good as expected .... Wide angle camera is so addictive ...if you are a IOS lover....then this phone will be the best choice for you all!!💯🔥',\n",
       " 'Excellent camera and display touching very nice and smooth very improvement against iPhone XR and new processor is very fast',\n",
       " 'Awesome purchase. Amazing phone with good battery backup. It’s a top notch device. White colour looks amazing. Phone has a few extra feature than iPhone XR. Overall, this is value for money',\n",
       " 'Always love the apple products, upgraded from old iPhone 6S plus to this after having my first baby. I just love to click baby’s photos with it. Overall I just love this phone. Battery back up is okay, sound quality is good. Haven’t tested yet waterproof yet. Only one thing I hate is apple could have given charger & headphones in box.',\n",
       " 'Value for money\\n5 star rating\\nExcellent camera\\nBattery backup full day in single charge.\\n\\nTougher and water resistant design, glossy back.\\nThe screen has excellent brightness and contrast.\\nApple A13 Bionic is the fastest smartphone chip on the planet.\\nExcellent battery life, fast charging support.\\nStereo speakers with great quality.',\n",
       " 'Amazing camera and feel super machine I am not describe my feeling but this is amazing Phone I am so lucky I have this',\n",
       " 'Please DONT buy from here,\\n\\nI purchased Apple iPhone 11. with an exchange of IPhone 7, the exchange did not go well, iPhone 7 had a small scratch out side screen which i could never identify till date, but the FLIPKART person could, so he reduced 50% from exchange rate. I decided not to trade in, but paid money.\\n\\niPhone 11 Detail Below\\n---------------------------------------------\\nIt came with no charging, then i have put for charging, it took lot of time for charging, the phone also showe...\\nREAD MORE',\n",
       " 'awesome phone to have. it has got many smart features apart from mind blowing looks, camera, display, battery and sound. have fallen in love with this phone. must buy phone if you have got enough money. thanks to flipkart and apple of course..',\n",
       " 'Its a fabulous mobile look awesome performance unbeaten camera like dslr battery good i think this is a beast of mobile',\n",
       " 'Dear friends... I want to share my experience with you about this amazing I phone 11....this is my first iPhone and special things about this mobile is it has great camera, battery backup and awesome display.... I mean everything is perfect.loved it 👍👍👍',\n",
       " \"Just got this iphone 11\\nAnd it is most powerful mobile phone I have used ever\\n\\nSo,go for it if you want a phone with best specification like camera,battery backup,display, A13 bionic chip\\n\\nThat's my review about this phone but yours can be differ from me....\",\n",
       " 'Amazing phone and on great deal I received with super fast delivery by Flipkart...',\n",
       " 'finally an iPhone with very nice battery backup. update from iPhone 7 and happy to have it. camera is not up to the mark in low light but overall a recommended phone if your budget allows 😀',\n",
       " \"I'm switching this phone to oppo reno 10x zoom\\nIt's really impressive\\nRarely I'm missing smooth display touch response like oppo reno but\\nI really loved it.\\nCamera really impressive\",\n",
       " 'Worth the money’ starting first from its performance it beats out all phones , second the smoothness of camera is awesome, contrast ratio is much than expected. Price will not matter if u r a quality person, if not other phones are available with better discount',\n",
       " \"I'm Really happy with the product\\nDelivery was fast as well\\n..it was a gift for my sister and she loved it so much.\",\n",
       " 'Great iphone.\\nI am writing this review after 2 months of usage.\\nCamera is excellent, especially the nightmode\\nDisplay perfect\\nBattery backup awesome\\nSound quality very good\\nOverall Apple gives you a perfect iphone in this range.\\nReally in love with iPhone 11',\n",
       " 'Did an upgrade from 6s plus to iphone 11.\\nAo far the experience is well and good. Felt smoother than 6s plus. The camera quality is superb. Battery backup is descent. Not a heavy user, and gets power more than a day. Go for it if you need an alrounder iphone in a competitve price.',\n",
       " 'Damn this phone is a blast . Upgraded from android to ios and is a duperb experience. Battery backup is top notch and display also pretty good',\n",
       " 'I dreamt about this day from a long time.... Getting an iPhone with my own money.... Super happy and worth spending every penny',\n",
       " 'Thanks Flipkart For this amazing deal! I had a dream of owning a iphone since i had known about.\\nIm very happy with my purchase & it is totally worth it.\\nAmazing experience all over !!\\n\\nAnyone who’s thinking of buying it in 2021, i would simply say go for it without any second thoughts ❤️',\n",
       " 'awesome Phone Smooth Touch Too good Sexyy looks one word Awesome',\n",
       " 'I rate this product 5* as it has got amazing user experience with the best performing A13 bionic processor. The screen responds and graphics rendering is top notch. With casual gaming and internet browsing, the battery lasts for approx. 1 day. Camera is very good. You will fall in love with the portrait mode. You can call me a loyal Apple customer or whatever but I won’t stop praising the products and overall experience. That user experience matters and is worth every penny you pay.\\n\\nBelow ar...\\nREAD MORE',\n",
       " \"Just go for it.\\nThis phone is really amazing. I ordered it for my wife and we click photos on this thing which are better than dslr. I own OnePlus 6t but it's camera sucks. iPhone is really amazing when it comes to camera. It's worth spending 50k on this. Cons- only display is lcd. While using u don't feel it but if u compare with other phone then u can see difference quite easily.\\nChanging from Android to iphone is bit difficult coz most of things u don't know but I liked it. Some of the a...\\nREAD MORE\",\n",
       " \"It was amazing experience for me. Honestly i am using iPhone first time so I don't have that much past experience about that. But after using 7 days this mobile i want to give some honest feedback.\\n1- Display 9 out of 10\\n2- Camera 9.5 out of 10\\n3- Battery 7 out of 10\\n4- Performance 9.5 out of 10\\n5- Features & Functions 10 out of 10\\n6- Outer looks and colour 10 out of 10\\nRest i think i will understand after using this for few months.\\nI will highly recommend you guys if you have budget then you...\\nREAD MORE\",\n",
       " \"I've used this phone for over a month now and here are my takeaways.\\nI would like to first talk about the best things about this phone and then the cons of it.\\n\\nPros:\\nThis phone is a performance beast. It handles large games and applications effortlessly and you won't find any stutters or lags while playing graphic intensive games like pubg, cod , mortal kombat and asphalt.\\n\\nThis phone has only 4gb ram and yet the ram management is amazing, it can keep 3 heavy games in memory without reload...\\nREAD MORE\",\n",
       " 'Here is the thing\\n\\nThe only reason why you should buy this phone is for the camera, iOS, and if you have headaches looking at AMOLED display.\\n\\nI’m not an avid gamer but watch a lot of movies on smartphone. However, my migraine attacks increased considerably after using AMOLED Smartphone. That’s why I made a calculated decision to buy iPhone 11. It has the best LCD display and the blacks, though not as natural as an AMOLED, is better than some of the other smartphones.\\n\\nAdding to this the ste...\\nREAD MORE',\n",
       " 'Undoubtedly Iphone 11 is the most successful model till now and its performance is extraordinary and the security features are very impressive, display is more vibrant sound quality Camera Quality 5*****, but Iphone should add accessories too and act like scrooge.',\n",
       " \"If you are looking for a premium phone under 55k, this is the one for you.Got the iPhone 11 during the Republic day sale. Performance is top notch in this price range. Camera's do a perfect job in taking good quality photos and videos. Battery backup too is satisfactory. Writing this review after using for a week. Any further observations would be updated.\",\n",
       " 'Absolutely powerful gadget. Loved it’s look! Soo glassy and classy. I would definitely recommend this model of Apple. Only disappointed with the 5W charger, one should purchase an 18W adapter for fast charging. Though battery backup is great. Bought it in September 2020, reviewing after so long so I’m gonna put the genuine review here.✅',\n",
       " 'I purchased the iPhone 11 a month back. I must say Apple has impressed me yet again . I have been an Apple user for past 5 years . The phone is power packed with amazing features . What impressed me the most was the battery backup the phone offers . Battery can easily run upto 1.5 days in single charge with moderate to\\nHeavy usage . If you’re looking for a value for money device , I don’t see any other phone in the price range which can match the iPhone 11 .\\nOne thing I didn’t like was that ...\\nREAD MORE',\n",
       " 'We are on apple ecosystem for almost eight years now with couple of iPads and iPhones, including Xr.\\n\\nBought iPhone 11 as a gift to my daughter who loves it. We chose for a purple coloured one. Believe me it is gorgeous and towards the lighter shade. Dazzling and brilliant!\\n\\nThe phone is great and does excellent RAM management like any other Apple device.\\n\\nThe screen, though a LCD and lesser ppi as compared to other flagship phones of competitor brands, is a delight to watch with perfect re...\\nREAD MORE',\n",
       " 'Nice value for money good and best price I phone mind blowing camera processor very fast other android mobile I am happy India top selling phone 2020',\n",
       " \"phone is good but in display is 720p lcd in this price range we can get full hd OLED displays with higher refresh rate processor is very good camera is nice but looks kind of oldish in front of todays phone also there's no charging in box had to buy it seperately\",\n",
       " 'Can’t beat the software and hardware integration of apple.\\nPerforms like a beast. Great quality camera\\n6-7 hours screen on time which is good. Nothing much to complaint about the screen. Good connectivity speeds.\\nGreat buy and Flipkart’s delivery top notch as usual',\n",
       " 'I bought iPhone 11 On March 2021, And I am Writing this review after using the phone for 4 Months. I would Say Everything is fine, Top Performance, Nice Camera as Anyone would Expect from any series of iPhone but when the Question comes to Battery it is complicated. The Battery is fully optimised and it comes 3110 mAh capacity but the problem is with the charger. Honestly Apple Removed charger from in Box items in the name of Environment and they are also forcing us to buy any 20W PD 3rd part...\\nREAD MORE',\n",
       " 'I use a Note10+ and have been using both iOS and Android devices.\\n\\nCamera has really good features and portraits are super good, better than Samsung flagship. Overall camera setup can still be enhanced and hopeful for better upgrades on software in next release\\n\\nOperating system is quite a breeze and user experience of daily usage is very high as compared to Android. I moved to iOS very swiftly in 2 days for all my office work from Note10+\\n\\nBattery holds up quite well with 4 hrs of call and ...\\nREAD MORE',\n",
       " 'The phone is completely good\\nAs far as camera Apple is king of it\\nAnd its a beast in performance\\nAnd the battery is pretty good too',\n",
       " 'Everything u ll like it when u use this iPhone. Simple changes only not many to lower models but it’s nice to use. Little heavy compared to previous models like 7,8',\n",
       " 'This is my first ever iPhone.\\nAnd I truly don’t regret switching to IOS from my Android.\\n\\nIt is easily an alternative to a DSLR camera.\\nIf you’re obsessed with photos and videos, just don’t think twice or don’t compare to other androids(Samsung S10 lite or OnePlus 8/8T), as it’s far better from them in every field.\\nComparing will only make you confused.\\n\\nI am getting an average Screen on Time of around 10 hours with 30 percent left. I haven’t let my device discharged below 30 % as it aff...\\nREAD MORE',\n",
       " 'I was using Iphone 6s and also Oneplus 6t. Both mobiles were perfectly alright in Photos, gaming, and smooth interface . My 6s mobile getting battery issue. thought upgrade to 11. Really like this mobile of its Internal storage (compare to 6s) , camera and its touch feeling. Its a worth buying mobile for me.',\n",
       " 'The ultimate performance\\nCamera is superb\\nThe battery backup also very good i never saw iphone gives this much of battery backup\\nIf any one wana buy iphone 11 definitely i will recommend this mobile\\nIt has the better battery and powerfull processer peak performance glorious camera and the display also 100% high quality lcd display if u had money for for 12 if u dont wana invest much money on that then go for iphone 11 it has maximum same specs only main difference between the 12 and 11 is...\\nREAD MORE',\n",
       " 'Excellent camera 📸 And Display touching very Nice And Smooth and very improvement against\\nI phone 11 and new processor is very fast',\n",
       " 'A perfect phone and a good battery super camera and the sound is dynamic overall the phone is perfect for upgrading from lower iPhone model to iPhone 11',\n",
       " 'Everything is perfect pictures come out so clearly and at first I wasn’t sure when I got it then when I started to use it and get the hang of it it was amazing!! I can’t wait to see what the next future phones will be like. The screen display on this bad boy are unbelievable they are so clear and never fail me. The performance is super cool there is a lot of cool features as well I like this phone because I feel that it is easy to use and one of my favorite things about this phone is the Face...\\nREAD MORE',\n",
       " 'Value for money product. This iphone 11 is really amazing. Again nice release by apple. Great camera, battery backup is excellent. I just love this phone',\n",
       " 'Super and marvellous phone look very cute and nice sound. I love this phone i think white is good colur.Excellent camer 5*😍😘♥️♥️']"
      ]
     },
     "execution_count": 618,
     "metadata": {},
     "output_type": "execute_result"
    }
   ],
   "source": [
    "f_rev10 = driver.find_elements_by_xpath('//div[@class=\"t-ZTKy\"]')\n",
    "for i in f_rev10:\n",
    "    f_review.append(i.text)\n",
    "f_review"
   ]
  },
  {
   "cell_type": "code",
   "execution_count": 619,
   "id": "b177f85a",
   "metadata": {},
   "outputs": [
    {
     "data": {
      "text/plain": [
       "['Really satisfied with the Product I received... It’s totally genuine and the packaging was also really good so if ur planning to buy just go for it.',\n",
       " 'The Best Phone for the Money\\n\\nThe iPhone 11 offers superb cameras, a more durable design and excellent battery life for an affordable price.\\n\\nCompelling ultra-wide camera\\nNew Night mode is excellent\\nLong battery life',\n",
       " 'This is my first iOS phone. I am very happy with this product. Very much satisfied with this. I love this phone.',\n",
       " 'Amazing phone with great cameras and better battery which gives you the best performance. I just love the camera .',\n",
       " 'Previously I was using one plus 3t it was a great phone\\nAnd then I decided to upgrade I am stuck between Samsung s10 plus or iPhone 11\\nI have seen the specs and everything were good except the display it’s somewhere between 720-1080 and it’s not even an amoled it’s an LCD display\\nBut I decided to go with iPhone because I have never used an IOS device I have Been an android user from the past 9 years I ordered IPhone 11 (128gb) product red\\nMy experience after using 3 weeks\\n1. The delivery ...\\nREAD MORE',\n",
       " 'Amazing Powerful and Durable Gadget.\\n\\nI’m am very happy with the camera picture quality, Amazing face id unlocked in dark room, Strong battery with perfect screen size as you can carry easily in pocket. This is my third iPhone.\\n\\nI shifted from android Samsung Note series to iPhone because of the strong build quality and peace of mind for next 3-4 years.\\n\\nDon’t think to much just go for it and I suggest you to go for minimum 128gb variant or more 256gb.\\n\\nI’ve attached my puppy pics and no fi...\\nREAD MORE',\n",
       " 'i11 is worthy to buy, too much happy with the product. Thank u flipkart I received the item on time..loved it..',\n",
       " 'So far it’s been an AMAZING experience coming back to iOS after nearly a decade but it’s not as versatile as android though phone is sturdy dropped it accidentally a couple of times and nothing happened fortunately camera is awesome',\n",
       " 'iphone 11 is a very good phone to buy only if you can compromise for the display. The display on this is device is pretty good but you can get other options with better displays in this price segment.\\nIf you can survive with an HD+ LCD panel with thicker bezels and a notch up top then this is a very good phone for you.\\nCameras are awesome, battery backup excellent, great performance and a decent premium look. Good job Apple !',\n",
       " 'It’s a must buy who is looking for an upgrade from previous generation of iPhones. If you are using XR then still you can hold on for sometime and upgrade to 2020 model else this phone is a must buy . Camera quality is amazing and wide angle is something to count upon. Performance wise it’s amazing and feels premium while holding in hand. So a big YES for this device. Go for 128 GB variant as the 4K videos will occupy lots of space and the storage can get over very quickly. Try to buy it with...\\nREAD MORE',\n",
       " 'Value for money❤️❤️\\nIts awesome mobile phone in the world ...\\nDisplay was very good and bright ..\\nTrust me freinds you r never regret after Buying..\\nJust go for it....\\nI love this phone and i switch to iphone x to 11',\n",
       " 'Great iPhone very snappy experience as apple kind. Upgraded from iPhone 7.\\nPros\\n-Camera top class\\n- Battery top performed\\n-Chipset no need to say as apple kind\\n-Security as you expect from apple\\n- Display super bright industry leading colour\\naccuracy and super responsive\\n-Build quality as expect from apple sturdy\\npremium durable beautiful stylish.\\n-Os most stable os in smartphone industry\\n\\nCons\\n-No 5G\\n-Display is not based on OLED technology\\n-Charger headphones and 1 apple stic...\\nREAD MORE',\n",
       " 'Totally in love with this ❤ the camera quality is amazing just love it 😘😘😘 itsss dammnnnnnn amazing... Must buy iPhone 11 this is my best experience ever ☀👌👌🧡🧡🧡🧡🧡 thanku apple ❤',\n",
       " 'What a camera .....just awesome ..you can feel this iPhone just awesome . Good for gaming also ...try pubg in hd it’s just wow',\n",
       " 'Best budget Iphone till date ❤️ go for it guys without second thought. Let me explain you guys about Camera, Display, battery, and performance.\\n\\nCamera: at this price range there is no comparison of camera, you’ll love the picture quality as well as video quality. I am a Vlogger I wanted an iPhone with 4k video by front camera and I got this phone and I am more than happy 😃\\n\\nBattery: I use this phone roughly as I am active social media person and I have a youtube channel. so the battery ba...\\nREAD MORE',\n",
       " \"Iphone is just awesome.. battery backup is very very nice.. continuously for 10 hours we can use it.camera is just awesome.. display is just fab.i love it alot..i had to wait 15 days for it as i pre ordered it..overalll it's worth the price..these all images are clicked by my iPhone..and i love it.\",\n",
       " 'Excellent camera, good performance, no lag. The lcd display is also good.. but difference come when we watch movie in prime and Netflix, the colours are not vibrant.. as we see in amoled display.. and the charger in box is of 5 watts.. takes more than 3 hours to charge from 0 to 100.. so guys be prepare to buy 18 watts charger . Finally I am an android user, it was my first Iapple phone, I promise u guys the iOS is so smooth.. overall the phone is damn good.... close eyes to buy it.. thanks t...\\nREAD MORE',\n",
       " \"It's my first time to use iOS phone and I am loving my upgradation 😍😍 I love the color, I love the assebility of the phone....I need to learn more about its functionality, but as far as I have seen, it's quite easy and it has a lot of functions to work on, specially if you are a content writer or a blogger you get a lot of content creation platforms and they are really amazing.\\n\\nThis phone not only for good quality photography but a lot of other task too.😍💯\",\n",
       " 'It’s been almost a month since I have been using this phone. I upgraded from an iPhone 8. The main issue with my 8 was battery and this phone is just awesome when it comes to battery. It lasts a day and a half for me with my regular use , internet connected always with 4g\\nCan’t move forward without saying this. Battery of this phone is a life saver when I am traveling or at work when I don’t get the option to charge\\nCamera is superb. Front cam selfies and back cam photos are just awesome.\\n...\\nREAD MORE',\n",
       " 'Really worth of money. i just love it. It is the best phone ever.',\n",
       " 'Awesome Phone. Slightly high price but worth. Better than iPhone XR.\\nCamera is superb and wide angle camera is very clear.\\n12MP selfie camera is also very good.\\nA13 Chip gives a very good and smooth performance.',\n",
       " 'This is my first ever I phone. Before this I was using my google nexus 5. But moving from android to iOS is a great experience. It’s worth at this price. I will highly recommend it if you want to move to iOS. The best part of this phone is it’s camera and it’s battery life. This two things have won my heart. I loved it. Happy to have it in my hand. Still exploring its features. And can’t forget to mention Flipkart service. Very prompt service and fast delivery.',\n",
       " 'Superb Product !!!\\nA big and worthy upgrade from mi 3S to iphone 11 .\\nTotally loved it !',\n",
       " 'I have migrated from OP 7pro... and trust me, iPhone 11 is totally worth it.. following are the reasons:-\\n1)there is ABSOLUTELY NO ISSUE WITH THE DISPLAY... its crisp, sharp and I found it to be much much better than OP7 pro. Netflix, Prime video all run crisply... you won’t miss a thing. True Tone works flawlessly...the display brightness is perfect. OP have not calibrated their screens properly.\\n2) iPhone 11 series have really good cameras... others have spoken in depth about them.\\n3) bat...\\nREAD MORE',\n",
       " 'It’s an amazing product from apple and the camera is simply superb. Phone is faster.Night shot is simply superb and detailing and colour differentiation from camera is an added advantage\\n\\nThis review I have written from iPhone 11 only and I am glad to say outside.\\n\\nCons wise if we see HD+ display only, no battery percentage indicator as in older iPhone 8.\\nNo assistive touch control button in it\\nNo oleophobic coating on back panel glass and finger prints are visible but since I bought mint gr...\\nREAD MORE',\n",
       " 'Looking so good 👍 😍 super 👌 stylish 😎 phone\\nClean box 📦 good 👍 delivery 👌 fast delivery\\nOriginal box Original iphone 📱 👌 😍😍😍',\n",
       " 'After 1 month use I found camera quality best compared to my previous Samsung note 10+.Display not good as note 10 also charging too slow.Apple should add fast charger like 11 plus and pro.Best phone for daily use',\n",
       " 'Upgraded from iphone 6 to 11 best phone for iphone users battery is much better than other iphones camera is awesome love to use it.camera is so clear in night.',\n",
       " 'I just directly switch from iphone 6s to iphone 11 .The best premium smartphone I recommend to everyone. Excellent quality and colors the iphone have in 11 series.\\nCamera quality is just awesome and the major feel when we hold in our hands. The sound quality and volume is also higher then the previous models.\\nI will recommend to buy iphone 11 instead of pro models , there is nothing much difference as this model contains everything which fulfill our needs.\\n\\nOnly one thing that I dislike abo...\\nREAD MORE',\n",
       " 'Well you all know the specifications . One of a kind. Best iPhone till date. Many enhancements to the camera app with many options. Love the glass body with matte finish in the lens area on the back. Lovely colours to choose from. Best battery in an iPhone till date, enough to last more than a day in normal usage. I tested my iPhone 11 battery and lasted for than 24 hours after full charge still with 30% battery charge left. Watched movies for some time. Normal usage on calls, browsing, musi...\\nREAD MORE',\n",
       " \"It's very high performances devise i am like the service of flipkart delevary very fast and packing very nice perfect phone\",\n",
       " 'This will help you more. See if you are planning to buy iPhone 11. I will say. Yes. But there are some plans I just want to disclose before you buy. 1) If you are an existing iPhone X/XS/XS Max/ XR user, better you guys do not think it to buy. You guys have more or less better gadget. 2) If you are an android user and planning to buy premium phone. I will suggest them to please buy iPhone instead of buying an Android. I bet you will never go back to android after using IOS. Now I want to shar...\\nREAD MORE',\n",
       " 'The built quality is not very premium.\\nThe battery back is great .\\nThe LCD panel is not so sharp but the brightness level is very High .\\nCamera is super duper awesome.\\nThe red colour which people think is bright is actually very soothing and excellent colour to choose from .\\nThe A13 Bionic chip is really a flagship processor and can beat any phone which even has 12 gb ram .\\nCamera module is very great and looks very stylish.',\n",
       " 'Really good actually this is my first apple product am using its really awesome performance wise excellent. Am really happy with this iphone11',\n",
       " 'it is very good at performance. Camera is best like before and very smooth response even in water. Don’t buy 12 mini buy iPhone 11 , it is far better than 12 mini believe me ! Have a nice day \\uf8ff ☺️',\n",
       " 'Reviewing again after 5 months. At the beginning the battery and performance was good but it degraded soon. Also I was facing heating issues. The mobile will heat up like a stove sometimes. You cannot even play Pubg even in low settings properly, performance is not a problem but heating is. Also if you play that game for 10 mins the brightness will be automatically down due to over heating even when the auto brightness is set to off. This will not be solved even if u manually increase the bri...\\nREAD MORE',\n",
       " 'It is just awesome mobile for this price from Apple,\\n\\nAfter 10 days review\\n\\nBattery enough for 1 day even 24*7 Internet will be on and mostly internet usage\\n\\nCamera is just awesome cool , android 64 MP is equal to this just 12 MP\\n\\nA13 Bionic chip will give more high performance without hanging\\n\\nAudio stereo speakers will give Dolby atoms sound with crystal clear\\n\\nVideo recording is like cinematic shots of every sec can be a 4K 60fps. Just awesome this phone\\niPhone 11 loved one',\n",
       " 'Best Apple iPhone that i have bought at a very reasonable price, camera quality is next level just awesome n of superior quality android phones not even close(RIP) to that and also battery is really good but packaging by Flipkart of iPhone was very poor of such a expensive product, firstly im bit worried about the quality of product if i purchased it through online how was the product but i think now this was mine best decision to bought it through Flipkart online because i got genuine Apple...\\nREAD MORE',\n",
       " \"I can say I'm damn impressed with iPhone 11. As they says iPhone 11 have the toughest glass ever in the smartphone which you'll find on the front and back and it's totally smooth. The fit and finish is full apple quality - there's no sense that any cheaping out has happened in the construction. Without saying it's camera features this review won't complete. The iPhone 11 has a dual camera system, consisting of a wide angle len's that's pretty much same as found on the iPhone XR last year, but...\\nREAD MORE\",\n",
       " 'Best Quality Product OF iPhone Series , Sound Quality & Camera quality is very awesome, Battery Life is very Sufficient for 24 hr Backup With Full Internet Access , I love this this Product too much , It is very fast & making me Very fast in all my daily Routine\\nHighlights;\\n1.Camera: 5 STAR\\n2.Video Recording: 5 star\\n3.Night mODE sHOOTING & Camera:4 star\\n4. Audio Quality: Awesome\\n5. Battery : 5 Star\\n6. Touch:5 Star\\n7. Processor: Very Fast\\nThe M...\\nREAD MORE',\n",
       " 'First thanks to Flipkart for this amazing deal and phone is outstanding. I upgraded from iPhone 7 and this is like very big upgrade. But the packaging was very basic I expected a good packaging as they only wrapped one layer of bubble wrap which I don’t think is enough to protect this expensive phone. And I recommend this phone and seller as well.\\n\\nAnd I’m posting this review after using it for 4 days.',\n",
       " 'Superfast delivery by Flipkart. Thanks.\\n\\n1. iPhone 11 is a pretty solid phone for the money you are paying.\\n2. All the bad reviews about the display is confusing. It’s not that bad.\\n3. I switched from a Oneplus 7t. I have no complaints about the display quality of iPhone. Yes, it’s not OLED, so, we are missing on the deep blacks. But that’s it. It is a very colour accurate display. Gets adequately bright and I could not find any pixelation.\\n4. Performance is one of the best, if not best, in ...\\nREAD MORE',\n",
       " 'Smooth like butter, camera like fantabulous, sound is crystal clear & its red color is damn attractive, i am just loving it. Must buy if you love photography.\\n\\nLucky to get it in sale, thank you Flipkart.',\n",
       " \"Again back to apple iphone after a gap of 2-3 years. It's pleasure to use iOS and the quality product by Apple. Iphone 11 still works like a beast in 2021 also. It really capable of doing day to day usage as well as hard core gaming. Battery is awesome. I'm really too much satisfied with it. Apart fto the very gorgious IPS LCD (AMOLED will be better) everything is mind boggling. Iphone💕.\",\n",
       " 'impressive super phone and best in class camera ,sound and face unlock is super fast just see and phone is unlock and fast in daily apps use',\n",
       " 'Battery backup is extraordinary, camera is decent & performance offered by A13 bionic is awsome. The display is good in practical usage like the visibility of display is very good in direct sun light compare to pro models. Iam extremely satisfied for the money I spent.',\n",
       " 'Well while switching from android to iOS the first thing you need to be careful about is that you will loose all your whatsapp chat backups as both are different operating systems. Camera clarity is awesome and though being an lcd screen clarity and resolution is good. Battery backup is also good unlike previous gen iPhone. So far the experience is good will Padre after a few months of usage.\\n\\nP.S the black is more of a dark grey shade and not jet black',\n",
       " 'In love with this iphone great performance,camera ,battery everything. Go for it have a uncompareble battery backup, no doubts in iPhone camera here You can see the picture which is shot on my iPhone In love with this iphone great performance,camera ,battery everything. Go for it have a uncompareble battery backup, no doubts in iPhone camera here You can see the picture which is shot on my iPhone In love with this iphone great performance,camera ,battery everything. Go for it have a uncompare...\\nREAD MORE',\n",
       " 'Best in class. Battery backup is good especially when you play games like Pubg COD. But it is sort of heavy when you hold in hands. Portrait mode is best to click pictures. Stage light effect is awesome. Try to click photos outside in nature because photos inside home or room will not give you the quality in any phone even in DSLR.',\n",
       " 'Very excited to have this phone. This phone has the real power unlike the android phones having SD 855 . The battery life is very good and the camera quality is excellent as comapred to redmi and other phones except google pixel. I M enjoying every single bit of it. Would recommed only if you have the budget.',\n",
       " \"I upgraded (downgraded?) from my iPhone X since the phone fell down and I didn't want to repair the screen. The box that the phone came in was super slim and I was worried that there'd be no 5W charger with it and my fears were confirmed. However, thankfully I had the 18W USB-C PD charger from Apple which I bought for my iPhone X and it worked perfectly. The charging time is as lethargic as ever though and it takes about 1:30 mins or even 2 hours depending on charge remaining. I'll list some ...\\nREAD MORE\",\n",
       " 'Its Very awesome product working and good camera quality and all about best product and also flipkart is very great deal and offer nice price',\n",
       " 'I am using this phone for 5 days and its one of the best camera out there ❤️ the screen is not oled and i am coming from iphone xs so its little bit not up to the mark i would say\\nBut overall value for money💕😍the battery back up is far better than my iphone xs and its worth in my apple ecosystem💫❤️if u are an apple User and have the eco system then go for it❤️though i will be getting the new iphone but its pretty good💫',\n",
       " 'Best and amazing product.....phone looks so premium.... battary is also good as expected .... Wide angle camera is so addictive ...if you are a IOS lover....then this phone will be the best choice for you all!!💯🔥',\n",
       " 'Excellent camera and display touching very nice and smooth very improvement against iPhone XR and new processor is very fast',\n",
       " 'Awesome purchase. Amazing phone with good battery backup. It’s a top notch device. White colour looks amazing. Phone has a few extra feature than iPhone XR. Overall, this is value for money',\n",
       " 'Always love the apple products, upgraded from old iPhone 6S plus to this after having my first baby. I just love to click baby’s photos with it. Overall I just love this phone. Battery back up is okay, sound quality is good. Haven’t tested yet waterproof yet. Only one thing I hate is apple could have given charger & headphones in box.',\n",
       " 'Value for money\\n5 star rating\\nExcellent camera\\nBattery backup full day in single charge.\\n\\nTougher and water resistant design, glossy back.\\nThe screen has excellent brightness and contrast.\\nApple A13 Bionic is the fastest smartphone chip on the planet.\\nExcellent battery life, fast charging support.\\nStereo speakers with great quality.',\n",
       " 'Amazing camera and feel super machine I am not describe my feeling but this is amazing Phone I am so lucky I have this',\n",
       " 'Please DONT buy from here,\\n\\nI purchased Apple iPhone 11. with an exchange of IPhone 7, the exchange did not go well, iPhone 7 had a small scratch out side screen which i could never identify till date, but the FLIPKART person could, so he reduced 50% from exchange rate. I decided not to trade in, but paid money.\\n\\niPhone 11 Detail Below\\n---------------------------------------------\\nIt came with no charging, then i have put for charging, it took lot of time for charging, the phone also showe...\\nREAD MORE',\n",
       " 'awesome phone to have. it has got many smart features apart from mind blowing looks, camera, display, battery and sound. have fallen in love with this phone. must buy phone if you have got enough money. thanks to flipkart and apple of course..',\n",
       " 'Its a fabulous mobile look awesome performance unbeaten camera like dslr battery good i think this is a beast of mobile',\n",
       " 'Dear friends... I want to share my experience with you about this amazing I phone 11....this is my first iPhone and special things about this mobile is it has great camera, battery backup and awesome display.... I mean everything is perfect.loved it 👍👍👍',\n",
       " \"Just got this iphone 11\\nAnd it is most powerful mobile phone I have used ever\\n\\nSo,go for it if you want a phone with best specification like camera,battery backup,display, A13 bionic chip\\n\\nThat's my review about this phone but yours can be differ from me....\",\n",
       " 'Amazing phone and on great deal I received with super fast delivery by Flipkart...',\n",
       " 'finally an iPhone with very nice battery backup. update from iPhone 7 and happy to have it. camera is not up to the mark in low light but overall a recommended phone if your budget allows 😀',\n",
       " \"I'm switching this phone to oppo reno 10x zoom\\nIt's really impressive\\nRarely I'm missing smooth display touch response like oppo reno but\\nI really loved it.\\nCamera really impressive\",\n",
       " 'Worth the money’ starting first from its performance it beats out all phones , second the smoothness of camera is awesome, contrast ratio is much than expected. Price will not matter if u r a quality person, if not other phones are available with better discount',\n",
       " \"I'm Really happy with the product\\nDelivery was fast as well\\n..it was a gift for my sister and she loved it so much.\",\n",
       " 'Great iphone.\\nI am writing this review after 2 months of usage.\\nCamera is excellent, especially the nightmode\\nDisplay perfect\\nBattery backup awesome\\nSound quality very good\\nOverall Apple gives you a perfect iphone in this range.\\nReally in love with iPhone 11',\n",
       " 'Did an upgrade from 6s plus to iphone 11.\\nAo far the experience is well and good. Felt smoother than 6s plus. The camera quality is superb. Battery backup is descent. Not a heavy user, and gets power more than a day. Go for it if you need an alrounder iphone in a competitve price.',\n",
       " 'Damn this phone is a blast . Upgraded from android to ios and is a duperb experience. Battery backup is top notch and display also pretty good',\n",
       " 'I dreamt about this day from a long time.... Getting an iPhone with my own money.... Super happy and worth spending every penny',\n",
       " 'Thanks Flipkart For this amazing deal! I had a dream of owning a iphone since i had known about.\\nIm very happy with my purchase & it is totally worth it.\\nAmazing experience all over !!\\n\\nAnyone who’s thinking of buying it in 2021, i would simply say go for it without any second thoughts ❤️',\n",
       " 'awesome Phone Smooth Touch Too good Sexyy looks one word Awesome',\n",
       " 'I rate this product 5* as it has got amazing user experience with the best performing A13 bionic processor. The screen responds and graphics rendering is top notch. With casual gaming and internet browsing, the battery lasts for approx. 1 day. Camera is very good. You will fall in love with the portrait mode. You can call me a loyal Apple customer or whatever but I won’t stop praising the products and overall experience. That user experience matters and is worth every penny you pay.\\n\\nBelow ar...\\nREAD MORE',\n",
       " \"Just go for it.\\nThis phone is really amazing. I ordered it for my wife and we click photos on this thing which are better than dslr. I own OnePlus 6t but it's camera sucks. iPhone is really amazing when it comes to camera. It's worth spending 50k on this. Cons- only display is lcd. While using u don't feel it but if u compare with other phone then u can see difference quite easily.\\nChanging from Android to iphone is bit difficult coz most of things u don't know but I liked it. Some of the a...\\nREAD MORE\",\n",
       " \"It was amazing experience for me. Honestly i am using iPhone first time so I don't have that much past experience about that. But after using 7 days this mobile i want to give some honest feedback.\\n1- Display 9 out of 10\\n2- Camera 9.5 out of 10\\n3- Battery 7 out of 10\\n4- Performance 9.5 out of 10\\n5- Features & Functions 10 out of 10\\n6- Outer looks and colour 10 out of 10\\nRest i think i will understand after using this for few months.\\nI will highly recommend you guys if you have budget then you...\\nREAD MORE\",\n",
       " \"I've used this phone for over a month now and here are my takeaways.\\nI would like to first talk about the best things about this phone and then the cons of it.\\n\\nPros:\\nThis phone is a performance beast. It handles large games and applications effortlessly and you won't find any stutters or lags while playing graphic intensive games like pubg, cod , mortal kombat and asphalt.\\n\\nThis phone has only 4gb ram and yet the ram management is amazing, it can keep 3 heavy games in memory without reload...\\nREAD MORE\",\n",
       " 'Here is the thing\\n\\nThe only reason why you should buy this phone is for the camera, iOS, and if you have headaches looking at AMOLED display.\\n\\nI’m not an avid gamer but watch a lot of movies on smartphone. However, my migraine attacks increased considerably after using AMOLED Smartphone. That’s why I made a calculated decision to buy iPhone 11. It has the best LCD display and the blacks, though not as natural as an AMOLED, is better than some of the other smartphones.\\n\\nAdding to this the ste...\\nREAD MORE',\n",
       " 'Undoubtedly Iphone 11 is the most successful model till now and its performance is extraordinary and the security features are very impressive, display is more vibrant sound quality Camera Quality 5*****, but Iphone should add accessories too and act like scrooge.',\n",
       " \"If you are looking for a premium phone under 55k, this is the one for you.Got the iPhone 11 during the Republic day sale. Performance is top notch in this price range. Camera's do a perfect job in taking good quality photos and videos. Battery backup too is satisfactory. Writing this review after using for a week. Any further observations would be updated.\",\n",
       " 'Absolutely powerful gadget. Loved it’s look! Soo glassy and classy. I would definitely recommend this model of Apple. Only disappointed with the 5W charger, one should purchase an 18W adapter for fast charging. Though battery backup is great. Bought it in September 2020, reviewing after so long so I’m gonna put the genuine review here.✅',\n",
       " 'I purchased the iPhone 11 a month back. I must say Apple has impressed me yet again . I have been an Apple user for past 5 years . The phone is power packed with amazing features . What impressed me the most was the battery backup the phone offers . Battery can easily run upto 1.5 days in single charge with moderate to\\nHeavy usage . If you’re looking for a value for money device , I don’t see any other phone in the price range which can match the iPhone 11 .\\nOne thing I didn’t like was that ...\\nREAD MORE',\n",
       " 'We are on apple ecosystem for almost eight years now with couple of iPads and iPhones, including Xr.\\n\\nBought iPhone 11 as a gift to my daughter who loves it. We chose for a purple coloured one. Believe me it is gorgeous and towards the lighter shade. Dazzling and brilliant!\\n\\nThe phone is great and does excellent RAM management like any other Apple device.\\n\\nThe screen, though a LCD and lesser ppi as compared to other flagship phones of competitor brands, is a delight to watch with perfect re...\\nREAD MORE',\n",
       " 'Nice value for money good and best price I phone mind blowing camera processor very fast other android mobile I am happy India top selling phone 2020',\n",
       " \"phone is good but in display is 720p lcd in this price range we can get full hd OLED displays with higher refresh rate processor is very good camera is nice but looks kind of oldish in front of todays phone also there's no charging in box had to buy it seperately\",\n",
       " 'Can’t beat the software and hardware integration of apple.\\nPerforms like a beast. Great quality camera\\n6-7 hours screen on time which is good. Nothing much to complaint about the screen. Good connectivity speeds.\\nGreat buy and Flipkart’s delivery top notch as usual',\n",
       " 'I bought iPhone 11 On March 2021, And I am Writing this review after using the phone for 4 Months. I would Say Everything is fine, Top Performance, Nice Camera as Anyone would Expect from any series of iPhone but when the Question comes to Battery it is complicated. The Battery is fully optimised and it comes 3110 mAh capacity but the problem is with the charger. Honestly Apple Removed charger from in Box items in the name of Environment and they are also forcing us to buy any 20W PD 3rd part...\\nREAD MORE',\n",
       " 'I use a Note10+ and have been using both iOS and Android devices.\\n\\nCamera has really good features and portraits are super good, better than Samsung flagship. Overall camera setup can still be enhanced and hopeful for better upgrades on software in next release\\n\\nOperating system is quite a breeze and user experience of daily usage is very high as compared to Android. I moved to iOS very swiftly in 2 days for all my office work from Note10+\\n\\nBattery holds up quite well with 4 hrs of call and ...\\nREAD MORE',\n",
       " 'The phone is completely good\\nAs far as camera Apple is king of it\\nAnd its a beast in performance\\nAnd the battery is pretty good too',\n",
       " 'Everything u ll like it when u use this iPhone. Simple changes only not many to lower models but it’s nice to use. Little heavy compared to previous models like 7,8',\n",
       " 'This is my first ever iPhone.\\nAnd I truly don’t regret switching to IOS from my Android.\\n\\nIt is easily an alternative to a DSLR camera.\\nIf you’re obsessed with photos and videos, just don’t think twice or don’t compare to other androids(Samsung S10 lite or OnePlus 8/8T), as it’s far better from them in every field.\\nComparing will only make you confused.\\n\\nI am getting an average Screen on Time of around 10 hours with 30 percent left. I haven’t let my device discharged below 30 % as it aff...\\nREAD MORE',\n",
       " 'I was using Iphone 6s and also Oneplus 6t. Both mobiles were perfectly alright in Photos, gaming, and smooth interface . My 6s mobile getting battery issue. thought upgrade to 11. Really like this mobile of its Internal storage (compare to 6s) , camera and its touch feeling. Its a worth buying mobile for me.',\n",
       " 'The ultimate performance\\nCamera is superb\\nThe battery backup also very good i never saw iphone gives this much of battery backup\\nIf any one wana buy iphone 11 definitely i will recommend this mobile\\nIt has the better battery and powerfull processer peak performance glorious camera and the display also 100% high quality lcd display if u had money for for 12 if u dont wana invest much money on that then go for iphone 11 it has maximum same specs only main difference between the 12 and 11 is...\\nREAD MORE',\n",
       " 'Excellent camera 📸 And Display touching very Nice And Smooth and very improvement against\\nI phone 11 and new processor is very fast',\n",
       " 'A perfect phone and a good battery super camera and the sound is dynamic overall the phone is perfect for upgrading from lower iPhone model to iPhone 11',\n",
       " 'Everything is perfect pictures come out so clearly and at first I wasn’t sure when I got it then when I started to use it and get the hang of it it was amazing!! I can’t wait to see what the next future phones will be like. The screen display on this bad boy are unbelievable they are so clear and never fail me. The performance is super cool there is a lot of cool features as well I like this phone because I feel that it is easy to use and one of my favorite things about this phone is the Face...\\nREAD MORE',\n",
       " 'Value for money product. This iphone 11 is really amazing. Again nice release by apple. Great camera, battery backup is excellent. I just love this phone',\n",
       " 'Super and marvellous phone look very cute and nice sound. I love this phone i think white is good colur.Excellent camer 5*😍😘♥️♥️',\n",
       " \"I genuinely liked it. One of the best mobile phones I have used. It's sho smooth and it's security is very astonishing. Plus it has a very good camera quality. so overall it's a win win.\",\n",
       " 'Flipkart honoured on time delivery, I have used 6s , now I have upgraded apple 11 . Really great experience for new iPhone. Thank you apple and flipkart.',\n",
       " 'Awesome camera, smooth and fast UI, display is great (though not LED) but the black area at the top could have been reduced. Battery remains a day even if used heavily. Charger in the box is ok, but 12 or 18W could have been nothing like anything. Overall an excellent product and comfortable to use. I have got it almost a month back and so far so good.',\n",
       " 'Product is nice at the deviled time the delivery boy not open the box and this order is oBD but he is not open and not showing product he gives Product and gone time God product is super nice and good Tq Flipkart and seller love you Flipkart Product is nice display good touch screen amazing compared to other brands over all Product is super. Tq Flipkart Tq so much love and believe Flipkart Tq Tq Flipkart',\n",
       " \"It's a great phone. From camera to display everything is best for the price.\\nBest camera , best performance. I think everyone should buy it . This phone has best battery life so far in iphone series which I had used earlier. Happy to have it. Thanks Flipkart\",\n",
       " 'I was torn between the oneplus 8 pro and the iphone 11. I had to shell out extra money for this, but I say if you can afford it, this truely is the best package.\\nMind blowing camera, battery and overall performance. Face Id works like magic even in complete darkness without firing up the screen brightness. The phones with in display fingerprint scanners do this at night time and it really burns your eyes.\\nI wanted the oneplus for its display but tbh the OLEDs on oneplus is really bad. Flick...\\nREAD MORE',\n",
       " 'Seller - SuperComNet ( my trust in you has grown deeper. Thanks for the genuine product )\\nThe package came packed perfectly. The box was sealed which gave me a big relief.\\n\\nApple needs no introduction since its the dominant market player. I just love the way how IPhone 11 stands out so boldly. The moment I took it out from the box, I could feel the premium intensity. The body is remarkable and crafted for giving you a elite vibe.\\n\\nCamera is to die for. There is no other phone that can beat...\\nREAD MORE',\n",
       " \"i was confused between 11 and 11 pro. i was going towards 11 pro, but the screen size was not enough for me.\\nAnd i saw 11 in the showroom. i didn't find much difference in screen quality.And cameras seems to be ok with me. And i saw offer's in flipkart and made the purchase.\\nthe device is fabulous. The hardware and software quality is excellent. The new iOS is something you need to experience yourself. The drawback i found was absence of fast charger, but the pricing can compensate that. Am...\\nREAD MORE\",\n",
       " 'iPhone is delivered on time. Display is great u won’t feel that it’s a hd panel. Quality is excellent. Sounds is great it has stereo setup. Camera is good. iOS 14.2 comes in the box. U roughly get 113 gb free if u buy 128 gb. This is my second iPhone and i love it. Value for money.',\n",
       " 'Released in 2019\\nIn 2021 still the best in segment\\nPros:\\nCamera 4/5 night photograph takes -1\\nPerformance 5/5\\nBattery backup normal usage 5/5 should last more than a day\\nHeavy usage battery backup 4/5 as compared have a smaller battery but should give around 5-6h of heavy usage like game play\\nBattery charging from 18w charger 3.5/5 not as fast as compared to dash charger but does the job well 0-50% in somewhat takes 40 mins which is ok\\n\\nCons:\\nNo earpod\\nNo 3.5mm jack connector I remember gett...\\nREAD MORE']"
      ]
     },
     "execution_count": 619,
     "metadata": {},
     "output_type": "execute_result"
    }
   ],
   "source": [
    "f_rev11 = driver.find_elements_by_xpath('//div[@class=\"t-ZTKy\"]')\n",
    "for i in f_rev11:\n",
    "    f_review.append(i.text)\n",
    "f_review"
   ]
  },
  {
   "cell_type": "code",
   "execution_count": null,
   "id": "f080e882",
   "metadata": {},
   "outputs": [],
   "source": []
  },
  {
   "cell_type": "code",
   "execution_count": 623,
   "id": "f1694ecf",
   "metadata": {},
   "outputs": [
    {
     "name": "stdout",
     "output_type": "stream",
     "text": [
      "100 100 100\n"
     ]
    }
   ],
   "source": [
    "print(len(rating[:100]),len(reviews[:100]),len(f_review[:100]))"
   ]
  },
  {
   "cell_type": "code",
   "execution_count": 624,
   "id": "1d572229",
   "metadata": {},
   "outputs": [],
   "source": [
    "#now create the dataframe using with pandas\n",
    "import pandas as pd\n",
    "iphone11 = pd.DataFrame({})\n",
    "iphone11['Rating'] = rating[:100]\n",
    "iphone11[' Review_summary '] = reviews[:100]\n",
    "iphone11['Full review'] = f_review[:100]"
   ]
  },
  {
   "cell_type": "code",
   "execution_count": 625,
   "id": "c98079f0",
   "metadata": {},
   "outputs": [
    {
     "data": {
      "text/html": [
       "<div>\n",
       "<style scoped>\n",
       "    .dataframe tbody tr th:only-of-type {\n",
       "        vertical-align: middle;\n",
       "    }\n",
       "\n",
       "    .dataframe tbody tr th {\n",
       "        vertical-align: top;\n",
       "    }\n",
       "\n",
       "    .dataframe thead th {\n",
       "        text-align: right;\n",
       "    }\n",
       "</style>\n",
       "<table border=\"1\" class=\"dataframe\">\n",
       "  <thead>\n",
       "    <tr style=\"text-align: right;\">\n",
       "      <th></th>\n",
       "      <th>Rating</th>\n",
       "      <th>Review_summary</th>\n",
       "      <th>Full review</th>\n",
       "    </tr>\n",
       "  </thead>\n",
       "  <tbody>\n",
       "    <tr>\n",
       "      <th>0</th>\n",
       "      <td>5</td>\n",
       "      <td>Simply awesome</td>\n",
       "      <td>Really satisfied with the Product I received.....</td>\n",
       "    </tr>\n",
       "    <tr>\n",
       "      <th>1</th>\n",
       "      <td>5</td>\n",
       "      <td>Brilliant</td>\n",
       "      <td>The Best Phone for the Money\\n\\nThe iPhone 11 ...</td>\n",
       "    </tr>\n",
       "    <tr>\n",
       "      <th>2</th>\n",
       "      <td>5</td>\n",
       "      <td>Fabulous!</td>\n",
       "      <td>This is my first iOS phone. I am very happy wi...</td>\n",
       "    </tr>\n",
       "    <tr>\n",
       "      <th>3</th>\n",
       "      <td>5</td>\n",
       "      <td>Perfect product!</td>\n",
       "      <td>Amazing phone with great cameras and better ba...</td>\n",
       "    </tr>\n",
       "    <tr>\n",
       "      <th>4</th>\n",
       "      <td>5</td>\n",
       "      <td>Worth every penny</td>\n",
       "      <td>Previously I was using one plus 3t it was a gr...</td>\n",
       "    </tr>\n",
       "    <tr>\n",
       "      <th>...</th>\n",
       "      <td>...</td>\n",
       "      <td>...</td>\n",
       "      <td>...</td>\n",
       "    </tr>\n",
       "    <tr>\n",
       "      <th>95</th>\n",
       "      <td>5</td>\n",
       "      <td>Mind-blowing purchase</td>\n",
       "      <td>Excellent camera 📸 And Display touching very N...</td>\n",
       "    </tr>\n",
       "    <tr>\n",
       "      <th>96</th>\n",
       "      <td>5</td>\n",
       "      <td>Excellent</td>\n",
       "      <td>A perfect phone and a good battery super camer...</td>\n",
       "    </tr>\n",
       "    <tr>\n",
       "      <th>97</th>\n",
       "      <td>5</td>\n",
       "      <td>Fabulous!</td>\n",
       "      <td>Everything is perfect pictures come out so cle...</td>\n",
       "    </tr>\n",
       "    <tr>\n",
       "      <th>98</th>\n",
       "      <td>4</td>\n",
       "      <td>Excellent</td>\n",
       "      <td>Value for money product. This iphone 11 is rea...</td>\n",
       "    </tr>\n",
       "    <tr>\n",
       "      <th>99</th>\n",
       "      <td>5</td>\n",
       "      <td>Wonderful</td>\n",
       "      <td>Super and marvellous phone look very cute and ...</td>\n",
       "    </tr>\n",
       "  </tbody>\n",
       "</table>\n",
       "<p>100 rows × 3 columns</p>\n",
       "</div>"
      ],
      "text/plain": [
       "   Rating        Review_summary   \\\n",
       "0       5         Simply awesome   \n",
       "1       5              Brilliant   \n",
       "2       5              Fabulous!   \n",
       "3       5       Perfect product!   \n",
       "4       5      Worth every penny   \n",
       "..    ...                    ...   \n",
       "95      5  Mind-blowing purchase   \n",
       "96      5              Excellent   \n",
       "97      5              Fabulous!   \n",
       "98      4              Excellent   \n",
       "99      5              Wonderful   \n",
       "\n",
       "                                          Full review  \n",
       "0   Really satisfied with the Product I received.....  \n",
       "1   The Best Phone for the Money\\n\\nThe iPhone 11 ...  \n",
       "2   This is my first iOS phone. I am very happy wi...  \n",
       "3   Amazing phone with great cameras and better ba...  \n",
       "4   Previously I was using one plus 3t it was a gr...  \n",
       "..                                                ...  \n",
       "95  Excellent camera 📸 And Display touching very N...  \n",
       "96  A perfect phone and a good battery super camer...  \n",
       "97  Everything is perfect pictures come out so cle...  \n",
       "98  Value for money product. This iphone 11 is rea...  \n",
       "99  Super and marvellous phone look very cute and ...  \n",
       "\n",
       "[100 rows x 3 columns]"
      ]
     },
     "execution_count": 625,
     "metadata": {},
     "output_type": "execute_result"
    }
   ],
   "source": [
    "iphone11"
   ]
  },
  {
   "cell_type": "code",
   "execution_count": null,
   "id": "c163b56f",
   "metadata": {},
   "outputs": [],
   "source": []
  },
  {
   "cell_type": "code",
   "execution_count": null,
   "id": "4e0581dd",
   "metadata": {},
   "outputs": [],
   "source": []
  },
  {
   "cell_type": "markdown",
   "id": "9777b2b3",
   "metadata": {},
   "source": [
    "# Q8: Scrape data for first 100 sneakers you find when you visit flipkart.com and search for “sneakers” in the search field."
   ]
  },
  {
   "cell_type": "code",
   "execution_count": 626,
   "id": "f3eb784e",
   "metadata": {},
   "outputs": [],
   "source": [
    "#lets now import all required libraries \n",
    "import selenium\n",
    "import pandas as pd\n",
    "from selenium import webdriver"
   ]
  },
  {
   "cell_type": "code",
   "execution_count": 627,
   "id": "e9b6f839",
   "metadata": {},
   "outputs": [],
   "source": [
    "#lets first connect to the webdriver\n",
    "driver = webdriver.Chrome('chromedriver.exe')"
   ]
  },
  {
   "cell_type": "code",
   "execution_count": 628,
   "id": "ebfca603",
   "metadata": {},
   "outputs": [],
   "source": [
    "url = 'https://www.flipkart.com/'\n",
    "driver.get(url)"
   ]
  },
  {
   "cell_type": "code",
   "execution_count": 629,
   "id": "995312d9",
   "metadata": {},
   "outputs": [],
   "source": [
    "product_search = driver.find_element_by_name(\"q\")\n",
    "product_search.send_keys('sneakers')"
   ]
  },
  {
   "cell_type": "code",
   "execution_count": 640,
   "id": "54e28dc3",
   "metadata": {},
   "outputs": [
    {
     "data": {
      "text/plain": [
       "[<selenium.webdriver.remote.webelement.WebElement (session=\"ae37677fbabde0ef31e806b9975b0b59\", element=\"bcac3272-e3e8-4186-be55-1cbe12ae4e27\")>,\n",
       " <selenium.webdriver.remote.webelement.WebElement (session=\"ae37677fbabde0ef31e806b9975b0b59\", element=\"7e38be25-9786-45ef-acc4-ccd9119ecbac\")>,\n",
       " <selenium.webdriver.remote.webelement.WebElement (session=\"ae37677fbabde0ef31e806b9975b0b59\", element=\"2d85c9aa-9e06-4e7a-9219-a56afbcd0864\")>,\n",
       " <selenium.webdriver.remote.webelement.WebElement (session=\"ae37677fbabde0ef31e806b9975b0b59\", element=\"e9bf2edf-c857-407b-bcd4-6d869fe2a347\")>,\n",
       " <selenium.webdriver.remote.webelement.WebElement (session=\"ae37677fbabde0ef31e806b9975b0b59\", element=\"9dfa3349-a62f-4050-b481-93e389788a58\")>,\n",
       " <selenium.webdriver.remote.webelement.WebElement (session=\"ae37677fbabde0ef31e806b9975b0b59\", element=\"16c8bc62-ed55-4045-ac7c-9357725f19f8\")>,\n",
       " <selenium.webdriver.remote.webelement.WebElement (session=\"ae37677fbabde0ef31e806b9975b0b59\", element=\"7f20c294-7854-4f42-98da-4c6733fec74c\")>,\n",
       " <selenium.webdriver.remote.webelement.WebElement (session=\"ae37677fbabde0ef31e806b9975b0b59\", element=\"1276a4af-bd41-4120-8e3e-4ffd3ad86957\")>,\n",
       " <selenium.webdriver.remote.webelement.WebElement (session=\"ae37677fbabde0ef31e806b9975b0b59\", element=\"440ce555-0b25-4d38-af6a-288e7a6fbbbf\")>,\n",
       " <selenium.webdriver.remote.webelement.WebElement (session=\"ae37677fbabde0ef31e806b9975b0b59\", element=\"4f313625-a9b6-48c5-a303-effb4e353a09\")>,\n",
       " <selenium.webdriver.remote.webelement.WebElement (session=\"ae37677fbabde0ef31e806b9975b0b59\", element=\"8af5e982-a8ee-40c1-98ac-e2f837e8ad9e\")>,\n",
       " <selenium.webdriver.remote.webelement.WebElement (session=\"ae37677fbabde0ef31e806b9975b0b59\", element=\"23dca69c-9449-4c1d-9cad-a69e04e76588\")>,\n",
       " <selenium.webdriver.remote.webelement.WebElement (session=\"ae37677fbabde0ef31e806b9975b0b59\", element=\"78ae530b-a201-4bf0-8535-16fe60ed8fed\")>,\n",
       " <selenium.webdriver.remote.webelement.WebElement (session=\"ae37677fbabde0ef31e806b9975b0b59\", element=\"a837d80d-cab3-4296-b502-a5f4201f74fe\")>,\n",
       " <selenium.webdriver.remote.webelement.WebElement (session=\"ae37677fbabde0ef31e806b9975b0b59\", element=\"1248b4a4-7c56-4074-911e-feebf754215a\")>,\n",
       " <selenium.webdriver.remote.webelement.WebElement (session=\"ae37677fbabde0ef31e806b9975b0b59\", element=\"e5c93b29-b837-4f01-aeec-523227087d05\")>,\n",
       " <selenium.webdriver.remote.webelement.WebElement (session=\"ae37677fbabde0ef31e806b9975b0b59\", element=\"123c4168-43c9-4b34-a533-108ddd106522\")>,\n",
       " <selenium.webdriver.remote.webelement.WebElement (session=\"ae37677fbabde0ef31e806b9975b0b59\", element=\"7897ddb1-e2d6-40c1-a8cb-4f316f9bec5e\")>,\n",
       " <selenium.webdriver.remote.webelement.WebElement (session=\"ae37677fbabde0ef31e806b9975b0b59\", element=\"a88604fe-54fe-4d76-9b27-aacebdc144ed\")>,\n",
       " <selenium.webdriver.remote.webelement.WebElement (session=\"ae37677fbabde0ef31e806b9975b0b59\", element=\"e813c264-67f4-4f8c-964e-c23c0c249ce9\")>,\n",
       " <selenium.webdriver.remote.webelement.WebElement (session=\"ae37677fbabde0ef31e806b9975b0b59\", element=\"2b9b76f7-2f9b-4dab-bc90-79ffde83a276\")>,\n",
       " <selenium.webdriver.remote.webelement.WebElement (session=\"ae37677fbabde0ef31e806b9975b0b59\", element=\"8ba48138-f7ac-45e2-b8c1-1b8e5f48a9fd\")>,\n",
       " <selenium.webdriver.remote.webelement.WebElement (session=\"ae37677fbabde0ef31e806b9975b0b59\", element=\"34777ec4-8307-4fb2-9f7d-a38cbbb60d7c\")>,\n",
       " <selenium.webdriver.remote.webelement.WebElement (session=\"ae37677fbabde0ef31e806b9975b0b59\", element=\"3f146f99-9e85-452b-a553-91153b5c378a\")>,\n",
       " <selenium.webdriver.remote.webelement.WebElement (session=\"ae37677fbabde0ef31e806b9975b0b59\", element=\"fcd28b6c-624e-49de-9e75-d4dbcb4b9f7b\")>,\n",
       " <selenium.webdriver.remote.webelement.WebElement (session=\"ae37677fbabde0ef31e806b9975b0b59\", element=\"9d3c0b45-92ce-4506-a148-1791924c609c\")>,\n",
       " <selenium.webdriver.remote.webelement.WebElement (session=\"ae37677fbabde0ef31e806b9975b0b59\", element=\"9b2233d6-4f6d-4195-b891-42bae5f4d408\")>,\n",
       " <selenium.webdriver.remote.webelement.WebElement (session=\"ae37677fbabde0ef31e806b9975b0b59\", element=\"b6c77e15-bb5e-4a5f-b710-9dd12800c598\")>,\n",
       " <selenium.webdriver.remote.webelement.WebElement (session=\"ae37677fbabde0ef31e806b9975b0b59\", element=\"5b50dd9d-d4b9-48cf-9686-a6b7ff9d215a\")>,\n",
       " <selenium.webdriver.remote.webelement.WebElement (session=\"ae37677fbabde0ef31e806b9975b0b59\", element=\"bf5b8327-6d0d-4a59-b0d9-28fa5a5a189b\")>,\n",
       " <selenium.webdriver.remote.webelement.WebElement (session=\"ae37677fbabde0ef31e806b9975b0b59\", element=\"60a03475-7b27-41be-b37d-e419847588db\")>,\n",
       " <selenium.webdriver.remote.webelement.WebElement (session=\"ae37677fbabde0ef31e806b9975b0b59\", element=\"2b88e6ec-cd5a-46d6-a29b-79729414f2f2\")>,\n",
       " <selenium.webdriver.remote.webelement.WebElement (session=\"ae37677fbabde0ef31e806b9975b0b59\", element=\"9ab4c066-cc9a-4474-a9cb-0dbfedb060dd\")>,\n",
       " <selenium.webdriver.remote.webelement.WebElement (session=\"ae37677fbabde0ef31e806b9975b0b59\", element=\"4b0ae0d6-8963-4bbf-9797-aa370ebdb47c\")>,\n",
       " <selenium.webdriver.remote.webelement.WebElement (session=\"ae37677fbabde0ef31e806b9975b0b59\", element=\"0139de87-d9f5-4e09-8e37-922fee554fa1\")>,\n",
       " <selenium.webdriver.remote.webelement.WebElement (session=\"ae37677fbabde0ef31e806b9975b0b59\", element=\"2b8cc5c6-7116-442c-86d1-46c063285360\")>,\n",
       " <selenium.webdriver.remote.webelement.WebElement (session=\"ae37677fbabde0ef31e806b9975b0b59\", element=\"58ddb760-b19c-4390-965f-1658137dd3c4\")>,\n",
       " <selenium.webdriver.remote.webelement.WebElement (session=\"ae37677fbabde0ef31e806b9975b0b59\", element=\"ddcdc823-2810-4f53-b27e-f5c9325ec9bc\")>,\n",
       " <selenium.webdriver.remote.webelement.WebElement (session=\"ae37677fbabde0ef31e806b9975b0b59\", element=\"437dff90-107b-4ec3-b64c-4bf94b5168d7\")>,\n",
       " <selenium.webdriver.remote.webelement.WebElement (session=\"ae37677fbabde0ef31e806b9975b0b59\", element=\"c1bcbf8a-b984-42eb-832f-5b12a94331d3\")>]"
      ]
     },
     "execution_count": 640,
     "metadata": {},
     "output_type": "execute_result"
    }
   ],
   "source": [
    "shoes=driver.find_elements_by_xpath('//div[@class=\"_2WkVRV\"]')\n",
    "shoes"
   ]
  },
  {
   "cell_type": "code",
   "execution_count": 641,
   "id": "d0e0100f",
   "metadata": {},
   "outputs": [
    {
     "data": {
      "text/plain": [
       "['luxury fashion',\n",
       " 'Numenzo',\n",
       " 'BRUTON',\n",
       " 'bluemaker',\n",
       " 'Chevit',\n",
       " 'Magnolia',\n",
       " 'World Wear Footwear',\n",
       " 'luxury fashion',\n",
       " 'Numenzo',\n",
       " 'Shoes Bank',\n",
       " 'ASTEROID',\n",
       " 'luxury fashion',\n",
       " 'PEHANOSA',\n",
       " 'Chevit',\n",
       " 'Numenzo',\n",
       " 'Xylus',\n",
       " 'believe',\n",
       " 'Chevit',\n",
       " 'Red Rose',\n",
       " 'U.S. POLO ASSN.',\n",
       " 'Robbie jones',\n",
       " 'Kraasa',\n",
       " 'Nilatin',\n",
       " 'AMICO',\n",
       " 'CALCADOS',\n",
       " 'ROCKFIELD',\n",
       " 'BRUTON',\n",
       " 'STRANGER BROTHERS',\n",
       " 'India hub',\n",
       " 'Chevit',\n",
       " 'Echor',\n",
       " 'SHURAB',\n",
       " 'Nilatin',\n",
       " 'SCATCHITE',\n",
       " 'Absolute comfort',\n",
       " 'Numenzo',\n",
       " 'RODDICK SHOES',\n",
       " 'SPARX',\n",
       " 'World Wear Footwear',\n",
       " 'U.S. POLO ASSN.']"
      ]
     },
     "execution_count": 641,
     "metadata": {},
     "output_type": "execute_result"
    }
   ],
   "source": [
    "brand = []\n",
    "for i in shoes:\n",
    "    brand.append(i.text)\n",
    "brand"
   ]
  },
  {
   "cell_type": "code",
   "execution_count": 650,
   "id": "b5650dc8",
   "metadata": {},
   "outputs": [
    {
     "data": {
      "text/plain": [
       "['luxury fashion',\n",
       " 'Numenzo',\n",
       " 'BRUTON',\n",
       " 'bluemaker',\n",
       " 'Chevit',\n",
       " 'Magnolia',\n",
       " 'World Wear Footwear',\n",
       " 'luxury fashion',\n",
       " 'Numenzo',\n",
       " 'Shoes Bank',\n",
       " 'ASTEROID',\n",
       " 'luxury fashion',\n",
       " 'PEHANOSA',\n",
       " 'Chevit',\n",
       " 'Numenzo',\n",
       " 'Xylus',\n",
       " 'believe',\n",
       " 'Chevit',\n",
       " 'Red Rose',\n",
       " 'U.S. POLO ASSN.',\n",
       " 'Robbie jones',\n",
       " 'Kraasa',\n",
       " 'Nilatin',\n",
       " 'AMICO',\n",
       " 'CALCADOS',\n",
       " 'ROCKFIELD',\n",
       " 'BRUTON',\n",
       " 'STRANGER BROTHERS',\n",
       " 'India hub',\n",
       " 'Chevit',\n",
       " 'Echor',\n",
       " 'SHURAB',\n",
       " 'Nilatin',\n",
       " 'SCATCHITE',\n",
       " 'Absolute comfort',\n",
       " 'Numenzo',\n",
       " 'RODDICK SHOES',\n",
       " 'SPARX',\n",
       " 'World Wear Footwear',\n",
       " 'U.S. POLO ASSN.',\n",
       " 'Chevit',\n",
       " 'Chevit',\n",
       " 'Jokatoo',\n",
       " 'RODDICK SHOES',\n",
       " 'Zsyto',\n",
       " 'Labbin',\n",
       " 'Arohi',\n",
       " 'Labbin',\n",
       " 'BIRDE',\n",
       " 'BRUTON',\n",
       " 'D-SNEAKERZ',\n",
       " 'Ktiz',\n",
       " 'SPARX',\n",
       " 'Robbie jones',\n",
       " 'ESSENCE',\n",
       " 'bluemaker',\n",
       " 'NIKE',\n",
       " 'SPARX',\n",
       " 'Longwalk',\n",
       " 'World Wear Footwear',\n",
       " 'India hub',\n",
       " 'Robbie jones',\n",
       " 'Nilatin',\n",
       " 'T-ROCK',\n",
       " 'World Wear Footwear',\n",
       " 'Chevit',\n",
       " 'Jack Diamond',\n",
       " 'REEBOOT',\n",
       " 'Robbie jones',\n",
       " 'bluemaker',\n",
       " 'Edoeviv',\n",
       " 'Fzzirok',\n",
       " 'Edoeviv',\n",
       " 'Magnolia',\n",
       " 'restinfoot',\n",
       " 'Rising Wolf',\n",
       " 'SPARX',\n",
       " 'PUMA',\n",
       " 'STRANGER BROTHERS',\n",
       " 'PUMA']"
      ]
     },
     "execution_count": 650,
     "metadata": {},
     "output_type": "execute_result"
    }
   ],
   "source": [
    "shoes2=driver.find_elements_by_xpath('//div[@class=\"_2WkVRV\"]')\n",
    "for i in shoes2:\n",
    "    brand.append(i.text)\n",
    "brand"
   ]
  },
  {
   "cell_type": "code",
   "execution_count": 666,
   "id": "3a60d84b",
   "metadata": {},
   "outputs": [
    {
     "data": {
      "text/plain": [
       "['luxury fashion',\n",
       " 'Numenzo',\n",
       " 'BRUTON',\n",
       " 'bluemaker',\n",
       " 'Chevit',\n",
       " 'Magnolia',\n",
       " 'World Wear Footwear',\n",
       " 'luxury fashion',\n",
       " 'Numenzo',\n",
       " 'Shoes Bank',\n",
       " 'ASTEROID',\n",
       " 'luxury fashion',\n",
       " 'PEHANOSA',\n",
       " 'Chevit',\n",
       " 'Numenzo',\n",
       " 'Xylus',\n",
       " 'believe',\n",
       " 'Chevit',\n",
       " 'Red Rose',\n",
       " 'U.S. POLO ASSN.',\n",
       " 'Robbie jones',\n",
       " 'Kraasa',\n",
       " 'Nilatin',\n",
       " 'AMICO',\n",
       " 'CALCADOS',\n",
       " 'ROCKFIELD',\n",
       " 'BRUTON',\n",
       " 'STRANGER BROTHERS',\n",
       " 'India hub',\n",
       " 'Chevit',\n",
       " 'Echor',\n",
       " 'SHURAB',\n",
       " 'Nilatin',\n",
       " 'SCATCHITE',\n",
       " 'Absolute comfort',\n",
       " 'Numenzo',\n",
       " 'RODDICK SHOES',\n",
       " 'SPARX',\n",
       " 'World Wear Footwear',\n",
       " 'U.S. POLO ASSN.',\n",
       " 'Chevit',\n",
       " 'Chevit',\n",
       " 'Jokatoo',\n",
       " 'RODDICK SHOES',\n",
       " 'Zsyto',\n",
       " 'Labbin',\n",
       " 'Arohi',\n",
       " 'Labbin',\n",
       " 'BIRDE',\n",
       " 'BRUTON',\n",
       " 'D-SNEAKERZ',\n",
       " 'Ktiz',\n",
       " 'SPARX',\n",
       " 'Robbie jones',\n",
       " 'ESSENCE',\n",
       " 'bluemaker',\n",
       " 'NIKE',\n",
       " 'SPARX',\n",
       " 'Longwalk',\n",
       " 'World Wear Footwear',\n",
       " 'India hub',\n",
       " 'Robbie jones',\n",
       " 'Nilatin',\n",
       " 'T-ROCK',\n",
       " 'World Wear Footwear',\n",
       " 'Chevit',\n",
       " 'Jack Diamond',\n",
       " 'REEBOOT',\n",
       " 'Robbie jones',\n",
       " 'bluemaker',\n",
       " 'Edoeviv',\n",
       " 'Fzzirok',\n",
       " 'Edoeviv',\n",
       " 'Magnolia',\n",
       " 'restinfoot',\n",
       " 'Rising Wolf',\n",
       " 'SPARX',\n",
       " 'PUMA',\n",
       " 'STRANGER BROTHERS',\n",
       " 'PUMA',\n",
       " 'SPARX',\n",
       " 'PUMA',\n",
       " 'PUMA',\n",
       " 'SPARX',\n",
       " 'bluemaker',\n",
       " 'HOC',\n",
       " 'Chevit',\n",
       " 'PUMA',\n",
       " 'World Wear Footwear',\n",
       " 'PUMA',\n",
       " 'Zorth',\n",
       " 'PUMA',\n",
       " 'PUMA',\n",
       " 'PUMA',\n",
       " 'Zixer',\n",
       " 'ROCKFIELD',\n",
       " 'Ktiz',\n",
       " 'tigonis',\n",
       " 'Robbie jones',\n",
       " 'Chevit',\n",
       " 'FILA',\n",
       " 'NIKE',\n",
       " 'SHOE ISLAND',\n",
       " 'luxury fashion',\n",
       " 'PUMA',\n",
       " 'HOTSTYLE',\n",
       " 'Robbie jones',\n",
       " 'PUMA',\n",
       " 'Airland',\n",
       " 'Numenzo',\n",
       " 'Zsyto',\n",
       " 'Chevit',\n",
       " 'CAMPUS',\n",
       " 'PUMA',\n",
       " 'SPARX',\n",
       " 'PUMA',\n",
       " 'HOCKWOOD',\n",
       " 'FILA',\n",
       " 'PUMA',\n",
       " 'D-SNEAKERZ']"
      ]
     },
     "execution_count": 666,
     "metadata": {},
     "output_type": "execute_result"
    }
   ],
   "source": [
    "shoes3=driver.find_elements_by_xpath('//div[@class=\"_2WkVRV\"]')\n",
    "for i in shoes3:\n",
    "    brand.append(i.text)\n",
    "brand"
   ]
  },
  {
   "cell_type": "code",
   "execution_count": null,
   "id": "84988867",
   "metadata": {},
   "outputs": [],
   "source": []
  },
  {
   "cell_type": "code",
   "execution_count": 644,
   "id": "8d86d55c",
   "metadata": {},
   "outputs": [
    {
     "data": {
      "text/plain": [
       "[<selenium.webdriver.remote.webelement.WebElement (session=\"ae37677fbabde0ef31e806b9975b0b59\", element=\"eebc2486-620d-4182-b173-b4decdde7831\")>,\n",
       " <selenium.webdriver.remote.webelement.WebElement (session=\"ae37677fbabde0ef31e806b9975b0b59\", element=\"ddbba475-afbb-4f11-9449-853b4c523ef3\")>,\n",
       " <selenium.webdriver.remote.webelement.WebElement (session=\"ae37677fbabde0ef31e806b9975b0b59\", element=\"dcfc448d-686d-4787-8b4e-59f2d4d0854f\")>,\n",
       " <selenium.webdriver.remote.webelement.WebElement (session=\"ae37677fbabde0ef31e806b9975b0b59\", element=\"103e0a3d-ced3-4900-9d14-fcbb74c5413a\")>,\n",
       " <selenium.webdriver.remote.webelement.WebElement (session=\"ae37677fbabde0ef31e806b9975b0b59\", element=\"a23f3168-dc7b-4511-9e79-0e0e410252ac\")>,\n",
       " <selenium.webdriver.remote.webelement.WebElement (session=\"ae37677fbabde0ef31e806b9975b0b59\", element=\"7dabfef5-7a0b-4c21-a96c-428822c81143\")>,\n",
       " <selenium.webdriver.remote.webelement.WebElement (session=\"ae37677fbabde0ef31e806b9975b0b59\", element=\"555ce777-3370-431e-ae89-7c0945ead347\")>,\n",
       " <selenium.webdriver.remote.webelement.WebElement (session=\"ae37677fbabde0ef31e806b9975b0b59\", element=\"f62391fe-5dc7-42b2-9659-c802929addd3\")>,\n",
       " <selenium.webdriver.remote.webelement.WebElement (session=\"ae37677fbabde0ef31e806b9975b0b59\", element=\"7cb1bf2f-088f-4904-80cc-9dc33e66ed03\")>,\n",
       " <selenium.webdriver.remote.webelement.WebElement (session=\"ae37677fbabde0ef31e806b9975b0b59\", element=\"888957bd-835b-450e-b7ab-56e28ed8c629\")>,\n",
       " <selenium.webdriver.remote.webelement.WebElement (session=\"ae37677fbabde0ef31e806b9975b0b59\", element=\"377fa87c-84e2-4f6f-a4cc-11a4bc541ac6\")>,\n",
       " <selenium.webdriver.remote.webelement.WebElement (session=\"ae37677fbabde0ef31e806b9975b0b59\", element=\"4d705666-b109-4aa8-b164-791815a2a30b\")>,\n",
       " <selenium.webdriver.remote.webelement.WebElement (session=\"ae37677fbabde0ef31e806b9975b0b59\", element=\"46b21f32-7b33-4559-ab42-71feabcecb5d\")>,\n",
       " <selenium.webdriver.remote.webelement.WebElement (session=\"ae37677fbabde0ef31e806b9975b0b59\", element=\"8f86789c-9617-4f27-b75a-5ac554504e47\")>,\n",
       " <selenium.webdriver.remote.webelement.WebElement (session=\"ae37677fbabde0ef31e806b9975b0b59\", element=\"e16d55aa-899f-4bff-96a1-e22cee8f9e64\")>,\n",
       " <selenium.webdriver.remote.webelement.WebElement (session=\"ae37677fbabde0ef31e806b9975b0b59\", element=\"a0bac971-db8d-46db-a872-6d7fa1ecb869\")>,\n",
       " <selenium.webdriver.remote.webelement.WebElement (session=\"ae37677fbabde0ef31e806b9975b0b59\", element=\"232e8782-acb0-47ff-aa91-cf2f90dd922a\")>,\n",
       " <selenium.webdriver.remote.webelement.WebElement (session=\"ae37677fbabde0ef31e806b9975b0b59\", element=\"12da96ef-8b85-49ed-aaf5-d63ddc83ab53\")>,\n",
       " <selenium.webdriver.remote.webelement.WebElement (session=\"ae37677fbabde0ef31e806b9975b0b59\", element=\"9fb6b958-01ef-4b8e-955e-3c3ab7e4b0b4\")>,\n",
       " <selenium.webdriver.remote.webelement.WebElement (session=\"ae37677fbabde0ef31e806b9975b0b59\", element=\"888d500e-0571-4edb-85cc-d58402954161\")>,\n",
       " <selenium.webdriver.remote.webelement.WebElement (session=\"ae37677fbabde0ef31e806b9975b0b59\", element=\"1c52d057-0b5e-4e28-81af-2182e5cf6130\")>,\n",
       " <selenium.webdriver.remote.webelement.WebElement (session=\"ae37677fbabde0ef31e806b9975b0b59\", element=\"a6932bbf-acaa-4835-a275-cd96148afc6d\")>,\n",
       " <selenium.webdriver.remote.webelement.WebElement (session=\"ae37677fbabde0ef31e806b9975b0b59\", element=\"ddc20b25-f447-456a-942a-cd4e9a34f449\")>,\n",
       " <selenium.webdriver.remote.webelement.WebElement (session=\"ae37677fbabde0ef31e806b9975b0b59\", element=\"689f16f0-2c39-4591-96bd-06c05ceb12d8\")>,\n",
       " <selenium.webdriver.remote.webelement.WebElement (session=\"ae37677fbabde0ef31e806b9975b0b59\", element=\"7b6477cc-486d-4017-87c9-1dab5f3636f2\")>,\n",
       " <selenium.webdriver.remote.webelement.WebElement (session=\"ae37677fbabde0ef31e806b9975b0b59\", element=\"b23edb98-5568-4e16-971a-97452db3fb98\")>,\n",
       " <selenium.webdriver.remote.webelement.WebElement (session=\"ae37677fbabde0ef31e806b9975b0b59\", element=\"b9853a06-8cf0-4965-9a77-9adf6994ad05\")>,\n",
       " <selenium.webdriver.remote.webelement.WebElement (session=\"ae37677fbabde0ef31e806b9975b0b59\", element=\"13d1d8b3-0a63-42f6-8749-b950a8726e1f\")>,\n",
       " <selenium.webdriver.remote.webelement.WebElement (session=\"ae37677fbabde0ef31e806b9975b0b59\", element=\"7c4c9329-f8cb-4cb5-a864-928f8af35e6b\")>,\n",
       " <selenium.webdriver.remote.webelement.WebElement (session=\"ae37677fbabde0ef31e806b9975b0b59\", element=\"55350db1-8f17-4a86-811a-ba49fe31e208\")>,\n",
       " <selenium.webdriver.remote.webelement.WebElement (session=\"ae37677fbabde0ef31e806b9975b0b59\", element=\"5b62465e-09d7-43f9-b31d-08a3be9b480a\")>,\n",
       " <selenium.webdriver.remote.webelement.WebElement (session=\"ae37677fbabde0ef31e806b9975b0b59\", element=\"c12fc2c8-598a-4f4f-a6a8-64dfa266d3ee\")>,\n",
       " <selenium.webdriver.remote.webelement.WebElement (session=\"ae37677fbabde0ef31e806b9975b0b59\", element=\"8af451d4-f414-43e0-a43a-c6fb83761c1d\")>,\n",
       " <selenium.webdriver.remote.webelement.WebElement (session=\"ae37677fbabde0ef31e806b9975b0b59\", element=\"f3605955-50f4-4f61-96ec-a98794910b2f\")>]"
      ]
     },
     "execution_count": 644,
     "metadata": {},
     "output_type": "execute_result"
    }
   ],
   "source": [
    "pro_des=driver.find_elements_by_xpath('//a[@class=\"IRpwTa\"]')\n",
    "pro_des"
   ]
  },
  {
   "cell_type": "code",
   "execution_count": 645,
   "id": "7cfe8573",
   "metadata": {},
   "outputs": [
    {
     "data": {
      "text/plain": [
       "['Sneakers For Men',\n",
       " 'Sneakers For Men',\n",
       " 'Modern & Trendy Collection Combo Pack of 02 Shoes for M...',\n",
       " 'casual for men (blue 06) Sneakers For Men',\n",
       " 'Unique & Perfect Collection Combo Pack of 02 Shoes for ...',\n",
       " 'Sneakers For Men',\n",
       " '5011-Latest Collection Stylish Casual Loafer Sneakers S...',\n",
       " 'Fashionable casual sneaker sports shoes Sneakers For Me...',\n",
       " 'Sneakers For Men',\n",
       " \"White Sneaker For Men's/Boy's Sneakers For Men\",\n",
       " \"Original Luxury Branded Fashionable Men's Casual Walkin...\",\n",
       " 'Luxury Fashionable casual sneaker shoes Sneakers For Me...',\n",
       " 'Super Stylish & Trendy Combo Pack of 02 Pairs Sneakers ...',\n",
       " 'Sneakers For Men',\n",
       " 'Double protection Stylish & Comfortable Running & Sport...',\n",
       " 'Sneakers for men(black_6) Sneakers For Men',\n",
       " 'Speed Set of 5 Pairs Sneakers Outdoors Casuals for Men ...',\n",
       " 'Sneakers For Men',\n",
       " 'LEONEL Sneakers For Men',\n",
       " 'Sneakers For Men',\n",
       " 'Series 7 Sneakers For Men',\n",
       " 'Black Sneaker For Men Sneakers For Men',\n",
       " 'Designer Printed Casual Sneakers Shoes Sneakers For Men',\n",
       " 'Sneakers For Men',\n",
       " 'Combo Pack Of 4 Casual Shoes Loafer Shoes Sneakers For ...',\n",
       " 'Fashionable casual sneakers shoes Sneakers For Men',\n",
       " '494 Perfect Sports Shoes for Running Training Hikking &...',\n",
       " 'Trend Sneakers For Men',\n",
       " 'Sneakers Sneakers For Men',\n",
       " 'Sneakers For Men',\n",
       " 'Fashion Outdoor Canvas Casual Light Weight Lace-up Even...',\n",
       " 'Men White Sneakers Sneakers For Men',\n",
       " 'Men 5014 Latest Collection Stylish Casual Sports Loafer...',\n",
       " 'LEBRON 2.0 Sneakers For Men']"
      ]
     },
     "execution_count": 645,
     "metadata": {},
     "output_type": "execute_result"
    }
   ],
   "source": [
    "description = []\n",
    "for i in pro_des:\n",
    "    description.append(i.text)\n",
    "description"
   ]
  },
  {
   "cell_type": "code",
   "execution_count": 652,
   "id": "725235c0",
   "metadata": {},
   "outputs": [
    {
     "data": {
      "text/plain": [
       "['Sneakers For Men',\n",
       " 'Sneakers For Men',\n",
       " 'Modern & Trendy Collection Combo Pack of 02 Shoes for M...',\n",
       " 'casual for men (blue 06) Sneakers For Men',\n",
       " 'Unique & Perfect Collection Combo Pack of 02 Shoes for ...',\n",
       " 'Sneakers For Men',\n",
       " '5011-Latest Collection Stylish Casual Loafer Sneakers S...',\n",
       " 'Fashionable casual sneaker sports shoes Sneakers For Me...',\n",
       " 'Sneakers For Men',\n",
       " \"White Sneaker For Men's/Boy's Sneakers For Men\",\n",
       " \"Original Luxury Branded Fashionable Men's Casual Walkin...\",\n",
       " 'Luxury Fashionable casual sneaker shoes Sneakers For Me...',\n",
       " 'Super Stylish & Trendy Combo Pack of 02 Pairs Sneakers ...',\n",
       " 'Sneakers For Men',\n",
       " 'Double protection Stylish & Comfortable Running & Sport...',\n",
       " 'Sneakers for men(black_6) Sneakers For Men',\n",
       " 'Speed Set of 5 Pairs Sneakers Outdoors Casuals for Men ...',\n",
       " 'Sneakers For Men',\n",
       " 'LEONEL Sneakers For Men',\n",
       " 'Sneakers For Men',\n",
       " 'Series 7 Sneakers For Men',\n",
       " 'Black Sneaker For Men Sneakers For Men',\n",
       " 'Designer Printed Casual Sneakers Shoes Sneakers For Men',\n",
       " 'Sneakers For Men',\n",
       " 'Combo Pack Of 4 Casual Shoes Loafer Shoes Sneakers For ...',\n",
       " 'Fashionable casual sneakers shoes Sneakers For Men',\n",
       " '494 Perfect Sports Shoes for Running Training Hikking &...',\n",
       " 'Trend Sneakers For Men',\n",
       " 'Sneakers Sneakers For Men',\n",
       " 'Sneakers For Men',\n",
       " 'Fashion Outdoor Canvas Casual Light Weight Lace-up Even...',\n",
       " 'Men White Sneakers Sneakers For Men',\n",
       " 'Men 5014 Latest Collection Stylish Casual Sports Loafer...',\n",
       " 'LEBRON 2.0 Sneakers For Men',\n",
       " 'Perfect & Affordable Combo Pack of 02 Pairs Sneakers Ou...',\n",
       " 'Perfect & Affordable Combo Pack of 03 Pairs Casual Snea...',\n",
       " 'Fashion Outdoor Canvas Casual Light Weight Lace-up Even...',\n",
       " 'Sneakers For Men',\n",
       " 'Casual Sneakers White Shoes For Men And Boys Sneakers F...',\n",
       " 'Combo Pack of 4 Casual Shoes Sneakers For Men',\n",
       " 'Modern Trendy Sneakers Shoes Sneakers For Men',\n",
       " \"Casual , Partywear Sneakers Shoes For Men's And Boys Wh...\",\n",
       " 'Rockstyle Trending Multicolor Ultralight canvas Sport/ ...',\n",
       " 'SM-322 Sneakers For Men',\n",
       " 'Casual Sneakers Shoes For Men And Boys Sneakers For Men',\n",
       " 'Sneakers For Men',\n",
       " 'casual for men (beige 06) Sneakers For Men',\n",
       " 'SB Delta Force Vulcanized Skate Shoe Sneakers For Men',\n",
       " 'SM-322 Sneakers For Men',\n",
       " 'Men Boxer Sneakers For Men',\n",
       " 'Latest Collection-1227 Stylish Casual Sports Sneakers F...',\n",
       " 'Fashionable casual sneakers shoes Sneakers For Men',\n",
       " 'Casual Sneakers White Shoes For Men Sneakers For Men',\n",
       " 'Synthetic Leather Casual Partywear Wedding Sneakers Sho...',\n",
       " 'Sneakers For Men',\n",
       " 'Chevit Latest Fashion Combo Pack of 2 Pairs Casual Outd...',\n",
       " 'Casual Sneakers Shoes For Men Sneakers For Men',\n",
       " 'casual for men (black 06) Sneakers For Men',\n",
       " \"Original Luxury Branded Fashionable Men's Casual Walkin...\",\n",
       " \"Luxury Branded Fashionable Men's Casual Walking Partywe...\",\n",
       " 'White Sneakers Sneakers For Men',\n",
       " \"Casual shoes,Sneakers for men's,shoes for men's Sneaker...\",\n",
       " 'Sneakers For Men',\n",
       " 'SM-675 Sneakers For Men',\n",
       " 'Dexster Slip On IDP Sneakers For Men',\n",
       " 'Sneakers For Men',\n",
       " 'Acrux IDP Sneakers For Men']"
      ]
     },
     "execution_count": 652,
     "metadata": {},
     "output_type": "execute_result"
    }
   ],
   "source": [
    "pro_des2=driver.find_elements_by_xpath('//a[@class=\"IRpwTa\"]')\n",
    "for i in pro_des2:\n",
    "    description.append(i.text)\n",
    "description"
   ]
  },
  {
   "cell_type": "code",
   "execution_count": 664,
   "id": "82ded827",
   "metadata": {},
   "outputs": [
    {
     "data": {
      "text/plain": [
       "['Sneakers For Men',\n",
       " 'Sneakers For Men',\n",
       " 'Modern & Trendy Collection Combo Pack of 02 Shoes for M...',\n",
       " 'casual for men (blue 06) Sneakers For Men',\n",
       " 'Unique & Perfect Collection Combo Pack of 02 Shoes for ...',\n",
       " 'Sneakers For Men',\n",
       " '5011-Latest Collection Stylish Casual Loafer Sneakers S...',\n",
       " 'Fashionable casual sneaker sports shoes Sneakers For Me...',\n",
       " 'Sneakers For Men',\n",
       " \"White Sneaker For Men's/Boy's Sneakers For Men\",\n",
       " \"Original Luxury Branded Fashionable Men's Casual Walkin...\",\n",
       " 'Luxury Fashionable casual sneaker shoes Sneakers For Me...',\n",
       " 'Super Stylish & Trendy Combo Pack of 02 Pairs Sneakers ...',\n",
       " 'Sneakers For Men',\n",
       " 'Double protection Stylish & Comfortable Running & Sport...',\n",
       " 'Sneakers for men(black_6) Sneakers For Men',\n",
       " 'Speed Set of 5 Pairs Sneakers Outdoors Casuals for Men ...',\n",
       " 'Sneakers For Men',\n",
       " 'LEONEL Sneakers For Men',\n",
       " 'Sneakers For Men',\n",
       " 'Series 7 Sneakers For Men',\n",
       " 'Black Sneaker For Men Sneakers For Men',\n",
       " 'Designer Printed Casual Sneakers Shoes Sneakers For Men',\n",
       " 'Sneakers For Men',\n",
       " 'Combo Pack Of 4 Casual Shoes Loafer Shoes Sneakers For ...',\n",
       " 'Fashionable casual sneakers shoes Sneakers For Men',\n",
       " '494 Perfect Sports Shoes for Running Training Hikking &...',\n",
       " 'Trend Sneakers For Men',\n",
       " 'Sneakers Sneakers For Men',\n",
       " 'Sneakers For Men',\n",
       " 'Fashion Outdoor Canvas Casual Light Weight Lace-up Even...',\n",
       " 'Men White Sneakers Sneakers For Men',\n",
       " 'Men 5014 Latest Collection Stylish Casual Sports Loafer...',\n",
       " 'LEBRON 2.0 Sneakers For Men',\n",
       " 'Perfect & Affordable Combo Pack of 02 Pairs Sneakers Ou...',\n",
       " 'Perfect & Affordable Combo Pack of 03 Pairs Casual Snea...',\n",
       " 'Fashion Outdoor Canvas Casual Light Weight Lace-up Even...',\n",
       " 'Sneakers For Men',\n",
       " 'Casual Sneakers White Shoes For Men And Boys Sneakers F...',\n",
       " 'Combo Pack of 4 Casual Shoes Sneakers For Men',\n",
       " 'Modern Trendy Sneakers Shoes Sneakers For Men',\n",
       " \"Casual , Partywear Sneakers Shoes For Men's And Boys Wh...\",\n",
       " 'Rockstyle Trending Multicolor Ultralight canvas Sport/ ...',\n",
       " 'SM-322 Sneakers For Men',\n",
       " 'Casual Sneakers Shoes For Men And Boys Sneakers For Men',\n",
       " 'Sneakers For Men',\n",
       " 'casual for men (beige 06) Sneakers For Men',\n",
       " 'SB Delta Force Vulcanized Skate Shoe Sneakers For Men',\n",
       " 'SM-322 Sneakers For Men',\n",
       " 'Men Boxer Sneakers For Men',\n",
       " 'Latest Collection-1227 Stylish Casual Sports Sneakers F...',\n",
       " 'Fashionable casual sneakers shoes Sneakers For Men',\n",
       " 'Casual Sneakers White Shoes For Men Sneakers For Men',\n",
       " 'Synthetic Leather Casual Partywear Wedding Sneakers Sho...',\n",
       " 'Sneakers For Men',\n",
       " 'Chevit Latest Fashion Combo Pack of 2 Pairs Casual Outd...',\n",
       " 'Casual Sneakers Shoes For Men Sneakers For Men',\n",
       " 'casual for men (black 06) Sneakers For Men',\n",
       " \"Original Luxury Branded Fashionable Men's Casual Walkin...\",\n",
       " \"Luxury Branded Fashionable Men's Casual Walking Partywe...\",\n",
       " 'White Sneakers Sneakers For Men',\n",
       " \"Casual shoes,Sneakers for men's,shoes for men's Sneaker...\",\n",
       " 'Sneakers For Men',\n",
       " 'SM-675 Sneakers For Men',\n",
       " 'Dexster Slip On IDP Sneakers For Men',\n",
       " 'Sneakers For Men',\n",
       " 'Acrux IDP Sneakers For Men',\n",
       " 'SM439G Sneakers For Men',\n",
       " 'New Fashion Outdoor Trendy Lightweight Casual,Canvas St...',\n",
       " 'Shoes For Boys Dance shoes Sneakers For Men',\n",
       " 'Rockstyle Trending Multicolor Ultralight canvas Sport/ ...',\n",
       " 'Sneakers For Men',\n",
       " 'Street Smart Sneakers For Men',\n",
       " 'Poise Perf V1 IDP Sneakers For Men',\n",
       " 'Flex Renew SlipOn Sneakers For Men',\n",
       " 'Canvas Casual Partywear Outdoor Sneakers Shoes For Mens...',\n",
       " 'casual for men (black 06) Sneakers For Men',\n",
       " 'Luxury Fashionable Breathable White shoes for men Sneak...',\n",
       " 'Chevit Combo Pack of 5 Casual Sneakers With Canvas Shoe...',\n",
       " 'Simha IDP Sneakers For Men',\n",
       " 'Combo Pack of 4 Latest Collection Stylish Casual Loafer...',\n",
       " 'Corode IDP Sneakers For Men',\n",
       " 'Lazy Knit Slip On IDP Sneakers For Men',\n",
       " 'Flex Generation V1 IDP Sneakers For Men',\n",
       " 'Kor Sneakers For Men',\n",
       " 'Sneakers For Men',\n",
       " 'Sneakers For Men',\n",
       " 'Casual Sneakers White Shoes For Men Sneakers For Men',\n",
       " 'Affordable Combo Pack of 03 Pairs Sneakers Outdoor Loaf...',\n",
       " 'MESTO Sneakers For Men',\n",
       " 'Court Royale 2 Low Sneakers For Men',\n",
       " 'Sneakers For Men',\n",
       " 'Luxury Fashionable casual sneaker shoes Sneakers For Me...',\n",
       " 'Poise Perf IDP Sneakers For Men',\n",
       " 'Sneakers Sneakers For Men',\n",
       " 'Casual Sneakers Shoes For Men Sneakers For Men',\n",
       " 'Puma Rebound LayUp SL Sneakers For Men',\n",
       " 'shoe Sneakers For Men',\n",
       " 'Sneakers For Men',\n",
       " 'Affordable Combo Pack of 03 Pairs Sneakers Outdoor Loaf...',\n",
       " 'EXPLORE Sneakers For Men',\n",
       " 'Simha IDP Sneakers For Men',\n",
       " 'SM-162 Sneakers For Men',\n",
       " 'Puma Rebound LayUp SL Sneakers For Men',\n",
       " 'EMAN Sneakers For Men',\n",
       " 'Icon star V2 IDP Sneakers For Men',\n",
       " \"Casual , Partywear Sneakers Shoes For Men's And Boys Wh...\"]"
      ]
     },
     "execution_count": 664,
     "metadata": {},
     "output_type": "execute_result"
    }
   ],
   "source": [
    "pro_des3=driver.find_elements_by_xpath('//a[@class=\"IRpwTa\"]')\n",
    "for i in pro_des3:\n",
    "    description.append(i.text)\n",
    "description"
   ]
  },
  {
   "cell_type": "code",
   "execution_count": null,
   "id": "1e5a6d3e",
   "metadata": {},
   "outputs": [],
   "source": []
  },
  {
   "cell_type": "code",
   "execution_count": null,
   "id": "53b633d0",
   "metadata": {},
   "outputs": [],
   "source": []
  },
  {
   "cell_type": "code",
   "execution_count": 646,
   "id": "e66f9f77",
   "metadata": {},
   "outputs": [
    {
     "data": {
      "text/plain": [
       "[<selenium.webdriver.remote.webelement.WebElement (session=\"ae37677fbabde0ef31e806b9975b0b59\", element=\"d80c6b19-8152-4240-bea9-e413a789dac8\")>,\n",
       " <selenium.webdriver.remote.webelement.WebElement (session=\"ae37677fbabde0ef31e806b9975b0b59\", element=\"357c4d66-8765-4042-9cf4-ae2da309940c\")>,\n",
       " <selenium.webdriver.remote.webelement.WebElement (session=\"ae37677fbabde0ef31e806b9975b0b59\", element=\"39982788-0836-4609-a791-73521ae6748c\")>,\n",
       " <selenium.webdriver.remote.webelement.WebElement (session=\"ae37677fbabde0ef31e806b9975b0b59\", element=\"51a89e92-9702-4c54-86b8-a790766bd4b3\")>,\n",
       " <selenium.webdriver.remote.webelement.WebElement (session=\"ae37677fbabde0ef31e806b9975b0b59\", element=\"c35d9b90-1ea0-419a-9954-47d9d322eb8b\")>,\n",
       " <selenium.webdriver.remote.webelement.WebElement (session=\"ae37677fbabde0ef31e806b9975b0b59\", element=\"6655deb6-d290-4377-8f3b-b7dc7c84275e\")>,\n",
       " <selenium.webdriver.remote.webelement.WebElement (session=\"ae37677fbabde0ef31e806b9975b0b59\", element=\"499a6abd-1be0-4e0a-9016-639f9dd46678\")>,\n",
       " <selenium.webdriver.remote.webelement.WebElement (session=\"ae37677fbabde0ef31e806b9975b0b59\", element=\"48a0d49b-5821-44de-9d9d-3f613aa1dc32\")>,\n",
       " <selenium.webdriver.remote.webelement.WebElement (session=\"ae37677fbabde0ef31e806b9975b0b59\", element=\"fe560f99-048e-4a96-ba9f-6183b210f8ad\")>,\n",
       " <selenium.webdriver.remote.webelement.WebElement (session=\"ae37677fbabde0ef31e806b9975b0b59\", element=\"e78e3dfa-6d90-457a-ae0c-21966085e186\")>,\n",
       " <selenium.webdriver.remote.webelement.WebElement (session=\"ae37677fbabde0ef31e806b9975b0b59\", element=\"639bf1ca-d79b-4d62-bcc9-4ad0bb69c166\")>,\n",
       " <selenium.webdriver.remote.webelement.WebElement (session=\"ae37677fbabde0ef31e806b9975b0b59\", element=\"97f3ceab-8c3c-4391-8751-2790dd1812be\")>,\n",
       " <selenium.webdriver.remote.webelement.WebElement (session=\"ae37677fbabde0ef31e806b9975b0b59\", element=\"0d79ce98-648d-493f-b397-ad8b90447b0b\")>,\n",
       " <selenium.webdriver.remote.webelement.WebElement (session=\"ae37677fbabde0ef31e806b9975b0b59\", element=\"12b5baff-aefa-4036-82f6-3687ec939792\")>,\n",
       " <selenium.webdriver.remote.webelement.WebElement (session=\"ae37677fbabde0ef31e806b9975b0b59\", element=\"f8f4785f-9588-42d2-ae64-8fde8a6bdfd6\")>,\n",
       " <selenium.webdriver.remote.webelement.WebElement (session=\"ae37677fbabde0ef31e806b9975b0b59\", element=\"ca372356-d3d9-4309-955e-7cbebd355260\")>,\n",
       " <selenium.webdriver.remote.webelement.WebElement (session=\"ae37677fbabde0ef31e806b9975b0b59\", element=\"06478817-dbbc-4773-a3e9-082c0bfe6a99\")>,\n",
       " <selenium.webdriver.remote.webelement.WebElement (session=\"ae37677fbabde0ef31e806b9975b0b59\", element=\"8a319216-bff3-4caa-8482-74fa60595b45\")>,\n",
       " <selenium.webdriver.remote.webelement.WebElement (session=\"ae37677fbabde0ef31e806b9975b0b59\", element=\"fd4238eb-10a4-4755-b94d-ccbe075b67eb\")>,\n",
       " <selenium.webdriver.remote.webelement.WebElement (session=\"ae37677fbabde0ef31e806b9975b0b59\", element=\"5f1c48e0-32ae-489f-91d6-47047a8f5b6c\")>,\n",
       " <selenium.webdriver.remote.webelement.WebElement (session=\"ae37677fbabde0ef31e806b9975b0b59\", element=\"f76e68b6-f699-4892-a1f9-83bb6ec9679e\")>,\n",
       " <selenium.webdriver.remote.webelement.WebElement (session=\"ae37677fbabde0ef31e806b9975b0b59\", element=\"6ed0ee9f-0302-4161-a247-345c00e74b72\")>,\n",
       " <selenium.webdriver.remote.webelement.WebElement (session=\"ae37677fbabde0ef31e806b9975b0b59\", element=\"9f74a219-a9cc-4d33-9cff-7db06bf301b4\")>,\n",
       " <selenium.webdriver.remote.webelement.WebElement (session=\"ae37677fbabde0ef31e806b9975b0b59\", element=\"c5b2f960-7ab7-4323-a1f7-fa22b7dc612f\")>,\n",
       " <selenium.webdriver.remote.webelement.WebElement (session=\"ae37677fbabde0ef31e806b9975b0b59\", element=\"fc56c6fb-f132-438f-bb71-aed6240741e1\")>,\n",
       " <selenium.webdriver.remote.webelement.WebElement (session=\"ae37677fbabde0ef31e806b9975b0b59\", element=\"5954b09d-7e42-4e00-9b4b-ab7294af3713\")>,\n",
       " <selenium.webdriver.remote.webelement.WebElement (session=\"ae37677fbabde0ef31e806b9975b0b59\", element=\"9373f462-adbd-4cf0-81de-7184318d5177\")>,\n",
       " <selenium.webdriver.remote.webelement.WebElement (session=\"ae37677fbabde0ef31e806b9975b0b59\", element=\"30109a61-f273-4734-9fc0-40f81d89e16e\")>,\n",
       " <selenium.webdriver.remote.webelement.WebElement (session=\"ae37677fbabde0ef31e806b9975b0b59\", element=\"0318d9a4-0444-4929-9c55-409185462b1e\")>,\n",
       " <selenium.webdriver.remote.webelement.WebElement (session=\"ae37677fbabde0ef31e806b9975b0b59\", element=\"5376c913-63d1-4ec2-ae57-56be8a2be7d7\")>,\n",
       " <selenium.webdriver.remote.webelement.WebElement (session=\"ae37677fbabde0ef31e806b9975b0b59\", element=\"50c31a4c-655e-44ab-bf1e-090d7a41af1c\")>,\n",
       " <selenium.webdriver.remote.webelement.WebElement (session=\"ae37677fbabde0ef31e806b9975b0b59\", element=\"4cdd7978-37c2-4892-8948-c4894e1c3935\")>,\n",
       " <selenium.webdriver.remote.webelement.WebElement (session=\"ae37677fbabde0ef31e806b9975b0b59\", element=\"8e63e468-5439-4979-bd8e-fdb181ca50ce\")>,\n",
       " <selenium.webdriver.remote.webelement.WebElement (session=\"ae37677fbabde0ef31e806b9975b0b59\", element=\"67f0ce68-669a-4ed9-9e27-2d70c637d181\")>,\n",
       " <selenium.webdriver.remote.webelement.WebElement (session=\"ae37677fbabde0ef31e806b9975b0b59\", element=\"f54ed553-a7f2-43b8-905d-74f6dd503686\")>,\n",
       " <selenium.webdriver.remote.webelement.WebElement (session=\"ae37677fbabde0ef31e806b9975b0b59\", element=\"3a1e73df-2c1a-48b0-8666-8da45df08f5c\")>,\n",
       " <selenium.webdriver.remote.webelement.WebElement (session=\"ae37677fbabde0ef31e806b9975b0b59\", element=\"e4f425e1-6e1a-4983-ab52-0cc10f64bfa2\")>,\n",
       " <selenium.webdriver.remote.webelement.WebElement (session=\"ae37677fbabde0ef31e806b9975b0b59\", element=\"edac1557-f745-4a5e-949b-6d24fad60e17\")>,\n",
       " <selenium.webdriver.remote.webelement.WebElement (session=\"ae37677fbabde0ef31e806b9975b0b59\", element=\"9a7a61df-b408-4feb-8cac-b1121c5552e0\")>,\n",
       " <selenium.webdriver.remote.webelement.WebElement (session=\"ae37677fbabde0ef31e806b9975b0b59\", element=\"cbbd4fde-7fc4-473d-8e53-d08bdb4478d0\")>]"
      ]
     },
     "execution_count": 646,
     "metadata": {},
     "output_type": "execute_result"
    }
   ],
   "source": [
    "cost=driver.find_elements_by_xpath('//div[@class=\"_30jeq3\"]')\n",
    "cost"
   ]
  },
  {
   "cell_type": "code",
   "execution_count": 647,
   "id": "53766b45",
   "metadata": {},
   "outputs": [
    {
     "data": {
      "text/plain": [
       "['₹399',\n",
       " '₹426',\n",
       " '₹499',\n",
       " '₹474',\n",
       " '₹449',\n",
       " '₹419',\n",
       " '₹240',\n",
       " '₹399',\n",
       " '₹378',\n",
       " '₹349',\n",
       " '₹499',\n",
       " '₹399',\n",
       " '₹399',\n",
       " '₹599',\n",
       " '₹426',\n",
       " '₹599',\n",
       " '₹499',\n",
       " '₹683',\n",
       " '₹299',\n",
       " '₹3,999',\n",
       " '₹499',\n",
       " '₹499',\n",
       " '₹426',\n",
       " '₹464',\n",
       " '₹748',\n",
       " '₹299',\n",
       " '₹474',\n",
       " '₹449',\n",
       " '₹404',\n",
       " '₹284',\n",
       " '₹449',\n",
       " '₹379',\n",
       " '₹407',\n",
       " '₹398',\n",
       " '₹220',\n",
       " '₹407',\n",
       " '₹499',\n",
       " '₹625',\n",
       " '₹240',\n",
       " '₹3,916']"
      ]
     },
     "execution_count": 647,
     "metadata": {},
     "output_type": "execute_result"
    }
   ],
   "source": [
    "price = []\n",
    "for i in cost:\n",
    "    price.append(i.text)\n",
    "price"
   ]
  },
  {
   "cell_type": "code",
   "execution_count": 655,
   "id": "e8f0781b",
   "metadata": {},
   "outputs": [
    {
     "data": {
      "text/plain": [
       "['₹399',\n",
       " '₹426',\n",
       " '₹499',\n",
       " '₹474',\n",
       " '₹449',\n",
       " '₹419',\n",
       " '₹240',\n",
       " '₹399',\n",
       " '₹378',\n",
       " '₹349',\n",
       " '₹499',\n",
       " '₹399',\n",
       " '₹399',\n",
       " '₹599',\n",
       " '₹426',\n",
       " '₹599',\n",
       " '₹499',\n",
       " '₹683',\n",
       " '₹299',\n",
       " '₹3,999',\n",
       " '₹499',\n",
       " '₹499',\n",
       " '₹426',\n",
       " '₹464',\n",
       " '₹748',\n",
       " '₹299',\n",
       " '₹474',\n",
       " '₹449',\n",
       " '₹404',\n",
       " '₹284',\n",
       " '₹449',\n",
       " '₹379',\n",
       " '₹407',\n",
       " '₹398',\n",
       " '₹220',\n",
       " '₹407',\n",
       " '₹499',\n",
       " '₹625',\n",
       " '₹240',\n",
       " '₹3,916',\n",
       " '₹473',\n",
       " '₹664',\n",
       " '₹418',\n",
       " '₹499',\n",
       " '₹328',\n",
       " '₹434',\n",
       " '₹464',\n",
       " '₹399',\n",
       " '₹735',\n",
       " '₹333',\n",
       " '₹348',\n",
       " '₹429',\n",
       " '₹799',\n",
       " '₹499',\n",
       " '₹579',\n",
       " '₹474',\n",
       " '₹3,255',\n",
       " '₹699',\n",
       " '₹260',\n",
       " '₹240',\n",
       " '₹387',\n",
       " '₹499',\n",
       " '₹388',\n",
       " '₹399',\n",
       " '₹240',\n",
       " '₹649',\n",
       " '₹635',\n",
       " '₹199',\n",
       " '₹399',\n",
       " '₹474',\n",
       " '₹474',\n",
       " '₹399',\n",
       " '₹449',\n",
       " '₹367',\n",
       " '₹379',\n",
       " '₹599',\n",
       " '₹733',\n",
       " '₹1,669',\n",
       " '₹449',\n",
       " '₹1,682']"
      ]
     },
     "execution_count": 655,
     "metadata": {},
     "output_type": "execute_result"
    }
   ],
   "source": [
    "cost2=driver.find_elements_by_xpath('//div[@class=\"_30jeq3\"]')\n",
    "for i in cost2:\n",
    "    price.append(i.text)\n",
    "price"
   ]
  },
  {
   "cell_type": "code",
   "execution_count": 660,
   "id": "86acd6c3",
   "metadata": {},
   "outputs": [
    {
     "data": {
      "text/plain": [
       "['₹399',\n",
       " '₹426',\n",
       " '₹499',\n",
       " '₹474',\n",
       " '₹449',\n",
       " '₹419',\n",
       " '₹240',\n",
       " '₹399',\n",
       " '₹378',\n",
       " '₹349',\n",
       " '₹499',\n",
       " '₹399',\n",
       " '₹399',\n",
       " '₹599',\n",
       " '₹426',\n",
       " '₹599',\n",
       " '₹499',\n",
       " '₹683',\n",
       " '₹299',\n",
       " '₹3,999',\n",
       " '₹499',\n",
       " '₹499',\n",
       " '₹426',\n",
       " '₹464',\n",
       " '₹748',\n",
       " '₹299',\n",
       " '₹474',\n",
       " '₹449',\n",
       " '₹404',\n",
       " '₹284',\n",
       " '₹449',\n",
       " '₹379',\n",
       " '₹407',\n",
       " '₹398',\n",
       " '₹220',\n",
       " '₹407',\n",
       " '₹499',\n",
       " '₹625',\n",
       " '₹240',\n",
       " '₹3,916',\n",
       " '₹473',\n",
       " '₹664',\n",
       " '₹418',\n",
       " '₹499',\n",
       " '₹328',\n",
       " '₹434',\n",
       " '₹464',\n",
       " '₹399',\n",
       " '₹735',\n",
       " '₹333',\n",
       " '₹348',\n",
       " '₹429',\n",
       " '₹799',\n",
       " '₹499',\n",
       " '₹579',\n",
       " '₹474',\n",
       " '₹3,255',\n",
       " '₹699',\n",
       " '₹260',\n",
       " '₹240',\n",
       " '₹387',\n",
       " '₹499',\n",
       " '₹388',\n",
       " '₹399',\n",
       " '₹240',\n",
       " '₹649',\n",
       " '₹635',\n",
       " '₹199',\n",
       " '₹399',\n",
       " '₹474',\n",
       " '₹474',\n",
       " '₹399',\n",
       " '₹449',\n",
       " '₹367',\n",
       " '₹379',\n",
       " '₹599',\n",
       " '₹733',\n",
       " '₹1,669',\n",
       " '₹449',\n",
       " '₹1,682',\n",
       " '₹639',\n",
       " '₹1,653',\n",
       " '₹1,860',\n",
       " '₹669',\n",
       " '₹474',\n",
       " '₹379',\n",
       " '₹798',\n",
       " '₹1,323',\n",
       " '₹499',\n",
       " '₹1,657',\n",
       " '₹469',\n",
       " '₹1,494',\n",
       " '₹1,627',\n",
       " '₹1,920',\n",
       " '₹555',\n",
       " '₹399',\n",
       " '₹444',\n",
       " '₹331',\n",
       " '₹499',\n",
       " '₹664',\n",
       " '₹1,047',\n",
       " '₹3,995',\n",
       " '₹519',\n",
       " '₹399',\n",
       " '₹1,471',\n",
       " '₹283',\n",
       " '₹499',\n",
       " '₹2,443',\n",
       " '₹264',\n",
       " '₹407',\n",
       " '₹398',\n",
       " '₹664',\n",
       " '₹1,671',\n",
       " '₹1,310',\n",
       " '₹730',\n",
       " '₹2,517',\n",
       " '₹674',\n",
       " '₹1,244',\n",
       " '₹1,561',\n",
       " '₹384']"
      ]
     },
     "execution_count": 660,
     "metadata": {},
     "output_type": "execute_result"
    }
   ],
   "source": [
    "cost3=driver.find_elements_by_xpath('//div[@class=\"_30jeq3\"]')\n",
    "for i in cost3:\n",
    "    price.append(i.text)\n",
    "price"
   ]
  },
  {
   "cell_type": "code",
   "execution_count": null,
   "id": "3ff35843",
   "metadata": {},
   "outputs": [],
   "source": []
  },
  {
   "cell_type": "code",
   "execution_count": 648,
   "id": "d1fc2e15",
   "metadata": {},
   "outputs": [
    {
     "data": {
      "text/plain": [
       "[<selenium.webdriver.remote.webelement.WebElement (session=\"ae37677fbabde0ef31e806b9975b0b59\", element=\"4b396715-d24a-4b63-8452-46ccc1799fb9\")>,\n",
       " <selenium.webdriver.remote.webelement.WebElement (session=\"ae37677fbabde0ef31e806b9975b0b59\", element=\"045d84af-77f9-482b-a0a3-70dd874028d8\")>,\n",
       " <selenium.webdriver.remote.webelement.WebElement (session=\"ae37677fbabde0ef31e806b9975b0b59\", element=\"c9e4c5cd-3630-4f68-b1f2-7cf324939f3a\")>,\n",
       " <selenium.webdriver.remote.webelement.WebElement (session=\"ae37677fbabde0ef31e806b9975b0b59\", element=\"39a0cad2-6910-4f73-9d52-c9ef83dc740a\")>,\n",
       " <selenium.webdriver.remote.webelement.WebElement (session=\"ae37677fbabde0ef31e806b9975b0b59\", element=\"26d53048-abc7-4a11-8358-a2c2f6b5cf80\")>,\n",
       " <selenium.webdriver.remote.webelement.WebElement (session=\"ae37677fbabde0ef31e806b9975b0b59\", element=\"87fa00b5-cda7-4a97-aee7-332eeb042a17\")>,\n",
       " <selenium.webdriver.remote.webelement.WebElement (session=\"ae37677fbabde0ef31e806b9975b0b59\", element=\"eb148549-c9fb-42ea-837a-96420161eeab\")>,\n",
       " <selenium.webdriver.remote.webelement.WebElement (session=\"ae37677fbabde0ef31e806b9975b0b59\", element=\"09e4b4cb-455b-4dc1-99dd-d958d9314d0c\")>,\n",
       " <selenium.webdriver.remote.webelement.WebElement (session=\"ae37677fbabde0ef31e806b9975b0b59\", element=\"e5f8a5b5-2589-48f3-9d4a-1d29a5553671\")>,\n",
       " <selenium.webdriver.remote.webelement.WebElement (session=\"ae37677fbabde0ef31e806b9975b0b59\", element=\"7f51c211-d663-4625-9d20-e2043ecc00e5\")>,\n",
       " <selenium.webdriver.remote.webelement.WebElement (session=\"ae37677fbabde0ef31e806b9975b0b59\", element=\"5afde017-67fa-40ac-a568-34bb31de8a21\")>,\n",
       " <selenium.webdriver.remote.webelement.WebElement (session=\"ae37677fbabde0ef31e806b9975b0b59\", element=\"dc29575b-a496-4beb-8592-f98f6211f92d\")>,\n",
       " <selenium.webdriver.remote.webelement.WebElement (session=\"ae37677fbabde0ef31e806b9975b0b59\", element=\"ab40515d-5bbf-4164-87df-8e2aacfdf4c5\")>,\n",
       " <selenium.webdriver.remote.webelement.WebElement (session=\"ae37677fbabde0ef31e806b9975b0b59\", element=\"85157d65-9da2-4dba-a2fa-aa8e68d80afd\")>,\n",
       " <selenium.webdriver.remote.webelement.WebElement (session=\"ae37677fbabde0ef31e806b9975b0b59\", element=\"0d3878d3-823b-4168-ab05-3f22aba49a37\")>,\n",
       " <selenium.webdriver.remote.webelement.WebElement (session=\"ae37677fbabde0ef31e806b9975b0b59\", element=\"9015223c-d70f-4631-a47c-84f531254fe9\")>,\n",
       " <selenium.webdriver.remote.webelement.WebElement (session=\"ae37677fbabde0ef31e806b9975b0b59\", element=\"50588a5a-7902-497e-b947-0525acfa2c2a\")>,\n",
       " <selenium.webdriver.remote.webelement.WebElement (session=\"ae37677fbabde0ef31e806b9975b0b59\", element=\"d3e45415-5a5e-436c-acaa-641bea2e64d7\")>,\n",
       " <selenium.webdriver.remote.webelement.WebElement (session=\"ae37677fbabde0ef31e806b9975b0b59\", element=\"39a27d95-e4e2-4eb2-9eb2-b42afea81f35\")>,\n",
       " <selenium.webdriver.remote.webelement.WebElement (session=\"ae37677fbabde0ef31e806b9975b0b59\", element=\"f814b8cf-0622-4566-9fbc-02b8ecec7e08\")>,\n",
       " <selenium.webdriver.remote.webelement.WebElement (session=\"ae37677fbabde0ef31e806b9975b0b59\", element=\"b0ae9782-e1b9-424a-8f82-886c7245e55d\")>,\n",
       " <selenium.webdriver.remote.webelement.WebElement (session=\"ae37677fbabde0ef31e806b9975b0b59\", element=\"885d3cc5-776a-48f5-86c7-f38d7ba7b103\")>,\n",
       " <selenium.webdriver.remote.webelement.WebElement (session=\"ae37677fbabde0ef31e806b9975b0b59\", element=\"5d879bda-7b00-4892-b071-3261abeac2f9\")>,\n",
       " <selenium.webdriver.remote.webelement.WebElement (session=\"ae37677fbabde0ef31e806b9975b0b59\", element=\"7e9710f4-7024-4650-9c0e-34c9b4c9f5cf\")>,\n",
       " <selenium.webdriver.remote.webelement.WebElement (session=\"ae37677fbabde0ef31e806b9975b0b59\", element=\"07441d15-be18-4754-a7a3-355435c459fe\")>,\n",
       " <selenium.webdriver.remote.webelement.WebElement (session=\"ae37677fbabde0ef31e806b9975b0b59\", element=\"c3308492-1244-45e2-8bcb-47cb99b21672\")>,\n",
       " <selenium.webdriver.remote.webelement.WebElement (session=\"ae37677fbabde0ef31e806b9975b0b59\", element=\"72035781-70d4-49da-838a-915c15a628a0\")>,\n",
       " <selenium.webdriver.remote.webelement.WebElement (session=\"ae37677fbabde0ef31e806b9975b0b59\", element=\"1eeb5785-e813-4e4a-979a-fcd99bc240c5\")>,\n",
       " <selenium.webdriver.remote.webelement.WebElement (session=\"ae37677fbabde0ef31e806b9975b0b59\", element=\"9a927171-7686-4c48-b02a-62508d97c313\")>,\n",
       " <selenium.webdriver.remote.webelement.WebElement (session=\"ae37677fbabde0ef31e806b9975b0b59\", element=\"0d089e02-2741-46de-97a2-01334b30f252\")>,\n",
       " <selenium.webdriver.remote.webelement.WebElement (session=\"ae37677fbabde0ef31e806b9975b0b59\", element=\"931a256b-9812-4813-92b3-77921695f307\")>,\n",
       " <selenium.webdriver.remote.webelement.WebElement (session=\"ae37677fbabde0ef31e806b9975b0b59\", element=\"3fac5993-fc41-4f1a-b0cb-8e0f7e355550\")>,\n",
       " <selenium.webdriver.remote.webelement.WebElement (session=\"ae37677fbabde0ef31e806b9975b0b59\", element=\"360102b9-e86e-4423-ae68-4956407b6ef8\")>,\n",
       " <selenium.webdriver.remote.webelement.WebElement (session=\"ae37677fbabde0ef31e806b9975b0b59\", element=\"e634ed44-e822-4089-b67e-bf0c5b1a519e\")>,\n",
       " <selenium.webdriver.remote.webelement.WebElement (session=\"ae37677fbabde0ef31e806b9975b0b59\", element=\"2d01e4e1-d132-4202-bbb7-a6ef4a954f37\")>,\n",
       " <selenium.webdriver.remote.webelement.WebElement (session=\"ae37677fbabde0ef31e806b9975b0b59\", element=\"6bbddcec-ee05-4a9f-bd37-c3e37f0b60f3\")>,\n",
       " <selenium.webdriver.remote.webelement.WebElement (session=\"ae37677fbabde0ef31e806b9975b0b59\", element=\"0a15fbf6-8bba-47e9-b6b7-b06a09c3c8ff\")>,\n",
       " <selenium.webdriver.remote.webelement.WebElement (session=\"ae37677fbabde0ef31e806b9975b0b59\", element=\"a6fa0ee5-a2b0-4e82-a677-37834ca60bed\")>,\n",
       " <selenium.webdriver.remote.webelement.WebElement (session=\"ae37677fbabde0ef31e806b9975b0b59\", element=\"38c033b6-f665-44bc-ac5b-f7134c74d65b\")>]"
      ]
     },
     "execution_count": 648,
     "metadata": {},
     "output_type": "execute_result"
    }
   ],
   "source": [
    "disc=driver.find_elements_by_xpath('//div[@class=\"_3Ay6Sb\"]')\n",
    "disc"
   ]
  },
  {
   "cell_type": "code",
   "execution_count": 649,
   "id": "914bd71e",
   "metadata": {},
   "outputs": [
    {
     "data": {
      "text/plain": [
       "['80% off',\n",
       " '78% off',\n",
       " '80% off',\n",
       " '52% off',\n",
       " '70% off',\n",
       " '58% off',\n",
       " '51% off',\n",
       " '80% off',\n",
       " '62% off',\n",
       " '65% off',\n",
       " '75% off',\n",
       " '69% off',\n",
       " '60% off',\n",
       " '62% off',\n",
       " '78% off',\n",
       " '62% off',\n",
       " '50% off',\n",
       " '72% off',\n",
       " '70% off',\n",
       " '50% off',\n",
       " '50% off',\n",
       " '67% off',\n",
       " '53% off',\n",
       " '62% off',\n",
       " '70% off',\n",
       " '86% off',\n",
       " '55% off',\n",
       " '86% off',\n",
       " '71% off',\n",
       " '55% off',\n",
       " '62% off',\n",
       " '68% off',\n",
       " '60% off',\n",
       " '55% off',\n",
       " '59% off',\n",
       " '50% off',\n",
       " '16% off',\n",
       " '51% off',\n",
       " '2% off']"
      ]
     },
     "execution_count": 649,
     "metadata": {},
     "output_type": "execute_result"
    }
   ],
   "source": [
    "discount = []\n",
    "for i in disc:\n",
    "    discount.append(i.text)\n",
    "discount"
   ]
  },
  {
   "cell_type": "code",
   "execution_count": 656,
   "id": "d8ad110e",
   "metadata": {},
   "outputs": [
    {
     "data": {
      "text/plain": [
       "['80% off',\n",
       " '78% off',\n",
       " '80% off',\n",
       " '52% off',\n",
       " '70% off',\n",
       " '58% off',\n",
       " '51% off',\n",
       " '80% off',\n",
       " '62% off',\n",
       " '65% off',\n",
       " '75% off',\n",
       " '69% off',\n",
       " '60% off',\n",
       " '62% off',\n",
       " '78% off',\n",
       " '62% off',\n",
       " '50% off',\n",
       " '72% off',\n",
       " '70% off',\n",
       " '50% off',\n",
       " '50% off',\n",
       " '67% off',\n",
       " '53% off',\n",
       " '62% off',\n",
       " '70% off',\n",
       " '86% off',\n",
       " '55% off',\n",
       " '86% off',\n",
       " '71% off',\n",
       " '55% off',\n",
       " '62% off',\n",
       " '68% off',\n",
       " '60% off',\n",
       " '55% off',\n",
       " '59% off',\n",
       " '50% off',\n",
       " '16% off',\n",
       " '51% off',\n",
       " '2% off',\n",
       " '73% off',\n",
       " '74% off',\n",
       " '71% off',\n",
       " '50% off',\n",
       " '74% off',\n",
       " '56% off',\n",
       " '53% off',\n",
       " '60% off',\n",
       " '63% off',\n",
       " '74% off',\n",
       " '47% off',\n",
       " '66% off',\n",
       " '20% off',\n",
       " '50% off',\n",
       " '42% off',\n",
       " '52% off',\n",
       " '27% off',\n",
       " '30% off',\n",
       " '47% off',\n",
       " '51% off',\n",
       " '87% off',\n",
       " '50% off',\n",
       " '70% off',\n",
       " '60% off',\n",
       " '51% off',\n",
       " '56% off',\n",
       " '36% off',\n",
       " '80% off',\n",
       " '60% off',\n",
       " '52% off',\n",
       " '40% off',\n",
       " '60% off',\n",
       " '55% off',\n",
       " '63% off',\n",
       " '62% off',\n",
       " '62% off',\n",
       " '8% off',\n",
       " '58% off',\n",
       " '55% off',\n",
       " '49% off']"
      ]
     },
     "execution_count": 656,
     "metadata": {},
     "output_type": "execute_result"
    }
   ],
   "source": [
    "disc=driver.find_elements_by_xpath('//div[@class=\"_3Ay6Sb\"]')\n",
    "for i in disc:\n",
    "    discount.append(i.text)\n",
    "discount"
   ]
  },
  {
   "cell_type": "code",
   "execution_count": 657,
   "id": "d714739c",
   "metadata": {},
   "outputs": [
    {
     "data": {
      "text/plain": [
       "['80% off',\n",
       " '78% off',\n",
       " '80% off',\n",
       " '52% off',\n",
       " '70% off',\n",
       " '58% off',\n",
       " '51% off',\n",
       " '80% off',\n",
       " '62% off',\n",
       " '65% off',\n",
       " '75% off',\n",
       " '69% off',\n",
       " '60% off',\n",
       " '62% off',\n",
       " '78% off',\n",
       " '62% off',\n",
       " '50% off',\n",
       " '72% off',\n",
       " '70% off',\n",
       " '50% off',\n",
       " '50% off',\n",
       " '67% off',\n",
       " '53% off',\n",
       " '62% off',\n",
       " '70% off',\n",
       " '86% off',\n",
       " '55% off',\n",
       " '86% off',\n",
       " '71% off',\n",
       " '55% off',\n",
       " '62% off',\n",
       " '68% off',\n",
       " '60% off',\n",
       " '55% off',\n",
       " '59% off',\n",
       " '50% off',\n",
       " '16% off',\n",
       " '51% off',\n",
       " '2% off',\n",
       " '73% off',\n",
       " '74% off',\n",
       " '71% off',\n",
       " '50% off',\n",
       " '74% off',\n",
       " '56% off',\n",
       " '53% off',\n",
       " '60% off',\n",
       " '63% off',\n",
       " '74% off',\n",
       " '47% off',\n",
       " '66% off',\n",
       " '20% off',\n",
       " '50% off',\n",
       " '42% off',\n",
       " '52% off',\n",
       " '27% off',\n",
       " '30% off',\n",
       " '47% off',\n",
       " '51% off',\n",
       " '87% off',\n",
       " '50% off',\n",
       " '70% off',\n",
       " '60% off',\n",
       " '51% off',\n",
       " '56% off',\n",
       " '36% off',\n",
       " '80% off',\n",
       " '60% off',\n",
       " '52% off',\n",
       " '40% off',\n",
       " '60% off',\n",
       " '55% off',\n",
       " '63% off',\n",
       " '62% off',\n",
       " '62% off',\n",
       " '8% off',\n",
       " '58% off',\n",
       " '55% off',\n",
       " '49% off',\n",
       " '8% off',\n",
       " '58% off',\n",
       " '46% off',\n",
       " '10% off',\n",
       " '52% off',\n",
       " '81% off',\n",
       " '68% off',\n",
       " '55% off',\n",
       " '81% off',\n",
       " '58% off',\n",
       " '53% off',\n",
       " '50% off',\n",
       " '59% off',\n",
       " '51% off',\n",
       " '44% off',\n",
       " '60% off',\n",
       " '79% off',\n",
       " '81% off',\n",
       " '50% off',\n",
       " '71% off',\n",
       " '61% off',\n",
       " '48% off',\n",
       " '69% off',\n",
       " '55% off',\n",
       " '43% off',\n",
       " '50% off',\n",
       " '51% off',\n",
       " '47% off',\n",
       " '59% off',\n",
       " '69% off',\n",
       " '71% off',\n",
       " '12% off',\n",
       " '56% off',\n",
       " '23% off',\n",
       " '49% off',\n",
       " '32% off',\n",
       " '59% off',\n",
       " '52% off',\n",
       " '61% off']"
      ]
     },
     "execution_count": 657,
     "metadata": {},
     "output_type": "execute_result"
    }
   ],
   "source": [
    "disc3=driver.find_elements_by_xpath('//div[@class=\"_3Ay6Sb\"]')\n",
    "for i in disc3:\n",
    "    discount.append(i.text)\n",
    "discount"
   ]
  },
  {
   "cell_type": "code",
   "execution_count": null,
   "id": "0627a72e",
   "metadata": {},
   "outputs": [],
   "source": []
  },
  {
   "cell_type": "code",
   "execution_count": 669,
   "id": "b33ebab8",
   "metadata": {},
   "outputs": [
    {
     "name": "stdout",
     "output_type": "stream",
     "text": [
      "100 100 100 100\n"
     ]
    }
   ],
   "source": [
    "print(len(brand[:100]),len(description[:100]),len(price[:100]),len(discount[:100]))"
   ]
  },
  {
   "cell_type": "code",
   "execution_count": 670,
   "id": "88cbd418",
   "metadata": {},
   "outputs": [],
   "source": [
    "#now create the dataframe using with pandas\n",
    "import pandas as pd\n",
    "sneakers = pd.DataFrame({})\n",
    "sneakers['Brand'] = brand[:100]\n",
    "sneakers['Product_Description'] = description[:100]\n",
    "sneakers['Price'] = price[:100]\n",
    "sneakers['Discoiunt%'] = discount[:100]"
   ]
  },
  {
   "cell_type": "code",
   "execution_count": 671,
   "id": "cf865ae4",
   "metadata": {},
   "outputs": [
    {
     "data": {
      "text/html": [
       "<div>\n",
       "<style scoped>\n",
       "    .dataframe tbody tr th:only-of-type {\n",
       "        vertical-align: middle;\n",
       "    }\n",
       "\n",
       "    .dataframe tbody tr th {\n",
       "        vertical-align: top;\n",
       "    }\n",
       "\n",
       "    .dataframe thead th {\n",
       "        text-align: right;\n",
       "    }\n",
       "</style>\n",
       "<table border=\"1\" class=\"dataframe\">\n",
       "  <thead>\n",
       "    <tr style=\"text-align: right;\">\n",
       "      <th></th>\n",
       "      <th>Brand</th>\n",
       "      <th>Product_Description</th>\n",
       "      <th>Price</th>\n",
       "      <th>Discoiunt%</th>\n",
       "    </tr>\n",
       "  </thead>\n",
       "  <tbody>\n",
       "    <tr>\n",
       "      <th>0</th>\n",
       "      <td>luxury fashion</td>\n",
       "      <td>Sneakers For Men</td>\n",
       "      <td>₹399</td>\n",
       "      <td>80% off</td>\n",
       "    </tr>\n",
       "    <tr>\n",
       "      <th>1</th>\n",
       "      <td>Numenzo</td>\n",
       "      <td>Sneakers For Men</td>\n",
       "      <td>₹426</td>\n",
       "      <td>78% off</td>\n",
       "    </tr>\n",
       "    <tr>\n",
       "      <th>2</th>\n",
       "      <td>BRUTON</td>\n",
       "      <td>Modern &amp; Trendy Collection Combo Pack of 02 Sh...</td>\n",
       "      <td>₹499</td>\n",
       "      <td>80% off</td>\n",
       "    </tr>\n",
       "    <tr>\n",
       "      <th>3</th>\n",
       "      <td>bluemaker</td>\n",
       "      <td>casual for men (blue 06) Sneakers For Men</td>\n",
       "      <td>₹474</td>\n",
       "      <td>52% off</td>\n",
       "    </tr>\n",
       "    <tr>\n",
       "      <th>4</th>\n",
       "      <td>Chevit</td>\n",
       "      <td>Unique &amp; Perfect Collection Combo Pack of 02 S...</td>\n",
       "      <td>₹449</td>\n",
       "      <td>70% off</td>\n",
       "    </tr>\n",
       "    <tr>\n",
       "      <th>...</th>\n",
       "      <td>...</td>\n",
       "      <td>...</td>\n",
       "      <td>...</td>\n",
       "      <td>...</td>\n",
       "    </tr>\n",
       "    <tr>\n",
       "      <th>95</th>\n",
       "      <td>ROCKFIELD</td>\n",
       "      <td>Casual Sneakers Shoes For Men Sneakers For Men</td>\n",
       "      <td>₹399</td>\n",
       "      <td>79% off</td>\n",
       "    </tr>\n",
       "    <tr>\n",
       "      <th>96</th>\n",
       "      <td>Ktiz</td>\n",
       "      <td>Puma Rebound LayUp SL Sneakers For Men</td>\n",
       "      <td>₹444</td>\n",
       "      <td>81% off</td>\n",
       "    </tr>\n",
       "    <tr>\n",
       "      <th>97</th>\n",
       "      <td>tigonis</td>\n",
       "      <td>shoe Sneakers For Men</td>\n",
       "      <td>₹331</td>\n",
       "      <td>50% off</td>\n",
       "    </tr>\n",
       "    <tr>\n",
       "      <th>98</th>\n",
       "      <td>Robbie jones</td>\n",
       "      <td>Sneakers For Men</td>\n",
       "      <td>₹499</td>\n",
       "      <td>71% off</td>\n",
       "    </tr>\n",
       "    <tr>\n",
       "      <th>99</th>\n",
       "      <td>Chevit</td>\n",
       "      <td>Affordable Combo Pack of 03 Pairs Sneakers Out...</td>\n",
       "      <td>₹664</td>\n",
       "      <td>61% off</td>\n",
       "    </tr>\n",
       "  </tbody>\n",
       "</table>\n",
       "<p>100 rows × 4 columns</p>\n",
       "</div>"
      ],
      "text/plain": [
       "             Brand                                Product_Description Price  \\\n",
       "0   luxury fashion                                   Sneakers For Men  ₹399   \n",
       "1          Numenzo                                   Sneakers For Men  ₹426   \n",
       "2           BRUTON  Modern & Trendy Collection Combo Pack of 02 Sh...  ₹499   \n",
       "3        bluemaker          casual for men (blue 06) Sneakers For Men  ₹474   \n",
       "4           Chevit  Unique & Perfect Collection Combo Pack of 02 S...  ₹449   \n",
       "..             ...                                                ...   ...   \n",
       "95       ROCKFIELD     Casual Sneakers Shoes For Men Sneakers For Men  ₹399   \n",
       "96            Ktiz             Puma Rebound LayUp SL Sneakers For Men  ₹444   \n",
       "97         tigonis                              shoe Sneakers For Men  ₹331   \n",
       "98    Robbie jones                                   Sneakers For Men  ₹499   \n",
       "99          Chevit  Affordable Combo Pack of 03 Pairs Sneakers Out...  ₹664   \n",
       "\n",
       "   Discoiunt%  \n",
       "0     80% off  \n",
       "1     78% off  \n",
       "2     80% off  \n",
       "3     52% off  \n",
       "4     70% off  \n",
       "..        ...  \n",
       "95    79% off  \n",
       "96    81% off  \n",
       "97    50% off  \n",
       "98    71% off  \n",
       "99    61% off  \n",
       "\n",
       "[100 rows x 4 columns]"
      ]
     },
     "execution_count": 671,
     "metadata": {},
     "output_type": "execute_result"
    }
   ],
   "source": [
    "sneakers"
   ]
  },
  {
   "cell_type": "code",
   "execution_count": null,
   "id": "c4008ece",
   "metadata": {},
   "outputs": [],
   "source": []
  },
  {
   "cell_type": "code",
   "execution_count": null,
   "id": "f8f8b2ec",
   "metadata": {},
   "outputs": [],
   "source": []
  },
  {
   "cell_type": "markdown",
   "id": "a66e9019",
   "metadata": {},
   "source": [
    "# Q9: Go to the link - https://www.myntra.com/shoes Set Price filter to “Rs. 6649 to Rs. 13099” , Color filter to “Black”"
   ]
  },
  {
   "cell_type": "code",
   "execution_count": 707,
   "id": "2bf2e9f0",
   "metadata": {},
   "outputs": [],
   "source": [
    "#lets now import all required libraries \n",
    "import selenium\n",
    "import pandas as pd\n",
    "from selenium import webdriver"
   ]
  },
  {
   "cell_type": "code",
   "execution_count": 708,
   "id": "f3c44908",
   "metadata": {},
   "outputs": [],
   "source": [
    "#lets first connect to the webdriver\n",
    "driver = webdriver.Chrome('chromedriver.exe')"
   ]
  },
  {
   "cell_type": "code",
   "execution_count": 709,
   "id": "f0f89f51",
   "metadata": {},
   "outputs": [],
   "source": [
    "url = 'https://www.myntra.com/shoes'\n",
    "driver.get(url)"
   ]
  },
  {
   "cell_type": "code",
   "execution_count": 711,
   "id": "af15cc48",
   "metadata": {},
   "outputs": [],
   "source": [
    "price_btn = driver.find_element_by_xpath('/html/body/div[2]/div/div[1]/main/div[3]/div[1]/section/div/div[5]/ul/li[2]/label/div')\n",
    "price_btn.click()"
   ]
  },
  {
   "cell_type": "code",
   "execution_count": 714,
   "id": "a31c9064",
   "metadata": {},
   "outputs": [],
   "source": [
    "price_btn = driver.find_element_by_xpath('/html/body/div[2]/div/div[1]/main/div[3]/div[1]/section/div/div[6]/ul/li[1]/label/div')\n",
    "price_btn.click()"
   ]
  },
  {
   "cell_type": "code",
   "execution_count": 780,
   "id": "65581863",
   "metadata": {},
   "outputs": [
    {
     "data": {
      "text/plain": [
       "[<selenium.webdriver.remote.webelement.WebElement (session=\"5ff74c0b6e4468ce5d2fa34afa1e5514\", element=\"39f11b86-5472-4b6f-8e1b-097950a5b762\")>,\n",
       " <selenium.webdriver.remote.webelement.WebElement (session=\"5ff74c0b6e4468ce5d2fa34afa1e5514\", element=\"203eb5e1-0260-49b6-89c1-4334b42394f2\")>,\n",
       " <selenium.webdriver.remote.webelement.WebElement (session=\"5ff74c0b6e4468ce5d2fa34afa1e5514\", element=\"91d1988d-e2a3-4d75-bcbf-abad9e0699a8\")>,\n",
       " <selenium.webdriver.remote.webelement.WebElement (session=\"5ff74c0b6e4468ce5d2fa34afa1e5514\", element=\"3729969e-965f-4d0b-8cc2-250f5df25112\")>,\n",
       " <selenium.webdriver.remote.webelement.WebElement (session=\"5ff74c0b6e4468ce5d2fa34afa1e5514\", element=\"e16b36cb-b7e5-43a1-a81d-514e3afb9ed0\")>,\n",
       " <selenium.webdriver.remote.webelement.WebElement (session=\"5ff74c0b6e4468ce5d2fa34afa1e5514\", element=\"42db8d86-1296-451f-b5f2-a2c0af484e08\")>,\n",
       " <selenium.webdriver.remote.webelement.WebElement (session=\"5ff74c0b6e4468ce5d2fa34afa1e5514\", element=\"a56238dd-9c5d-42f7-8387-f41468db619e\")>,\n",
       " <selenium.webdriver.remote.webelement.WebElement (session=\"5ff74c0b6e4468ce5d2fa34afa1e5514\", element=\"a28a24ba-193f-4693-8c86-1c9cc4570d2b\")>,\n",
       " <selenium.webdriver.remote.webelement.WebElement (session=\"5ff74c0b6e4468ce5d2fa34afa1e5514\", element=\"b813e0e9-a0d8-4f9e-a5bd-0c0cc36acc51\")>,\n",
       " <selenium.webdriver.remote.webelement.WebElement (session=\"5ff74c0b6e4468ce5d2fa34afa1e5514\", element=\"6e94c9b4-7000-4271-964c-6b35092a52fd\")>,\n",
       " <selenium.webdriver.remote.webelement.WebElement (session=\"5ff74c0b6e4468ce5d2fa34afa1e5514\", element=\"7f973fb2-cc3e-4556-8a30-a5f37a406cea\")>,\n",
       " <selenium.webdriver.remote.webelement.WebElement (session=\"5ff74c0b6e4468ce5d2fa34afa1e5514\", element=\"456bcc07-2a3d-4c77-974f-f04ce8197d61\")>,\n",
       " <selenium.webdriver.remote.webelement.WebElement (session=\"5ff74c0b6e4468ce5d2fa34afa1e5514\", element=\"ce0c46aa-fb31-4767-9767-eb8c31077bd3\")>,\n",
       " <selenium.webdriver.remote.webelement.WebElement (session=\"5ff74c0b6e4468ce5d2fa34afa1e5514\", element=\"a8014f95-687e-4db8-ac79-cc8d030df9c0\")>,\n",
       " <selenium.webdriver.remote.webelement.WebElement (session=\"5ff74c0b6e4468ce5d2fa34afa1e5514\", element=\"fb69aa39-fd52-4102-ac32-05c488675dc7\")>,\n",
       " <selenium.webdriver.remote.webelement.WebElement (session=\"5ff74c0b6e4468ce5d2fa34afa1e5514\", element=\"0f8371d2-879b-48fe-b17f-7e76420abcb0\")>,\n",
       " <selenium.webdriver.remote.webelement.WebElement (session=\"5ff74c0b6e4468ce5d2fa34afa1e5514\", element=\"11e6296d-a8f4-47f0-9b91-da6aad0dd904\")>,\n",
       " <selenium.webdriver.remote.webelement.WebElement (session=\"5ff74c0b6e4468ce5d2fa34afa1e5514\", element=\"b326fc51-a60f-4c46-8f7d-aff00e9427e7\")>,\n",
       " <selenium.webdriver.remote.webelement.WebElement (session=\"5ff74c0b6e4468ce5d2fa34afa1e5514\", element=\"edea4d79-28a4-49b8-8881-88a7d979c340\")>,\n",
       " <selenium.webdriver.remote.webelement.WebElement (session=\"5ff74c0b6e4468ce5d2fa34afa1e5514\", element=\"b8439be1-ca0b-4ea1-82d7-14298eaf3430\")>,\n",
       " <selenium.webdriver.remote.webelement.WebElement (session=\"5ff74c0b6e4468ce5d2fa34afa1e5514\", element=\"5847c241-6229-4116-9277-e28343615450\")>,\n",
       " <selenium.webdriver.remote.webelement.WebElement (session=\"5ff74c0b6e4468ce5d2fa34afa1e5514\", element=\"aca7d565-3c1b-49ab-aa54-f912a2694623\")>,\n",
       " <selenium.webdriver.remote.webelement.WebElement (session=\"5ff74c0b6e4468ce5d2fa34afa1e5514\", element=\"6d4c56e9-a26a-4d4d-80e4-5d36461aab0a\")>,\n",
       " <selenium.webdriver.remote.webelement.WebElement (session=\"5ff74c0b6e4468ce5d2fa34afa1e5514\", element=\"e470c430-23e9-44c1-9df4-b8d771e23d22\")>,\n",
       " <selenium.webdriver.remote.webelement.WebElement (session=\"5ff74c0b6e4468ce5d2fa34afa1e5514\", element=\"83cb100e-ddb7-4c86-88f7-b1c68df8860e\")>,\n",
       " <selenium.webdriver.remote.webelement.WebElement (session=\"5ff74c0b6e4468ce5d2fa34afa1e5514\", element=\"a2832281-7ae6-4308-a4a5-732e4576beee\")>,\n",
       " <selenium.webdriver.remote.webelement.WebElement (session=\"5ff74c0b6e4468ce5d2fa34afa1e5514\", element=\"28317260-3050-4cfb-afdb-7346524c3291\")>,\n",
       " <selenium.webdriver.remote.webelement.WebElement (session=\"5ff74c0b6e4468ce5d2fa34afa1e5514\", element=\"df8e3811-f9a6-462c-a458-c2df3c5c0f90\")>,\n",
       " <selenium.webdriver.remote.webelement.WebElement (session=\"5ff74c0b6e4468ce5d2fa34afa1e5514\", element=\"6c77d8a5-492a-4f7d-b36b-eec563cd3480\")>,\n",
       " <selenium.webdriver.remote.webelement.WebElement (session=\"5ff74c0b6e4468ce5d2fa34afa1e5514\", element=\"566ab4d3-e8c7-4e24-8ead-af4bfc92dafd\")>,\n",
       " <selenium.webdriver.remote.webelement.WebElement (session=\"5ff74c0b6e4468ce5d2fa34afa1e5514\", element=\"1d9a69c2-67cb-457a-99d3-f76ccef97325\")>,\n",
       " <selenium.webdriver.remote.webelement.WebElement (session=\"5ff74c0b6e4468ce5d2fa34afa1e5514\", element=\"ce913c84-0bc0-4604-8045-68b5dd174256\")>,\n",
       " <selenium.webdriver.remote.webelement.WebElement (session=\"5ff74c0b6e4468ce5d2fa34afa1e5514\", element=\"b0b3fa47-e95b-4919-a804-21f0aaa3ac67\")>,\n",
       " <selenium.webdriver.remote.webelement.WebElement (session=\"5ff74c0b6e4468ce5d2fa34afa1e5514\", element=\"3ef3e486-962e-4510-a616-ebe18d4bbece\")>,\n",
       " <selenium.webdriver.remote.webelement.WebElement (session=\"5ff74c0b6e4468ce5d2fa34afa1e5514\", element=\"f61c6f23-4e19-4e41-b913-59105f7ec087\")>,\n",
       " <selenium.webdriver.remote.webelement.WebElement (session=\"5ff74c0b6e4468ce5d2fa34afa1e5514\", element=\"ae88ace1-838b-4b03-88dc-9b50c32133b7\")>,\n",
       " <selenium.webdriver.remote.webelement.WebElement (session=\"5ff74c0b6e4468ce5d2fa34afa1e5514\", element=\"9b4adcd7-e5a4-4483-b36f-22d30b4a735b\")>,\n",
       " <selenium.webdriver.remote.webelement.WebElement (session=\"5ff74c0b6e4468ce5d2fa34afa1e5514\", element=\"d3f0c7cf-635f-4b65-80f5-b7f3c61f74bf\")>,\n",
       " <selenium.webdriver.remote.webelement.WebElement (session=\"5ff74c0b6e4468ce5d2fa34afa1e5514\", element=\"967ca933-e639-412f-9aa4-91328fa616d0\")>,\n",
       " <selenium.webdriver.remote.webelement.WebElement (session=\"5ff74c0b6e4468ce5d2fa34afa1e5514\", element=\"f6f5e856-a89a-4947-96d1-ccc95e81a1be\")>,\n",
       " <selenium.webdriver.remote.webelement.WebElement (session=\"5ff74c0b6e4468ce5d2fa34afa1e5514\", element=\"bb22ec53-6797-4578-8195-5d26984078af\")>,\n",
       " <selenium.webdriver.remote.webelement.WebElement (session=\"5ff74c0b6e4468ce5d2fa34afa1e5514\", element=\"8c8cf7ce-a46b-4ed1-a89b-1d19dcdd1960\")>,\n",
       " <selenium.webdriver.remote.webelement.WebElement (session=\"5ff74c0b6e4468ce5d2fa34afa1e5514\", element=\"1527c0f4-1a9d-449b-afed-f8cc7ee9dffe\")>,\n",
       " <selenium.webdriver.remote.webelement.WebElement (session=\"5ff74c0b6e4468ce5d2fa34afa1e5514\", element=\"b3953b31-d7cf-4849-ba6a-a091e0a400a7\")>,\n",
       " <selenium.webdriver.remote.webelement.WebElement (session=\"5ff74c0b6e4468ce5d2fa34afa1e5514\", element=\"a3ababc9-62af-4306-9b3f-a3762db2561e\")>,\n",
       " <selenium.webdriver.remote.webelement.WebElement (session=\"5ff74c0b6e4468ce5d2fa34afa1e5514\", element=\"87252007-83a0-4eeb-8335-b3ad78d54b35\")>,\n",
       " <selenium.webdriver.remote.webelement.WebElement (session=\"5ff74c0b6e4468ce5d2fa34afa1e5514\", element=\"9f7718aa-0443-4e1f-8b08-ab04ab655f0c\")>,\n",
       " <selenium.webdriver.remote.webelement.WebElement (session=\"5ff74c0b6e4468ce5d2fa34afa1e5514\", element=\"2e3569f4-3ee0-4d37-9c9d-6390923559da\")>,\n",
       " <selenium.webdriver.remote.webelement.WebElement (session=\"5ff74c0b6e4468ce5d2fa34afa1e5514\", element=\"fbe55ba5-3ee3-4fd9-b9a9-82909d7ea439\")>,\n",
       " <selenium.webdriver.remote.webelement.WebElement (session=\"5ff74c0b6e4468ce5d2fa34afa1e5514\", element=\"3d51489a-6169-4028-8458-7dfbf7c5c3df\")>]"
      ]
     },
     "execution_count": 780,
     "metadata": {},
     "output_type": "execute_result"
    }
   ],
   "source": [
    "shoes=driver.find_elements_by_xpath('//h3[@class=\"product-brand\"]')\n",
    "shoes"
   ]
  },
  {
   "cell_type": "code",
   "execution_count": 781,
   "id": "82af44fb",
   "metadata": {},
   "outputs": [
    {
     "data": {
      "text/plain": [
       "['DAVINCHI',\n",
       " 'Kenneth Cole',\n",
       " 'Puma',\n",
       " 'ASICS',\n",
       " 'Hush Puppies',\n",
       " 'UNDER ARMOUR',\n",
       " 'FORCLAZ By Decathlon',\n",
       " 'Hush Puppies',\n",
       " 'PUMA Motorsport',\n",
       " 'UNDER ARMOUR',\n",
       " 'Xtep',\n",
       " 'Ruosh',\n",
       " 'UNDER ARMOUR',\n",
       " 'Geox',\n",
       " 'Geox',\n",
       " 'Puma',\n",
       " 'J.FONTINI',\n",
       " 'Cole Haan',\n",
       " 'one8 Select BY VIRAT KOHLI',\n",
       " 'Hush Puppies',\n",
       " 'Bugatti',\n",
       " 'Hush Puppies',\n",
       " 'Hush Puppies',\n",
       " 'Hush Puppies',\n",
       " 'Geox',\n",
       " 'ADIDAS',\n",
       " 'Heel & Buckle London',\n",
       " 'Royal Enfield',\n",
       " 'Geox',\n",
       " 'Geox',\n",
       " 'Geox',\n",
       " 'Xtep',\n",
       " 'Geox',\n",
       " 'PUMA Motorsport',\n",
       " 'Geox',\n",
       " 'Geox',\n",
       " 'Ruosh',\n",
       " 'Ruosh',\n",
       " 'KIPRUN By Decathlon',\n",
       " 'Geox',\n",
       " 'J.FONTINI',\n",
       " 'Quechua By Decathlon',\n",
       " 'Clarks',\n",
       " 'Heel & Buckle London',\n",
       " 'Heel & Buckle London',\n",
       " 'RARE RABBIT',\n",
       " 'Hush Puppies',\n",
       " 'Ruosh',\n",
       " 'Vanilla Moon',\n",
       " 'RAPAWALK']"
      ]
     },
     "execution_count": 781,
     "metadata": {},
     "output_type": "execute_result"
    }
   ],
   "source": [
    "shoe = []\n",
    "for i in shoes:\n",
    "    shoe.append(i.text)\n",
    "shoe"
   ]
  },
  {
   "cell_type": "code",
   "execution_count": 783,
   "id": "f5782db9",
   "metadata": {},
   "outputs": [
    {
     "data": {
      "text/plain": [
       "['DAVINCHI',\n",
       " 'Kenneth Cole',\n",
       " 'Puma',\n",
       " 'ASICS',\n",
       " 'Hush Puppies',\n",
       " 'UNDER ARMOUR',\n",
       " 'FORCLAZ By Decathlon',\n",
       " 'Hush Puppies',\n",
       " 'PUMA Motorsport',\n",
       " 'UNDER ARMOUR',\n",
       " 'Xtep',\n",
       " 'Ruosh',\n",
       " 'UNDER ARMOUR',\n",
       " 'Geox',\n",
       " 'Geox',\n",
       " 'Puma',\n",
       " 'J.FONTINI',\n",
       " 'Cole Haan',\n",
       " 'one8 Select BY VIRAT KOHLI',\n",
       " 'Hush Puppies',\n",
       " 'Bugatti',\n",
       " 'Hush Puppies',\n",
       " 'Hush Puppies',\n",
       " 'Hush Puppies',\n",
       " 'Geox',\n",
       " 'ADIDAS',\n",
       " 'Heel & Buckle London',\n",
       " 'Royal Enfield',\n",
       " 'Geox',\n",
       " 'Geox',\n",
       " 'Geox',\n",
       " 'Xtep',\n",
       " 'Geox',\n",
       " 'PUMA Motorsport',\n",
       " 'Geox',\n",
       " 'Geox',\n",
       " 'Ruosh',\n",
       " 'Ruosh',\n",
       " 'KIPRUN By Decathlon',\n",
       " 'Geox',\n",
       " 'J.FONTINI',\n",
       " 'Quechua By Decathlon',\n",
       " 'Clarks',\n",
       " 'Heel & Buckle London',\n",
       " 'Heel & Buckle London',\n",
       " 'RARE RABBIT',\n",
       " 'Hush Puppies',\n",
       " 'Ruosh',\n",
       " 'Vanilla Moon',\n",
       " 'RAPAWALK',\n",
       " 'Hush Puppies',\n",
       " 'ASICS',\n",
       " 'UNDER ARMOUR',\n",
       " 'FORCLAZ By Decathlon',\n",
       " 'Hush Puppies',\n",
       " 'PUMA Motorsport',\n",
       " 'UNDER ARMOUR',\n",
       " 'Xtep',\n",
       " 'Ruosh',\n",
       " 'UNDER ARMOUR',\n",
       " 'MANGO',\n",
       " 'Geox',\n",
       " 'J.FONTINI',\n",
       " 'Cole Haan',\n",
       " 'one8 Select BY VIRAT KOHLI',\n",
       " 'RARE RABBIT',\n",
       " 'Geox',\n",
       " 'J.FONTINI',\n",
       " 'Hush Puppies',\n",
       " 'Bugatti',\n",
       " 'Hush Puppies',\n",
       " 'Hush Puppies',\n",
       " 'Hush Puppies',\n",
       " 'Heel & Buckle London',\n",
       " 'ADIDAS',\n",
       " 'RARE RABBIT',\n",
       " 'Royal Enfield',\n",
       " 'RARE RABBIT',\n",
       " 'Geox',\n",
       " 'Xtep',\n",
       " 'PUMA Motorsport',\n",
       " 'Geox',\n",
       " 'Ruosh',\n",
       " 'Kalenji By Decathlon',\n",
       " 'Ruosh',\n",
       " 'Geox',\n",
       " 'KIPRUN By Decathlon',\n",
       " 'Geox',\n",
       " 'J.FONTINI',\n",
       " 'Geox',\n",
       " 'Quechua By Decathlon',\n",
       " 'Heel & Buckle London',\n",
       " 'Geox',\n",
       " 'Heel & Buckle London',\n",
       " 'Hush Puppies',\n",
       " 'Ruosh',\n",
       " 'Vanilla Moon',\n",
       " 'Geox',\n",
       " 'RAPAWALK',\n",
       " 'RAPAWALK']"
      ]
     },
     "execution_count": 783,
     "metadata": {},
     "output_type": "execute_result"
    }
   ],
   "source": [
    "shoes2 = driver.find_elements_by_xpath('//h3[@class=\"product-brand\"]')\n",
    "for i in shoes2:\n",
    "    shoe.append(i.text)\n",
    "shoe"
   ]
  },
  {
   "cell_type": "code",
   "execution_count": 784,
   "id": "3e511883",
   "metadata": {},
   "outputs": [
    {
     "data": {
      "text/plain": [
       "100"
      ]
     },
     "execution_count": 784,
     "metadata": {},
     "output_type": "execute_result"
    }
   ],
   "source": [
    "len(shoe)"
   ]
  },
  {
   "cell_type": "code",
   "execution_count": null,
   "id": "7d6b3228",
   "metadata": {},
   "outputs": [],
   "source": []
  },
  {
   "cell_type": "code",
   "execution_count": 717,
   "id": "313f2ac0",
   "metadata": {},
   "outputs": [
    {
     "data": {
      "text/plain": [
       "[<selenium.webdriver.remote.webelement.WebElement (session=\"5ff74c0b6e4468ce5d2fa34afa1e5514\", element=\"ea226be2-f0dc-4d4f-b47d-b4eeda31d288\")>,\n",
       " <selenium.webdriver.remote.webelement.WebElement (session=\"5ff74c0b6e4468ce5d2fa34afa1e5514\", element=\"52ea3fd0-d634-461a-97ad-bf82e5ea56c4\")>,\n",
       " <selenium.webdriver.remote.webelement.WebElement (session=\"5ff74c0b6e4468ce5d2fa34afa1e5514\", element=\"f77cc924-ab9c-40c1-a7d7-7c68b019516c\")>,\n",
       " <selenium.webdriver.remote.webelement.WebElement (session=\"5ff74c0b6e4468ce5d2fa34afa1e5514\", element=\"c9e3f89b-58a0-474b-9ba7-79c031f40bb5\")>,\n",
       " <selenium.webdriver.remote.webelement.WebElement (session=\"5ff74c0b6e4468ce5d2fa34afa1e5514\", element=\"574bc6e5-bbe9-4217-b3a8-18c55fd75f4b\")>,\n",
       " <selenium.webdriver.remote.webelement.WebElement (session=\"5ff74c0b6e4468ce5d2fa34afa1e5514\", element=\"6ccf8f48-f414-497a-a0d0-bcb254fde523\")>,\n",
       " <selenium.webdriver.remote.webelement.WebElement (session=\"5ff74c0b6e4468ce5d2fa34afa1e5514\", element=\"f412614f-ae32-4653-a672-8f4c16015b5c\")>,\n",
       " <selenium.webdriver.remote.webelement.WebElement (session=\"5ff74c0b6e4468ce5d2fa34afa1e5514\", element=\"dcb3d573-262b-405c-b434-1d11718601a7\")>,\n",
       " <selenium.webdriver.remote.webelement.WebElement (session=\"5ff74c0b6e4468ce5d2fa34afa1e5514\", element=\"50a03abe-0e40-47b5-86f7-f338d9c6f6bc\")>,\n",
       " <selenium.webdriver.remote.webelement.WebElement (session=\"5ff74c0b6e4468ce5d2fa34afa1e5514\", element=\"2c22ee50-635d-4db3-8407-d729a4c7f2e9\")>,\n",
       " <selenium.webdriver.remote.webelement.WebElement (session=\"5ff74c0b6e4468ce5d2fa34afa1e5514\", element=\"5eb7e430-11b7-4f9c-8fdb-2482fa4d471e\")>,\n",
       " <selenium.webdriver.remote.webelement.WebElement (session=\"5ff74c0b6e4468ce5d2fa34afa1e5514\", element=\"3c032835-373a-43a2-9dda-0f84069de7ad\")>,\n",
       " <selenium.webdriver.remote.webelement.WebElement (session=\"5ff74c0b6e4468ce5d2fa34afa1e5514\", element=\"25057e1d-1217-405d-883a-001ad3a85a62\")>,\n",
       " <selenium.webdriver.remote.webelement.WebElement (session=\"5ff74c0b6e4468ce5d2fa34afa1e5514\", element=\"4a88913c-394d-4ef4-81e5-3682765264fa\")>,\n",
       " <selenium.webdriver.remote.webelement.WebElement (session=\"5ff74c0b6e4468ce5d2fa34afa1e5514\", element=\"af6aa98a-75b9-4a72-a428-678c4acd88c4\")>,\n",
       " <selenium.webdriver.remote.webelement.WebElement (session=\"5ff74c0b6e4468ce5d2fa34afa1e5514\", element=\"22263dd4-3dac-4c7f-8531-8f3f021e1563\")>,\n",
       " <selenium.webdriver.remote.webelement.WebElement (session=\"5ff74c0b6e4468ce5d2fa34afa1e5514\", element=\"4aa5e6df-37f5-4182-a121-8c5dbe572e93\")>,\n",
       " <selenium.webdriver.remote.webelement.WebElement (session=\"5ff74c0b6e4468ce5d2fa34afa1e5514\", element=\"88045917-3eba-42b6-9ca3-3ceb92c83b22\")>,\n",
       " <selenium.webdriver.remote.webelement.WebElement (session=\"5ff74c0b6e4468ce5d2fa34afa1e5514\", element=\"fbcb6950-cb61-4a48-8501-03d96c559d63\")>,\n",
       " <selenium.webdriver.remote.webelement.WebElement (session=\"5ff74c0b6e4468ce5d2fa34afa1e5514\", element=\"52251153-99ad-4ca3-9cb8-b9b6a99ab89b\")>,\n",
       " <selenium.webdriver.remote.webelement.WebElement (session=\"5ff74c0b6e4468ce5d2fa34afa1e5514\", element=\"ea20a518-19ed-4c72-8037-c672787e4ee4\")>,\n",
       " <selenium.webdriver.remote.webelement.WebElement (session=\"5ff74c0b6e4468ce5d2fa34afa1e5514\", element=\"e3a8411b-4d69-498f-b511-e39c54b2847f\")>,\n",
       " <selenium.webdriver.remote.webelement.WebElement (session=\"5ff74c0b6e4468ce5d2fa34afa1e5514\", element=\"08e0c6c2-cc8f-4b9a-9a87-460a4d75b745\")>,\n",
       " <selenium.webdriver.remote.webelement.WebElement (session=\"5ff74c0b6e4468ce5d2fa34afa1e5514\", element=\"c243cabc-e6a7-40dd-93c3-476f1c8d1b3a\")>,\n",
       " <selenium.webdriver.remote.webelement.WebElement (session=\"5ff74c0b6e4468ce5d2fa34afa1e5514\", element=\"44333e00-8caa-4d4a-bdd2-25185bb19ce6\")>,\n",
       " <selenium.webdriver.remote.webelement.WebElement (session=\"5ff74c0b6e4468ce5d2fa34afa1e5514\", element=\"19e51410-ca8b-423d-9f53-44249a33155c\")>,\n",
       " <selenium.webdriver.remote.webelement.WebElement (session=\"5ff74c0b6e4468ce5d2fa34afa1e5514\", element=\"5c949458-caa8-4cba-bb7b-f7aa37010131\")>,\n",
       " <selenium.webdriver.remote.webelement.WebElement (session=\"5ff74c0b6e4468ce5d2fa34afa1e5514\", element=\"6159149b-90cf-45a7-91c7-2cdb8b1137c5\")>,\n",
       " <selenium.webdriver.remote.webelement.WebElement (session=\"5ff74c0b6e4468ce5d2fa34afa1e5514\", element=\"9e6f2622-ff28-4452-8d86-f74f932f939e\")>,\n",
       " <selenium.webdriver.remote.webelement.WebElement (session=\"5ff74c0b6e4468ce5d2fa34afa1e5514\", element=\"44149f49-cf19-40f2-8a59-bfb138e67e2e\")>,\n",
       " <selenium.webdriver.remote.webelement.WebElement (session=\"5ff74c0b6e4468ce5d2fa34afa1e5514\", element=\"b3d6cb0d-21c5-4094-8084-dc6e8b2eac91\")>,\n",
       " <selenium.webdriver.remote.webelement.WebElement (session=\"5ff74c0b6e4468ce5d2fa34afa1e5514\", element=\"98625300-0622-44cb-8261-e0b5da1fcc09\")>,\n",
       " <selenium.webdriver.remote.webelement.WebElement (session=\"5ff74c0b6e4468ce5d2fa34afa1e5514\", element=\"7c82b846-67e8-4986-b6eb-fc50e5fbfbdf\")>,\n",
       " <selenium.webdriver.remote.webelement.WebElement (session=\"5ff74c0b6e4468ce5d2fa34afa1e5514\", element=\"0304fb1f-f81a-4ef3-b751-0fe0b13d088f\")>,\n",
       " <selenium.webdriver.remote.webelement.WebElement (session=\"5ff74c0b6e4468ce5d2fa34afa1e5514\", element=\"3d8a6a7e-eaaf-4955-9dba-3811d41732db\")>,\n",
       " <selenium.webdriver.remote.webelement.WebElement (session=\"5ff74c0b6e4468ce5d2fa34afa1e5514\", element=\"80f22c23-e423-41d6-9c19-862d031046df\")>,\n",
       " <selenium.webdriver.remote.webelement.WebElement (session=\"5ff74c0b6e4468ce5d2fa34afa1e5514\", element=\"4047aee5-c5c3-4037-98fe-cc3d953cc5d0\")>,\n",
       " <selenium.webdriver.remote.webelement.WebElement (session=\"5ff74c0b6e4468ce5d2fa34afa1e5514\", element=\"c2947b67-0a57-4608-a712-d167bad9beb2\")>,\n",
       " <selenium.webdriver.remote.webelement.WebElement (session=\"5ff74c0b6e4468ce5d2fa34afa1e5514\", element=\"202923ef-3f5f-4489-9fe3-800e40e809ab\")>,\n",
       " <selenium.webdriver.remote.webelement.WebElement (session=\"5ff74c0b6e4468ce5d2fa34afa1e5514\", element=\"d0f183d2-1f05-4a55-8266-d0dab3a7230b\")>,\n",
       " <selenium.webdriver.remote.webelement.WebElement (session=\"5ff74c0b6e4468ce5d2fa34afa1e5514\", element=\"13305d0c-7057-42b2-b690-bc72fe49a873\")>,\n",
       " <selenium.webdriver.remote.webelement.WebElement (session=\"5ff74c0b6e4468ce5d2fa34afa1e5514\", element=\"b32e1bf9-c3ef-4183-b5fa-ec1a8108f7d7\")>,\n",
       " <selenium.webdriver.remote.webelement.WebElement (session=\"5ff74c0b6e4468ce5d2fa34afa1e5514\", element=\"752da3b1-43f1-496f-81c6-9c396d5b1518\")>,\n",
       " <selenium.webdriver.remote.webelement.WebElement (session=\"5ff74c0b6e4468ce5d2fa34afa1e5514\", element=\"d1c57199-286f-4e9d-a603-6bfeb72183ba\")>,\n",
       " <selenium.webdriver.remote.webelement.WebElement (session=\"5ff74c0b6e4468ce5d2fa34afa1e5514\", element=\"2777a12c-9234-4904-aa2c-11ac11c96b8f\")>,\n",
       " <selenium.webdriver.remote.webelement.WebElement (session=\"5ff74c0b6e4468ce5d2fa34afa1e5514\", element=\"8be3fbf2-2227-4fba-9a73-657f1ebb41a1\")>,\n",
       " <selenium.webdriver.remote.webelement.WebElement (session=\"5ff74c0b6e4468ce5d2fa34afa1e5514\", element=\"e9cb7917-079f-4f20-ac64-a7e0ec5e210b\")>,\n",
       " <selenium.webdriver.remote.webelement.WebElement (session=\"5ff74c0b6e4468ce5d2fa34afa1e5514\", element=\"7cd014cc-1072-4353-9301-23601bff490c\")>,\n",
       " <selenium.webdriver.remote.webelement.WebElement (session=\"5ff74c0b6e4468ce5d2fa34afa1e5514\", element=\"e819e5c3-890c-4472-821d-3270f7ee5a38\")>,\n",
       " <selenium.webdriver.remote.webelement.WebElement (session=\"5ff74c0b6e4468ce5d2fa34afa1e5514\", element=\"7629af50-2c25-4edd-8322-d59fedca83e4\")>]"
      ]
     },
     "execution_count": 717,
     "metadata": {},
     "output_type": "execute_result"
    }
   ],
   "source": [
    "desc=driver.find_elements_by_xpath('//h4[@class=\"product-product\"]')\n",
    "desc"
   ]
  },
  {
   "cell_type": "code",
   "execution_count": 718,
   "id": "aaf2b066",
   "metadata": {},
   "outputs": [
    {
     "data": {
      "text/plain": [
       "['Men Sneakers',\n",
       " 'Men ZOOM SPAN 3 Running Shoes',\n",
       " 'Men Solid Sneakers',\n",
       " 'Men Jordan Max Aura 3 Shoes',\n",
       " 'Women Response SR Running',\n",
       " 'Men SPEEDREP Training Shoes',\n",
       " 'Men Charged Bandit 6 Running',\n",
       " 'Axelion Block Running Shoes',\n",
       " 'Men Charged Assert 8 Marble',\n",
       " 'Men Charged Vantage Running',\n",
       " 'Men Cell Fraction Fade Running',\n",
       " 'Men Charged Pursuit 2 SE Shoes',\n",
       " 'Unisex Project Rock Recruit',\n",
       " 'Men Charged Commit 3 Training',\n",
       " 'Men Charged Pursuit 2 SE',\n",
       " 'Women Charged Vantage ClrShft',\n",
       " 'Men Solid Leather Formal Oxfords',\n",
       " 'Men Equalizer 4.0 Trail',\n",
       " 'Men Perforated Slip On Sneaker',\n",
       " 'Men HOVR Sonic STRT Tech Shoes',\n",
       " 'Unisex Clyde Basketball Shoes',\n",
       " 'Men Victory Sneakers',\n",
       " 'Women Waterproof Hiking Shoes',\n",
       " 'Men Leather Slip-On Sneakers',\n",
       " 'GS SC 3Zero IV Basketball',\n",
       " 'Men Formal Derbys',\n",
       " 'Women Eternity Nitro Running',\n",
       " 'Women UltraRide Running Shoes',\n",
       " 'Men Perforated Mule Sneakers',\n",
       " 'Men Phade Running Shoes',\n",
       " 'TREKKING 100 Boots',\n",
       " 'Women Charged Assert 8 Running',\n",
       " 'Men Charged Rogue 2.5 RFLCT',\n",
       " 'Men Leader VT Running Shoes',\n",
       " 'Men Solid Leather Formal Slip-Ons',\n",
       " 'Men Basketball Shoes',\n",
       " 'Men Woven Design Sneakers',\n",
       " 'Unisex Ferrari Sneakers',\n",
       " 'Men SOFTRIDE Rift Shoes',\n",
       " 'Men Leather Formal Brogues',\n",
       " 'Men Trekking Shoes',\n",
       " 'Women AIR MAX VIVA Sneakers',\n",
       " 'Men Leather Flat Boots',\n",
       " 'Women Deviate Nitro Running',\n",
       " 'Men Leather Semiformal Driving',\n",
       " \"Men BlazerLow '77 Sneakers\",\n",
       " 'Men Driving Shoes Casual Shoes',\n",
       " 'Men Solid Leather Formal Brogues',\n",
       " 'Women Velocity Nitro Running',\n",
       " 'Men Leather Formal Oxfords']"
      ]
     },
     "execution_count": 718,
     "metadata": {},
     "output_type": "execute_result"
    }
   ],
   "source": [
    "descr = []\n",
    "for i in desc:\n",
    "    descr.append(i.text)\n",
    "descr"
   ]
  },
  {
   "cell_type": "code",
   "execution_count": 755,
   "id": "92fcc059",
   "metadata": {},
   "outputs": [
    {
     "data": {
      "text/plain": [
       "['Men Sneakers',\n",
       " 'Men ZOOM SPAN 3 Running Shoes',\n",
       " 'Men Solid Sneakers',\n",
       " 'Men Jordan Max Aura 3 Shoes',\n",
       " 'Women Response SR Running',\n",
       " 'Men SPEEDREP Training Shoes',\n",
       " 'Men Charged Bandit 6 Running',\n",
       " 'Axelion Block Running Shoes',\n",
       " 'Men Charged Assert 8 Marble',\n",
       " 'Men Charged Vantage Running',\n",
       " 'Men Cell Fraction Fade Running',\n",
       " 'Men Charged Pursuit 2 SE Shoes',\n",
       " 'Unisex Project Rock Recruit',\n",
       " 'Men Charged Commit 3 Training',\n",
       " 'Men Charged Pursuit 2 SE',\n",
       " 'Women Charged Vantage ClrShft',\n",
       " 'Men Solid Leather Formal Oxfords',\n",
       " 'Men Equalizer 4.0 Trail',\n",
       " 'Men Perforated Slip On Sneaker',\n",
       " 'Men HOVR Sonic STRT Tech Shoes',\n",
       " 'Unisex Clyde Basketball Shoes',\n",
       " 'Men Victory Sneakers',\n",
       " 'Women Waterproof Hiking Shoes',\n",
       " 'Men Leather Slip-On Sneakers',\n",
       " 'GS SC 3Zero IV Basketball',\n",
       " 'Men Formal Derbys',\n",
       " 'Women Eternity Nitro Running',\n",
       " 'Women UltraRide Running Shoes',\n",
       " 'Men Perforated Mule Sneakers',\n",
       " 'Men Phade Running Shoes',\n",
       " 'TREKKING 100 Boots',\n",
       " 'Women Charged Assert 8 Running',\n",
       " 'Men Charged Rogue 2.5 RFLCT',\n",
       " 'Men Leader VT Running Shoes',\n",
       " 'Men Solid Leather Formal Slip-Ons',\n",
       " 'Men Basketball Shoes',\n",
       " 'Men Woven Design Sneakers',\n",
       " 'Unisex Ferrari Sneakers',\n",
       " 'Men SOFTRIDE Rift Shoes',\n",
       " 'Men Leather Formal Brogues',\n",
       " 'Men Trekking Shoes',\n",
       " 'Women AIR MAX VIVA Sneakers',\n",
       " 'Men Leather Flat Boots',\n",
       " 'Women Deviate Nitro Running',\n",
       " 'Men Leather Semiformal Driving',\n",
       " \"Men BlazerLow '77 Sneakers\",\n",
       " 'Men Driving Shoes Casual Shoes',\n",
       " 'Men Solid Leather Formal Brogues',\n",
       " 'Women Velocity Nitro Running',\n",
       " 'Men Leather Formal Oxfords',\n",
       " 'Women Running Shoes',\n",
       " 'Men Hiking Shoes',\n",
       " 'Men Solid Leather Formal Slip-Ons',\n",
       " 'Women Charged Bandit 6 Running',\n",
       " 'Unisex Sneakers',\n",
       " 'Women Charged Rogue 2.5ClrSft',\n",
       " 'Men Perforations Leather Brogues',\n",
       " 'Women Running Shoes',\n",
       " 'Men Formal Leather Brogues',\n",
       " 'Women Charged Impulse Shft',\n",
       " 'Women Leather Pumps',\n",
       " 'Women Flatform Sneakers',\n",
       " 'Men Leather Formal Derbys',\n",
       " 'Men Driving Shoes',\n",
       " 'Men Solid Sneakers',\n",
       " 'Men Solid Loafers',\n",
       " 'Men Wingtip Oxford Sneakers',\n",
       " 'Men Textured Leather Handcrafted Sole Wingman Formal Slip-Ons',\n",
       " 'Men Leather Formal Slip-Ons',\n",
       " 'Men Textured Leather Loafers',\n",
       " 'Men Leather Slip-On Sneakers',\n",
       " 'Men Sneakers',\n",
       " 'Men Colourblocked Driving Shoes',\n",
       " 'Men Textured Leather Formal Derbys',\n",
       " 'Men Solid Leather Formal Slip-Ons',\n",
       " 'Men Printed Slip-On Sneakers',\n",
       " 'Men Leather Derbys',\n",
       " 'Women Running Shoes',\n",
       " 'Women Leather Stilettos',\n",
       " 'Men Flat Boots',\n",
       " 'Riveted Leather Block Heels',\n",
       " 'AIR MEGA Energy Ring Shoes',\n",
       " 'Men KD500 Running Shoe',\n",
       " 'SF Evo Cat Sock Lace LS',\n",
       " 'Men Leather Driving Shoes',\n",
       " 'Men Solid Leather Formal Oxfords',\n",
       " 'Men Leather Formal Brogues',\n",
       " 'Women Running Shoes',\n",
       " 'Basketweave Block Heels',\n",
       " 'Men Solid Formal Loafers',\n",
       " 'Waterproof Walking Shoes',\n",
       " 'Women Peep Toe Heels',\n",
       " 'Women Leather Pumps',\n",
       " 'Men Leather Formal Derbys',\n",
       " 'Men Leather Monk Shoes',\n",
       " 'Men Textured Derbys',\n",
       " 'Women Solid Block Heels',\n",
       " 'Men Leather Formal Slip Ons',\n",
       " 'Men Leather Formal Derbys',\n",
       " 'Standard Width Leather Oxfords']"
      ]
     },
     "execution_count": 755,
     "metadata": {},
     "output_type": "execute_result"
    }
   ],
   "source": [
    "desc2=driver.find_elements_by_xpath('//h4[@class=\"product-product\"]')\n",
    "for i in desc2:\n",
    "    descr.append(i.text)\n",
    "descr"
   ]
  },
  {
   "cell_type": "code",
   "execution_count": 759,
   "id": "274ad71b",
   "metadata": {},
   "outputs": [
    {
     "data": {
      "text/plain": [
       "100"
      ]
     },
     "execution_count": 759,
     "metadata": {},
     "output_type": "execute_result"
    }
   ],
   "source": [
    "len(descr)"
   ]
  },
  {
   "cell_type": "code",
   "execution_count": null,
   "id": "80ddcd61",
   "metadata": {},
   "outputs": [],
   "source": [
    "desc2=driver.find_elements_by_xpath('//h4[@class=\"product-product\"]')\n",
    "for i in desc2:\n",
    "    descr.append(i.text)\n",
    "descr"
   ]
  },
  {
   "cell_type": "code",
   "execution_count": 734,
   "id": "264afa2b",
   "metadata": {},
   "outputs": [
    {
     "data": {
      "text/plain": [
       "[<selenium.webdriver.remote.webelement.WebElement (session=\"5ff74c0b6e4468ce5d2fa34afa1e5514\", element=\"1ecb1732-ff59-471d-be76-ea279ba5ca74\")>]"
      ]
     },
     "execution_count": 734,
     "metadata": {},
     "output_type": "execute_result"
    }
   ],
   "source": [
    "priced = driver.find_elements_by_xpath('/html/body/div[2]/div/div[1]/main/div[3]/div[2]/div/div[2]/section/ul/li[1]/a/div[2]/div[1]')\n",
    "priced"
   ]
  },
  {
   "cell_type": "code",
   "execution_count": 762,
   "id": "ad09be8f",
   "metadata": {},
   "outputs": [
    {
     "data": {
      "text/plain": [
       "[<selenium.webdriver.remote.webelement.WebElement (session=\"5ff74c0b6e4468ce5d2fa34afa1e5514\", element=\"c376eb7c-4ee1-4f17-96f5-58bdbd7c9e5e\")>,\n",
       " <selenium.webdriver.remote.webelement.WebElement (session=\"5ff74c0b6e4468ce5d2fa34afa1e5514\", element=\"562c3871-5e9f-4f20-97b3-72bf79350d7c\")>,\n",
       " <selenium.webdriver.remote.webelement.WebElement (session=\"5ff74c0b6e4468ce5d2fa34afa1e5514\", element=\"c92ec406-d995-4c16-88e0-70c436bc50ab\")>,\n",
       " <selenium.webdriver.remote.webelement.WebElement (session=\"5ff74c0b6e4468ce5d2fa34afa1e5514\", element=\"e059473a-1280-45cb-b05a-539d1ccc7723\")>,\n",
       " <selenium.webdriver.remote.webelement.WebElement (session=\"5ff74c0b6e4468ce5d2fa34afa1e5514\", element=\"c3130065-9dab-4b1a-a385-80c1f583fc84\")>,\n",
       " <selenium.webdriver.remote.webelement.WebElement (session=\"5ff74c0b6e4468ce5d2fa34afa1e5514\", element=\"c2f8ed8e-30b9-40d4-a163-29cb56a03b47\")>,\n",
       " <selenium.webdriver.remote.webelement.WebElement (session=\"5ff74c0b6e4468ce5d2fa34afa1e5514\", element=\"96cbbe1c-201a-4825-9e99-39f8e093d122\")>,\n",
       " <selenium.webdriver.remote.webelement.WebElement (session=\"5ff74c0b6e4468ce5d2fa34afa1e5514\", element=\"ffd8a402-73d2-47f1-83c7-e5c177294ecb\")>,\n",
       " <selenium.webdriver.remote.webelement.WebElement (session=\"5ff74c0b6e4468ce5d2fa34afa1e5514\", element=\"2c860e4d-db1a-4094-9bab-7dd24d878bd8\")>,\n",
       " <selenium.webdriver.remote.webelement.WebElement (session=\"5ff74c0b6e4468ce5d2fa34afa1e5514\", element=\"9537ab0f-3059-48dc-83be-2ba47a757fa8\")>,\n",
       " <selenium.webdriver.remote.webelement.WebElement (session=\"5ff74c0b6e4468ce5d2fa34afa1e5514\", element=\"fb68f3cb-6b0a-40cf-8e3e-a05d899f339d\")>,\n",
       " <selenium.webdriver.remote.webelement.WebElement (session=\"5ff74c0b6e4468ce5d2fa34afa1e5514\", element=\"c6383034-dac9-4b73-983c-86c5594fa4ec\")>,\n",
       " <selenium.webdriver.remote.webelement.WebElement (session=\"5ff74c0b6e4468ce5d2fa34afa1e5514\", element=\"0216aef6-09d8-4620-b236-65f4ee910887\")>,\n",
       " <selenium.webdriver.remote.webelement.WebElement (session=\"5ff74c0b6e4468ce5d2fa34afa1e5514\", element=\"ad68cbf8-bb09-44bf-8df0-20484a92f05b\")>,\n",
       " <selenium.webdriver.remote.webelement.WebElement (session=\"5ff74c0b6e4468ce5d2fa34afa1e5514\", element=\"7b9abc52-9616-43dd-8c2e-feba52dbccc3\")>,\n",
       " <selenium.webdriver.remote.webelement.WebElement (session=\"5ff74c0b6e4468ce5d2fa34afa1e5514\", element=\"56368bc3-7143-4228-ae62-29a9936501c6\")>,\n",
       " <selenium.webdriver.remote.webelement.WebElement (session=\"5ff74c0b6e4468ce5d2fa34afa1e5514\", element=\"16b2db0d-0c39-4c32-a481-1121bd2ad65b\")>,\n",
       " <selenium.webdriver.remote.webelement.WebElement (session=\"5ff74c0b6e4468ce5d2fa34afa1e5514\", element=\"f8cab801-11a3-48c5-9f83-f0b29efceefe\")>,\n",
       " <selenium.webdriver.remote.webelement.WebElement (session=\"5ff74c0b6e4468ce5d2fa34afa1e5514\", element=\"22184c21-9cc4-4085-8021-56ae359a1127\")>,\n",
       " <selenium.webdriver.remote.webelement.WebElement (session=\"5ff74c0b6e4468ce5d2fa34afa1e5514\", element=\"3ec62298-1b60-4e08-bcb0-e35920e65671\")>,\n",
       " <selenium.webdriver.remote.webelement.WebElement (session=\"5ff74c0b6e4468ce5d2fa34afa1e5514\", element=\"b831c4f2-34f5-40a4-8fe5-05334a67f480\")>,\n",
       " <selenium.webdriver.remote.webelement.WebElement (session=\"5ff74c0b6e4468ce5d2fa34afa1e5514\", element=\"4d283461-e001-4808-85ff-280172310876\")>,\n",
       " <selenium.webdriver.remote.webelement.WebElement (session=\"5ff74c0b6e4468ce5d2fa34afa1e5514\", element=\"7ce3a98f-975e-46fc-96ec-e8a8e82b9513\")>,\n",
       " <selenium.webdriver.remote.webelement.WebElement (session=\"5ff74c0b6e4468ce5d2fa34afa1e5514\", element=\"5b70e249-6ff1-4634-a3b9-5b0d20a516c5\")>,\n",
       " <selenium.webdriver.remote.webelement.WebElement (session=\"5ff74c0b6e4468ce5d2fa34afa1e5514\", element=\"ec70e747-fd50-4800-84c1-722dac4b6af1\")>,\n",
       " <selenium.webdriver.remote.webelement.WebElement (session=\"5ff74c0b6e4468ce5d2fa34afa1e5514\", element=\"d7c1e9d8-b527-4c03-872f-c0c768c5a360\")>,\n",
       " <selenium.webdriver.remote.webelement.WebElement (session=\"5ff74c0b6e4468ce5d2fa34afa1e5514\", element=\"455a5409-1524-4331-bf08-35eb0b333768\")>,\n",
       " <selenium.webdriver.remote.webelement.WebElement (session=\"5ff74c0b6e4468ce5d2fa34afa1e5514\", element=\"0190a35c-0f2e-473b-af3a-6e1d6d5eb2f4\")>,\n",
       " <selenium.webdriver.remote.webelement.WebElement (session=\"5ff74c0b6e4468ce5d2fa34afa1e5514\", element=\"27a8f09d-a69f-40cd-be50-70a460b23661\")>,\n",
       " <selenium.webdriver.remote.webelement.WebElement (session=\"5ff74c0b6e4468ce5d2fa34afa1e5514\", element=\"84193cf0-ff3d-42c1-af1a-72882de41703\")>,\n",
       " <selenium.webdriver.remote.webelement.WebElement (session=\"5ff74c0b6e4468ce5d2fa34afa1e5514\", element=\"a1b9fcdc-7fa6-48a5-bec6-23c04039b2b0\")>,\n",
       " <selenium.webdriver.remote.webelement.WebElement (session=\"5ff74c0b6e4468ce5d2fa34afa1e5514\", element=\"cfc7a0fc-6ce5-498b-a1d5-34b7adbd5245\")>,\n",
       " <selenium.webdriver.remote.webelement.WebElement (session=\"5ff74c0b6e4468ce5d2fa34afa1e5514\", element=\"e9be13cc-e71a-49a2-a30d-a0fa5f1ce854\")>,\n",
       " <selenium.webdriver.remote.webelement.WebElement (session=\"5ff74c0b6e4468ce5d2fa34afa1e5514\", element=\"54fbcf81-a12c-4b6b-a877-35228324c15b\")>,\n",
       " <selenium.webdriver.remote.webelement.WebElement (session=\"5ff74c0b6e4468ce5d2fa34afa1e5514\", element=\"d8dbb20b-4b11-4d56-a127-7820287c3b70\")>,\n",
       " <selenium.webdriver.remote.webelement.WebElement (session=\"5ff74c0b6e4468ce5d2fa34afa1e5514\", element=\"5d9baac1-f8f2-4ad0-bd3a-2b6e3bfb209d\")>,\n",
       " <selenium.webdriver.remote.webelement.WebElement (session=\"5ff74c0b6e4468ce5d2fa34afa1e5514\", element=\"58bb3805-2997-4651-997a-d72a08607fc9\")>,\n",
       " <selenium.webdriver.remote.webelement.WebElement (session=\"5ff74c0b6e4468ce5d2fa34afa1e5514\", element=\"4d68d1b9-2155-4a6a-99e2-1256ae92cb69\")>,\n",
       " <selenium.webdriver.remote.webelement.WebElement (session=\"5ff74c0b6e4468ce5d2fa34afa1e5514\", element=\"a9583f5b-3ed3-43df-90c1-f95a181a3f77\")>,\n",
       " <selenium.webdriver.remote.webelement.WebElement (session=\"5ff74c0b6e4468ce5d2fa34afa1e5514\", element=\"2d5c55b8-8f03-487b-8a85-a1edbe54de46\")>,\n",
       " <selenium.webdriver.remote.webelement.WebElement (session=\"5ff74c0b6e4468ce5d2fa34afa1e5514\", element=\"318e587e-28b6-43c3-9005-44399b90fa68\")>,\n",
       " <selenium.webdriver.remote.webelement.WebElement (session=\"5ff74c0b6e4468ce5d2fa34afa1e5514\", element=\"59f762b0-2e39-4b72-a5d4-a1b60aaa5450\")>,\n",
       " <selenium.webdriver.remote.webelement.WebElement (session=\"5ff74c0b6e4468ce5d2fa34afa1e5514\", element=\"d18027b3-db91-4b40-bb49-6e344e708436\")>,\n",
       " <selenium.webdriver.remote.webelement.WebElement (session=\"5ff74c0b6e4468ce5d2fa34afa1e5514\", element=\"b06773bd-0b9f-43e4-8501-9663970569ee\")>,\n",
       " <selenium.webdriver.remote.webelement.WebElement (session=\"5ff74c0b6e4468ce5d2fa34afa1e5514\", element=\"310d2f34-0ffe-467c-b7db-6844dd8c8c1e\")>,\n",
       " <selenium.webdriver.remote.webelement.WebElement (session=\"5ff74c0b6e4468ce5d2fa34afa1e5514\", element=\"bdf6e1d2-4583-4ced-adbb-169641d5b300\")>,\n",
       " <selenium.webdriver.remote.webelement.WebElement (session=\"5ff74c0b6e4468ce5d2fa34afa1e5514\", element=\"bd340765-9c99-41ce-8d29-46b4d3281a62\")>,\n",
       " <selenium.webdriver.remote.webelement.WebElement (session=\"5ff74c0b6e4468ce5d2fa34afa1e5514\", element=\"74756e8b-025c-418c-9cfb-50117f8cbefb\")>,\n",
       " <selenium.webdriver.remote.webelement.WebElement (session=\"5ff74c0b6e4468ce5d2fa34afa1e5514\", element=\"caeaba41-cedc-4986-9842-db58eadbd5f7\")>,\n",
       " <selenium.webdriver.remote.webelement.WebElement (session=\"5ff74c0b6e4468ce5d2fa34afa1e5514\", element=\"118ab95b-21b6-416e-ad71-5bdc8827955f\")>]"
      ]
     },
     "execution_count": 762,
     "metadata": {},
     "output_type": "execute_result"
    }
   ],
   "source": [
    "price=driver.find_elements_by_xpath('//div[@class=\"product-price\"]')\n",
    "price"
   ]
  },
  {
   "cell_type": "code",
   "execution_count": 763,
   "id": "4f96e8dd",
   "metadata": {},
   "outputs": [
    {
     "data": {
      "text/plain": [
       "['Rs. 9999',\n",
       " 'Rs. 10295',\n",
       " 'Rs. 6079Rs. 7599(20% OFF)',\n",
       " 'Rs. 5396Rs. 7195(25% OFF)',\n",
       " 'Rs. 5396Rs. 7195(25% OFF)',\n",
       " 'Rs. 8999',\n",
       " 'Rs. 5999',\n",
       " 'Rs. 6999',\n",
       " 'Rs. 7999',\n",
       " 'Rs. 6999',\n",
       " 'Rs. 6999',\n",
       " 'Rs. 9999',\n",
       " 'Rs. 7999',\n",
       " 'Rs. 6999',\n",
       " 'Rs. 6299Rs. 6999(10% OFF)',\n",
       " 'Rs. 6999',\n",
       " 'Rs. 7999',\n",
       " 'Rs. 5399Rs. 5999(10% OFF)',\n",
       " 'Rs. 6499',\n",
       " 'Rs. 9999',\n",
       " 'Rs. 5999',\n",
       " 'Rs. 8999',\n",
       " 'Rs. 5499',\n",
       " 'Rs. 6299Rs. 6999(10% OFF)',\n",
       " 'Rs. 7499',\n",
       " 'Rs. 8999Rs. 9999(10% OFF)',\n",
       " 'Rs. 8449Rs. 12999(35% OFF)',\n",
       " 'Rs. 6499',\n",
       " 'Rs. 6999',\n",
       " 'Rs. 6999',\n",
       " 'Rs. 7999',\n",
       " 'Rs. 6999',\n",
       " 'Rs. 5999',\n",
       " 'Rs. 7199Rs. 7999(10% OFF)',\n",
       " 'Rs. 6299Rs. 8999(30% OFF)',\n",
       " 'Rs. 5499',\n",
       " 'Rs. 5999Rs. 7999(25% OFF)',\n",
       " 'Rs. 6499',\n",
       " 'Rs. 9449Rs. 10499(10% OFF)',\n",
       " 'Rs. 5399Rs. 5999(10% OFF)',\n",
       " 'Rs. 9999',\n",
       " 'Rs. 8121Rs. 12495(35% OFF)',\n",
       " 'Rs. 5999',\n",
       " 'Rs. 9899Rs. 10999(10% OFF)',\n",
       " 'Rs. 10499Rs. 14999(30% OFF)',\n",
       " 'Rs. 7195',\n",
       " 'Rs. 10490',\n",
       " 'Rs. 9999',\n",
       " 'Rs. 5990',\n",
       " 'Rs. 5663Rs. 8990(37% OFF)']"
      ]
     },
     "execution_count": 763,
     "metadata": {},
     "output_type": "execute_result"
    }
   ],
   "source": [
    "prices = []\n",
    "for i in price:\n",
    "    prices.append(i.text)\n",
    "prices"
   ]
  },
  {
   "cell_type": "code",
   "execution_count": 766,
   "id": "bb23c389",
   "metadata": {},
   "outputs": [
    {
     "data": {
      "text/plain": [
       "['Rs. 9999',\n",
       " 'Rs. 10295',\n",
       " 'Rs. 6079Rs. 7599(20% OFF)',\n",
       " 'Rs. 5396Rs. 7195(25% OFF)',\n",
       " 'Rs. 5396Rs. 7195(25% OFF)',\n",
       " 'Rs. 8999',\n",
       " 'Rs. 5999',\n",
       " 'Rs. 6999',\n",
       " 'Rs. 7999',\n",
       " 'Rs. 6999',\n",
       " 'Rs. 6999',\n",
       " 'Rs. 9999',\n",
       " 'Rs. 7999',\n",
       " 'Rs. 6999',\n",
       " 'Rs. 6299Rs. 6999(10% OFF)',\n",
       " 'Rs. 6999',\n",
       " 'Rs. 7999',\n",
       " 'Rs. 5399Rs. 5999(10% OFF)',\n",
       " 'Rs. 6499',\n",
       " 'Rs. 9999',\n",
       " 'Rs. 5999',\n",
       " 'Rs. 8999',\n",
       " 'Rs. 5499',\n",
       " 'Rs. 6299Rs. 6999(10% OFF)',\n",
       " 'Rs. 7499',\n",
       " 'Rs. 8999Rs. 9999(10% OFF)',\n",
       " 'Rs. 8449Rs. 12999(35% OFF)',\n",
       " 'Rs. 6499',\n",
       " 'Rs. 6999',\n",
       " 'Rs. 6999',\n",
       " 'Rs. 7999',\n",
       " 'Rs. 6999',\n",
       " 'Rs. 5999',\n",
       " 'Rs. 7199Rs. 7999(10% OFF)',\n",
       " 'Rs. 6299Rs. 8999(30% OFF)',\n",
       " 'Rs. 5499',\n",
       " 'Rs. 5999Rs. 7999(25% OFF)',\n",
       " 'Rs. 6499',\n",
       " 'Rs. 9449Rs. 10499(10% OFF)',\n",
       " 'Rs. 5399Rs. 5999(10% OFF)',\n",
       " 'Rs. 9999',\n",
       " 'Rs. 8121Rs. 12495(35% OFF)',\n",
       " 'Rs. 5999',\n",
       " 'Rs. 9899Rs. 10999(10% OFF)',\n",
       " 'Rs. 10499Rs. 14999(30% OFF)',\n",
       " 'Rs. 7195',\n",
       " 'Rs. 10490',\n",
       " 'Rs. 9999',\n",
       " 'Rs. 5990',\n",
       " 'Rs. 5663Rs. 8990(37% OFF)',\n",
       " 'Rs. 9899Rs. 10999(10% OFF)',\n",
       " 'Rs. 5990',\n",
       " 'Rs. 5663Rs. 8990(37% OFF)',\n",
       " 'Rs. 7149Rs. 10999(35% OFF)',\n",
       " 'Rs. 5399Rs. 5999(10% OFF)',\n",
       " 'Rs. 6209Rs. 8999(31% OFF)',\n",
       " 'Rs. 5639Rs. 5999(6% OFF)',\n",
       " 'Rs. 8999',\n",
       " 'Rs. 8099Rs. 8999(10% OFF)',\n",
       " 'Rs. 5849Rs. 8999(35% OFF)',\n",
       " 'Rs. 7999',\n",
       " 'Rs. 5699',\n",
       " 'Rs. 7490',\n",
       " 'Rs. 7499',\n",
       " 'Rs. 8990',\n",
       " 'Rs. 10399Rs. 12999(20% OFF)',\n",
       " 'Rs. 5399Rs. 5999(10% OFF)',\n",
       " 'Rs. 6990',\n",
       " 'Rs. 6999Rs. 9999(30% OFF)',\n",
       " 'Rs. 6399Rs. 7999(20% OFF)',\n",
       " 'Rs. 6299Rs. 8999(30% OFF)',\n",
       " 'Rs. 8999Rs. 9999(10% OFF)',\n",
       " 'Rs. 9449Rs. 10499(10% OFF)',\n",
       " 'Rs. 5599Rs. 7999(30% OFF)',\n",
       " 'Rs. 5599Rs. 7999(30% OFF)',\n",
       " 'Rs. 6999',\n",
       " 'Rs. 5592Rs. 6990(20% OFF)',\n",
       " 'Rs. 5394Rs. 8990(40% OFF)',\n",
       " 'Rs. 5500',\n",
       " 'Rs. 5599Rs. 6999(20% OFF)',\n",
       " 'Rs. 5999Rs. 7999(25% OFF)',\n",
       " 'Rs. 9999',\n",
       " 'Rs. 6999',\n",
       " 'Rs. 8094Rs. 13490(40% OFF)',\n",
       " 'Rs. 6990',\n",
       " 'Rs. 7006Rs. 7149(2% OFF)',\n",
       " 'Rs. 5590',\n",
       " 'Rs. 6299Rs. 6999(10% OFF)',\n",
       " 'Rs. 6490',\n",
       " 'Rs. 9899Rs. 10999(10% OFF)',\n",
       " 'Rs. 7857Rs. 8449(7% OFF)',\n",
       " 'Rs. 5739Rs. 6999(18% OFF)',\n",
       " 'Rs. 7199Rs. 7999(10% OFF)',\n",
       " 'Rs. 7192Rs. 8990(20% OFF)',\n",
       " 'Rs. 7192Rs. 8990(20% OFF)',\n",
       " 'Rs. 5399Rs. 5999(10% OFF)',\n",
       " 'Rs. 9999',\n",
       " 'Rs. 5990',\n",
       " 'Rs. 8850',\n",
       " 'Rs. 8850']"
      ]
     },
     "execution_count": 766,
     "metadata": {},
     "output_type": "execute_result"
    }
   ],
   "source": [
    "price2=driver.find_elements_by_xpath('//div[@class=\"product-price\"]')\n",
    "for i in price2:\n",
    "    prices.append(i.text)\n",
    "prices"
   ]
  },
  {
   "cell_type": "code",
   "execution_count": 767,
   "id": "06033e80",
   "metadata": {},
   "outputs": [
    {
     "data": {
      "text/plain": [
       "100"
      ]
     },
     "execution_count": 767,
     "metadata": {},
     "output_type": "execute_result"
    }
   ],
   "source": [
    "len(prices)"
   ]
  },
  {
   "cell_type": "code",
   "execution_count": null,
   "id": "670755ad",
   "metadata": {},
   "outputs": [],
   "source": []
  },
  {
   "cell_type": "code",
   "execution_count": 786,
   "id": "57ba009c",
   "metadata": {},
   "outputs": [
    {
     "name": "stdout",
     "output_type": "stream",
     "text": [
      "100 100 100\n"
     ]
    }
   ],
   "source": [
    "print(len(shoe),len(descr),len(prices))"
   ]
  },
  {
   "cell_type": "code",
   "execution_count": 787,
   "id": "58323b9b",
   "metadata": {},
   "outputs": [],
   "source": [
    "#now create the dataframe using with pandas\n",
    "import pandas as pd\n",
    "Shoes = pd.DataFrame({})\n",
    "Shoes['Shoe'] = shoe\n",
    "Shoes['Short_show_Description'] = descr\n",
    "Shoes['Price'] = prices"
   ]
  },
  {
   "cell_type": "code",
   "execution_count": 788,
   "id": "f7783ee8",
   "metadata": {},
   "outputs": [
    {
     "data": {
      "text/html": [
       "<div>\n",
       "<style scoped>\n",
       "    .dataframe tbody tr th:only-of-type {\n",
       "        vertical-align: middle;\n",
       "    }\n",
       "\n",
       "    .dataframe tbody tr th {\n",
       "        vertical-align: top;\n",
       "    }\n",
       "\n",
       "    .dataframe thead th {\n",
       "        text-align: right;\n",
       "    }\n",
       "</style>\n",
       "<table border=\"1\" class=\"dataframe\">\n",
       "  <thead>\n",
       "    <tr style=\"text-align: right;\">\n",
       "      <th></th>\n",
       "      <th>Shoe</th>\n",
       "      <th>Short_show_Description</th>\n",
       "      <th>Price</th>\n",
       "    </tr>\n",
       "  </thead>\n",
       "  <tbody>\n",
       "    <tr>\n",
       "      <th>0</th>\n",
       "      <td>DAVINCHI</td>\n",
       "      <td>Men Sneakers</td>\n",
       "      <td>Rs. 9999</td>\n",
       "    </tr>\n",
       "    <tr>\n",
       "      <th>1</th>\n",
       "      <td>Kenneth Cole</td>\n",
       "      <td>Men ZOOM SPAN 3 Running Shoes</td>\n",
       "      <td>Rs. 10295</td>\n",
       "    </tr>\n",
       "    <tr>\n",
       "      <th>2</th>\n",
       "      <td>Puma</td>\n",
       "      <td>Men Solid Sneakers</td>\n",
       "      <td>Rs. 6079Rs. 7599(20% OFF)</td>\n",
       "    </tr>\n",
       "    <tr>\n",
       "      <th>3</th>\n",
       "      <td>ASICS</td>\n",
       "      <td>Men Jordan Max Aura 3 Shoes</td>\n",
       "      <td>Rs. 5396Rs. 7195(25% OFF)</td>\n",
       "    </tr>\n",
       "    <tr>\n",
       "      <th>4</th>\n",
       "      <td>Hush Puppies</td>\n",
       "      <td>Women Response SR Running</td>\n",
       "      <td>Rs. 5396Rs. 7195(25% OFF)</td>\n",
       "    </tr>\n",
       "    <tr>\n",
       "      <th>...</th>\n",
       "      <td>...</td>\n",
       "      <td>...</td>\n",
       "      <td>...</td>\n",
       "    </tr>\n",
       "    <tr>\n",
       "      <th>95</th>\n",
       "      <td>Ruosh</td>\n",
       "      <td>Men Textured Derbys</td>\n",
       "      <td>Rs. 5399Rs. 5999(10% OFF)</td>\n",
       "    </tr>\n",
       "    <tr>\n",
       "      <th>96</th>\n",
       "      <td>Vanilla Moon</td>\n",
       "      <td>Women Solid Block Heels</td>\n",
       "      <td>Rs. 9999</td>\n",
       "    </tr>\n",
       "    <tr>\n",
       "      <th>97</th>\n",
       "      <td>Geox</td>\n",
       "      <td>Men Leather Formal Slip Ons</td>\n",
       "      <td>Rs. 5990</td>\n",
       "    </tr>\n",
       "    <tr>\n",
       "      <th>98</th>\n",
       "      <td>RAPAWALK</td>\n",
       "      <td>Men Leather Formal Derbys</td>\n",
       "      <td>Rs. 8850</td>\n",
       "    </tr>\n",
       "    <tr>\n",
       "      <th>99</th>\n",
       "      <td>RAPAWALK</td>\n",
       "      <td>Standard Width Leather Oxfords</td>\n",
       "      <td>Rs. 8850</td>\n",
       "    </tr>\n",
       "  </tbody>\n",
       "</table>\n",
       "<p>100 rows × 3 columns</p>\n",
       "</div>"
      ],
      "text/plain": [
       "            Shoe          Short_show_Description                      Price\n",
       "0       DAVINCHI                    Men Sneakers                   Rs. 9999\n",
       "1   Kenneth Cole   Men ZOOM SPAN 3 Running Shoes                  Rs. 10295\n",
       "2           Puma              Men Solid Sneakers  Rs. 6079Rs. 7599(20% OFF)\n",
       "3          ASICS     Men Jordan Max Aura 3 Shoes  Rs. 5396Rs. 7195(25% OFF)\n",
       "4   Hush Puppies       Women Response SR Running  Rs. 5396Rs. 7195(25% OFF)\n",
       "..           ...                             ...                        ...\n",
       "95         Ruosh             Men Textured Derbys  Rs. 5399Rs. 5999(10% OFF)\n",
       "96  Vanilla Moon         Women Solid Block Heels                   Rs. 9999\n",
       "97          Geox     Men Leather Formal Slip Ons                   Rs. 5990\n",
       "98      RAPAWALK       Men Leather Formal Derbys                   Rs. 8850\n",
       "99      RAPAWALK  Standard Width Leather Oxfords                   Rs. 8850\n",
       "\n",
       "[100 rows x 3 columns]"
      ]
     },
     "execution_count": 788,
     "metadata": {},
     "output_type": "execute_result"
    }
   ],
   "source": [
    "Shoes"
   ]
  },
  {
   "cell_type": "code",
   "execution_count": null,
   "id": "698a287d",
   "metadata": {},
   "outputs": [],
   "source": []
  },
  {
   "cell_type": "code",
   "execution_count": null,
   "id": "8abe5cbc",
   "metadata": {},
   "outputs": [],
   "source": []
  },
  {
   "cell_type": "markdown",
   "id": "dc3e542d",
   "metadata": {},
   "source": [
    "# Q10)Go to webpage https://www.amazon.in find laptops"
   ]
  },
  {
   "cell_type": "code",
   "execution_count": 139,
   "id": "4156f2ab",
   "metadata": {},
   "outputs": [],
   "source": [
    "#lets now import all required libraries \n",
    "import selenium\n",
    "import pandas as pd\n",
    "from selenium import webdriver"
   ]
  },
  {
   "cell_type": "code",
   "execution_count": 144,
   "id": "6894f895",
   "metadata": {},
   "outputs": [],
   "source": [
    "#lets first connect to the webdriver\n",
    "driver = webdriver.Chrome('chromedriver.exe')"
   ]
  },
  {
   "cell_type": "code",
   "execution_count": 145,
   "id": "c1bf24a7",
   "metadata": {},
   "outputs": [],
   "source": [
    "url = 'https://www.amazon.in/'\n",
    "driver.get(url)"
   ]
  },
  {
   "cell_type": "code",
   "execution_count": 146,
   "id": "e216ec62",
   "metadata": {},
   "outputs": [],
   "source": [
    "#finding element for laptop location\n",
    "search_lap = driver.find_element_by_name('field-keywords')\n",
    "search_lap.send_keys('Laptop')"
   ]
  },
  {
   "cell_type": "code",
   "execution_count": 147,
   "id": "9784535a",
   "metadata": {},
   "outputs": [],
   "source": [
    "#finding element for search button\n",
    "search_btn = driver.find_element_by_id('nav-search-submit-button')\n",
    "search_btn.click()"
   ]
  },
  {
   "cell_type": "code",
   "execution_count": 151,
   "id": "aa2d11c2",
   "metadata": {},
   "outputs": [],
   "source": [
    "#finding filter intel cotre i9\n",
    "core9_btn = driver.find_element_by_xpath('/html/body/div[1]/div[2]/div[1]/div/div[2]/div/div[3]/span/div[1]/span/div/div/div[5]/ul[1]/li[28]/span/a/div/label/i')\n",
    "core9_btn.click()"
   ]
  },
  {
   "cell_type": "code",
   "execution_count": 154,
   "id": "4047895c",
   "metadata": {},
   "outputs": [],
   "source": [
    "#finding filter intel cotre i7\n",
    "core7_btn = driver.find_element_by_xpath('/html/body/div[1]/div[2]/div[1]/div/div[2]/div/div[3]/span/div[1]/span/div/div/div[6]/ul[1]/li[27]/span/a/div/label/i')\n",
    "core7_btn.click()"
   ]
  },
  {
   "cell_type": "code",
   "execution_count": 298,
   "id": "f99f21c5",
   "metadata": {},
   "outputs": [
    {
     "data": {
      "text/plain": [
       "[<selenium.webdriver.remote.webelement.WebElement (session=\"ae0bb3a70c985af498cf8687de8ae8d6\", element=\"ed651ef5-ae83-4050-b6c4-5a3cb74e1919\")>,\n",
       " <selenium.webdriver.remote.webelement.WebElement (session=\"ae0bb3a70c985af498cf8687de8ae8d6\", element=\"9190e609-5251-490a-8a64-7da8f42911ca\")>,\n",
       " <selenium.webdriver.remote.webelement.WebElement (session=\"ae0bb3a70c985af498cf8687de8ae8d6\", element=\"1d687684-280b-4410-b381-493640a6e44e\")>,\n",
       " <selenium.webdriver.remote.webelement.WebElement (session=\"ae0bb3a70c985af498cf8687de8ae8d6\", element=\"5ed7b097-c0be-4fe3-b1cd-16feeaf655e5\")>,\n",
       " <selenium.webdriver.remote.webelement.WebElement (session=\"ae0bb3a70c985af498cf8687de8ae8d6\", element=\"2be9bee9-3fdd-4655-9eb2-94d3304e037f\")>,\n",
       " <selenium.webdriver.remote.webelement.WebElement (session=\"ae0bb3a70c985af498cf8687de8ae8d6\", element=\"1523ad0b-4dca-49f0-9135-73572024ff93\")>,\n",
       " <selenium.webdriver.remote.webelement.WebElement (session=\"ae0bb3a70c985af498cf8687de8ae8d6\", element=\"801ea224-fed0-4005-acf7-2d9d635e8457\")>,\n",
       " <selenium.webdriver.remote.webelement.WebElement (session=\"ae0bb3a70c985af498cf8687de8ae8d6\", element=\"fcdee36f-1bbe-481f-a2d5-e966a4c81377\")>,\n",
       " <selenium.webdriver.remote.webelement.WebElement (session=\"ae0bb3a70c985af498cf8687de8ae8d6\", element=\"31beed89-b93a-4efb-9d37-c5842e8c51a8\")>,\n",
       " <selenium.webdriver.remote.webelement.WebElement (session=\"ae0bb3a70c985af498cf8687de8ae8d6\", element=\"c066659a-b1a5-48a5-a5c4-bdc494f4843c\")>,\n",
       " <selenium.webdriver.remote.webelement.WebElement (session=\"ae0bb3a70c985af498cf8687de8ae8d6\", element=\"f6bb4ef9-7193-407f-acfa-56a73717a0fb\")>,\n",
       " <selenium.webdriver.remote.webelement.WebElement (session=\"ae0bb3a70c985af498cf8687de8ae8d6\", element=\"9d9fe2f1-429c-489e-9f59-a3b52b82d842\")>,\n",
       " <selenium.webdriver.remote.webelement.WebElement (session=\"ae0bb3a70c985af498cf8687de8ae8d6\", element=\"365de51b-27d0-4f60-acab-f95b800d5265\")>,\n",
       " <selenium.webdriver.remote.webelement.WebElement (session=\"ae0bb3a70c985af498cf8687de8ae8d6\", element=\"de3e1e94-14f5-4876-a29d-68436994247f\")>,\n",
       " <selenium.webdriver.remote.webelement.WebElement (session=\"ae0bb3a70c985af498cf8687de8ae8d6\", element=\"1afceacc-0a16-4078-8752-79c836cf5ab1\")>,\n",
       " <selenium.webdriver.remote.webelement.WebElement (session=\"ae0bb3a70c985af498cf8687de8ae8d6\", element=\"4fc14eb8-193c-43ca-9a2e-d096a3787c91\")>,\n",
       " <selenium.webdriver.remote.webelement.WebElement (session=\"ae0bb3a70c985af498cf8687de8ae8d6\", element=\"52ff4932-03cc-4daa-8588-9f67ef127b73\")>,\n",
       " <selenium.webdriver.remote.webelement.WebElement (session=\"ae0bb3a70c985af498cf8687de8ae8d6\", element=\"982adfd9-64ff-4e44-a447-8f312d2ab17e\")>,\n",
       " <selenium.webdriver.remote.webelement.WebElement (session=\"ae0bb3a70c985af498cf8687de8ae8d6\", element=\"1e10dcb3-0f34-4c84-9fc4-5f30a8f2d8c0\")>,\n",
       " <selenium.webdriver.remote.webelement.WebElement (session=\"ae0bb3a70c985af498cf8687de8ae8d6\", element=\"890b2301-3dc4-42a4-bdbc-7d826795af27\")>,\n",
       " <selenium.webdriver.remote.webelement.WebElement (session=\"ae0bb3a70c985af498cf8687de8ae8d6\", element=\"78deca82-53f0-4b41-8c4d-13bf737f2b06\")>,\n",
       " <selenium.webdriver.remote.webelement.WebElement (session=\"ae0bb3a70c985af498cf8687de8ae8d6\", element=\"446b926a-9c88-42f5-b570-eba423acc7b6\")>,\n",
       " <selenium.webdriver.remote.webelement.WebElement (session=\"ae0bb3a70c985af498cf8687de8ae8d6\", element=\"2ffef26c-206c-4fe7-84e5-c8b32faa4c9d\")>,\n",
       " <selenium.webdriver.remote.webelement.WebElement (session=\"ae0bb3a70c985af498cf8687de8ae8d6\", element=\"d9abc206-bf1d-401b-9e01-aeb97cf50f6b\")>,\n",
       " <selenium.webdriver.remote.webelement.WebElement (session=\"ae0bb3a70c985af498cf8687de8ae8d6\", element=\"940ee40a-3e52-4c12-9af1-9a83ae17b08e\")>]"
      ]
     },
     "execution_count": 298,
     "metadata": {},
     "output_type": "execute_result"
    }
   ],
   "source": [
    "#now extract all the tags having the laptop titles\n",
    "lap = driver.find_elements_by_xpath('//h2[@class=\"a-size-mini a-spacing-none a-color-base s-line-clamp-2\"]')\n",
    "lap"
   ]
  },
  {
   "cell_type": "code",
   "execution_count": 299,
   "id": "c835858d",
   "metadata": {},
   "outputs": [
    {
     "data": {
      "text/plain": [
       "['ASUS ROG G703GI-E5148T 17.3\" (43.94 cms) FHD 144Hz/3ms Gaming Laptop (8th Gen Intel Core i9-8950HK/64GB/2TB SSHD + 1.5TB NVMe SSD/Windows 10/GTX 1080 8GB Graphics/4.70 Kg), Aluminum',\n",
       " 'ASUS ZenBook Pro Duo Intel Core i9-10980HK 10th Gen 15.6\" (39.62 cm) 4K UHD OLED Touchscreen Laptop (32GB RAM/1TB NVMe SSD/Windows 10/6GB NVIDIA GeForce RTX 2060 Graphics/Blue/2.5 Kg) UX581LV-H2035T',\n",
       " '2019 Apple MacBook Pro (16-inch/40.65 cm, 16GB RAM, 1TB Storage, 2.3GHz 9th Gen Intel Core i9) - Space Grey',\n",
       " 'Lenovo Legion 7 10th Gen Intel Core i9 15.6 inch Full HD Gaming Laptop (16GB/1TB SSD/Windows 10/MS Office 2019/144 Hz/NVIDIA RTX 2080 8GB GDDR6 Graphics/Slate Grey/2.25Kg), 81YU006HIN',\n",
       " 'ASUS ZenBook Pro Duo UX581 Intel Core i9 9th Gen 15.6\" 4K UHD OLED Touchscreen Laptop (32GB RAM/1TB NVMe SSD/Windows 10/6GB GDDR6 Graphics Card/ScreenPad Plus/Celestial Blue/2.50 Kg), UX581GV-H9201T',\n",
       " 'Lenovo Legion 5 10th Gen Intel Core i7 15.6\" (39.62cms) Full HD Gaming Laptop (16GB/1TB HDD + 256GB SSD/Windows 10/120 Hz/NVIDIA GTX 1650Ti 4GB GDDR6 Graphics/Phantom Black/2.3Kg), 82AU00B9IN',\n",
       " 'ASUS ROG G703 17.3\" FHD 144Hz Gaming Laptop RTX 2080 8GB Graphics (Core i9-9980HK 9th Gen/32GB RAM/1TB SSHD + 3X 512GB PCIe SSD/Windows 10 Professional/Aluminum/4.70 Kg), G703GXR-EV078R',\n",
       " '(Renewed) Lenovo Legion 7 10th Gen Intel Core i9 15.6 inch Full HD Gaming Laptop (16GB/1TB SSD/Windows 10/MS Office 2019/144 Hz/NVIDIA RTX 2080 8GB GDDR6 Graphics/Slate Grey/2.25Kg), 81YU006HIN',\n",
       " 'HP 2020 15.6-inch HD Touchscreen Intel Core i7-1065G7 8GB DDR4 RAM 512GB SSD HDMI 802.11b/g/n/ac Windows 10 Laptop (Silver)',\n",
       " 'HP 14 10th Gen Intel Core i7 Ultra Thin and Light FHD Laptop (i7-1065G7/8GB/512GB SSD/Win 10/MS Office 2019/Natural Silver/1.46 Kg), 14s-DR1010TU',\n",
       " 'Lenovo Yoga 7 11th Gen Intel Core i7-1165G7 14\" (35.56cm) FHD IPS 2-in-1 Touchscreen Laptop (16GB/512GB SSD/Windows 10/MS Office/Lenovo Digital Pen/Fingerprint Reader/Slate Grey/1.43Kg), 82BH004HIN',\n",
       " 'Mi Notebook Horizon Edition 14 Intel Core i7-10510U 10th Gen 14-inch (35.56 cms) Thin and Light Laptop(8GB/512GB SSD/Windows 10/Nvidia MX350 2GB Graphics/Grey/1.35Kg), XMA1904-AF+Webcam',\n",
       " 'MSI GF65 Thin, Intel i7-10750H, 15.6\" FHD (39.6 cm) IPS-Level 144Hz Panel Laptop (16GB/512GB NVMe SSD/Windows 10 Home/Nvidia GTX1660 Ti 6GB GDDR6/Black/1.86Kg), 10SDR-1280IN',\n",
       " '2019 Apple MacBook Pro (16-inch/40.65 cm, 16GB RAM, 512GB Storage, 2.6GHz 9th Gen Intel Core i7) - Space Grey',\n",
       " 'HP Pavilion (2021) Thin & Light 11th Gen Core i7 Laptop, 16 GB RAM, 1TB SSD, Iris Xe Graphics, 14\" (35.56cms) FHD Screen, Windows 10, MS Office, Backlit Keyboard (14-dv0058TU)',\n",
       " 'HP Pavilion x360 (2021) 14\" (35.56cms) FHD Touchscreen Laptop, 11th Gen Core i7, 8 GB RAM, 512GB SSD, 2-in-1 Convertible, Windows 10, MS Office, Finger Print Reader (14-dw1040TU)',\n",
       " 'Lenovo IdeaPad Flex 5 11th Gen Intel Core i7 14\"(35.56cm) FHD IPS 2-in-1 Touchscreen Laptop(16GB/512GB SSD/Windows 10/MS Office/Lenovo Digital Pen/Fingerprint Reader/Graphite Grey/1.5Kg), 82HS0092IN',\n",
       " 'Dell Inspiron 15 Gaming 7567 15.6-inch Laptop (7th Gen Core i7-7700HQ/8GB/1TB/Windows 10 with Microsoft Office Home & Student 2016/4GB Graphics)',\n",
       " 'Life Digital Laptop 15.6-inch (39.62 cms) (Intel Core i7, 4GB RAM, 256GB SSD, Windows 10), ZED AIR CX7',\n",
       " 'HP Pavilion Gaming(2021) 10th Gen Intel Core i7 15.6-inch(39.6 cm) FHD IPS 144Hz Gaming Laptop (16GB/512GB SSD + 32GB Intel Optane/NVIDIA GTX 1650Ti 4GB/Win 10/MS Office/Shadow Black), 15-DK1511TX',\n",
       " 'ASUS ZenBook 14 (2020) Intel Core i7-1165G7 11th Gen 14\" (35.56cms) FHD T&L Laptop (16GB RAM/512GB NVMe SSD/Windows 10/MS Office 2019/Intel Iris Xáµ‰ Graphics/Pine Grey/1.17 kg), UX425EA-BM701TS',\n",
       " 'HP 14 Thin & Light 14\" (35.56cms) FHD Laptop (11th Gen Intel i7-1165G7/8GB/512GB SSD/Windows 10/MS Office 2019/Alexa Built-in/Pale Gold/1.47 kg), 14s-dr2007TU',\n",
       " 'Lenovo Yoga Slim 7 10th Gen Intel Core i7 14 inch Full HD IPS Thin and Light Laptop (8GB/512GB SSD/Windows 10/MS Office 2019/NVIDIA MX350 2GB GDDR5 Graphics/Slate Grey/1.55Kg), 82A1009KIN',\n",
       " '(Renewed) HP Intel Core i7 6700HQ 15.6-Inch (39.62 cms) 1920 X 1080 Laptop (64 GB/512 GB SSD/Windows/Intel HD Graphics & Nvidia 1000m/Grey/2.7 Kg), Zbook 15',\n",
       " 'Lenovo Yoga S940 Intel Core i7 10th Gen 14\" UHD Ultra Thin and Light Laptop (16GB/1TB SSD/Windows10 Pro/MS Office/Iron Grey/1.2Kg), 81Q80037IN']"
      ]
     },
     "execution_count": 299,
     "metadata": {},
     "output_type": "execute_result"
    }
   ],
   "source": [
    "laps=[]\n",
    "for i in lap:\n",
    "    laps.append(i.text)\n",
    "laps"
   ]
  },
  {
   "cell_type": "code",
   "execution_count": 300,
   "id": "46a47672",
   "metadata": {},
   "outputs": [
    {
     "data": {
      "text/plain": [
       "['ASUS ROG G703GI-E5148T 17.3\" (43.94 cms) FHD 144Hz/3ms Gaming Laptop (8th Gen Intel Core i9-8950HK/64GB/2TB SSHD + 1.5TB NVMe SSD/Windows 10/GTX 1080 8GB Graphics/4.70 Kg), Aluminum',\n",
       " 'ASUS ZenBook Pro Duo Intel Core i9-10980HK 10th Gen 15.6\" (39.62 cm) 4K UHD OLED Touchscreen Laptop (32GB RAM/1TB NVMe SSD/Windows 10/6GB NVIDIA GeForce RTX 2060 Graphics/Blue/2.5 Kg) UX581LV-H2035T',\n",
       " '2019 Apple MacBook Pro (16-inch/40.65 cm, 16GB RAM, 1TB Storage, 2.3GHz 9th Gen Intel Core i9) - Space Grey',\n",
       " 'Lenovo Legion 7 10th Gen Intel Core i9 15.6 inch Full HD Gaming Laptop (16GB/1TB SSD/Windows 10/MS Office 2019/144 Hz/NVIDIA RTX 2080 8GB GDDR6 Graphics/Slate Grey/2.25Kg), 81YU006HIN',\n",
       " 'ASUS ZenBook Pro Duo UX581 Intel Core i9 9th Gen 15.6\" 4K UHD OLED Touchscreen Laptop (32GB RAM/1TB NVMe SSD/Windows 10/6GB GDDR6 Graphics Card/ScreenPad Plus/Celestial Blue/2.50 Kg), UX581GV-H9201T',\n",
       " 'Lenovo Legion 5 10th Gen Intel Core i7 15.6\" (39.62cms) Full HD Gaming Laptop (16GB/1TB HDD + 256GB SSD/Windows 10/120 Hz/NVIDIA GTX 1650Ti 4GB GDDR6 Graphics/Phantom Black/2.3Kg), 82AU00B9IN',\n",
       " 'ASUS ROG G703 17.3\" FHD 144Hz Gaming Laptop RTX 2080 8GB Graphics (Core i9-9980HK 9th Gen/32GB RAM/1TB SSHD + 3X 512GB PCIe SSD/Windows 10 Professional/Aluminum/4.70 Kg), G703GXR-EV078R',\n",
       " '(Renewed) Lenovo Legion 7 10th Gen Intel Core i9 15.6 inch Full HD Gaming Laptop (16GB/1TB SSD/Windows 10/MS Office 2019/144 Hz/NVIDIA RTX 2080 8GB GDDR6 Graphics/Slate Grey/2.25Kg), 81YU006HIN',\n",
       " 'HP 2020 15.6-inch HD Touchscreen Intel Core i7-1065G7 8GB DDR4 RAM 512GB SSD HDMI 802.11b/g/n/ac Windows 10 Laptop (Silver)',\n",
       " 'HP 14 10th Gen Intel Core i7 Ultra Thin and Light FHD Laptop (i7-1065G7/8GB/512GB SSD/Win 10/MS Office 2019/Natural Silver/1.46 Kg), 14s-DR1010TU']"
      ]
     },
     "execution_count": 300,
     "metadata": {},
     "output_type": "execute_result"
    }
   ],
   "source": [
    "laps[:10]"
   ]
  },
  {
   "cell_type": "code",
   "execution_count": 301,
   "id": "0c5f5d3b",
   "metadata": {},
   "outputs": [
    {
     "data": {
      "text/plain": [
       "10"
      ]
     },
     "execution_count": 301,
     "metadata": {},
     "output_type": "execute_result"
    }
   ],
   "source": [
    "len(laps[:10])"
   ]
  },
  {
   "cell_type": "code",
   "execution_count": null,
   "id": "7c1653dc",
   "metadata": {},
   "outputs": [],
   "source": []
  },
  {
   "cell_type": "code",
   "execution_count": 302,
   "id": "2ed866d0",
   "metadata": {},
   "outputs": [],
   "source": [
    "# to find scrape ratings from inside of every product url\n",
    "url ='https://www.amazon.in/Asus-G703GI-E5148T-17-3-inch-i9-8950HK-Processor/dp/B07GRCW51K/ref=sr_1_1?crid=X99Z86MVGN2U&dchild=1&keywords=laptop+intel+core+i9&qid=1627985404&refinements=p_n_feature_thirteen_browse-bin%3A12598163031%7C16757432031&rnid=12598141031&s=computers&sprefix=Laptop+intel+core+%2Caps%2C331&sr=1-1'\n",
    "driver.get(url)"
   ]
  },
  {
   "cell_type": "code",
   "execution_count": 303,
   "id": "aead150e",
   "metadata": {
    "scrolled": false
   },
   "outputs": [
    {
     "data": {
      "text/plain": [
       "[<selenium.webdriver.remote.webelement.WebElement (session=\"ae0bb3a70c985af498cf8687de8ae8d6\", element=\"2beb8de1-3ea4-40cd-8707-5a177b7d40eb\")>]"
      ]
     },
     "execution_count": 303,
     "metadata": {},
     "output_type": "execute_result"
    }
   ],
   "source": [
    "ratings = driver.find_elements_by_xpath('//td[@class=\"a-size-base\"]')\n",
    "ratings"
   ]
  },
  {
   "cell_type": "code",
   "execution_count": 304,
   "id": "79cd943f",
   "metadata": {},
   "outputs": [
    {
     "data": {
      "text/plain": [
       "['3.8 out of 5 stars']"
      ]
     },
     "execution_count": 304,
     "metadata": {},
     "output_type": "execute_result"
    }
   ],
   "source": [
    "rating=[]\n",
    "for i in ratings:\n",
    "    rating.append(i.text[11:])\n",
    "rating"
   ]
  },
  {
   "cell_type": "code",
   "execution_count": 305,
   "id": "7085186f",
   "metadata": {},
   "outputs": [],
   "source": [
    "url='https://www.amazon.in/ASUS-i9-10980HK-Touchscreen-Celestial-UX581LV-H2035T/dp/B08CHDLVT1/ref=sr_1_2?crid=X99Z86MVGN2U&dchild=1&keywords=laptop%2Bintel%2Bcore%2Bi9&qid=1627987503&refinements=p_n_feature_thirteen_browse-bin%3A12598163031%7C16757432031&rnid=12598141031&s=computers&sprefix=Laptop%2Bintel%2Bcore%2B%2Caps%2C331&sr=1-2&th=1' \n",
    "driver.get(url)"
   ]
  },
  {
   "cell_type": "code",
   "execution_count": 306,
   "id": "c96a0e49",
   "metadata": {},
   "outputs": [
    {
     "data": {
      "text/plain": [
       "['3.8 out of 5 stars', '4.1 out of 5 stars']"
      ]
     },
     "execution_count": 306,
     "metadata": {},
     "output_type": "execute_result"
    }
   ],
   "source": [
    "rating1=driver.find_elements_by_xpath('//td[@class=\"a-size-base\"]')\n",
    "for i in rating1:\n",
    "    rating.append(i.text.replace('6 ratings\\n',''))\n",
    "rating"
   ]
  },
  {
   "cell_type": "code",
   "execution_count": 307,
   "id": "a398ca9e",
   "metadata": {},
   "outputs": [],
   "source": [
    "url = 'https://www.amazon.in/Apple-MacBook-16-inch-Storage-2-3GHz/dp/B081JWZSSX/ref=sr_1_3?crid=X99Z86MVGN2U&dchild=1&keywords=laptop%2Bintel%2Bcore%2Bi9&qid=1627987503&refinements=p_n_feature_thirteen_browse-bin%3A12598163031%7C16757432031&rnid=12598141031&s=computers&sprefix=Laptop%2Bintel%2Bcore%2B%2Caps%2C331&sr=1-3&th=1'\n",
    "driver.get(url)"
   ]
  },
  {
   "cell_type": "code",
   "execution_count": 308,
   "id": "4ded4904",
   "metadata": {},
   "outputs": [
    {
     "data": {
      "text/plain": [
       "['3.8 out of 5 stars', '4.1 out of 5 stars', '4.3 out of 5']"
      ]
     },
     "execution_count": 308,
     "metadata": {},
     "output_type": "execute_result"
    }
   ],
   "source": [
    "rating2=driver.find_elements_by_xpath('//span[@data-hook=\"rating-out-of-text\"]')\n",
    "for i in rating2:\n",
    "    rating.append(i.text)\n",
    "rating"
   ]
  },
  {
   "cell_type": "code",
   "execution_count": 309,
   "id": "14ffb2c2",
   "metadata": {},
   "outputs": [],
   "source": [
    "url = 'https://www.amazon.in/Lenovo-Legion-Windows-Graphics-81YU006HIN/dp/B08GG9RZJC/ref=sr_1_4?crid=X99Z86MVGN2U&dchild=1&keywords=laptop+intel+core+i9&qid=1627987503&refinements=p_n_feature_thirteen_browse-bin%3A12598163031%7C16757432031&rnid=12598141031&s=computers&sprefix=Laptop+intel+core+%2Caps%2C331&sr=1-4'\n",
    "driver.get(url)"
   ]
  },
  {
   "cell_type": "code",
   "execution_count": 310,
   "id": "4a95c1b9",
   "metadata": {},
   "outputs": [
    {
     "data": {
      "text/plain": [
       "['3.8 out of 5 stars',\n",
       " '4.1 out of 5 stars',\n",
       " '4.3 out of 5',\n",
       " '2.9 out of 5 stars']"
      ]
     },
     "execution_count": 310,
     "metadata": {},
     "output_type": "execute_result"
    }
   ],
   "source": [
    "rating3=driver.find_elements_by_xpath('//td[@class=\"a-size-base\"]')\n",
    "for i in rating3:\n",
    "    rating.append(i.text.replace('4 ratings\\n',''))\n",
    "rating"
   ]
  },
  {
   "cell_type": "code",
   "execution_count": 311,
   "id": "599953e5",
   "metadata": {},
   "outputs": [],
   "source": [
    "url = 'https://www.amazon.in/ASUS-Touchscreen-ScreenPad-Celestial-UX581GV-H9201T/dp/B07YSTDMNB/ref=sr_1_5?crid=X99Z86MVGN2U&dchild=1&keywords=laptop%2Bintel%2Bcore%2Bi9&qid=1627987503&refinements=p_n_feature_thirteen_browse-bin%3A12598163031%7C16757432031&rnid=12598141031&s=computers&sprefix=Laptop%2Bintel%2Bcore%2B%2Caps%2C331&sr=1-5&th=1'\n",
    "driver.get(url)"
   ]
  },
  {
   "cell_type": "code",
   "execution_count": 312,
   "id": "d6eebe1a",
   "metadata": {},
   "outputs": [
    {
     "data": {
      "text/plain": [
       "['3.8 out of 5 stars',\n",
       " '4.1 out of 5 stars',\n",
       " '4.3 out of 5',\n",
       " '2.9 out of 5 stars',\n",
       " '3.9 out of 5 stars']"
      ]
     },
     "execution_count": 312,
     "metadata": {},
     "output_type": "execute_result"
    }
   ],
   "source": [
    "rating4=driver.find_elements_by_xpath('//td[@class=\"a-size-base\"]')\n",
    "for i in rating4:\n",
    "    rating.append(i.text.replace('40 ratings\\n',''))\n",
    "rating"
   ]
  },
  {
   "cell_type": "code",
   "execution_count": 313,
   "id": "3d8b7f46",
   "metadata": {},
   "outputs": [],
   "source": [
    "url = 'https://www.amazon.in/Lenovo-Windows-Graphics-Phantom-82AU00B9IN/dp/B08CPXYW3R/ref=sr_1_6?crid=X99Z86MVGN2U&dchild=1&keywords=laptop+intel+core+i9&qid=1627987503&refinements=p_n_feature_thirteen_browse-bin%3A12598163031%7C16757432031&rnid=12598141031&s=computers&sprefix=Laptop+intel+core+%2Caps%2C331&sr=1-6'\n",
    "driver.get(url)"
   ]
  },
  {
   "cell_type": "code",
   "execution_count": 314,
   "id": "14c8bb3f",
   "metadata": {},
   "outputs": [
    {
     "data": {
      "text/plain": [
       "['3.8 out of 5 stars',\n",
       " '4.1 out of 5 stars',\n",
       " '4.3 out of 5',\n",
       " '2.9 out of 5 stars',\n",
       " '3.9 out of 5 stars',\n",
       " '4.3 out of 5 stars']"
      ]
     },
     "execution_count": 314,
     "metadata": {},
     "output_type": "execute_result"
    }
   ],
   "source": [
    "rating5=driver.find_elements_by_xpath('//td[@class=\"a-size-base\"]')\n",
    "for i in rating5:\n",
    "    rating.append(i.text.replace('104 ratings\\n',''))\n",
    "rating"
   ]
  },
  {
   "cell_type": "code",
   "execution_count": 315,
   "id": "cac6bc97",
   "metadata": {},
   "outputs": [],
   "source": [
    "url = 'https://www.amazon.in/Graphics-i9-9980HK-Professional-Aluminum-G703GXR-EV078R/dp/B07RVXTMYQ/ref=sr_1_7?crid=X99Z86MVGN2U&dchild=1&keywords=laptop+intel+core+i9&qid=1627987503&refinements=p_n_feature_thirteen_browse-bin%3A12598163031%7C16757432031&rnid=12598141031&s=computers&sprefix=Laptop+intel+core+%2Caps%2C331&sr=1-7'\n",
    "driver.get(url)"
   ]
  },
  {
   "cell_type": "code",
   "execution_count": 316,
   "id": "7e8f1f81",
   "metadata": {},
   "outputs": [
    {
     "data": {
      "text/plain": [
       "['3.8 out of 5 stars',\n",
       " '4.1 out of 5 stars',\n",
       " '4.3 out of 5',\n",
       " '2.9 out of 5 stars',\n",
       " '3.9 out of 5 stars',\n",
       " '4.3 out of 5 stars',\n",
       " '3.1 out of 5 stars']"
      ]
     },
     "execution_count": 316,
     "metadata": {},
     "output_type": "execute_result"
    }
   ],
   "source": [
    "rating6=driver.find_elements_by_xpath('//td[@class=\"a-size-base\"]')\n",
    "for i in rating6:\n",
    "    rating.append(i.text.replace('7 ratings\\n',''))\n",
    "rating"
   ]
  },
  {
   "cell_type": "code",
   "execution_count": 317,
   "id": "564b4b94",
   "metadata": {},
   "outputs": [],
   "source": [
    "url = 'https://www.amazon.in/Renewed-Lenovo-Windows-Graphics-81YU006HIN/dp/B098QBPB4Q/ref=sr_1_8?crid=X99Z86MVGN2U&dchild=1&keywords=laptop+intel+core+i9&qid=1627987503&refinements=p_n_feature_thirteen_browse-bin%3A12598163031%7C16757432031&rnid=12598141031&s=computers&sprefix=Laptop+intel+core+%2Caps%2C331&sr=1-8'\n",
    "driver.get(url)"
   ]
  },
  {
   "cell_type": "code",
   "execution_count": 318,
   "id": "9965ea44",
   "metadata": {},
   "outputs": [
    {
     "data": {
      "text/plain": [
       "['3.8 out of 5 stars',\n",
       " '4.1 out of 5 stars',\n",
       " '4.3 out of 5',\n",
       " '2.9 out of 5 stars',\n",
       " '3.9 out of 5 stars',\n",
       " '4.3 out of 5 stars',\n",
       " '3.1 out of 5 stars',\n",
       " 'No customer reviews']"
      ]
     },
     "execution_count": 318,
     "metadata": {},
     "output_type": "execute_result"
    }
   ],
   "source": [
    "rating7=driver.find_elements_by_xpath('//h3[@class=\"a-spacing-small\"]')\n",
    "for i in rating7:\n",
    "    rating.append(i.text)\n",
    "rating"
   ]
  },
  {
   "cell_type": "code",
   "execution_count": 319,
   "id": "460becbf",
   "metadata": {},
   "outputs": [],
   "source": [
    "url = 'https://www.amazon.in/HP-15-6-inch-Touchscreen-i7-1065G7-802-11b/dp/B082342SB7/ref=sr_1_9?crid=X99Z86MVGN2U&dchild=1&keywords=laptop+intel+core+i9&qid=1627987503&refinements=p_n_feature_thirteen_browse-bin%3A12598163031%7C16757432031&rnid=12598141031&s=computers&sprefix=Laptop+intel+core+%2Caps%2C331&sr=1-9'\n",
    "driver.get(url)"
   ]
  },
  {
   "cell_type": "code",
   "execution_count": 320,
   "id": "1e61e2f4",
   "metadata": {},
   "outputs": [
    {
     "data": {
      "text/plain": [
       "['3.8 out of 5 stars',\n",
       " '4.1 out of 5 stars',\n",
       " '4.3 out of 5',\n",
       " '2.9 out of 5 stars',\n",
       " '3.9 out of 5 stars',\n",
       " '4.3 out of 5 stars',\n",
       " '3.1 out of 5 stars',\n",
       " 'No customer reviews',\n",
       " '4.5 out of 5 stars']"
      ]
     },
     "execution_count": 320,
     "metadata": {},
     "output_type": "execute_result"
    }
   ],
   "source": [
    "rating8=driver.find_elements_by_xpath('//td[@class=\"a-size-base\"]')\n",
    "for i in rating8:\n",
    "    rating.append(i.text.replace('118 ratings\\n',''))\n",
    "rating"
   ]
  },
  {
   "cell_type": "code",
   "execution_count": 321,
   "id": "fb7a960b",
   "metadata": {},
   "outputs": [],
   "source": [
    "url = 'https://www.amazon.in/HP-Laptop-i7-1065G7-Natural-14s-DR1010TU/dp/B08H2V92WV/ref=sr_1_10?crid=X99Z86MVGN2U&dchild=1&keywords=laptop+intel+core+i9&qid=1627987503&refinements=p_n_feature_thirteen_browse-bin%3A12598163031%7C16757432031&rnid=12598141031&s=computers&sprefix=Laptop+intel+core+%2Caps%2C331&sr=1-10'\n",
    "driver.get(url)"
   ]
  },
  {
   "cell_type": "code",
   "execution_count": 322,
   "id": "8785d707",
   "metadata": {},
   "outputs": [
    {
     "data": {
      "text/plain": [
       "['3.8 out of 5 stars',\n",
       " '4.1 out of 5 stars',\n",
       " '4.3 out of 5',\n",
       " '2.9 out of 5 stars',\n",
       " '3.9 out of 5 stars',\n",
       " '4.3 out of 5 stars',\n",
       " '3.1 out of 5 stars',\n",
       " 'No customer reviews',\n",
       " '4.5 out of 5 stars',\n",
       " '4.0 out of 5 stars']"
      ]
     },
     "execution_count": 322,
     "metadata": {},
     "output_type": "execute_result"
    }
   ],
   "source": [
    "rating9=driver.find_elements_by_xpath('//td[@class=\"a-size-base\"]')\n",
    "for i in rating9:\n",
    "    rating.append(i.text.replace('36 ratings\\n',''))\n",
    "rating"
   ]
  },
  {
   "cell_type": "code",
   "execution_count": 323,
   "id": "dd4a8168",
   "metadata": {
    "scrolled": false
   },
   "outputs": [
    {
     "data": {
      "text/plain": [
       "10"
      ]
     },
     "execution_count": 323,
     "metadata": {},
     "output_type": "execute_result"
    }
   ],
   "source": [
    "len(rating)"
   ]
  },
  {
   "cell_type": "code",
   "execution_count": 330,
   "id": "ead45a56",
   "metadata": {
    "scrolled": false
   },
   "outputs": [
    {
     "data": {
      "text/plain": [
       "[<selenium.webdriver.remote.webelement.WebElement (session=\"ae0bb3a70c985af498cf8687de8ae8d6\", element=\"e25d53f3-fc85-4b65-962c-c5e434e9c5ff\")>,\n",
       " <selenium.webdriver.remote.webelement.WebElement (session=\"ae0bb3a70c985af498cf8687de8ae8d6\", element=\"d5cf2f21-7fc4-4500-8988-c4268e771cc6\")>,\n",
       " <selenium.webdriver.remote.webelement.WebElement (session=\"ae0bb3a70c985af498cf8687de8ae8d6\", element=\"ada65f17-e9aa-4909-9165-ac26c683bb77\")>,\n",
       " <selenium.webdriver.remote.webelement.WebElement (session=\"ae0bb3a70c985af498cf8687de8ae8d6\", element=\"c7892bb8-58a3-4441-9220-181066b011b0\")>,\n",
       " <selenium.webdriver.remote.webelement.WebElement (session=\"ae0bb3a70c985af498cf8687de8ae8d6\", element=\"a04c65f0-e121-408a-b72f-2a90a8a36d41\")>,\n",
       " <selenium.webdriver.remote.webelement.WebElement (session=\"ae0bb3a70c985af498cf8687de8ae8d6\", element=\"29ad2ec3-eede-40bc-bcf0-83db41c5df12\")>,\n",
       " <selenium.webdriver.remote.webelement.WebElement (session=\"ae0bb3a70c985af498cf8687de8ae8d6\", element=\"5fcd3da8-1984-4b1b-8d6b-92bb829285d9\")>,\n",
       " <selenium.webdriver.remote.webelement.WebElement (session=\"ae0bb3a70c985af498cf8687de8ae8d6\", element=\"f2c9407b-4f9a-4bfe-93ab-19f844792e7c\")>,\n",
       " <selenium.webdriver.remote.webelement.WebElement (session=\"ae0bb3a70c985af498cf8687de8ae8d6\", element=\"2eecda94-0d35-4686-98ea-58431a879468\")>,\n",
       " <selenium.webdriver.remote.webelement.WebElement (session=\"ae0bb3a70c985af498cf8687de8ae8d6\", element=\"a26e92d6-744f-45a3-b93c-357cae8867f8\")>,\n",
       " <selenium.webdriver.remote.webelement.WebElement (session=\"ae0bb3a70c985af498cf8687de8ae8d6\", element=\"f4252e9a-548e-4cfa-8d3e-0a87d4545084\")>,\n",
       " <selenium.webdriver.remote.webelement.WebElement (session=\"ae0bb3a70c985af498cf8687de8ae8d6\", element=\"7d7be158-863c-4386-80e7-bda6f1d00466\")>,\n",
       " <selenium.webdriver.remote.webelement.WebElement (session=\"ae0bb3a70c985af498cf8687de8ae8d6\", element=\"64da9825-91b2-47bb-8898-9a7fe1333d07\")>,\n",
       " <selenium.webdriver.remote.webelement.WebElement (session=\"ae0bb3a70c985af498cf8687de8ae8d6\", element=\"60b82361-119b-480d-bc15-df8ef606cd39\")>,\n",
       " <selenium.webdriver.remote.webelement.WebElement (session=\"ae0bb3a70c985af498cf8687de8ae8d6\", element=\"50d2e3b8-f170-4937-8414-cc257bbf19e9\")>,\n",
       " <selenium.webdriver.remote.webelement.WebElement (session=\"ae0bb3a70c985af498cf8687de8ae8d6\", element=\"57e314fc-5278-4b78-958b-262b1b456990\")>,\n",
       " <selenium.webdriver.remote.webelement.WebElement (session=\"ae0bb3a70c985af498cf8687de8ae8d6\", element=\"b094446a-d15d-4861-bf7d-b1485c2850fb\")>,\n",
       " <selenium.webdriver.remote.webelement.WebElement (session=\"ae0bb3a70c985af498cf8687de8ae8d6\", element=\"ca9e13ca-52bd-4463-8c27-e1008504aa65\")>,\n",
       " <selenium.webdriver.remote.webelement.WebElement (session=\"ae0bb3a70c985af498cf8687de8ae8d6\", element=\"d6668ab2-c78c-46c1-96c0-633da9c0b734\")>,\n",
       " <selenium.webdriver.remote.webelement.WebElement (session=\"ae0bb3a70c985af498cf8687de8ae8d6\", element=\"b988e22f-7a0e-40c7-87e7-12b4c6e10bc9\")>,\n",
       " <selenium.webdriver.remote.webelement.WebElement (session=\"ae0bb3a70c985af498cf8687de8ae8d6\", element=\"2033e6a0-fd0a-4ed9-897b-2aa220cde5fa\")>,\n",
       " <selenium.webdriver.remote.webelement.WebElement (session=\"ae0bb3a70c985af498cf8687de8ae8d6\", element=\"85f2526b-e743-402e-ac06-2c4ba7073391\")>,\n",
       " <selenium.webdriver.remote.webelement.WebElement (session=\"ae0bb3a70c985af498cf8687de8ae8d6\", element=\"659117a9-0dc5-4d66-b56c-ab6e350710ba\")>]"
      ]
     },
     "execution_count": 330,
     "metadata": {},
     "output_type": "execute_result"
    }
   ],
   "source": [
    "#now extract all the tags having the laptop prices\n",
    "price = driver.find_elements_by_xpath('//span[@class=\"a-price\"]')\n",
    "price"
   ]
  },
  {
   "cell_type": "code",
   "execution_count": 331,
   "id": "6a5d5d2e",
   "metadata": {},
   "outputs": [
    {
     "data": {
      "text/plain": [
       "['₹5,56,524',\n",
       " '₹2,99,990',\n",
       " '₹2,19,990',\n",
       " '₹2,59,990',\n",
       " '₹1,38,990',\n",
       " '₹3,99,990',\n",
       " '₹1,74,316',\n",
       " '₹76,700',\n",
       " '₹96,588',\n",
       " '₹59,999',\n",
       " '₹81,990',\n",
       " '₹1,85,659',\n",
       " '₹84,990',\n",
       " '₹81,999',\n",
       " '₹89,990',\n",
       " '₹84,490',\n",
       " '₹34,990',\n",
       " '₹90,990',\n",
       " '₹99,790',\n",
       " '₹85,000',\n",
       " '₹83,990',\n",
       " '₹1,06,490',\n",
       " '₹1,57,979']"
      ]
     },
     "execution_count": 331,
     "metadata": {},
     "output_type": "execute_result"
    }
   ],
   "source": [
    "prices=[]\n",
    "for i in price:\n",
    "    prices.append(i.text)\n",
    "prices"
   ]
  },
  {
   "cell_type": "markdown",
   "id": "b25a2742",
   "metadata": {},
   "source": [
    "so now we have extracted the data required from the webpage and stored them in the 3 lists mentioned above.company name,company title,job location,job experience.now we creating a dataframe from these lists using with pandas library,before first we check length of the each lists"
   ]
  },
  {
   "cell_type": "code",
   "execution_count": 336,
   "id": "61ea402b",
   "metadata": {},
   "outputs": [
    {
     "data": {
      "text/plain": [
       "(10, 10, 10)"
      ]
     },
     "execution_count": 336,
     "metadata": {},
     "output_type": "execute_result"
    }
   ],
   "source": [
    "len(laps[:10]),len(rating),len(prices[:10])"
   ]
  },
  {
   "cell_type": "code",
   "execution_count": 339,
   "id": "cf4537f1",
   "metadata": {},
   "outputs": [],
   "source": [
    "#now create the dataframe using with pandas\n",
    "import pandas as pd\n",
    "laptops = pd.DataFrame({})\n",
    "laptops['Title'] = laps[:10]\n",
    "laptops['Ratings']=rating\n",
    "laptops['Price'] = prices[:10]"
   ]
  },
  {
   "cell_type": "code",
   "execution_count": 340,
   "id": "e6d3e787",
   "metadata": {},
   "outputs": [
    {
     "data": {
      "text/html": [
       "<div>\n",
       "<style scoped>\n",
       "    .dataframe tbody tr th:only-of-type {\n",
       "        vertical-align: middle;\n",
       "    }\n",
       "\n",
       "    .dataframe tbody tr th {\n",
       "        vertical-align: top;\n",
       "    }\n",
       "\n",
       "    .dataframe thead th {\n",
       "        text-align: right;\n",
       "    }\n",
       "</style>\n",
       "<table border=\"1\" class=\"dataframe\">\n",
       "  <thead>\n",
       "    <tr style=\"text-align: right;\">\n",
       "      <th></th>\n",
       "      <th>Title</th>\n",
       "      <th>Ratings</th>\n",
       "      <th>Price</th>\n",
       "    </tr>\n",
       "  </thead>\n",
       "  <tbody>\n",
       "    <tr>\n",
       "      <th>0</th>\n",
       "      <td>ASUS ROG G703GI-E5148T 17.3\" (43.94 cms) FHD 1...</td>\n",
       "      <td>3.8 out of 5 stars</td>\n",
       "      <td>₹5,56,524</td>\n",
       "    </tr>\n",
       "    <tr>\n",
       "      <th>1</th>\n",
       "      <td>ASUS ZenBook Pro Duo Intel Core i9-10980HK 10t...</td>\n",
       "      <td>4.1 out of 5 stars</td>\n",
       "      <td>₹2,99,990</td>\n",
       "    </tr>\n",
       "    <tr>\n",
       "      <th>2</th>\n",
       "      <td>2019 Apple MacBook Pro (16-inch/40.65 cm, 16GB...</td>\n",
       "      <td>4.3 out of 5</td>\n",
       "      <td>₹2,19,990</td>\n",
       "    </tr>\n",
       "    <tr>\n",
       "      <th>3</th>\n",
       "      <td>Lenovo Legion 7 10th Gen Intel Core i9 15.6 in...</td>\n",
       "      <td>2.9 out of 5 stars</td>\n",
       "      <td>₹2,59,990</td>\n",
       "    </tr>\n",
       "    <tr>\n",
       "      <th>4</th>\n",
       "      <td>ASUS ZenBook Pro Duo UX581 Intel Core i9 9th G...</td>\n",
       "      <td>3.9 out of 5 stars</td>\n",
       "      <td>₹1,38,990</td>\n",
       "    </tr>\n",
       "    <tr>\n",
       "      <th>5</th>\n",
       "      <td>Lenovo Legion 5 10th Gen Intel Core i7 15.6\" (...</td>\n",
       "      <td>4.3 out of 5 stars</td>\n",
       "      <td>₹3,99,990</td>\n",
       "    </tr>\n",
       "    <tr>\n",
       "      <th>6</th>\n",
       "      <td>ASUS ROG G703 17.3\" FHD 144Hz Gaming Laptop RT...</td>\n",
       "      <td>3.1 out of 5 stars</td>\n",
       "      <td>₹1,74,316</td>\n",
       "    </tr>\n",
       "    <tr>\n",
       "      <th>7</th>\n",
       "      <td>(Renewed) Lenovo Legion 7 10th Gen Intel Core ...</td>\n",
       "      <td>No customer reviews</td>\n",
       "      <td>₹76,700</td>\n",
       "    </tr>\n",
       "    <tr>\n",
       "      <th>8</th>\n",
       "      <td>HP 2020 15.6-inch HD Touchscreen Intel Core i7...</td>\n",
       "      <td>4.5 out of 5 stars</td>\n",
       "      <td>₹96,588</td>\n",
       "    </tr>\n",
       "    <tr>\n",
       "      <th>9</th>\n",
       "      <td>HP 14 10th Gen Intel Core i7 Ultra Thin and Li...</td>\n",
       "      <td>4.0 out of 5 stars</td>\n",
       "      <td>₹59,999</td>\n",
       "    </tr>\n",
       "  </tbody>\n",
       "</table>\n",
       "</div>"
      ],
      "text/plain": [
       "                                               Title              Ratings  \\\n",
       "0  ASUS ROG G703GI-E5148T 17.3\" (43.94 cms) FHD 1...   3.8 out of 5 stars   \n",
       "1  ASUS ZenBook Pro Duo Intel Core i9-10980HK 10t...   4.1 out of 5 stars   \n",
       "2  2019 Apple MacBook Pro (16-inch/40.65 cm, 16GB...         4.3 out of 5   \n",
       "3  Lenovo Legion 7 10th Gen Intel Core i9 15.6 in...   2.9 out of 5 stars   \n",
       "4  ASUS ZenBook Pro Duo UX581 Intel Core i9 9th G...   3.9 out of 5 stars   \n",
       "5  Lenovo Legion 5 10th Gen Intel Core i7 15.6\" (...   4.3 out of 5 stars   \n",
       "6  ASUS ROG G703 17.3\" FHD 144Hz Gaming Laptop RT...   3.1 out of 5 stars   \n",
       "7  (Renewed) Lenovo Legion 7 10th Gen Intel Core ...  No customer reviews   \n",
       "8  HP 2020 15.6-inch HD Touchscreen Intel Core i7...   4.5 out of 5 stars   \n",
       "9  HP 14 10th Gen Intel Core i7 Ultra Thin and Li...   4.0 out of 5 stars   \n",
       "\n",
       "       Price  \n",
       "0  ₹5,56,524  \n",
       "1  ₹2,99,990  \n",
       "2  ₹2,19,990  \n",
       "3  ₹2,59,990  \n",
       "4  ₹1,38,990  \n",
       "5  ₹3,99,990  \n",
       "6  ₹1,74,316  \n",
       "7    ₹76,700  \n",
       "8    ₹96,588  \n",
       "9    ₹59,999  "
      ]
     },
     "execution_count": 340,
     "metadata": {},
     "output_type": "execute_result"
    }
   ],
   "source": [
    "laptops"
   ]
  },
  {
   "cell_type": "code",
   "execution_count": null,
   "id": "e8850acc",
   "metadata": {},
   "outputs": [],
   "source": []
  }
 ],
 "metadata": {
  "kernelspec": {
   "display_name": "Python 3",
   "language": "python",
   "name": "python3"
  },
  "language_info": {
   "codemirror_mode": {
    "name": "ipython",
    "version": 3
   },
   "file_extension": ".py",
   "mimetype": "text/x-python",
   "name": "python",
   "nbconvert_exporter": "python",
   "pygments_lexer": "ipython3",
   "version": "3.8.8"
  }
 },
 "nbformat": 4,
 "nbformat_minor": 5
}
