{
 "cells": [
  {
   "cell_type": "markdown",
   "id": "bc0497a4",
   "metadata": {},
   "source": [
    "## Project Title : Car Price Prediction Project"
   ]
  },
  {
   "cell_type": "markdown",
   "id": "6b7c84bd",
   "metadata": {},
   "source": [
    "## Problem Statement:"
   ]
  },
  {
   "cell_type": "markdown",
   "id": "df42fb2d",
   "metadata": {},
   "source": [
    "With the covid 19 impact in the market, we have seen lot of changes in the car market. Now some cars are in demand hence making them costly and some are not in demand hence cheaper. One of our clients works with small traders, who sell used cars. With the change in market due to covid 19 impact, our client is facing problems with their previous car price valuation machine learning models. So, they are looking for new machine learning models from new data. We have to make car price valuation model."
   ]
  },
  {
   "cell_type": "markdown",
   "id": "56a08ab9",
   "metadata": {},
   "source": [
    "\n",
    "## Business Goal:"
   ]
  },
  {
   "cell_type": "markdown",
   "id": "4183528e",
   "metadata": {},
   "source": [
    "We need to build a machine learning model. Before model building do all data pre-processing steps. Try different models with different hyper parameters and select the best model.\n",
    "\n"
   ]
  },
  {
   "cell_type": "code",
   "execution_count": 1,
   "id": "e4952e81",
   "metadata": {},
   "outputs": [],
   "source": [
    "#importing the required libraries\n",
    "\n",
    "import pandas as pd\n",
    "import numpy as np\n",
    "import seaborn as sns\n",
    "import matplotlib.pyplot as plt\n",
    "\n",
    "import warnings\n",
    "warnings.filterwarnings(\"ignore\")"
   ]
  },
  {
   "cell_type": "code",
   "execution_count": 2,
   "id": "c0ce5d1c",
   "metadata": {},
   "outputs": [
    {
     "data": {
      "text/html": [
       "<div>\n",
       "<style scoped>\n",
       "    .dataframe tbody tr th:only-of-type {\n",
       "        vertical-align: middle;\n",
       "    }\n",
       "\n",
       "    .dataframe tbody tr th {\n",
       "        vertical-align: top;\n",
       "    }\n",
       "\n",
       "    .dataframe thead th {\n",
       "        text-align: right;\n",
       "    }\n",
       "</style>\n",
       "<table border=\"1\" class=\"dataframe\">\n",
       "  <thead>\n",
       "    <tr style=\"text-align: right;\">\n",
       "      <th></th>\n",
       "      <th>Unnamed: 0</th>\n",
       "      <th>Brand</th>\n",
       "      <th>Price</th>\n",
       "      <th>Year</th>\n",
       "      <th>Fuel</th>\n",
       "      <th>Transmission</th>\n",
       "      <th>Running KM</th>\n",
       "      <th>Location</th>\n",
       "    </tr>\n",
       "  </thead>\n",
       "  <tbody>\n",
       "    <tr>\n",
       "      <th>0</th>\n",
       "      <td>0</td>\n",
       "      <td>Mercedes-Benz A Class 2L AMG A35</td>\n",
       "      <td>26925</td>\n",
       "      <td>2018</td>\n",
       "      <td>Petrol</td>\n",
       "      <td>Automatic</td>\n",
       "      <td>8015</td>\n",
       "      <td>London</td>\n",
       "    </tr>\n",
       "    <tr>\n",
       "      <th>1</th>\n",
       "      <td>1</td>\n",
       "      <td>Toyota Yaris 1.6L GR Circuit T</td>\n",
       "      <td>26850</td>\n",
       "      <td>2015</td>\n",
       "      <td>Petrol</td>\n",
       "      <td>Automatic</td>\n",
       "      <td>11718</td>\n",
       "      <td>London</td>\n",
       "    </tr>\n",
       "    <tr>\n",
       "      <th>2</th>\n",
       "      <td>2</td>\n",
       "      <td>Toyota Yaris 1.6L GR Circuit T</td>\n",
       "      <td>26725</td>\n",
       "      <td>2020</td>\n",
       "      <td>Petrol</td>\n",
       "      <td>Manual</td>\n",
       "      <td>24308</td>\n",
       "      <td>London</td>\n",
       "    </tr>\n",
       "    <tr>\n",
       "      <th>3</th>\n",
       "      <td>3</td>\n",
       "      <td>BMW 1 Series 2L M135i</td>\n",
       "      <td>26400</td>\n",
       "      <td>2019</td>\n",
       "      <td>Petrol</td>\n",
       "      <td>Automatic</td>\n",
       "      <td>10849</td>\n",
       "      <td>London</td>\n",
       "    </tr>\n",
       "    <tr>\n",
       "      <th>4</th>\n",
       "      <td>4</td>\n",
       "      <td>BMW 1 Series 2L M135i</td>\n",
       "      <td>26375</td>\n",
       "      <td>2018</td>\n",
       "      <td>Petrol</td>\n",
       "      <td>Automatic</td>\n",
       "      <td>21716</td>\n",
       "      <td>London</td>\n",
       "    </tr>\n",
       "    <tr>\n",
       "      <th>...</th>\n",
       "      <td>...</td>\n",
       "      <td>...</td>\n",
       "      <td>...</td>\n",
       "      <td>...</td>\n",
       "      <td>...</td>\n",
       "      <td>...</td>\n",
       "      <td>...</td>\n",
       "      <td>...</td>\n",
       "    </tr>\n",
       "    <tr>\n",
       "      <th>9975</th>\n",
       "      <td>9975</td>\n",
       "      <td>Mercedes-Benz A Class 1.5L AMG Line A180d</td>\n",
       "      <td>25500</td>\n",
       "      <td>2020</td>\n",
       "      <td>Petrol</td>\n",
       "      <td>Automatic</td>\n",
       "      <td>11605</td>\n",
       "      <td>London</td>\n",
       "    </tr>\n",
       "    <tr>\n",
       "      <th>9976</th>\n",
       "      <td>9976</td>\n",
       "      <td>Mercedes-Benz A Class 1.3L AMG Line A180</td>\n",
       "      <td>25500</td>\n",
       "      <td>2020</td>\n",
       "      <td>Petrol</td>\n",
       "      <td>Automatic</td>\n",
       "      <td>8307</td>\n",
       "      <td>London</td>\n",
       "    </tr>\n",
       "    <tr>\n",
       "      <th>9977</th>\n",
       "      <td>9977</td>\n",
       "      <td>Mercedes-Benz A Class 1.3L AMG Line A200</td>\n",
       "      <td>25425</td>\n",
       "      <td>2019</td>\n",
       "      <td>Petrol</td>\n",
       "      <td>Automatic</td>\n",
       "      <td>2743</td>\n",
       "      <td>London</td>\n",
       "    </tr>\n",
       "    <tr>\n",
       "      <th>9978</th>\n",
       "      <td>9978</td>\n",
       "      <td>Mercedes-Benz A Class 1.5L AMG Line A180d</td>\n",
       "      <td>25425</td>\n",
       "      <td>2020</td>\n",
       "      <td>Electric</td>\n",
       "      <td>Automatic</td>\n",
       "      <td>11250</td>\n",
       "      <td>London</td>\n",
       "    </tr>\n",
       "    <tr>\n",
       "      <th>9979</th>\n",
       "      <td>9979</td>\n",
       "      <td>Mercedes-Benz A Class 1.3L AMG Line A200</td>\n",
       "      <td>25350</td>\n",
       "      <td>2019</td>\n",
       "      <td>Diesel</td>\n",
       "      <td>Manual</td>\n",
       "      <td>13398</td>\n",
       "      <td>London</td>\n",
       "    </tr>\n",
       "  </tbody>\n",
       "</table>\n",
       "<p>9980 rows × 8 columns</p>\n",
       "</div>"
      ],
      "text/plain": [
       "      Unnamed: 0                                      Brand  Price  Year  \\\n",
       "0              0           Mercedes-Benz A Class 2L AMG A35  26925  2018   \n",
       "1              1             Toyota Yaris 1.6L GR Circuit T  26850  2015   \n",
       "2              2             Toyota Yaris 1.6L GR Circuit T  26725  2020   \n",
       "3              3                      BMW 1 Series 2L M135i  26400  2019   \n",
       "4              4                      BMW 1 Series 2L M135i  26375  2018   \n",
       "...          ...                                        ...    ...   ...   \n",
       "9975        9975  Mercedes-Benz A Class 1.5L AMG Line A180d  25500  2020   \n",
       "9976        9976   Mercedes-Benz A Class 1.3L AMG Line A180  25500  2020   \n",
       "9977        9977   Mercedes-Benz A Class 1.3L AMG Line A200  25425  2019   \n",
       "9978        9978  Mercedes-Benz A Class 1.5L AMG Line A180d  25425  2020   \n",
       "9979        9979   Mercedes-Benz A Class 1.3L AMG Line A200  25350  2019   \n",
       "\n",
       "          Fuel Transmission  Running KM Location  \n",
       "0       Petrol    Automatic        8015   London  \n",
       "1       Petrol    Automatic       11718   London  \n",
       "2       Petrol       Manual       24308   London  \n",
       "3       Petrol    Automatic       10849   London  \n",
       "4       Petrol    Automatic       21716   London  \n",
       "...        ...          ...         ...      ...  \n",
       "9975    Petrol    Automatic       11605   London  \n",
       "9976    Petrol    Automatic        8307   London  \n",
       "9977    Petrol    Automatic        2743   London  \n",
       "9978  Electric    Automatic       11250   London  \n",
       "9979    Diesel       Manual       13398   London  \n",
       "\n",
       "[9980 rows x 8 columns]"
      ]
     },
     "execution_count": 2,
     "metadata": {},
     "output_type": "execute_result"
    }
   ],
   "source": [
    "# Loading the dataset,\n",
    "\n",
    "df = pd.read_excel(\"UsedCar.xlsx\")\n",
    "df"
   ]
  },
  {
   "cell_type": "markdown",
   "id": "7eed1b28",
   "metadata": {},
   "source": [
    "Total we have 9980 rows and 8 columns in a dataset"
   ]
  },
  {
   "cell_type": "code",
   "execution_count": 3,
   "id": "6b79fad6",
   "metadata": {},
   "outputs": [
    {
     "data": {
      "text/html": [
       "<div>\n",
       "<style scoped>\n",
       "    .dataframe tbody tr th:only-of-type {\n",
       "        vertical-align: middle;\n",
       "    }\n",
       "\n",
       "    .dataframe tbody tr th {\n",
       "        vertical-align: top;\n",
       "    }\n",
       "\n",
       "    .dataframe thead th {\n",
       "        text-align: right;\n",
       "    }\n",
       "</style>\n",
       "<table border=\"1\" class=\"dataframe\">\n",
       "  <thead>\n",
       "    <tr style=\"text-align: right;\">\n",
       "      <th></th>\n",
       "      <th>Brand</th>\n",
       "      <th>Price</th>\n",
       "      <th>Year</th>\n",
       "      <th>Fuel</th>\n",
       "      <th>Transmission</th>\n",
       "      <th>Running KM</th>\n",
       "      <th>Location</th>\n",
       "    </tr>\n",
       "  </thead>\n",
       "  <tbody>\n",
       "    <tr>\n",
       "      <th>0</th>\n",
       "      <td>Mercedes-Benz A Class 2L AMG A35</td>\n",
       "      <td>26925</td>\n",
       "      <td>2018</td>\n",
       "      <td>Petrol</td>\n",
       "      <td>Automatic</td>\n",
       "      <td>8015</td>\n",
       "      <td>London</td>\n",
       "    </tr>\n",
       "    <tr>\n",
       "      <th>1</th>\n",
       "      <td>Toyota Yaris 1.6L GR Circuit T</td>\n",
       "      <td>26850</td>\n",
       "      <td>2015</td>\n",
       "      <td>Petrol</td>\n",
       "      <td>Automatic</td>\n",
       "      <td>11718</td>\n",
       "      <td>London</td>\n",
       "    </tr>\n",
       "    <tr>\n",
       "      <th>2</th>\n",
       "      <td>Toyota Yaris 1.6L GR Circuit T</td>\n",
       "      <td>26725</td>\n",
       "      <td>2020</td>\n",
       "      <td>Petrol</td>\n",
       "      <td>Manual</td>\n",
       "      <td>24308</td>\n",
       "      <td>London</td>\n",
       "    </tr>\n",
       "    <tr>\n",
       "      <th>3</th>\n",
       "      <td>BMW 1 Series 2L M135i</td>\n",
       "      <td>26400</td>\n",
       "      <td>2019</td>\n",
       "      <td>Petrol</td>\n",
       "      <td>Automatic</td>\n",
       "      <td>10849</td>\n",
       "      <td>London</td>\n",
       "    </tr>\n",
       "    <tr>\n",
       "      <th>4</th>\n",
       "      <td>BMW 1 Series 2L M135i</td>\n",
       "      <td>26375</td>\n",
       "      <td>2018</td>\n",
       "      <td>Petrol</td>\n",
       "      <td>Automatic</td>\n",
       "      <td>21716</td>\n",
       "      <td>London</td>\n",
       "    </tr>\n",
       "  </tbody>\n",
       "</table>\n",
       "</div>"
      ],
      "text/plain": [
       "                              Brand  Price  Year    Fuel Transmission  \\\n",
       "0  Mercedes-Benz A Class 2L AMG A35  26925  2018  Petrol    Automatic   \n",
       "1    Toyota Yaris 1.6L GR Circuit T  26850  2015  Petrol    Automatic   \n",
       "2    Toyota Yaris 1.6L GR Circuit T  26725  2020  Petrol       Manual   \n",
       "3             BMW 1 Series 2L M135i  26400  2019  Petrol    Automatic   \n",
       "4             BMW 1 Series 2L M135i  26375  2018  Petrol    Automatic   \n",
       "\n",
       "   Running KM Location  \n",
       "0        8015   London  \n",
       "1       11718   London  \n",
       "2       24308   London  \n",
       "3       10849   London  \n",
       "4       21716   London  "
      ]
     },
     "execution_count": 3,
     "metadata": {},
     "output_type": "execute_result"
    }
   ],
   "source": [
    "#dropping unwanted columns as it will not have any impact,\n",
    "df = df.drop(columns = ['Unnamed: 0'], axis = 1)\n",
    "df.head()"
   ]
  },
  {
   "cell_type": "markdown",
   "id": "be78d036",
   "metadata": {},
   "source": [
    "unnamed column has no use in the dataset so we dropped that column from a dataset"
   ]
  },
  {
   "cell_type": "code",
   "execution_count": 4,
   "id": "937a8b61",
   "metadata": {},
   "outputs": [
    {
     "name": "stdout",
     "output_type": "stream",
     "text": [
      "<class 'pandas.core.frame.DataFrame'>\n",
      "RangeIndex: 9980 entries, 0 to 9979\n",
      "Data columns (total 7 columns):\n",
      " #   Column        Non-Null Count  Dtype \n",
      "---  ------        --------------  ----- \n",
      " 0   Brand         9980 non-null   object\n",
      " 1   Price         9980 non-null   int64 \n",
      " 2   Year          9980 non-null   int64 \n",
      " 3   Fuel          9980 non-null   object\n",
      " 4   Transmission  9980 non-null   object\n",
      " 5   Running KM    9980 non-null   int64 \n",
      " 6   Location      9980 non-null   object\n",
      "dtypes: int64(3), object(4)\n",
      "memory usage: 545.9+ KB\n"
     ]
    }
   ],
   "source": [
    "# cheking infpormation of the each column in dataset\n",
    "\n",
    "df.info()"
   ]
  },
  {
   "cell_type": "markdown",
   "id": "671bb648",
   "metadata": {},
   "source": [
    "information o f the datset tells there are no null values present in a dataset and total 9980 rows and 7 columns in a dataset and dtype of dataset is int type-1 and object type are 6"
   ]
  },
  {
   "cell_type": "code",
   "execution_count": 5,
   "id": "9473d4f3",
   "metadata": {},
   "outputs": [
    {
     "data": {
      "text/plain": [
       "Brand           0\n",
       "Price           0\n",
       "Year            0\n",
       "Fuel            0\n",
       "Transmission    0\n",
       "Running KM      0\n",
       "Location        0\n",
       "dtype: int64"
      ]
     },
     "execution_count": 5,
     "metadata": {},
     "output_type": "execute_result"
    }
   ],
   "source": [
    "# Checking is there any null values present in dataset\n",
    "\n",
    "df.isnull().sum()"
   ]
  },
  {
   "cell_type": "markdown",
   "id": "69f70055",
   "metadata": {},
   "source": [
    "no null values in a datset"
   ]
  },
  {
   "cell_type": "code",
   "execution_count": 6,
   "id": "90d2ee15",
   "metadata": {},
   "outputs": [
    {
     "data": {
      "text/plain": [
       "<AxesSubplot:>"
      ]
     },
     "execution_count": 6,
     "metadata": {},
     "output_type": "execute_result"
    },
    {
     "data": {
      "image/png": "[encoded data removed]",
      "text/plain": [
       "<Figure size 432x288 with 2 Axes>"
      ]
     },
     "metadata": {
      "needs_background": "light"
     },
     "output_type": "display_data"
    }
   ],
   "source": [
    "#now check null with heatmap\n",
    "\n",
    "sns.heatmap(df.isnull())"
   ]
  },
  {
   "cell_type": "markdown",
   "id": "818c6c59",
   "metadata": {},
   "source": [
    "# EDA"
   ]
  },
  {
   "cell_type": "code",
   "execution_count": 7,
   "id": "d3d54633",
   "metadata": {},
   "outputs": [
    {
     "data": {
      "image/png": "[encoded data removed]",
      "text/plain": [
       "<Figure size 432x288 with 1 Axes>"
      ]
     },
     "metadata": {},
     "output_type": "display_data"
    }
   ],
   "source": [
    "#let’s visualize the barplot of brand,price using Seaborn\n",
    "sns.set_theme()\n",
    "sns.barplot(x = 'Brand', y = 'Price', data = df)\n",
    "plt.xticks(rotation = 90)\n",
    "plt.show()"
   ]
  },
  {
   "cell_type": "markdown",
   "id": "d147ef32",
   "metadata": {},
   "source": [
    "Almost all car brands are in demand but among all popular brands,Mercedes,Toyota,BMW, are having high price than other brand cars."
   ]
  },
  {
   "cell_type": "code",
   "execution_count": 8,
   "id": "94ba9222",
   "metadata": {},
   "outputs": [
    {
     "data": {
      "image/png": "[encoded data removed]",
      "text/plain": [
       "<Figure size 432x288 with 1 Axes>"
      ]
     },
     "metadata": {},
     "output_type": "display_data"
    }
   ],
   "source": [
    "#let's visualize the count of Year using seaborn\n",
    "sns.set_theme()\n",
    "sns.countplot(x = df['Year'])\n",
    "plt.xticks(rotation = 90)\n",
    "plt.show()"
   ]
  },
  {
   "cell_type": "markdown",
   "id": "ee624f77",
   "metadata": {},
   "source": [
    "We can see from the below plot that most of the car registered year is from 2018,2019 and 2020."
   ]
  },
  {
   "cell_type": "code",
   "execution_count": 9,
   "id": "2fea924a",
   "metadata": {},
   "outputs": [
    {
     "data": {
      "image/png": "[encoded data removed]",
      "text/plain": [
       "<Figure size 432x288 with 1 Axes>"
      ]
     },
     "metadata": {},
     "output_type": "display_data"
    }
   ],
   "source": [
    "#let's visualize the barplot of fuel,price using seaborn\n",
    "sns.set_theme()\n",
    "sns.barplot(x = 'Fuel', y = 'Price', data = df)\n",
    "plt.xticks(rotation = 90)\n",
    "plt.show()"
   ]
  },
  {
   "cell_type": "markdown",
   "id": "8ded8611",
   "metadata": {},
   "source": [
    "most of the cars are having fuel type is Electric,Diesel and petrol."
   ]
  },
  {
   "cell_type": "code",
   "execution_count": 10,
   "id": "0092b2e1",
   "metadata": {},
   "outputs": [
    {
     "data": {
      "image/png": "[encoded data removed]",
      "text/plain": [
       "<Figure size 432x288 with 1 Axes>"
      ]
     },
     "metadata": {},
     "output_type": "display_data"
    }
   ],
   "source": [
    "#let's visualize the barplot of Transmission,price using seaborn\n",
    "sns.set_theme()\n",
    "sns.barplot(x = 'Transmission', y = 'Price', data = df)\n",
    "plt.xticks(rotation = 90)\n",
    "plt.show()"
   ]
  },
  {
   "cell_type": "markdown",
   "id": "bcaaf977",
   "metadata": {},
   "source": [
    "Most of the car transmission type is both Automatic and manual "
   ]
  },
  {
   "cell_type": "code",
   "execution_count": 11,
   "id": "8646d189",
   "metadata": {},
   "outputs": [
    {
     "data": {
      "image/png": "[encoded data removed]",
      "text/plain": [
       "<Figure size 432x288 with 1 Axes>"
      ]
     },
     "metadata": {},
     "output_type": "display_data"
    }
   ],
   "source": [
    "#let's visualize the barplot of Running KM,price using seaborn\n",
    "sns.set_theme()\n",
    "sns.barplot(x = 'Running KM', y = 'Price', data = df)\n",
    "plt.xticks(rotation = 90)\n",
    "plt.show()"
   ]
  },
  {
   "cell_type": "markdown",
   "id": "8e43d934",
   "metadata": {},
   "source": [
    "Most of the car transmission type is Automatic and the car which has minimum of > 1700 KM is having price of\n",
    "> 25000 Euros.\n"
   ]
  },
  {
   "cell_type": "code",
   "execution_count": 12,
   "id": "424a6948",
   "metadata": {},
   "outputs": [
    {
     "data": {
      "text/plain": [
       "array([[<AxesSubplot:title={'center':'Price'}>,\n",
       "        <AxesSubplot:title={'center':'Year'}>],\n",
       "       [<AxesSubplot:title={'center':'Running KM'}>, <AxesSubplot:>]],\n",
       "      dtype=object)"
      ]
     },
     "execution_count": 12,
     "metadata": {},
     "output_type": "execute_result"
    },
    {
     "data": {
      "image/png": "[encoded data removed]",
      "text/plain": [
       "<Figure size 720x720 with 4 Axes>"
      ]
     },
     "metadata": {},
     "output_type": "display_data"
    }
   ],
   "source": [
    "df.hist(bins = 20, figsize = (10,10))"
   ]
  },
  {
   "cell_type": "code",
   "execution_count": 13,
   "id": "b08f3992",
   "metadata": {},
   "outputs": [],
   "source": [
    "# SPlitting numerical and categorical data\n",
    "\n",
    "num = df.select_dtypes(exclude = object)\n",
    "cat = df.select_dtypes(include = object)"
   ]
  },
  {
   "cell_type": "code",
   "execution_count": 14,
   "id": "ae8a50b1",
   "metadata": {},
   "outputs": [],
   "source": [
    "# Applying label Encoder to encode categorical into numerical\n",
    "from sklearn.preprocessing import LabelEncoder\n",
    "\n",
    "le = LabelEncoder()\n",
    "cat = cat.apply(le.fit_transform)"
   ]
  },
  {
   "cell_type": "code",
   "execution_count": 15,
   "id": "66b58c67",
   "metadata": {},
   "outputs": [
    {
     "data": {
      "text/html": [
       "<div>\n",
       "<style scoped>\n",
       "    .dataframe tbody tr th:only-of-type {\n",
       "        vertical-align: middle;\n",
       "    }\n",
       "\n",
       "    .dataframe tbody tr th {\n",
       "        vertical-align: top;\n",
       "    }\n",
       "\n",
       "    .dataframe thead th {\n",
       "        text-align: right;\n",
       "    }\n",
       "</style>\n",
       "<table border=\"1\" class=\"dataframe\">\n",
       "  <thead>\n",
       "    <tr style=\"text-align: right;\">\n",
       "      <th></th>\n",
       "      <th>Brand</th>\n",
       "      <th>Fuel</th>\n",
       "      <th>Transmission</th>\n",
       "      <th>Location</th>\n",
       "    </tr>\n",
       "  </thead>\n",
       "  <tbody>\n",
       "    <tr>\n",
       "      <th>0</th>\n",
       "      <td>6</td>\n",
       "      <td>2</td>\n",
       "      <td>0</td>\n",
       "      <td>0</td>\n",
       "    </tr>\n",
       "    <tr>\n",
       "      <th>1</th>\n",
       "      <td>9</td>\n",
       "      <td>2</td>\n",
       "      <td>0</td>\n",
       "      <td>0</td>\n",
       "    </tr>\n",
       "    <tr>\n",
       "      <th>2</th>\n",
       "      <td>9</td>\n",
       "      <td>2</td>\n",
       "      <td>1</td>\n",
       "      <td>0</td>\n",
       "    </tr>\n",
       "    <tr>\n",
       "      <th>3</th>\n",
       "      <td>1</td>\n",
       "      <td>2</td>\n",
       "      <td>0</td>\n",
       "      <td>0</td>\n",
       "    </tr>\n",
       "    <tr>\n",
       "      <th>4</th>\n",
       "      <td>1</td>\n",
       "      <td>2</td>\n",
       "      <td>0</td>\n",
       "      <td>0</td>\n",
       "    </tr>\n",
       "    <tr>\n",
       "      <th>...</th>\n",
       "      <td>...</td>\n",
       "      <td>...</td>\n",
       "      <td>...</td>\n",
       "      <td>...</td>\n",
       "    </tr>\n",
       "    <tr>\n",
       "      <th>9975</th>\n",
       "      <td>5</td>\n",
       "      <td>2</td>\n",
       "      <td>0</td>\n",
       "      <td>0</td>\n",
       "    </tr>\n",
       "    <tr>\n",
       "      <th>9976</th>\n",
       "      <td>3</td>\n",
       "      <td>2</td>\n",
       "      <td>0</td>\n",
       "      <td>0</td>\n",
       "    </tr>\n",
       "    <tr>\n",
       "      <th>9977</th>\n",
       "      <td>4</td>\n",
       "      <td>2</td>\n",
       "      <td>0</td>\n",
       "      <td>0</td>\n",
       "    </tr>\n",
       "    <tr>\n",
       "      <th>9978</th>\n",
       "      <td>5</td>\n",
       "      <td>1</td>\n",
       "      <td>0</td>\n",
       "      <td>0</td>\n",
       "    </tr>\n",
       "    <tr>\n",
       "      <th>9979</th>\n",
       "      <td>4</td>\n",
       "      <td>0</td>\n",
       "      <td>1</td>\n",
       "      <td>0</td>\n",
       "    </tr>\n",
       "  </tbody>\n",
       "</table>\n",
       "<p>9980 rows × 4 columns</p>\n",
       "</div>"
      ],
      "text/plain": [
       "      Brand  Fuel  Transmission  Location\n",
       "0         6     2             0         0\n",
       "1         9     2             0         0\n",
       "2         9     2             1         0\n",
       "3         1     2             0         0\n",
       "4         1     2             0         0\n",
       "...     ...   ...           ...       ...\n",
       "9975      5     2             0         0\n",
       "9976      3     2             0         0\n",
       "9977      4     2             0         0\n",
       "9978      5     1             0         0\n",
       "9979      4     0             1         0\n",
       "\n",
       "[9980 rows x 4 columns]"
      ]
     },
     "execution_count": 15,
     "metadata": {},
     "output_type": "execute_result"
    }
   ],
   "source": [
    "cat"
   ]
  },
  {
   "cell_type": "code",
   "execution_count": 16,
   "id": "638dc707",
   "metadata": {},
   "outputs": [
    {
     "data": {
      "text/html": [
       "<div>\n",
       "<style scoped>\n",
       "    .dataframe tbody tr th:only-of-type {\n",
       "        vertical-align: middle;\n",
       "    }\n",
       "\n",
       "    .dataframe tbody tr th {\n",
       "        vertical-align: top;\n",
       "    }\n",
       "\n",
       "    .dataframe thead th {\n",
       "        text-align: right;\n",
       "    }\n",
       "</style>\n",
       "<table border=\"1\" class=\"dataframe\">\n",
       "  <thead>\n",
       "    <tr style=\"text-align: right;\">\n",
       "      <th></th>\n",
       "      <th>Price</th>\n",
       "      <th>Year</th>\n",
       "      <th>Running KM</th>\n",
       "    </tr>\n",
       "  </thead>\n",
       "  <tbody>\n",
       "    <tr>\n",
       "      <th>0</th>\n",
       "      <td>26925</td>\n",
       "      <td>2018</td>\n",
       "      <td>8015</td>\n",
       "    </tr>\n",
       "    <tr>\n",
       "      <th>1</th>\n",
       "      <td>26850</td>\n",
       "      <td>2015</td>\n",
       "      <td>11718</td>\n",
       "    </tr>\n",
       "    <tr>\n",
       "      <th>2</th>\n",
       "      <td>26725</td>\n",
       "      <td>2020</td>\n",
       "      <td>24308</td>\n",
       "    </tr>\n",
       "    <tr>\n",
       "      <th>3</th>\n",
       "      <td>26400</td>\n",
       "      <td>2019</td>\n",
       "      <td>10849</td>\n",
       "    </tr>\n",
       "    <tr>\n",
       "      <th>4</th>\n",
       "      <td>26375</td>\n",
       "      <td>2018</td>\n",
       "      <td>21716</td>\n",
       "    </tr>\n",
       "    <tr>\n",
       "      <th>...</th>\n",
       "      <td>...</td>\n",
       "      <td>...</td>\n",
       "      <td>...</td>\n",
       "    </tr>\n",
       "    <tr>\n",
       "      <th>9975</th>\n",
       "      <td>25500</td>\n",
       "      <td>2020</td>\n",
       "      <td>11605</td>\n",
       "    </tr>\n",
       "    <tr>\n",
       "      <th>9976</th>\n",
       "      <td>25500</td>\n",
       "      <td>2020</td>\n",
       "      <td>8307</td>\n",
       "    </tr>\n",
       "    <tr>\n",
       "      <th>9977</th>\n",
       "      <td>25425</td>\n",
       "      <td>2019</td>\n",
       "      <td>2743</td>\n",
       "    </tr>\n",
       "    <tr>\n",
       "      <th>9978</th>\n",
       "      <td>25425</td>\n",
       "      <td>2020</td>\n",
       "      <td>11250</td>\n",
       "    </tr>\n",
       "    <tr>\n",
       "      <th>9979</th>\n",
       "      <td>25350</td>\n",
       "      <td>2019</td>\n",
       "      <td>13398</td>\n",
       "    </tr>\n",
       "  </tbody>\n",
       "</table>\n",
       "<p>9980 rows × 3 columns</p>\n",
       "</div>"
      ],
      "text/plain": [
       "      Price  Year  Running KM\n",
       "0     26925  2018        8015\n",
       "1     26850  2015       11718\n",
       "2     26725  2020       24308\n",
       "3     26400  2019       10849\n",
       "4     26375  2018       21716\n",
       "...     ...   ...         ...\n",
       "9975  25500  2020       11605\n",
       "9976  25500  2020        8307\n",
       "9977  25425  2019        2743\n",
       "9978  25425  2020       11250\n",
       "9979  25350  2019       13398\n",
       "\n",
       "[9980 rows x 3 columns]"
      ]
     },
     "execution_count": 16,
     "metadata": {},
     "output_type": "execute_result"
    }
   ],
   "source": [
    "num"
   ]
  },
  {
   "cell_type": "code",
   "execution_count": 17,
   "id": "aa110088",
   "metadata": {},
   "outputs": [
    {
     "data": {
      "image/png": "[encoded data removed]",
      "text/plain": [
       "<Figure size 720x720 with 3 Axes>"
      ]
     },
     "metadata": {},
     "output_type": "display_data"
    }
   ],
   "source": [
    "plt.figure(figsize = (10,10))\n",
    "pltnumber = 1\n",
    "                                            # boxplot for numerical columns for train dataset\n",
    "for column in num:\n",
    "    if pltnumber<=4:\n",
    "        ax = plt.subplot(2,2,pltnumber)\n",
    "        sns.boxplot(num[column])\n",
    "        plt.xlabel(column,fontsize=12)\n",
    "        pltnumber+=1\n",
    "plt.tight_layout()"
   ]
  },
  {
   "cell_type": "code",
   "execution_count": 18,
   "id": "a6c35d0f",
   "metadata": {},
   "outputs": [
    {
     "data": {
      "text/html": [
       "<div>\n",
       "<style scoped>\n",
       "    .dataframe tbody tr th:only-of-type {\n",
       "        vertical-align: middle;\n",
       "    }\n",
       "\n",
       "    .dataframe tbody tr th {\n",
       "        vertical-align: top;\n",
       "    }\n",
       "\n",
       "    .dataframe thead th {\n",
       "        text-align: right;\n",
       "    }\n",
       "</style>\n",
       "<table border=\"1\" class=\"dataframe\">\n",
       "  <thead>\n",
       "    <tr style=\"text-align: right;\">\n",
       "      <th></th>\n",
       "      <th>Price</th>\n",
       "      <th>Year</th>\n",
       "      <th>Running KM</th>\n",
       "      <th>Brand</th>\n",
       "      <th>Fuel</th>\n",
       "      <th>Transmission</th>\n",
       "      <th>Location</th>\n",
       "    </tr>\n",
       "  </thead>\n",
       "  <tbody>\n",
       "    <tr>\n",
       "      <th>0</th>\n",
       "      <td>26925</td>\n",
       "      <td>2018</td>\n",
       "      <td>8015</td>\n",
       "      <td>6</td>\n",
       "      <td>2</td>\n",
       "      <td>0</td>\n",
       "      <td>0</td>\n",
       "    </tr>\n",
       "    <tr>\n",
       "      <th>1</th>\n",
       "      <td>26850</td>\n",
       "      <td>2015</td>\n",
       "      <td>11718</td>\n",
       "      <td>9</td>\n",
       "      <td>2</td>\n",
       "      <td>0</td>\n",
       "      <td>0</td>\n",
       "    </tr>\n",
       "    <tr>\n",
       "      <th>2</th>\n",
       "      <td>26725</td>\n",
       "      <td>2020</td>\n",
       "      <td>24308</td>\n",
       "      <td>9</td>\n",
       "      <td>2</td>\n",
       "      <td>1</td>\n",
       "      <td>0</td>\n",
       "    </tr>\n",
       "    <tr>\n",
       "      <th>3</th>\n",
       "      <td>26400</td>\n",
       "      <td>2019</td>\n",
       "      <td>10849</td>\n",
       "      <td>1</td>\n",
       "      <td>2</td>\n",
       "      <td>0</td>\n",
       "      <td>0</td>\n",
       "    </tr>\n",
       "    <tr>\n",
       "      <th>4</th>\n",
       "      <td>26375</td>\n",
       "      <td>2018</td>\n",
       "      <td>21716</td>\n",
       "      <td>1</td>\n",
       "      <td>2</td>\n",
       "      <td>0</td>\n",
       "      <td>0</td>\n",
       "    </tr>\n",
       "    <tr>\n",
       "      <th>...</th>\n",
       "      <td>...</td>\n",
       "      <td>...</td>\n",
       "      <td>...</td>\n",
       "      <td>...</td>\n",
       "      <td>...</td>\n",
       "      <td>...</td>\n",
       "      <td>...</td>\n",
       "    </tr>\n",
       "    <tr>\n",
       "      <th>9975</th>\n",
       "      <td>25500</td>\n",
       "      <td>2020</td>\n",
       "      <td>11605</td>\n",
       "      <td>5</td>\n",
       "      <td>2</td>\n",
       "      <td>0</td>\n",
       "      <td>0</td>\n",
       "    </tr>\n",
       "    <tr>\n",
       "      <th>9976</th>\n",
       "      <td>25500</td>\n",
       "      <td>2020</td>\n",
       "      <td>8307</td>\n",
       "      <td>3</td>\n",
       "      <td>2</td>\n",
       "      <td>0</td>\n",
       "      <td>0</td>\n",
       "    </tr>\n",
       "    <tr>\n",
       "      <th>9977</th>\n",
       "      <td>25425</td>\n",
       "      <td>2019</td>\n",
       "      <td>2743</td>\n",
       "      <td>4</td>\n",
       "      <td>2</td>\n",
       "      <td>0</td>\n",
       "      <td>0</td>\n",
       "    </tr>\n",
       "    <tr>\n",
       "      <th>9978</th>\n",
       "      <td>25425</td>\n",
       "      <td>2020</td>\n",
       "      <td>11250</td>\n",
       "      <td>5</td>\n",
       "      <td>1</td>\n",
       "      <td>0</td>\n",
       "      <td>0</td>\n",
       "    </tr>\n",
       "    <tr>\n",
       "      <th>9979</th>\n",
       "      <td>25350</td>\n",
       "      <td>2019</td>\n",
       "      <td>13398</td>\n",
       "      <td>4</td>\n",
       "      <td>0</td>\n",
       "      <td>1</td>\n",
       "      <td>0</td>\n",
       "    </tr>\n",
       "  </tbody>\n",
       "</table>\n",
       "<p>9980 rows × 7 columns</p>\n",
       "</div>"
      ],
      "text/plain": [
       "      Price  Year  Running KM  Brand  Fuel  Transmission  Location\n",
       "0     26925  2018        8015      6     2             0         0\n",
       "1     26850  2015       11718      9     2             0         0\n",
       "2     26725  2020       24308      9     2             1         0\n",
       "3     26400  2019       10849      1     2             0         0\n",
       "4     26375  2018       21716      1     2             0         0\n",
       "...     ...   ...         ...    ...   ...           ...       ...\n",
       "9975  25500  2020       11605      5     2             0         0\n",
       "9976  25500  2020        8307      3     2             0         0\n",
       "9977  25425  2019        2743      4     2             0         0\n",
       "9978  25425  2020       11250      5     1             0         0\n",
       "9979  25350  2019       13398      4     0             1         0\n",
       "\n",
       "[9980 rows x 7 columns]"
      ]
     },
     "execution_count": 18,
     "metadata": {},
     "output_type": "execute_result"
    }
   ],
   "source": [
    "# Merging Numerical and categorical dataset\n",
    "\n",
    "df1 = pd.concat([num,cat],axis = 1)\n",
    "df1"
   ]
  },
  {
   "cell_type": "code",
   "execution_count": 19,
   "id": "077bbb6d",
   "metadata": {},
   "outputs": [],
   "source": [
    "#remove location column froma a datset\n",
    "df1 = df1.drop(columns = ['Location'], axis = 1)"
   ]
  },
  {
   "cell_type": "code",
   "execution_count": 20,
   "id": "6050fbc7",
   "metadata": {},
   "outputs": [
    {
     "data": {
      "text/html": [
       "<div>\n",
       "<style scoped>\n",
       "    .dataframe tbody tr th:only-of-type {\n",
       "        vertical-align: middle;\n",
       "    }\n",
       "\n",
       "    .dataframe tbody tr th {\n",
       "        vertical-align: top;\n",
       "    }\n",
       "\n",
       "    .dataframe thead th {\n",
       "        text-align: right;\n",
       "    }\n",
       "</style>\n",
       "<table border=\"1\" class=\"dataframe\">\n",
       "  <thead>\n",
       "    <tr style=\"text-align: right;\">\n",
       "      <th></th>\n",
       "      <th>Price</th>\n",
       "      <th>Year</th>\n",
       "      <th>Running KM</th>\n",
       "      <th>Brand</th>\n",
       "      <th>Fuel</th>\n",
       "      <th>Transmission</th>\n",
       "    </tr>\n",
       "  </thead>\n",
       "  <tbody>\n",
       "    <tr>\n",
       "      <th>0</th>\n",
       "      <td>26925</td>\n",
       "      <td>2018</td>\n",
       "      <td>8015</td>\n",
       "      <td>6</td>\n",
       "      <td>2</td>\n",
       "      <td>0</td>\n",
       "    </tr>\n",
       "    <tr>\n",
       "      <th>1</th>\n",
       "      <td>26850</td>\n",
       "      <td>2015</td>\n",
       "      <td>11718</td>\n",
       "      <td>9</td>\n",
       "      <td>2</td>\n",
       "      <td>0</td>\n",
       "    </tr>\n",
       "    <tr>\n",
       "      <th>2</th>\n",
       "      <td>26725</td>\n",
       "      <td>2020</td>\n",
       "      <td>24308</td>\n",
       "      <td>9</td>\n",
       "      <td>2</td>\n",
       "      <td>1</td>\n",
       "    </tr>\n",
       "    <tr>\n",
       "      <th>3</th>\n",
       "      <td>26400</td>\n",
       "      <td>2019</td>\n",
       "      <td>10849</td>\n",
       "      <td>1</td>\n",
       "      <td>2</td>\n",
       "      <td>0</td>\n",
       "    </tr>\n",
       "    <tr>\n",
       "      <th>4</th>\n",
       "      <td>26375</td>\n",
       "      <td>2018</td>\n",
       "      <td>21716</td>\n",
       "      <td>1</td>\n",
       "      <td>2</td>\n",
       "      <td>0</td>\n",
       "    </tr>\n",
       "  </tbody>\n",
       "</table>\n",
       "</div>"
      ],
      "text/plain": [
       "   Price  Year  Running KM  Brand  Fuel  Transmission\n",
       "0  26925  2018        8015      6     2             0\n",
       "1  26850  2015       11718      9     2             0\n",
       "2  26725  2020       24308      9     2             1\n",
       "3  26400  2019       10849      1     2             0\n",
       "4  26375  2018       21716      1     2             0"
      ]
     },
     "execution_count": 20,
     "metadata": {},
     "output_type": "execute_result"
    }
   ],
   "source": [
    "#Checking the dataset\n",
    "df1.head()"
   ]
  },
  {
   "cell_type": "code",
   "execution_count": 21,
   "id": "99d3d8cd",
   "metadata": {},
   "outputs": [
    {
     "data": {
      "text/html": [
       "<div>\n",
       "<style scoped>\n",
       "    .dataframe tbody tr th:only-of-type {\n",
       "        vertical-align: middle;\n",
       "    }\n",
       "\n",
       "    .dataframe tbody tr th {\n",
       "        vertical-align: top;\n",
       "    }\n",
       "\n",
       "    .dataframe thead th {\n",
       "        text-align: right;\n",
       "    }\n",
       "</style>\n",
       "<table border=\"1\" class=\"dataframe\">\n",
       "  <thead>\n",
       "    <tr style=\"text-align: right;\">\n",
       "      <th></th>\n",
       "      <th>Price</th>\n",
       "      <th>Year</th>\n",
       "      <th>Running KM</th>\n",
       "      <th>Brand</th>\n",
       "      <th>Fuel</th>\n",
       "      <th>Transmission</th>\n",
       "    </tr>\n",
       "  </thead>\n",
       "  <tbody>\n",
       "    <tr>\n",
       "      <th>count</th>\n",
       "      <td>9980.000000</td>\n",
       "      <td>9980.000000</td>\n",
       "      <td>9980.000000</td>\n",
       "      <td>9980.000000</td>\n",
       "      <td>9980.000000</td>\n",
       "      <td>9980.000000</td>\n",
       "    </tr>\n",
       "    <tr>\n",
       "      <th>mean</th>\n",
       "      <td>25946.250000</td>\n",
       "      <td>2018.800000</td>\n",
       "      <td>12497.950000</td>\n",
       "      <td>3.750000</td>\n",
       "      <td>1.550000</td>\n",
       "      <td>0.150000</td>\n",
       "    </tr>\n",
       "    <tr>\n",
       "      <th>std</th>\n",
       "      <td>492.548471</td>\n",
       "      <td>1.166249</td>\n",
       "      <td>6623.659527</td>\n",
       "      <td>2.772773</td>\n",
       "      <td>0.668988</td>\n",
       "      <td>0.357089</td>\n",
       "    </tr>\n",
       "    <tr>\n",
       "      <th>min</th>\n",
       "      <td>25350.000000</td>\n",
       "      <td>2015.000000</td>\n",
       "      <td>1705.000000</td>\n",
       "      <td>0.000000</td>\n",
       "      <td>0.000000</td>\n",
       "      <td>0.000000</td>\n",
       "    </tr>\n",
       "    <tr>\n",
       "      <th>25%</th>\n",
       "      <td>25556.250000</td>\n",
       "      <td>2018.000000</td>\n",
       "      <td>8725.500000</td>\n",
       "      <td>1.000000</td>\n",
       "      <td>1.000000</td>\n",
       "      <td>0.000000</td>\n",
       "    </tr>\n",
       "    <tr>\n",
       "      <th>50%</th>\n",
       "      <td>25787.500000</td>\n",
       "      <td>2019.000000</td>\n",
       "      <td>11531.500000</td>\n",
       "      <td>3.500000</td>\n",
       "      <td>2.000000</td>\n",
       "      <td>0.000000</td>\n",
       "    </tr>\n",
       "    <tr>\n",
       "      <th>75%</th>\n",
       "      <td>26300.000000</td>\n",
       "      <td>2020.000000</td>\n",
       "      <td>14712.750000</td>\n",
       "      <td>5.250000</td>\n",
       "      <td>2.000000</td>\n",
       "      <td>0.000000</td>\n",
       "    </tr>\n",
       "    <tr>\n",
       "      <th>max</th>\n",
       "      <td>26925.000000</td>\n",
       "      <td>2020.000000</td>\n",
       "      <td>24551.000000</td>\n",
       "      <td>9.000000</td>\n",
       "      <td>2.000000</td>\n",
       "      <td>1.000000</td>\n",
       "    </tr>\n",
       "  </tbody>\n",
       "</table>\n",
       "</div>"
      ],
      "text/plain": [
       "              Price         Year    Running KM        Brand         Fuel  \\\n",
       "count   9980.000000  9980.000000   9980.000000  9980.000000  9980.000000   \n",
       "mean   25946.250000  2018.800000  12497.950000     3.750000     1.550000   \n",
       "std      492.548471     1.166249   6623.659527     2.772773     0.668988   \n",
       "min    25350.000000  2015.000000   1705.000000     0.000000     0.000000   \n",
       "25%    25556.250000  2018.000000   8725.500000     1.000000     1.000000   \n",
       "50%    25787.500000  2019.000000  11531.500000     3.500000     2.000000   \n",
       "75%    26300.000000  2020.000000  14712.750000     5.250000     2.000000   \n",
       "max    26925.000000  2020.000000  24551.000000     9.000000     2.000000   \n",
       "\n",
       "       Transmission  \n",
       "count   9980.000000  \n",
       "mean       0.150000  \n",
       "std        0.357089  \n",
       "min        0.000000  \n",
       "25%        0.000000  \n",
       "50%        0.000000  \n",
       "75%        0.000000  \n",
       "max        1.000000  "
      ]
     },
     "execution_count": 21,
     "metadata": {},
     "output_type": "execute_result"
    }
   ],
   "source": [
    "#Statistical summary of the dataset\n",
    "df1.describe()"
   ]
  },
  {
   "cell_type": "code",
   "execution_count": 22,
   "id": "f51f4e5d",
   "metadata": {},
   "outputs": [
    {
     "data": {
      "text/html": [
       "<div>\n",
       "<style scoped>\n",
       "    .dataframe tbody tr th:only-of-type {\n",
       "        vertical-align: middle;\n",
       "    }\n",
       "\n",
       "    .dataframe tbody tr th {\n",
       "        vertical-align: top;\n",
       "    }\n",
       "\n",
       "    .dataframe thead th {\n",
       "        text-align: right;\n",
       "    }\n",
       "</style>\n",
       "<table border=\"1\" class=\"dataframe\">\n",
       "  <thead>\n",
       "    <tr style=\"text-align: right;\">\n",
       "      <th></th>\n",
       "      <th>Price</th>\n",
       "      <th>Year</th>\n",
       "      <th>Running KM</th>\n",
       "      <th>Brand</th>\n",
       "      <th>Fuel</th>\n",
       "      <th>Transmission</th>\n",
       "    </tr>\n",
       "  </thead>\n",
       "  <tbody>\n",
       "    <tr>\n",
       "      <th>Price</th>\n",
       "      <td>1.000000</td>\n",
       "      <td>-0.490967</td>\n",
       "      <td>0.322096</td>\n",
       "      <td>0.296804</td>\n",
       "      <td>0.408414</td>\n",
       "      <td>-0.053663</td>\n",
       "    </tr>\n",
       "    <tr>\n",
       "      <th>Year</th>\n",
       "      <td>-0.490967</td>\n",
       "      <td>1.000000</td>\n",
       "      <td>0.123664</td>\n",
       "      <td>-0.355661</td>\n",
       "      <td>-0.243550</td>\n",
       "      <td>0.192117</td>\n",
       "    </tr>\n",
       "    <tr>\n",
       "      <th>Running KM</th>\n",
       "      <td>0.322096</td>\n",
       "      <td>0.123664</td>\n",
       "      <td>1.000000</td>\n",
       "      <td>0.020006</td>\n",
       "      <td>-0.075783</td>\n",
       "      <td>0.246726</td>\n",
       "    </tr>\n",
       "    <tr>\n",
       "      <th>Brand</th>\n",
       "      <td>0.296804</td>\n",
       "      <td>-0.355661</td>\n",
       "      <td>0.020006</td>\n",
       "      <td>1.000000</td>\n",
       "      <td>0.235879</td>\n",
       "      <td>0.189389</td>\n",
       "    </tr>\n",
       "    <tr>\n",
       "      <th>Fuel</th>\n",
       "      <td>0.408414</td>\n",
       "      <td>-0.243550</td>\n",
       "      <td>-0.075783</td>\n",
       "      <td>0.235879</td>\n",
       "      <td>1.000000</td>\n",
       "      <td>-0.136060</td>\n",
       "    </tr>\n",
       "    <tr>\n",
       "      <th>Transmission</th>\n",
       "      <td>-0.053663</td>\n",
       "      <td>0.192117</td>\n",
       "      <td>0.246726</td>\n",
       "      <td>0.189389</td>\n",
       "      <td>-0.136060</td>\n",
       "      <td>1.000000</td>\n",
       "    </tr>\n",
       "  </tbody>\n",
       "</table>\n",
       "</div>"
      ],
      "text/plain": [
       "                 Price      Year  Running KM     Brand      Fuel  Transmission\n",
       "Price         1.000000 -0.490967    0.322096  0.296804  0.408414     -0.053663\n",
       "Year         -0.490967  1.000000    0.123664 -0.355661 -0.243550      0.192117\n",
       "Running KM    0.322096  0.123664    1.000000  0.020006 -0.075783      0.246726\n",
       "Brand         0.296804 -0.355661    0.020006  1.000000  0.235879      0.189389\n",
       "Fuel          0.408414 -0.243550   -0.075783  0.235879  1.000000     -0.136060\n",
       "Transmission -0.053663  0.192117    0.246726  0.189389 -0.136060      1.000000"
      ]
     },
     "execution_count": 22,
     "metadata": {},
     "output_type": "execute_result"
    }
   ],
   "source": [
    "#Checking correlation of the dataset\n",
    "corr=df1.corr()  #corr() function provides the correlation value of each column\n",
    "corr"
   ]
  },
  {
   "cell_type": "code",
   "execution_count": 24,
   "id": "ccf82995",
   "metadata": {},
   "outputs": [
    {
     "data": {
      "image/png": "[encoded data removed]",
      "text/plain": [
       "<Figure size 1080x864 with 2 Axes>"
      ]
     },
     "metadata": {},
     "output_type": "display_data"
    }
   ],
   "source": [
    "#Plotting heatmap for visualizing the correlation\n",
    "plt.figure(figsize=(15,12))\n",
    "sns.heatmap(corr,linewidth=0.5,linecolor='black',fmt='.0%',annot=True)\n",
    "plt.show()"
   ]
  },
  {
   "cell_type": "code",
   "execution_count": 26,
   "id": "253ebd81",
   "metadata": {},
   "outputs": [
    {
     "data": {
      "text/plain": [
       "Price           0.622329\n",
       "Year           -1.498316\n",
       "Running KM      0.301375\n",
       "Brand           0.569237\n",
       "Fuel           -1.185218\n",
       "Transmission    1.960687\n",
       "dtype: float64"
      ]
     },
     "execution_count": 26,
     "metadata": {},
     "output_type": "execute_result"
    }
   ],
   "source": [
    "#checking the skewness\n",
    "df1.skew()"
   ]
  },
  {
   "cell_type": "code",
   "execution_count": 27,
   "id": "8612e62a",
   "metadata": {},
   "outputs": [
    {
     "data": {
      "text/plain": [
       "(array([   1,   21,   41,   61,   81,  101,  121,  141,  161,  181,  201,\n",
       "         221,  241,  261,  281,  301,  321,  341,  361,  381,  401,  421,\n",
       "         441,  461,  481,  501,  521,  541,  561,  581,  601,  621,  641,\n",
       "         661,  681,  701,  721,  741,  761,  781,  801,  821,  841,  861,\n",
       "         881,  901,  921,  941,  961,  981, 1001, 1021, 1041, 1061, 1081,\n",
       "        1101, 1121, 1141, 1161, 1181, 1201, 1221, 1241, 1261, 1281, 1301,\n",
       "        1321, 1341, 1361, 1381, 1401, 1421, 1441, 1461, 1481, 1501, 1521,\n",
       "        1541, 1561, 1581, 1601, 1621, 1641, 1661, 1681, 1701, 1721, 1741,\n",
       "        1761, 1781, 1801, 1821, 1841, 1861, 1881, 1901, 1921, 1941, 1961,\n",
       "        1981, 2001, 2021, 2041, 2061, 2081, 2101, 2121, 2141, 2161, 2181,\n",
       "        2201, 2221, 2241, 2261, 2281, 2301, 2321, 2341, 2361, 2381, 2401,\n",
       "        2421, 2441, 2461, 2481, 2501, 2521, 2541, 2561, 2581, 2601, 2621,\n",
       "        2641, 2661, 2681, 2701, 2721, 2741, 2761, 2781, 2801, 2821, 2841,\n",
       "        2861, 2881, 2901, 2921, 2941, 2961, 2981, 3001, 3021, 3041, 3061,\n",
       "        3081, 3101, 3121, 3141, 3161, 3181, 3201, 3221, 3241, 3261, 3281,\n",
       "        3301, 3321, 3341, 3361, 3381, 3401, 3421, 3441, 3461, 3481, 3501,\n",
       "        3521, 3541, 3561, 3581, 3601, 3621, 3641, 3661, 3681, 3701, 3721,\n",
       "        3741, 3761, 3781, 3801, 3821, 3841, 3861, 3881, 3901, 3921, 3941,\n",
       "        3961, 3981, 4001, 4021, 4041, 4061, 4081, 4101, 4121, 4141, 4161,\n",
       "        4181, 4201, 4221, 4241, 4261, 4281, 4301, 4321, 4341, 4361, 4381,\n",
       "        4401, 4421, 4441, 4461, 4481, 4501, 4521, 4541, 4561, 4581, 4601,\n",
       "        4621, 4641, 4661, 4681, 4701, 4721, 4741, 4761, 4781, 4801, 4821,\n",
       "        4841, 4861, 4881, 4901, 4921, 4941, 4961, 4981, 5001, 5021, 5041,\n",
       "        5061, 5081, 5101, 5121, 5141, 5161, 5181, 5201, 5221, 5241, 5261,\n",
       "        5281, 5301, 5321, 5341, 5361, 5381, 5401, 5421, 5441, 5461, 5481,\n",
       "        5501, 5521, 5541, 5561, 5581, 5601, 5621, 5641, 5661, 5681, 5701,\n",
       "        5721, 5741, 5761, 5781, 5801, 5821, 5841, 5861, 5881, 5901, 5921,\n",
       "        5941, 5961, 5981, 6001, 6021, 6041, 6061, 6081, 6101, 6121, 6141,\n",
       "        6161, 6181, 6201, 6221, 6241, 6261, 6281, 6301, 6321, 6341, 6361,\n",
       "        6381, 6401, 6421, 6441, 6461, 6481, 6501, 6521, 6541, 6561, 6581,\n",
       "        6601, 6621, 6641, 6661, 6681, 6701, 6721, 6741, 6761, 6781, 6801,\n",
       "        6821, 6841, 6861, 6881, 6901, 6921, 6941, 6961, 6981, 7001, 7021,\n",
       "        7041, 7061, 7081, 7101, 7121, 7141, 7161, 7181, 7201, 7221, 7241,\n",
       "        7261, 7281, 7301, 7321, 7341, 7361, 7381, 7401, 7421, 7441, 7461,\n",
       "        7481, 7501, 7521, 7541, 7561, 7581, 7601, 7621, 7641, 7661, 7681,\n",
       "        7701, 7721, 7741, 7761, 7781, 7801, 7821, 7841, 7861, 7881, 7901,\n",
       "        7921, 7941, 7961, 7981, 8001, 8021, 8041, 8061, 8081, 8101, 8121,\n",
       "        8141, 8161, 8181, 8201, 8221, 8241, 8261, 8281, 8301, 8321, 8341,\n",
       "        8361, 8381, 8401, 8421, 8441, 8461, 8481, 8501, 8521, 8541, 8561,\n",
       "        8581, 8601, 8621, 8641, 8661, 8681, 8701, 8721, 8741, 8761, 8781,\n",
       "        8801, 8821, 8841, 8861, 8881, 8901, 8921, 8941, 8961, 8981, 9001,\n",
       "        9021, 9041, 9061, 9081, 9101, 9121, 9141, 9161, 9181, 9201, 9221,\n",
       "        9241, 9261, 9281, 9301, 9321, 9341, 9361, 9381, 9401, 9421, 9441,\n",
       "        9461, 9481, 9501, 9521, 9541, 9561, 9581, 9601, 9621, 9641, 9661,\n",
       "        9681, 9701, 9721, 9741, 9761, 9781, 9801, 9821, 9841, 9861, 9881,\n",
       "        9901, 9921, 9941, 9961], dtype=int64),\n",
       " array([1, 1, 1, 1, 1, 1, 1, 1, 1, 1, 1, 1, 1, 1, 1, 1, 1, 1, 1, 1, 1, 1,\n",
       "        1, 1, 1, 1, 1, 1, 1, 1, 1, 1, 1, 1, 1, 1, 1, 1, 1, 1, 1, 1, 1, 1,\n",
       "        1, 1, 1, 1, 1, 1, 1, 1, 1, 1, 1, 1, 1, 1, 1, 1, 1, 1, 1, 1, 1, 1,\n",
       "        1, 1, 1, 1, 1, 1, 1, 1, 1, 1, 1, 1, 1, 1, 1, 1, 1, 1, 1, 1, 1, 1,\n",
       "        1, 1, 1, 1, 1, 1, 1, 1, 1, 1, 1, 1, 1, 1, 1, 1, 1, 1, 1, 1, 1, 1,\n",
       "        1, 1, 1, 1, 1, 1, 1, 1, 1, 1, 1, 1, 1, 1, 1, 1, 1, 1, 1, 1, 1, 1,\n",
       "        1, 1, 1, 1, 1, 1, 1, 1, 1, 1, 1, 1, 1, 1, 1, 1, 1, 1, 1, 1, 1, 1,\n",
       "        1, 1, 1, 1, 1, 1, 1, 1, 1, 1, 1, 1, 1, 1, 1, 1, 1, 1, 1, 1, 1, 1,\n",
       "        1, 1, 1, 1, 1, 1, 1, 1, 1, 1, 1, 1, 1, 1, 1, 1, 1, 1, 1, 1, 1, 1,\n",
       "        1, 1, 1, 1, 1, 1, 1, 1, 1, 1, 1, 1, 1, 1, 1, 1, 1, 1, 1, 1, 1, 1,\n",
       "        1, 1, 1, 1, 1, 1, 1, 1, 1, 1, 1, 1, 1, 1, 1, 1, 1, 1, 1, 1, 1, 1,\n",
       "        1, 1, 1, 1, 1, 1, 1, 1, 1, 1, 1, 1, 1, 1, 1, 1, 1, 1, 1, 1, 1, 1,\n",
       "        1, 1, 1, 1, 1, 1, 1, 1, 1, 1, 1, 1, 1, 1, 1, 1, 1, 1, 1, 1, 1, 1,\n",
       "        1, 1, 1, 1, 1, 1, 1, 1, 1, 1, 1, 1, 1, 1, 1, 1, 1, 1, 1, 1, 1, 1,\n",
       "        1, 1, 1, 1, 1, 1, 1, 1, 1, 1, 1, 1, 1, 1, 1, 1, 1, 1, 1, 1, 1, 1,\n",
       "        1, 1, 1, 1, 1, 1, 1, 1, 1, 1, 1, 1, 1, 1, 1, 1, 1, 1, 1, 1, 1, 1,\n",
       "        1, 1, 1, 1, 1, 1, 1, 1, 1, 1, 1, 1, 1, 1, 1, 1, 1, 1, 1, 1, 1, 1,\n",
       "        1, 1, 1, 1, 1, 1, 1, 1, 1, 1, 1, 1, 1, 1, 1, 1, 1, 1, 1, 1, 1, 1,\n",
       "        1, 1, 1, 1, 1, 1, 1, 1, 1, 1, 1, 1, 1, 1, 1, 1, 1, 1, 1, 1, 1, 1,\n",
       "        1, 1, 1, 1, 1, 1, 1, 1, 1, 1, 1, 1, 1, 1, 1, 1, 1, 1, 1, 1, 1, 1,\n",
       "        1, 1, 1, 1, 1, 1, 1, 1, 1, 1, 1, 1, 1, 1, 1, 1, 1, 1, 1, 1, 1, 1,\n",
       "        1, 1, 1, 1, 1, 1, 1, 1, 1, 1, 1, 1, 1, 1, 1, 1, 1, 1, 1, 1, 1, 1,\n",
       "        1, 1, 1, 1, 1, 1, 1, 1, 1, 1, 1, 1, 1, 1, 1], dtype=int64))"
      ]
     },
     "execution_count": 27,
     "metadata": {},
     "output_type": "execute_result"
    }
   ],
   "source": [
    "from scipy.stats import zscore\n",
    "import numpy as np\n",
    "z=np.abs(zscore(df1))   #converting all values into absolute values\n",
    "threshold=3    #setting up a threshold\n",
    "np.where(z>3)"
   ]
  },
  {
   "cell_type": "code",
   "execution_count": 29,
   "id": "827fbebd",
   "metadata": {},
   "outputs": [
    {
     "data": {
      "text/html": [
       "<div>\n",
       "<style scoped>\n",
       "    .dataframe tbody tr th:only-of-type {\n",
       "        vertical-align: middle;\n",
       "    }\n",
       "\n",
       "    .dataframe tbody tr th {\n",
       "        vertical-align: top;\n",
       "    }\n",
       "\n",
       "    .dataframe thead th {\n",
       "        text-align: right;\n",
       "    }\n",
       "</style>\n",
       "<table border=\"1\" class=\"dataframe\">\n",
       "  <thead>\n",
       "    <tr style=\"text-align: right;\">\n",
       "      <th></th>\n",
       "      <th>Price</th>\n",
       "      <th>Year</th>\n",
       "      <th>Running KM</th>\n",
       "      <th>Brand</th>\n",
       "      <th>Fuel</th>\n",
       "      <th>Transmission</th>\n",
       "    </tr>\n",
       "  </thead>\n",
       "  <tbody>\n",
       "    <tr>\n",
       "      <th>0</th>\n",
       "      <td>26925</td>\n",
       "      <td>2018</td>\n",
       "      <td>8015</td>\n",
       "      <td>6</td>\n",
       "      <td>2</td>\n",
       "      <td>0</td>\n",
       "    </tr>\n",
       "    <tr>\n",
       "      <th>2</th>\n",
       "      <td>26725</td>\n",
       "      <td>2020</td>\n",
       "      <td>24308</td>\n",
       "      <td>9</td>\n",
       "      <td>2</td>\n",
       "      <td>1</td>\n",
       "    </tr>\n",
       "    <tr>\n",
       "      <th>3</th>\n",
       "      <td>26400</td>\n",
       "      <td>2019</td>\n",
       "      <td>10849</td>\n",
       "      <td>1</td>\n",
       "      <td>2</td>\n",
       "      <td>0</td>\n",
       "    </tr>\n",
       "    <tr>\n",
       "      <th>4</th>\n",
       "      <td>26375</td>\n",
       "      <td>2018</td>\n",
       "      <td>21716</td>\n",
       "      <td>1</td>\n",
       "      <td>2</td>\n",
       "      <td>0</td>\n",
       "    </tr>\n",
       "    <tr>\n",
       "      <th>5</th>\n",
       "      <td>26275</td>\n",
       "      <td>2018</td>\n",
       "      <td>8865</td>\n",
       "      <td>1</td>\n",
       "      <td>2</td>\n",
       "      <td>0</td>\n",
       "    </tr>\n",
       "    <tr>\n",
       "      <th>...</th>\n",
       "      <td>...</td>\n",
       "      <td>...</td>\n",
       "      <td>...</td>\n",
       "      <td>...</td>\n",
       "      <td>...</td>\n",
       "      <td>...</td>\n",
       "    </tr>\n",
       "    <tr>\n",
       "      <th>9975</th>\n",
       "      <td>25500</td>\n",
       "      <td>2020</td>\n",
       "      <td>11605</td>\n",
       "      <td>5</td>\n",
       "      <td>2</td>\n",
       "      <td>0</td>\n",
       "    </tr>\n",
       "    <tr>\n",
       "      <th>9976</th>\n",
       "      <td>25500</td>\n",
       "      <td>2020</td>\n",
       "      <td>8307</td>\n",
       "      <td>3</td>\n",
       "      <td>2</td>\n",
       "      <td>0</td>\n",
       "    </tr>\n",
       "    <tr>\n",
       "      <th>9977</th>\n",
       "      <td>25425</td>\n",
       "      <td>2019</td>\n",
       "      <td>2743</td>\n",
       "      <td>4</td>\n",
       "      <td>2</td>\n",
       "      <td>0</td>\n",
       "    </tr>\n",
       "    <tr>\n",
       "      <th>9978</th>\n",
       "      <td>25425</td>\n",
       "      <td>2020</td>\n",
       "      <td>11250</td>\n",
       "      <td>5</td>\n",
       "      <td>1</td>\n",
       "      <td>0</td>\n",
       "    </tr>\n",
       "    <tr>\n",
       "      <th>9979</th>\n",
       "      <td>25350</td>\n",
       "      <td>2019</td>\n",
       "      <td>13398</td>\n",
       "      <td>4</td>\n",
       "      <td>0</td>\n",
       "      <td>1</td>\n",
       "    </tr>\n",
       "  </tbody>\n",
       "</table>\n",
       "<p>9481 rows × 6 columns</p>\n",
       "</div>"
      ],
      "text/plain": [
       "      Price  Year  Running KM  Brand  Fuel  Transmission\n",
       "0     26925  2018        8015      6     2             0\n",
       "2     26725  2020       24308      9     2             1\n",
       "3     26400  2019       10849      1     2             0\n",
       "4     26375  2018       21716      1     2             0\n",
       "5     26275  2018        8865      1     2             0\n",
       "...     ...   ...         ...    ...   ...           ...\n",
       "9975  25500  2020       11605      5     2             0\n",
       "9976  25500  2020        8307      3     2             0\n",
       "9977  25425  2019        2743      4     2             0\n",
       "9978  25425  2020       11250      5     1             0\n",
       "9979  25350  2019       13398      4     0             1\n",
       "\n",
       "[9481 rows x 6 columns]"
      ]
     },
     "execution_count": 29,
     "metadata": {},
     "output_type": "execute_result"
    }
   ],
   "source": [
    "#Removing outliers\n",
    "df_new=df1[(z<3).all(axis=1)]\n",
    "df_new"
   ]
  },
  {
   "cell_type": "code",
   "execution_count": 30,
   "id": "77ed788f",
   "metadata": {},
   "outputs": [
    {
     "data": {
      "text/plain": [
       "(9980, 7)"
      ]
     },
     "execution_count": 30,
     "metadata": {},
     "output_type": "execute_result"
    }
   ],
   "source": [
    "#Original data dimensions\n",
    "df.shape"
   ]
  },
  {
   "cell_type": "code",
   "execution_count": 31,
   "id": "182be4a5",
   "metadata": {},
   "outputs": [
    {
     "data": {
      "text/plain": [
       "(9481, 6)"
      ]
     },
     "execution_count": 31,
     "metadata": {},
     "output_type": "execute_result"
    }
   ],
   "source": [
    "#New data dimensions\n",
    "df_new.shape"
   ]
  },
  {
   "cell_type": "code",
   "execution_count": 32,
   "id": "488fc058",
   "metadata": {},
   "outputs": [
    {
     "name": "stdout",
     "output_type": "stream",
     "text": [
      "5.0\n"
     ]
    }
   ],
   "source": [
    "dfshape = 9980\n",
    "dfnewshape = 9481\n",
    "total = dfshape-dfnewshape\n",
    "percentage_loss=((total)/dfshape)*100   \n",
    "print(percentage_loss)"
   ]
  },
  {
   "cell_type": "code",
   "execution_count": 34,
   "id": "b7d3b20c",
   "metadata": {},
   "outputs": [
    {
     "data": {
      "text/html": [
       "<div>\n",
       "<style scoped>\n",
       "    .dataframe tbody tr th:only-of-type {\n",
       "        vertical-align: middle;\n",
       "    }\n",
       "\n",
       "    .dataframe tbody tr th {\n",
       "        vertical-align: top;\n",
       "    }\n",
       "\n",
       "    .dataframe thead th {\n",
       "        text-align: right;\n",
       "    }\n",
       "</style>\n",
       "<table border=\"1\" class=\"dataframe\">\n",
       "  <thead>\n",
       "    <tr style=\"text-align: right;\">\n",
       "      <th></th>\n",
       "      <th>Price</th>\n",
       "      <th>Year</th>\n",
       "      <th>Running KM</th>\n",
       "      <th>Brand</th>\n",
       "      <th>Fuel</th>\n",
       "      <th>Transmission</th>\n",
       "    </tr>\n",
       "  </thead>\n",
       "  <tbody>\n",
       "    <tr>\n",
       "      <th>0</th>\n",
       "      <td>26925</td>\n",
       "      <td>2018</td>\n",
       "      <td>8015</td>\n",
       "      <td>6</td>\n",
       "      <td>2</td>\n",
       "      <td>0</td>\n",
       "    </tr>\n",
       "    <tr>\n",
       "      <th>2</th>\n",
       "      <td>26725</td>\n",
       "      <td>2020</td>\n",
       "      <td>24308</td>\n",
       "      <td>9</td>\n",
       "      <td>2</td>\n",
       "      <td>1</td>\n",
       "    </tr>\n",
       "    <tr>\n",
       "      <th>3</th>\n",
       "      <td>26400</td>\n",
       "      <td>2019</td>\n",
       "      <td>10849</td>\n",
       "      <td>1</td>\n",
       "      <td>2</td>\n",
       "      <td>0</td>\n",
       "    </tr>\n",
       "    <tr>\n",
       "      <th>4</th>\n",
       "      <td>26375</td>\n",
       "      <td>2018</td>\n",
       "      <td>21716</td>\n",
       "      <td>1</td>\n",
       "      <td>2</td>\n",
       "      <td>0</td>\n",
       "    </tr>\n",
       "    <tr>\n",
       "      <th>5</th>\n",
       "      <td>26275</td>\n",
       "      <td>2018</td>\n",
       "      <td>8865</td>\n",
       "      <td>1</td>\n",
       "      <td>2</td>\n",
       "      <td>0</td>\n",
       "    </tr>\n",
       "    <tr>\n",
       "      <th>...</th>\n",
       "      <td>...</td>\n",
       "      <td>...</td>\n",
       "      <td>...</td>\n",
       "      <td>...</td>\n",
       "      <td>...</td>\n",
       "      <td>...</td>\n",
       "    </tr>\n",
       "    <tr>\n",
       "      <th>9975</th>\n",
       "      <td>25500</td>\n",
       "      <td>2020</td>\n",
       "      <td>11605</td>\n",
       "      <td>5</td>\n",
       "      <td>2</td>\n",
       "      <td>0</td>\n",
       "    </tr>\n",
       "    <tr>\n",
       "      <th>9976</th>\n",
       "      <td>25500</td>\n",
       "      <td>2020</td>\n",
       "      <td>8307</td>\n",
       "      <td>3</td>\n",
       "      <td>2</td>\n",
       "      <td>0</td>\n",
       "    </tr>\n",
       "    <tr>\n",
       "      <th>9977</th>\n",
       "      <td>25425</td>\n",
       "      <td>2019</td>\n",
       "      <td>2743</td>\n",
       "      <td>4</td>\n",
       "      <td>2</td>\n",
       "      <td>0</td>\n",
       "    </tr>\n",
       "    <tr>\n",
       "      <th>9978</th>\n",
       "      <td>25425</td>\n",
       "      <td>2020</td>\n",
       "      <td>11250</td>\n",
       "      <td>5</td>\n",
       "      <td>1</td>\n",
       "      <td>0</td>\n",
       "    </tr>\n",
       "    <tr>\n",
       "      <th>9979</th>\n",
       "      <td>25350</td>\n",
       "      <td>2019</td>\n",
       "      <td>13398</td>\n",
       "      <td>4</td>\n",
       "      <td>0</td>\n",
       "      <td>1</td>\n",
       "    </tr>\n",
       "  </tbody>\n",
       "</table>\n",
       "<p>9481 rows × 6 columns</p>\n",
       "</div>"
      ],
      "text/plain": [
       "      Price  Year  Running KM  Brand  Fuel  Transmission\n",
       "0     26925  2018        8015      6     2             0\n",
       "2     26725  2020       24308      9     2             1\n",
       "3     26400  2019       10849      1     2             0\n",
       "4     26375  2018       21716      1     2             0\n",
       "5     26275  2018        8865      1     2             0\n",
       "...     ...   ...         ...    ...   ...           ...\n",
       "9975  25500  2020       11605      5     2             0\n",
       "9976  25500  2020        8307      3     2             0\n",
       "9977  25425  2019        2743      4     2             0\n",
       "9978  25425  2020       11250      5     1             0\n",
       "9979  25350  2019       13398      4     0             1\n",
       "\n",
       "[9481 rows x 6 columns]"
      ]
     },
     "execution_count": 34,
     "metadata": {},
     "output_type": "execute_result"
    }
   ],
   "source": [
    "df_new"
   ]
  },
  {
   "cell_type": "code",
   "execution_count": 35,
   "id": "9e8f73ce",
   "metadata": {},
   "outputs": [],
   "source": [
    "# Splitting X and Y values.\n",
    "\n",
    "x = df_new.drop(columns = ['Price'], axis = 1)\n",
    "y = df_new['Price']"
   ]
  },
  {
   "cell_type": "code",
   "execution_count": 37,
   "id": "42d14baa",
   "metadata": {},
   "outputs": [],
   "source": [
    "#Scaling the data for normalize the range of values to 0-1.\n",
    "from sklearn.preprocessing import StandardScaler\n",
    "scaler = StandardScaler()\n",
    "x_sc = scaler.fit_transform(x)"
   ]
  },
  {
   "cell_type": "markdown",
   "id": "47c702ca",
   "metadata": {},
   "source": [
    "# Model Building :"
   ]
  },
  {
   "cell_type": "code",
   "execution_count": 40,
   "id": "153bf46a",
   "metadata": {},
   "outputs": [],
   "source": [
    "from sklearn.model_selection import train_test_split, cross_val_score, RandomizedSearchCV\n",
    "from sklearn.metrics import r2_score,mean_squared_error\n",
    "from sklearn.ensemble import RandomForestRegressor\n",
    "from sklearn.neighbors import KNeighborsRegressor\n",
    "from sklearn.ensemble import GradientBoostingRegressor \n",
    "from sklearn.ensemble import AdaBoostRegressor "
   ]
  },
  {
   "cell_type": "code",
   "execution_count": 39,
   "id": "2b27d569",
   "metadata": {},
   "outputs": [],
   "source": [
    "# Train test Split\n",
    "\n",
    "x_train,x_test,y_train,y_test = train_test_split(x_sc,y, test_size = 0.20, random_state = 555)"
   ]
  },
  {
   "cell_type": "code",
   "execution_count": 41,
   "id": "84d7be18",
   "metadata": {},
   "outputs": [
    {
     "name": "stdout",
     "output_type": "stream",
     "text": [
      "r2_Score 1.0\n",
      "CV Score 1.0\n",
      "MSE 0.0\n",
      "RMSE 0.0\n",
      "Train Score 1.0\n",
      "Test Score 1.0\n"
     ]
    }
   ],
   "source": [
    "#RandomForestRegressor Algorithm\n",
    "rfr = RandomForestRegressor()\n",
    "rfr.fit(x_train,y_train)\n",
    "y_pred = rfr.predict(x_test)\n",
    "scr_rfr = cross_val_score(rfr,x,y,cv=5)\n",
    "\n",
    "print(\"r2_Score\", r2_score(y_test,y_pred))\n",
    "print(\"CV Score\", scr_rfr.mean())\n",
    "print(\"MSE\",mean_squared_error(y_test,y_pred))\n",
    "print(\"RMSE\",np.sqrt(mean_squared_error(y_test,y_pred)))\n",
    "print(\"Train Score\", rfr.score(x_train,y_train))\n",
    "print(\"Test Score\", rfr.score(x_test,y_test))"
   ]
  },
  {
   "cell_type": "code",
   "execution_count": 42,
   "id": "3e15dd92",
   "metadata": {},
   "outputs": [
    {
     "data": {
      "image/png": "[encoded data removed]",
      "text/plain": [
       "<Figure size 432x288 with 1 Axes>"
      ]
     },
     "metadata": {},
     "output_type": "display_data"
    }
   ],
   "source": [
    "plt.scatter(y_test,y_pred, color = 'green')      #Scatter Matrix for Actual VS predicted for the model\n",
    "plt.xlabel(\"Actual\")\n",
    "plt.ylabel(\"predicted\")\n",
    "plt.show()"
   ]
  },
  {
   "cell_type": "code",
   "execution_count": 43,
   "id": "7e39c9cb",
   "metadata": {},
   "outputs": [
    {
     "name": "stdout",
     "output_type": "stream",
     "text": [
      "r2_Score 1.0\n",
      "CV Score 1.0\n",
      "MSE 0.0\n",
      "RMSE 0.0\n",
      "Train Score 1.0\n",
      "Test Score 1.0\n"
     ]
    }
   ],
   "source": [
    "#KNeighborsRegressor Algorithm\n",
    "\n",
    "from sklearn.neighbors import KNeighborsRegressor\n",
    "\n",
    "knr = KNeighborsRegressor(n_neighbors = 5)\n",
    "knr.fit(x_train,y_train)\n",
    "y_pred = knr.predict(x_test)\n",
    "scr_knr = cross_val_score(knr,x,y,cv=5)\n",
    "\n",
    "print(\"r2_Score\", r2_score(y_test,y_pred))\n",
    "print(\"CV Score\", scr_knr.mean())\n",
    "print(\"MSE\",mean_squared_error(y_test,y_pred))\n",
    "print(\"RMSE\",np.sqrt(mean_squared_error(y_test,y_pred)))\n",
    "print(\"Train Score\", knr.score(x_train,y_train))\n",
    "print(\"Test Score\", knr.score(x_test,y_test))"
   ]
  },
  {
   "cell_type": "code",
   "execution_count": 44,
   "id": "92b93a25",
   "metadata": {},
   "outputs": [
    {
     "data": {
      "image/png": "[encoded data removed]",
      "text/plain": [
       "<Figure size 432x288 with 1 Axes>"
      ]
     },
     "metadata": {},
     "output_type": "display_data"
    }
   ],
   "source": [
    "plt.scatter(y_test,y_pred, color = 'green')      #Scatter Matrix for Actual VS predicted for the model\n",
    "plt.xlabel(\"Actual\")\n",
    "plt.ylabel(\"predicted\")\n",
    "plt.show()"
   ]
  },
  {
   "cell_type": "code",
   "execution_count": 45,
   "id": "e89b374b",
   "metadata": {},
   "outputs": [
    {
     "name": "stdout",
     "output_type": "stream",
     "text": [
      "r2_Score 0.9999286076335294\n",
      "CV Score 0.9999472023945735\n",
      "MSE 15.300643656442613\n",
      "RMSE 3.9116037192490003\n",
      "Train Score 0.9999295765220567\n",
      "Test Score 0.9999286076335294\n"
     ]
    }
   ],
   "source": [
    "#GradientBoostRegressor Algorithm\n",
    "\n",
    "from sklearn.ensemble import GradientBoostingRegressor \n",
    "gbr = GradientBoostingRegressor()\n",
    "gbr.fit(x_train, y_train)\n",
    "y_pred = gbr.predict(x_test)\n",
    "scr_gbr = cross_val_score(gbr,x,y,cv=5)\n",
    "\n",
    "print(\"r2_Score\", r2_score(y_test,y_pred))\n",
    "print(\"CV Score\", scr_gbr.mean())\n",
    "print(\"MSE\",mean_squared_error(y_test,y_pred))\n",
    "print(\"RMSE\",np.sqrt(mean_squared_error(y_test,y_pred)))\n",
    "print(\"Train Score\", gbr.score(x_train,y_train))\n",
    "print(\"Test Score\", gbr.score(x_test,y_test))"
   ]
  },
  {
   "cell_type": "code",
   "execution_count": 46,
   "id": "b079b91d",
   "metadata": {},
   "outputs": [
    {
     "data": {
      "image/png": "[encoded data removed]",
      "text/plain": [
       "<Figure size 432x288 with 1 Axes>"
      ]
     },
     "metadata": {},
     "output_type": "display_data"
    }
   ],
   "source": [
    "plt.scatter(y_test,y_pred, color = 'green')      #Scatter Matrix for Actual VS predicted for the model\n",
    "plt.xlabel(\"Actual\")\n",
    "plt.ylabel(\"predicted\")\n",
    "plt.show()"
   ]
  },
  {
   "cell_type": "code",
   "execution_count": 48,
   "id": "e8fd395a",
   "metadata": {},
   "outputs": [
    {
     "name": "stdout",
     "output_type": "stream",
     "text": [
      "r2_Score 0.9746734852134424\n",
      "CV Score 0.9785465097759065\n",
      "MSE 5427.9189353970005\n",
      "RMSE 73.67441167323292\n",
      "Train Score 0.9731772877362009\n",
      "Test Score 0.9746734852134424\n"
     ]
    }
   ],
   "source": [
    "# AdaBoostRegressor Algorithm\n",
    "\n",
    "from sklearn.ensemble import AdaBoostRegressor \n",
    "abr = AdaBoostRegressor()\n",
    "abr.fit(x_train, y_train)\n",
    "y_pred = abr.predict(x_test)\n",
    "scr_abr = cross_val_score(abr,x,y,cv=5)\n",
    "\n",
    "print(\"r2_Score\", r2_score(y_test,y_pred))\n",
    "print(\"CV Score\", scr_abr.mean())\n",
    "print(\"MSE\",mean_squared_error(y_test,y_pred))\n",
    "print(\"RMSE\",np.sqrt(mean_squared_error(y_test,y_pred)))\n",
    "print(\"Train Score\", abr.score(x_train,y_train))\n",
    "print(\"Test Score\", abr.score(x_test,y_test))"
   ]
  },
  {
   "cell_type": "code",
   "execution_count": 49,
   "id": "17d43a7a",
   "metadata": {},
   "outputs": [
    {
     "data": {
      "image/png": "[encoded data removed]",
      "text/plain": [
       "<Figure size 432x288 with 1 Axes>"
      ]
     },
     "metadata": {},
     "output_type": "display_data"
    }
   ],
   "source": [
    "plt.scatter(y_test,y_pred, color = 'green')      #Scatter Matrix for Actual VS predicted for the model\n",
    "plt.xlabel(\"Actual\")\n",
    "plt.ylabel(\"predicted\")\n",
    "plt.show()"
   ]
  },
  {
   "cell_type": "markdown",
   "id": "37989f3e",
   "metadata": {},
   "source": [
    "As we can see that random forest and KNeighbors are having high accuracy of 100%.\n",
    "\n",
    "Let's apply hyper parameter tuning for RANDOM FOREST Model."
   ]
  },
  {
   "cell_type": "markdown",
   "id": "9241b264",
   "metadata": {},
   "source": [
    "# Hyperparameter Tuning :"
   ]
  },
  {
   "cell_type": "code",
   "execution_count": 52,
   "id": "be681a5c",
   "metadata": {},
   "outputs": [],
   "source": [
    "from sklearn.model_selection import GridSearchCV"
   ]
  },
  {
   "cell_type": "code",
   "execution_count": 50,
   "id": "6ce3995a",
   "metadata": {},
   "outputs": [],
   "source": [
    "#Creating parameter list to pass in GridSearchCV\n",
    "parameters={'criterion':['mse','mae'],\n",
    "            'n_estimators':[40,60,80,100],\n",
    "            'max_features':['auto','sqrt','log2']}"
   ]
  },
  {
   "cell_type": "code",
   "execution_count": 53,
   "id": "8e0142ab",
   "metadata": {},
   "outputs": [
    {
     "name": "stdout",
     "output_type": "stream",
     "text": [
      "{'criterion': 'mse', 'max_features': 'auto', 'n_estimators': 40}\n",
      "1.0\n"
     ]
    }
   ],
   "source": [
    "#Using GridSearchCV to run the parameters and checking final accuracy\n",
    "rfr=RandomForestRegressor()\n",
    "grid=GridSearchCV(rfr,parameters,cv=5,scoring='r2')\n",
    "grid.fit(x_train,y_train)\n",
    "print(grid.best_params_) #Printing the best parameters obtained\n",
    "print(grid.best_score_) #Mean cross-validated score of best_estimator"
   ]
  },
  {
   "cell_type": "code",
   "execution_count": 59,
   "id": "d055457e",
   "metadata": {},
   "outputs": [
    {
     "name": "stdout",
     "output_type": "stream",
     "text": [
      "r2_score:  1.0\n"
     ]
    }
   ],
   "source": [
    "#Using the best parameters obtained\n",
    "RF=RandomForestRegressor(random_state=48, n_estimators=40, criterion='mse', max_features='auto')\n",
    "RF.fit(x_train,y_train)\n",
    "pred=RF.predict(x_test)\n",
    "print('r2_score: ',r2_score(y_test,pred))"
   ]
  },
  {
   "cell_type": "code",
   "execution_count": 60,
   "id": "1e111eb2",
   "metadata": {},
   "outputs": [
    {
     "data": {
      "image/png": "[encoded data removed]",
      "text/plain": [
       "<Figure size 432x288 with 1 Axes>"
      ]
     },
     "metadata": {},
     "output_type": "display_data"
    }
   ],
   "source": [
    "plt.scatter(y_test,pred, color = 'red')      #Scatter Matrix for Actual VS predicted for the model\n",
    "plt.xlabel(\"Actual\")\n",
    "plt.ylabel(\"predicted\")\n",
    "plt.show()"
   ]
  },
  {
   "cell_type": "markdown",
   "id": "d969706f",
   "metadata": {},
   "source": [
    "# Finalizing the model :"
   ]
  },
  {
   "cell_type": "code",
   "execution_count": 61,
   "id": "0dfb1dd2",
   "metadata": {},
   "outputs": [
    {
     "name": "stdout",
     "output_type": "stream",
     "text": [
      "Predictions of Random Forest Regressor:  [26458.75 26725.   26925.   ... 26458.75 26458.75 26725.  ]\n"
     ]
    }
   ],
   "source": [
    "rf_prediction=RF.predict(x)\n",
    "print('Predictions of Random Forest Regressor: ',rf_prediction)"
   ]
  },
  {
   "cell_type": "code",
   "execution_count": 62,
   "id": "df5b00e5",
   "metadata": {},
   "outputs": [
    {
     "data": {
      "text/html": [
       "<div>\n",
       "<style scoped>\n",
       "    .dataframe tbody tr th:only-of-type {\n",
       "        vertical-align: middle;\n",
       "    }\n",
       "\n",
       "    .dataframe tbody tr th {\n",
       "        vertical-align: top;\n",
       "    }\n",
       "\n",
       "    .dataframe thead th {\n",
       "        text-align: right;\n",
       "    }\n",
       "</style>\n",
       "<table border=\"1\" class=\"dataframe\">\n",
       "  <thead>\n",
       "    <tr style=\"text-align: right;\">\n",
       "      <th></th>\n",
       "      <th>Original_price</th>\n",
       "      <th>Predicted_price</th>\n",
       "    </tr>\n",
       "  </thead>\n",
       "  <tbody>\n",
       "    <tr>\n",
       "      <th>0</th>\n",
       "      <td>26925</td>\n",
       "      <td>26458.75</td>\n",
       "    </tr>\n",
       "    <tr>\n",
       "      <th>2</th>\n",
       "      <td>26725</td>\n",
       "      <td>26725.00</td>\n",
       "    </tr>\n",
       "    <tr>\n",
       "      <th>3</th>\n",
       "      <td>26400</td>\n",
       "      <td>26925.00</td>\n",
       "    </tr>\n",
       "    <tr>\n",
       "      <th>4</th>\n",
       "      <td>26375</td>\n",
       "      <td>26925.00</td>\n",
       "    </tr>\n",
       "    <tr>\n",
       "      <th>5</th>\n",
       "      <td>26275</td>\n",
       "      <td>26925.00</td>\n",
       "    </tr>\n",
       "    <tr>\n",
       "      <th>...</th>\n",
       "      <td>...</td>\n",
       "      <td>...</td>\n",
       "    </tr>\n",
       "    <tr>\n",
       "      <th>9975</th>\n",
       "      <td>25500</td>\n",
       "      <td>26458.75</td>\n",
       "    </tr>\n",
       "    <tr>\n",
       "      <th>9976</th>\n",
       "      <td>25500</td>\n",
       "      <td>26458.75</td>\n",
       "    </tr>\n",
       "    <tr>\n",
       "      <th>9977</th>\n",
       "      <td>25425</td>\n",
       "      <td>26458.75</td>\n",
       "    </tr>\n",
       "    <tr>\n",
       "      <th>9978</th>\n",
       "      <td>25425</td>\n",
       "      <td>26458.75</td>\n",
       "    </tr>\n",
       "    <tr>\n",
       "      <th>9979</th>\n",
       "      <td>25350</td>\n",
       "      <td>26725.00</td>\n",
       "    </tr>\n",
       "  </tbody>\n",
       "</table>\n",
       "<p>9481 rows × 2 columns</p>\n",
       "</div>"
      ],
      "text/plain": [
       "      Original_price  Predicted_price\n",
       "0              26925         26458.75\n",
       "2              26725         26725.00\n",
       "3              26400         26925.00\n",
       "4              26375         26925.00\n",
       "5              26275         26925.00\n",
       "...              ...              ...\n",
       "9975           25500         26458.75\n",
       "9976           25500         26458.75\n",
       "9977           25425         26458.75\n",
       "9978           25425         26458.75\n",
       "9979           25350         26725.00\n",
       "\n",
       "[9481 rows x 2 columns]"
      ]
     },
     "execution_count": 62,
     "metadata": {},
     "output_type": "execute_result"
    }
   ],
   "source": [
    "#Comparing actual and predicted values with the help of a dataframe\n",
    "predictions=pd.DataFrame({'Original_price':y, 'Predicted_price':rf_prediction})\n",
    "predictions"
   ]
  },
  {
   "cell_type": "markdown",
   "id": "6e954f52",
   "metadata": {},
   "source": [
    "# Saving the model :"
   ]
  },
  {
   "cell_type": "code",
   "execution_count": 65,
   "id": "b861d28e",
   "metadata": {},
   "outputs": [
    {
     "data": {
      "text/plain": [
       "['UsedCar_Price.pkl']"
      ]
     },
     "execution_count": 65,
     "metadata": {},
     "output_type": "execute_result"
    }
   ],
   "source": [
    "# Saving the model\n",
    "\n",
    "import joblib\n",
    "joblib.dump(RF,\"UsedCar_Price.pkl\")"
   ]
  },
  {
   "cell_type": "code",
   "execution_count": null,
   "id": "8e3446df",
   "metadata": {},
   "outputs": [],
   "source": []
  }
 ],
 "metadata": {
  "kernelspec": {
   "display_name": "Python 3",
   "language": "python",
   "name": "python3"
  },
  "language_info": {
   "codemirror_mode": {
    "name": "ipython",
    "version": 3
   },
   "file_extension": ".py",
   "mimetype": "text/x-python",
   "name": "python",
   "nbconvert_exporter": "python",
   "pygments_lexer": "ipython3",
   "version": "3.8.8"
  }
 },
 "nbformat": 4,
 "nbformat_minor": 5
}
